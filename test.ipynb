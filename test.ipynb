{
 "cells": [
  {
   "cell_type": "code",
   "execution_count": 1,
   "metadata": {},
   "outputs": [
    {
     "name": "stdout",
     "output_type": "stream",
     "text": [
      "# packages in environment at /data/chx/anaconda3/envs/HunyuanVideo:\n",
      "#\n",
      "# Name                    Version                   Build  Channel\n",
      "_libgcc_mutex             0.1                        main    https://repo.anaconda.com/pkgs/main\n",
      "_openmp_mutex             5.1                       1_gnu    https://repo.anaconda.com/pkgs/main\n",
      "accelerate                1.1.1                    pypi_0    pypi\n",
      "aiofiles                  23.2.1                   pypi_0    pypi\n",
      "annotated-types           0.7.0                    pypi_0    pypi\n",
      "anyio                     4.7.0                    pypi_0    pypi\n",
      "asttokens                 3.0.0              pyhd8ed1ab_1    conda-forge\n",
      "beautifulsoup4            4.12.3                   pypi_0    pypi\n",
      "bitsandbytes              0.45.0                   pypi_0    pypi\n",
      "blinker                   1.9.0                    pypi_0    pypi\n",
      "bzip2                     1.0.8                h5eee18b_6    https://repo.anaconda.com/pkgs/main\n",
      "ca-certificates           2024.12.14           hbcca054_0    conda-forge\n",
      "certifi                   2024.12.14               pypi_0    pypi\n",
      "charset-normalizer        3.4.1                    pypi_0    pypi\n",
      "click                     8.1.8                    pypi_0    pypi\n",
      "comm                      0.2.2              pyhd8ed1ab_1    conda-forge\n",
      "cuda-cudart               11.8.89                       0    nvidia\n",
      "cuda-cupti                11.8.87                       0    nvidia\n",
      "cuda-libraries            11.8.0                        0    nvidia\n",
      "cuda-nvrtc                11.8.89                       0    nvidia\n",
      "cuda-nvtx                 11.8.86                       0    nvidia\n",
      "cuda-runtime              11.8.0                        0    nvidia\n",
      "cuda-version              12.6                          3    nvidia\n",
      "debugpy                   1.6.7           py310h6a678d5_0    defaults\n",
      "decorator                 5.1.1              pyhd8ed1ab_1    conda-forge\n",
      "diffusers                 0.32.1                   pypi_0    pypi\n",
      "distvae                   0.0.0b4                  pypi_0    pypi\n",
      "einops                    0.7.0                    pypi_0    pypi\n",
      "entrypoints               0.4                pyhd8ed1ab_1    conda-forge\n",
      "exceptiongroup            1.2.2              pyhd8ed1ab_1    conda-forge\n",
      "executing                 2.1.0              pyhd8ed1ab_1    conda-forge\n",
      "fastapi                   0.115.6                  pypi_0    pypi\n",
      "ffmpy                     0.5.0                    pypi_0    pypi\n",
      "filelock                  3.16.1                   pypi_0    pypi\n",
      "flash-attn                2.7.2.post1              pypi_0    pypi\n",
      "flask                     3.1.0                    pypi_0    pypi\n",
      "fsspec                    2024.12.0                pypi_0    pypi\n",
      "gradio                    5.0.0                    pypi_0    pypi\n",
      "gradio-client             1.4.0                    pypi_0    pypi\n",
      "h11                       0.14.0                   pypi_0    pypi\n",
      "httpcore                  1.0.7                    pypi_0    pypi\n",
      "httpx                     0.28.1                   pypi_0    pypi\n",
      "huggingface-hub           0.27.0                   pypi_0    pypi\n",
      "idna                      3.10                     pypi_0    pypi\n",
      "imageio                   2.34.0                   pypi_0    pypi\n",
      "imageio-ffmpeg            0.5.1                    pypi_0    pypi\n",
      "importlib-metadata        8.5.0                    pypi_0    pypi\n",
      "iniconfig                 2.0.0                    pypi_0    pypi\n",
      "ipykernel                 6.29.5             pyh3099207_0    conda-forge\n",
      "ipython                   8.31.0             pyh707e725_0    conda-forge\n",
      "itsdangerous              2.2.0                    pypi_0    pypi\n",
      "jedi                      0.19.2             pyhd8ed1ab_1    conda-forge\n",
      "jinja2                    3.1.5                    pypi_0    pypi\n",
      "jupyter_client            7.3.4              pyhd8ed1ab_0    conda-forge\n",
      "jupyter_core              5.7.2              pyh31011fe_1    conda-forge\n",
      "ld_impl_linux-64          2.40                 h12ee557_0    https://repo.anaconda.com/pkgs/main\n",
      "libcublas                 11.11.3.6                     0    nvidia\n",
      "libcufft                  10.9.0.58                     0    nvidia\n",
      "libcufile                 1.11.1.6                      0    nvidia\n",
      "libcurand                 10.3.7.77                     0    nvidia\n",
      "libcusolver               11.4.1.48                     0    nvidia\n",
      "libcusparse               11.7.5.86                     0    nvidia\n",
      "libffi                    3.4.4                h6a678d5_1    https://repo.anaconda.com/pkgs/main\n",
      "libgcc-ng                 11.2.0               h1234567_1    https://repo.anaconda.com/pkgs/main\n",
      "libgomp                   11.2.0               h1234567_1    https://repo.anaconda.com/pkgs/main\n",
      "libnpp                    11.8.0.86                     0    nvidia\n",
      "libnvjpeg                 11.9.0.86                     0    nvidia\n",
      "libsodium                 1.0.18               h36c2ea0_1    conda-forge\n",
      "libstdcxx-ng              11.2.0               h1234567_1    https://repo.anaconda.com/pkgs/main\n",
      "libuuid                   1.41.5               h5eee18b_0    https://repo.anaconda.com/pkgs/main\n",
      "loguru                    0.7.2                    pypi_0    pypi\n",
      "markdown-it-py            3.0.0                    pypi_0    pypi\n",
      "markupsafe                2.1.5                    pypi_0    pypi\n",
      "matplotlib-inline         0.1.7              pyhd8ed1ab_1    conda-forge\n",
      "mdurl                     0.1.2                    pypi_0    pypi\n",
      "mpmath                    1.3.0                    pypi_0    pypi\n",
      "ncurses                   6.4                  h6a678d5_0    https://repo.anaconda.com/pkgs/main\n",
      "nest-asyncio              1.6.0              pyhd8ed1ab_1    conda-forge\n",
      "networkx                  3.4.2                    pypi_0    pypi\n",
      "ninja                     1.11.1.3                 pypi_0    pypi\n",
      "numpy                     1.24.4                   pypi_0    pypi\n",
      "nvidia-cublas-cu12        12.1.3.1                 pypi_0    pypi\n",
      "nvidia-cuda-cupti-cu12    12.1.105                 pypi_0    pypi\n",
      "nvidia-cuda-nvrtc-cu12    12.1.105                 pypi_0    pypi\n",
      "nvidia-cuda-runtime-cu12  12.1.105                 pypi_0    pypi\n",
      "nvidia-cudnn-cu12         9.1.0.70                 pypi_0    pypi\n",
      "nvidia-cufft-cu12         11.0.2.54                pypi_0    pypi\n",
      "nvidia-curand-cu12        10.3.2.106               pypi_0    pypi\n",
      "nvidia-cusolver-cu12      11.4.5.107               pypi_0    pypi\n",
      "nvidia-cusparse-cu12      12.1.0.106               pypi_0    pypi\n",
      "nvidia-nccl-cu12          2.20.5                   pypi_0    pypi\n",
      "nvidia-nvjitlink-cu12     12.6.85                  pypi_0    pypi\n",
      "nvidia-nvtx-cu12          12.1.105                 pypi_0    pypi\n",
      "opencv-python             4.9.0.80                 pypi_0    pypi\n",
      "openssl                   1.1.1w               h7f8727e_0    https://repo.anaconda.com/pkgs/main\n",
      "optimum-quanto            0.2.6                    pypi_0    pypi\n",
      "orjson                    3.10.13                  pypi_0    pypi\n",
      "packaging                 24.2               pyhd8ed1ab_2    conda-forge\n",
      "pandas                    2.0.3                    pypi_0    pypi\n",
      "parso                     0.8.4              pyhd8ed1ab_1    conda-forge\n",
      "pexpect                   4.9.0              pyhd8ed1ab_1    conda-forge\n",
      "pickleshare               0.7.5           pyhd8ed1ab_1004    conda-forge\n",
      "pillow                    10.4.0                   pypi_0    pypi\n",
      "pip                       24.2            py310h06a4308_0    https://repo.anaconda.com/pkgs/main\n",
      "platformdirs              4.3.6              pyhd8ed1ab_1    conda-forge\n",
      "pluggy                    1.5.0                    pypi_0    pypi\n",
      "prompt-toolkit            3.0.48             pyha770c72_1    conda-forge\n",
      "psutil                    6.1.1                    pypi_0    pypi\n",
      "ptyprocess                0.7.0              pyhd8ed1ab_1    conda-forge\n",
      "pure_eval                 0.2.3              pyhd8ed1ab_1    conda-forge\n",
      "pydantic                  2.10.4                   pypi_0    pypi\n",
      "pydantic-core             2.27.2                   pypi_0    pypi\n",
      "pydub                     0.25.1                   pypi_0    pypi\n",
      "pygments                  2.18.0             pyhd8ed1ab_1    conda-forge\n",
      "pytest                    8.3.4                    pypi_0    pypi\n",
      "python                    3.10.9               h7a1cb2a_2    https://repo.anaconda.com/pkgs/main\n",
      "python-dateutil           2.9.0.post0        pyhff2d567_1    conda-forge\n",
      "python-multipart          0.0.20                   pypi_0    pypi\n",
      "python_abi                3.10                    2_cp310    conda-forge\n",
      "pytorch-cuda              11.8                 h7e8668a_6    pytorch\n",
      "pytz                      2024.2                   pypi_0    pypi\n",
      "pyyaml                    6.0.2                    pypi_0    pypi\n",
      "pyzmq                     26.2.0          py310h6a678d5_0    defaults\n",
      "readline                  8.2                  h5eee18b_0    https://repo.anaconda.com/pkgs/main\n",
      "regex                     2024.11.6                pypi_0    pypi\n",
      "requests                  2.32.3                   pypi_0    pypi\n",
      "rich                      13.9.4                   pypi_0    pypi\n",
      "ruff                      0.8.4                    pypi_0    pypi\n",
      "safetensors               0.4.3                    pypi_0    pypi\n",
      "semantic-version          2.10.0                   pypi_0    pypi\n",
      "sentencepiece             0.2.0                    pypi_0    pypi\n",
      "setuptools                75.1.0          py310h06a4308_0    https://repo.anaconda.com/pkgs/main\n",
      "shellingham               1.5.4                    pypi_0    pypi\n",
      "six                       1.17.0             pyhd8ed1ab_0    conda-forge\n",
      "sniffio                   1.3.1                    pypi_0    pypi\n",
      "soupsieve                 2.6                      pypi_0    pypi\n",
      "sqlite                    3.45.3               h5eee18b_0    https://repo.anaconda.com/pkgs/main\n",
      "stack_data                0.6.3              pyhd8ed1ab_1    conda-forge\n",
      "starlette                 0.41.3                   pypi_0    pypi\n",
      "sympy                     1.13.3                   pypi_0    pypi\n",
      "tk                        8.6.14               h39e8969_0    https://repo.anaconda.com/pkgs/main\n",
      "tokenizers                0.20.3                   pypi_0    pypi\n",
      "tomli                     2.2.1                    pypi_0    pypi\n",
      "tomlkit                   0.12.0                   pypi_0    pypi\n",
      "torch                     2.4.0                    pypi_0    pypi\n",
      "torchaudio                2.4.0                    pypi_0    pypi\n",
      "torchvision               0.19.0                   pypi_0    pypi\n",
      "tornado                   6.1             py310h5764c6d_3    conda-forge\n",
      "tqdm                      4.66.2                   pypi_0    pypi\n",
      "traitlets                 5.14.3             pyhd8ed1ab_1    conda-forge\n",
      "transformers              4.46.3                   pypi_0    pypi\n",
      "triton                    3.0.0                    pypi_0    pypi\n",
      "typer                     0.15.1                   pypi_0    pypi\n",
      "typing_extensions         4.12.2             pyha770c72_1    conda-forge\n",
      "tzdata                    2024.2                   pypi_0    pypi\n",
      "urllib3                   2.3.0                    pypi_0    pypi\n",
      "uvicorn                   0.34.0                   pypi_0    pypi\n",
      "wcwidth                   0.2.13             pyhd8ed1ab_1    conda-forge\n",
      "websockets                12.0                     pypi_0    pypi\n",
      "werkzeug                  3.1.3                    pypi_0    pypi\n",
      "wheel                     0.44.0          py310h06a4308_0    https://repo.anaconda.com/pkgs/main\n",
      "xfuser                    0.4.0                    pypi_0    pypi\n",
      "xz                        5.4.6                h5eee18b_1    https://repo.anaconda.com/pkgs/main\n",
      "yunchang                  0.4.2                    pypi_0    pypi\n",
      "zeromq                    4.3.5                h6a678d5_0    defaults\n",
      "zipp                      3.21.0                   pypi_0    pypi\n",
      "zlib                      1.2.13               h5eee18b_1    https://repo.anaconda.com/pkgs/main\n",
      "\n",
      "Note: you may need to restart the kernel to use updated packages.\n"
     ]
    }
   ],
   "source": [
    "%conda list"
   ]
  },
  {
   "cell_type": "code",
   "execution_count": 1,
   "metadata": {},
   "outputs": [
    {
     "name": "stderr",
     "output_type": "stream",
     "text": [
      "/data/chx/anaconda3/envs/HunyuanVideo/lib/python3.10/site-packages/tqdm/auto.py:21: TqdmWarning: IProgress not found. Please update jupyter and ipywidgets. See https://ipywidgets.readthedocs.io/en/stable/user_install.html\n",
      "  from .autonotebook import tqdm as notebook_tqdm\n",
      "\u001b[32m2025-01-22 21:38:50.615\u001b[0m | \u001b[1mINFO    \u001b[0m | \u001b[36mhyvideo.inference\u001b[0m:\u001b[36mfrom_pretrained\u001b[0m:\u001b[36m155\u001b[0m - \u001b[1mGot text-to-video model root path: ckpts\u001b[0m\n",
      "\u001b[32m2025-01-22 21:38:50.618\u001b[0m | \u001b[1mINFO    \u001b[0m | \u001b[36mhyvideo.inference\u001b[0m:\u001b[36mfrom_pretrained\u001b[0m:\u001b[36m190\u001b[0m - \u001b[1mBuilding model...\u001b[0m\n"
     ]
    },
    {
     "name": "stdout",
     "output_type": "stream",
     "text": [
      "{'apply_final_norm': False,\n",
      " 'batch_size': 1,\n",
      " 'cfg_scale': 1.0,\n",
      " 'denoise_type': 'flow',\n",
      " 'disable_autocast': False,\n",
      " 'dit_weight': '/home/chx/mySrc/HunyuanVideo/ckpts/hunyuan-video-t2v-720p/transformers/mp_rank_00_model_states_fp8.pt',\n",
      " 'embedded_cfg_scale': 2.0,\n",
      " 'flow_reverse': True,\n",
      " 'flow_shift': 7.0,\n",
      " 'flow_solver': 'euler',\n",
      " 'hidden_state_skip_layer': 2,\n",
      " 'infer_steps': 30,\n",
      " 'inverse_video_path': '/home/chx/mySrc/HunyuanVideo/results/cat25.mp4',\n",
      " 'latent_channels': 16,\n",
      " 'linear_schedule_end': 25,\n",
      " 'load_key': 'module',\n",
      " 'model': 'HYVideo-T/2-cfgdistill',\n",
      " 'model_base': 'ckpts',\n",
      " 'model_resolution': '540p',\n",
      " 'name_suffix': '',\n",
      " 'neg_prompt': None,\n",
      " 'num_videos': 1,\n",
      " 'precision': 'bf16',\n",
      " 'prompt': 'A cat walks on the grass, realistic style.',\n",
      " 'prompt_template': 'dit-llm-encode',\n",
      " 'prompt_template_video': 'dit-llm-encode-video',\n",
      " 'reproduce': False,\n",
      " 'ring_degree': 1,\n",
      " 'rope_theta': 256,\n",
      " 'save_path': './results',\n",
      " 'save_path_suffix': '',\n",
      " 'seed': 42,\n",
      " 'seed_type': 'auto',\n",
      " 'target_prompt': 'A cat walks on the grass, realistic style.',\n",
      " 'text_encoder': 'llm',\n",
      " 'text_encoder_2': 'clipL',\n",
      " 'text_encoder_precision': 'fp16',\n",
      " 'text_encoder_precision_2': 'fp16',\n",
      " 'text_len': 256,\n",
      " 'text_len_2': 77,\n",
      " 'text_states_dim': 4096,\n",
      " 'text_states_dim_2': 768,\n",
      " 'tokenizer': 'llm',\n",
      " 'tokenizer_2': 'clipL',\n",
      " 'ulysses_degree': 1,\n",
      " 'use_cpu_offload': True,\n",
      " 'use_fp8': True,\n",
      " 'use_linear_quadratic_schedule': False,\n",
      " 'vae': '884-16c-hy',\n",
      " 'vae_precision': 'fp16',\n",
      " 'vae_tiling': True,\n",
      " 'video_length': 25,\n",
      " 'video_size': [512, 512]}\n",
      "cuda\n"
     ]
    },
    {
     "name": "stderr",
     "output_type": "stream",
     "text": [
      "/home/chx/mySrc/HunyuanVideo/hyvideo/modules/fp8_optimization.py:88: FutureWarning: You are using `torch.load` with `weights_only=False` (the current default value), which uses the default pickle module implicitly. It is possible to construct malicious pickle data which will execute arbitrary code during unpickling (See https://github.com/pytorch/pytorch/blob/main/SECURITY.md#untrusted-models for more details). In a future release, the default value for `weights_only` will be flipped to `True`. This limits the functions that could be executed during unpickling. Arbitrary objects will no longer be allowed to be loaded via this mode unless they are explicitly allowlisted by the user via `torch.serialization.add_safe_globals`. We recommend you start setting `weights_only=True` for any use case where you don't have full control of the loaded file. Please open an issue on GitHub for any issues related to this experimental feature.\n",
      "  fp8_map = torch.load(fp8_map_path, map_location=lambda storage, loc: storage)\n",
      "\u001b[32m2025-01-22 21:41:16.643\u001b[0m | \u001b[1mINFO    \u001b[0m | \u001b[36mhyvideo.inference\u001b[0m:\u001b[36mload_state_dict\u001b[0m:\u001b[36m345\u001b[0m - \u001b[1mLoading torch model /home/chx/mySrc/HunyuanVideo/ckpts/hunyuan-video-t2v-720p/transformers/mp_rank_00_model_states_fp8.pt...\u001b[0m\n",
      "/home/chx/mySrc/HunyuanVideo/hyvideo/inference.py:346: FutureWarning: You are using `torch.load` with `weights_only=False` (the current default value), which uses the default pickle module implicitly. It is possible to construct malicious pickle data which will execute arbitrary code during unpickling (See https://github.com/pytorch/pytorch/blob/main/SECURITY.md#untrusted-models for more details). In a future release, the default value for `weights_only` will be flipped to `True`. This limits the functions that could be executed during unpickling. Arbitrary objects will no longer be allowed to be loaded via this mode unless they are explicitly allowlisted by the user via `torch.serialization.add_safe_globals`. We recommend you start setting `weights_only=True` for any use case where you don't have full control of the loaded file. Please open an issue on GitHub for any issues related to this experimental feature.\n",
      "  state_dict = torch.load(model_path, map_location=lambda storage, loc: storage)\n",
      "\u001b[32m2025-01-22 21:41:25.639\u001b[0m | \u001b[1mINFO    \u001b[0m | \u001b[36mhyvideo.vae\u001b[0m:\u001b[36mload_vae\u001b[0m:\u001b[36m29\u001b[0m - \u001b[1mLoading 3D VAE model (884-16c-hy) from: ./ckpts/hunyuan-video-t2v-720p/vae\u001b[0m\n"
     ]
    },
    {
     "name": "stdout",
     "output_type": "stream",
     "text": [
      "loading vae\n"
     ]
    },
    {
     "name": "stderr",
     "output_type": "stream",
     "text": [
      "/home/chx/mySrc/HunyuanVideo/hyvideo/vae/__init__.py:39: FutureWarning: You are using `torch.load` with `weights_only=False` (the current default value), which uses the default pickle module implicitly. It is possible to construct malicious pickle data which will execute arbitrary code during unpickling (See https://github.com/pytorch/pytorch/blob/main/SECURITY.md#untrusted-models for more details). In a future release, the default value for `weights_only` will be flipped to `True`. This limits the functions that could be executed during unpickling. Arbitrary objects will no longer be allowed to be loaded via this mode unless they are explicitly allowlisted by the user via `torch.serialization.add_safe_globals`. We recommend you start setting `weights_only=True` for any use case where you don't have full control of the loaded file. Please open an issue on GitHub for any issues related to this experimental feature.\n",
      "  ckpt = torch.load(vae_ckpt, map_location=vae.device)\n",
      "\u001b[32m2025-01-22 21:41:27.635\u001b[0m | \u001b[1mINFO    \u001b[0m | \u001b[36mhyvideo.vae\u001b[0m:\u001b[36mload_vae\u001b[0m:\u001b[36m55\u001b[0m - \u001b[1mVAE to dtype: torch.float16\u001b[0m\n",
      "\u001b[32m2025-01-22 21:41:27.640\u001b[0m | \u001b[1mINFO    \u001b[0m | \u001b[36mhyvideo.text_encoder\u001b[0m:\u001b[36mload_text_encoder\u001b[0m:\u001b[36m28\u001b[0m - \u001b[1mLoading text encoder model (llm) from: ./ckpts/text_encoder\u001b[0m\n",
      "Loading checkpoint shards: 100%|██████████| 4/4 [00:02<00:00,  1.73it/s]\n",
      "\u001b[32m2025-01-22 21:41:32.554\u001b[0m | \u001b[1mINFO    \u001b[0m | \u001b[36mhyvideo.text_encoder\u001b[0m:\u001b[36mload_text_encoder\u001b[0m:\u001b[36m50\u001b[0m - \u001b[1mText encoder to dtype: torch.float16\u001b[0m\n",
      "\u001b[32m2025-01-22 21:41:32.557\u001b[0m | \u001b[1mINFO    \u001b[0m | \u001b[36mhyvideo.text_encoder\u001b[0m:\u001b[36mload_tokenizer\u001b[0m:\u001b[36m64\u001b[0m - \u001b[1mLoading tokenizer (llm) from: ./ckpts/text_encoder\u001b[0m\n",
      "\u001b[32m2025-01-22 21:41:32.973\u001b[0m | \u001b[1mINFO    \u001b[0m | \u001b[36mhyvideo.text_encoder\u001b[0m:\u001b[36mload_text_encoder\u001b[0m:\u001b[36m28\u001b[0m - \u001b[1mLoading text encoder model (clipL) from: ./ckpts/text_encoder_2\u001b[0m\n",
      "\u001b[32m2025-01-22 21:41:33.066\u001b[0m | \u001b[1mINFO    \u001b[0m | \u001b[36mhyvideo.text_encoder\u001b[0m:\u001b[36mload_text_encoder\u001b[0m:\u001b[36m50\u001b[0m - \u001b[1mText encoder to dtype: torch.float16\u001b[0m\n",
      "\u001b[32m2025-01-22 21:41:33.068\u001b[0m | \u001b[1mINFO    \u001b[0m | \u001b[36mhyvideo.text_encoder\u001b[0m:\u001b[36mload_tokenizer\u001b[0m:\u001b[36m64\u001b[0m - \u001b[1mLoading tokenizer (clipL) from: ./ckpts/text_encoder_2\u001b[0m\n"
     ]
    },
    {
     "name": "stdout",
     "output_type": "stream",
     "text": [
      "Enable sequential CPU offload.\n",
      "Updated args:\n",
      "{'apply_final_norm': False,\n",
      " 'batch_size': 1,\n",
      " 'cfg_scale': 1.0,\n",
      " 'denoise_type': 'flow',\n",
      " 'disable_autocast': False,\n",
      " 'dit_weight': '/home/chx/mySrc/HunyuanVideo/ckpts/hunyuan-video-t2v-720p/transformers/mp_rank_00_model_states_fp8.pt',\n",
      " 'embedded_cfg_scale': 2.0,\n",
      " 'flow_reverse': True,\n",
      " 'flow_shift': 7.0,\n",
      " 'flow_solver': 'euler',\n",
      " 'hidden_state_skip_layer': 2,\n",
      " 'infer_steps': 30,\n",
      " 'inverse_video_path': '/home/chx/mySrc/HunyuanVideo/results/cat25.mp4',\n",
      " 'latent_channels': 16,\n",
      " 'linear_schedule_end': 25,\n",
      " 'load_key': 'module',\n",
      " 'model': 'HYVideo-T/2-cfgdistill',\n",
      " 'model_base': 'ckpts',\n",
      " 'model_resolution': '540p',\n",
      " 'name_suffix': '',\n",
      " 'neg_prompt': None,\n",
      " 'num_videos': 1,\n",
      " 'precision': 'bf16',\n",
      " 'prompt': 'A cat walks on the grass, realistic style.',\n",
      " 'prompt_template': 'dit-llm-encode',\n",
      " 'prompt_template_video': 'dit-llm-encode-video',\n",
      " 'reproduce': False,\n",
      " 'ring_degree': 1,\n",
      " 'rope_theta': 256,\n",
      " 'save_path': './results',\n",
      " 'save_path_suffix': '',\n",
      " 'seed': 42,\n",
      " 'seed_type': 'auto',\n",
      " 'target_prompt': 'A cat walks on the grass, realistic style.',\n",
      " 'text_encoder': 'llm',\n",
      " 'text_encoder_2': 'clipL',\n",
      " 'text_encoder_precision': 'fp16',\n",
      " 'text_encoder_precision_2': 'fp16',\n",
      " 'text_len': 256,\n",
      " 'text_len_2': 77,\n",
      " 'text_states_dim': 4096,\n",
      " 'text_states_dim_2': 768,\n",
      " 'tokenizer': 'llm',\n",
      " 'tokenizer_2': 'clipL',\n",
      " 'ulysses_degree': 1,\n",
      " 'use_cpu_offload': True,\n",
      " 'use_fp8': True,\n",
      " 'use_linear_quadratic_schedule': False,\n",
      " 'vae': '884-16c-hy',\n",
      " 'vae_precision': 'fp16',\n",
      " 'vae_tiling': True,\n",
      " 'video_length': 25,\n",
      " 'video_size': [512, 512]}\n"
     ]
    },
    {
     "name": "stderr",
     "output_type": "stream",
     "text": [
      "\u001b[32m2025-01-22 21:41:33.870\u001b[0m | \u001b[1mINFO    \u001b[0m | \u001b[36mhyvideo.inference\u001b[0m:\u001b[36mpredict\u001b[0m:\u001b[36m603\u001b[0m - \u001b[1mInput (height, width, video_length) = (512, 512, 25)\u001b[0m\n",
      "\u001b[32m2025-01-22 21:41:33.876\u001b[0m | \u001b[34m\u001b[1mDEBUG   \u001b[0m | \u001b[36mhyvideo.inference\u001b[0m:\u001b[36mpredict\u001b[0m:\u001b[36m663\u001b[0m - \u001b[34m\u001b[1m\n",
      "                        height: 512\n",
      "                         width: 512\n",
      "                  video_length: 25\n",
      "                        prompt: ['A cat walks on the grass, realistic style.']\n",
      "                    neg_prompt: ['Aerial view, aerial view, overexposed, low quality, deformation, a poor composition, bad hands, bad teeth, bad eyes, bad limbs, distortion']\n",
      "                          seed: 42\n",
      "                   infer_steps: 30\n",
      "         num_videos_per_prompt: 1\n",
      "                guidance_scale: 1.0\n",
      "                      n_tokens: 7168\n",
      "                    flow_shift: 7.0\n",
      "       embedded_guidance_scale: 2.0\u001b[0m\n"
     ]
    },
    {
     "name": "stdout",
     "output_type": "stream",
     "text": [
      "\n",
      "cuda:0\n",
      "cuda:0\n",
      "sigmas_reverse\n",
      "sigmas: tensor([0.0000, 0.0049, 0.0101, 0.0156, 0.0215, 0.0278, 0.0345, 0.0417, 0.0494,\n",
      "        0.0577, 0.0667, 0.0764, 0.0870, 0.0985, 0.1111, 0.1250, 0.1404, 0.1574,\n",
      "        0.1765, 0.1979, 0.2222, 0.2500, 0.2821, 0.3194, 0.3636, 0.4167, 0.4815,\n",
      "        0.5625, 0.6667, 0.8056, 1.0000])\n",
      "Using inversed latents\n",
      "Step 0: t = 0.0\n",
      "Step 1: t = 4.9019455909729\n",
      "Step 2: t = 10.101020812988281\n",
      "Step 3: t = 15.625\n",
      "Step 4: t = 21.505355834960938\n",
      "Step 5: t = 27.777851104736328\n",
      "Step 6: t = 34.4827766418457\n",
      "Step 7: t = 41.6666259765625\n",
      "Step 8: t = 49.382747650146484\n",
      "Step 9: t = 57.692230224609375\n",
      "Step 10: t = 66.6667251586914\n",
      "Step 11: t = 76.3888931274414\n",
      "Step 12: t = 86.95655822753906\n",
      "Step 13: t = 98.48487091064453\n",
      "Step 14: t = 111.1111068725586\n",
      "Step 15: t = 125.0\n",
      "Step 16: t = 140.3508758544922\n",
      "Step 17: t = 157.40740966796875\n",
      "Step 18: t = 176.4705810546875\n",
      "Step 19: t = 197.91668701171875\n",
      "Step 20: t = 222.22215270996094\n",
      "Step 21: t = 250.0\n",
      "Step 22: t = 282.05126953125\n",
      "Step 23: t = 319.4444274902344\n",
      "Step 24: t = 363.6363220214844\n",
      "Step 25: t = 416.6666259765625\n",
      "Step 26: t = 481.48150634765625\n",
      "Step 27: t = 562.5\n",
      "Step 28: t = 666.6666259765625\n",
      "Step 29: t = 805.5556030273438\n"
     ]
    },
    {
     "name": "stderr",
     "output_type": "stream",
     "text": [
      "  3%|▎         | 1/30 [00:02<01:25,  2.95s/it]"
     ]
    },
    {
     "name": "stdout",
     "output_type": "stream",
     "text": [
      "index: 0.0,index+1: 0.0049019455909729\n"
     ]
    },
    {
     "name": "stderr",
     "output_type": "stream",
     "text": [
      "  7%|▋         | 2/30 [00:05<01:19,  2.85s/it]"
     ]
    },
    {
     "name": "stdout",
     "output_type": "stream",
     "text": [
      "index: 0.0049019455909729,index+1: 0.010101020336151123\n"
     ]
    },
    {
     "name": "stderr",
     "output_type": "stream",
     "text": [
      " 10%|█         | 3/30 [00:08<01:16,  2.83s/it]"
     ]
    },
    {
     "name": "stdout",
     "output_type": "stream",
     "text": [
      "index: 0.010101020336151123,index+1: 0.015625\n"
     ]
    },
    {
     "name": "stderr",
     "output_type": "stream",
     "text": [
      " 13%|█▎        | 4/30 [00:11<01:13,  2.81s/it]"
     ]
    },
    {
     "name": "stdout",
     "output_type": "stream",
     "text": [
      "index: 0.015625,index+1: 0.021505355834960938\n"
     ]
    },
    {
     "name": "stderr",
     "output_type": "stream",
     "text": [
      " 17%|█▋        | 5/30 [00:14<01:10,  2.81s/it]"
     ]
    },
    {
     "name": "stdout",
     "output_type": "stream",
     "text": [
      "index: 0.021505355834960938,index+1: 0.02777785062789917\n"
     ]
    },
    {
     "name": "stderr",
     "output_type": "stream",
     "text": [
      " 20%|██        | 6/30 [00:16<01:07,  2.80s/it]"
     ]
    },
    {
     "name": "stdout",
     "output_type": "stream",
     "text": [
      "index: 0.02777785062789917,index+1: 0.03448277711868286\n"
     ]
    },
    {
     "name": "stderr",
     "output_type": "stream",
     "text": [
      " 23%|██▎       | 7/30 [00:19<01:04,  2.80s/it]"
     ]
    },
    {
     "name": "stdout",
     "output_type": "stream",
     "text": [
      "index: 0.03448277711868286,index+1: 0.041666626930236816\n"
     ]
    },
    {
     "name": "stderr",
     "output_type": "stream",
     "text": [
      " 27%|██▋       | 8/30 [00:22<01:01,  2.81s/it]"
     ]
    },
    {
     "name": "stdout",
     "output_type": "stream",
     "text": [
      "index: 0.041666626930236816,index+1: 0.04938274621963501\n"
     ]
    },
    {
     "name": "stderr",
     "output_type": "stream",
     "text": [
      " 30%|███       | 9/30 [00:25<00:58,  2.81s/it]"
     ]
    },
    {
     "name": "stdout",
     "output_type": "stream",
     "text": [
      "index: 0.04938274621963501,index+1: 0.05769222974777222\n"
     ]
    },
    {
     "name": "stderr",
     "output_type": "stream",
     "text": [
      " 33%|███▎      | 10/30 [00:28<00:56,  2.81s/it]"
     ]
    },
    {
     "name": "stdout",
     "output_type": "stream",
     "text": [
      "index: 0.05769222974777222,index+1: 0.06666672229766846\n"
     ]
    },
    {
     "name": "stderr",
     "output_type": "stream",
     "text": [
      " 37%|███▋      | 11/30 [00:30<00:53,  2.81s/it]"
     ]
    },
    {
     "name": "stdout",
     "output_type": "stream",
     "text": [
      "index: 0.06666672229766846,index+1: 0.0763888955116272\n"
     ]
    },
    {
     "name": "stderr",
     "output_type": "stream",
     "text": [
      " 40%|████      | 12/30 [00:33<00:50,  2.81s/it]"
     ]
    },
    {
     "name": "stdout",
     "output_type": "stream",
     "text": [
      "index: 0.0763888955116272,index+1: 0.08695656061172485\n"
     ]
    },
    {
     "name": "stderr",
     "output_type": "stream",
     "text": [
      " 43%|████▎     | 13/30 [00:36<00:47,  2.81s/it]"
     ]
    },
    {
     "name": "stdout",
     "output_type": "stream",
     "text": [
      "index: 0.08695656061172485,index+1: 0.09848487377166748\n"
     ]
    },
    {
     "name": "stderr",
     "output_type": "stream",
     "text": [
      " 47%|████▋     | 14/30 [00:39<00:44,  2.81s/it]"
     ]
    },
    {
     "name": "stdout",
     "output_type": "stream",
     "text": [
      "index: 0.09848487377166748,index+1: 0.1111111044883728\n"
     ]
    },
    {
     "name": "stderr",
     "output_type": "stream",
     "text": [
      " 50%|█████     | 15/30 [00:42<00:42,  2.81s/it]"
     ]
    },
    {
     "name": "stdout",
     "output_type": "stream",
     "text": [
      "index: 0.1111111044883728,index+1: 0.125\n"
     ]
    },
    {
     "name": "stderr",
     "output_type": "stream",
     "text": [
      " 53%|█████▎    | 16/30 [00:44<00:39,  2.81s/it]"
     ]
    },
    {
     "name": "stdout",
     "output_type": "stream",
     "text": [
      "index: 0.125,index+1: 0.14035087823867798\n"
     ]
    },
    {
     "name": "stderr",
     "output_type": "stream",
     "text": [
      " 57%|█████▋    | 17/30 [00:47<00:36,  2.81s/it]"
     ]
    },
    {
     "name": "stdout",
     "output_type": "stream",
     "text": [
      "index: 0.14035087823867798,index+1: 0.15740740299224854\n"
     ]
    },
    {
     "name": "stderr",
     "output_type": "stream",
     "text": [
      " 60%|██████    | 18/30 [00:50<00:33,  2.81s/it]"
     ]
    },
    {
     "name": "stdout",
     "output_type": "stream",
     "text": [
      "index: 0.15740740299224854,index+1: 0.1764705777168274\n"
     ]
    },
    {
     "name": "stderr",
     "output_type": "stream",
     "text": [
      " 63%|██████▎   | 19/30 [00:53<00:30,  2.81s/it]"
     ]
    },
    {
     "name": "stdout",
     "output_type": "stream",
     "text": [
      "index: 0.1764705777168274,index+1: 0.1979166865348816\n"
     ]
    },
    {
     "name": "stderr",
     "output_type": "stream",
     "text": [
      " 67%|██████▋   | 20/30 [00:56<00:28,  2.81s/it]"
     ]
    },
    {
     "name": "stdout",
     "output_type": "stream",
     "text": [
      "index: 0.1979166865348816,index+1: 0.22222214937210083\n"
     ]
    },
    {
     "name": "stderr",
     "output_type": "stream",
     "text": [
      " 70%|███████   | 21/30 [00:59<00:25,  2.81s/it]"
     ]
    },
    {
     "name": "stdout",
     "output_type": "stream",
     "text": [
      "index: 0.22222214937210083,index+1: 0.25\n"
     ]
    },
    {
     "name": "stderr",
     "output_type": "stream",
     "text": [
      " 73%|███████▎  | 22/30 [01:01<00:22,  2.81s/it]"
     ]
    },
    {
     "name": "stdout",
     "output_type": "stream",
     "text": [
      "index: 0.25,index+1: 0.2820512652397156\n"
     ]
    },
    {
     "name": "stderr",
     "output_type": "stream",
     "text": [
      " 77%|███████▋  | 23/30 [01:04<00:19,  2.81s/it]"
     ]
    },
    {
     "name": "stdout",
     "output_type": "stream",
     "text": [
      "index: 0.2820512652397156,index+1: 0.3194444179534912\n"
     ]
    },
    {
     "name": "stderr",
     "output_type": "stream",
     "text": [
      " 80%|████████  | 24/30 [01:07<00:16,  2.81s/it]"
     ]
    },
    {
     "name": "stdout",
     "output_type": "stream",
     "text": [
      "index: 0.3194444179534912,index+1: 0.363636314868927\n"
     ]
    },
    {
     "name": "stderr",
     "output_type": "stream",
     "text": [
      " 83%|████████▎ | 25/30 [01:10<00:14,  2.81s/it]"
     ]
    },
    {
     "name": "stdout",
     "output_type": "stream",
     "text": [
      "index: 0.363636314868927,index+1: 0.4166666269302368\n"
     ]
    },
    {
     "name": "stderr",
     "output_type": "stream",
     "text": [
      " 87%|████████▋ | 26/30 [01:13<00:11,  2.81s/it]"
     ]
    },
    {
     "name": "stdout",
     "output_type": "stream",
     "text": [
      "index: 0.4166666269302368,index+1: 0.48148149251937866\n"
     ]
    },
    {
     "name": "stderr",
     "output_type": "stream",
     "text": [
      " 90%|█████████ | 27/30 [01:15<00:08,  2.81s/it]"
     ]
    },
    {
     "name": "stdout",
     "output_type": "stream",
     "text": [
      "index: 0.48148149251937866,index+1: 0.5625\n"
     ]
    },
    {
     "name": "stderr",
     "output_type": "stream",
     "text": [
      " 93%|█████████▎| 28/30 [01:18<00:05,  2.81s/it]"
     ]
    },
    {
     "name": "stdout",
     "output_type": "stream",
     "text": [
      "index: 0.5625,index+1: 0.6666666269302368\n"
     ]
    },
    {
     "name": "stderr",
     "output_type": "stream",
     "text": [
      " 97%|█████████▋| 29/30 [01:21<00:02,  2.82s/it]"
     ]
    },
    {
     "name": "stdout",
     "output_type": "stream",
     "text": [
      "index: 0.6666666269302368,index+1: 0.8055555820465088\n"
     ]
    },
    {
     "name": "stderr",
     "output_type": "stream",
     "text": [
      "100%|██████████| 30/30 [01:24<00:00,  2.81s/it]"
     ]
    },
    {
     "name": "stdout",
     "output_type": "stream",
     "text": [
      "index: 0.8055555820465088,index+1: 1.0\n",
      "cuda:0\n"
     ]
    },
    {
     "name": "stderr",
     "output_type": "stream",
     "text": [
      "\n"
     ]
    },
    {
     "name": "stdout",
     "output_type": "stream",
     "text": [
      "cuda:0\n",
      "sigmas: tensor([1.0000, 0.9951, 0.9899, 0.9844, 0.9785, 0.9722, 0.9655, 0.9583, 0.9506,\n",
      "        0.9423, 0.9333, 0.9236, 0.9130, 0.9015, 0.8889, 0.8750, 0.8596, 0.8426,\n",
      "        0.8235, 0.8021, 0.7778, 0.7500, 0.7179, 0.6806, 0.6364, 0.5833, 0.5185,\n",
      "        0.4375, 0.3333, 0.1944, 0.0000])\n",
      "Using inversed latents\n",
      "Step 0: t = 1000.0\n",
      "Step 1: t = 995.0980834960938\n",
      "Step 2: t = 989.8989868164062\n",
      "Step 3: t = 984.375\n",
      "Step 4: t = 978.49462890625\n",
      "Step 5: t = 972.22216796875\n",
      "Step 6: t = 965.5172119140625\n",
      "Step 7: t = 958.3333740234375\n",
      "Step 8: t = 950.6172485351562\n",
      "Step 9: t = 942.3078002929688\n",
      "Step 10: t = 933.333251953125\n",
      "Step 11: t = 923.611083984375\n",
      "Step 12: t = 913.04345703125\n",
      "Step 13: t = 901.51513671875\n",
      "Step 14: t = 888.888916015625\n",
      "Step 15: t = 875.0\n",
      "Step 16: t = 859.6491088867188\n",
      "Step 17: t = 842.5925903320312\n",
      "Step 18: t = 823.5294189453125\n",
      "Step 19: t = 802.0833129882812\n",
      "Step 20: t = 777.77783203125\n",
      "Step 21: t = 750.0\n",
      "Step 22: t = 717.94873046875\n",
      "Step 23: t = 680.5556030273438\n",
      "Step 24: t = 636.3637084960938\n",
      "Step 25: t = 583.3333740234375\n",
      "Step 26: t = 518.5184936523438\n",
      "Step 27: t = 437.5000305175781\n",
      "Step 28: t = 333.3333435058594\n",
      "Step 29: t = 194.44444274902344\n"
     ]
    },
    {
     "name": "stderr",
     "output_type": "stream",
     "text": [
      "  3%|▎         | 1/30 [00:02<01:21,  2.82s/it]"
     ]
    },
    {
     "name": "stdout",
     "output_type": "stream",
     "text": [
      "index: 1.0,index+1: 0.9950980544090271\n"
     ]
    },
    {
     "name": "stderr",
     "output_type": "stream",
     "text": [
      "  7%|▋         | 2/30 [00:05<01:18,  2.81s/it]"
     ]
    },
    {
     "name": "stdout",
     "output_type": "stream",
     "text": [
      "index: 0.9950980544090271,index+1: 0.9898989796638489\n"
     ]
    },
    {
     "name": "stderr",
     "output_type": "stream",
     "text": [
      " 10%|█         | 3/30 [00:08<01:15,  2.81s/it]"
     ]
    },
    {
     "name": "stdout",
     "output_type": "stream",
     "text": [
      "index: 0.9898989796638489,index+1: 0.984375\n"
     ]
    },
    {
     "name": "stderr",
     "output_type": "stream",
     "text": [
      " 13%|█▎        | 4/30 [00:11<01:13,  2.81s/it]"
     ]
    },
    {
     "name": "stdout",
     "output_type": "stream",
     "text": [
      "index: 0.984375,index+1: 0.9784946441650391\n"
     ]
    },
    {
     "name": "stderr",
     "output_type": "stream",
     "text": [
      " 17%|█▋        | 5/30 [00:14<01:10,  2.81s/it]"
     ]
    },
    {
     "name": "stdout",
     "output_type": "stream",
     "text": [
      "index: 0.9784946441650391,index+1: 0.9722221493721008\n"
     ]
    },
    {
     "name": "stderr",
     "output_type": "stream",
     "text": [
      " 20%|██        | 6/30 [00:16<01:07,  2.81s/it]"
     ]
    },
    {
     "name": "stdout",
     "output_type": "stream",
     "text": [
      "index: 0.9722221493721008,index+1: 0.9655172228813171\n"
     ]
    },
    {
     "name": "stderr",
     "output_type": "stream",
     "text": [
      " 23%|██▎       | 7/30 [00:19<01:04,  2.81s/it]"
     ]
    },
    {
     "name": "stdout",
     "output_type": "stream",
     "text": [
      "index: 0.9655172228813171,index+1: 0.9583333730697632\n"
     ]
    },
    {
     "name": "stderr",
     "output_type": "stream",
     "text": [
      " 27%|██▋       | 8/30 [00:22<01:01,  2.81s/it]"
     ]
    },
    {
     "name": "stdout",
     "output_type": "stream",
     "text": [
      "index: 0.9583333730697632,index+1: 0.950617253780365\n"
     ]
    },
    {
     "name": "stderr",
     "output_type": "stream",
     "text": [
      " 30%|███       | 9/30 [00:25<00:59,  2.82s/it]"
     ]
    },
    {
     "name": "stdout",
     "output_type": "stream",
     "text": [
      "index: 0.950617253780365,index+1: 0.9423077702522278\n"
     ]
    },
    {
     "name": "stderr",
     "output_type": "stream",
     "text": [
      " 33%|███▎      | 10/30 [00:28<00:56,  2.82s/it]"
     ]
    },
    {
     "name": "stdout",
     "output_type": "stream",
     "text": [
      "index: 0.9423077702522278,index+1: 0.9333332777023315\n"
     ]
    },
    {
     "name": "stderr",
     "output_type": "stream",
     "text": [
      " 37%|███▋      | 11/30 [00:30<00:53,  2.82s/it]"
     ]
    },
    {
     "name": "stdout",
     "output_type": "stream",
     "text": [
      "index: 0.9333332777023315,index+1: 0.9236111044883728\n"
     ]
    },
    {
     "name": "stderr",
     "output_type": "stream",
     "text": [
      " 40%|████      | 12/30 [00:33<00:50,  2.83s/it]"
     ]
    },
    {
     "name": "stdout",
     "output_type": "stream",
     "text": [
      "index: 0.9236111044883728,index+1: 0.9130434393882751\n"
     ]
    },
    {
     "name": "stderr",
     "output_type": "stream",
     "text": [
      " 43%|████▎     | 13/30 [00:36<00:48,  2.83s/it]"
     ]
    },
    {
     "name": "stdout",
     "output_type": "stream",
     "text": [
      "index: 0.9130434393882751,index+1: 0.9015151262283325\n"
     ]
    },
    {
     "name": "stderr",
     "output_type": "stream",
     "text": [
      " 47%|████▋     | 14/30 [00:39<00:45,  2.83s/it]"
     ]
    },
    {
     "name": "stdout",
     "output_type": "stream",
     "text": [
      "index: 0.9015151262283325,index+1: 0.8888888955116272\n"
     ]
    },
    {
     "name": "stderr",
     "output_type": "stream",
     "text": [
      " 50%|█████     | 15/30 [00:42<00:42,  2.83s/it]"
     ]
    },
    {
     "name": "stdout",
     "output_type": "stream",
     "text": [
      "index: 0.8888888955116272,index+1: 0.875\n"
     ]
    },
    {
     "name": "stderr",
     "output_type": "stream",
     "text": [
      " 53%|█████▎    | 16/30 [00:45<00:39,  2.83s/it]"
     ]
    },
    {
     "name": "stdout",
     "output_type": "stream",
     "text": [
      "index: 0.875,index+1: 0.859649121761322\n"
     ]
    },
    {
     "name": "stderr",
     "output_type": "stream",
     "text": [
      " 57%|█████▋    | 17/30 [00:47<00:36,  2.83s/it]"
     ]
    },
    {
     "name": "stdout",
     "output_type": "stream",
     "text": [
      "index: 0.859649121761322,index+1: 0.8425925970077515\n"
     ]
    },
    {
     "name": "stderr",
     "output_type": "stream",
     "text": [
      " 60%|██████    | 18/30 [00:50<00:33,  2.83s/it]"
     ]
    },
    {
     "name": "stdout",
     "output_type": "stream",
     "text": [
      "index: 0.8425925970077515,index+1: 0.8235294222831726\n"
     ]
    },
    {
     "name": "stderr",
     "output_type": "stream",
     "text": [
      " 63%|██████▎   | 19/30 [00:53<00:31,  2.83s/it]"
     ]
    },
    {
     "name": "stdout",
     "output_type": "stream",
     "text": [
      "index: 0.8235294222831726,index+1: 0.8020833134651184\n"
     ]
    },
    {
     "name": "stderr",
     "output_type": "stream",
     "text": [
      " 67%|██████▋   | 20/30 [00:56<00:28,  2.83s/it]"
     ]
    },
    {
     "name": "stdout",
     "output_type": "stream",
     "text": [
      "index: 0.8020833134651184,index+1: 0.7777778506278992\n"
     ]
    },
    {
     "name": "stderr",
     "output_type": "stream",
     "text": [
      " 70%|███████   | 21/30 [00:59<00:25,  2.83s/it]"
     ]
    },
    {
     "name": "stdout",
     "output_type": "stream",
     "text": [
      "index: 0.7777778506278992,index+1: 0.75\n"
     ]
    },
    {
     "name": "stderr",
     "output_type": "stream",
     "text": [
      " 73%|███████▎  | 22/30 [01:02<00:22,  2.83s/it]"
     ]
    },
    {
     "name": "stdout",
     "output_type": "stream",
     "text": [
      "index: 0.75,index+1: 0.7179487347602844\n"
     ]
    },
    {
     "name": "stderr",
     "output_type": "stream",
     "text": [
      " 77%|███████▋  | 23/30 [01:04<00:19,  2.83s/it]"
     ]
    },
    {
     "name": "stdout",
     "output_type": "stream",
     "text": [
      "index: 0.7179487347602844,index+1: 0.6805555820465088\n"
     ]
    },
    {
     "name": "stderr",
     "output_type": "stream",
     "text": [
      " 80%|████████  | 24/30 [01:07<00:16,  2.83s/it]"
     ]
    },
    {
     "name": "stdout",
     "output_type": "stream",
     "text": [
      "index: 0.6805555820465088,index+1: 0.636363685131073\n"
     ]
    },
    {
     "name": "stderr",
     "output_type": "stream",
     "text": [
      " 83%|████████▎ | 25/30 [01:10<00:14,  2.83s/it]"
     ]
    },
    {
     "name": "stdout",
     "output_type": "stream",
     "text": [
      "index: 0.636363685131073,index+1: 0.5833333730697632\n"
     ]
    },
    {
     "name": "stderr",
     "output_type": "stream",
     "text": [
      " 87%|████████▋ | 26/30 [01:13<00:11,  2.83s/it]"
     ]
    },
    {
     "name": "stdout",
     "output_type": "stream",
     "text": [
      "index: 0.5833333730697632,index+1: 0.5185185074806213\n"
     ]
    },
    {
     "name": "stderr",
     "output_type": "stream",
     "text": [
      " 90%|█████████ | 27/30 [01:16<00:08,  2.83s/it]"
     ]
    },
    {
     "name": "stdout",
     "output_type": "stream",
     "text": [
      "index: 0.5185185074806213,index+1: 0.4375000298023224\n"
     ]
    },
    {
     "name": "stderr",
     "output_type": "stream",
     "text": [
      " 93%|█████████▎| 28/30 [01:19<00:05,  2.83s/it]"
     ]
    },
    {
     "name": "stdout",
     "output_type": "stream",
     "text": [
      "index: 0.4375000298023224,index+1: 0.3333333432674408\n"
     ]
    },
    {
     "name": "stderr",
     "output_type": "stream",
     "text": [
      " 97%|█████████▋| 29/30 [01:21<00:02,  2.83s/it]"
     ]
    },
    {
     "name": "stdout",
     "output_type": "stream",
     "text": [
      "index: 0.3333333432674408,index+1: 0.1944444477558136\n"
     ]
    },
    {
     "name": "stderr",
     "output_type": "stream",
     "text": [
      "100%|██████████| 30/30 [01:24<00:00,  2.83s/it]"
     ]
    },
    {
     "name": "stdout",
     "output_type": "stream",
     "text": [
      "index: 0.1944444477558136,index+1: 0.0\n"
     ]
    },
    {
     "name": "stderr",
     "output_type": "stream",
     "text": [
      "\n",
      "\u001b[32m2025-01-22 21:44:56.629\u001b[0m | \u001b[1mINFO    \u001b[0m | \u001b[36mhyvideo.inference\u001b[0m:\u001b[36mpredict\u001b[0m:\u001b[36m697\u001b[0m - \u001b[1mSuccess, time: 202.75189328193665\u001b[0m\n",
      "huggingface/tokenizers: The current process just got forked, after parallelism has already been used. Disabling parallelism to avoid deadlocks...\n",
      "To disable this warning, you can either:\n",
      "\t- Avoid using `tokenizers` before the fork if possible\n",
      "\t- Explicitly set the environment variable TOKENIZERS_PARALLELISM=(true | false)\n",
      "\u001b[32m2025-01-22 21:44:58.911\u001b[0m | \u001b[1mINFO    \u001b[0m | \u001b[36m__main__\u001b[0m:\u001b[36mmain\u001b[0m:\u001b[36m72\u001b[0m - \u001b[1mSample save to: ./results/2025-01-22-21:44:56_seed42_A cat walks on the grass, realistic style..mp4\u001b[0m\n"
     ]
    }
   ],
   "source": [
    "%run edit_video.py \\\n",
    "    --dit-weight \"/home/chx/mySrc/HunyuanVideo/ckpts/hunyuan-video-t2v-720p/transformers/mp_rank_00_model_states_fp8.pt\" \\\n",
    "    --video-size 512 512 \\\n",
    "    --video-length 25 \\\n",
    "    --infer-steps 30 \\\n",
    "    --prompt \"black swan is gracefully swimming in a pond with lush greenery in the background\" \\\n",
    "    --target-prompt \"pink flamingo is gracefully swimming in a pond with lush greenery in the background\" \\\n",
    "    --seed 42 \\\n",
    "    --embedded-cfg-scale 2 \\\n",
    "    --flow-shift 7.0 \\\n",
    "    --flow-reverse \\\n",
    "    --use-cpu-offload \\\n",
    "    --use-fp8 \\\n",
    "    --save-path ./results \\\n",
    "    --inverse-video-path \"/data/chx/V2VBench/videos/blackswan.mp4\""
   ]
  },
  {
   "cell_type": "code",
   "execution_count": 2,
   "metadata": {},
   "outputs": [
    {
     "name": "stderr",
     "output_type": "stream",
     "text": [
      "\u001b[32m2025-01-23 13:59:04.091\u001b[0m | \u001b[1mINFO    \u001b[0m | \u001b[36mhyvideo.inference\u001b[0m:\u001b[36mfrom_pretrained\u001b[0m:\u001b[36m155\u001b[0m - \u001b[1mGot text-to-video model root path: ckpts\u001b[0m\n",
      "\u001b[32m2025-01-23 13:59:04.092\u001b[0m | \u001b[1mINFO    \u001b[0m | \u001b[36mhyvideo.inference\u001b[0m:\u001b[36mfrom_pretrained\u001b[0m:\u001b[36m190\u001b[0m - \u001b[1mBuilding model...\u001b[0m\n"
     ]
    },
    {
     "name": "stdout",
     "output_type": "stream",
     "text": [
      "{'apply_final_norm': False,\n",
      " 'batch_size': 1,\n",
      " 'cfg_scale': 1.0,\n",
      " 'denoise_type': 'flow',\n",
      " 'disable_autocast': False,\n",
      " 'dit_weight': '/home/chx/mySrc/HunyuanVideo/ckpts/hunyuan-video-t2v-720p/transformers/mp_rank_00_model_states_fp8.pt',\n",
      " 'embedded_cfg_scale': 2.0,\n",
      " 'feature_path': 'feature',\n",
      " 'flow_reverse': True,\n",
      " 'flow_shift': 7.0,\n",
      " 'flow_solver': 'euler',\n",
      " 'hidden_state_skip_layer': 2,\n",
      " 'infer_steps': 30,\n",
      " 'inject': 0,\n",
      " 'inverse_video_path': '/home/chx/mySrc/HunyuanVideo/results/cat25.mp4',\n",
      " 'latent_channels': 16,\n",
      " 'linear_schedule_end': 25,\n",
      " 'load_key': 'module',\n",
      " 'model': 'HYVideo-T/2-cfgdistill',\n",
      " 'model_base': 'ckpts',\n",
      " 'model_resolution': '540p',\n",
      " 'name_suffix': '',\n",
      " 'neg_prompt': None,\n",
      " 'num_videos': 1,\n",
      " 'precision': 'bf16',\n",
      " 'prompt': 'A cat walks on the grass, realistic style.',\n",
      " 'prompt_template': 'dit-llm-encode',\n",
      " 'prompt_template_video': 'dit-llm-encode-video',\n",
      " 'reproduce': False,\n",
      " 'ring_degree': 1,\n",
      " 'rope_theta': 256,\n",
      " 'save_path': './results',\n",
      " 'save_path_suffix': '',\n",
      " 'seed': 42,\n",
      " 'seed_type': 'auto',\n",
      " 'target_prompt': 'A cat walks on the grass, realistic style.',\n",
      " 'text_encoder': 'llm',\n",
      " 'text_encoder_2': 'clipL',\n",
      " 'text_encoder_precision': 'fp16',\n",
      " 'text_encoder_precision_2': 'fp16',\n",
      " 'text_len': 256,\n",
      " 'text_len_2': 77,\n",
      " 'text_states_dim': 4096,\n",
      " 'text_states_dim_2': 768,\n",
      " 'tokenizer': 'llm',\n",
      " 'tokenizer_2': 'clipL',\n",
      " 'ulysses_degree': 1,\n",
      " 'use_cpu_offload': True,\n",
      " 'use_fp8': True,\n",
      " 'use_linear_quadratic_schedule': False,\n",
      " 'vae': '884-16c-hy',\n",
      " 'vae_precision': 'fp16',\n",
      " 'vae_tiling': True,\n",
      " 'video_length': 25,\n",
      " 'video_size': [512, 512]}\n",
      "cuda\n"
     ]
    },
    {
     "name": "stderr",
     "output_type": "stream",
     "text": [
      "/home/chx/mySrc/HunyuanVideo/hyvideo/modules/fp8_optimization.py:88: FutureWarning: You are using `torch.load` with `weights_only=False` (the current default value), which uses the default pickle module implicitly. It is possible to construct malicious pickle data which will execute arbitrary code during unpickling (See https://github.com/pytorch/pytorch/blob/main/SECURITY.md#untrusted-models for more details). In a future release, the default value for `weights_only` will be flipped to `True`. This limits the functions that could be executed during unpickling. Arbitrary objects will no longer be allowed to be loaded via this mode unless they are explicitly allowlisted by the user via `torch.serialization.add_safe_globals`. We recommend you start setting `weights_only=True` for any use case where you don't have full control of the loaded file. Please open an issue on GitHub for any issues related to this experimental feature.\n",
      "  fp8_map = torch.load(fp8_map_path, map_location=lambda storage, loc: storage)\n",
      "\u001b[32m2025-01-23 14:01:17.195\u001b[0m | \u001b[1mINFO    \u001b[0m | \u001b[36mhyvideo.inference\u001b[0m:\u001b[36mload_state_dict\u001b[0m:\u001b[36m345\u001b[0m - \u001b[1mLoading torch model /home/chx/mySrc/HunyuanVideo/ckpts/hunyuan-video-t2v-720p/transformers/mp_rank_00_model_states_fp8.pt...\u001b[0m\n",
      "/home/chx/mySrc/HunyuanVideo/hyvideo/inference.py:346: FutureWarning: You are using `torch.load` with `weights_only=False` (the current default value), which uses the default pickle module implicitly. It is possible to construct malicious pickle data which will execute arbitrary code during unpickling (See https://github.com/pytorch/pytorch/blob/main/SECURITY.md#untrusted-models for more details). In a future release, the default value for `weights_only` will be flipped to `True`. This limits the functions that could be executed during unpickling. Arbitrary objects will no longer be allowed to be loaded via this mode unless they are explicitly allowlisted by the user via `torch.serialization.add_safe_globals`. We recommend you start setting `weights_only=True` for any use case where you don't have full control of the loaded file. Please open an issue on GitHub for any issues related to this experimental feature.\n",
      "  state_dict = torch.load(model_path, map_location=lambda storage, loc: storage)\n",
      "\u001b[32m2025-01-23 14:01:27.142\u001b[0m | \u001b[1mINFO    \u001b[0m | \u001b[36mhyvideo.vae\u001b[0m:\u001b[36mload_vae\u001b[0m:\u001b[36m29\u001b[0m - \u001b[1mLoading 3D VAE model (884-16c-hy) from: ./ckpts/hunyuan-video-t2v-720p/vae\u001b[0m\n"
     ]
    },
    {
     "name": "stdout",
     "output_type": "stream",
     "text": [
      "loading vae\n"
     ]
    },
    {
     "name": "stderr",
     "output_type": "stream",
     "text": [
      "/home/chx/mySrc/HunyuanVideo/hyvideo/vae/__init__.py:39: FutureWarning: You are using `torch.load` with `weights_only=False` (the current default value), which uses the default pickle module implicitly. It is possible to construct malicious pickle data which will execute arbitrary code during unpickling (See https://github.com/pytorch/pytorch/blob/main/SECURITY.md#untrusted-models for more details). In a future release, the default value for `weights_only` will be flipped to `True`. This limits the functions that could be executed during unpickling. Arbitrary objects will no longer be allowed to be loaded via this mode unless they are explicitly allowlisted by the user via `torch.serialization.add_safe_globals`. We recommend you start setting `weights_only=True` for any use case where you don't have full control of the loaded file. Please open an issue on GitHub for any issues related to this experimental feature.\n",
      "  ckpt = torch.load(vae_ckpt, map_location=vae.device)\n",
      "\u001b[32m2025-01-23 14:01:30.321\u001b[0m | \u001b[1mINFO    \u001b[0m | \u001b[36mhyvideo.vae\u001b[0m:\u001b[36mload_vae\u001b[0m:\u001b[36m55\u001b[0m - \u001b[1mVAE to dtype: torch.float16\u001b[0m\n",
      "\u001b[32m2025-01-23 14:01:30.329\u001b[0m | \u001b[1mINFO    \u001b[0m | \u001b[36mhyvideo.text_encoder\u001b[0m:\u001b[36mload_text_encoder\u001b[0m:\u001b[36m28\u001b[0m - \u001b[1mLoading text encoder model (llm) from: ./ckpts/text_encoder\u001b[0m\n",
      "Loading checkpoint shards: 100%|██████████| 4/4 [00:07<00:00,  1.78s/it]\n",
      "\u001b[32m2025-01-23 14:01:42.311\u001b[0m | \u001b[1mINFO    \u001b[0m | \u001b[36mhyvideo.text_encoder\u001b[0m:\u001b[36mload_text_encoder\u001b[0m:\u001b[36m50\u001b[0m - \u001b[1mText encoder to dtype: torch.float16\u001b[0m\n",
      "\u001b[32m2025-01-23 14:01:42.316\u001b[0m | \u001b[1mINFO    \u001b[0m | \u001b[36mhyvideo.text_encoder\u001b[0m:\u001b[36mload_tokenizer\u001b[0m:\u001b[36m64\u001b[0m - \u001b[1mLoading tokenizer (llm) from: ./ckpts/text_encoder\u001b[0m\n",
      "\u001b[32m2025-01-23 14:01:43.127\u001b[0m | \u001b[1mINFO    \u001b[0m | \u001b[36mhyvideo.text_encoder\u001b[0m:\u001b[36mload_text_encoder\u001b[0m:\u001b[36m28\u001b[0m - \u001b[1mLoading text encoder model (clipL) from: ./ckpts/text_encoder_2\u001b[0m\n",
      "\u001b[32m2025-01-23 14:01:44.136\u001b[0m | \u001b[1mINFO    \u001b[0m | \u001b[36mhyvideo.text_encoder\u001b[0m:\u001b[36mload_text_encoder\u001b[0m:\u001b[36m50\u001b[0m - \u001b[1mText encoder to dtype: torch.float16\u001b[0m\n",
      "\u001b[32m2025-01-23 14:01:44.139\u001b[0m | \u001b[1mINFO    \u001b[0m | \u001b[36mhyvideo.text_encoder\u001b[0m:\u001b[36mload_tokenizer\u001b[0m:\u001b[36m64\u001b[0m - \u001b[1mLoading tokenizer (clipL) from: ./ckpts/text_encoder_2\u001b[0m\n"
     ]
    },
    {
     "name": "stdout",
     "output_type": "stream",
     "text": [
      "Enable sequential CPU offload.\n",
      "Updated args:\n",
      "{'apply_final_norm': False,\n",
      " 'batch_size': 1,\n",
      " 'cfg_scale': 1.0,\n",
      " 'denoise_type': 'flow',\n",
      " 'disable_autocast': False,\n",
      " 'dit_weight': '/home/chx/mySrc/HunyuanVideo/ckpts/hunyuan-video-t2v-720p/transformers/mp_rank_00_model_states_fp8.pt',\n",
      " 'embedded_cfg_scale': 2.0,\n",
      " 'feature_path': 'feature',\n",
      " 'flow_reverse': True,\n",
      " 'flow_shift': 7.0,\n",
      " 'flow_solver': 'euler',\n",
      " 'hidden_state_skip_layer': 2,\n",
      " 'infer_steps': 30,\n",
      " 'inject': 0,\n",
      " 'inverse_video_path': '/home/chx/mySrc/HunyuanVideo/results/cat25.mp4',\n",
      " 'latent_channels': 16,\n",
      " 'linear_schedule_end': 25,\n",
      " 'load_key': 'module',\n",
      " 'model': 'HYVideo-T/2-cfgdistill',\n",
      " 'model_base': 'ckpts',\n",
      " 'model_resolution': '540p',\n",
      " 'name_suffix': '',\n",
      " 'neg_prompt': None,\n",
      " 'num_videos': 1,\n",
      " 'precision': 'bf16',\n",
      " 'prompt': 'A cat walks on the grass, realistic style.',\n",
      " 'prompt_template': 'dit-llm-encode',\n",
      " 'prompt_template_video': 'dit-llm-encode-video',\n",
      " 'reproduce': False,\n",
      " 'ring_degree': 1,\n",
      " 'rope_theta': 256,\n",
      " 'save_path': './results',\n",
      " 'save_path_suffix': '',\n",
      " 'seed': 42,\n",
      " 'seed_type': 'auto',\n",
      " 'target_prompt': 'A cat walks on the grass, realistic style.',\n",
      " 'text_encoder': 'llm',\n",
      " 'text_encoder_2': 'clipL',\n",
      " 'text_encoder_precision': 'fp16',\n",
      " 'text_encoder_precision_2': 'fp16',\n",
      " 'text_len': 256,\n",
      " 'text_len_2': 77,\n",
      " 'text_states_dim': 4096,\n",
      " 'text_states_dim_2': 768,\n",
      " 'tokenizer': 'llm',\n",
      " 'tokenizer_2': 'clipL',\n",
      " 'ulysses_degree': 1,\n",
      " 'use_cpu_offload': True,\n",
      " 'use_fp8': True,\n",
      " 'use_linear_quadratic_schedule': False,\n",
      " 'vae': '884-16c-hy',\n",
      " 'vae_precision': 'fp16',\n",
      " 'vae_tiling': True,\n",
      " 'video_length': 25,\n",
      " 'video_size': [512, 512]}\n"
     ]
    },
    {
     "name": "stderr",
     "output_type": "stream",
     "text": [
      "huggingface/tokenizers: The current process just got forked, after parallelism has already been used. Disabling parallelism to avoid deadlocks...\n",
      "To disable this warning, you can either:\n",
      "\t- Avoid using `tokenizers` before the fork if possible\n",
      "\t- Explicitly set the environment variable TOKENIZERS_PARALLELISM=(true | false)\n",
      "\u001b[32m2025-01-23 14:01:45.330\u001b[0m | \u001b[1mINFO    \u001b[0m | \u001b[36mhyvideo.inference\u001b[0m:\u001b[36mpredict\u001b[0m:\u001b[36m605\u001b[0m - \u001b[1mInput (height, width, video_length) = (512, 512, 25)\u001b[0m\n"
     ]
    },
    {
     "name": "stdout",
     "output_type": "stream",
     "text": [
      "\n"
     ]
    },
    {
     "name": "stderr",
     "output_type": "stream",
     "text": [
      "\u001b[32m2025-01-23 14:01:45.537\u001b[0m | \u001b[34m\u001b[1mDEBUG   \u001b[0m | \u001b[36mhyvideo.inference\u001b[0m:\u001b[36mpredict\u001b[0m:\u001b[36m665\u001b[0m - \u001b[34m\u001b[1m\n",
      "                        height: 512\n",
      "                         width: 512\n",
      "                  video_length: 25\n",
      "                        prompt: ['A cat walks on the grass, realistic style.']\n",
      "                    neg_prompt: ['Aerial view, aerial view, overexposed, low quality, deformation, a poor composition, bad hands, bad teeth, bad eyes, bad limbs, distortion']\n",
      "                          seed: 42\n",
      "                   infer_steps: 30\n",
      "         num_videos_per_prompt: 1\n",
      "                guidance_scale: 1.0\n",
      "                      n_tokens: 7168\n",
      "                    flow_shift: 7.0\n",
      "       embedded_guidance_scale: 2.0\u001b[0m\n"
     ]
    },
    {
     "name": "stdout",
     "output_type": "stream",
     "text": [
      "inverse_cross_attention_kwargs = {'feature_path': 'feature', 'feature': {}, 'inject_step': 0}\n",
      "cuda:0\n",
      "cuda:0\n",
      "sigmas_reverse\n",
      "sigmas: tensor([0.0000, 0.0049, 0.0101, 0.0156, 0.0215, 0.0278, 0.0345, 0.0417, 0.0494,\n",
      "        0.0577, 0.0667, 0.0764, 0.0870, 0.0985, 0.1111, 0.1250, 0.1404, 0.1574,\n",
      "        0.1765, 0.1979, 0.2222, 0.2500, 0.2821, 0.3194, 0.3636, 0.4167, 0.4815,\n",
      "        0.5625, 0.6667, 0.8056, 1.0000])\n",
      "Using inversed latents\n",
      "Step 0: t = 0.0\n",
      "Step 1: t = 4.9019455909729\n",
      "Step 2: t = 10.101020812988281\n",
      "Step 3: t = 15.625\n",
      "Step 4: t = 21.505355834960938\n",
      "Step 5: t = 27.777851104736328\n",
      "Step 6: t = 34.4827766418457\n",
      "Step 7: t = 41.6666259765625\n",
      "Step 8: t = 49.382747650146484\n",
      "Step 9: t = 57.692230224609375\n",
      "Step 10: t = 66.6667251586914\n",
      "Step 11: t = 76.3888931274414\n",
      "Step 12: t = 86.95655822753906\n",
      "Step 13: t = 98.48487091064453\n",
      "Step 14: t = 111.1111068725586\n",
      "Step 15: t = 125.0\n",
      "Step 16: t = 140.3508758544922\n",
      "Step 17: t = 157.40740966796875\n",
      "Step 18: t = 176.4705810546875\n",
      "Step 19: t = 197.91668701171875\n",
      "Step 20: t = 222.22215270996094\n",
      "Step 21: t = 250.0\n",
      "Step 22: t = 282.05126953125\n",
      "Step 23: t = 319.4444274902344\n",
      "Step 24: t = 363.6363220214844\n",
      "Step 25: t = 416.6666259765625\n",
      "Step 26: t = 481.48150634765625\n",
      "Step 27: t = 562.5\n",
      "Step 28: t = 666.6666259765625\n",
      "Step 29: t = 805.5556030273438\n"
     ]
    },
    {
     "name": "stderr",
     "output_type": "stream",
     "text": [
      "  0%|          | 0/30 [00:00<?, ?it/s]"
     ]
    },
    {
     "name": "stdout",
     "output_type": "stream",
     "text": [
      "Step 0: t_curr = 0.0, t_prev = 4.9019455909729\n",
      "t:1\n",
      "inv_cross_attention_kwargs id: 140003018703104\n"
     ]
    },
    {
     "name": "stderr",
     "output_type": "stream",
     "text": [
      "  3%|▎         | 1/30 [00:03<01:35,  3.29s/it]"
     ]
    },
    {
     "name": "stdout",
     "output_type": "stream",
     "text": [
      "Step 1: t_curr = 4.9019455909729, t_prev = 10.101020812988281\n",
      "t:2\n",
      "inv_cross_attention_kwargs id: 140003018703104\n"
     ]
    },
    {
     "name": "stderr",
     "output_type": "stream",
     "text": [
      "  7%|▋         | 2/30 [00:06<01:31,  3.26s/it]"
     ]
    },
    {
     "name": "stdout",
     "output_type": "stream",
     "text": [
      "Step 2: t_curr = 10.101020812988281, t_prev = 15.625\n",
      "t:3\n",
      "inv_cross_attention_kwargs id: 140003018703104\n"
     ]
    },
    {
     "name": "stderr",
     "output_type": "stream",
     "text": [
      " 10%|█         | 3/30 [00:09<01:27,  3.24s/it]"
     ]
    },
    {
     "name": "stdout",
     "output_type": "stream",
     "text": [
      "Step 3: t_curr = 15.625, t_prev = 21.505355834960938\n",
      "t:4\n",
      "inv_cross_attention_kwargs id: 140003018703104\n"
     ]
    },
    {
     "name": "stderr",
     "output_type": "stream",
     "text": [
      " 13%|█▎        | 4/30 [00:12<01:24,  3.24s/it]"
     ]
    },
    {
     "name": "stdout",
     "output_type": "stream",
     "text": [
      "Step 4: t_curr = 21.505355834960938, t_prev = 27.777851104736328\n",
      "t:5\n",
      "inv_cross_attention_kwargs id: 140003018703104\n"
     ]
    },
    {
     "name": "stderr",
     "output_type": "stream",
     "text": [
      " 17%|█▋        | 5/30 [00:16<01:20,  3.24s/it]"
     ]
    },
    {
     "name": "stdout",
     "output_type": "stream",
     "text": [
      "Step 5: t_curr = 27.777851104736328, t_prev = 34.4827766418457\n",
      "t:6\n",
      "inv_cross_attention_kwargs id: 140003018703104\n"
     ]
    },
    {
     "name": "stderr",
     "output_type": "stream",
     "text": [
      " 20%|██        | 6/30 [00:19<01:17,  3.21s/it]"
     ]
    },
    {
     "name": "stdout",
     "output_type": "stream",
     "text": [
      "Step 6: t_curr = 34.4827766418457, t_prev = 41.6666259765625\n",
      "t:7\n",
      "inv_cross_attention_kwargs id: 140003018703104\n"
     ]
    },
    {
     "name": "stderr",
     "output_type": "stream",
     "text": [
      " 23%|██▎       | 7/30 [00:22<01:13,  3.19s/it]"
     ]
    },
    {
     "name": "stdout",
     "output_type": "stream",
     "text": [
      "Step 7: t_curr = 41.6666259765625, t_prev = 49.382747650146484\n",
      "t:8\n",
      "inv_cross_attention_kwargs id: 140003018703104\n"
     ]
    },
    {
     "name": "stderr",
     "output_type": "stream",
     "text": [
      " 27%|██▋       | 8/30 [00:25<01:09,  3.17s/it]"
     ]
    },
    {
     "name": "stdout",
     "output_type": "stream",
     "text": [
      "Step 8: t_curr = 49.382747650146484, t_prev = 57.692230224609375\n",
      "t:9\n",
      "inv_cross_attention_kwargs id: 140003018703104\n"
     ]
    },
    {
     "name": "stderr",
     "output_type": "stream",
     "text": [
      " 30%|███       | 9/30 [00:28<01:06,  3.16s/it]"
     ]
    },
    {
     "name": "stdout",
     "output_type": "stream",
     "text": [
      "Step 9: t_curr = 57.692230224609375, t_prev = 66.6667251586914\n",
      "t:10\n",
      "inv_cross_attention_kwargs id: 140003018703104\n"
     ]
    },
    {
     "name": "stderr",
     "output_type": "stream",
     "text": [
      " 33%|███▎      | 10/30 [00:31<01:03,  3.16s/it]"
     ]
    },
    {
     "name": "stdout",
     "output_type": "stream",
     "text": [
      "Step 10: t_curr = 66.6667251586914, t_prev = 76.3888931274414\n",
      "t:11\n",
      "inv_cross_attention_kwargs id: 140003018703104\n"
     ]
    },
    {
     "name": "stderr",
     "output_type": "stream",
     "text": [
      " 37%|███▋      | 11/30 [00:35<01:00,  3.16s/it]"
     ]
    },
    {
     "name": "stdout",
     "output_type": "stream",
     "text": [
      "Step 11: t_curr = 76.3888931274414, t_prev = 86.95655822753906\n",
      "t:12\n",
      "inv_cross_attention_kwargs id: 140003018703104\n"
     ]
    },
    {
     "name": "stderr",
     "output_type": "stream",
     "text": [
      " 40%|████      | 12/30 [00:38<00:56,  3.16s/it]"
     ]
    },
    {
     "name": "stdout",
     "output_type": "stream",
     "text": [
      "Step 12: t_curr = 86.95655822753906, t_prev = 98.48487091064453\n",
      "t:13\n",
      "inv_cross_attention_kwargs id: 140003018703104\n"
     ]
    },
    {
     "name": "stderr",
     "output_type": "stream",
     "text": [
      " 43%|████▎     | 13/30 [00:41<00:53,  3.16s/it]"
     ]
    },
    {
     "name": "stdout",
     "output_type": "stream",
     "text": [
      "Step 13: t_curr = 98.48487091064453, t_prev = 111.1111068725586\n",
      "t:14\n",
      "inv_cross_attention_kwargs id: 140003018703104\n"
     ]
    },
    {
     "name": "stderr",
     "output_type": "stream",
     "text": [
      " 47%|████▋     | 14/30 [00:44<00:50,  3.16s/it]"
     ]
    },
    {
     "name": "stdout",
     "output_type": "stream",
     "text": [
      "Step 14: t_curr = 111.1111068725586, t_prev = 125.0\n",
      "t:15\n",
      "inv_cross_attention_kwargs id: 140003018703104\n"
     ]
    },
    {
     "name": "stderr",
     "output_type": "stream",
     "text": [
      " 50%|█████     | 15/30 [00:47<00:47,  3.17s/it]"
     ]
    },
    {
     "name": "stdout",
     "output_type": "stream",
     "text": [
      "Step 15: t_curr = 125.0, t_prev = 140.3508758544922\n",
      "t:16\n",
      "inv_cross_attention_kwargs id: 140003018703104\n"
     ]
    },
    {
     "name": "stderr",
     "output_type": "stream",
     "text": [
      " 53%|█████▎    | 16/30 [00:50<00:44,  3.17s/it]"
     ]
    },
    {
     "name": "stdout",
     "output_type": "stream",
     "text": [
      "Step 16: t_curr = 140.3508758544922, t_prev = 157.40740966796875\n",
      "t:17\n",
      "inv_cross_attention_kwargs id: 140003018703104\n"
     ]
    },
    {
     "name": "stderr",
     "output_type": "stream",
     "text": [
      " 57%|█████▋    | 17/30 [00:54<00:41,  3.18s/it]"
     ]
    },
    {
     "name": "stdout",
     "output_type": "stream",
     "text": [
      "Step 17: t_curr = 157.40740966796875, t_prev = 176.4705810546875\n",
      "t:18\n",
      "inv_cross_attention_kwargs id: 140003018703104\n"
     ]
    },
    {
     "name": "stderr",
     "output_type": "stream",
     "text": [
      " 60%|██████    | 18/30 [00:57<00:38,  3.20s/it]"
     ]
    },
    {
     "name": "stdout",
     "output_type": "stream",
     "text": [
      "Step 18: t_curr = 176.4705810546875, t_prev = 197.91668701171875\n",
      "t:19\n",
      "inv_cross_attention_kwargs id: 140003018703104\n"
     ]
    },
    {
     "name": "stderr",
     "output_type": "stream",
     "text": [
      " 63%|██████▎   | 19/30 [01:00<00:35,  3.19s/it]"
     ]
    },
    {
     "name": "stdout",
     "output_type": "stream",
     "text": [
      "Step 19: t_curr = 197.91668701171875, t_prev = 222.22215270996094\n",
      "t:20\n",
      "inv_cross_attention_kwargs id: 140003018703104\n"
     ]
    },
    {
     "name": "stderr",
     "output_type": "stream",
     "text": [
      " 67%|██████▋   | 20/30 [01:03<00:31,  3.19s/it]"
     ]
    },
    {
     "name": "stdout",
     "output_type": "stream",
     "text": [
      "Step 20: t_curr = 222.22215270996094, t_prev = 250.0\n",
      "t:21\n",
      "inv_cross_attention_kwargs id: 140003018703104\n"
     ]
    },
    {
     "name": "stderr",
     "output_type": "stream",
     "text": [
      " 70%|███████   | 21/30 [01:06<00:28,  3.21s/it]"
     ]
    },
    {
     "name": "stdout",
     "output_type": "stream",
     "text": [
      "Step 21: t_curr = 250.0, t_prev = 282.05126953125\n",
      "t:22\n",
      "inv_cross_attention_kwargs id: 140003018703104\n"
     ]
    },
    {
     "name": "stderr",
     "output_type": "stream",
     "text": [
      " 73%|███████▎  | 22/30 [01:10<00:25,  3.20s/it]"
     ]
    },
    {
     "name": "stdout",
     "output_type": "stream",
     "text": [
      "Step 22: t_curr = 282.05126953125, t_prev = 319.4444274902344\n",
      "t:23\n",
      "inv_cross_attention_kwargs id: 140003018703104\n"
     ]
    },
    {
     "name": "stderr",
     "output_type": "stream",
     "text": [
      " 77%|███████▋  | 23/30 [01:13<00:22,  3.22s/it]"
     ]
    },
    {
     "name": "stdout",
     "output_type": "stream",
     "text": [
      "Step 23: t_curr = 319.4444274902344, t_prev = 363.6363220214844\n",
      "t:24\n",
      "inv_cross_attention_kwargs id: 140003018703104\n"
     ]
    },
    {
     "name": "stderr",
     "output_type": "stream",
     "text": [
      " 80%|████████  | 24/30 [01:16<00:19,  3.22s/it]"
     ]
    },
    {
     "name": "stdout",
     "output_type": "stream",
     "text": [
      "Step 24: t_curr = 363.6363220214844, t_prev = 416.6666259765625\n",
      "t:25\n",
      "inv_cross_attention_kwargs id: 140003018703104\n"
     ]
    },
    {
     "name": "stderr",
     "output_type": "stream",
     "text": [
      " 83%|████████▎ | 25/30 [01:19<00:16,  3.20s/it]"
     ]
    },
    {
     "name": "stdout",
     "output_type": "stream",
     "text": [
      "Step 25: t_curr = 416.6666259765625, t_prev = 481.48150634765625\n",
      "t:26\n",
      "inv_cross_attention_kwargs id: 140003018703104\n"
     ]
    },
    {
     "name": "stderr",
     "output_type": "stream",
     "text": [
      " 87%|████████▋ | 26/30 [01:23<00:12,  3.20s/it]"
     ]
    },
    {
     "name": "stdout",
     "output_type": "stream",
     "text": [
      "Step 26: t_curr = 481.48150634765625, t_prev = 562.5\n",
      "t:27\n",
      "inv_cross_attention_kwargs id: 140003018703104\n"
     ]
    },
    {
     "name": "stderr",
     "output_type": "stream",
     "text": [
      " 90%|█████████ | 27/30 [01:26<00:09,  3.19s/it]"
     ]
    },
    {
     "name": "stdout",
     "output_type": "stream",
     "text": [
      "Step 27: t_curr = 562.5, t_prev = 666.6666259765625\n",
      "t:28\n",
      "inv_cross_attention_kwargs id: 140003018703104\n"
     ]
    },
    {
     "name": "stderr",
     "output_type": "stream",
     "text": [
      " 93%|█████████▎| 28/30 [01:29<00:06,  3.19s/it]"
     ]
    },
    {
     "name": "stdout",
     "output_type": "stream",
     "text": [
      "Step 28: t_curr = 666.6666259765625, t_prev = 805.5556030273438\n",
      "t:29\n",
      "inv_cross_attention_kwargs id: 140003018703104\n"
     ]
    },
    {
     "name": "stderr",
     "output_type": "stream",
     "text": [
      " 97%|█████████▋| 29/30 [01:32<00:03,  3.18s/it]"
     ]
    },
    {
     "name": "stdout",
     "output_type": "stream",
     "text": [
      "Step 29: t_curr = 805.5556030273438, t_prev = 1000.0\n",
      "t:30\n",
      "inv_cross_attention_kwargs id: 140003018703104\n"
     ]
    },
    {
     "name": "stderr",
     "output_type": "stream",
     "text": [
      "100%|██████████| 30/30 [01:35<00:00,  3.19s/it]\n"
     ]
    },
    {
     "name": "stdout",
     "output_type": "stream",
     "text": [
      "reverse_cross_attention_kwargs = {'feature_path': 'feature', 'feature': {}, 'inject_step': 0, 't': 30, 'inverse': True, 'second_order': True, 'inject': False, 'type': 'single', 'id': 0}\n",
      "cuda:0\n",
      "cuda:0\n",
      "sigmas: tensor([1.0000, 0.9951, 0.9899, 0.9844, 0.9785, 0.9722, 0.9655, 0.9583, 0.9506,\n",
      "        0.9423, 0.9333, 0.9236, 0.9130, 0.9015, 0.8889, 0.8750, 0.8596, 0.8426,\n",
      "        0.8235, 0.8021, 0.7778, 0.7500, 0.7179, 0.6806, 0.6364, 0.5833, 0.5185,\n",
      "        0.4375, 0.3333, 0.1944, 0.0000])\n",
      "Using inversed latents\n",
      "Step 0: t = 1000.0\n",
      "Step 1: t = 995.0980834960938\n",
      "Step 2: t = 989.8989868164062\n",
      "Step 3: t = 984.375\n",
      "Step 4: t = 978.49462890625\n",
      "Step 5: t = 972.22216796875\n",
      "Step 6: t = 965.5172119140625\n",
      "Step 7: t = 958.3333740234375\n",
      "Step 8: t = 950.6172485351562\n",
      "Step 9: t = 942.3078002929688\n",
      "Step 10: t = 933.333251953125\n",
      "Step 11: t = 923.611083984375\n",
      "Step 12: t = 913.04345703125\n",
      "Step 13: t = 901.51513671875\n",
      "Step 14: t = 888.888916015625\n",
      "Step 15: t = 875.0\n",
      "Step 16: t = 859.6491088867188\n",
      "Step 17: t = 842.5925903320312\n",
      "Step 18: t = 823.5294189453125\n",
      "Step 19: t = 802.0833129882812\n",
      "Step 20: t = 777.77783203125\n",
      "Step 21: t = 750.0\n",
      "Step 22: t = 717.94873046875\n",
      "Step 23: t = 680.5556030273438\n",
      "Step 24: t = 636.3637084960938\n",
      "Step 25: t = 583.3333740234375\n",
      "Step 26: t = 518.5184936523438\n",
      "Step 27: t = 437.5000305175781\n",
      "Step 28: t = 333.3333435058594\n",
      "Step 29: t = 194.44444274902344\n"
     ]
    },
    {
     "name": "stderr",
     "output_type": "stream",
     "text": [
      "  0%|          | 0/30 [00:00<?, ?it/s]"
     ]
    },
    {
     "name": "stdout",
     "output_type": "stream",
     "text": [
      "Step 0: t_curr = 1000.0, t_prev = 995.0980834960938\n",
      "t:30\n",
      "rev_cross_attention_kwargs id: 140003018703104\n"
     ]
    },
    {
     "name": "stderr",
     "output_type": "stream",
     "text": [
      "  3%|▎         | 1/30 [00:03<01:31,  3.17s/it]"
     ]
    },
    {
     "name": "stdout",
     "output_type": "stream",
     "text": [
      "Step 1: t_curr = 995.0980834960938, t_prev = 989.8989868164062\n",
      "t:29\n",
      "rev_cross_attention_kwargs id: 140003018703104\n"
     ]
    },
    {
     "name": "stderr",
     "output_type": "stream",
     "text": [
      "  7%|▋         | 2/30 [00:06<01:28,  3.17s/it]"
     ]
    },
    {
     "name": "stdout",
     "output_type": "stream",
     "text": [
      "Step 2: t_curr = 989.8989868164062, t_prev = 984.375\n",
      "t:28\n",
      "rev_cross_attention_kwargs id: 140003018703104\n"
     ]
    },
    {
     "name": "stderr",
     "output_type": "stream",
     "text": [
      " 10%|█         | 3/30 [00:09<01:26,  3.21s/it]"
     ]
    },
    {
     "name": "stdout",
     "output_type": "stream",
     "text": [
      "Step 3: t_curr = 984.375, t_prev = 978.49462890625\n",
      "t:27\n",
      "rev_cross_attention_kwargs id: 140003018703104\n"
     ]
    },
    {
     "name": "stderr",
     "output_type": "stream",
     "text": [
      " 13%|█▎        | 4/30 [00:12<01:23,  3.22s/it]"
     ]
    },
    {
     "name": "stdout",
     "output_type": "stream",
     "text": [
      "Step 4: t_curr = 978.49462890625, t_prev = 972.22216796875\n",
      "t:26\n",
      "rev_cross_attention_kwargs id: 140003018703104\n"
     ]
    },
    {
     "name": "stderr",
     "output_type": "stream",
     "text": [
      " 17%|█▋        | 5/30 [00:16<01:20,  3.20s/it]"
     ]
    },
    {
     "name": "stdout",
     "output_type": "stream",
     "text": [
      "Step 5: t_curr = 972.22216796875, t_prev = 965.5172119140625\n",
      "t:25\n",
      "rev_cross_attention_kwargs id: 140003018703104\n"
     ]
    },
    {
     "name": "stderr",
     "output_type": "stream",
     "text": [
      " 20%|██        | 6/30 [00:19<01:16,  3.20s/it]"
     ]
    },
    {
     "name": "stdout",
     "output_type": "stream",
     "text": [
      "Step 6: t_curr = 965.5172119140625, t_prev = 958.3333740234375\n",
      "t:24\n",
      "rev_cross_attention_kwargs id: 140003018703104\n"
     ]
    },
    {
     "name": "stderr",
     "output_type": "stream",
     "text": [
      " 23%|██▎       | 7/30 [00:22<01:13,  3.22s/it]"
     ]
    },
    {
     "name": "stdout",
     "output_type": "stream",
     "text": [
      "Step 7: t_curr = 958.3333740234375, t_prev = 950.6172485351562\n",
      "t:23\n",
      "rev_cross_attention_kwargs id: 140003018703104\n"
     ]
    },
    {
     "name": "stderr",
     "output_type": "stream",
     "text": [
      " 27%|██▋       | 8/30 [00:25<01:11,  3.23s/it]"
     ]
    },
    {
     "name": "stdout",
     "output_type": "stream",
     "text": [
      "Step 8: t_curr = 950.6172485351562, t_prev = 942.3078002929688\n",
      "t:22\n",
      "rev_cross_attention_kwargs id: 140003018703104\n"
     ]
    },
    {
     "name": "stderr",
     "output_type": "stream",
     "text": [
      " 30%|███       | 9/30 [00:28<01:07,  3.22s/it]"
     ]
    },
    {
     "name": "stdout",
     "output_type": "stream",
     "text": [
      "Step 9: t_curr = 942.3078002929688, t_prev = 933.333251953125\n",
      "t:21\n",
      "rev_cross_attention_kwargs id: 140003018703104\n"
     ]
    },
    {
     "name": "stderr",
     "output_type": "stream",
     "text": [
      " 33%|███▎      | 10/30 [00:32<01:04,  3.20s/it]"
     ]
    },
    {
     "name": "stdout",
     "output_type": "stream",
     "text": [
      "Step 10: t_curr = 933.333251953125, t_prev = 923.611083984375\n",
      "t:20\n",
      "rev_cross_attention_kwargs id: 140003018703104\n"
     ]
    },
    {
     "name": "stderr",
     "output_type": "stream",
     "text": [
      " 37%|███▋      | 11/30 [00:35<01:00,  3.19s/it]"
     ]
    },
    {
     "name": "stdout",
     "output_type": "stream",
     "text": [
      "Step 11: t_curr = 923.611083984375, t_prev = 913.04345703125\n",
      "t:19\n",
      "rev_cross_attention_kwargs id: 140003018703104\n"
     ]
    },
    {
     "name": "stderr",
     "output_type": "stream",
     "text": [
      " 40%|████      | 12/30 [00:38<00:57,  3.18s/it]"
     ]
    },
    {
     "name": "stdout",
     "output_type": "stream",
     "text": [
      "Step 12: t_curr = 913.04345703125, t_prev = 901.51513671875\n",
      "t:18\n",
      "rev_cross_attention_kwargs id: 140003018703104\n"
     ]
    },
    {
     "name": "stderr",
     "output_type": "stream",
     "text": [
      " 43%|████▎     | 13/30 [00:41<00:53,  3.17s/it]"
     ]
    },
    {
     "name": "stdout",
     "output_type": "stream",
     "text": [
      "Step 13: t_curr = 901.51513671875, t_prev = 888.888916015625\n",
      "t:17\n",
      "rev_cross_attention_kwargs id: 140003018703104\n"
     ]
    },
    {
     "name": "stderr",
     "output_type": "stream",
     "text": [
      " 47%|████▋     | 14/30 [00:44<00:50,  3.17s/it]"
     ]
    },
    {
     "name": "stdout",
     "output_type": "stream",
     "text": [
      "Step 14: t_curr = 888.888916015625, t_prev = 875.0\n",
      "t:16\n",
      "rev_cross_attention_kwargs id: 140003018703104\n"
     ]
    },
    {
     "name": "stderr",
     "output_type": "stream",
     "text": [
      " 50%|█████     | 15/30 [00:47<00:47,  3.17s/it]"
     ]
    },
    {
     "name": "stdout",
     "output_type": "stream",
     "text": [
      "Step 15: t_curr = 875.0, t_prev = 859.6491088867188\n",
      "t:15\n",
      "rev_cross_attention_kwargs id: 140003018703104\n"
     ]
    },
    {
     "name": "stderr",
     "output_type": "stream",
     "text": [
      " 53%|█████▎    | 16/30 [00:51<00:44,  3.17s/it]"
     ]
    },
    {
     "name": "stdout",
     "output_type": "stream",
     "text": [
      "Step 16: t_curr = 859.6491088867188, t_prev = 842.5925903320312\n",
      "t:14\n",
      "rev_cross_attention_kwargs id: 140003018703104\n"
     ]
    },
    {
     "name": "stderr",
     "output_type": "stream",
     "text": [
      " 57%|█████▋    | 17/30 [00:54<00:41,  3.19s/it]"
     ]
    },
    {
     "name": "stdout",
     "output_type": "stream",
     "text": [
      "Step 17: t_curr = 842.5925903320312, t_prev = 823.5294189453125\n",
      "t:13\n",
      "rev_cross_attention_kwargs id: 140003018703104\n"
     ]
    },
    {
     "name": "stderr",
     "output_type": "stream",
     "text": [
      " 60%|██████    | 18/30 [00:57<00:38,  3.22s/it]"
     ]
    },
    {
     "name": "stdout",
     "output_type": "stream",
     "text": [
      "Step 18: t_curr = 823.5294189453125, t_prev = 802.0833129882812\n",
      "t:12\n",
      "rev_cross_attention_kwargs id: 140003018703104\n"
     ]
    },
    {
     "name": "stderr",
     "output_type": "stream",
     "text": [
      " 63%|██████▎   | 19/30 [01:00<00:35,  3.23s/it]"
     ]
    },
    {
     "name": "stdout",
     "output_type": "stream",
     "text": [
      "Step 19: t_curr = 802.0833129882812, t_prev = 777.77783203125\n",
      "t:11\n",
      "rev_cross_attention_kwargs id: 140003018703104\n"
     ]
    },
    {
     "name": "stderr",
     "output_type": "stream",
     "text": [
      " 67%|██████▋   | 20/30 [01:04<00:32,  3.23s/it]"
     ]
    },
    {
     "name": "stdout",
     "output_type": "stream",
     "text": [
      "Step 20: t_curr = 777.77783203125, t_prev = 750.0\n",
      "t:10\n",
      "rev_cross_attention_kwargs id: 140003018703104\n"
     ]
    },
    {
     "name": "stderr",
     "output_type": "stream",
     "text": [
      " 70%|███████   | 21/30 [01:07<00:28,  3.21s/it]"
     ]
    },
    {
     "name": "stdout",
     "output_type": "stream",
     "text": [
      "Step 21: t_curr = 750.0, t_prev = 717.94873046875\n",
      "t:9\n",
      "rev_cross_attention_kwargs id: 140003018703104\n"
     ]
    },
    {
     "name": "stderr",
     "output_type": "stream",
     "text": [
      " 73%|███████▎  | 22/30 [01:10<00:25,  3.20s/it]"
     ]
    },
    {
     "name": "stdout",
     "output_type": "stream",
     "text": [
      "Step 22: t_curr = 717.94873046875, t_prev = 680.5556030273438\n",
      "t:8\n",
      "rev_cross_attention_kwargs id: 140003018703104\n"
     ]
    },
    {
     "name": "stderr",
     "output_type": "stream",
     "text": [
      " 77%|███████▋  | 23/30 [01:13<00:22,  3.19s/it]"
     ]
    },
    {
     "name": "stdout",
     "output_type": "stream",
     "text": [
      "Step 23: t_curr = 680.5556030273438, t_prev = 636.3637084960938\n",
      "t:7\n",
      "rev_cross_attention_kwargs id: 140003018703104\n"
     ]
    },
    {
     "name": "stderr",
     "output_type": "stream",
     "text": [
      " 80%|████████  | 24/30 [01:16<00:19,  3.18s/it]"
     ]
    },
    {
     "name": "stdout",
     "output_type": "stream",
     "text": [
      "Step 24: t_curr = 636.3637084960938, t_prev = 583.3333740234375\n",
      "t:6\n",
      "rev_cross_attention_kwargs id: 140003018703104\n"
     ]
    },
    {
     "name": "stderr",
     "output_type": "stream",
     "text": [
      " 83%|████████▎ | 25/30 [01:19<00:15,  3.18s/it]"
     ]
    },
    {
     "name": "stdout",
     "output_type": "stream",
     "text": [
      "Step 25: t_curr = 583.3333740234375, t_prev = 518.5184936523438\n",
      "t:5\n",
      "rev_cross_attention_kwargs id: 140003018703104\n"
     ]
    },
    {
     "name": "stderr",
     "output_type": "stream",
     "text": [
      " 87%|████████▋ | 26/30 [01:23<00:12,  3.18s/it]"
     ]
    },
    {
     "name": "stdout",
     "output_type": "stream",
     "text": [
      "Step 26: t_curr = 518.5184936523438, t_prev = 437.5000305175781\n",
      "t:4\n",
      "rev_cross_attention_kwargs id: 140003018703104\n"
     ]
    },
    {
     "name": "stderr",
     "output_type": "stream",
     "text": [
      " 90%|█████████ | 27/30 [01:26<00:09,  3.17s/it]"
     ]
    },
    {
     "name": "stdout",
     "output_type": "stream",
     "text": [
      "Step 27: t_curr = 437.5000305175781, t_prev = 333.3333435058594\n",
      "t:3\n",
      "rev_cross_attention_kwargs id: 140003018703104\n"
     ]
    },
    {
     "name": "stderr",
     "output_type": "stream",
     "text": [
      " 93%|█████████▎| 28/30 [01:29<00:06,  3.17s/it]"
     ]
    },
    {
     "name": "stdout",
     "output_type": "stream",
     "text": [
      "Step 28: t_curr = 333.3333435058594, t_prev = 194.44444274902344\n",
      "t:2\n",
      "rev_cross_attention_kwargs id: 140003018703104\n"
     ]
    },
    {
     "name": "stderr",
     "output_type": "stream",
     "text": [
      " 97%|█████████▋| 29/30 [01:32<00:03,  3.17s/it]"
     ]
    },
    {
     "name": "stdout",
     "output_type": "stream",
     "text": [
      "Step 29: t_curr = 194.44444274902344, t_prev = 0.0\n",
      "t:1\n",
      "rev_cross_attention_kwargs id: 140003018703104\n"
     ]
    },
    {
     "name": "stderr",
     "output_type": "stream",
     "text": [
      "100%|██████████| 30/30 [01:35<00:00,  3.19s/it]\n",
      "\u001b[32m2025-01-23 14:05:29.220\u001b[0m | \u001b[1mINFO    \u001b[0m | \u001b[36mhyvideo.inference\u001b[0m:\u001b[36mpredict\u001b[0m:\u001b[36m709\u001b[0m - \u001b[1mSuccess, time: 223.6822555065155\u001b[0m\n",
      "huggingface/tokenizers: The current process just got forked, after parallelism has already been used. Disabling parallelism to avoid deadlocks...\n",
      "To disable this warning, you can either:\n",
      "\t- Avoid using `tokenizers` before the fork if possible\n",
      "\t- Explicitly set the environment variable TOKENIZERS_PARALLELISM=(true | false)\n",
      "\u001b[32m2025-01-23 14:05:31.324\u001b[0m | \u001b[1mINFO    \u001b[0m | \u001b[36m__main__\u001b[0m:\u001b[36mmain\u001b[0m:\u001b[36m74\u001b[0m - \u001b[1mSample save to: ./results/2025-01-23-14:05:29_seed42_A cat walks on the grass, realistic style..mp4\u001b[0m\n"
     ]
    }
   ],
   "source": [
    "%run edit_video.py \\\n",
    "    --dit-weight \"/home/chx/mySrc/HunyuanVideo/ckpts/hunyuan-video-t2v-720p/transformers/mp_rank_00_model_states_fp8.pt\" \\\n",
    "    --video-size 512 512 \\\n",
    "    --video-length 25 \\\n",
    "    --infer-steps 30 \\\n",
    "    --prompt \"A cat walks on the grass, realistic style.\" \\\n",
    "    --target-prompt \"A cat walks on the grass, realistic style.\" \\\n",
    "    --inject 0 \\\n",
    "    --seed 42 \\\n",
    "    --embedded-cfg-scale 2 \\\n",
    "    --flow-shift 7.0 \\\n",
    "    --flow-reverse \\\n",
    "    --use-cpu-offload \\\n",
    "    --use-fp8 \\\n",
    "    --save-path ./results \\\n",
    "    --inverse-video-path \"/home/chx/mySrc/HunyuanVideo/results/cat25.mp4\""
   ]
  },
  {
   "cell_type": "code",
   "execution_count": 1,
   "metadata": {},
   "outputs": [
    {
     "name": "stderr",
     "output_type": "stream",
     "text": [
      "/data/chx/anaconda3/envs/HunyuanVideo-std/lib/python3.10/site-packages/tqdm/auto.py:21: TqdmWarning: IProgress not found. Please update jupyter and ipywidgets. See https://ipywidgets.readthedocs.io/en/stable/user_install.html\n",
      "  from .autonotebook import tqdm as notebook_tqdm\n",
      "\u001b[32m2025-01-14 20:33:19.204\u001b[0m | \u001b[1mINFO    \u001b[0m | \u001b[36mhyvideo.inference\u001b[0m:\u001b[36mfrom_pretrained\u001b[0m:\u001b[36m154\u001b[0m - \u001b[1mGot text-to-video model root path: ckpts\u001b[0m\n",
      "\u001b[32m2025-01-14 20:33:19.205\u001b[0m | \u001b[1mINFO    \u001b[0m | \u001b[36mhyvideo.inference\u001b[0m:\u001b[36mfrom_pretrained\u001b[0m:\u001b[36m189\u001b[0m - \u001b[1mBuilding model...\u001b[0m\n"
     ]
    },
    {
     "name": "stdout",
     "output_type": "stream",
     "text": [
      "detect you are not use the latest yunchang. Please install yunchang>=0.4.0\n",
      "Namespace(model='HYVideo-T/2-cfgdistill', latent_channels=16, precision='bf16', rope_theta=256, vae='884-16c-hy', vae_precision='fp16', vae_tiling=True, text_encoder='llm', text_encoder_precision='fp16', text_states_dim=4096, text_len=256, tokenizer='llm', prompt_template='dit-llm-encode', prompt_template_video='dit-llm-encode-video', hidden_state_skip_layer=2, apply_final_norm=False, text_encoder_2='clipL', text_encoder_precision_2='fp16', text_states_dim_2=768, tokenizer_2='clipL', text_len_2=77, denoise_type='flow', flow_shift=7.0, flow_reverse=True, flow_solver='euler', use_linear_quadratic_schedule=False, linear_schedule_end=25, model_base='ckpts', dit_weight='/home/chx/mySrc/HunyuanVideo/ckpts/hunyuan-video-t2v-720p/transformers/mp_rank_00_model_states_fp8.pt', model_resolution='540p', load_key='module', use_cpu_offload=True, batch_size=1, infer_steps=30, disable_autocast=False, save_path='./results', save_path_suffix='', name_suffix='', num_videos=1, video_size=[512, 512], video_length=25, prompt='A cat walks on the grass, realistic style.', seed_type='auto', seed=42, neg_prompt=None, cfg_scale=1.0, embedded_cfg_scale=6.0, use_fp8=True, reproduce=False, ulysses_degree=1, ring_degree=1, inverse_video_path='/home/chx/mySrc/HunyuanVideo', target_prompt=None)\n",
      "cuda\n"
     ]
    },
    {
     "name": "stderr",
     "output_type": "stream",
     "text": [
      "/home/chx/mySrc/HunyuanVideo/hyvideo/modules/fp8_optimization.py:88: FutureWarning: You are using `torch.load` with `weights_only=False` (the current default value), which uses the default pickle module implicitly. It is possible to construct malicious pickle data which will execute arbitrary code during unpickling (See https://github.com/pytorch/pytorch/blob/main/SECURITY.md#untrusted-models for more details). In a future release, the default value for `weights_only` will be flipped to `True`. This limits the functions that could be executed during unpickling. Arbitrary objects will no longer be allowed to be loaded via this mode unless they are explicitly allowlisted by the user via `torch.serialization.add_safe_globals`. We recommend you start setting `weights_only=True` for any use case where you don't have full control of the loaded file. Please open an issue on GitHub for any issues related to this experimental feature.\n",
      "  fp8_map = torch.load(fp8_map_path, map_location=lambda storage, loc: storage)\n",
      "\u001b[32m2025-01-14 20:35:44.555\u001b[0m | \u001b[1mINFO    \u001b[0m | \u001b[36mhyvideo.inference\u001b[0m:\u001b[36mload_state_dict\u001b[0m:\u001b[36m344\u001b[0m - \u001b[1mLoading torch model /home/chx/mySrc/HunyuanVideo/ckpts/hunyuan-video-t2v-720p/transformers/mp_rank_00_model_states_fp8.pt...\u001b[0m\n",
      "/home/chx/mySrc/HunyuanVideo/hyvideo/inference.py:345: FutureWarning: You are using `torch.load` with `weights_only=False` (the current default value), which uses the default pickle module implicitly. It is possible to construct malicious pickle data which will execute arbitrary code during unpickling (See https://github.com/pytorch/pytorch/blob/main/SECURITY.md#untrusted-models for more details). In a future release, the default value for `weights_only` will be flipped to `True`. This limits the functions that could be executed during unpickling. Arbitrary objects will no longer be allowed to be loaded via this mode unless they are explicitly allowlisted by the user via `torch.serialization.add_safe_globals`. We recommend you start setting `weights_only=True` for any use case where you don't have full control of the loaded file. Please open an issue on GitHub for any issues related to this experimental feature.\n",
      "  state_dict = torch.load(model_path, map_location=lambda storage, loc: storage)\n",
      "\u001b[32m2025-01-14 20:35:58.311\u001b[0m | \u001b[1mINFO    \u001b[0m | \u001b[36mhyvideo.vae\u001b[0m:\u001b[36mload_vae\u001b[0m:\u001b[36m29\u001b[0m - \u001b[1mLoading 3D VAE model (884-16c-hy) from: ./ckpts/hunyuan-video-t2v-720p/vae\u001b[0m\n"
     ]
    },
    {
     "name": "stdout",
     "output_type": "stream",
     "text": [
      "loading vae\n"
     ]
    },
    {
     "name": "stderr",
     "output_type": "stream",
     "text": [
      "/home/chx/mySrc/HunyuanVideo/hyvideo/vae/__init__.py:39: FutureWarning: You are using `torch.load` with `weights_only=False` (the current default value), which uses the default pickle module implicitly. It is possible to construct malicious pickle data which will execute arbitrary code during unpickling (See https://github.com/pytorch/pytorch/blob/main/SECURITY.md#untrusted-models for more details). In a future release, the default value for `weights_only` will be flipped to `True`. This limits the functions that could be executed during unpickling. Arbitrary objects will no longer be allowed to be loaded via this mode unless they are explicitly allowlisted by the user via `torch.serialization.add_safe_globals`. We recommend you start setting `weights_only=True` for any use case where you don't have full control of the loaded file. Please open an issue on GitHub for any issues related to this experimental feature.\n",
      "  ckpt = torch.load(vae_ckpt, map_location=vae.device)\n",
      "\u001b[32m2025-01-14 20:36:02.525\u001b[0m | \u001b[1mINFO    \u001b[0m | \u001b[36mhyvideo.vae\u001b[0m:\u001b[36mload_vae\u001b[0m:\u001b[36m55\u001b[0m - \u001b[1mVAE to dtype: torch.float16\u001b[0m\n",
      "\u001b[32m2025-01-14 20:36:02.534\u001b[0m | \u001b[1mINFO    \u001b[0m | \u001b[36mhyvideo.text_encoder\u001b[0m:\u001b[36mload_text_encoder\u001b[0m:\u001b[36m28\u001b[0m - \u001b[1mLoading text encoder model (llm) from: ./ckpts/text_encoder\u001b[0m\n",
      "Loading checkpoint shards: 100%|██████████| 4/4 [00:05<00:00,  1.36s/it]\n",
      "\u001b[32m2025-01-14 20:36:13.190\u001b[0m | \u001b[1mINFO    \u001b[0m | \u001b[36mhyvideo.text_encoder\u001b[0m:\u001b[36mload_text_encoder\u001b[0m:\u001b[36m50\u001b[0m - \u001b[1mText encoder to dtype: torch.float16\u001b[0m\n",
      "\u001b[32m2025-01-14 20:36:13.194\u001b[0m | \u001b[1mINFO    \u001b[0m | \u001b[36mhyvideo.text_encoder\u001b[0m:\u001b[36mload_tokenizer\u001b[0m:\u001b[36m64\u001b[0m - \u001b[1mLoading tokenizer (llm) from: ./ckpts/text_encoder\u001b[0m\n",
      "\u001b[32m2025-01-14 20:36:13.772\u001b[0m | \u001b[1mINFO    \u001b[0m | \u001b[36mhyvideo.text_encoder\u001b[0m:\u001b[36mload_text_encoder\u001b[0m:\u001b[36m28\u001b[0m - \u001b[1mLoading text encoder model (clipL) from: ./ckpts/text_encoder_2\u001b[0m\n",
      "\u001b[32m2025-01-14 20:36:14.716\u001b[0m | \u001b[1mINFO    \u001b[0m | \u001b[36mhyvideo.text_encoder\u001b[0m:\u001b[36mload_text_encoder\u001b[0m:\u001b[36m50\u001b[0m - \u001b[1mText encoder to dtype: torch.float16\u001b[0m\n",
      "\u001b[32m2025-01-14 20:36:14.719\u001b[0m | \u001b[1mINFO    \u001b[0m | \u001b[36mhyvideo.text_encoder\u001b[0m:\u001b[36mload_tokenizer\u001b[0m:\u001b[36m64\u001b[0m - \u001b[1mLoading tokenizer (clipL) from: ./ckpts/text_encoder_2\u001b[0m\n",
      "\u001b[32m2025-01-14 20:36:14.917\u001b[0m | \u001b[1mINFO    \u001b[0m | \u001b[36mhyvideo.inference\u001b[0m:\u001b[36mpredict\u001b[0m:\u001b[36m590\u001b[0m - \u001b[1mInput (height, width, video_length) = (512, 512, 25)\u001b[0m\n"
     ]
    },
    {
     "name": "stdout",
     "output_type": "stream",
     "text": [
      "Enable sequential CPU offload.\n"
     ]
    },
    {
     "name": "stderr",
     "output_type": "stream",
     "text": [
      "\u001b[32m2025-01-14 20:36:15.189\u001b[0m | \u001b[34m\u001b[1mDEBUG   \u001b[0m | \u001b[36mhyvideo.inference\u001b[0m:\u001b[36mpredict\u001b[0m:\u001b[36m650\u001b[0m - \u001b[34m\u001b[1m\n",
      "                        height: 512\n",
      "                         width: 512\n",
      "                  video_length: 25\n",
      "                        prompt: ['A cat walks on the grass, realistic style.']\n",
      "                    neg_prompt: ['Aerial view, aerial view, overexposed, low quality, deformation, a poor composition, bad hands, bad teeth, bad eyes, bad limbs, distortion']\n",
      "                          seed: 42\n",
      "                   infer_steps: 30\n",
      "         num_videos_per_prompt: 1\n",
      "                guidance_scale: 1.0\n",
      "                      n_tokens: 7168\n",
      "                    flow_shift: 7.0\n",
      "       embedded_guidance_scale: 6.0\u001b[0m\n"
     ]
    },
    {
     "name": "stdout",
     "output_type": "stream",
     "text": [
      "self._execution_device cuda:0\n",
      "cuda:0\n",
      "cuda:0\n",
      "Step 0: t = 1000.0\n",
      "Step 1: t = 995.0980834960938\n",
      "Step 2: t = 989.8989868164062\n",
      "Step 3: t = 984.375\n",
      "Step 4: t = 978.49462890625\n",
      "Step 5: t = 972.22216796875\n",
      "Step 6: t = 965.5172119140625\n",
      "Step 7: t = 958.3333740234375\n",
      "Step 8: t = 950.6172485351562\n",
      "Step 9: t = 942.3078002929688\n",
      "Step 10: t = 933.333251953125\n",
      "Step 11: t = 923.611083984375\n",
      "Step 12: t = 913.04345703125\n",
      "Step 13: t = 901.51513671875\n",
      "Step 14: t = 888.888916015625\n",
      "Step 15: t = 875.0\n",
      "Step 16: t = 859.6491088867188\n",
      "Step 17: t = 842.5925903320312\n",
      "Step 18: t = 823.5294189453125\n",
      "Step 19: t = 802.0833129882812\n",
      "Step 20: t = 777.77783203125\n",
      "Step 21: t = 750.0\n",
      "Step 22: t = 717.94873046875\n",
      "Step 23: t = 680.5556030273438\n",
      "Step 24: t = 636.3637084960938\n",
      "Step 25: t = 583.3333740234375\n",
      "Step 26: t = 518.5184936523438\n",
      "Step 27: t = 437.5000305175781\n",
      "Step 28: t = 333.3333435058594\n",
      "Step 29: t = 194.44444274902344\n"
     ]
    },
    {
     "name": "stderr",
     "output_type": "stream",
     "text": [
      "100%|██████████| 30/30 [00:49<00:00,  1.64s/it]\n",
      "\u001b[32m2025-01-14 20:37:23.031\u001b[0m | \u001b[1mINFO    \u001b[0m | \u001b[36mhyvideo.inference\u001b[0m:\u001b[36mpredict\u001b[0m:\u001b[36m684\u001b[0m - \u001b[1mSuccess, time: 67.84050464630127\u001b[0m\n",
      "huggingface/tokenizers: The current process just got forked, after parallelism has already been used. Disabling parallelism to avoid deadlocks...\n",
      "To disable this warning, you can either:\n",
      "\t- Avoid using `tokenizers` before the fork if possible\n",
      "\t- Explicitly set the environment variable TOKENIZERS_PARALLELISM=(true | false)\n",
      "\u001b[32m2025-01-14 20:37:24.919\u001b[0m | \u001b[1mINFO    \u001b[0m | \u001b[36m__main__\u001b[0m:\u001b[36mmain\u001b[0m:\u001b[36m57\u001b[0m - \u001b[1mSample save to: ./results/2025-01-14-20:37:23_seed42_A cat walks on the grass, realistic style..mp4\u001b[0m\n"
     ]
    }
   ],
   "source": [
    "%run sample_video.py \\\n",
    "    --dit-weight \"/home/chx/mySrc/HunyuanVideo/ckpts/hunyuan-video-t2v-720p/transformers/mp_rank_00_model_states_fp8.pt\" \\\n",
    "    --video-size 512 512 \\\n",
    "    --video-length 25 \\\n",
    "    --infer-steps 30 \\\n",
    "    --prompt \"A cat walks on the grass, realistic style.\" \\\n",
    "    --seed 42 \\\n",
    "    --embedded-cfg-scale 6.0 \\\n",
    "    --flow-shift 7.0 \\\n",
    "    --flow-reverse \\\n",
    "    --use-cpu-offload \\\n",
    "    --use-fp8 \\\n",
    "    --save-path ./results"
   ]
  },
  {
   "cell_type": "code",
   "execution_count": null,
   "metadata": {},
   "outputs": [],
   "source": []
  }
 ],
 "metadata": {
  "kernelspec": {
   "display_name": "HunyuanVideo-std",
   "language": "python",
   "name": "python3"
  },
  "language_info": {
   "codemirror_mode": {
    "name": "ipython",
    "version": 3
   },
   "file_extension": ".py",
   "mimetype": "text/x-python",
   "name": "python",
   "nbconvert_exporter": "python",
   "pygments_lexer": "ipython3",
   "version": "3.10.9"
  }
 },
 "nbformat": 4,
 "nbformat_minor": 2
}
