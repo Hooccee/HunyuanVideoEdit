{
 "cells": [
  {
   "cell_type": "code",
   "execution_count": 1,
   "metadata": {},
   "outputs": [
    {
     "name": "stdout",
     "output_type": "stream",
     "text": [
      "Batch size: 1\n",
      "Video ID: ['aurora']\n",
      "Video shape: torch.Size([1, 24, 512, 512, 3])\n",
      "Source prompt: ['green and blue aurora paints the night sky over mountain silhouettes']\n",
      "Target prompt: ['red and yellow aurora paints the night sky over mountain silhouettes']\n",
      "---\n",
      "Batch size: 1\n",
      "Video ID: ['aurora']\n",
      "Video shape: torch.Size([1, 24, 512, 512, 3])\n",
      "Source prompt: ['green and blue aurora paints the night sky over mountain silhouettes']\n",
      "Target prompt: ['white and pure cloud paints the night sky over mountain silhouettes']\n",
      "---\n",
      "Batch size: 1\n",
      "Video ID: ['aurora']\n",
      "Video shape: torch.Size([1, 24, 512, 512, 3])\n",
      "Source prompt: ['green and blue aurora paints the night sky over mountain silhouettes']\n",
      "Target prompt: ['green and blue aurora paints the night sky over mountain silhouettes, van gogh starry night style']\n",
      "---\n",
      "Batch size: 1\n",
      "Video ID: ['beam']\n",
      "Video shape: torch.Size([1, 24, 512, 512, 3])\n",
      "Source prompt: ['symmetric neon light tunnel with blue and purple hues']\n",
      "Target prompt: ['symmetric neon light tunnel with green and yellow hues']\n",
      "---\n",
      "Batch size: 1\n",
      "Video ID: ['beam']\n",
      "Video shape: torch.Size([1, 24, 512, 512, 3])\n",
      "Source prompt: ['symmetric neon light tunnel with blue and purple hues']\n",
      "Target prompt: ['symmetric neon light tunnel with blue and purple hues, ukiyo-e style painting']\n",
      "---\n",
      "Batch size: 1\n",
      "Video ID: ['beam']\n",
      "Video shape: torch.Size([1, 24, 512, 512, 3])\n",
      "Source prompt: ['symmetric neon light tunnel with blue and purple hues']\n",
      "Target prompt: ['symmetric neon light tunnel with green and yellow hues, makoto shinkai style']\n",
      "---\n",
      "Batch size: 1\n",
      "Video ID: ['blackswan']\n",
      "Video shape: torch.Size([1, 24, 512, 512, 3])\n",
      "Source prompt: ['black swan is gracefully swimming in a pond with lush greenery in the background']\n",
      "Target prompt: ['pink flamingo is gracefully swimming in a pond with lush greenery in the background']\n",
      "---\n",
      "Batch size: 1\n",
      "Video ID: ['blackswan']\n",
      "Video shape: torch.Size([1, 24, 512, 512, 3])\n",
      "Source prompt: ['black swan is gracefully swimming in a pond with lush greenery in the background']\n",
      "Target prompt: ['black swan is gracefully swimming in a pond with lush greenery in the background, children drawing']\n",
      "---\n",
      "Batch size: 1\n",
      "Video ID: ['blackswan']\n",
      "Video shape: torch.Size([1, 24, 512, 512, 3])\n",
      "Source prompt: ['black swan is gracefully swimming in a pond with lush greenery in the background']\n",
      "Target prompt: ['white egret is gracefully swimming in a pond with cherry-blossom trees in the background']\n",
      "---\n",
      "Batch size: 1\n",
      "Video ID: ['blue-texture']\n",
      "Video shape: torch.Size([1, 24, 512, 512, 3])\n",
      "Source prompt: ['green balls float on blue water']\n",
      "Target prompt: ['orange balls float on blue water']\n",
      "---\n",
      "Batch size: 1\n",
      "Video ID: ['blue-texture']\n",
      "Video shape: torch.Size([1, 24, 512, 512, 3])\n",
      "Source prompt: ['green balls float on blue water']\n",
      "Target prompt: ['green balls float on pink water']\n",
      "---\n",
      "Batch size: 1\n",
      "Video ID: ['blue-texture']\n",
      "Video shape: torch.Size([1, 24, 512, 512, 3])\n",
      "Source prompt: ['green balls float on blue water']\n",
      "Target prompt: ['red cubes float on purple water, cartoon photo']\n",
      "---\n",
      "Batch size: 1\n",
      "Video ID: ['boat']\n",
      "Video shape: torch.Size([1, 24, 512, 512, 3])\n",
      "Source prompt: ['a white fishing boat sails on blue waters surrounded by small villages']\n",
      "Target prompt: ['a red sailing boat sails on blue waters surrounded by small villages']\n",
      "---\n",
      "Batch size: 1\n",
      "Video ID: ['boat']\n",
      "Video shape: torch.Size([1, 24, 512, 512, 3])\n",
      "Source prompt: ['a white fishing boat sails on blue waters surrounded by small villages']\n",
      "Target prompt: ['a white fishing boat sails on green waters surrounded by small villages']\n",
      "---\n",
      "Batch size: 1\n",
      "Video ID: ['boat']\n",
      "Video shape: torch.Size([1, 24, 512, 512, 3])\n",
      "Source prompt: ['a white fishing boat sails on blue waters surrounded by small villages']\n",
      "Target prompt: ['a white fishing boat sails on blue waters surrounded by small villages, picasso artwork']\n",
      "---\n",
      "Batch size: 1\n",
      "Video ID: ['boxing-fisheye']\n",
      "Video shape: torch.Size([1, 24, 512, 512, 3])\n",
      "Source prompt: ['two boxers sparring in an outdoor ring during the evening with a coach supervising and city buildings and trees in the background']\n",
      "Target prompt: ['two spider-men sparring in an outdoor ring during the evening with a coach supervising and city buildings and trees in the background']\n",
      "---\n",
      "Batch size: 1\n",
      "Video ID: ['boxing-fisheye']\n",
      "Video shape: torch.Size([1, 24, 512, 512, 3])\n",
      "Source prompt: ['two boxers sparring in an outdoor ring during the evening with a coach supervising and city buildings and trees in the background']\n",
      "Target prompt: ['two boxers sparring in an outdoor ring during the evening with a coach supervising and colorful corals and fish in the background']\n",
      "---\n",
      "Batch size: 1\n",
      "Video ID: ['boxing-fisheye']\n",
      "Video shape: torch.Size([1, 24, 512, 512, 3])\n",
      "Source prompt: ['two boxers sparring in an outdoor ring during the evening with a coach supervising and city buildings and trees in the background']\n",
      "Target prompt: ['two ninjas sparring in an outdoor ring during the evening with a coach supervising and city buildings and trees in the background, comic style']\n",
      "---\n",
      "Batch size: 1\n",
      "Video ID: ['bus']\n",
      "Video shape: torch.Size([1, 24, 512, 512, 3])\n",
      "Source prompt: ['aerial view of a white and blue bus driving down a city street']\n",
      "Target prompt: ['aerial view of a green and yellow taxi driving down a city street']\n",
      "---\n",
      "Batch size: 1\n",
      "Video ID: ['bus']\n",
      "Video shape: torch.Size([1, 24, 512, 512, 3])\n",
      "Source prompt: ['aerial view of a white and blue bus driving down a city street']\n",
      "Target prompt: ['aerial view of a white and blue bus driving down a forest road']\n",
      "---\n",
      "Batch size: 1\n",
      "Video ID: ['bus']\n",
      "Video shape: torch.Size([1, 24, 512, 512, 3])\n",
      "Source prompt: ['aerial view of a white and blue bus driving down a city street']\n",
      "Target prompt: ['aerial view of a white and blue bus driving down a city street, black and white sketch']\n",
      "---\n",
      "Batch size: 1\n",
      "Video ID: ['butterfly']\n",
      "Video shape: torch.Size([1, 24, 512, 512, 3])\n",
      "Source prompt: ['a black and yellow butterfly flutters over a plant in a field eventually alighting on a yellow flower']\n",
      "Target prompt: ['a black and yellow butterfly flutters over a plant in a field eventually alighting on a yellow flower, in 8-bit pixel art style']\n",
      "---\n",
      "Batch size: 1\n",
      "Video ID: ['butterfly']\n",
      "Video shape: torch.Size([1, 24, 512, 512, 3])\n",
      "Source prompt: ['a black and yellow butterfly flutters over a plant in a field eventually alighting on a yellow flower']\n",
      "Target prompt: ['a black and yellow butterfly flutters over a plant in a field eventually alighting on a red flower']\n",
      "---\n",
      "Batch size: 1\n",
      "Video ID: ['butterfly']\n",
      "Video shape: torch.Size([1, 24, 512, 512, 3])\n",
      "Source prompt: ['a black and yellow butterfly flutters over a plant in a field eventually alighting on a yellow flower']\n",
      "Target prompt: ['a black and yellow butterfly flutters over a plant in a field eventually alighting on a yellow flower, in a watercolor style']\n",
      "---\n",
      "Batch size: 1\n",
      "Video ID: ['car-shadow']\n",
      "Video shape: torch.Size([1, 24, 512, 512, 3])\n",
      "Source prompt: ['a car navigates city streets transitioning from shadow to sunlight amidst white buildings']\n",
      "Target prompt: ['a car navigates city streets transitioning from shadow to sunlight amidst white buildings, in pixar-style animation.']\n",
      "---\n",
      "Batch size: 1\n",
      "Video ID: ['car-shadow']\n",
      "Video shape: torch.Size([1, 24, 512, 512, 3])\n",
      "Source prompt: ['a car navigates city streets transitioning from shadow to sunlight amidst white buildings']\n",
      "Target prompt: ['a car navigates snowy streets transitioning from shadow to sunlight amidst white buildings']\n",
      "---\n",
      "Batch size: 1\n",
      "Video ID: ['car-shadow']\n",
      "Video shape: torch.Size([1, 24, 512, 512, 3])\n",
      "Source prompt: ['a car navigates city streets transitioning from shadow to sunlight amidst white buildings']\n",
      "Target prompt: ['a car navigates city streets transitioning from shadow to sunlight amidst green trees']\n",
      "---\n",
      "Batch size: 1\n",
      "Video ID: ['car-swamp']\n",
      "Video shape: torch.Size([1, 24, 512, 512, 3])\n",
      "Source prompt: ['a white car drives through a puddle of water in the wild']\n",
      "Target prompt: ['a orange boat drives through a puddle of water in the wild']\n",
      "---\n",
      "Batch size: 1\n",
      "Video ID: ['car-swamp']\n",
      "Video shape: torch.Size([1, 24, 512, 512, 3])\n",
      "Source prompt: ['a white car drives through a puddle of water in the wild']\n",
      "Target prompt: ['a white car drives through a puddle of lava in the wild']\n",
      "---\n",
      "Batch size: 1\n",
      "Video ID: ['car-swamp']\n",
      "Video shape: torch.Size([1, 24, 512, 512, 3])\n",
      "Source prompt: ['a white car drives through a puddle of water in the wild']\n",
      "Target prompt: ['a white car drives through a puddle of water in sunset beach']\n",
      "---\n",
      "Batch size: 1\n",
      "Video ID: ['car-turn']\n",
      "Video shape: torch.Size([1, 24, 512, 512, 3])\n",
      "Source prompt: ['a grey car navigates a curvy road surrounded by green grass trees and mountains during the day']\n",
      "Target prompt: ['a red sports-car navigates a curvy road surrounded by green grass trees and mountains during the day']\n",
      "---\n",
      "Batch size: 1\n",
      "Video ID: ['car-turn']\n",
      "Video shape: torch.Size([1, 24, 512, 512, 3])\n",
      "Source prompt: ['a grey car navigates a curvy road surrounded by green grass trees and mountains during the day']\n",
      "Target prompt: ['a grey car navigates a curvy road surrounded by snowy landscapes trees and mountains during the day']\n",
      "---\n",
      "Batch size: 1\n",
      "Video ID: ['car-turn']\n",
      "Video shape: torch.Size([1, 24, 512, 512, 3])\n",
      "Source prompt: ['a grey car navigates a curvy road surrounded by green grass trees and mountains during the day']\n",
      "Target prompt: ['a grey car navigates a curvy road surrounded by green grass trees and mountains during the day, in an animated cartoon style']\n",
      "---\n",
      "Batch size: 1\n",
      "Video ID: ['cat']\n",
      "Video shape: torch.Size([1, 24, 512, 512, 3])\n",
      "Source prompt: ['a cat perches atop a wooden fence against blue sky']\n",
      "Target prompt: ['a cat perches atop a wooden fence under the water']\n",
      "---\n",
      "Batch size: 1\n",
      "Video ID: ['cat']\n",
      "Video shape: torch.Size([1, 24, 512, 512, 3])\n",
      "Source prompt: ['a cat perches atop a wooden fence against blue sky']\n",
      "Target prompt: ['a cat perches atop a wooden fence against blue sky, in pokenmon animation style']\n",
      "---\n",
      "Batch size: 1\n",
      "Video ID: ['cat']\n",
      "Video shape: torch.Size([1, 24, 512, 512, 3])\n",
      "Source prompt: ['a cat perches atop a wooden fence against blue sky']\n",
      "Target prompt: ['a cogi perches atop a wooden fence against green forest']\n",
      "---\n",
      "Batch size: 1\n",
      "Video ID: ['cloud']\n",
      "Video shape: torch.Size([1, 24, 512, 512, 3])\n",
      "Source prompt: ['a large white cloud hovers over a hill']\n",
      "Target prompt: ['a large red cloud hovers over a hill']\n",
      "---\n",
      "Batch size: 1\n",
      "Video ID: ['cloud']\n",
      "Video shape: torch.Size([1, 24, 512, 512, 3])\n",
      "Source prompt: ['a large white cloud hovers over a hill']\n",
      "Target prompt: ['a large white cloud hovers over a hill, painted in expressionism style']\n",
      "---\n",
      "Batch size: 1\n",
      "Video ID: ['cloud']\n",
      "Video shape: torch.Size([1, 24, 512, 512, 3])\n",
      "Source prompt: ['a large white cloud hovers over a hill']\n",
      "Target prompt: [\"a large rainbow-colored cloud hovers over a hill, in van gogh's starry night style\"]\n",
      "---\n",
      "Batch size: 1\n",
      "Video ID: ['count']\n",
      "Video shape: torch.Size([1, 24, 512, 512, 3])\n",
      "Source prompt: ['digital number 10 displayed on a clock against a blue screen']\n",
      "Target prompt: ['digital number 10 displayed on a clock against a orange screen']\n",
      "---\n",
      "Batch size: 1\n",
      "Video ID: ['count']\n",
      "Video shape: torch.Size([1, 24, 512, 512, 3])\n",
      "Source prompt: ['digital number 10 displayed on a clock against a blue screen']\n",
      "Target prompt: ['digital number 10 displayed on a clock against a blue screen, oil painting style']\n",
      "---\n",
      "Batch size: 1\n",
      "Video ID: ['count']\n",
      "Video shape: torch.Size([1, 24, 512, 512, 3])\n",
      "Source prompt: ['digital number 10 displayed on a clock against a blue screen']\n",
      "Target prompt: ['calligraphy number 10 displayed on a clock against a blue screen']\n",
      "---\n",
      "Batch size: 1\n",
      "Video ID: ['cows']\n",
      "Video shape: torch.Size([1, 24, 512, 512, 3])\n",
      "Source prompt: ['a brown and white cow is walking through a field of grass and mud']\n",
      "Target prompt: ['a black and white panda is walking through a field of grass and mud']\n",
      "---\n",
      "Batch size: 1\n",
      "Video ID: ['cows']\n",
      "Video shape: torch.Size([1, 24, 512, 512, 3])\n",
      "Source prompt: ['a brown and white cow is walking through a field of grass and mud']\n",
      "Target prompt: ['a brown and white cow is walking through a field of wheat and flowers']\n",
      "---\n",
      "Batch size: 1\n",
      "Video ID: ['cows']\n",
      "Video shape: torch.Size([1, 24, 512, 512, 3])\n",
      "Source prompt: ['a brown and white cow is walking through a field of grass and mud']\n",
      "Target prompt: ['a black and white zebra is walking through a field of mountains and lake']\n",
      "---\n",
      "Batch size: 1\n",
      "Video ID: ['cross-city']\n",
      "Video shape: torch.Size([1, 24, 512, 512, 3])\n",
      "Source prompt: ['an urban street flanked by buildings with the sun casting long shadows']\n",
      "Target prompt: ['an urban street flanked by buildings with the moon casting long shadows']\n",
      "---\n",
      "Batch size: 1\n",
      "Video ID: ['cross-city']\n",
      "Video shape: torch.Size([1, 24, 512, 512, 3])\n",
      "Source prompt: ['an urban street flanked by buildings with the sun casting long shadows']\n",
      "Target prompt: ['an urban street flanked by buildings with the sun casting long shadows, animation style']\n",
      "---\n",
      "Batch size: 1\n",
      "Video ID: ['cross-city']\n",
      "Video shape: torch.Size([1, 24, 512, 512, 3])\n",
      "Source prompt: ['an urban street flanked by buildings with the sun casting long shadows']\n",
      "Target prompt: ['an urban street flanked by ice-cream with the sun casting long shadows']\n",
      "---\n",
      "Batch size: 1\n",
      "Video ID: ['crossing']\n",
      "Video shape: torch.Size([1, 24, 512, 512, 3])\n",
      "Source prompt: ['pedestrians cross the street at a busy crosswalk in front of a building']\n",
      "Target prompt: ['spiderman cross the street at a busy crosswalk in front of a building']\n",
      "---\n",
      "Batch size: 1\n",
      "Video ID: ['crossing']\n",
      "Video shape: torch.Size([1, 24, 512, 512, 3])\n",
      "Source prompt: ['pedestrians cross the street at a busy crosswalk in front of a building']\n",
      "Target prompt: ['pedestrians cross the street at a busy crosswalk in front of a building, animation style']\n",
      "---\n",
      "Batch size: 1\n",
      "Video ID: ['crossing']\n",
      "Video shape: torch.Size([1, 24, 512, 512, 3])\n",
      "Source prompt: ['pedestrians cross the street at a busy crosswalk in front of a building']\n",
      "Target prompt: ['pedestrians cross the street at a busy crosswalk in front of a forest']\n",
      "---\n",
      "Batch size: 1\n",
      "Video ID: ['dance-twirl']\n",
      "Video shape: torch.Size([1, 24, 512, 512, 3])\n",
      "Source prompt: ['a woman in a blue dress captivates a street crowd with her mesmerizing dance moves']\n",
      "Target prompt: ['a woman in a white t-shirt captivates a street crowd with her mesmerizing dance moves']\n",
      "---\n",
      "Batch size: 1\n",
      "Video ID: ['dance-twirl']\n",
      "Video shape: torch.Size([1, 24, 512, 512, 3])\n",
      "Source prompt: ['a woman in a blue dress captivates a street crowd with her mesmerizing dance moves']\n",
      "Target prompt: ['a woman in a blue dress captivates a street crowd with her mesmerizing dance moves, studio ghibli style']\n",
      "---\n",
      "Batch size: 1\n",
      "Video ID: ['dance-twirl']\n",
      "Video shape: torch.Size([1, 24, 512, 512, 3])\n",
      "Source prompt: ['a woman in a blue dress captivates a street crowd with her mesmerizing dance moves']\n",
      "Target prompt: ['a woman in a red dress captivates a street crowd with her mesmerizing dance moves, vibrant film style']\n",
      "---\n",
      "Batch size: 1\n",
      "Video ID: ['dog-agility']\n",
      "Video shape: torch.Size([1, 24, 512, 512, 3])\n",
      "Source prompt: ['a dog is navigating poles in an obstacle course weaving through poles against a gym backdrop with green grass']\n",
      "Target prompt: ['a dog is navigating poles in an obstacle course weaving through poles against a beach backdrop with palm trees']\n",
      "---\n",
      "Batch size: 1\n",
      "Video ID: ['dog-agility']\n",
      "Video shape: torch.Size([1, 24, 512, 512, 3])\n",
      "Source prompt: ['a dog is navigating poles in an obstacle course weaving through poles against a gym backdrop with green grass']\n",
      "Target prompt: ['a dog is navigating poles in an obstacle course weaving through poles against a gym backdrop with green grass, claymation style']\n",
      "---\n",
      "Batch size: 1\n",
      "Video ID: ['dog-agility']\n",
      "Video shape: torch.Size([1, 24, 512, 512, 3])\n",
      "Source prompt: ['a dog is navigating poles in an obstacle course weaving through poles against a gym backdrop with green grass']\n",
      "Target prompt: ['a toy-car is navigating poles in an obstacle course weaving through poles against a gym backdrop with green grass']\n",
      "---\n",
      "Batch size: 1\n",
      "Video ID: ['flamingo']\n",
      "Video shape: torch.Size([1, 24, 512, 512, 3])\n",
      "Source prompt: ['flamingos are drinking water by a tree surrounded by blue water and green shores']\n",
      "Target prompt: ['flamingos are drinking water by a tree surrounded by sandy beach and turquoise water']\n",
      "---\n",
      "Batch size: 1\n",
      "Video ID: ['flamingo']\n",
      "Video shape: torch.Size([1, 24, 512, 512, 3])\n",
      "Source prompt: ['flamingos are drinking water by a tree surrounded by blue water and green shores']\n",
      "Target prompt: ['flamingos are drinking water by a tree surrounded by blue water and green shores, in a cyber punk sci-fi style']\n",
      "---\n",
      "Batch size: 1\n",
      "Video ID: ['flamingo']\n",
      "Video shape: torch.Size([1, 24, 512, 512, 3])\n",
      "Source prompt: ['flamingos are drinking water by a tree surrounded by blue water and green shores']\n",
      "Target prompt: ['giraffes are drinking water by a tree surrounded by blue water and green shores, in a disney animation style']\n",
      "---\n",
      "Batch size: 1\n",
      "Video ID: ['helicopter']\n",
      "Video shape: torch.Size([1, 24, 512, 512, 3])\n",
      "Source prompt: ['a white and blue helicopter is lifting off from the green rooftop of a building near the ocean']\n",
      "Target prompt: ['a red and yellow balloon is lifting off from the green rooftop of a building near the ocean']\n",
      "---\n",
      "Batch size: 1\n",
      "Video ID: ['helicopter']\n",
      "Video shape: torch.Size([1, 24, 512, 512, 3])\n",
      "Source prompt: ['a white and blue helicopter is lifting off from the green rooftop of a building near the ocean']\n",
      "Target prompt: ['a white and blue helicopter is lifting off from the snowy rooftop of a building near the ocean']\n",
      "---\n",
      "Batch size: 1\n",
      "Video ID: ['helicopter']\n",
      "Video shape: torch.Size([1, 24, 512, 512, 3])\n",
      "Source prompt: ['a white and blue helicopter is lifting off from the green rooftop of a building near the ocean']\n",
      "Target prompt: ['a white and blue helicopter is lifting off from the green rooftop of a building near the ocean, in a chibi animation filter']\n",
      "---\n",
      "Batch size: 1\n",
      "Video ID: ['hike']\n",
      "Video shape: torch.Size([1, 24, 512, 512, 3])\n",
      "Source prompt: ['a man with a backpack hikes through the dolomites']\n",
      "Target prompt: ['a man with a giant-pencil hikes through the dolomites']\n",
      "---\n",
      "Batch size: 1\n",
      "Video ID: ['hike']\n",
      "Video shape: torch.Size([1, 24, 512, 512, 3])\n",
      "Source prompt: ['a man with a backpack hikes through the dolomites']\n",
      "Target prompt: ['a superman with a backpack hikes through the desert']\n",
      "---\n",
      "Batch size: 1\n",
      "Video ID: ['hike']\n",
      "Video shape: torch.Size([1, 24, 512, 512, 3])\n",
      "Source prompt: ['a man with a backpack hikes through the dolomites']\n",
      "Target prompt: ['a man with a backpack hikes through the dolomites, pixel art']\n",
      "---\n",
      "Batch size: 1\n",
      "Video ID: ['hockey']\n",
      "Video shape: torch.Size([1, 24, 512, 512, 3])\n",
      "Source prompt: ['a man on roller blades is playing inline hockey in an outdoor rink']\n",
      "Target prompt: ['a man on roller blades is playing inline hockey in an underwater rink']\n",
      "---\n",
      "Batch size: 1\n",
      "Video ID: ['hockey']\n",
      "Video shape: torch.Size([1, 24, 512, 512, 3])\n",
      "Source prompt: ['a man on roller blades is playing inline hockey in an outdoor rink']\n",
      "Target prompt: ['a man on roller blades is playing inline hockey in an outdoor rink, claymation animation style']\n",
      "---\n",
      "Batch size: 1\n",
      "Video ID: ['hockey']\n",
      "Video shape: torch.Size([1, 24, 512, 512, 3])\n",
      "Source prompt: ['a man on roller blades is playing inline hockey in an outdoor rink']\n",
      "Target prompt: ['a panda on roller blades is playing inline hockey in an outdoor rink']\n",
      "---\n",
      "Batch size: 1\n",
      "Video ID: ['horsejump-high']\n",
      "Video shape: torch.Size([1, 24, 512, 512, 3])\n",
      "Source prompt: ['a rider on horse navigates an obstacle course jumping hurdles']\n",
      "Target prompt: ['a rider on horse navigates an obstacle course jumping hurdles, in oil painting style']\n",
      "---\n",
      "Batch size: 1\n",
      "Video ID: ['horsejump-high']\n",
      "Video shape: torch.Size([1, 24, 512, 512, 3])\n",
      "Source prompt: ['a rider on horse navigates an obstacle course jumping hurdles']\n",
      "Target prompt: ['a rider on horse navigates an obstacle course jumping hurdles, in a comic book style']\n",
      "---\n",
      "Batch size: 1\n",
      "Video ID: ['horsejump-high']\n",
      "Video shape: torch.Size([1, 24, 512, 512, 3])\n",
      "Source prompt: ['a rider on horse navigates an obstacle course jumping hurdles']\n",
      "Target prompt: ['a rider on llama navigates an obstacle course jumping hurdles']\n",
      "---\n",
      "Batch size: 1\n",
      "Video ID: ['ink']\n",
      "Video shape: torch.Size([1, 24, 512, 512, 3])\n",
      "Source prompt: ['a drop of orange ink falling onto a white water']\n",
      "Target prompt: ['a box of lemon fruits falling onto a white water']\n",
      "---\n",
      "Batch size: 1\n",
      "Video ID: ['ink']\n",
      "Video shape: torch.Size([1, 24, 512, 512, 3])\n",
      "Source prompt: ['a drop of orange ink falling onto a white water']\n",
      "Target prompt: ['a drop of orange ink falling onto a green water']\n",
      "---\n",
      "Batch size: 1\n",
      "Video ID: ['ink']\n",
      "Video shape: torch.Size([1, 24, 512, 512, 3])\n",
      "Source prompt: ['a drop of orange ink falling onto a white water']\n",
      "Target prompt: ['a drop of orange ink falling onto a white water, black-white chinese watercolor style']\n",
      "---\n",
      "Batch size: 1\n",
      "Video ID: ['jellyfish']\n",
      "Video shape: torch.Size([1, 24, 512, 512, 3])\n",
      "Source prompt: ['blue ocean with mesmerizing footage of striped jellyfish']\n",
      "Target prompt: ['coral reef with mesmerizing footage of striped jellyfish, illuminated by neon lights']\n",
      "---\n",
      "Batch size: 1\n",
      "Video ID: ['jellyfish']\n",
      "Video shape: torch.Size([1, 24, 512, 512, 3])\n",
      "Source prompt: ['blue ocean with mesmerizing footage of striped jellyfish']\n",
      "Target prompt: ['red ocean with mesmerizing footage of striped jellyfish']\n",
      "---\n",
      "Batch size: 1\n",
      "Video ID: ['jellyfish']\n",
      "Video shape: torch.Size([1, 24, 512, 512, 3])\n",
      "Source prompt: ['blue ocean with mesmerizing footage of striped jellyfish']\n",
      "Target prompt: ['blue ocean with mesmerizing footage of striped jellyfish, van gogh starry night style']\n",
      "---\n",
      "Batch size: 1\n",
      "Video ID: ['kite-surf']\n",
      "Video shape: torch.Size([1, 24, 512, 512, 3])\n",
      "Source prompt: ['a person kiteboarding on turquoise waters with a coastal cityscape and mountain in the background']\n",
      "Target prompt: ['a superman running on turquoise waters with a coastal cityscape and mountain in the background']\n",
      "---\n",
      "Batch size: 1\n",
      "Video ID: ['kite-surf']\n",
      "Video shape: torch.Size([1, 24, 512, 512, 3])\n",
      "Source prompt: ['a person kiteboarding on turquoise waters with a coastal cityscape and mountain in the background']\n",
      "Target prompt: ['a person kiteboarding on lava lake with a coastal cityscape and mountain in the background']\n",
      "---\n",
      "Batch size: 1\n",
      "Video ID: ['kite-surf']\n",
      "Video shape: torch.Size([1, 24, 512, 512, 3])\n",
      "Source prompt: ['a person kiteboarding on turquoise waters with a coastal cityscape and mountain in the background']\n",
      "Target prompt: ['a person kiteboarding on turquoise waters with a coastal cityscape and mountain in the background, pixar animation style']\n",
      "---\n",
      "Batch size: 1\n",
      "Video ID: ['lab-coat']\n",
      "Video shape: torch.Size([1, 24, 512, 512, 3])\n",
      "Source prompt: ['three girls in lab coats are standing atop a grassy field as the camera closes in']\n",
      "Target prompt: ['three astronauts in spaceman costume are standing atop a grassy field as the camera closes in, stylized in an oil painting']\n",
      "---\n",
      "Batch size: 1\n",
      "Video ID: ['lab-coat']\n",
      "Video shape: torch.Size([1, 24, 512, 512, 3])\n",
      "Source prompt: ['three girls in lab coats are standing atop a grassy field as the camera closes in']\n",
      "Target prompt: ['three cats in lab coats are standing atop a grassy field as the camera closes in']\n",
      "---\n",
      "Batch size: 1\n",
      "Video ID: ['lab-coat']\n",
      "Video shape: torch.Size([1, 24, 512, 512, 3])\n",
      "Source prompt: ['three girls in lab coats are standing atop a grassy field as the camera closes in']\n",
      "Target prompt: ['three girls in lab coats are standing atop a grassy field as the camera closes in, paper cutout animation style']\n",
      "---\n",
      "Batch size: 1\n",
      "Video ID: ['landing']\n",
      "Video shape: torch.Size([1, 24, 512, 512, 3])\n",
      "Source prompt: ['a white passenger jet lands on a grey autumn runway']\n",
      "Target prompt: ['a white passenger jet lands on a grey winter runway']\n",
      "---\n",
      "Batch size: 1\n",
      "Video ID: ['landing']\n",
      "Video shape: torch.Size([1, 24, 512, 512, 3])\n",
      "Source prompt: ['a white passenger jet lands on a grey autumn runway']\n",
      "Target prompt: ['a white passenger jet lands on a sunny beach runway']\n",
      "---\n",
      "Batch size: 1\n",
      "Video ID: ['landing']\n",
      "Video shape: torch.Size([1, 24, 512, 512, 3])\n",
      "Source prompt: ['a white passenger jet lands on a grey autumn runway']\n",
      "Target prompt: ['a red passenger jet lands on a sunny tropical runway']\n",
      "---\n",
      "Batch size: 1\n",
      "Video ID: ['makeup']\n",
      "Video shape: torch.Size([1, 24, 512, 512, 3])\n",
      "Source prompt: ['a young woman with a towel wrapped around her head applying makeup with a brush']\n",
      "Target prompt: ['a bearded man with a pumpkin wrapped around his head applying makeup with a brush']\n",
      "---\n",
      "Batch size: 1\n",
      "Video ID: ['makeup']\n",
      "Video shape: torch.Size([1, 24, 512, 512, 3])\n",
      "Source prompt: ['a young woman with a towel wrapped around her head applying makeup with a brush']\n",
      "Target prompt: ['a young woman with a towel wrapped around her head applying makeup with a brush, in an oil painting style']\n",
      "---\n",
      "Batch size: 1\n",
      "Video ID: ['makeup']\n",
      "Video shape: torch.Size([1, 24, 512, 512, 3])\n",
      "Source prompt: ['a young woman with a towel wrapped around her head applying makeup with a brush']\n",
      "Target prompt: ['a santa claus with a hat wrapped around his head applying makeup with a brush, in pixar cartoon style']\n",
      "---\n",
      "Batch size: 1\n",
      "Video ID: ['man-skiing']\n",
      "Video shape: torch.Size([1, 24, 512, 512, 3])\n",
      "Source prompt: ['a snowboarder in a yellow jacket carves down a snowy mountain slope against a blue sky']\n",
      "Target prompt: ['a snowboarder in a yellow jacket carves down a green prairie slope against a blue sky']\n",
      "---\n",
      "Batch size: 1\n",
      "Video ID: ['man-skiing']\n",
      "Video shape: torch.Size([1, 24, 512, 512, 3])\n",
      "Source prompt: ['a snowboarder in a yellow jacket carves down a snowy mountain slope against a blue sky']\n",
      "Target prompt: ['a snowboarder in a yellow jacket carves down a snowy mountain slope against a pink sky']\n",
      "---\n",
      "Batch size: 1\n",
      "Video ID: ['man-skiing']\n",
      "Video shape: torch.Size([1, 24, 512, 512, 3])\n",
      "Source prompt: ['a snowboarder in a yellow jacket carves down a snowy mountain slope against a blue sky']\n",
      "Target prompt: ['a snowboarder in a yellow jacket carves down a desert mountain slope against a vibrant sunset']\n",
      "---\n",
      "Batch size: 1\n",
      "Video ID: ['man-surfing']\n",
      "Video shape: torch.Size([1, 24, 512, 512, 3])\n",
      "Source prompt: ['a man surfs atop waves on a surfboard in the ocean']\n",
      "Target prompt: ['a man surfs atop waves on a inflatable-duck in the ocean']\n",
      "---\n",
      "Batch size: 1\n",
      "Video ID: ['man-surfing']\n",
      "Video shape: torch.Size([1, 24, 512, 512, 3])\n",
      "Source prompt: ['a man surfs atop waves on a surfboard in the ocean']\n",
      "Target prompt: ['a man surfs atop waves on a surfboard in the ocean, in a retro film grain effect']\n",
      "---\n",
      "Batch size: 1\n",
      "Video ID: ['man-surfing']\n",
      "Video shape: torch.Size([1, 24, 512, 512, 3])\n",
      "Source prompt: ['a man surfs atop waves on a surfboard in the ocean']\n",
      "Target prompt: ['a emu surfs atop waves on a surfboard in the ocean, ocean with a tropical paradise background']\n",
      "---\n",
      "Batch size: 1\n",
      "Video ID: ['moonwalk']\n",
      "Video shape: torch.Size([1, 24, 512, 512, 3])\n",
      "Source prompt: ['a man in a white shirt and black pants wearing gray sneakers performing the moonwalk dance move on a wooden floor']\n",
      "Target prompt: ['a clown in a white shirt and red pants wearing gray sneakers performing the moonwalk dance move on a wooden floor']\n",
      "---\n",
      "Batch size: 1\n",
      "Video ID: ['moonwalk']\n",
      "Video shape: torch.Size([1, 24, 512, 512, 3])\n",
      "Source prompt: ['a man in a white shirt and black pants wearing gray sneakers performing the moonwalk dance move on a wooden floor']\n",
      "Target prompt: ['a man in a white shirt and black pants wearing gray sneakers performing the moonwalk dance move on a sunny outdoor']\n",
      "---\n",
      "Batch size: 1\n",
      "Video ID: ['moonwalk']\n",
      "Video shape: torch.Size([1, 24, 512, 512, 3])\n",
      "Source prompt: ['a man in a white shirt and black pants wearing gray sneakers performing the moonwalk dance move on a wooden floor']\n",
      "Target prompt: ['a man in a white shirt and black pants wearing gray sneakers performing the moonwalk dance move on a wooden floor, in picasso artstyle']\n",
      "---\n",
      "Batch size: 1\n",
      "Video ID: ['motorbike']\n",
      "Video shape: torch.Size([1, 24, 512, 512, 3])\n",
      "Source prompt: ['an orange motorcycle riding on a road with a forest and mountains in the background']\n",
      "Target prompt: ['an orange motorcycle riding on a road with a forest and mountains in the background, in surealist style']\n",
      "---\n",
      "Batch size: 1\n",
      "Video ID: ['motorbike']\n",
      "Video shape: torch.Size([1, 24, 512, 512, 3])\n",
      "Source prompt: ['an orange motorcycle riding on a road with a forest and mountains in the background']\n",
      "Target prompt: ['a brown wolf runing on a road with a desert and pyramids in the background']\n",
      "---\n",
      "Batch size: 1\n",
      "Video ID: ['motorbike']\n",
      "Video shape: torch.Size([1, 24, 512, 512, 3])\n",
      "Source prompt: ['an orange motorcycle riding on a road with a forest and mountains in the background']\n",
      "Target prompt: ['a pink car driving on a road with a forest and mountains in the background']\n",
      "---\n",
      "Batch size: 1\n",
      "Video ID: ['overlook-the-ocean']\n",
      "Video shape: torch.Size([1, 24, 512, 512, 3])\n",
      "Source prompt: ['top-down view of waves crashing against a rocky shore with turquoise waters']\n",
      "Target prompt: ['top-down view of seagulls flying against a rocky shore with turquoise waters']\n",
      "---\n",
      "Batch size: 1\n",
      "Video ID: ['overlook-the-ocean']\n",
      "Video shape: torch.Size([1, 24, 512, 512, 3])\n",
      "Source prompt: ['top-down view of waves crashing against a rocky shore with turquoise waters']\n",
      "Target prompt: ['top-down view of waves crashing against a sandy shore with turquoise waters']\n",
      "---\n",
      "Batch size: 1\n",
      "Video ID: ['overlook-the-ocean']\n",
      "Video shape: torch.Size([1, 24, 512, 512, 3])\n",
      "Source prompt: ['top-down view of waves crashing against a rocky shore with turquoise waters']\n",
      "Target prompt: ['top-down view of waves crashing against a rocky shore with turquoise waters, black and white stylization']\n",
      "---\n",
      "Batch size: 1\n",
      "Video ID: ['parkour']\n",
      "Video shape: torch.Size([1, 24, 512, 512, 3])\n",
      "Source prompt: ['a man performing parkour jumping over barriers in an urban setting with modern buildings in the background']\n",
      "Target prompt: ['a man performing parkour jumping over barriers in an urban setting with metal buildings in the background']\n",
      "---\n",
      "Batch size: 1\n",
      "Video ID: ['parkour']\n",
      "Video shape: torch.Size([1, 24, 512, 512, 3])\n",
      "Source prompt: ['a man performing parkour jumping over barriers in an urban setting with modern buildings in the background']\n",
      "Target prompt: ['a man performing parkour jumping over barriers in an urban setting with modern buildings in the background, disney cartoon style']\n",
      "---\n",
      "Batch size: 1\n",
      "Video ID: ['parkour']\n",
      "Video shape: torch.Size([1, 24, 512, 512, 3])\n",
      "Source prompt: ['a man performing parkour jumping over barriers in an urban setting with modern buildings in the background']\n",
      "Target prompt: ['a mickey-mouse performing parkour jumping over barriers in an urban setting with modern buildings in the background']\n",
      "---\n",
      "Batch size: 1\n",
      "Video ID: ['parrot-eat']\n",
      "Video shape: torch.Size([1, 24, 512, 512, 3])\n",
      "Source prompt: ['feeding a yellow parrot on a hand in the countryside']\n",
      "Target prompt: ['feeding a brown squirrel on a hand in the countryside']\n",
      "---\n",
      "Batch size: 1\n",
      "Video ID: ['parrot-eat']\n",
      "Video shape: torch.Size([1, 24, 512, 512, 3])\n",
      "Source prompt: ['feeding a yellow parrot on a hand in the countryside']\n",
      "Target prompt: ['feeding a yellow parrot on a hand in snowy mountains']\n",
      "---\n",
      "Batch size: 1\n",
      "Video ID: ['parrot-eat']\n",
      "Video shape: torch.Size([1, 24, 512, 512, 3])\n",
      "Source prompt: ['feeding a yellow parrot on a hand in the countryside']\n",
      "Target prompt: ['feeding a yellow parrot on a hand in the countryside, sketch styled drawing']\n",
      "---\n",
      "Batch size: 1\n",
      "Video ID: ['pyramid']\n",
      "Video shape: torch.Size([1, 24, 512, 512, 3])\n",
      "Source prompt: ['exploring the vastness of the pyramids of giza rising in the desert']\n",
      "Target prompt: ['exploring the vastness of the pyramids of giza rising in the rainforest']\n",
      "---\n",
      "Batch size: 1\n",
      "Video ID: ['pyramid']\n",
      "Video shape: torch.Size([1, 24, 512, 512, 3])\n",
      "Source prompt: ['exploring the vastness of the pyramids of giza rising in the desert']\n",
      "Target prompt: ['exploring the vastness of the pyramids of giza rising in the cityscape']\n",
      "---\n",
      "Batch size: 1\n",
      "Video ID: ['pyramid']\n",
      "Video shape: torch.Size([1, 24, 512, 512, 3])\n",
      "Source prompt: ['exploring the vastness of the pyramids of giza rising in the desert']\n",
      "Target prompt: ['exploring the vastness of the pyramids of giza rising in the desert, reminiscent of old documentaries']\n",
      "---\n",
      "Batch size: 1\n",
      "Video ID: ['rabbit-watermelon']\n",
      "Video shape: torch.Size([1, 24, 512, 512, 3])\n",
      "Source prompt: ['a rabbit is eating watermelon on table against white wall']\n",
      "Target prompt: ['a puppy is eating watermelon on table against white wall']\n",
      "---\n",
      "Batch size: 1\n",
      "Video ID: ['rabbit-watermelon']\n",
      "Video shape: torch.Size([1, 24, 512, 512, 3])\n",
      "Source prompt: ['a rabbit is eating watermelon on table against white wall']\n",
      "Target prompt: ['a rabbit is eating pizza on table against white wall']\n",
      "---\n",
      "Batch size: 1\n",
      "Video ID: ['rabbit-watermelon']\n",
      "Video shape: torch.Size([1, 24, 512, 512, 3])\n",
      "Source prompt: ['a rabbit is eating watermelon on table against white wall']\n",
      "Target prompt: ['a tiger is sitting quietly on table against beach background']\n",
      "---\n",
      "Batch size: 1\n",
      "Video ID: ['rollerblade']\n",
      "Video shape: torch.Size([1, 24, 512, 512, 3])\n",
      "Source prompt: ['a rollerblader performing a jumping trick in front of a graffiti-covered wall']\n",
      "Target prompt: ['a rollerblader performing a jumping trick in front of a graffiti-covered wall, cartoon drawing style']\n",
      "---\n",
      "Batch size: 1\n",
      "Video ID: ['rollerblade']\n",
      "Video shape: torch.Size([1, 24, 512, 512, 3])\n",
      "Source prompt: ['a rollerblader performing a jumping trick in front of a graffiti-covered wall']\n",
      "Target prompt: ['a rollerblader performing a jumping trick in front of a mountain landscape']\n",
      "---\n",
      "Batch size: 1\n",
      "Video ID: ['rollerblade']\n",
      "Video shape: torch.Size([1, 24, 512, 512, 3])\n",
      "Source prompt: ['a rollerblader performing a jumping trick in front of a graffiti-covered wall']\n",
      "Target prompt: ['a monkey performing a jumping trick in front of a graffiti-covered wall, in expressionism style']\n",
      "---\n",
      "Batch size: 1\n",
      "Video ID: ['suitguy']\n",
      "Video shape: torch.Size([1, 24, 512, 512, 3])\n",
      "Source prompt: ['a man in a black suit stands indoors as the camera approaches in dim light']\n",
      "Target prompt: ['a man in a superhero costume stands indoors as the camera approaches in dim light']\n",
      "---\n",
      "Batch size: 1\n",
      "Video ID: ['suitguy']\n",
      "Video shape: torch.Size([1, 24, 512, 512, 3])\n",
      "Source prompt: ['a man in a black suit stands indoors as the camera approaches in dim light']\n",
      "Target prompt: ['a man in a black suit stands indoors as the camera approaches in dim light, in sesame street style']\n",
      "---\n",
      "Batch size: 1\n",
      "Video ID: ['suitguy']\n",
      "Video shape: torch.Size([1, 24, 512, 512, 3])\n",
      "Source prompt: ['a man in a black suit stands indoors as the camera approaches in dim light']\n",
      "Target prompt: ['a man in an astronaut suit stands indoors as the camera approaches in dim light, in disney style']\n",
      "---\n",
      "Batch size: 1\n",
      "Video ID: ['surf']\n",
      "Video shape: torch.Size([1, 24, 512, 512, 3])\n",
      "Source prompt: ['windsurfing in the mediterranean sea with a green sailboat']\n",
      "Target prompt: ['windsurfing in the mediterranean sea with a pink sailboat']\n",
      "---\n",
      "Batch size: 1\n",
      "Video ID: ['surf']\n",
      "Video shape: torch.Size([1, 24, 512, 512, 3])\n",
      "Source prompt: ['windsurfing in the mediterranean sea with a green sailboat']\n",
      "Target prompt: ['windsurfing in the arctic ocean with a green sailboat']\n",
      "---\n",
      "Batch size: 1\n",
      "Video ID: ['surf']\n",
      "Video shape: torch.Size([1, 24, 512, 512, 3])\n",
      "Source prompt: ['windsurfing in the mediterranean sea with a green sailboat']\n",
      "Target prompt: ['windsurfing in the mediterranean sea with a inflatable flamingo']\n",
      "---\n",
      "Batch size: 1\n",
      "Video ID: ['swing']\n",
      "Video shape: torch.Size([1, 24, 512, 512, 3])\n",
      "Source prompt: ['a girl in a white shirt and jeans is swinging in the park']\n",
      "Target prompt: ['a girl in a white shirt and jeans is swinging in snowy park']\n",
      "---\n",
      "Batch size: 1\n",
      "Video ID: ['swing']\n",
      "Video shape: torch.Size([1, 24, 512, 512, 3])\n",
      "Source prompt: ['a girl in a white shirt and jeans is swinging in the park']\n",
      "Target prompt: ['a girl in a white shirt and jeans is swinging in bustling cityscape']\n",
      "---\n",
      "Batch size: 1\n",
      "Video ID: ['swing']\n",
      "Video shape: torch.Size([1, 24, 512, 512, 3])\n",
      "Source prompt: ['a girl in a white shirt and jeans is swinging in the park']\n",
      "Target prompt: ['a girl in a white shirt and jeans is swinging in the park, comic book art style']\n",
      "---\n",
      "Batch size: 1\n",
      "Video ID: ['tennis']\n",
      "Video shape: torch.Size([1, 24, 512, 512, 3])\n",
      "Source prompt: ['a man in white plays tennis on a clay court hitting the ball with a racket']\n",
      "Target prompt: ['a man in white plays tennis on a grass court hitting the ball with a racket']\n",
      "---\n",
      "Batch size: 1\n",
      "Video ID: ['tennis']\n",
      "Video shape: torch.Size([1, 24, 512, 512, 3])\n",
      "Source prompt: ['a man in white plays tennis on a clay court hitting the ball with a racket']\n",
      "Target prompt: ['a man in white plays tennis on a clay court hitting the ball with a racket, in studio ghibli style']\n",
      "---\n",
      "Batch size: 1\n",
      "Video ID: ['tennis']\n",
      "Video shape: torch.Size([1, 24, 512, 512, 3])\n",
      "Source prompt: ['a man in white plays tennis on a clay court hitting the ball with a racket']\n",
      "Target prompt: ['a woman in red plays tennis on a clay court hitting the ball with a racket']\n",
      "---\n",
      "Batch size: 1\n",
      "Video ID: ['toy-rocket']\n",
      "Video shape: torch.Size([1, 24, 512, 512, 3])\n",
      "Source prompt: ['a toy rocket launches from the grass near a tree propelled by water']\n",
      "Target prompt: ['a toy rocket launches from the sand near a palm-tree propelled by water']\n",
      "---\n",
      "Batch size: 1\n",
      "Video ID: ['toy-rocket']\n",
      "Video shape: torch.Size([1, 24, 512, 512, 3])\n",
      "Source prompt: ['a toy rocket launches from the grass near a tree propelled by water']\n",
      "Target prompt: ['a toy rocket launches from the grass near a tree propelled by pigments']\n",
      "---\n",
      "Batch size: 1\n",
      "Video ID: ['toy-rocket']\n",
      "Video shape: torch.Size([1, 24, 512, 512, 3])\n",
      "Source prompt: ['a toy rocket launches from the grass near a tree propelled by water']\n",
      "Target prompt: ['a toy rocket launches from the grass near a tree propelled by flames']\n",
      "---\n",
      "Batch size: 1\n",
      "Video ID: ['two-swan']\n",
      "Video shape: torch.Size([1, 24, 512, 512, 3])\n",
      "Source prompt: ['two swans grace a tranquil dawn standing in reflecting water']\n",
      "Target prompt: ['two swans grace a tranquil dawn standing in lush forest']\n",
      "---\n",
      "Batch size: 1\n",
      "Video ID: ['two-swan']\n",
      "Video shape: torch.Size([1, 24, 512, 512, 3])\n",
      "Source prompt: ['two swans grace a tranquil dawn standing in reflecting water']\n",
      "Target prompt: ['two swans grace a tranquil dawn standing in reflecting water, dawn in a chinese watercolor painting style']\n",
      "---\n",
      "Batch size: 1\n",
      "Video ID: ['two-swan']\n",
      "Video shape: torch.Size([1, 24, 512, 512, 3])\n",
      "Source prompt: ['two swans grace a tranquil dawn standing in reflecting water']\n",
      "Target prompt: ['two giraffes grace a tranquil dawn standing in reflecting water']\n",
      "---\n",
      "Batch size: 1\n",
      "Video ID: ['upside-down']\n",
      "Video shape: torch.Size([1, 24, 512, 512, 3])\n",
      "Source prompt: ['a bald man in sunglasses rides a yellow fast-paced roller coaster sporting a blue shirt']\n",
      "Target prompt: ['a young man without accessories rides a yellow fast-paced roller coaster sporting a blue shirt']\n",
      "---\n",
      "Batch size: 1\n",
      "Video ID: ['upside-down']\n",
      "Video shape: torch.Size([1, 24, 512, 512, 3])\n",
      "Source prompt: ['a bald man in sunglasses rides a yellow fast-paced roller coaster sporting a blue shirt']\n",
      "Target prompt: ['a bald man in sunglasses rides a yellow fast-paced roller coaster sporting a blue shirt, minecraft world style']\n",
      "---\n",
      "Batch size: 1\n",
      "Video ID: ['upside-down']\n",
      "Video shape: torch.Size([1, 24, 512, 512, 3])\n",
      "Source prompt: ['a bald man in sunglasses rides a yellow fast-paced roller coaster sporting a blue shirt']\n",
      "Target prompt: ['a cute cat in sunglasses rides a yellow fast-paced roller coaster sporting a blue shirt']\n",
      "---\n",
      "Batch size: 1\n",
      "Video ID: ['volcanic-eruption']\n",
      "Video shape: torch.Size([1, 24, 512, 512, 3])\n",
      "Source prompt: ['aerial view captures lava erupting pouring from iceland crater']\n",
      "Target prompt: ['aerial view captures sprint erupting pouring from iceland crater']\n",
      "---\n",
      "Batch size: 1\n",
      "Video ID: ['volcanic-eruption']\n",
      "Video shape: torch.Size([1, 24, 512, 512, 3])\n",
      "Source prompt: ['aerial view captures lava erupting pouring from iceland crater']\n",
      "Target prompt: ['aerial view captures lava erupting pouring from iceland crater, picasso oil painting']\n",
      "---\n",
      "Batch size: 1\n",
      "Video ID: ['volcanic-eruption']\n",
      "Video shape: torch.Size([1, 24, 512, 512, 3])\n",
      "Source prompt: ['aerial view captures lava erupting pouring from iceland crater']\n",
      "Target prompt: ['aerial view captures lava erupting pouring from birthday cake']\n",
      "---\n",
      "Batch size: 1\n",
      "Video ID: ['walking']\n",
      "Video shape: torch.Size([1, 24, 512, 512, 3])\n",
      "Source prompt: ['a man in a blue suit is walking down the street and taking a selfie']\n",
      "Target prompt: ['a man in a blue suit is walking down the village and taking a selfie']\n",
      "---\n",
      "Batch size: 1\n",
      "Video ID: ['walking']\n",
      "Video shape: torch.Size([1, 24, 512, 512, 3])\n",
      "Source prompt: ['a man in a blue suit is walking down the street and taking a selfie']\n",
      "Target prompt: ['a man in a blue suit is walking down the street and taking a selfie, an abstract painting style']\n",
      "---\n",
      "Batch size: 1\n",
      "Video ID: ['walking']\n",
      "Video shape: torch.Size([1, 24, 512, 512, 3])\n",
      "Source prompt: ['a man in a blue suit is walking down the street and taking a selfie']\n",
      "Target prompt: ['a woman in a green dress is walking down the street and taking a selfie']\n",
      "---\n",
      "Batch size: 1\n",
      "Video ID: ['woman-dog']\n",
      "Video shape: torch.Size([1, 24, 512, 512, 3])\n",
      "Source prompt: ['a woman is taking a selfie with a dog with a cell phone amidst yellow weeds']\n",
      "Target prompt: ['a woman is taking a selfie with a capybara with a cell phone amidst yellow weeds']\n",
      "---\n",
      "Batch size: 1\n",
      "Video ID: ['woman-dog']\n",
      "Video shape: torch.Size([1, 24, 512, 512, 3])\n",
      "Source prompt: ['a woman is taking a selfie with a dog with a cell phone amidst yellow weeds']\n",
      "Target prompt: ['a woman is taking a selfie with a dog with a cell phone amidst yellow sunflowers']\n",
      "---\n",
      "Batch size: 1\n",
      "Video ID: ['woman-dog']\n",
      "Video shape: torch.Size([1, 24, 512, 512, 3])\n",
      "Source prompt: ['a woman is taking a selfie with a dog with a cell phone amidst yellow weeds']\n",
      "Target prompt: ['a farmer is taking a selfie with a cow with a cell phone amidst green meadows']\n",
      "---\n"
     ]
    }
   ],
   "source": [
    "import os\n",
    "from regex import F\n",
    "import yaml\n",
    "import torch\n",
    "from torch.utils.data import Dataset\n",
    "from torchvision.io import read_video\n",
    "\n",
    "class V2VBenchDataset(Dataset):\n",
    "    def __init__(self, config_path, videos_dir):\n",
    "        \"\"\"\n",
    "        Args:\n",
    "            config_path (str): Path to config.yaml file\n",
    "            videos_dir (str): Directory containing video files\n",
    "        \"\"\"\n",
    "        self.videos_dir = videos_dir\n",
    "        \n",
    "        # Load config file\n",
    "        with open(config_path, 'r') as f:\n",
    "            self.config = yaml.safe_load(f)\n",
    "        \n",
    "        # Flatten the data structure\n",
    "        self.samples = []\n",
    "        for video_data in self.config['data']:\n",
    "            video_id = video_data['video_id']\n",
    "            source_prompt = video_data['prompt']\n",
    "            video_path = os.path.join(self.videos_dir, f\"{video_id}.mp4\")\n",
    "            \n",
    "            for edit in video_data['edit']:\n",
    "                target_prompt = edit['prompt']\n",
    "                self.samples.append({\n",
    "                    'video_path': video_path,\n",
    "                    'video_id': video_id,\n",
    "                    'source_prompt': source_prompt,\n",
    "                    'target_prompt': target_prompt,\n",
    "                    'src_words': edit.get('src_words', ''),\n",
    "                    'tgt_words': edit.get('tgt_words', ''),\n",
    "                    'edit_type': edit.get('type', '')\n",
    "                })\n",
    "    \n",
    "    def __len__(self):\n",
    "        return len(self.samples)\n",
    "    \n",
    "    def __getitem__(self, idx):\n",
    "        sample = self.samples[idx]\n",
    "        \n",
    "        # Load video (frames, audio, info)\n",
    "        # Note: You may need to adjust this based on your video format and needs\n",
    "        video, _, info = read_video(sample['video_path'], pts_unit='sec')\n",
    "        \n",
    "        # Convert video to float and normalize to [0, 1]\n",
    "        video = video.float() / 255.0\n",
    "        \n",
    "        return {\n",
    "            'video': video,\n",
    "            'video_id': sample['video_id'],\n",
    "            'source_prompt': sample['source_prompt'],\n",
    "            'target_prompt': sample['target_prompt'],\n",
    "            'src_words': sample['src_words'],\n",
    "            'tgt_words': sample['tgt_words'],\n",
    "            'edit_type': sample['edit_type']\n",
    "        }\n",
    "\n",
    "# Example usage\n",
    "if __name__ == \"__main__\":\n",
    "    config_path = \"/data/chx/V2VBench/config.yaml\"\n",
    "    videos_dir = \"/data/chx/V2VBench/videos\"\n",
    "    \n",
    "    dataset = V2VBenchDataset(config_path, videos_dir)\n",
    "    \n",
    "    # Create a DataLoader\n",
    "    dataloader = torch.utils.data.DataLoader(\n",
    "        dataset,\n",
    "        batch_size=1,\n",
    "        shuffle=False,\n",
    "        num_workers=4\n",
    "    )\n",
    "    \n",
    "    # Iterate through the dataset\n",
    "    for batch in dataloader:\n",
    "        print(f\"Batch size: {len(batch['video'])}\")\n",
    "        print(f\"Video ID: {batch['video_id']}\")\n",
    "        print(f\"Video shape: {batch['video'].shape}\")\n",
    "        print(f\"Source prompt: {batch['source_prompt']}\")\n",
    "        print(f\"Target prompt: {batch['target_prompt']}\")\n",
    "        print(\"---\")"
   ]
  },
  {
   "cell_type": "code",
   "execution_count": null,
   "metadata": {},
   "outputs": [
    {
     "name": "stderr",
     "output_type": "stream",
     "text": [
      "/data/chx/anaconda3/envs/HunyuanVideo-std/lib/python3.10/site-packages/tqdm/auto.py:21: TqdmWarning: IProgress not found. Please update jupyter and ipywidgets. See https://ipywidgets.readthedocs.io/en/stable/user_install.html\n",
      "  from .autonotebook import tqdm as notebook_tqdm\n",
      "\u001b[32m2025-04-04 17:00:36.666\u001b[0m | \u001b[1mINFO    \u001b[0m | \u001b[36mhyvideo.inference\u001b[0m:\u001b[36mfrom_pretrained\u001b[0m:\u001b[36m155\u001b[0m - \u001b[1mGot text-to-video model root path: ckpts\u001b[0m\n",
      "\u001b[32m2025-04-04 17:00:36.667\u001b[0m | \u001b[1mINFO    \u001b[0m | \u001b[36mhyvideo.inference\u001b[0m:\u001b[36mfrom_pretrained\u001b[0m:\u001b[36m190\u001b[0m - \u001b[1mBuilding model...\u001b[0m\n"
     ]
    },
    {
     "name": "stdout",
     "output_type": "stream",
     "text": [
      "detect you are not use the latest yunchang. Please install yunchang>=0.4.0\n",
      "{'apply_final_norm': False,\n",
      " 'batch_size': 1,\n",
      " 'cfg_scale': 1.0,\n",
      " 'dataset': 'V2VBench',\n",
      " 'denoise_type': 'flow',\n",
      " 'disable_autocast': False,\n",
      " 'dit_weight': '/home/chx/mySrc/HunyuanVideo/ckpts/hunyuan-video-t2v-720p/transformers/mp_rank_00_model_states_fp8.pt',\n",
      " 'embedded_cfg_scale': 2.0,\n",
      " 'feature_path': 'feature',\n",
      " 'flow_reverse': True,\n",
      " 'flow_shift': 7.0,\n",
      " 'flow_solver': 'euler',\n",
      " 'hidden_state_skip_layer': 2,\n",
      " 'infer_steps': 2,\n",
      " 'inject': 5,\n",
      " 'inverse_video_path': None,\n",
      " 'latent_channels': 16,\n",
      " 'linear_schedule_end': 25,\n",
      " 'load_key': 'module',\n",
      " 'model': 'HYVideo-T/2-cfgdistill',\n",
      " 'model_base': 'ckpts',\n",
      " 'model_resolution': '540p',\n",
      " 'name_suffix': '',\n",
      " 'neg_prompt': None,\n",
      " 'num_videos': 1,\n",
      " 'precision': 'bf16',\n",
      " 'prompt': None,\n",
      " 'prompt_template': 'dit-llm-encode',\n",
      " 'prompt_template_video': 'dit-llm-encode-video',\n",
      " 'reproduce': False,\n",
      " 'ring_degree': 1,\n",
      " 'rope_theta': 256,\n",
      " 'save_path': './results/V2VBench/rf-solver_2order',\n",
      " 'save_path_suffix': '',\n",
      " 'seed': 42,\n",
      " 'seed_type': 'auto',\n",
      " 'target_prompt': None,\n",
      " 'text_encoder': 'llm',\n",
      " 'text_encoder_2': 'clipL',\n",
      " 'text_encoder_precision': 'fp16',\n",
      " 'text_encoder_precision_2': 'fp16',\n",
      " 'text_len': 256,\n",
      " 'text_len_2': 77,\n",
      " 'text_states_dim': 4096,\n",
      " 'text_states_dim_2': 768,\n",
      " 'tokenizer': 'llm',\n",
      " 'tokenizer_2': 'clipL',\n",
      " 'ulysses_degree': 1,\n",
      " 'use_cpu_offload': True,\n",
      " 'use_fp8': True,\n",
      " 'use_linear_quadratic_schedule': False,\n",
      " 'vae': '884-16c-hy',\n",
      " 'vae_precision': 'fp16',\n",
      " 'vae_tiling': True,\n",
      " 'video_length': 25,\n",
      " 'video_size': [512, 512]}\n",
      "cuda\n"
     ]
    },
    {
     "name": "stderr",
     "output_type": "stream",
     "text": [
      "/home/chx/mySrc/HunyuanVideo/hyvideo/modules/fp8_optimization.py:88: FutureWarning: You are using `torch.load` with `weights_only=False` (the current default value), which uses the default pickle module implicitly. It is possible to construct malicious pickle data which will execute arbitrary code during unpickling (See https://github.com/pytorch/pytorch/blob/main/SECURITY.md#untrusted-models for more details). In a future release, the default value for `weights_only` will be flipped to `True`. This limits the functions that could be executed during unpickling. Arbitrary objects will no longer be allowed to be loaded via this mode unless they are explicitly allowlisted by the user via `torch.serialization.add_safe_globals`. We recommend you start setting `weights_only=True` for any use case where you don't have full control of the loaded file. Please open an issue on GitHub for any issues related to this experimental feature.\n",
      "  fp8_map = torch.load(fp8_map_path, map_location=lambda storage, loc: storage)\n",
      "\u001b[32m2025-04-04 17:03:13.141\u001b[0m | \u001b[1mINFO    \u001b[0m | \u001b[36mhyvideo.inference\u001b[0m:\u001b[36mload_state_dict\u001b[0m:\u001b[36m345\u001b[0m - \u001b[1mLoading torch model /home/chx/mySrc/HunyuanVideo/ckpts/hunyuan-video-t2v-720p/transformers/mp_rank_00_model_states_fp8.pt...\u001b[0m\n",
      "/home/chx/mySrc/HunyuanVideo/hyvideo/inference.py:346: FutureWarning: You are using `torch.load` with `weights_only=False` (the current default value), which uses the default pickle module implicitly. It is possible to construct malicious pickle data which will execute arbitrary code during unpickling (See https://github.com/pytorch/pytorch/blob/main/SECURITY.md#untrusted-models for more details). In a future release, the default value for `weights_only` will be flipped to `True`. This limits the functions that could be executed during unpickling. Arbitrary objects will no longer be allowed to be loaded via this mode unless they are explicitly allowlisted by the user via `torch.serialization.add_safe_globals`. We recommend you start setting `weights_only=True` for any use case where you don't have full control of the loaded file. Please open an issue on GitHub for any issues related to this experimental feature.\n",
      "  state_dict = torch.load(model_path, map_location=lambda storage, loc: storage)\n",
      "\u001b[32m2025-04-04 17:03:22.688\u001b[0m | \u001b[1mINFO    \u001b[0m | \u001b[36mhyvideo.vae\u001b[0m:\u001b[36mload_vae\u001b[0m:\u001b[36m29\u001b[0m - \u001b[1mLoading 3D VAE model (884-16c-hy) from: ./ckpts/hunyuan-video-t2v-720p/vae\u001b[0m\n"
     ]
    },
    {
     "name": "stdout",
     "output_type": "stream",
     "text": [
      "loading vae\n"
     ]
    },
    {
     "name": "stderr",
     "output_type": "stream",
     "text": [
      "/home/chx/mySrc/HunyuanVideo/hyvideo/vae/__init__.py:39: FutureWarning: You are using `torch.load` with `weights_only=False` (the current default value), which uses the default pickle module implicitly. It is possible to construct malicious pickle data which will execute arbitrary code during unpickling (See https://github.com/pytorch/pytorch/blob/main/SECURITY.md#untrusted-models for more details). In a future release, the default value for `weights_only` will be flipped to `True`. This limits the functions that could be executed during unpickling. Arbitrary objects will no longer be allowed to be loaded via this mode unless they are explicitly allowlisted by the user via `torch.serialization.add_safe_globals`. We recommend you start setting `weights_only=True` for any use case where you don't have full control of the loaded file. Please open an issue on GitHub for any issues related to this experimental feature.\n",
      "  ckpt = torch.load(vae_ckpt, map_location=vae.device)\n",
      "\u001b[32m2025-04-04 17:03:26.399\u001b[0m | \u001b[1mINFO    \u001b[0m | \u001b[36mhyvideo.vae\u001b[0m:\u001b[36mload_vae\u001b[0m:\u001b[36m55\u001b[0m - \u001b[1mVAE to dtype: torch.float16\u001b[0m\n",
      "\u001b[32m2025-04-04 17:03:26.405\u001b[0m | \u001b[1mINFO    \u001b[0m | \u001b[36mhyvideo.text_encoder\u001b[0m:\u001b[36mload_text_encoder\u001b[0m:\u001b[36m28\u001b[0m - \u001b[1mLoading text encoder model (llm) from: ./ckpts/text_encoder\u001b[0m\n",
      "Loading checkpoint shards: 100%|██████████| 4/4 [00:05<00:00,  1.31s/it]\n",
      "\u001b[32m2025-04-04 17:03:36.150\u001b[0m | \u001b[1mINFO    \u001b[0m | \u001b[36mhyvideo.text_encoder\u001b[0m:\u001b[36mload_text_encoder\u001b[0m:\u001b[36m50\u001b[0m - \u001b[1mText encoder to dtype: torch.float16\u001b[0m\n",
      "\u001b[32m2025-04-04 17:03:36.154\u001b[0m | \u001b[1mINFO    \u001b[0m | \u001b[36mhyvideo.text_encoder\u001b[0m:\u001b[36mload_tokenizer\u001b[0m:\u001b[36m64\u001b[0m - \u001b[1mLoading tokenizer (llm) from: ./ckpts/text_encoder\u001b[0m\n",
      "\u001b[32m2025-04-04 17:03:36.841\u001b[0m | \u001b[1mINFO    \u001b[0m | \u001b[36mhyvideo.text_encoder\u001b[0m:\u001b[36mload_text_encoder\u001b[0m:\u001b[36m28\u001b[0m - \u001b[1mLoading text encoder model (clipL) from: ./ckpts/text_encoder_2\u001b[0m\n",
      "\u001b[32m2025-04-04 17:03:37.822\u001b[0m | \u001b[1mINFO    \u001b[0m | \u001b[36mhyvideo.text_encoder\u001b[0m:\u001b[36mload_text_encoder\u001b[0m:\u001b[36m50\u001b[0m - \u001b[1mText encoder to dtype: torch.float16\u001b[0m\n",
      "\u001b[32m2025-04-04 17:03:37.825\u001b[0m | \u001b[1mINFO    \u001b[0m | \u001b[36mhyvideo.text_encoder\u001b[0m:\u001b[36mload_tokenizer\u001b[0m:\u001b[36m64\u001b[0m - \u001b[1mLoading tokenizer (clipL) from: ./ckpts/text_encoder_2\u001b[0m\n",
      "\u001b[32m2025-04-04 17:03:38.108\u001b[0m | \u001b[1mINFO    \u001b[0m | \u001b[36m__main__\u001b[0m:\u001b[36mmain\u001b[0m:\u001b[36m58\u001b[0m - \u001b[1mLoaded 150 samples from V2VBench dataset\u001b[0m\n"
     ]
    },
    {
     "name": "stdout",
     "output_type": "stream",
     "text": [
      "Enable sequential CPU offload.\n",
      "Updated args:\n",
      "{'apply_final_norm': False,\n",
      " 'batch_size': 1,\n",
      " 'cfg_scale': 1.0,\n",
      " 'dataset': 'V2VBench',\n",
      " 'denoise_type': 'flow',\n",
      " 'disable_autocast': False,\n",
      " 'dit_weight': '/home/chx/mySrc/HunyuanVideo/ckpts/hunyuan-video-t2v-720p/transformers/mp_rank_00_model_states_fp8.pt',\n",
      " 'embedded_cfg_scale': 2.0,\n",
      " 'feature_path': 'feature',\n",
      " 'flow_reverse': True,\n",
      " 'flow_shift': 7.0,\n",
      " 'flow_solver': 'euler',\n",
      " 'hidden_state_skip_layer': 2,\n",
      " 'infer_steps': 2,\n",
      " 'inject': 5,\n",
      " 'inverse_video_path': None,\n",
      " 'latent_channels': 16,\n",
      " 'linear_schedule_end': 25,\n",
      " 'load_key': 'module',\n",
      " 'model': 'HYVideo-T/2-cfgdistill',\n",
      " 'model_base': 'ckpts',\n",
      " 'model_resolution': '540p',\n",
      " 'name_suffix': '',\n",
      " 'neg_prompt': None,\n",
      " 'num_videos': 1,\n",
      " 'precision': 'bf16',\n",
      " 'prompt': None,\n",
      " 'prompt_template': 'dit-llm-encode',\n",
      " 'prompt_template_video': 'dit-llm-encode-video',\n",
      " 'reproduce': False,\n",
      " 'ring_degree': 1,\n",
      " 'rope_theta': 256,\n",
      " 'save_path': './results/V2VBench/rf-solver_2order',\n",
      " 'save_path_suffix': '',\n",
      " 'seed': 42,\n",
      " 'seed_type': 'auto',\n",
      " 'target_prompt': None,\n",
      " 'text_encoder': 'llm',\n",
      " 'text_encoder_2': 'clipL',\n",
      " 'text_encoder_precision': 'fp16',\n",
      " 'text_encoder_precision_2': 'fp16',\n",
      " 'text_len': 256,\n",
      " 'text_len_2': 77,\n",
      " 'text_states_dim': 4096,\n",
      " 'text_states_dim_2': 768,\n",
      " 'tokenizer': 'llm',\n",
      " 'tokenizer_2': 'clipL',\n",
      " 'ulysses_degree': 1,\n",
      " 'use_cpu_offload': True,\n",
      " 'use_fp8': True,\n",
      " 'use_linear_quadratic_schedule': False,\n",
      " 'vae': '884-16c-hy',\n",
      " 'vae_precision': 'fp16',\n",
      " 'vae_tiling': True,\n",
      " 'video_length': 25,\n",
      " 'video_size': [512, 512]}\n"
     ]
    },
    {
     "name": "stderr",
     "output_type": "stream",
     "text": [
      "处理数据集批次:   0%|          | 0/150 [00:00<?, ?it/s]\u001b[32m2025-04-04 17:03:39.700\u001b[0m | \u001b[1mINFO    \u001b[0m | \u001b[36mhyvideo.inference\u001b[0m:\u001b[36mpredict\u001b[0m:\u001b[36m605\u001b[0m - \u001b[1mInput (height, width, video_length) = (512, 512, 25)\u001b[0m\n",
      "\u001b[32m2025-04-04 17:03:39.988\u001b[0m | \u001b[34m\u001b[1mDEBUG   \u001b[0m | \u001b[36mhyvideo.inference\u001b[0m:\u001b[36mpredict\u001b[0m:\u001b[36m665\u001b[0m - \u001b[34m\u001b[1m\n",
      "                        height: 512\n",
      "                         width: 512\n",
      "                  video_length: 25\n",
      "                        prompt: ['green and blue aurora paints the night sky over mountain silhouettes']\n",
      "                    neg_prompt: ['Aerial view, aerial view, overexposed, low quality, deformation, a poor composition, bad hands, bad teeth, bad eyes, bad limbs, distortion']\n",
      "                          seed: 42\n",
      "                   infer_steps: 2\n",
      "         num_videos_per_prompt: 1\n",
      "                guidance_scale: 1.0\n",
      "                      n_tokens: 7168\n",
      "                    flow_shift: 7.0\n",
      "       embedded_guidance_scale: 2.0\u001b[0m\n"
     ]
    },
    {
     "name": "stdout",
     "output_type": "stream",
     "text": [
      "cuda:0\n",
      "cuda:0\n",
      "sigmas_reverse\n",
      "sigmas: tensor([0.0000, 0.8750, 1.0000])\n",
      "Using inversed latents\n",
      "Step 0: t = 0.0\n",
      "Step 1: t = 875.0\n"
     ]
    },
    {
     "name": "stderr",
     "output_type": "stream",
     "text": []
    },
    {
     "name": "stdout",
     "output_type": "stream",
     "text": [
      "Step 0: t_curr = 0.0, t_prev = 875.0\n",
      "t:1\n"
     ]
    },
    {
     "name": "stderr",
     "output_type": "stream",
     "text": []
    },
    {
     "name": "stdout",
     "output_type": "stream",
     "text": [
      "Step 1: t_curr = 875.0, t_prev = 1000.0\n",
      "t:2\n"
     ]
    },
    {
     "name": "stderr",
     "output_type": "stream",
     "text": [
      "100%|██████████| 2/2 [00:08<00:00,  4.34s/it]\n"
     ]
    },
    {
     "name": "stdout",
     "output_type": "stream",
     "text": [
      "cuda:0\n",
      "cuda:0\n",
      "sigmas: tensor([1.0000, 0.8750, 0.0000])\n",
      "Using inversed latents\n",
      "Step 0: t = 1000.0\n",
      "Step 1: t = 875.0\n"
     ]
    },
    {
     "name": "stderr",
     "output_type": "stream",
     "text": []
    },
    {
     "name": "stdout",
     "output_type": "stream",
     "text": [
      "Step 0: t_curr = 1000.0, t_prev = 875.0\n",
      "t:2\n"
     ]
    },
    {
     "name": "stderr",
     "output_type": "stream",
     "text": []
    },
    {
     "name": "stdout",
     "output_type": "stream",
     "text": [
      "Step 1: t_curr = 875.0, t_prev = 0.0\n",
      "t:1\n"
     ]
    },
    {
     "name": "stderr",
     "output_type": "stream",
     "text": [
      "100%|██████████| 2/2 [00:07<00:00,  3.63s/it]\n",
      "\u001b[32m2025-04-04 17:04:22.699\u001b[0m | \u001b[1mINFO    \u001b[0m | \u001b[36mhyvideo.inference\u001b[0m:\u001b[36mpredict\u001b[0m:\u001b[36m709\u001b[0m - \u001b[1mSuccess, time: 42.70979452133179\u001b[0m\n",
      "huggingface/tokenizers: The current process just got forked, after parallelism has already been used. Disabling parallelism to avoid deadlocks...\n",
      "To disable this warning, you can either:\n",
      "\t- Avoid using `tokenizers` before the fork if possible\n",
      "\t- Explicitly set the environment variable TOKENIZERS_PARALLELISM=(true | false)\n",
      "\u001b[32m2025-04-04 17:04:25.128\u001b[0m | \u001b[1mINFO    \u001b[0m | \u001b[36m__main__\u001b[0m:\u001b[36mprocess_sample\u001b[0m:\u001b[36m157\u001b[0m - \u001b[1m保存编辑视频到: ./results/V2VBench/rf-solver_2order/aurora/edit_000.mp4\u001b[0m\n",
      "处理数据集批次:   1%|          | 1/150 [00:47<1:56:46, 47.02s/it]\u001b[32m2025-04-04 17:04:25.155\u001b[0m | \u001b[1mINFO    \u001b[0m | \u001b[36mhyvideo.inference\u001b[0m:\u001b[36mpredict\u001b[0m:\u001b[36m605\u001b[0m - \u001b[1mInput (height, width, video_length) = (512, 512, 25)\u001b[0m\n",
      "\u001b[32m2025-04-04 17:04:25.414\u001b[0m | \u001b[34m\u001b[1mDEBUG   \u001b[0m | \u001b[36mhyvideo.inference\u001b[0m:\u001b[36mpredict\u001b[0m:\u001b[36m665\u001b[0m - \u001b[34m\u001b[1m\n",
      "                        height: 512\n",
      "                         width: 512\n",
      "                  video_length: 25\n",
      "                        prompt: ['green and blue aurora paints the night sky over mountain silhouettes']\n",
      "                    neg_prompt: ['Aerial view, aerial view, overexposed, low quality, deformation, a poor composition, bad hands, bad teeth, bad eyes, bad limbs, distortion']\n",
      "                          seed: 42\n",
      "                   infer_steps: 2\n",
      "         num_videos_per_prompt: 1\n",
      "                guidance_scale: 1.0\n",
      "                      n_tokens: 7168\n",
      "                    flow_shift: 7.0\n",
      "       embedded_guidance_scale: 2.0\u001b[0m\n"
     ]
    },
    {
     "name": "stdout",
     "output_type": "stream",
     "text": [
      "cuda:0\n",
      "cuda:0\n",
      "sigmas_reverse\n",
      "sigmas: tensor([0.0000, 0.8750, 1.0000])\n",
      "Using inversed latents\n",
      "Step 0: t = 0.0\n",
      "Step 1: t = 875.0\n"
     ]
    },
    {
     "name": "stderr",
     "output_type": "stream",
     "text": []
    },
    {
     "name": "stdout",
     "output_type": "stream",
     "text": [
      "Step 0: t_curr = 0.0, t_prev = 875.0\n",
      "t:1\n"
     ]
    },
    {
     "name": "stderr",
     "output_type": "stream",
     "text": []
    },
    {
     "name": "stdout",
     "output_type": "stream",
     "text": [
      "Step 1: t_curr = 875.0, t_prev = 1000.0\n",
      "t:2\n"
     ]
    },
    {
     "name": "stderr",
     "output_type": "stream",
     "text": [
      "100%|██████████| 2/2 [00:08<00:00,  4.18s/it]\n"
     ]
    },
    {
     "name": "stdout",
     "output_type": "stream",
     "text": [
      "cuda:0\n",
      "cuda:0\n",
      "sigmas: tensor([1.0000, 0.8750, 0.0000])\n",
      "Using inversed latents\n",
      "Step 0: t = 1000.0\n",
      "Step 1: t = 875.0\n"
     ]
    },
    {
     "name": "stderr",
     "output_type": "stream",
     "text": []
    },
    {
     "name": "stdout",
     "output_type": "stream",
     "text": [
      "Step 0: t_curr = 1000.0, t_prev = 875.0\n",
      "t:2\n"
     ]
    },
    {
     "name": "stderr",
     "output_type": "stream",
     "text": []
    },
    {
     "name": "stdout",
     "output_type": "stream",
     "text": [
      "Step 1: t_curr = 875.0, t_prev = 0.0\n",
      "t:1\n"
     ]
    },
    {
     "name": "stderr",
     "output_type": "stream",
     "text": [
      "100%|██████████| 2/2 [00:06<00:00,  3.39s/it]\n",
      "\u001b[32m2025-04-04 17:05:06.230\u001b[0m | \u001b[1mINFO    \u001b[0m | \u001b[36mhyvideo.inference\u001b[0m:\u001b[36mpredict\u001b[0m:\u001b[36m709\u001b[0m - \u001b[1mSuccess, time: 40.81409025192261\u001b[0m\n",
      "huggingface/tokenizers: The current process just got forked, after parallelism has already been used. Disabling parallelism to avoid deadlocks...\n",
      "To disable this warning, you can either:\n",
      "\t- Avoid using `tokenizers` before the fork if possible\n",
      "\t- Explicitly set the environment variable TOKENIZERS_PARALLELISM=(true | false)\n",
      "\u001b[32m2025-04-04 17:05:08.684\u001b[0m | \u001b[1mINFO    \u001b[0m | \u001b[36m__main__\u001b[0m:\u001b[36mprocess_sample\u001b[0m:\u001b[36m157\u001b[0m - \u001b[1m保存编辑视频到: ./results/V2VBench/rf-solver_2order/aurora/edit_001.mp4\u001b[0m\n",
      "处理数据集批次:   2%|▏         | 3/150 [01:30<1:09:23, 28.32s/it]\u001b[32m2025-04-04 17:05:08.716\u001b[0m | \u001b[1mINFO    \u001b[0m | \u001b[36mhyvideo.inference\u001b[0m:\u001b[36mpredict\u001b[0m:\u001b[36m605\u001b[0m - \u001b[1mInput (height, width, video_length) = (512, 512, 25)\u001b[0m\n",
      "\u001b[32m2025-04-04 17:05:08.971\u001b[0m | \u001b[34m\u001b[1mDEBUG   \u001b[0m | \u001b[36mhyvideo.inference\u001b[0m:\u001b[36mpredict\u001b[0m:\u001b[36m665\u001b[0m - \u001b[34m\u001b[1m\n",
      "                        height: 512\n",
      "                         width: 512\n",
      "                  video_length: 25\n",
      "                        prompt: ['green and blue aurora paints the night sky over mountain silhouettes']\n",
      "                    neg_prompt: ['Aerial view, aerial view, overexposed, low quality, deformation, a poor composition, bad hands, bad teeth, bad eyes, bad limbs, distortion']\n",
      "                          seed: 42\n",
      "                   infer_steps: 2\n",
      "         num_videos_per_prompt: 1\n",
      "                guidance_scale: 1.0\n",
      "                      n_tokens: 7168\n",
      "                    flow_shift: 7.0\n",
      "       embedded_guidance_scale: 2.0\u001b[0m\n"
     ]
    },
    {
     "name": "stdout",
     "output_type": "stream",
     "text": [
      "cuda:0\n",
      "cuda:0\n",
      "sigmas_reverse\n",
      "sigmas: tensor([0.0000, 0.8750, 1.0000])\n",
      "Using inversed latents\n",
      "Step 0: t = 0.0\n",
      "Step 1: t = 875.0\n"
     ]
    },
    {
     "name": "stderr",
     "output_type": "stream",
     "text": []
    },
    {
     "name": "stdout",
     "output_type": "stream",
     "text": [
      "Step 0: t_curr = 0.0, t_prev = 875.0\n",
      "t:1\n"
     ]
    },
    {
     "name": "stderr",
     "output_type": "stream",
     "text": []
    },
    {
     "name": "stdout",
     "output_type": "stream",
     "text": [
      "Step 1: t_curr = 875.0, t_prev = 1000.0\n",
      "t:2\n"
     ]
    },
    {
     "name": "stderr",
     "output_type": "stream",
     "text": [
      "100%|██████████| 2/2 [00:08<00:00,  4.13s/it]\n"
     ]
    },
    {
     "name": "stdout",
     "output_type": "stream",
     "text": [
      "cuda:0\n",
      "cuda:0\n",
      "sigmas: tensor([1.0000, 0.8750, 0.0000])\n",
      "Using inversed latents\n",
      "Step 0: t = 1000.0\n",
      "Step 1: t = 875.0\n"
     ]
    },
    {
     "name": "stderr",
     "output_type": "stream",
     "text": []
    },
    {
     "name": "stdout",
     "output_type": "stream",
     "text": [
      "Step 0: t_curr = 1000.0, t_prev = 875.0\n",
      "t:2\n"
     ]
    },
    {
     "name": "stderr",
     "output_type": "stream",
     "text": []
    },
    {
     "name": "stdout",
     "output_type": "stream",
     "text": [
      "Step 1: t_curr = 875.0, t_prev = 0.0\n",
      "t:1\n"
     ]
    },
    {
     "name": "stderr",
     "output_type": "stream",
     "text": [
      "100%|██████████| 2/2 [00:06<00:00,  3.38s/it]\n",
      "\u001b[32m2025-04-04 17:05:49.897\u001b[0m | \u001b[1mINFO    \u001b[0m | \u001b[36mhyvideo.inference\u001b[0m:\u001b[36mpredict\u001b[0m:\u001b[36m709\u001b[0m - \u001b[1mSuccess, time: 40.92348003387451\u001b[0m\n",
      "huggingface/tokenizers: The current process just got forked, after parallelism has already been used. Disabling parallelism to avoid deadlocks...\n",
      "To disable this warning, you can either:\n",
      "\t- Avoid using `tokenizers` before the fork if possible\n",
      "\t- Explicitly set the environment variable TOKENIZERS_PARALLELISM=(true | false)\n",
      "\u001b[32m2025-04-04 17:05:52.268\u001b[0m | \u001b[1mINFO    \u001b[0m | \u001b[36m__main__\u001b[0m:\u001b[36mprocess_sample\u001b[0m:\u001b[36m157\u001b[0m - \u001b[1m保存编辑视频到: ./results/V2VBench/rf-solver_2order/aurora/edit_002.mp4\u001b[0m\n",
      "处理数据集批次:   3%|▎         | 5/150 [02:14<1:00:19, 24.97s/it]\u001b[32m2025-04-04 17:05:52.293\u001b[0m | \u001b[1mINFO    \u001b[0m | \u001b[36mhyvideo.inference\u001b[0m:\u001b[36mpredict\u001b[0m:\u001b[36m605\u001b[0m - \u001b[1mInput (height, width, video_length) = (512, 512, 25)\u001b[0m\n",
      "\u001b[32m2025-04-04 17:05:52.556\u001b[0m | \u001b[34m\u001b[1mDEBUG   \u001b[0m | \u001b[36mhyvideo.inference\u001b[0m:\u001b[36mpredict\u001b[0m:\u001b[36m665\u001b[0m - \u001b[34m\u001b[1m\n",
      "                        height: 512\n",
      "                         width: 512\n",
      "                  video_length: 25\n",
      "                        prompt: ['symmetric neon light tunnel with blue and purple hues']\n",
      "                    neg_prompt: ['Aerial view, aerial view, overexposed, low quality, deformation, a poor composition, bad hands, bad teeth, bad eyes, bad limbs, distortion']\n",
      "                          seed: 42\n",
      "                   infer_steps: 2\n",
      "         num_videos_per_prompt: 1\n",
      "                guidance_scale: 1.0\n",
      "                      n_tokens: 7168\n",
      "                    flow_shift: 7.0\n",
      "       embedded_guidance_scale: 2.0\u001b[0m\n"
     ]
    },
    {
     "name": "stdout",
     "output_type": "stream",
     "text": [
      "cuda:0\n",
      "cuda:0\n",
      "sigmas_reverse\n",
      "sigmas: tensor([0.0000, 0.8750, 1.0000])\n",
      "Using inversed latents\n",
      "Step 0: t = 0.0\n",
      "Step 1: t = 875.0\n"
     ]
    },
    {
     "name": "stderr",
     "output_type": "stream",
     "text": []
    },
    {
     "name": "stdout",
     "output_type": "stream",
     "text": [
      "Step 0: t_curr = 0.0, t_prev = 875.0\n",
      "t:1\n"
     ]
    },
    {
     "name": "stderr",
     "output_type": "stream",
     "text": []
    },
    {
     "name": "stdout",
     "output_type": "stream",
     "text": [
      "Step 1: t_curr = 875.0, t_prev = 1000.0\n",
      "t:2\n"
     ]
    },
    {
     "name": "stderr",
     "output_type": "stream",
     "text": [
      "100%|██████████| 2/2 [00:09<00:00,  4.82s/it]\n"
     ]
    },
    {
     "name": "stdout",
     "output_type": "stream",
     "text": [
      "cuda:0\n",
      "cuda:0\n",
      "sigmas: tensor([1.0000, 0.8750, 0.0000])\n",
      "Using inversed latents\n",
      "Step 0: t = 1000.0\n",
      "Step 1: t = 875.0\n"
     ]
    },
    {
     "name": "stderr",
     "output_type": "stream",
     "text": []
    },
    {
     "name": "stdout",
     "output_type": "stream",
     "text": [
      "Step 0: t_curr = 1000.0, t_prev = 875.0\n",
      "t:2\n"
     ]
    },
    {
     "name": "stderr",
     "output_type": "stream",
     "text": []
    },
    {
     "name": "stdout",
     "output_type": "stream",
     "text": [
      "Step 1: t_curr = 875.0, t_prev = 0.0\n",
      "t:1\n"
     ]
    },
    {
     "name": "stderr",
     "output_type": "stream",
     "text": [
      "100%|██████████| 2/2 [00:06<00:00,  3.49s/it]\n",
      "\u001b[32m2025-04-04 17:06:38.711\u001b[0m | \u001b[1mINFO    \u001b[0m | \u001b[36mhyvideo.inference\u001b[0m:\u001b[36mpredict\u001b[0m:\u001b[36m709\u001b[0m - \u001b[1mSuccess, time: 46.152647972106934\u001b[0m\n",
      "huggingface/tokenizers: The current process just got forked, after parallelism has already been used. Disabling parallelism to avoid deadlocks...\n",
      "To disable this warning, you can either:\n",
      "\t- Avoid using `tokenizers` before the fork if possible\n",
      "\t- Explicitly set the environment variable TOKENIZERS_PARALLELISM=(true | false)\n",
      "\u001b[32m2025-04-04 17:06:40.959\u001b[0m | \u001b[1mINFO    \u001b[0m | \u001b[36m__main__\u001b[0m:\u001b[36mprocess_sample\u001b[0m:\u001b[36m157\u001b[0m - \u001b[1m保存编辑视频到: ./results/V2VBench/rf-solver_2order/beam/edit_000.mp4\u001b[0m\n",
      "处理数据集批次:   4%|▍         | 6/150 [03:02<1:15:12, 31.34s/it]\u001b[32m2025-04-04 17:06:40.990\u001b[0m | \u001b[1mINFO    \u001b[0m | \u001b[36mhyvideo.inference\u001b[0m:\u001b[36mpredict\u001b[0m:\u001b[36m605\u001b[0m - \u001b[1mInput (height, width, video_length) = (512, 512, 25)\u001b[0m\n",
      "\u001b[32m2025-04-04 17:06:41.237\u001b[0m | \u001b[34m\u001b[1mDEBUG   \u001b[0m | \u001b[36mhyvideo.inference\u001b[0m:\u001b[36mpredict\u001b[0m:\u001b[36m665\u001b[0m - \u001b[34m\u001b[1m\n",
      "                        height: 512\n",
      "                         width: 512\n",
      "                  video_length: 25\n",
      "                        prompt: ['symmetric neon light tunnel with blue and purple hues']\n",
      "                    neg_prompt: ['Aerial view, aerial view, overexposed, low quality, deformation, a poor composition, bad hands, bad teeth, bad eyes, bad limbs, distortion']\n",
      "                          seed: 42\n",
      "                   infer_steps: 2\n",
      "         num_videos_per_prompt: 1\n",
      "                guidance_scale: 1.0\n",
      "                      n_tokens: 7168\n",
      "                    flow_shift: 7.0\n",
      "       embedded_guidance_scale: 2.0\u001b[0m\n"
     ]
    },
    {
     "name": "stdout",
     "output_type": "stream",
     "text": [
      "cuda:0\n",
      "cuda:0\n",
      "sigmas_reverse\n",
      "sigmas: tensor([0.0000, 0.8750, 1.0000])\n",
      "Using inversed latents\n",
      "Step 0: t = 0.0\n",
      "Step 1: t = 875.0\n"
     ]
    },
    {
     "name": "stderr",
     "output_type": "stream",
     "text": []
    },
    {
     "name": "stdout",
     "output_type": "stream",
     "text": [
      "Step 0: t_curr = 0.0, t_prev = 875.0\n",
      "t:1\n"
     ]
    },
    {
     "name": "stderr",
     "output_type": "stream",
     "text": []
    },
    {
     "name": "stdout",
     "output_type": "stream",
     "text": [
      "Step 1: t_curr = 875.0, t_prev = 1000.0\n",
      "t:2\n"
     ]
    },
    {
     "name": "stderr",
     "output_type": "stream",
     "text": [
      "100%|██████████| 2/2 [00:08<00:00,  4.05s/it]\n"
     ]
    },
    {
     "name": "stdout",
     "output_type": "stream",
     "text": [
      "cuda:0\n",
      "cuda:0\n",
      "sigmas: tensor([1.0000, 0.8750, 0.0000])\n",
      "Using inversed latents\n",
      "Step 0: t = 1000.0\n",
      "Step 1: t = 875.0\n"
     ]
    },
    {
     "name": "stderr",
     "output_type": "stream",
     "text": []
    },
    {
     "name": "stdout",
     "output_type": "stream",
     "text": [
      "Step 0: t_curr = 1000.0, t_prev = 875.0\n",
      "t:2\n"
     ]
    },
    {
     "name": "stderr",
     "output_type": "stream",
     "text": []
    },
    {
     "name": "stdout",
     "output_type": "stream",
     "text": [
      "Step 1: t_curr = 875.0, t_prev = 0.0\n",
      "t:1\n"
     ]
    },
    {
     "name": "stderr",
     "output_type": "stream",
     "text": [
      "100%|██████████| 2/2 [00:07<00:00,  3.56s/it]\n",
      "\u001b[32m2025-04-04 17:07:22.413\u001b[0m | \u001b[1mINFO    \u001b[0m | \u001b[36mhyvideo.inference\u001b[0m:\u001b[36mpredict\u001b[0m:\u001b[36m709\u001b[0m - \u001b[1mSuccess, time: 41.174986124038696\u001b[0m\n",
      "huggingface/tokenizers: The current process just got forked, after parallelism has already been used. Disabling parallelism to avoid deadlocks...\n",
      "To disable this warning, you can either:\n",
      "\t- Avoid using `tokenizers` before the fork if possible\n",
      "\t- Explicitly set the environment variable TOKENIZERS_PARALLELISM=(true | false)\n",
      "\u001b[32m2025-04-04 17:07:24.684\u001b[0m | \u001b[1mINFO    \u001b[0m | \u001b[36m__main__\u001b[0m:\u001b[36mprocess_sample\u001b[0m:\u001b[36m157\u001b[0m - \u001b[1m保存编辑视频到: ./results/V2VBench/rf-solver_2order/beam/edit_001.mp4\u001b[0m\n",
      "处理数据集批次:   5%|▌         | 8/150 [03:46<1:04:25, 27.22s/it]\u001b[32m2025-04-04 17:07:24.713\u001b[0m | \u001b[1mINFO    \u001b[0m | \u001b[36mhyvideo.inference\u001b[0m:\u001b[36mpredict\u001b[0m:\u001b[36m605\u001b[0m - \u001b[1mInput (height, width, video_length) = (512, 512, 25)\u001b[0m\n",
      "\u001b[32m2025-04-04 17:07:24.950\u001b[0m | \u001b[34m\u001b[1mDEBUG   \u001b[0m | \u001b[36mhyvideo.inference\u001b[0m:\u001b[36mpredict\u001b[0m:\u001b[36m665\u001b[0m - \u001b[34m\u001b[1m\n",
      "                        height: 512\n",
      "                         width: 512\n",
      "                  video_length: 25\n",
      "                        prompt: ['symmetric neon light tunnel with blue and purple hues']\n",
      "                    neg_prompt: ['Aerial view, aerial view, overexposed, low quality, deformation, a poor composition, bad hands, bad teeth, bad eyes, bad limbs, distortion']\n",
      "                          seed: 42\n",
      "                   infer_steps: 2\n",
      "         num_videos_per_prompt: 1\n",
      "                guidance_scale: 1.0\n",
      "                      n_tokens: 7168\n",
      "                    flow_shift: 7.0\n",
      "       embedded_guidance_scale: 2.0\u001b[0m\n"
     ]
    },
    {
     "name": "stdout",
     "output_type": "stream",
     "text": [
      "cuda:0\n",
      "cuda:0\n",
      "sigmas_reverse\n",
      "sigmas: tensor([0.0000, 0.8750, 1.0000])\n",
      "Using inversed latents\n",
      "Step 0: t = 0.0\n",
      "Step 1: t = 875.0\n"
     ]
    },
    {
     "name": "stderr",
     "output_type": "stream",
     "text": []
    },
    {
     "name": "stdout",
     "output_type": "stream",
     "text": [
      "Step 0: t_curr = 0.0, t_prev = 875.0\n",
      "t:1\n"
     ]
    },
    {
     "name": "stderr",
     "output_type": "stream",
     "text": []
    },
    {
     "name": "stdout",
     "output_type": "stream",
     "text": [
      "Step 1: t_curr = 875.0, t_prev = 1000.0\n",
      "t:2\n"
     ]
    },
    {
     "name": "stderr",
     "output_type": "stream",
     "text": [
      "100%|██████████| 2/2 [00:08<00:00,  4.04s/it]\n"
     ]
    },
    {
     "name": "stdout",
     "output_type": "stream",
     "text": [
      "cuda:0\n",
      "cuda:0\n",
      "sigmas: tensor([1.0000, 0.8750, 0.0000])\n",
      "Using inversed latents\n",
      "Step 0: t = 1000.0\n",
      "Step 1: t = 875.0\n"
     ]
    },
    {
     "name": "stderr",
     "output_type": "stream",
     "text": []
    },
    {
     "name": "stdout",
     "output_type": "stream",
     "text": [
      "Step 0: t_curr = 1000.0, t_prev = 875.0\n",
      "t:2\n"
     ]
    },
    {
     "name": "stderr",
     "output_type": "stream",
     "text": []
    },
    {
     "name": "stdout",
     "output_type": "stream",
     "text": [
      "Step 1: t_curr = 875.0, t_prev = 0.0\n",
      "t:1\n"
     ]
    },
    {
     "name": "stderr",
     "output_type": "stream",
     "text": [
      "100%|██████████| 2/2 [00:07<00:00,  3.56s/it]\n",
      "\u001b[32m2025-04-04 17:08:06.996\u001b[0m | \u001b[1mINFO    \u001b[0m | \u001b[36mhyvideo.inference\u001b[0m:\u001b[36mpredict\u001b[0m:\u001b[36m709\u001b[0m - \u001b[1mSuccess, time: 42.04137945175171\u001b[0m\n",
      "huggingface/tokenizers: The current process just got forked, after parallelism has already been used. Disabling parallelism to avoid deadlocks...\n",
      "To disable this warning, you can either:\n",
      "\t- Avoid using `tokenizers` before the fork if possible\n",
      "\t- Explicitly set the environment variable TOKENIZERS_PARALLELISM=(true | false)\n",
      "\u001b[32m2025-04-04 17:08:08.933\u001b[0m | \u001b[1mINFO    \u001b[0m | \u001b[36m__main__\u001b[0m:\u001b[36mprocess_sample\u001b[0m:\u001b[36m157\u001b[0m - \u001b[1m保存编辑视频到: ./results/V2VBench/rf-solver_2order/beam/edit_002.mp4\u001b[0m\n",
      "处理数据集批次:   6%|▌         | 9/150 [04:30<1:13:26, 31.25s/it]\u001b[32m2025-04-04 17:08:08.955\u001b[0m | \u001b[1mINFO    \u001b[0m | \u001b[36mhyvideo.inference\u001b[0m:\u001b[36mpredict\u001b[0m:\u001b[36m605\u001b[0m - \u001b[1mInput (height, width, video_length) = (512, 512, 25)\u001b[0m\n",
      "\u001b[32m2025-04-04 17:08:09.183\u001b[0m | \u001b[34m\u001b[1mDEBUG   \u001b[0m | \u001b[36mhyvideo.inference\u001b[0m:\u001b[36mpredict\u001b[0m:\u001b[36m665\u001b[0m - \u001b[34m\u001b[1m\n",
      "                        height: 512\n",
      "                         width: 512\n",
      "                  video_length: 25\n",
      "                        prompt: ['black swan is gracefully swimming in a pond with lush greenery in the background']\n",
      "                    neg_prompt: ['Aerial view, aerial view, overexposed, low quality, deformation, a poor composition, bad hands, bad teeth, bad eyes, bad limbs, distortion']\n",
      "                          seed: 42\n",
      "                   infer_steps: 2\n",
      "         num_videos_per_prompt: 1\n",
      "                guidance_scale: 1.0\n",
      "                      n_tokens: 7168\n",
      "                    flow_shift: 7.0\n",
      "       embedded_guidance_scale: 2.0\u001b[0m\n"
     ]
    },
    {
     "name": "stdout",
     "output_type": "stream",
     "text": [
      "cuda:0\n",
      "cuda:0\n",
      "sigmas_reverse\n",
      "sigmas: tensor([0.0000, 0.8750, 1.0000])\n",
      "Using inversed latents\n",
      "Step 0: t = 0.0\n",
      "Step 1: t = 875.0\n"
     ]
    },
    {
     "name": "stderr",
     "output_type": "stream",
     "text": []
    },
    {
     "name": "stdout",
     "output_type": "stream",
     "text": [
      "Step 0: t_curr = 0.0, t_prev = 875.0\n",
      "t:1\n"
     ]
    },
    {
     "name": "stderr",
     "output_type": "stream",
     "text": []
    },
    {
     "name": "stdout",
     "output_type": "stream",
     "text": [
      "Step 1: t_curr = 875.0, t_prev = 1000.0\n",
      "t:2\n"
     ]
    },
    {
     "name": "stderr",
     "output_type": "stream",
     "text": [
      "100%|██████████| 2/2 [00:08<00:00,  4.05s/it]\n"
     ]
    },
    {
     "name": "stdout",
     "output_type": "stream",
     "text": [
      "cuda:0\n",
      "cuda:0\n",
      "sigmas: tensor([1.0000, 0.8750, 0.0000])\n",
      "Using inversed latents\n",
      "Step 0: t = 1000.0\n",
      "Step 1: t = 875.0\n"
     ]
    },
    {
     "name": "stderr",
     "output_type": "stream",
     "text": []
    },
    {
     "name": "stdout",
     "output_type": "stream",
     "text": [
      "Step 0: t_curr = 1000.0, t_prev = 875.0\n",
      "t:2\n"
     ]
    },
    {
     "name": "stderr",
     "output_type": "stream",
     "text": []
    },
    {
     "name": "stdout",
     "output_type": "stream",
     "text": [
      "Step 1: t_curr = 875.0, t_prev = 0.0\n",
      "t:1\n"
     ]
    },
    {
     "name": "stderr",
     "output_type": "stream",
     "text": [
      "100%|██████████| 2/2 [00:07<00:00,  3.59s/it]\n",
      "\u001b[32m2025-04-04 17:08:50.809\u001b[0m | \u001b[1mINFO    \u001b[0m | \u001b[36mhyvideo.inference\u001b[0m:\u001b[36mpredict\u001b[0m:\u001b[36m709\u001b[0m - \u001b[1mSuccess, time: 41.62473917007446\u001b[0m\n",
      "huggingface/tokenizers: The current process just got forked, after parallelism has already been used. Disabling parallelism to avoid deadlocks...\n",
      "To disable this warning, you can either:\n",
      "\t- Avoid using `tokenizers` before the fork if possible\n",
      "\t- Explicitly set the environment variable TOKENIZERS_PARALLELISM=(true | false)\n",
      "\u001b[32m2025-04-04 17:08:52.683\u001b[0m | \u001b[1mINFO    \u001b[0m | \u001b[36m__main__\u001b[0m:\u001b[36mprocess_sample\u001b[0m:\u001b[36m157\u001b[0m - \u001b[1m保存编辑视频到: ./results/V2VBench/rf-solver_2order/blackswan/edit_000.mp4\u001b[0m\n",
      "处理数据集批次:   7%|▋         | 10/150 [05:14<1:20:17, 34.41s/it]\u001b[32m2025-04-04 17:08:52.705\u001b[0m | \u001b[1mINFO    \u001b[0m | \u001b[36mhyvideo.inference\u001b[0m:\u001b[36mpredict\u001b[0m:\u001b[36m605\u001b[0m - \u001b[1mInput (height, width, video_length) = (512, 512, 25)\u001b[0m\n",
      "\u001b[32m2025-04-04 17:08:52.914\u001b[0m | \u001b[34m\u001b[1mDEBUG   \u001b[0m | \u001b[36mhyvideo.inference\u001b[0m:\u001b[36mpredict\u001b[0m:\u001b[36m665\u001b[0m - \u001b[34m\u001b[1m\n",
      "                        height: 512\n",
      "                         width: 512\n",
      "                  video_length: 25\n",
      "                        prompt: ['black swan is gracefully swimming in a pond with lush greenery in the background']\n",
      "                    neg_prompt: ['Aerial view, aerial view, overexposed, low quality, deformation, a poor composition, bad hands, bad teeth, bad eyes, bad limbs, distortion']\n",
      "                          seed: 42\n",
      "                   infer_steps: 2\n",
      "         num_videos_per_prompt: 1\n",
      "                guidance_scale: 1.0\n",
      "                      n_tokens: 7168\n",
      "                    flow_shift: 7.0\n",
      "       embedded_guidance_scale: 2.0\u001b[0m\n"
     ]
    },
    {
     "name": "stdout",
     "output_type": "stream",
     "text": [
      "cuda:0\n",
      "cuda:0\n",
      "sigmas_reverse\n",
      "sigmas: tensor([0.0000, 0.8750, 1.0000])\n",
      "Using inversed latents\n",
      "Step 0: t = 0.0\n",
      "Step 1: t = 875.0\n"
     ]
    },
    {
     "name": "stderr",
     "output_type": "stream",
     "text": []
    },
    {
     "name": "stdout",
     "output_type": "stream",
     "text": [
      "Step 0: t_curr = 0.0, t_prev = 875.0\n",
      "t:1\n"
     ]
    },
    {
     "name": "stderr",
     "output_type": "stream",
     "text": []
    },
    {
     "name": "stdout",
     "output_type": "stream",
     "text": [
      "Step 1: t_curr = 875.0, t_prev = 1000.0\n",
      "t:2\n"
     ]
    },
    {
     "name": "stderr",
     "output_type": "stream",
     "text": [
      "100%|██████████| 2/2 [00:08<00:00,  4.03s/it]\n"
     ]
    },
    {
     "name": "stdout",
     "output_type": "stream",
     "text": [
      "cuda:0\n",
      "cuda:0\n",
      "sigmas: tensor([1.0000, 0.8750, 0.0000])\n",
      "Using inversed latents\n",
      "Step 0: t = 1000.0\n",
      "Step 1: t = 875.0\n"
     ]
    },
    {
     "name": "stderr",
     "output_type": "stream",
     "text": []
    },
    {
     "name": "stdout",
     "output_type": "stream",
     "text": [
      "Step 0: t_curr = 1000.0, t_prev = 875.0\n",
      "t:2\n"
     ]
    },
    {
     "name": "stderr",
     "output_type": "stream",
     "text": []
    },
    {
     "name": "stdout",
     "output_type": "stream",
     "text": [
      "Step 1: t_curr = 875.0, t_prev = 0.0\n",
      "t:1\n"
     ]
    },
    {
     "name": "stderr",
     "output_type": "stream",
     "text": [
      "100%|██████████| 2/2 [00:07<00:00,  3.53s/it]\n",
      "\u001b[32m2025-04-04 17:09:34.197\u001b[0m | \u001b[1mINFO    \u001b[0m | \u001b[36mhyvideo.inference\u001b[0m:\u001b[36mpredict\u001b[0m:\u001b[36m709\u001b[0m - \u001b[1mSuccess, time: 41.281275033950806\u001b[0m\n",
      "huggingface/tokenizers: The current process just got forked, after parallelism has already been used. Disabling parallelism to avoid deadlocks...\n",
      "To disable this warning, you can either:\n",
      "\t- Avoid using `tokenizers` before the fork if possible\n",
      "\t- Explicitly set the environment variable TOKENIZERS_PARALLELISM=(true | false)\n",
      "\u001b[32m2025-04-04 17:09:36.709\u001b[0m | \u001b[1mINFO    \u001b[0m | \u001b[36m__main__\u001b[0m:\u001b[36mprocess_sample\u001b[0m:\u001b[36m157\u001b[0m - \u001b[1m保存编辑视频到: ./results/V2VBench/rf-solver_2order/blackswan/edit_001.mp4\u001b[0m\n",
      "处理数据集批次:   8%|▊         | 12/150 [05:58<1:07:11, 29.21s/it]\u001b[32m2025-04-04 17:09:36.737\u001b[0m | \u001b[1mINFO    \u001b[0m | \u001b[36mhyvideo.inference\u001b[0m:\u001b[36mpredict\u001b[0m:\u001b[36m605\u001b[0m - \u001b[1mInput (height, width, video_length) = (512, 512, 25)\u001b[0m\n",
      "\u001b[32m2025-04-04 17:09:37.006\u001b[0m | \u001b[34m\u001b[1mDEBUG   \u001b[0m | \u001b[36mhyvideo.inference\u001b[0m:\u001b[36mpredict\u001b[0m:\u001b[36m665\u001b[0m - \u001b[34m\u001b[1m\n",
      "                        height: 512\n",
      "                         width: 512\n",
      "                  video_length: 25\n",
      "                        prompt: ['black swan is gracefully swimming in a pond with lush greenery in the background']\n",
      "                    neg_prompt: ['Aerial view, aerial view, overexposed, low quality, deformation, a poor composition, bad hands, bad teeth, bad eyes, bad limbs, distortion']\n",
      "                          seed: 42\n",
      "                   infer_steps: 2\n",
      "         num_videos_per_prompt: 1\n",
      "                guidance_scale: 1.0\n",
      "                      n_tokens: 7168\n",
      "                    flow_shift: 7.0\n",
      "       embedded_guidance_scale: 2.0\u001b[0m\n"
     ]
    },
    {
     "name": "stdout",
     "output_type": "stream",
     "text": [
      "cuda:0\n",
      "cuda:0\n",
      "sigmas_reverse\n",
      "sigmas: tensor([0.0000, 0.8750, 1.0000])\n",
      "Using inversed latents\n",
      "Step 0: t = 0.0\n",
      "Step 1: t = 875.0\n"
     ]
    },
    {
     "name": "stderr",
     "output_type": "stream",
     "text": []
    },
    {
     "name": "stdout",
     "output_type": "stream",
     "text": [
      "Step 0: t_curr = 0.0, t_prev = 875.0\n",
      "t:1\n"
     ]
    },
    {
     "name": "stderr",
     "output_type": "stream",
     "text": []
    },
    {
     "name": "stdout",
     "output_type": "stream",
     "text": [
      "Step 1: t_curr = 875.0, t_prev = 1000.0\n",
      "t:2\n"
     ]
    },
    {
     "name": "stderr",
     "output_type": "stream",
     "text": [
      "100%|██████████| 2/2 [00:09<00:00,  4.95s/it]\n"
     ]
    },
    {
     "name": "stdout",
     "output_type": "stream",
     "text": [
      "cuda:0\n",
      "cuda:0\n",
      "sigmas: tensor([1.0000, 0.8750, 0.0000])\n",
      "Using inversed latents\n",
      "Step 0: t = 1000.0\n",
      "Step 1: t = 875.0\n"
     ]
    },
    {
     "name": "stderr",
     "output_type": "stream",
     "text": []
    },
    {
     "name": "stdout",
     "output_type": "stream",
     "text": [
      "Step 0: t_curr = 1000.0, t_prev = 875.0\n",
      "t:2\n"
     ]
    },
    {
     "name": "stderr",
     "output_type": "stream",
     "text": []
    },
    {
     "name": "stdout",
     "output_type": "stream",
     "text": [
      "Step 1: t_curr = 875.0, t_prev = 0.0\n",
      "t:1\n"
     ]
    },
    {
     "name": "stderr",
     "output_type": "stream",
     "text": [
      "100%|██████████| 2/2 [00:08<00:00,  4.02s/it]\n",
      "\u001b[32m2025-04-04 17:10:30.305\u001b[0m | \u001b[1mINFO    \u001b[0m | \u001b[36mhyvideo.inference\u001b[0m:\u001b[36mpredict\u001b[0m:\u001b[36m709\u001b[0m - \u001b[1mSuccess, time: 53.29539465904236\u001b[0m\n",
      "huggingface/tokenizers: The current process just got forked, after parallelism has already been used. Disabling parallelism to avoid deadlocks...\n",
      "To disable this warning, you can either:\n",
      "\t- Avoid using `tokenizers` before the fork if possible\n",
      "\t- Explicitly set the environment variable TOKENIZERS_PARALLELISM=(true | false)\n",
      "\u001b[32m2025-04-04 17:10:32.789\u001b[0m | \u001b[1mINFO    \u001b[0m | \u001b[36m__main__\u001b[0m:\u001b[36mprocess_sample\u001b[0m:\u001b[36m157\u001b[0m - \u001b[1m保存编辑视频到: ./results/V2VBench/rf-solver_2order/blackswan/edit_002.mp4\u001b[0m\n",
      "处理数据集批次:   9%|▊         | 13/150 [06:54<1:20:50, 35.41s/it]\u001b[32m2025-04-04 17:10:32.818\u001b[0m | \u001b[1mINFO    \u001b[0m | \u001b[36mhyvideo.inference\u001b[0m:\u001b[36mpredict\u001b[0m:\u001b[36m605\u001b[0m - \u001b[1mInput (height, width, video_length) = (512, 512, 25)\u001b[0m\n",
      "\u001b[32m2025-04-04 17:10:33.075\u001b[0m | \u001b[34m\u001b[1mDEBUG   \u001b[0m | \u001b[36mhyvideo.inference\u001b[0m:\u001b[36mpredict\u001b[0m:\u001b[36m665\u001b[0m - \u001b[34m\u001b[1m\n",
      "                        height: 512\n",
      "                         width: 512\n",
      "                  video_length: 25\n",
      "                        prompt: ['green balls float on blue water']\n",
      "                    neg_prompt: ['Aerial view, aerial view, overexposed, low quality, deformation, a poor composition, bad hands, bad teeth, bad eyes, bad limbs, distortion']\n",
      "                          seed: 42\n",
      "                   infer_steps: 2\n",
      "         num_videos_per_prompt: 1\n",
      "                guidance_scale: 1.0\n",
      "                      n_tokens: 7168\n",
      "                    flow_shift: 7.0\n",
      "       embedded_guidance_scale: 2.0\u001b[0m\n"
     ]
    },
    {
     "name": "stdout",
     "output_type": "stream",
     "text": [
      "cuda:0\n",
      "cuda:0\n",
      "sigmas_reverse\n",
      "sigmas: tensor([0.0000, 0.8750, 1.0000])\n",
      "Using inversed latents\n",
      "Step 0: t = 0.0\n",
      "Step 1: t = 875.0\n"
     ]
    },
    {
     "name": "stderr",
     "output_type": "stream",
     "text": []
    },
    {
     "name": "stdout",
     "output_type": "stream",
     "text": [
      "Step 0: t_curr = 0.0, t_prev = 875.0\n",
      "t:1\n"
     ]
    },
    {
     "name": "stderr",
     "output_type": "stream",
     "text": []
    },
    {
     "name": "stdout",
     "output_type": "stream",
     "text": [
      "Step 1: t_curr = 875.0, t_prev = 1000.0\n",
      "t:2\n"
     ]
    },
    {
     "name": "stderr",
     "output_type": "stream",
     "text": [
      "100%|██████████| 2/2 [00:09<00:00,  4.95s/it]\n"
     ]
    },
    {
     "name": "stdout",
     "output_type": "stream",
     "text": [
      "cuda:0\n",
      "cuda:0\n",
      "sigmas: tensor([1.0000, 0.8750, 0.0000])\n",
      "Using inversed latents\n",
      "Step 0: t = 1000.0\n",
      "Step 1: t = 875.0\n"
     ]
    },
    {
     "name": "stderr",
     "output_type": "stream",
     "text": []
    },
    {
     "name": "stdout",
     "output_type": "stream",
     "text": [
      "Step 0: t_curr = 1000.0, t_prev = 875.0\n",
      "t:2\n"
     ]
    },
    {
     "name": "stderr",
     "output_type": "stream",
     "text": []
    },
    {
     "name": "stdout",
     "output_type": "stream",
     "text": [
      "Step 1: t_curr = 875.0, t_prev = 0.0\n",
      "t:1\n"
     ]
    },
    {
     "name": "stderr",
     "output_type": "stream",
     "text": [
      "100%|██████████| 2/2 [00:07<00:00,  3.64s/it]\n",
      "\u001b[32m2025-04-04 17:11:24.988\u001b[0m | \u001b[1mINFO    \u001b[0m | \u001b[36mhyvideo.inference\u001b[0m:\u001b[36mpredict\u001b[0m:\u001b[36m709\u001b[0m - \u001b[1mSuccess, time: 51.91130304336548\u001b[0m\n",
      "huggingface/tokenizers: The current process just got forked, after parallelism has already been used. Disabling parallelism to avoid deadlocks...\n",
      "To disable this warning, you can either:\n",
      "\t- Avoid using `tokenizers` before the fork if possible\n",
      "\t- Explicitly set the environment variable TOKENIZERS_PARALLELISM=(true | false)\n",
      "\u001b[32m2025-04-04 17:11:27.401\u001b[0m | \u001b[1mINFO    \u001b[0m | \u001b[36m__main__\u001b[0m:\u001b[36mprocess_sample\u001b[0m:\u001b[36m157\u001b[0m - \u001b[1m保存编辑视频到: ./results/V2VBench/rf-solver_2order/blue-texture/edit_000.mp4\u001b[0m\n",
      "处理数据集批次:   9%|▉         | 14/150 [07:49<1:31:02, 40.16s/it]\u001b[32m2025-04-04 17:11:27.435\u001b[0m | \u001b[1mINFO    \u001b[0m | \u001b[36mhyvideo.inference\u001b[0m:\u001b[36mpredict\u001b[0m:\u001b[36m605\u001b[0m - \u001b[1mInput (height, width, video_length) = (512, 512, 25)\u001b[0m\n",
      "\u001b[32m2025-04-04 17:11:27.697\u001b[0m | \u001b[34m\u001b[1mDEBUG   \u001b[0m | \u001b[36mhyvideo.inference\u001b[0m:\u001b[36mpredict\u001b[0m:\u001b[36m665\u001b[0m - \u001b[34m\u001b[1m\n",
      "                        height: 512\n",
      "                         width: 512\n",
      "                  video_length: 25\n",
      "                        prompt: ['green balls float on blue water']\n",
      "                    neg_prompt: ['Aerial view, aerial view, overexposed, low quality, deformation, a poor composition, bad hands, bad teeth, bad eyes, bad limbs, distortion']\n",
      "                          seed: 42\n",
      "                   infer_steps: 2\n",
      "         num_videos_per_prompt: 1\n",
      "                guidance_scale: 1.0\n",
      "                      n_tokens: 7168\n",
      "                    flow_shift: 7.0\n",
      "       embedded_guidance_scale: 2.0\u001b[0m\n"
     ]
    },
    {
     "name": "stdout",
     "output_type": "stream",
     "text": [
      "cuda:0\n",
      "cuda:0\n",
      "sigmas_reverse\n",
      "sigmas: tensor([0.0000, 0.8750, 1.0000])\n",
      "Using inversed latents\n",
      "Step 0: t = 0.0\n",
      "Step 1: t = 875.0\n"
     ]
    },
    {
     "name": "stderr",
     "output_type": "stream",
     "text": []
    },
    {
     "name": "stdout",
     "output_type": "stream",
     "text": [
      "Step 0: t_curr = 0.0, t_prev = 875.0\n",
      "t:1\n"
     ]
    },
    {
     "name": "stderr",
     "output_type": "stream",
     "text": []
    },
    {
     "name": "stdout",
     "output_type": "stream",
     "text": [
      "Step 1: t_curr = 875.0, t_prev = 1000.0\n",
      "t:2\n"
     ]
    },
    {
     "name": "stderr",
     "output_type": "stream",
     "text": [
      "100%|██████████| 2/2 [00:08<00:00,  4.13s/it]\n"
     ]
    },
    {
     "name": "stdout",
     "output_type": "stream",
     "text": [
      "cuda:0\n",
      "cuda:0\n",
      "sigmas: tensor([1.0000, 0.8750, 0.0000])\n",
      "Using inversed latents\n",
      "Step 0: t = 1000.0\n",
      "Step 1: t = 875.0\n"
     ]
    },
    {
     "name": "stderr",
     "output_type": "stream",
     "text": []
    },
    {
     "name": "stdout",
     "output_type": "stream",
     "text": [
      "Step 0: t_curr = 1000.0, t_prev = 875.0\n",
      "t:2\n"
     ]
    },
    {
     "name": "stderr",
     "output_type": "stream",
     "text": []
    },
    {
     "name": "stdout",
     "output_type": "stream",
     "text": [
      "Step 1: t_curr = 875.0, t_prev = 0.0\n",
      "t:1\n"
     ]
    },
    {
     "name": "stderr",
     "output_type": "stream",
     "text": [
      "100%|██████████| 2/2 [00:07<00:00,  3.94s/it]\n",
      "\u001b[32m2025-04-04 17:12:16.145\u001b[0m | \u001b[1mINFO    \u001b[0m | \u001b[36mhyvideo.inference\u001b[0m:\u001b[36mpredict\u001b[0m:\u001b[36m709\u001b[0m - \u001b[1mSuccess, time: 48.44563674926758\u001b[0m\n",
      "huggingface/tokenizers: The current process just got forked, after parallelism has already been used. Disabling parallelism to avoid deadlocks...\n",
      "To disable this warning, you can either:\n",
      "\t- Avoid using `tokenizers` before the fork if possible\n",
      "\t- Explicitly set the environment variable TOKENIZERS_PARALLELISM=(true | false)\n",
      "\u001b[32m2025-04-04 17:12:18.694\u001b[0m | \u001b[1mINFO    \u001b[0m | \u001b[36m__main__\u001b[0m:\u001b[36mprocess_sample\u001b[0m:\u001b[36m157\u001b[0m - \u001b[1m保存编辑视频到: ./results/V2VBench/rf-solver_2order/blue-texture/edit_001.mp4\u001b[0m\n",
      "处理数据集批次:  10%|█         | 15/150 [08:40<1:36:54, 43.07s/it]\u001b[32m2025-04-04 17:12:18.723\u001b[0m | \u001b[1mINFO    \u001b[0m | \u001b[36mhyvideo.inference\u001b[0m:\u001b[36mpredict\u001b[0m:\u001b[36m605\u001b[0m - \u001b[1mInput (height, width, video_length) = (512, 512, 25)\u001b[0m\n",
      "\u001b[32m2025-04-04 17:12:18.993\u001b[0m | \u001b[34m\u001b[1mDEBUG   \u001b[0m | \u001b[36mhyvideo.inference\u001b[0m:\u001b[36mpredict\u001b[0m:\u001b[36m665\u001b[0m - \u001b[34m\u001b[1m\n",
      "                        height: 512\n",
      "                         width: 512\n",
      "                  video_length: 25\n",
      "                        prompt: ['green balls float on blue water']\n",
      "                    neg_prompt: ['Aerial view, aerial view, overexposed, low quality, deformation, a poor composition, bad hands, bad teeth, bad eyes, bad limbs, distortion']\n",
      "                          seed: 42\n",
      "                   infer_steps: 2\n",
      "         num_videos_per_prompt: 1\n",
      "                guidance_scale: 1.0\n",
      "                      n_tokens: 7168\n",
      "                    flow_shift: 7.0\n",
      "       embedded_guidance_scale: 2.0\u001b[0m\n"
     ]
    },
    {
     "name": "stdout",
     "output_type": "stream",
     "text": [
      "cuda:0\n",
      "cuda:0\n",
      "sigmas_reverse\n",
      "sigmas: tensor([0.0000, 0.8750, 1.0000])\n",
      "Using inversed latents\n",
      "Step 0: t = 0.0\n",
      "Step 1: t = 875.0\n"
     ]
    },
    {
     "name": "stderr",
     "output_type": "stream",
     "text": []
    },
    {
     "name": "stdout",
     "output_type": "stream",
     "text": [
      "Step 0: t_curr = 0.0, t_prev = 875.0\n",
      "t:1\n"
     ]
    },
    {
     "name": "stderr",
     "output_type": "stream",
     "text": []
    },
    {
     "name": "stdout",
     "output_type": "stream",
     "text": [
      "Step 1: t_curr = 875.0, t_prev = 1000.0\n",
      "t:2\n"
     ]
    },
    {
     "name": "stderr",
     "output_type": "stream",
     "text": [
      "100%|██████████| 2/2 [00:08<00:00,  4.42s/it]\n"
     ]
    },
    {
     "name": "stdout",
     "output_type": "stream",
     "text": [
      "cuda:0\n",
      "cuda:0\n",
      "sigmas: tensor([1.0000, 0.8750, 0.0000])\n",
      "Using inversed latents\n",
      "Step 0: t = 1000.0\n",
      "Step 1: t = 875.0\n"
     ]
    },
    {
     "name": "stderr",
     "output_type": "stream",
     "text": []
    },
    {
     "name": "stdout",
     "output_type": "stream",
     "text": [
      "Step 0: t_curr = 1000.0, t_prev = 875.0\n",
      "t:2\n"
     ]
    },
    {
     "name": "stderr",
     "output_type": "stream",
     "text": []
    },
    {
     "name": "stdout",
     "output_type": "stream",
     "text": [
      "Step 1: t_curr = 875.0, t_prev = 0.0\n",
      "t:1\n"
     ]
    },
    {
     "name": "stderr",
     "output_type": "stream",
     "text": [
      "100%|██████████| 2/2 [00:07<00:00,  3.87s/it]\n",
      "\u001b[32m2025-04-04 17:13:11.322\u001b[0m | \u001b[1mINFO    \u001b[0m | \u001b[36mhyvideo.inference\u001b[0m:\u001b[36mpredict\u001b[0m:\u001b[36m709\u001b[0m - \u001b[1mSuccess, time: 52.326929569244385\u001b[0m\n",
      "huggingface/tokenizers: The current process just got forked, after parallelism has already been used. Disabling parallelism to avoid deadlocks...\n",
      "To disable this warning, you can either:\n",
      "\t- Avoid using `tokenizers` before the fork if possible\n",
      "\t- Explicitly set the environment variable TOKENIZERS_PARALLELISM=(true | false)\n",
      "\u001b[32m2025-04-04 17:13:13.799\u001b[0m | \u001b[1mINFO    \u001b[0m | \u001b[36m__main__\u001b[0m:\u001b[36mprocess_sample\u001b[0m:\u001b[36m157\u001b[0m - \u001b[1m保存编辑视频到: ./results/V2VBench/rf-solver_2order/blue-texture/edit_002.mp4\u001b[0m\n",
      "处理数据集批次:  11%|█▏        | 17/150 [09:35<1:20:46, 36.44s/it]\u001b[32m2025-04-04 17:13:13.833\u001b[0m | \u001b[1mINFO    \u001b[0m | \u001b[36mhyvideo.inference\u001b[0m:\u001b[36mpredict\u001b[0m:\u001b[36m605\u001b[0m - \u001b[1mInput (height, width, video_length) = (512, 512, 25)\u001b[0m\n",
      "\u001b[32m2025-04-04 17:13:14.103\u001b[0m | \u001b[34m\u001b[1mDEBUG   \u001b[0m | \u001b[36mhyvideo.inference\u001b[0m:\u001b[36mpredict\u001b[0m:\u001b[36m665\u001b[0m - \u001b[34m\u001b[1m\n",
      "                        height: 512\n",
      "                         width: 512\n",
      "                  video_length: 25\n",
      "                        prompt: ['a white fishing boat sails on blue waters surrounded by small villages']\n",
      "                    neg_prompt: ['Aerial view, aerial view, overexposed, low quality, deformation, a poor composition, bad hands, bad teeth, bad eyes, bad limbs, distortion']\n",
      "                          seed: 42\n",
      "                   infer_steps: 2\n",
      "         num_videos_per_prompt: 1\n",
      "                guidance_scale: 1.0\n",
      "                      n_tokens: 7168\n",
      "                    flow_shift: 7.0\n",
      "       embedded_guidance_scale: 2.0\u001b[0m\n"
     ]
    },
    {
     "name": "stdout",
     "output_type": "stream",
     "text": [
      "cuda:0\n",
      "cuda:0\n",
      "sigmas_reverse\n",
      "sigmas: tensor([0.0000, 0.8750, 1.0000])\n",
      "Using inversed latents\n",
      "Step 0: t = 0.0\n",
      "Step 1: t = 875.0\n"
     ]
    },
    {
     "name": "stderr",
     "output_type": "stream",
     "text": []
    },
    {
     "name": "stdout",
     "output_type": "stream",
     "text": [
      "Step 0: t_curr = 0.0, t_prev = 875.0\n",
      "t:1\n"
     ]
    },
    {
     "name": "stderr",
     "output_type": "stream",
     "text": []
    },
    {
     "name": "stdout",
     "output_type": "stream",
     "text": [
      "Step 1: t_curr = 875.0, t_prev = 1000.0\n",
      "t:2\n"
     ]
    },
    {
     "name": "stderr",
     "output_type": "stream",
     "text": [
      "100%|██████████| 2/2 [00:09<00:00,  4.84s/it]\n"
     ]
    },
    {
     "name": "stdout",
     "output_type": "stream",
     "text": [
      "cuda:0\n",
      "cuda:0\n",
      "sigmas: tensor([1.0000, 0.8750, 0.0000])\n",
      "Using inversed latents\n",
      "Step 0: t = 1000.0\n",
      "Step 1: t = 875.0\n"
     ]
    },
    {
     "name": "stderr",
     "output_type": "stream",
     "text": []
    },
    {
     "name": "stdout",
     "output_type": "stream",
     "text": [
      "Step 0: t_curr = 1000.0, t_prev = 875.0\n",
      "t:2\n"
     ]
    },
    {
     "name": "stderr",
     "output_type": "stream",
     "text": []
    },
    {
     "name": "stdout",
     "output_type": "stream",
     "text": [
      "Step 1: t_curr = 875.0, t_prev = 0.0\n",
      "t:1\n"
     ]
    },
    {
     "name": "stderr",
     "output_type": "stream",
     "text": [
      "100%|██████████| 2/2 [00:07<00:00,  3.76s/it]\n",
      "\u001b[32m2025-04-04 17:14:08.370\u001b[0m | \u001b[1mINFO    \u001b[0m | \u001b[36mhyvideo.inference\u001b[0m:\u001b[36mpredict\u001b[0m:\u001b[36m709\u001b[0m - \u001b[1mSuccess, time: 54.264423847198486\u001b[0m\n",
      "huggingface/tokenizers: The current process just got forked, after parallelism has already been used. Disabling parallelism to avoid deadlocks...\n",
      "To disable this warning, you can either:\n",
      "\t- Avoid using `tokenizers` before the fork if possible\n",
      "\t- Explicitly set the environment variable TOKENIZERS_PARALLELISM=(true | false)\n",
      "\u001b[32m2025-04-04 17:14:10.807\u001b[0m | \u001b[1mINFO    \u001b[0m | \u001b[36m__main__\u001b[0m:\u001b[36mprocess_sample\u001b[0m:\u001b[36m157\u001b[0m - \u001b[1m保存编辑视频到: ./results/V2VBench/rf-solver_2order/boat/edit_000.mp4\u001b[0m\n",
      "处理数据集批次:  12%|█▏        | 18/150 [10:32<1:30:44, 41.25s/it]\u001b[32m2025-04-04 17:14:10.841\u001b[0m | \u001b[1mINFO    \u001b[0m | \u001b[36mhyvideo.inference\u001b[0m:\u001b[36mpredict\u001b[0m:\u001b[36m605\u001b[0m - \u001b[1mInput (height, width, video_length) = (512, 512, 25)\u001b[0m\n",
      "\u001b[32m2025-04-04 17:14:11.097\u001b[0m | \u001b[34m\u001b[1mDEBUG   \u001b[0m | \u001b[36mhyvideo.inference\u001b[0m:\u001b[36mpredict\u001b[0m:\u001b[36m665\u001b[0m - \u001b[34m\u001b[1m\n",
      "                        height: 512\n",
      "                         width: 512\n",
      "                  video_length: 25\n",
      "                        prompt: ['a white fishing boat sails on blue waters surrounded by small villages']\n",
      "                    neg_prompt: ['Aerial view, aerial view, overexposed, low quality, deformation, a poor composition, bad hands, bad teeth, bad eyes, bad limbs, distortion']\n",
      "                          seed: 42\n",
      "                   infer_steps: 2\n",
      "         num_videos_per_prompt: 1\n",
      "                guidance_scale: 1.0\n",
      "                      n_tokens: 7168\n",
      "                    flow_shift: 7.0\n",
      "       embedded_guidance_scale: 2.0\u001b[0m\n"
     ]
    },
    {
     "name": "stdout",
     "output_type": "stream",
     "text": [
      "cuda:0\n",
      "cuda:0\n",
      "sigmas_reverse\n",
      "sigmas: tensor([0.0000, 0.8750, 1.0000])\n",
      "Using inversed latents\n",
      "Step 0: t = 0.0\n",
      "Step 1: t = 875.0\n"
     ]
    },
    {
     "name": "stderr",
     "output_type": "stream",
     "text": []
    },
    {
     "name": "stdout",
     "output_type": "stream",
     "text": [
      "Step 0: t_curr = 0.0, t_prev = 875.0\n",
      "t:1\n"
     ]
    },
    {
     "name": "stderr",
     "output_type": "stream",
     "text": []
    },
    {
     "name": "stdout",
     "output_type": "stream",
     "text": [
      "Step 1: t_curr = 875.0, t_prev = 1000.0\n",
      "t:2\n"
     ]
    },
    {
     "name": "stderr",
     "output_type": "stream",
     "text": [
      "100%|██████████| 2/2 [00:08<00:00,  4.07s/it]\n"
     ]
    },
    {
     "name": "stdout",
     "output_type": "stream",
     "text": [
      "cuda:0\n",
      "cuda:0\n",
      "sigmas: tensor([1.0000, 0.8750, 0.0000])\n",
      "Using inversed latents\n",
      "Step 0: t = 1000.0\n",
      "Step 1: t = 875.0\n"
     ]
    },
    {
     "name": "stderr",
     "output_type": "stream",
     "text": []
    },
    {
     "name": "stdout",
     "output_type": "stream",
     "text": [
      "Step 0: t_curr = 1000.0, t_prev = 875.0\n",
      "t:2\n"
     ]
    },
    {
     "name": "stderr",
     "output_type": "stream",
     "text": []
    },
    {
     "name": "stdout",
     "output_type": "stream",
     "text": [
      "Step 1: t_curr = 875.0, t_prev = 0.0\n",
      "t:1\n"
     ]
    },
    {
     "name": "stderr",
     "output_type": "stream",
     "text": [
      "100%|██████████| 2/2 [00:07<00:00,  3.88s/it]\n",
      "\u001b[32m2025-04-04 17:15:00.099\u001b[0m | \u001b[1mINFO    \u001b[0m | \u001b[36mhyvideo.inference\u001b[0m:\u001b[36mpredict\u001b[0m:\u001b[36m709\u001b[0m - \u001b[1mSuccess, time: 49.00040149688721\u001b[0m\n",
      "huggingface/tokenizers: The current process just got forked, after parallelism has already been used. Disabling parallelism to avoid deadlocks...\n",
      "To disable this warning, you can either:\n",
      "\t- Avoid using `tokenizers` before the fork if possible\n",
      "\t- Explicitly set the environment variable TOKENIZERS_PARALLELISM=(true | false)\n",
      "\u001b[32m2025-04-04 17:15:02.543\u001b[0m | \u001b[1mINFO    \u001b[0m | \u001b[36m__main__\u001b[0m:\u001b[36mprocess_sample\u001b[0m:\u001b[36m157\u001b[0m - \u001b[1m保存编辑视频到: ./results/V2VBench/rf-solver_2order/boat/edit_001.mp4\u001b[0m\n",
      "处理数据集批次:  13%|█▎        | 19/150 [11:24<1:35:47, 43.88s/it]\u001b[32m2025-04-04 17:15:02.570\u001b[0m | \u001b[1mINFO    \u001b[0m | \u001b[36mhyvideo.inference\u001b[0m:\u001b[36mpredict\u001b[0m:\u001b[36m605\u001b[0m - \u001b[1mInput (height, width, video_length) = (512, 512, 25)\u001b[0m\n",
      "\u001b[32m2025-04-04 17:15:02.825\u001b[0m | \u001b[34m\u001b[1mDEBUG   \u001b[0m | \u001b[36mhyvideo.inference\u001b[0m:\u001b[36mpredict\u001b[0m:\u001b[36m665\u001b[0m - \u001b[34m\u001b[1m\n",
      "                        height: 512\n",
      "                         width: 512\n",
      "                  video_length: 25\n",
      "                        prompt: ['a white fishing boat sails on blue waters surrounded by small villages']\n",
      "                    neg_prompt: ['Aerial view, aerial view, overexposed, low quality, deformation, a poor composition, bad hands, bad teeth, bad eyes, bad limbs, distortion']\n",
      "                          seed: 42\n",
      "                   infer_steps: 2\n",
      "         num_videos_per_prompt: 1\n",
      "                guidance_scale: 1.0\n",
      "                      n_tokens: 7168\n",
      "                    flow_shift: 7.0\n",
      "       embedded_guidance_scale: 2.0\u001b[0m\n"
     ]
    },
    {
     "name": "stdout",
     "output_type": "stream",
     "text": [
      "cuda:0\n",
      "cuda:0\n",
      "sigmas_reverse\n",
      "sigmas: tensor([0.0000, 0.8750, 1.0000])\n",
      "Using inversed latents\n",
      "Step 0: t = 0.0\n",
      "Step 1: t = 875.0\n"
     ]
    },
    {
     "name": "stderr",
     "output_type": "stream",
     "text": []
    },
    {
     "name": "stdout",
     "output_type": "stream",
     "text": [
      "Step 0: t_curr = 0.0, t_prev = 875.0\n",
      "t:1\n"
     ]
    },
    {
     "name": "stderr",
     "output_type": "stream",
     "text": []
    },
    {
     "name": "stdout",
     "output_type": "stream",
     "text": [
      "Step 1: t_curr = 875.0, t_prev = 1000.0\n",
      "t:2\n"
     ]
    },
    {
     "name": "stderr",
     "output_type": "stream",
     "text": [
      "100%|██████████| 2/2 [00:09<00:00,  4.90s/it]\n"
     ]
    },
    {
     "name": "stdout",
     "output_type": "stream",
     "text": [
      "cuda:0\n",
      "cuda:0\n",
      "sigmas: tensor([1.0000, 0.8750, 0.0000])\n",
      "Using inversed latents\n",
      "Step 0: t = 1000.0\n",
      "Step 1: t = 875.0\n"
     ]
    },
    {
     "name": "stderr",
     "output_type": "stream",
     "text": []
    },
    {
     "name": "stdout",
     "output_type": "stream",
     "text": [
      "Step 0: t_curr = 1000.0, t_prev = 875.0\n",
      "t:2\n"
     ]
    },
    {
     "name": "stderr",
     "output_type": "stream",
     "text": []
    },
    {
     "name": "stdout",
     "output_type": "stream",
     "text": [
      "Step 1: t_curr = 875.0, t_prev = 0.0\n",
      "t:1\n"
     ]
    },
    {
     "name": "stderr",
     "output_type": "stream",
     "text": [
      "100%|██████████| 2/2 [00:07<00:00,  3.75s/it]\n",
      "\u001b[32m2025-04-04 17:15:51.953\u001b[0m | \u001b[1mINFO    \u001b[0m | \u001b[36mhyvideo.inference\u001b[0m:\u001b[36mpredict\u001b[0m:\u001b[36m709\u001b[0m - \u001b[1mSuccess, time: 49.12244391441345\u001b[0m\n",
      "huggingface/tokenizers: The current process just got forked, after parallelism has already been used. Disabling parallelism to avoid deadlocks...\n",
      "To disable this warning, you can either:\n",
      "\t- Avoid using `tokenizers` before the fork if possible\n",
      "\t- Explicitly set the environment variable TOKENIZERS_PARALLELISM=(true | false)\n",
      "\u001b[32m2025-04-04 17:15:54.413\u001b[0m | \u001b[1mINFO    \u001b[0m | \u001b[36m__main__\u001b[0m:\u001b[36mprocess_sample\u001b[0m:\u001b[36m157\u001b[0m - \u001b[1m保存编辑视频到: ./results/V2VBench/rf-solver_2order/boat/edit_002.mp4\u001b[0m\n",
      "处理数据集批次:  13%|█▎        | 20/150 [12:16<1:39:37, 45.98s/it]\u001b[32m2025-04-04 17:15:54.445\u001b[0m | \u001b[1mINFO    \u001b[0m | \u001b[36mhyvideo.inference\u001b[0m:\u001b[36mpredict\u001b[0m:\u001b[36m605\u001b[0m - \u001b[1mInput (height, width, video_length) = (512, 512, 25)\u001b[0m\n",
      "\u001b[32m2025-04-04 17:15:54.706\u001b[0m | \u001b[34m\u001b[1mDEBUG   \u001b[0m | \u001b[36mhyvideo.inference\u001b[0m:\u001b[36mpredict\u001b[0m:\u001b[36m665\u001b[0m - \u001b[34m\u001b[1m\n",
      "                        height: 512\n",
      "                         width: 512\n",
      "                  video_length: 25\n",
      "                        prompt: ['two boxers sparring in an outdoor ring during the evening with a coach supervising and city buildings and trees in the background']\n",
      "                    neg_prompt: ['Aerial view, aerial view, overexposed, low quality, deformation, a poor composition, bad hands, bad teeth, bad eyes, bad limbs, distortion']\n",
      "                          seed: 42\n",
      "                   infer_steps: 2\n",
      "         num_videos_per_prompt: 1\n",
      "                guidance_scale: 1.0\n",
      "                      n_tokens: 7168\n",
      "                    flow_shift: 7.0\n",
      "       embedded_guidance_scale: 2.0\u001b[0m\n"
     ]
    },
    {
     "name": "stdout",
     "output_type": "stream",
     "text": [
      "cuda:0\n",
      "cuda:0\n",
      "sigmas_reverse\n",
      "sigmas: tensor([0.0000, 0.8750, 1.0000])\n",
      "Using inversed latents\n",
      "Step 0: t = 0.0\n",
      "Step 1: t = 875.0\n"
     ]
    },
    {
     "name": "stderr",
     "output_type": "stream",
     "text": []
    },
    {
     "name": "stdout",
     "output_type": "stream",
     "text": [
      "Step 0: t_curr = 0.0, t_prev = 875.0\n",
      "t:1\n"
     ]
    },
    {
     "name": "stderr",
     "output_type": "stream",
     "text": []
    },
    {
     "name": "stdout",
     "output_type": "stream",
     "text": [
      "Step 1: t_curr = 875.0, t_prev = 1000.0\n",
      "t:2\n"
     ]
    },
    {
     "name": "stderr",
     "output_type": "stream",
     "text": [
      "100%|██████████| 2/2 [00:08<00:00,  4.38s/it]\n"
     ]
    },
    {
     "name": "stdout",
     "output_type": "stream",
     "text": [
      "cuda:0\n",
      "cuda:0\n",
      "sigmas: tensor([1.0000, 0.8750, 0.0000])\n",
      "Using inversed latents\n",
      "Step 0: t = 1000.0\n",
      "Step 1: t = 875.0\n"
     ]
    },
    {
     "name": "stderr",
     "output_type": "stream",
     "text": []
    },
    {
     "name": "stdout",
     "output_type": "stream",
     "text": [
      "Step 0: t_curr = 1000.0, t_prev = 875.0\n",
      "t:2\n"
     ]
    },
    {
     "name": "stderr",
     "output_type": "stream",
     "text": []
    },
    {
     "name": "stdout",
     "output_type": "stream",
     "text": [
      "Step 1: t_curr = 875.0, t_prev = 0.0\n",
      "t:1\n"
     ]
    },
    {
     "name": "stderr",
     "output_type": "stream",
     "text": [
      "100%|██████████| 2/2 [00:07<00:00,  3.78s/it]\n",
      "\u001b[32m2025-04-04 17:16:42.103\u001b[0m | \u001b[1mINFO    \u001b[0m | \u001b[36mhyvideo.inference\u001b[0m:\u001b[36mpredict\u001b[0m:\u001b[36m709\u001b[0m - \u001b[1mSuccess, time: 47.395686626434326\u001b[0m\n",
      "huggingface/tokenizers: The current process just got forked, after parallelism has already been used. Disabling parallelism to avoid deadlocks...\n",
      "To disable this warning, you can either:\n",
      "\t- Avoid using `tokenizers` before the fork if possible\n",
      "\t- Explicitly set the environment variable TOKENIZERS_PARALLELISM=(true | false)\n",
      "\u001b[32m2025-04-04 17:16:44.345\u001b[0m | \u001b[1mINFO    \u001b[0m | \u001b[36m__main__\u001b[0m:\u001b[36mprocess_sample\u001b[0m:\u001b[36m157\u001b[0m - \u001b[1m保存编辑视频到: ./results/V2VBench/rf-solver_2order/boxing-fisheye/edit_000.mp4\u001b[0m\n",
      "处理数据集批次:  14%|█▍        | 21/150 [13:06<1:41:11, 47.06s/it]\u001b[32m2025-04-04 17:16:44.373\u001b[0m | \u001b[1mINFO    \u001b[0m | \u001b[36mhyvideo.inference\u001b[0m:\u001b[36mpredict\u001b[0m:\u001b[36m605\u001b[0m - \u001b[1mInput (height, width, video_length) = (512, 512, 25)\u001b[0m\n",
      "\u001b[32m2025-04-04 17:16:44.608\u001b[0m | \u001b[34m\u001b[1mDEBUG   \u001b[0m | \u001b[36mhyvideo.inference\u001b[0m:\u001b[36mpredict\u001b[0m:\u001b[36m665\u001b[0m - \u001b[34m\u001b[1m\n",
      "                        height: 512\n",
      "                         width: 512\n",
      "                  video_length: 25\n",
      "                        prompt: ['two boxers sparring in an outdoor ring during the evening with a coach supervising and city buildings and trees in the background']\n",
      "                    neg_prompt: ['Aerial view, aerial view, overexposed, low quality, deformation, a poor composition, bad hands, bad teeth, bad eyes, bad limbs, distortion']\n",
      "                          seed: 42\n",
      "                   infer_steps: 2\n",
      "         num_videos_per_prompt: 1\n",
      "                guidance_scale: 1.0\n",
      "                      n_tokens: 7168\n",
      "                    flow_shift: 7.0\n",
      "       embedded_guidance_scale: 2.0\u001b[0m\n"
     ]
    },
    {
     "name": "stdout",
     "output_type": "stream",
     "text": [
      "cuda:0\n",
      "cuda:0\n",
      "sigmas_reverse\n",
      "sigmas: tensor([0.0000, 0.8750, 1.0000])\n",
      "Using inversed latents\n",
      "Step 0: t = 0.0\n",
      "Step 1: t = 875.0\n"
     ]
    },
    {
     "name": "stderr",
     "output_type": "stream",
     "text": []
    },
    {
     "name": "stdout",
     "output_type": "stream",
     "text": [
      "Step 0: t_curr = 0.0, t_prev = 875.0\n",
      "t:1\n"
     ]
    },
    {
     "name": "stderr",
     "output_type": "stream",
     "text": []
    },
    {
     "name": "stdout",
     "output_type": "stream",
     "text": [
      "Step 1: t_curr = 875.0, t_prev = 1000.0\n",
      "t:2\n"
     ]
    },
    {
     "name": "stderr",
     "output_type": "stream",
     "text": [
      "100%|██████████| 2/2 [00:08<00:00,  4.09s/it]\n"
     ]
    },
    {
     "name": "stdout",
     "output_type": "stream",
     "text": [
      "cuda:0\n",
      "cuda:0\n",
      "sigmas: tensor([1.0000, 0.8750, 0.0000])\n",
      "Using inversed latents\n",
      "Step 0: t = 1000.0\n",
      "Step 1: t = 875.0\n"
     ]
    },
    {
     "name": "stderr",
     "output_type": "stream",
     "text": []
    },
    {
     "name": "stdout",
     "output_type": "stream",
     "text": [
      "Step 0: t_curr = 1000.0, t_prev = 875.0\n",
      "t:2\n"
     ]
    },
    {
     "name": "stderr",
     "output_type": "stream",
     "text": []
    },
    {
     "name": "stdout",
     "output_type": "stream",
     "text": [
      "Step 1: t_curr = 875.0, t_prev = 0.0\n",
      "t:1\n"
     ]
    },
    {
     "name": "stderr",
     "output_type": "stream",
     "text": [
      "100%|██████████| 2/2 [00:07<00:00,  3.86s/it]\n",
      "\u001b[32m2025-04-04 17:17:30.844\u001b[0m | \u001b[1mINFO    \u001b[0m | \u001b[36mhyvideo.inference\u001b[0m:\u001b[36mpredict\u001b[0m:\u001b[36m709\u001b[0m - \u001b[1mSuccess, time: 46.23472809791565\u001b[0m\n",
      "huggingface/tokenizers: The current process just got forked, after parallelism has already been used. Disabling parallelism to avoid deadlocks...\n",
      "To disable this warning, you can either:\n",
      "\t- Avoid using `tokenizers` before the fork if possible\n",
      "\t- Explicitly set the environment variable TOKENIZERS_PARALLELISM=(true | false)\n",
      "\u001b[32m2025-04-04 17:17:33.272\u001b[0m | \u001b[1mINFO    \u001b[0m | \u001b[36m__main__\u001b[0m:\u001b[36mprocess_sample\u001b[0m:\u001b[36m157\u001b[0m - \u001b[1m保存编辑视频到: ./results/V2VBench/rf-solver_2order/boxing-fisheye/edit_001.mp4\u001b[0m\n",
      "处理数据集批次:  15%|█▌        | 23/150 [13:55<1:18:37, 37.15s/it]\u001b[32m2025-04-04 17:17:33.298\u001b[0m | \u001b[1mINFO    \u001b[0m | \u001b[36mhyvideo.inference\u001b[0m:\u001b[36mpredict\u001b[0m:\u001b[36m605\u001b[0m - \u001b[1mInput (height, width, video_length) = (512, 512, 25)\u001b[0m\n",
      "\u001b[32m2025-04-04 17:17:33.555\u001b[0m | \u001b[34m\u001b[1mDEBUG   \u001b[0m | \u001b[36mhyvideo.inference\u001b[0m:\u001b[36mpredict\u001b[0m:\u001b[36m665\u001b[0m - \u001b[34m\u001b[1m\n",
      "                        height: 512\n",
      "                         width: 512\n",
      "                  video_length: 25\n",
      "                        prompt: ['two boxers sparring in an outdoor ring during the evening with a coach supervising and city buildings and trees in the background']\n",
      "                    neg_prompt: ['Aerial view, aerial view, overexposed, low quality, deformation, a poor composition, bad hands, bad teeth, bad eyes, bad limbs, distortion']\n",
      "                          seed: 42\n",
      "                   infer_steps: 2\n",
      "         num_videos_per_prompt: 1\n",
      "                guidance_scale: 1.0\n",
      "                      n_tokens: 7168\n",
      "                    flow_shift: 7.0\n",
      "       embedded_guidance_scale: 2.0\u001b[0m\n"
     ]
    },
    {
     "name": "stdout",
     "output_type": "stream",
     "text": [
      "cuda:0\n",
      "cuda:0\n",
      "sigmas_reverse\n",
      "sigmas: tensor([0.0000, 0.8750, 1.0000])\n",
      "Using inversed latents\n",
      "Step 0: t = 0.0\n",
      "Step 1: t = 875.0\n"
     ]
    },
    {
     "name": "stderr",
     "output_type": "stream",
     "text": []
    },
    {
     "name": "stdout",
     "output_type": "stream",
     "text": [
      "Step 0: t_curr = 0.0, t_prev = 875.0\n",
      "t:1\n"
     ]
    },
    {
     "name": "stderr",
     "output_type": "stream",
     "text": []
    },
    {
     "name": "stdout",
     "output_type": "stream",
     "text": [
      "Step 1: t_curr = 875.0, t_prev = 1000.0\n",
      "t:2\n"
     ]
    },
    {
     "name": "stderr",
     "output_type": "stream",
     "text": [
      "100%|██████████| 2/2 [00:09<00:00,  4.91s/it]\n"
     ]
    },
    {
     "name": "stdout",
     "output_type": "stream",
     "text": [
      "cuda:0\n",
      "cuda:0\n",
      "sigmas: tensor([1.0000, 0.8750, 0.0000])\n",
      "Using inversed latents\n",
      "Step 0: t = 1000.0\n",
      "Step 1: t = 875.0\n"
     ]
    },
    {
     "name": "stderr",
     "output_type": "stream",
     "text": []
    },
    {
     "name": "stdout",
     "output_type": "stream",
     "text": [
      "Step 0: t_curr = 1000.0, t_prev = 875.0\n",
      "t:2\n"
     ]
    },
    {
     "name": "stderr",
     "output_type": "stream",
     "text": []
    },
    {
     "name": "stdout",
     "output_type": "stream",
     "text": [
      "Step 1: t_curr = 875.0, t_prev = 0.0\n",
      "t:1\n"
     ]
    },
    {
     "name": "stderr",
     "output_type": "stream",
     "text": [
      "100%|██████████| 2/2 [00:07<00:00,  3.74s/it]\n",
      "\u001b[32m2025-04-04 17:18:24.127\u001b[0m | \u001b[1mINFO    \u001b[0m | \u001b[36mhyvideo.inference\u001b[0m:\u001b[36mpredict\u001b[0m:\u001b[36m709\u001b[0m - \u001b[1mSuccess, time: 50.57105994224548\u001b[0m\n",
      "huggingface/tokenizers: The current process just got forked, after parallelism has already been used. Disabling parallelism to avoid deadlocks...\n",
      "To disable this warning, you can either:\n",
      "\t- Avoid using `tokenizers` before the fork if possible\n",
      "\t- Explicitly set the environment variable TOKENIZERS_PARALLELISM=(true | false)\n",
      "\u001b[32m2025-04-04 17:18:26.546\u001b[0m | \u001b[1mINFO    \u001b[0m | \u001b[36m__main__\u001b[0m:\u001b[36mprocess_sample\u001b[0m:\u001b[36m157\u001b[0m - \u001b[1m保存编辑视频到: ./results/V2VBench/rf-solver_2order/boxing-fisheye/edit_002.mp4\u001b[0m\n",
      "处理数据集批次:  16%|█▌        | 24/150 [14:48<1:26:05, 41.00s/it]\u001b[32m2025-04-04 17:18:26.573\u001b[0m | \u001b[1mINFO    \u001b[0m | \u001b[36mhyvideo.inference\u001b[0m:\u001b[36mpredict\u001b[0m:\u001b[36m605\u001b[0m - \u001b[1mInput (height, width, video_length) = (512, 512, 25)\u001b[0m\n",
      "\u001b[32m2025-04-04 17:18:26.833\u001b[0m | \u001b[34m\u001b[1mDEBUG   \u001b[0m | \u001b[36mhyvideo.inference\u001b[0m:\u001b[36mpredict\u001b[0m:\u001b[36m665\u001b[0m - \u001b[34m\u001b[1m\n",
      "                        height: 512\n",
      "                         width: 512\n",
      "                  video_length: 25\n",
      "                        prompt: ['aerial view of a white and blue bus driving down a city street']\n",
      "                    neg_prompt: ['Aerial view, aerial view, overexposed, low quality, deformation, a poor composition, bad hands, bad teeth, bad eyes, bad limbs, distortion']\n",
      "                          seed: 42\n",
      "                   infer_steps: 2\n",
      "         num_videos_per_prompt: 1\n",
      "                guidance_scale: 1.0\n",
      "                      n_tokens: 7168\n",
      "                    flow_shift: 7.0\n",
      "       embedded_guidance_scale: 2.0\u001b[0m\n"
     ]
    },
    {
     "name": "stdout",
     "output_type": "stream",
     "text": [
      "cuda:0\n",
      "cuda:0\n",
      "sigmas_reverse\n",
      "sigmas: tensor([0.0000, 0.8750, 1.0000])\n",
      "Using inversed latents\n",
      "Step 0: t = 0.0\n",
      "Step 1: t = 875.0\n"
     ]
    },
    {
     "name": "stderr",
     "output_type": "stream",
     "text": []
    },
    {
     "name": "stdout",
     "output_type": "stream",
     "text": [
      "Step 0: t_curr = 0.0, t_prev = 875.0\n",
      "t:1\n"
     ]
    },
    {
     "name": "stderr",
     "output_type": "stream",
     "text": []
    },
    {
     "name": "stdout",
     "output_type": "stream",
     "text": [
      "Step 1: t_curr = 875.0, t_prev = 1000.0\n",
      "t:2\n"
     ]
    },
    {
     "name": "stderr",
     "output_type": "stream",
     "text": [
      "100%|██████████| 2/2 [00:09<00:00,  4.92s/it]\n"
     ]
    },
    {
     "name": "stdout",
     "output_type": "stream",
     "text": [
      "cuda:0\n",
      "cuda:0\n",
      "sigmas: tensor([1.0000, 0.8750, 0.0000])\n",
      "Using inversed latents\n",
      "Step 0: t = 1000.0\n",
      "Step 1: t = 875.0\n"
     ]
    },
    {
     "name": "stderr",
     "output_type": "stream",
     "text": []
    },
    {
     "name": "stdout",
     "output_type": "stream",
     "text": [
      "Step 0: t_curr = 1000.0, t_prev = 875.0\n",
      "t:2\n"
     ]
    },
    {
     "name": "stderr",
     "output_type": "stream",
     "text": []
    },
    {
     "name": "stdout",
     "output_type": "stream",
     "text": [
      "Step 1: t_curr = 875.0, t_prev = 0.0\n",
      "t:1\n"
     ]
    },
    {
     "name": "stderr",
     "output_type": "stream",
     "text": [
      "100%|██████████| 2/2 [00:07<00:00,  3.76s/it]\n",
      "\u001b[32m2025-04-04 17:19:15.495\u001b[0m | \u001b[1mINFO    \u001b[0m | \u001b[36mhyvideo.inference\u001b[0m:\u001b[36mpredict\u001b[0m:\u001b[36m709\u001b[0m - \u001b[1mSuccess, time: 48.655338764190674\u001b[0m\n",
      "huggingface/tokenizers: The current process just got forked, after parallelism has already been used. Disabling parallelism to avoid deadlocks...\n",
      "To disable this warning, you can either:\n",
      "\t- Avoid using `tokenizers` before the fork if possible\n",
      "\t- Explicitly set the environment variable TOKENIZERS_PARALLELISM=(true | false)\n",
      "\u001b[32m2025-04-04 17:19:18.038\u001b[0m | \u001b[1mINFO    \u001b[0m | \u001b[36m__main__\u001b[0m:\u001b[36mprocess_sample\u001b[0m:\u001b[36m157\u001b[0m - \u001b[1m保存编辑视频到: ./results/V2VBench/rf-solver_2order/bus/edit_000.mp4\u001b[0m\n",
      "处理数据集批次:  17%|█▋        | 25/150 [15:39<1:30:58, 43.66s/it]\u001b[32m2025-04-04 17:19:18.067\u001b[0m | \u001b[1mINFO    \u001b[0m | \u001b[36mhyvideo.inference\u001b[0m:\u001b[36mpredict\u001b[0m:\u001b[36m605\u001b[0m - \u001b[1mInput (height, width, video_length) = (512, 512, 25)\u001b[0m\n",
      "\u001b[32m2025-04-04 17:19:18.328\u001b[0m | \u001b[34m\u001b[1mDEBUG   \u001b[0m | \u001b[36mhyvideo.inference\u001b[0m:\u001b[36mpredict\u001b[0m:\u001b[36m665\u001b[0m - \u001b[34m\u001b[1m\n",
      "                        height: 512\n",
      "                         width: 512\n",
      "                  video_length: 25\n",
      "                        prompt: ['aerial view of a white and blue bus driving down a city street']\n",
      "                    neg_prompt: ['Aerial view, aerial view, overexposed, low quality, deformation, a poor composition, bad hands, bad teeth, bad eyes, bad limbs, distortion']\n",
      "                          seed: 42\n",
      "                   infer_steps: 2\n",
      "         num_videos_per_prompt: 1\n",
      "                guidance_scale: 1.0\n",
      "                      n_tokens: 7168\n",
      "                    flow_shift: 7.0\n",
      "       embedded_guidance_scale: 2.0\u001b[0m\n"
     ]
    },
    {
     "name": "stdout",
     "output_type": "stream",
     "text": [
      "cuda:0\n",
      "cuda:0\n",
      "sigmas_reverse\n",
      "sigmas: tensor([0.0000, 0.8750, 1.0000])\n",
      "Using inversed latents\n",
      "Step 0: t = 0.0\n",
      "Step 1: t = 875.0\n"
     ]
    },
    {
     "name": "stderr",
     "output_type": "stream",
     "text": []
    },
    {
     "name": "stdout",
     "output_type": "stream",
     "text": [
      "Step 0: t_curr = 0.0, t_prev = 875.0\n",
      "t:1\n"
     ]
    },
    {
     "name": "stderr",
     "output_type": "stream",
     "text": []
    },
    {
     "name": "stdout",
     "output_type": "stream",
     "text": [
      "Step 1: t_curr = 875.0, t_prev = 1000.0\n",
      "t:2\n"
     ]
    },
    {
     "name": "stderr",
     "output_type": "stream",
     "text": [
      "100%|██████████| 2/2 [00:08<00:00,  4.11s/it]\n"
     ]
    },
    {
     "name": "stdout",
     "output_type": "stream",
     "text": [
      "cuda:0\n",
      "cuda:0\n",
      "sigmas: tensor([1.0000, 0.8750, 0.0000])\n",
      "Using inversed latents\n",
      "Step 0: t = 1000.0\n",
      "Step 1: t = 875.0\n"
     ]
    },
    {
     "name": "stderr",
     "output_type": "stream",
     "text": []
    },
    {
     "name": "stdout",
     "output_type": "stream",
     "text": [
      "Step 0: t_curr = 1000.0, t_prev = 875.0\n",
      "t:2\n"
     ]
    },
    {
     "name": "stderr",
     "output_type": "stream",
     "text": []
    },
    {
     "name": "stdout",
     "output_type": "stream",
     "text": [
      "Step 1: t_curr = 875.0, t_prev = 0.0\n",
      "t:1\n"
     ]
    },
    {
     "name": "stderr",
     "output_type": "stream",
     "text": [
      "100%|██████████| 2/2 [00:07<00:00,  3.73s/it]\n",
      "\u001b[32m2025-04-04 17:20:05.030\u001b[0m | \u001b[1mINFO    \u001b[0m | \u001b[36mhyvideo.inference\u001b[0m:\u001b[36mpredict\u001b[0m:\u001b[36m709\u001b[0m - \u001b[1mSuccess, time: 46.69500541687012\u001b[0m\n",
      "huggingface/tokenizers: The current process just got forked, after parallelism has already been used. Disabling parallelism to avoid deadlocks...\n",
      "To disable this warning, you can either:\n",
      "\t- Avoid using `tokenizers` before the fork if possible\n",
      "\t- Explicitly set the environment variable TOKENIZERS_PARALLELISM=(true | false)\n",
      "\u001b[32m2025-04-04 17:20:07.474\u001b[0m | \u001b[1mINFO    \u001b[0m | \u001b[36m__main__\u001b[0m:\u001b[36mprocess_sample\u001b[0m:\u001b[36m157\u001b[0m - \u001b[1m保存编辑视频到: ./results/V2VBench/rf-solver_2order/bus/edit_001.mp4\u001b[0m\n",
      "处理数据集批次:  17%|█▋        | 26/150 [16:29<1:33:24, 45.20s/it]\u001b[32m2025-04-04 17:20:07.503\u001b[0m | \u001b[1mINFO    \u001b[0m | \u001b[36mhyvideo.inference\u001b[0m:\u001b[36mpredict\u001b[0m:\u001b[36m605\u001b[0m - \u001b[1mInput (height, width, video_length) = (512, 512, 25)\u001b[0m\n",
      "\u001b[32m2025-04-04 17:20:07.762\u001b[0m | \u001b[34m\u001b[1mDEBUG   \u001b[0m | \u001b[36mhyvideo.inference\u001b[0m:\u001b[36mpredict\u001b[0m:\u001b[36m665\u001b[0m - \u001b[34m\u001b[1m\n",
      "                        height: 512\n",
      "                         width: 512\n",
      "                  video_length: 25\n",
      "                        prompt: ['aerial view of a white and blue bus driving down a city street']\n",
      "                    neg_prompt: ['Aerial view, aerial view, overexposed, low quality, deformation, a poor composition, bad hands, bad teeth, bad eyes, bad limbs, distortion']\n",
      "                          seed: 42\n",
      "                   infer_steps: 2\n",
      "         num_videos_per_prompt: 1\n",
      "                guidance_scale: 1.0\n",
      "                      n_tokens: 7168\n",
      "                    flow_shift: 7.0\n",
      "       embedded_guidance_scale: 2.0\u001b[0m\n"
     ]
    },
    {
     "name": "stdout",
     "output_type": "stream",
     "text": [
      "cuda:0\n",
      "cuda:0\n",
      "sigmas_reverse\n",
      "sigmas: tensor([0.0000, 0.8750, 1.0000])\n",
      "Using inversed latents\n",
      "Step 0: t = 0.0\n",
      "Step 1: t = 875.0\n"
     ]
    },
    {
     "name": "stderr",
     "output_type": "stream",
     "text": []
    },
    {
     "name": "stdout",
     "output_type": "stream",
     "text": [
      "Step 0: t_curr = 0.0, t_prev = 875.0\n",
      "t:1\n"
     ]
    },
    {
     "name": "stderr",
     "output_type": "stream",
     "text": []
    },
    {
     "name": "stdout",
     "output_type": "stream",
     "text": [
      "Step 1: t_curr = 875.0, t_prev = 1000.0\n",
      "t:2\n"
     ]
    },
    {
     "name": "stderr",
     "output_type": "stream",
     "text": [
      "100%|██████████| 2/2 [00:08<00:00,  4.10s/it]\n"
     ]
    },
    {
     "name": "stdout",
     "output_type": "stream",
     "text": [
      "cuda:0\n",
      "cuda:0\n",
      "sigmas: tensor([1.0000, 0.8750, 0.0000])\n",
      "Using inversed latents\n",
      "Step 0: t = 1000.0\n",
      "Step 1: t = 875.0\n"
     ]
    },
    {
     "name": "stderr",
     "output_type": "stream",
     "text": []
    },
    {
     "name": "stdout",
     "output_type": "stream",
     "text": [
      "Step 0: t_curr = 1000.0, t_prev = 875.0\n",
      "t:2\n"
     ]
    },
    {
     "name": "stderr",
     "output_type": "stream",
     "text": []
    },
    {
     "name": "stdout",
     "output_type": "stream",
     "text": [
      "Step 1: t_curr = 875.0, t_prev = 0.0\n",
      "t:1\n"
     ]
    },
    {
     "name": "stderr",
     "output_type": "stream",
     "text": [
      "100%|██████████| 2/2 [00:07<00:00,  3.53s/it]\n",
      "\u001b[32m2025-04-04 17:20:53.271\u001b[0m | \u001b[1mINFO    \u001b[0m | \u001b[36mhyvideo.inference\u001b[0m:\u001b[36mpredict\u001b[0m:\u001b[36m709\u001b[0m - \u001b[1mSuccess, time: 45.50762629508972\u001b[0m\n",
      "huggingface/tokenizers: The current process just got forked, after parallelism has already been used. Disabling parallelism to avoid deadlocks...\n",
      "To disable this warning, you can either:\n",
      "\t- Avoid using `tokenizers` before the fork if possible\n",
      "\t- Explicitly set the environment variable TOKENIZERS_PARALLELISM=(true | false)\n",
      "\u001b[32m2025-04-04 17:20:55.731\u001b[0m | \u001b[1mINFO    \u001b[0m | \u001b[36m__main__\u001b[0m:\u001b[36mprocess_sample\u001b[0m:\u001b[36m157\u001b[0m - \u001b[1m保存编辑视频到: ./results/V2VBench/rf-solver_2order/bus/edit_002.mp4\u001b[0m\n",
      "处理数据集批次:  18%|█▊        | 27/150 [17:17<1:34:23, 46.04s/it]\u001b[32m2025-04-04 17:20:55.762\u001b[0m | \u001b[1mINFO    \u001b[0m | \u001b[36mhyvideo.inference\u001b[0m:\u001b[36mpredict\u001b[0m:\u001b[36m605\u001b[0m - \u001b[1mInput (height, width, video_length) = (512, 512, 25)\u001b[0m\n",
      "\u001b[32m2025-04-04 17:20:56.024\u001b[0m | \u001b[34m\u001b[1mDEBUG   \u001b[0m | \u001b[36mhyvideo.inference\u001b[0m:\u001b[36mpredict\u001b[0m:\u001b[36m665\u001b[0m - \u001b[34m\u001b[1m\n",
      "                        height: 512\n",
      "                         width: 512\n",
      "                  video_length: 25\n",
      "                        prompt: ['a black and yellow butterfly flutters over a plant in a field eventually alighting on a yellow flower']\n",
      "                    neg_prompt: ['Aerial view, aerial view, overexposed, low quality, deformation, a poor composition, bad hands, bad teeth, bad eyes, bad limbs, distortion']\n",
      "                          seed: 42\n",
      "                   infer_steps: 2\n",
      "         num_videos_per_prompt: 1\n",
      "                guidance_scale: 1.0\n",
      "                      n_tokens: 7168\n",
      "                    flow_shift: 7.0\n",
      "       embedded_guidance_scale: 2.0\u001b[0m\n"
     ]
    },
    {
     "name": "stdout",
     "output_type": "stream",
     "text": [
      "cuda:0\n",
      "cuda:0\n",
      "sigmas_reverse\n",
      "sigmas: tensor([0.0000, 0.8750, 1.0000])\n",
      "Using inversed latents\n",
      "Step 0: t = 0.0\n",
      "Step 1: t = 875.0\n"
     ]
    },
    {
     "name": "stderr",
     "output_type": "stream",
     "text": []
    },
    {
     "name": "stdout",
     "output_type": "stream",
     "text": [
      "Step 0: t_curr = 0.0, t_prev = 875.0\n",
      "t:1\n"
     ]
    },
    {
     "name": "stderr",
     "output_type": "stream",
     "text": []
    },
    {
     "name": "stdout",
     "output_type": "stream",
     "text": [
      "Step 1: t_curr = 875.0, t_prev = 1000.0\n",
      "t:2\n"
     ]
    },
    {
     "name": "stderr",
     "output_type": "stream",
     "text": [
      "100%|██████████| 2/2 [00:08<00:00,  4.09s/it]\n"
     ]
    },
    {
     "name": "stdout",
     "output_type": "stream",
     "text": [
      "cuda:0\n",
      "cuda:0\n",
      "sigmas: tensor([1.0000, 0.8750, 0.0000])\n",
      "Using inversed latents\n",
      "Step 0: t = 1000.0\n",
      "Step 1: t = 875.0\n"
     ]
    },
    {
     "name": "stderr",
     "output_type": "stream",
     "text": []
    },
    {
     "name": "stdout",
     "output_type": "stream",
     "text": [
      "Step 0: t_curr = 1000.0, t_prev = 875.0\n",
      "t:2\n"
     ]
    },
    {
     "name": "stderr",
     "output_type": "stream",
     "text": []
    },
    {
     "name": "stdout",
     "output_type": "stream",
     "text": [
      "Step 1: t_curr = 875.0, t_prev = 0.0\n",
      "t:1\n"
     ]
    },
    {
     "name": "stderr",
     "output_type": "stream",
     "text": [
      "100%|██████████| 2/2 [00:06<00:00,  3.50s/it]\n",
      "\u001b[32m2025-04-04 17:21:39.964\u001b[0m | \u001b[1mINFO    \u001b[0m | \u001b[36mhyvideo.inference\u001b[0m:\u001b[36mpredict\u001b[0m:\u001b[36m709\u001b[0m - \u001b[1mSuccess, time: 43.9386842250824\u001b[0m\n",
      "huggingface/tokenizers: The current process just got forked, after parallelism has already been used. Disabling parallelism to avoid deadlocks...\n",
      "To disable this warning, you can either:\n",
      "\t- Avoid using `tokenizers` before the fork if possible\n",
      "\t- Explicitly set the environment variable TOKENIZERS_PARALLELISM=(true | false)\n",
      "\u001b[32m2025-04-04 17:21:41.676\u001b[0m | \u001b[1mINFO    \u001b[0m | \u001b[36m__main__\u001b[0m:\u001b[36mprocess_sample\u001b[0m:\u001b[36m157\u001b[0m - \u001b[1m保存编辑视频到: ./results/V2VBench/rf-solver_2order/butterfly/edit_000.mp4\u001b[0m\n",
      "处理数据集批次:  19%|█▊        | 28/150 [18:03<1:33:33, 46.02s/it]\u001b[32m2025-04-04 17:21:41.704\u001b[0m | \u001b[1mINFO    \u001b[0m | \u001b[36mhyvideo.inference\u001b[0m:\u001b[36mpredict\u001b[0m:\u001b[36m605\u001b[0m - \u001b[1mInput (height, width, video_length) = (512, 512, 25)\u001b[0m\n",
      "\u001b[32m2025-04-04 17:21:41.926\u001b[0m | \u001b[34m\u001b[1mDEBUG   \u001b[0m | \u001b[36mhyvideo.inference\u001b[0m:\u001b[36mpredict\u001b[0m:\u001b[36m665\u001b[0m - \u001b[34m\u001b[1m\n",
      "                        height: 512\n",
      "                         width: 512\n",
      "                  video_length: 25\n",
      "                        prompt: ['a black and yellow butterfly flutters over a plant in a field eventually alighting on a yellow flower']\n",
      "                    neg_prompt: ['Aerial view, aerial view, overexposed, low quality, deformation, a poor composition, bad hands, bad teeth, bad eyes, bad limbs, distortion']\n",
      "                          seed: 42\n",
      "                   infer_steps: 2\n",
      "         num_videos_per_prompt: 1\n",
      "                guidance_scale: 1.0\n",
      "                      n_tokens: 7168\n",
      "                    flow_shift: 7.0\n",
      "       embedded_guidance_scale: 2.0\u001b[0m\n"
     ]
    },
    {
     "name": "stdout",
     "output_type": "stream",
     "text": [
      "cuda:0\n",
      "cuda:0\n",
      "sigmas_reverse\n",
      "sigmas: tensor([0.0000, 0.8750, 1.0000])\n",
      "Using inversed latents\n",
      "Step 0: t = 0.0\n",
      "Step 1: t = 875.0\n"
     ]
    },
    {
     "name": "stderr",
     "output_type": "stream",
     "text": []
    },
    {
     "name": "stdout",
     "output_type": "stream",
     "text": [
      "Step 0: t_curr = 0.0, t_prev = 875.0\n",
      "t:1\n"
     ]
    },
    {
     "name": "stderr",
     "output_type": "stream",
     "text": []
    },
    {
     "name": "stdout",
     "output_type": "stream",
     "text": [
      "Step 1: t_curr = 875.0, t_prev = 1000.0\n",
      "t:2\n"
     ]
    },
    {
     "name": "stderr",
     "output_type": "stream",
     "text": [
      "100%|██████████| 2/2 [00:08<00:00,  4.03s/it]\n"
     ]
    },
    {
     "name": "stdout",
     "output_type": "stream",
     "text": [
      "cuda:0\n",
      "cuda:0\n",
      "sigmas: tensor([1.0000, 0.8750, 0.0000])\n",
      "Using inversed latents\n",
      "Step 0: t = 1000.0\n",
      "Step 1: t = 875.0\n"
     ]
    },
    {
     "name": "stderr",
     "output_type": "stream",
     "text": []
    },
    {
     "name": "stdout",
     "output_type": "stream",
     "text": [
      "Step 0: t_curr = 1000.0, t_prev = 875.0\n",
      "t:2\n"
     ]
    },
    {
     "name": "stderr",
     "output_type": "stream",
     "text": []
    },
    {
     "name": "stdout",
     "output_type": "stream",
     "text": [
      "Step 1: t_curr = 875.0, t_prev = 0.0\n",
      "t:1\n"
     ]
    },
    {
     "name": "stderr",
     "output_type": "stream",
     "text": [
      "100%|██████████| 2/2 [00:06<00:00,  3.44s/it]\n",
      "\u001b[32m2025-04-04 17:22:22.701\u001b[0m | \u001b[1mINFO    \u001b[0m | \u001b[36mhyvideo.inference\u001b[0m:\u001b[36mpredict\u001b[0m:\u001b[36m709\u001b[0m - \u001b[1mSuccess, time: 40.77443051338196\u001b[0m\n",
      "huggingface/tokenizers: The current process just got forked, after parallelism has already been used. Disabling parallelism to avoid deadlocks...\n",
      "To disable this warning, you can either:\n",
      "\t- Avoid using `tokenizers` before the fork if possible\n",
      "\t- Explicitly set the environment variable TOKENIZERS_PARALLELISM=(true | false)\n",
      "\u001b[32m2025-04-04 17:22:24.430\u001b[0m | \u001b[1mINFO    \u001b[0m | \u001b[36m__main__\u001b[0m:\u001b[36mprocess_sample\u001b[0m:\u001b[36m157\u001b[0m - \u001b[1m保存编辑视频到: ./results/V2VBench/rf-solver_2order/butterfly/edit_001.mp4\u001b[0m\n",
      "处理数据集批次:  20%|██        | 30/150 [18:46<1:10:01, 35.01s/it]\u001b[32m2025-04-04 17:22:24.453\u001b[0m | \u001b[1mINFO    \u001b[0m | \u001b[36mhyvideo.inference\u001b[0m:\u001b[36mpredict\u001b[0m:\u001b[36m605\u001b[0m - \u001b[1mInput (height, width, video_length) = (512, 512, 25)\u001b[0m\n",
      "\u001b[32m2025-04-04 17:22:24.678\u001b[0m | \u001b[34m\u001b[1mDEBUG   \u001b[0m | \u001b[36mhyvideo.inference\u001b[0m:\u001b[36mpredict\u001b[0m:\u001b[36m665\u001b[0m - \u001b[34m\u001b[1m\n",
      "                        height: 512\n",
      "                         width: 512\n",
      "                  video_length: 25\n",
      "                        prompt: ['a black and yellow butterfly flutters over a plant in a field eventually alighting on a yellow flower']\n",
      "                    neg_prompt: ['Aerial view, aerial view, overexposed, low quality, deformation, a poor composition, bad hands, bad teeth, bad eyes, bad limbs, distortion']\n",
      "                          seed: 42\n",
      "                   infer_steps: 2\n",
      "         num_videos_per_prompt: 1\n",
      "                guidance_scale: 1.0\n",
      "                      n_tokens: 7168\n",
      "                    flow_shift: 7.0\n",
      "       embedded_guidance_scale: 2.0\u001b[0m\n"
     ]
    },
    {
     "name": "stdout",
     "output_type": "stream",
     "text": [
      "cuda:0\n",
      "cuda:0\n",
      "sigmas_reverse\n",
      "sigmas: tensor([0.0000, 0.8750, 1.0000])\n",
      "Using inversed latents\n",
      "Step 0: t = 0.0\n",
      "Step 1: t = 875.0\n"
     ]
    },
    {
     "name": "stderr",
     "output_type": "stream",
     "text": []
    },
    {
     "name": "stdout",
     "output_type": "stream",
     "text": [
      "Step 0: t_curr = 0.0, t_prev = 875.0\n",
      "t:1\n"
     ]
    },
    {
     "name": "stderr",
     "output_type": "stream",
     "text": []
    },
    {
     "name": "stdout",
     "output_type": "stream",
     "text": [
      "Step 1: t_curr = 875.0, t_prev = 1000.0\n",
      "t:2\n"
     ]
    },
    {
     "name": "stderr",
     "output_type": "stream",
     "text": [
      "100%|██████████| 2/2 [00:08<00:00,  4.02s/it]\n"
     ]
    },
    {
     "name": "stdout",
     "output_type": "stream",
     "text": [
      "cuda:0\n",
      "cuda:0\n",
      "sigmas: tensor([1.0000, 0.8750, 0.0000])\n",
      "Using inversed latents\n",
      "Step 0: t = 1000.0\n",
      "Step 1: t = 875.0\n"
     ]
    },
    {
     "name": "stderr",
     "output_type": "stream",
     "text": []
    },
    {
     "name": "stdout",
     "output_type": "stream",
     "text": [
      "Step 0: t_curr = 1000.0, t_prev = 875.0\n",
      "t:2\n"
     ]
    },
    {
     "name": "stderr",
     "output_type": "stream",
     "text": []
    },
    {
     "name": "stdout",
     "output_type": "stream",
     "text": [
      "Step 1: t_curr = 875.0, t_prev = 0.0\n",
      "t:1\n"
     ]
    },
    {
     "name": "stderr",
     "output_type": "stream",
     "text": [
      "100%|██████████| 2/2 [00:06<00:00,  3.44s/it]\n",
      "\u001b[32m2025-04-04 17:23:06.016\u001b[0m | \u001b[1mINFO    \u001b[0m | \u001b[36mhyvideo.inference\u001b[0m:\u001b[36mpredict\u001b[0m:\u001b[36m709\u001b[0m - \u001b[1mSuccess, time: 41.33594536781311\u001b[0m\n",
      "huggingface/tokenizers: The current process just got forked, after parallelism has already been used. Disabling parallelism to avoid deadlocks...\n",
      "To disable this warning, you can either:\n",
      "\t- Avoid using `tokenizers` before the fork if possible\n",
      "\t- Explicitly set the environment variable TOKENIZERS_PARALLELISM=(true | false)\n",
      "\u001b[32m2025-04-04 17:23:07.738\u001b[0m | \u001b[1mINFO    \u001b[0m | \u001b[36m__main__\u001b[0m:\u001b[36mprocess_sample\u001b[0m:\u001b[36m157\u001b[0m - \u001b[1m保存编辑视频到: ./results/V2VBench/rf-solver_2order/butterfly/edit_002.mp4\u001b[0m\n",
      "处理数据集批次:  21%|██        | 31/150 [19:29<1:13:25, 37.02s/it]\u001b[32m2025-04-04 17:23:07.763\u001b[0m | \u001b[1mINFO    \u001b[0m | \u001b[36mhyvideo.inference\u001b[0m:\u001b[36mpredict\u001b[0m:\u001b[36m605\u001b[0m - \u001b[1mInput (height, width, video_length) = (512, 512, 25)\u001b[0m\n",
      "\u001b[32m2025-04-04 17:23:07.984\u001b[0m | \u001b[34m\u001b[1mDEBUG   \u001b[0m | \u001b[36mhyvideo.inference\u001b[0m:\u001b[36mpredict\u001b[0m:\u001b[36m665\u001b[0m - \u001b[34m\u001b[1m\n",
      "                        height: 512\n",
      "                         width: 512\n",
      "                  video_length: 25\n",
      "                        prompt: ['a car navigates city streets transitioning from shadow to sunlight amidst white buildings']\n",
      "                    neg_prompt: ['Aerial view, aerial view, overexposed, low quality, deformation, a poor composition, bad hands, bad teeth, bad eyes, bad limbs, distortion']\n",
      "                          seed: 42\n",
      "                   infer_steps: 2\n",
      "         num_videos_per_prompt: 1\n",
      "                guidance_scale: 1.0\n",
      "                      n_tokens: 7168\n",
      "                    flow_shift: 7.0\n",
      "       embedded_guidance_scale: 2.0\u001b[0m\n"
     ]
    },
    {
     "name": "stdout",
     "output_type": "stream",
     "text": [
      "cuda:0\n",
      "cuda:0\n",
      "sigmas_reverse\n",
      "sigmas: tensor([0.0000, 0.8750, 1.0000])\n",
      "Using inversed latents\n",
      "Step 0: t = 0.0\n",
      "Step 1: t = 875.0\n"
     ]
    },
    {
     "name": "stderr",
     "output_type": "stream",
     "text": []
    },
    {
     "name": "stdout",
     "output_type": "stream",
     "text": [
      "Step 0: t_curr = 0.0, t_prev = 875.0\n",
      "t:1\n"
     ]
    },
    {
     "name": "stderr",
     "output_type": "stream",
     "text": []
    },
    {
     "name": "stdout",
     "output_type": "stream",
     "text": [
      "Step 1: t_curr = 875.0, t_prev = 1000.0\n",
      "t:2\n"
     ]
    },
    {
     "name": "stderr",
     "output_type": "stream",
     "text": [
      "100%|██████████| 2/2 [00:09<00:00,  4.87s/it]\n"
     ]
    },
    {
     "name": "stdout",
     "output_type": "stream",
     "text": [
      "cuda:0\n",
      "cuda:0\n",
      "sigmas: tensor([1.0000, 0.8750, 0.0000])\n",
      "Using inversed latents\n",
      "Step 0: t = 1000.0\n",
      "Step 1: t = 875.0\n"
     ]
    },
    {
     "name": "stderr",
     "output_type": "stream",
     "text": []
    },
    {
     "name": "stdout",
     "output_type": "stream",
     "text": [
      "Step 0: t_curr = 1000.0, t_prev = 875.0\n",
      "t:2\n"
     ]
    },
    {
     "name": "stderr",
     "output_type": "stream",
     "text": []
    },
    {
     "name": "stdout",
     "output_type": "stream",
     "text": [
      "Step 1: t_curr = 875.0, t_prev = 0.0\n",
      "t:1\n"
     ]
    },
    {
     "name": "stderr",
     "output_type": "stream",
     "text": [
      "100%|██████████| 2/2 [00:07<00:00,  3.75s/it]\n",
      "\u001b[32m2025-04-04 17:23:58.519\u001b[0m | \u001b[1mINFO    \u001b[0m | \u001b[36mhyvideo.inference\u001b[0m:\u001b[36mpredict\u001b[0m:\u001b[36m709\u001b[0m - \u001b[1mSuccess, time: 50.5333514213562\u001b[0m\n",
      "huggingface/tokenizers: The current process just got forked, after parallelism has already been used. Disabling parallelism to avoid deadlocks...\n",
      "To disable this warning, you can either:\n",
      "\t- Avoid using `tokenizers` before the fork if possible\n",
      "\t- Explicitly set the environment variable TOKENIZERS_PARALLELISM=(true | false)\n",
      "\u001b[32m2025-04-04 17:24:01.046\u001b[0m | \u001b[1mINFO    \u001b[0m | \u001b[36m__main__\u001b[0m:\u001b[36mprocess_sample\u001b[0m:\u001b[36m157\u001b[0m - \u001b[1m保存编辑视频到: ./results/V2VBench/rf-solver_2order/car-shadow/edit_000.mp4\u001b[0m\n",
      "处理数据集批次:  21%|██▏       | 32/150 [20:22<1:21:01, 41.20s/it]\u001b[32m2025-04-04 17:24:01.077\u001b[0m | \u001b[1mINFO    \u001b[0m | \u001b[36mhyvideo.inference\u001b[0m:\u001b[36mpredict\u001b[0m:\u001b[36m605\u001b[0m - \u001b[1mInput (height, width, video_length) = (512, 512, 25)\u001b[0m\n",
      "\u001b[32m2025-04-04 17:24:01.333\u001b[0m | \u001b[34m\u001b[1mDEBUG   \u001b[0m | \u001b[36mhyvideo.inference\u001b[0m:\u001b[36mpredict\u001b[0m:\u001b[36m665\u001b[0m - \u001b[34m\u001b[1m\n",
      "                        height: 512\n",
      "                         width: 512\n",
      "                  video_length: 25\n",
      "                        prompt: ['a car navigates city streets transitioning from shadow to sunlight amidst white buildings']\n",
      "                    neg_prompt: ['Aerial view, aerial view, overexposed, low quality, deformation, a poor composition, bad hands, bad teeth, bad eyes, bad limbs, distortion']\n",
      "                          seed: 42\n",
      "                   infer_steps: 2\n",
      "         num_videos_per_prompt: 1\n",
      "                guidance_scale: 1.0\n",
      "                      n_tokens: 7168\n",
      "                    flow_shift: 7.0\n",
      "       embedded_guidance_scale: 2.0\u001b[0m\n"
     ]
    },
    {
     "name": "stdout",
     "output_type": "stream",
     "text": [
      "cuda:0\n",
      "cuda:0\n",
      "sigmas_reverse\n",
      "sigmas: tensor([0.0000, 0.8750, 1.0000])\n",
      "Using inversed latents\n",
      "Step 0: t = 0.0\n",
      "Step 1: t = 875.0\n"
     ]
    },
    {
     "name": "stderr",
     "output_type": "stream",
     "text": []
    },
    {
     "name": "stdout",
     "output_type": "stream",
     "text": [
      "Step 0: t_curr = 0.0, t_prev = 875.0\n",
      "t:1\n"
     ]
    },
    {
     "name": "stderr",
     "output_type": "stream",
     "text": []
    },
    {
     "name": "stdout",
     "output_type": "stream",
     "text": [
      "Step 1: t_curr = 875.0, t_prev = 1000.0\n",
      "t:2\n"
     ]
    },
    {
     "name": "stderr",
     "output_type": "stream",
     "text": [
      "100%|██████████| 2/2 [00:08<00:00,  4.15s/it]\n"
     ]
    },
    {
     "name": "stdout",
     "output_type": "stream",
     "text": [
      "cuda:0\n",
      "cuda:0\n",
      "sigmas: tensor([1.0000, 0.8750, 0.0000])\n",
      "Using inversed latents\n",
      "Step 0: t = 1000.0\n",
      "Step 1: t = 875.0\n"
     ]
    },
    {
     "name": "stderr",
     "output_type": "stream",
     "text": []
    },
    {
     "name": "stdout",
     "output_type": "stream",
     "text": [
      "Step 0: t_curr = 1000.0, t_prev = 875.0\n",
      "t:2\n"
     ]
    },
    {
     "name": "stderr",
     "output_type": "stream",
     "text": []
    },
    {
     "name": "stdout",
     "output_type": "stream",
     "text": [
      "Step 1: t_curr = 875.0, t_prev = 0.0\n",
      "t:1\n"
     ]
    },
    {
     "name": "stderr",
     "output_type": "stream",
     "text": [
      "100%|██████████| 2/2 [00:07<00:00,  3.86s/it]\n",
      "\u001b[32m2025-04-04 17:24:53.500\u001b[0m | \u001b[1mINFO    \u001b[0m | \u001b[36mhyvideo.inference\u001b[0m:\u001b[36mpredict\u001b[0m:\u001b[36m709\u001b[0m - \u001b[1mSuccess, time: 52.16242027282715\u001b[0m\n",
      "huggingface/tokenizers: The current process just got forked, after parallelism has already been used. Disabling parallelism to avoid deadlocks...\n",
      "To disable this warning, you can either:\n",
      "\t- Avoid using `tokenizers` before the fork if possible\n",
      "\t- Explicitly set the environment variable TOKENIZERS_PARALLELISM=(true | false)\n",
      "\u001b[32m2025-04-04 17:24:55.936\u001b[0m | \u001b[1mINFO    \u001b[0m | \u001b[36m__main__\u001b[0m:\u001b[36mprocess_sample\u001b[0m:\u001b[36m157\u001b[0m - \u001b[1m保存编辑视频到: ./results/V2VBench/rf-solver_2order/car-shadow/edit_001.mp4\u001b[0m\n",
      "处理数据集批次:  22%|██▏       | 33/150 [21:17<1:27:30, 44.88s/it]\u001b[32m2025-04-04 17:24:55.966\u001b[0m | \u001b[1mINFO    \u001b[0m | \u001b[36mhyvideo.inference\u001b[0m:\u001b[36mpredict\u001b[0m:\u001b[36m605\u001b[0m - \u001b[1mInput (height, width, video_length) = (512, 512, 25)\u001b[0m\n",
      "\u001b[32m2025-04-04 17:24:56.238\u001b[0m | \u001b[34m\u001b[1mDEBUG   \u001b[0m | \u001b[36mhyvideo.inference\u001b[0m:\u001b[36mpredict\u001b[0m:\u001b[36m665\u001b[0m - \u001b[34m\u001b[1m\n",
      "                        height: 512\n",
      "                         width: 512\n",
      "                  video_length: 25\n",
      "                        prompt: ['a car navigates city streets transitioning from shadow to sunlight amidst white buildings']\n",
      "                    neg_prompt: ['Aerial view, aerial view, overexposed, low quality, deformation, a poor composition, bad hands, bad teeth, bad eyes, bad limbs, distortion']\n",
      "                          seed: 42\n",
      "                   infer_steps: 2\n",
      "         num_videos_per_prompt: 1\n",
      "                guidance_scale: 1.0\n",
      "                      n_tokens: 7168\n",
      "                    flow_shift: 7.0\n",
      "       embedded_guidance_scale: 2.0\u001b[0m\n"
     ]
    },
    {
     "name": "stdout",
     "output_type": "stream",
     "text": [
      "cuda:0\n",
      "cuda:0\n",
      "sigmas_reverse\n",
      "sigmas: tensor([0.0000, 0.8750, 1.0000])\n",
      "Using inversed latents\n",
      "Step 0: t = 0.0\n",
      "Step 1: t = 875.0\n"
     ]
    },
    {
     "name": "stderr",
     "output_type": "stream",
     "text": []
    },
    {
     "name": "stdout",
     "output_type": "stream",
     "text": [
      "Step 0: t_curr = 0.0, t_prev = 875.0\n",
      "t:1\n"
     ]
    },
    {
     "name": "stderr",
     "output_type": "stream",
     "text": []
    },
    {
     "name": "stdout",
     "output_type": "stream",
     "text": [
      "Step 1: t_curr = 875.0, t_prev = 1000.0\n",
      "t:2\n"
     ]
    },
    {
     "name": "stderr",
     "output_type": "stream",
     "text": [
      "100%|██████████| 2/2 [00:09<00:00,  4.94s/it]\n"
     ]
    },
    {
     "name": "stdout",
     "output_type": "stream",
     "text": [
      "cuda:0\n",
      "cuda:0\n",
      "sigmas: tensor([1.0000, 0.8750, 0.0000])\n",
      "Using inversed latents\n",
      "Step 0: t = 1000.0\n",
      "Step 1: t = 875.0\n"
     ]
    },
    {
     "name": "stderr",
     "output_type": "stream",
     "text": []
    },
    {
     "name": "stdout",
     "output_type": "stream",
     "text": [
      "Step 0: t_curr = 1000.0, t_prev = 875.0\n",
      "t:2\n"
     ]
    },
    {
     "name": "stderr",
     "output_type": "stream",
     "text": []
    },
    {
     "name": "stdout",
     "output_type": "stream",
     "text": [
      "Step 1: t_curr = 875.0, t_prev = 0.0\n",
      "t:1\n"
     ]
    },
    {
     "name": "stderr",
     "output_type": "stream",
     "text": [
      "100%|██████████| 2/2 [00:07<00:00,  3.79s/it]\n",
      "\u001b[32m2025-04-04 17:25:48.879\u001b[0m | \u001b[1mINFO    \u001b[0m | \u001b[36mhyvideo.inference\u001b[0m:\u001b[36mpredict\u001b[0m:\u001b[36m709\u001b[0m - \u001b[1mSuccess, time: 52.63934016227722\u001b[0m\n",
      "huggingface/tokenizers: The current process just got forked, after parallelism has already been used. Disabling parallelism to avoid deadlocks...\n",
      "To disable this warning, you can either:\n",
      "\t- Avoid using `tokenizers` before the fork if possible\n",
      "\t- Explicitly set the environment variable TOKENIZERS_PARALLELISM=(true | false)\n",
      "\u001b[32m2025-04-04 17:25:51.136\u001b[0m | \u001b[1mINFO    \u001b[0m | \u001b[36m__main__\u001b[0m:\u001b[36mprocess_sample\u001b[0m:\u001b[36m157\u001b[0m - \u001b[1m保存编辑视频到: ./results/V2VBench/rf-solver_2order/car-shadow/edit_002.mp4\u001b[0m\n",
      "处理数据集批次:  23%|██▎       | 34/150 [22:13<1:32:17, 47.74s/it]\u001b[32m2025-04-04 17:25:51.242\u001b[0m | \u001b[1mINFO    \u001b[0m | \u001b[36mhyvideo.inference\u001b[0m:\u001b[36mpredict\u001b[0m:\u001b[36m605\u001b[0m - \u001b[1mInput (height, width, video_length) = (512, 512, 25)\u001b[0m\n",
      "\u001b[32m2025-04-04 17:25:51.478\u001b[0m | \u001b[34m\u001b[1mDEBUG   \u001b[0m | \u001b[36mhyvideo.inference\u001b[0m:\u001b[36mpredict\u001b[0m:\u001b[36m665\u001b[0m - \u001b[34m\u001b[1m\n",
      "                        height: 512\n",
      "                         width: 512\n",
      "                  video_length: 25\n",
      "                        prompt: ['a white car drives through a puddle of water in the wild']\n",
      "                    neg_prompt: ['Aerial view, aerial view, overexposed, low quality, deformation, a poor composition, bad hands, bad teeth, bad eyes, bad limbs, distortion']\n",
      "                          seed: 42\n",
      "                   infer_steps: 2\n",
      "         num_videos_per_prompt: 1\n",
      "                guidance_scale: 1.0\n",
      "                      n_tokens: 7168\n",
      "                    flow_shift: 7.0\n",
      "       embedded_guidance_scale: 2.0\u001b[0m\n"
     ]
    },
    {
     "name": "stdout",
     "output_type": "stream",
     "text": [
      "cuda:0\n",
      "cuda:0\n",
      "sigmas_reverse\n",
      "sigmas: tensor([0.0000, 0.8750, 1.0000])\n",
      "Using inversed latents\n",
      "Step 0: t = 0.0\n",
      "Step 1: t = 875.0\n"
     ]
    },
    {
     "name": "stderr",
     "output_type": "stream",
     "text": []
    },
    {
     "name": "stdout",
     "output_type": "stream",
     "text": [
      "Step 0: t_curr = 0.0, t_prev = 875.0\n",
      "t:1\n"
     ]
    },
    {
     "name": "stderr",
     "output_type": "stream",
     "text": []
    },
    {
     "name": "stdout",
     "output_type": "stream",
     "text": [
      "Step 1: t_curr = 875.0, t_prev = 1000.0\n",
      "t:2\n"
     ]
    },
    {
     "name": "stderr",
     "output_type": "stream",
     "text": [
      "100%|██████████| 2/2 [00:08<00:00,  4.05s/it]\n"
     ]
    },
    {
     "name": "stdout",
     "output_type": "stream",
     "text": [
      "cuda:0\n",
      "cuda:0\n",
      "sigmas: tensor([1.0000, 0.8750, 0.0000])\n",
      "Using inversed latents\n",
      "Step 0: t = 1000.0\n",
      "Step 1: t = 875.0\n"
     ]
    },
    {
     "name": "stderr",
     "output_type": "stream",
     "text": []
    },
    {
     "name": "stdout",
     "output_type": "stream",
     "text": [
      "Step 0: t_curr = 1000.0, t_prev = 875.0\n",
      "t:2\n"
     ]
    },
    {
     "name": "stderr",
     "output_type": "stream",
     "text": []
    },
    {
     "name": "stdout",
     "output_type": "stream",
     "text": [
      "Step 1: t_curr = 875.0, t_prev = 0.0\n",
      "t:1\n"
     ]
    },
    {
     "name": "stderr",
     "output_type": "stream",
     "text": [
      "100%|██████████| 2/2 [00:06<00:00,  3.44s/it]\n",
      "\u001b[32m2025-04-04 17:26:34.498\u001b[0m | \u001b[1mINFO    \u001b[0m | \u001b[36mhyvideo.inference\u001b[0m:\u001b[36mpredict\u001b[0m:\u001b[36m709\u001b[0m - \u001b[1mSuccess, time: 43.018829107284546\u001b[0m\n",
      "huggingface/tokenizers: The current process just got forked, after parallelism has already been used. Disabling parallelism to avoid deadlocks...\n",
      "To disable this warning, you can either:\n",
      "\t- Avoid using `tokenizers` before the fork if possible\n",
      "\t- Explicitly set the environment variable TOKENIZERS_PARALLELISM=(true | false)\n",
      "\u001b[32m2025-04-04 17:26:36.610\u001b[0m | \u001b[1mINFO    \u001b[0m | \u001b[36m__main__\u001b[0m:\u001b[36mprocess_sample\u001b[0m:\u001b[36m157\u001b[0m - \u001b[1m保存编辑视频到: ./results/V2VBench/rf-solver_2order/car-swamp/edit_000.mp4\u001b[0m\n",
      "处理数据集批次:  23%|██▎       | 35/150 [22:58<1:30:15, 47.10s/it]\u001b[32m2025-04-04 17:26:36.641\u001b[0m | \u001b[1mINFO    \u001b[0m | \u001b[36mhyvideo.inference\u001b[0m:\u001b[36mpredict\u001b[0m:\u001b[36m605\u001b[0m - \u001b[1mInput (height, width, video_length) = (512, 512, 25)\u001b[0m\n",
      "\u001b[32m2025-04-04 17:26:36.909\u001b[0m | \u001b[34m\u001b[1mDEBUG   \u001b[0m | \u001b[36mhyvideo.inference\u001b[0m:\u001b[36mpredict\u001b[0m:\u001b[36m665\u001b[0m - \u001b[34m\u001b[1m\n",
      "                        height: 512\n",
      "                         width: 512\n",
      "                  video_length: 25\n",
      "                        prompt: ['a white car drives through a puddle of water in the wild']\n",
      "                    neg_prompt: ['Aerial view, aerial view, overexposed, low quality, deformation, a poor composition, bad hands, bad teeth, bad eyes, bad limbs, distortion']\n",
      "                          seed: 42\n",
      "                   infer_steps: 2\n",
      "         num_videos_per_prompt: 1\n",
      "                guidance_scale: 1.0\n",
      "                      n_tokens: 7168\n",
      "                    flow_shift: 7.0\n",
      "       embedded_guidance_scale: 2.0\u001b[0m\n"
     ]
    },
    {
     "name": "stdout",
     "output_type": "stream",
     "text": [
      "cuda:0\n",
      "cuda:0\n",
      "sigmas_reverse\n",
      "sigmas: tensor([0.0000, 0.8750, 1.0000])\n",
      "Using inversed latents\n",
      "Step 0: t = 0.0\n",
      "Step 1: t = 875.0\n"
     ]
    },
    {
     "name": "stderr",
     "output_type": "stream",
     "text": []
    },
    {
     "name": "stdout",
     "output_type": "stream",
     "text": [
      "Step 0: t_curr = 0.0, t_prev = 875.0\n",
      "t:1\n"
     ]
    },
    {
     "name": "stderr",
     "output_type": "stream",
     "text": []
    },
    {
     "name": "stdout",
     "output_type": "stream",
     "text": [
      "Step 1: t_curr = 875.0, t_prev = 1000.0\n",
      "t:2\n"
     ]
    },
    {
     "name": "stderr",
     "output_type": "stream",
     "text": [
      "100%|██████████| 2/2 [00:08<00:00,  4.03s/it]\n"
     ]
    },
    {
     "name": "stdout",
     "output_type": "stream",
     "text": [
      "cuda:0\n",
      "cuda:0\n",
      "sigmas: tensor([1.0000, 0.8750, 0.0000])\n",
      "Using inversed latents\n",
      "Step 0: t = 1000.0\n",
      "Step 1: t = 875.0\n"
     ]
    },
    {
     "name": "stderr",
     "output_type": "stream",
     "text": []
    },
    {
     "name": "stdout",
     "output_type": "stream",
     "text": [
      "Step 0: t_curr = 1000.0, t_prev = 875.0\n",
      "t:2\n"
     ]
    },
    {
     "name": "stderr",
     "output_type": "stream",
     "text": []
    },
    {
     "name": "stdout",
     "output_type": "stream",
     "text": [
      "Step 1: t_curr = 875.0, t_prev = 0.0\n",
      "t:1\n"
     ]
    },
    {
     "name": "stderr",
     "output_type": "stream",
     "text": [
      "100%|██████████| 2/2 [00:07<00:00,  3.53s/it]\n",
      "\u001b[32m2025-04-04 17:27:20.115\u001b[0m | \u001b[1mINFO    \u001b[0m | \u001b[36mhyvideo.inference\u001b[0m:\u001b[36mpredict\u001b[0m:\u001b[36m709\u001b[0m - \u001b[1mSuccess, time: 43.20491552352905\u001b[0m\n",
      "huggingface/tokenizers: The current process just got forked, after parallelism has already been used. Disabling parallelism to avoid deadlocks...\n",
      "To disable this warning, you can either:\n",
      "\t- Avoid using `tokenizers` before the fork if possible\n",
      "\t- Explicitly set the environment variable TOKENIZERS_PARALLELISM=(true | false)\n",
      "\u001b[32m2025-04-04 17:27:21.856\u001b[0m | \u001b[1mINFO    \u001b[0m | \u001b[36m__main__\u001b[0m:\u001b[36mprocess_sample\u001b[0m:\u001b[36m157\u001b[0m - \u001b[1m保存编辑视频到: ./results/V2VBench/rf-solver_2order/car-swamp/edit_001.mp4\u001b[0m\n",
      "处理数据集批次:  24%|██▍       | 36/150 [23:43<1:28:28, 46.56s/it]\u001b[32m2025-04-04 17:27:21.882\u001b[0m | \u001b[1mINFO    \u001b[0m | \u001b[36mhyvideo.inference\u001b[0m:\u001b[36mpredict\u001b[0m:\u001b[36m605\u001b[0m - \u001b[1mInput (height, width, video_length) = (512, 512, 25)\u001b[0m\n",
      "\u001b[32m2025-04-04 17:27:22.081\u001b[0m | \u001b[34m\u001b[1mDEBUG   \u001b[0m | \u001b[36mhyvideo.inference\u001b[0m:\u001b[36mpredict\u001b[0m:\u001b[36m665\u001b[0m - \u001b[34m\u001b[1m\n",
      "                        height: 512\n",
      "                         width: 512\n",
      "                  video_length: 25\n",
      "                        prompt: ['a white car drives through a puddle of water in the wild']\n",
      "                    neg_prompt: ['Aerial view, aerial view, overexposed, low quality, deformation, a poor composition, bad hands, bad teeth, bad eyes, bad limbs, distortion']\n",
      "                          seed: 42\n",
      "                   infer_steps: 2\n",
      "         num_videos_per_prompt: 1\n",
      "                guidance_scale: 1.0\n",
      "                      n_tokens: 7168\n",
      "                    flow_shift: 7.0\n",
      "       embedded_guidance_scale: 2.0\u001b[0m\n"
     ]
    },
    {
     "name": "stdout",
     "output_type": "stream",
     "text": [
      "cuda:0\n",
      "cuda:0\n",
      "sigmas_reverse\n",
      "sigmas: tensor([0.0000, 0.8750, 1.0000])\n",
      "Using inversed latents\n",
      "Step 0: t = 0.0\n",
      "Step 1: t = 875.0\n"
     ]
    },
    {
     "name": "stderr",
     "output_type": "stream",
     "text": []
    },
    {
     "name": "stdout",
     "output_type": "stream",
     "text": [
      "Step 0: t_curr = 0.0, t_prev = 875.0\n",
      "t:1\n"
     ]
    },
    {
     "name": "stderr",
     "output_type": "stream",
     "text": []
    },
    {
     "name": "stdout",
     "output_type": "stream",
     "text": [
      "Step 1: t_curr = 875.0, t_prev = 1000.0\n",
      "t:2\n"
     ]
    },
    {
     "name": "stderr",
     "output_type": "stream",
     "text": [
      "100%|██████████| 2/2 [00:08<00:00,  4.06s/it]\n"
     ]
    },
    {
     "name": "stdout",
     "output_type": "stream",
     "text": [
      "cuda:0\n",
      "cuda:0\n",
      "sigmas: tensor([1.0000, 0.8750, 0.0000])\n",
      "Using inversed latents\n",
      "Step 0: t = 1000.0\n",
      "Step 1: t = 875.0\n"
     ]
    },
    {
     "name": "stderr",
     "output_type": "stream",
     "text": []
    },
    {
     "name": "stdout",
     "output_type": "stream",
     "text": [
      "Step 0: t_curr = 1000.0, t_prev = 875.0\n",
      "t:2\n"
     ]
    },
    {
     "name": "stderr",
     "output_type": "stream",
     "text": []
    },
    {
     "name": "stdout",
     "output_type": "stream",
     "text": [
      "Step 1: t_curr = 875.0, t_prev = 0.0\n",
      "t:1\n"
     ]
    },
    {
     "name": "stderr",
     "output_type": "stream",
     "text": [
      "100%|██████████| 2/2 [00:06<00:00,  3.44s/it]\n",
      "\u001b[32m2025-04-04 17:28:03.515\u001b[0m | \u001b[1mINFO    \u001b[0m | \u001b[36mhyvideo.inference\u001b[0m:\u001b[36mpredict\u001b[0m:\u001b[36m709\u001b[0m - \u001b[1mSuccess, time: 41.43206071853638\u001b[0m\n",
      "huggingface/tokenizers: The current process just got forked, after parallelism has already been used. Disabling parallelism to avoid deadlocks...\n",
      "To disable this warning, you can either:\n",
      "\t- Avoid using `tokenizers` before the fork if possible\n",
      "\t- Explicitly set the environment variable TOKENIZERS_PARALLELISM=(true | false)\n",
      "\u001b[32m2025-04-04 17:28:05.432\u001b[0m | \u001b[1mINFO    \u001b[0m | \u001b[36m__main__\u001b[0m:\u001b[36mprocess_sample\u001b[0m:\u001b[36m157\u001b[0m - \u001b[1m保存编辑视频到: ./results/V2VBench/rf-solver_2order/car-swamp/edit_002.mp4\u001b[0m\n",
      "处理数据集批次:  25%|██▌       | 38/150 [24:27<1:06:01, 35.37s/it]\u001b[32m2025-04-04 17:28:05.456\u001b[0m | \u001b[1mINFO    \u001b[0m | \u001b[36mhyvideo.inference\u001b[0m:\u001b[36mpredict\u001b[0m:\u001b[36m605\u001b[0m - \u001b[1mInput (height, width, video_length) = (512, 512, 25)\u001b[0m\n",
      "\u001b[32m2025-04-04 17:28:05.718\u001b[0m | \u001b[34m\u001b[1mDEBUG   \u001b[0m | \u001b[36mhyvideo.inference\u001b[0m:\u001b[36mpredict\u001b[0m:\u001b[36m665\u001b[0m - \u001b[34m\u001b[1m\n",
      "                        height: 512\n",
      "                         width: 512\n",
      "                  video_length: 25\n",
      "                        prompt: ['a grey car navigates a curvy road surrounded by green grass trees and mountains during the day']\n",
      "                    neg_prompt: ['Aerial view, aerial view, overexposed, low quality, deformation, a poor composition, bad hands, bad teeth, bad eyes, bad limbs, distortion']\n",
      "                          seed: 42\n",
      "                   infer_steps: 2\n",
      "         num_videos_per_prompt: 1\n",
      "                guidance_scale: 1.0\n",
      "                      n_tokens: 7168\n",
      "                    flow_shift: 7.0\n",
      "       embedded_guidance_scale: 2.0\u001b[0m\n"
     ]
    },
    {
     "name": "stdout",
     "output_type": "stream",
     "text": [
      "cuda:0\n",
      "cuda:0\n",
      "sigmas_reverse\n",
      "sigmas: tensor([0.0000, 0.8750, 1.0000])\n",
      "Using inversed latents\n",
      "Step 0: t = 0.0\n",
      "Step 1: t = 875.0\n"
     ]
    },
    {
     "name": "stderr",
     "output_type": "stream",
     "text": []
    },
    {
     "name": "stdout",
     "output_type": "stream",
     "text": [
      "Step 0: t_curr = 0.0, t_prev = 875.0\n",
      "t:1\n"
     ]
    },
    {
     "name": "stderr",
     "output_type": "stream",
     "text": []
    },
    {
     "name": "stdout",
     "output_type": "stream",
     "text": [
      "Step 1: t_curr = 875.0, t_prev = 1000.0\n",
      "t:2\n"
     ]
    },
    {
     "name": "stderr",
     "output_type": "stream",
     "text": [
      "100%|██████████| 2/2 [00:08<00:00,  4.05s/it]\n"
     ]
    },
    {
     "name": "stdout",
     "output_type": "stream",
     "text": [
      "cuda:0\n",
      "cuda:0\n",
      "sigmas: tensor([1.0000, 0.8750, 0.0000])\n",
      "Using inversed latents\n",
      "Step 0: t = 1000.0\n",
      "Step 1: t = 875.0\n"
     ]
    },
    {
     "name": "stderr",
     "output_type": "stream",
     "text": []
    },
    {
     "name": "stdout",
     "output_type": "stream",
     "text": [
      "Step 0: t_curr = 1000.0, t_prev = 875.0\n",
      "t:2\n"
     ]
    },
    {
     "name": "stderr",
     "output_type": "stream",
     "text": []
    },
    {
     "name": "stdout",
     "output_type": "stream",
     "text": [
      "Step 1: t_curr = 875.0, t_prev = 0.0\n",
      "t:1\n"
     ]
    },
    {
     "name": "stderr",
     "output_type": "stream",
     "text": [
      "100%|██████████| 2/2 [00:06<00:00,  3.44s/it]\n",
      "\u001b[32m2025-04-04 17:28:48.818\u001b[0m | \u001b[1mINFO    \u001b[0m | \u001b[36mhyvideo.inference\u001b[0m:\u001b[36mpredict\u001b[0m:\u001b[36m709\u001b[0m - \u001b[1mSuccess, time: 43.09915065765381\u001b[0m\n",
      "huggingface/tokenizers: The current process just got forked, after parallelism has already been used. Disabling parallelism to avoid deadlocks...\n",
      "To disable this warning, you can either:\n",
      "\t- Avoid using `tokenizers` before the fork if possible\n",
      "\t- Explicitly set the environment variable TOKENIZERS_PARALLELISM=(true | false)\n",
      "\u001b[32m2025-04-04 17:28:50.707\u001b[0m | \u001b[1mINFO    \u001b[0m | \u001b[36m__main__\u001b[0m:\u001b[36mprocess_sample\u001b[0m:\u001b[36m157\u001b[0m - \u001b[1m保存编辑视频到: ./results/V2VBench/rf-solver_2order/car-turn/edit_000.mp4\u001b[0m\n",
      "处理数据集批次:  26%|██▌       | 39/150 [25:12<1:09:54, 37.79s/it]\u001b[32m2025-04-04 17:28:50.731\u001b[0m | \u001b[1mINFO    \u001b[0m | \u001b[36mhyvideo.inference\u001b[0m:\u001b[36mpredict\u001b[0m:\u001b[36m605\u001b[0m - \u001b[1mInput (height, width, video_length) = (512, 512, 25)\u001b[0m\n",
      "\u001b[32m2025-04-04 17:28:50.991\u001b[0m | \u001b[34m\u001b[1mDEBUG   \u001b[0m | \u001b[36mhyvideo.inference\u001b[0m:\u001b[36mpredict\u001b[0m:\u001b[36m665\u001b[0m - \u001b[34m\u001b[1m\n",
      "                        height: 512\n",
      "                         width: 512\n",
      "                  video_length: 25\n",
      "                        prompt: ['a grey car navigates a curvy road surrounded by green grass trees and mountains during the day']\n",
      "                    neg_prompt: ['Aerial view, aerial view, overexposed, low quality, deformation, a poor composition, bad hands, bad teeth, bad eyes, bad limbs, distortion']\n",
      "                          seed: 42\n",
      "                   infer_steps: 2\n",
      "         num_videos_per_prompt: 1\n",
      "                guidance_scale: 1.0\n",
      "                      n_tokens: 7168\n",
      "                    flow_shift: 7.0\n",
      "       embedded_guidance_scale: 2.0\u001b[0m\n"
     ]
    },
    {
     "name": "stdout",
     "output_type": "stream",
     "text": [
      "cuda:0\n",
      "cuda:0\n",
      "sigmas_reverse\n",
      "sigmas: tensor([0.0000, 0.8750, 1.0000])\n",
      "Using inversed latents\n",
      "Step 0: t = 0.0\n",
      "Step 1: t = 875.0\n"
     ]
    },
    {
     "name": "stderr",
     "output_type": "stream",
     "text": []
    },
    {
     "name": "stdout",
     "output_type": "stream",
     "text": [
      "Step 0: t_curr = 0.0, t_prev = 875.0\n",
      "t:1\n"
     ]
    },
    {
     "name": "stderr",
     "output_type": "stream",
     "text": []
    },
    {
     "name": "stdout",
     "output_type": "stream",
     "text": [
      "Step 1: t_curr = 875.0, t_prev = 1000.0\n",
      "t:2\n"
     ]
    },
    {
     "name": "stderr",
     "output_type": "stream",
     "text": [
      "100%|██████████| 2/2 [00:09<00:00,  4.90s/it]\n"
     ]
    },
    {
     "name": "stdout",
     "output_type": "stream",
     "text": [
      "cuda:0\n",
      "cuda:0\n",
      "sigmas: tensor([1.0000, 0.8750, 0.0000])\n",
      "Using inversed latents\n",
      "Step 0: t = 1000.0\n",
      "Step 1: t = 875.0\n"
     ]
    },
    {
     "name": "stderr",
     "output_type": "stream",
     "text": []
    },
    {
     "name": "stdout",
     "output_type": "stream",
     "text": [
      "Step 0: t_curr = 1000.0, t_prev = 875.0\n",
      "t:2\n"
     ]
    },
    {
     "name": "stderr",
     "output_type": "stream",
     "text": []
    },
    {
     "name": "stdout",
     "output_type": "stream",
     "text": [
      "Step 1: t_curr = 875.0, t_prev = 0.0\n",
      "t:1\n"
     ]
    },
    {
     "name": "stderr",
     "output_type": "stream",
     "text": [
      "100%|██████████| 2/2 [00:07<00:00,  3.51s/it]\n",
      "\u001b[32m2025-04-04 17:29:38.173\u001b[0m | \u001b[1mINFO    \u001b[0m | \u001b[36mhyvideo.inference\u001b[0m:\u001b[36mpredict\u001b[0m:\u001b[36m709\u001b[0m - \u001b[1mSuccess, time: 47.18015480041504\u001b[0m\n",
      "huggingface/tokenizers: The current process just got forked, after parallelism has already been used. Disabling parallelism to avoid deadlocks...\n",
      "To disable this warning, you can either:\n",
      "\t- Avoid using `tokenizers` before the fork if possible\n",
      "\t- Explicitly set the environment variable TOKENIZERS_PARALLELISM=(true | false)\n",
      "\u001b[32m2025-04-04 17:29:39.965\u001b[0m | \u001b[1mINFO    \u001b[0m | \u001b[36m__main__\u001b[0m:\u001b[36mprocess_sample\u001b[0m:\u001b[36m157\u001b[0m - \u001b[1m保存编辑视频到: ./results/V2VBench/rf-solver_2order/car-turn/edit_001.mp4\u001b[0m\n",
      "处理数据集批次:  27%|██▋       | 40/150 [26:01<1:14:42, 40.75s/it]\u001b[32m2025-04-04 17:29:39.995\u001b[0m | \u001b[1mINFO    \u001b[0m | \u001b[36mhyvideo.inference\u001b[0m:\u001b[36mpredict\u001b[0m:\u001b[36m605\u001b[0m - \u001b[1mInput (height, width, video_length) = (512, 512, 25)\u001b[0m\n",
      "\u001b[32m2025-04-04 17:29:40.237\u001b[0m | \u001b[34m\u001b[1mDEBUG   \u001b[0m | \u001b[36mhyvideo.inference\u001b[0m:\u001b[36mpredict\u001b[0m:\u001b[36m665\u001b[0m - \u001b[34m\u001b[1m\n",
      "                        height: 512\n",
      "                         width: 512\n",
      "                  video_length: 25\n",
      "                        prompt: ['a grey car navigates a curvy road surrounded by green grass trees and mountains during the day']\n",
      "                    neg_prompt: ['Aerial view, aerial view, overexposed, low quality, deformation, a poor composition, bad hands, bad teeth, bad eyes, bad limbs, distortion']\n",
      "                          seed: 42\n",
      "                   infer_steps: 2\n",
      "         num_videos_per_prompt: 1\n",
      "                guidance_scale: 1.0\n",
      "                      n_tokens: 7168\n",
      "                    flow_shift: 7.0\n",
      "       embedded_guidance_scale: 2.0\u001b[0m\n"
     ]
    },
    {
     "name": "stdout",
     "output_type": "stream",
     "text": [
      "cuda:0\n",
      "cuda:0\n",
      "sigmas_reverse\n",
      "sigmas: tensor([0.0000, 0.8750, 1.0000])\n",
      "Using inversed latents\n",
      "Step 0: t = 0.0\n",
      "Step 1: t = 875.0\n"
     ]
    },
    {
     "name": "stderr",
     "output_type": "stream",
     "text": []
    },
    {
     "name": "stdout",
     "output_type": "stream",
     "text": [
      "Step 0: t_curr = 0.0, t_prev = 875.0\n",
      "t:1\n"
     ]
    },
    {
     "name": "stderr",
     "output_type": "stream",
     "text": []
    },
    {
     "name": "stdout",
     "output_type": "stream",
     "text": [
      "Step 1: t_curr = 875.0, t_prev = 1000.0\n",
      "t:2\n"
     ]
    },
    {
     "name": "stderr",
     "output_type": "stream",
     "text": [
      "100%|██████████| 2/2 [00:08<00:00,  4.17s/it]\n"
     ]
    },
    {
     "name": "stdout",
     "output_type": "stream",
     "text": [
      "cuda:0\n",
      "cuda:0\n",
      "sigmas: tensor([1.0000, 0.8750, 0.0000])\n",
      "Using inversed latents\n",
      "Step 0: t = 1000.0\n",
      "Step 1: t = 875.0\n"
     ]
    },
    {
     "name": "stderr",
     "output_type": "stream",
     "text": []
    },
    {
     "name": "stdout",
     "output_type": "stream",
     "text": [
      "Step 0: t_curr = 1000.0, t_prev = 875.0\n",
      "t:2\n"
     ]
    },
    {
     "name": "stderr",
     "output_type": "stream",
     "text": []
    },
    {
     "name": "stdout",
     "output_type": "stream",
     "text": [
      "Step 1: t_curr = 875.0, t_prev = 0.0\n",
      "t:1\n"
     ]
    },
    {
     "name": "stderr",
     "output_type": "stream",
     "text": [
      "100%|██████████| 2/2 [00:07<00:00,  3.54s/it]\n",
      "\u001b[32m2025-04-04 17:30:24.108\u001b[0m | \u001b[1mINFO    \u001b[0m | \u001b[36mhyvideo.inference\u001b[0m:\u001b[36mpredict\u001b[0m:\u001b[36m709\u001b[0m - \u001b[1mSuccess, time: 43.86951661109924\u001b[0m\n",
      "huggingface/tokenizers: The current process just got forked, after parallelism has already been used. Disabling parallelism to avoid deadlocks...\n",
      "To disable this warning, you can either:\n",
      "\t- Avoid using `tokenizers` before the fork if possible\n",
      "\t- Explicitly set the environment variable TOKENIZERS_PARALLELISM=(true | false)\n",
      "\u001b[32m2025-04-04 17:30:26.519\u001b[0m | \u001b[1mINFO    \u001b[0m | \u001b[36m__main__\u001b[0m:\u001b[36mprocess_sample\u001b[0m:\u001b[36m157\u001b[0m - \u001b[1m保存编辑视频到: ./results/V2VBench/rf-solver_2order/car-turn/edit_002.mp4\u001b[0m\n",
      "处理数据集批次:  27%|██▋       | 41/150 [26:48<1:16:52, 42.32s/it]\u001b[32m2025-04-04 17:30:26.551\u001b[0m | \u001b[1mINFO    \u001b[0m | \u001b[36mhyvideo.inference\u001b[0m:\u001b[36mpredict\u001b[0m:\u001b[36m605\u001b[0m - \u001b[1mInput (height, width, video_length) = (512, 512, 25)\u001b[0m\n",
      "\u001b[32m2025-04-04 17:30:26.806\u001b[0m | \u001b[34m\u001b[1mDEBUG   \u001b[0m | \u001b[36mhyvideo.inference\u001b[0m:\u001b[36mpredict\u001b[0m:\u001b[36m665\u001b[0m - \u001b[34m\u001b[1m\n",
      "                        height: 512\n",
      "                         width: 512\n",
      "                  video_length: 25\n",
      "                        prompt: ['a cat perches atop a wooden fence against blue sky']\n",
      "                    neg_prompt: ['Aerial view, aerial view, overexposed, low quality, deformation, a poor composition, bad hands, bad teeth, bad eyes, bad limbs, distortion']\n",
      "                          seed: 42\n",
      "                   infer_steps: 2\n",
      "         num_videos_per_prompt: 1\n",
      "                guidance_scale: 1.0\n",
      "                      n_tokens: 7168\n",
      "                    flow_shift: 7.0\n",
      "       embedded_guidance_scale: 2.0\u001b[0m\n"
     ]
    },
    {
     "name": "stdout",
     "output_type": "stream",
     "text": [
      "cuda:0\n",
      "cuda:0\n",
      "sigmas_reverse\n",
      "sigmas: tensor([0.0000, 0.8750, 1.0000])\n",
      "Using inversed latents\n",
      "Step 0: t = 0.0\n",
      "Step 1: t = 875.0\n"
     ]
    },
    {
     "name": "stderr",
     "output_type": "stream",
     "text": []
    },
    {
     "name": "stdout",
     "output_type": "stream",
     "text": [
      "Step 0: t_curr = 0.0, t_prev = 875.0\n",
      "t:1\n"
     ]
    },
    {
     "name": "stderr",
     "output_type": "stream",
     "text": []
    },
    {
     "name": "stdout",
     "output_type": "stream",
     "text": [
      "Step 1: t_curr = 875.0, t_prev = 1000.0\n",
      "t:2\n"
     ]
    },
    {
     "name": "stderr",
     "output_type": "stream",
     "text": [
      "100%|██████████| 2/2 [00:07<00:00,  4.00s/it]\n"
     ]
    },
    {
     "name": "stdout",
     "output_type": "stream",
     "text": [
      "cuda:0\n",
      "cuda:0\n",
      "sigmas: tensor([1.0000, 0.8750, 0.0000])\n",
      "Using inversed latents\n",
      "Step 0: t = 1000.0\n",
      "Step 1: t = 875.0\n"
     ]
    },
    {
     "name": "stderr",
     "output_type": "stream",
     "text": []
    },
    {
     "name": "stdout",
     "output_type": "stream",
     "text": [
      "Step 0: t_curr = 1000.0, t_prev = 875.0\n",
      "t:2\n"
     ]
    },
    {
     "name": "stderr",
     "output_type": "stream",
     "text": []
    },
    {
     "name": "stdout",
     "output_type": "stream",
     "text": [
      "Step 1: t_curr = 875.0, t_prev = 0.0\n",
      "t:1\n"
     ]
    },
    {
     "name": "stderr",
     "output_type": "stream",
     "text": [
      "100%|██████████| 2/2 [00:07<00:00,  3.52s/it]\n",
      "\u001b[32m2025-04-04 17:31:12.526\u001b[0m | \u001b[1mINFO    \u001b[0m | \u001b[36mhyvideo.inference\u001b[0m:\u001b[36mpredict\u001b[0m:\u001b[36m709\u001b[0m - \u001b[1mSuccess, time: 45.71849513053894\u001b[0m\n",
      "huggingface/tokenizers: The current process just got forked, after parallelism has already been used. Disabling parallelism to avoid deadlocks...\n",
      "To disable this warning, you can either:\n",
      "\t- Avoid using `tokenizers` before the fork if possible\n",
      "\t- Explicitly set the environment variable TOKENIZERS_PARALLELISM=(true | false)\n",
      "\u001b[32m2025-04-04 17:31:14.731\u001b[0m | \u001b[1mINFO    \u001b[0m | \u001b[36m__main__\u001b[0m:\u001b[36mprocess_sample\u001b[0m:\u001b[36m157\u001b[0m - \u001b[1m保存编辑视频到: ./results/V2VBench/rf-solver_2order/cat/edit_000.mp4\u001b[0m\n",
      "处理数据集批次:  28%|██▊       | 42/150 [27:36<1:19:07, 43.96s/it]\u001b[32m2025-04-04 17:31:14.763\u001b[0m | \u001b[1mINFO    \u001b[0m | \u001b[36mhyvideo.inference\u001b[0m:\u001b[36mpredict\u001b[0m:\u001b[36m605\u001b[0m - \u001b[1mInput (height, width, video_length) = (512, 512, 25)\u001b[0m\n",
      "\u001b[32m2025-04-04 17:31:15.025\u001b[0m | \u001b[34m\u001b[1mDEBUG   \u001b[0m | \u001b[36mhyvideo.inference\u001b[0m:\u001b[36mpredict\u001b[0m:\u001b[36m665\u001b[0m - \u001b[34m\u001b[1m\n",
      "                        height: 512\n",
      "                         width: 512\n",
      "                  video_length: 25\n",
      "                        prompt: ['a cat perches atop a wooden fence against blue sky']\n",
      "                    neg_prompt: ['Aerial view, aerial view, overexposed, low quality, deformation, a poor composition, bad hands, bad teeth, bad eyes, bad limbs, distortion']\n",
      "                          seed: 42\n",
      "                   infer_steps: 2\n",
      "         num_videos_per_prompt: 1\n",
      "                guidance_scale: 1.0\n",
      "                      n_tokens: 7168\n",
      "                    flow_shift: 7.0\n",
      "       embedded_guidance_scale: 2.0\u001b[0m\n"
     ]
    },
    {
     "name": "stdout",
     "output_type": "stream",
     "text": [
      "cuda:0\n",
      "cuda:0\n",
      "sigmas_reverse\n",
      "sigmas: tensor([0.0000, 0.8750, 1.0000])\n",
      "Using inversed latents\n",
      "Step 0: t = 0.0\n",
      "Step 1: t = 875.0\n"
     ]
    },
    {
     "name": "stderr",
     "output_type": "stream",
     "text": []
    },
    {
     "name": "stdout",
     "output_type": "stream",
     "text": [
      "Step 0: t_curr = 0.0, t_prev = 875.0\n",
      "t:1\n"
     ]
    },
    {
     "name": "stderr",
     "output_type": "stream",
     "text": []
    },
    {
     "name": "stdout",
     "output_type": "stream",
     "text": [
      "Step 1: t_curr = 875.0, t_prev = 1000.0\n",
      "t:2\n"
     ]
    },
    {
     "name": "stderr",
     "output_type": "stream",
     "text": [
      "100%|██████████| 2/2 [00:08<00:00,  4.33s/it]\n"
     ]
    },
    {
     "name": "stdout",
     "output_type": "stream",
     "text": [
      "cuda:0\n",
      "cuda:0\n",
      "sigmas: tensor([1.0000, 0.8750, 0.0000])\n",
      "Using inversed latents\n",
      "Step 0: t = 1000.0\n",
      "Step 1: t = 875.0\n"
     ]
    },
    {
     "name": "stderr",
     "output_type": "stream",
     "text": []
    },
    {
     "name": "stdout",
     "output_type": "stream",
     "text": [
      "Step 0: t_curr = 1000.0, t_prev = 875.0\n",
      "t:2\n"
     ]
    },
    {
     "name": "stderr",
     "output_type": "stream",
     "text": []
    },
    {
     "name": "stdout",
     "output_type": "stream",
     "text": [
      "Step 1: t_curr = 875.0, t_prev = 0.0\n",
      "t:1\n"
     ]
    },
    {
     "name": "stderr",
     "output_type": "stream",
     "text": [
      "100%|██████████| 2/2 [00:07<00:00,  3.76s/it]\n",
      "\u001b[32m2025-04-04 17:32:02.493\u001b[0m | \u001b[1mINFO    \u001b[0m | \u001b[36mhyvideo.inference\u001b[0m:\u001b[36mpredict\u001b[0m:\u001b[36m709\u001b[0m - \u001b[1mSuccess, time: 47.46690487861633\u001b[0m\n",
      "huggingface/tokenizers: The current process just got forked, after parallelism has already been used. Disabling parallelism to avoid deadlocks...\n",
      "To disable this warning, you can either:\n",
      "\t- Avoid using `tokenizers` before the fork if possible\n",
      "\t- Explicitly set the environment variable TOKENIZERS_PARALLELISM=(true | false)\n",
      "\u001b[32m2025-04-04 17:32:05.303\u001b[0m | \u001b[1mINFO    \u001b[0m | \u001b[36m__main__\u001b[0m:\u001b[36mprocess_sample\u001b[0m:\u001b[36m157\u001b[0m - \u001b[1m保存编辑视频到: ./results/V2VBench/rf-solver_2order/cat/edit_001.mp4\u001b[0m\n",
      "处理数据集批次:  29%|██▊       | 43/150 [28:27<1:21:44, 45.84s/it]\u001b[32m2025-04-04 17:32:05.332\u001b[0m | \u001b[1mINFO    \u001b[0m | \u001b[36mhyvideo.inference\u001b[0m:\u001b[36mpredict\u001b[0m:\u001b[36m605\u001b[0m - \u001b[1mInput (height, width, video_length) = (512, 512, 25)\u001b[0m\n",
      "\u001b[32m2025-04-04 17:32:05.589\u001b[0m | \u001b[34m\u001b[1mDEBUG   \u001b[0m | \u001b[36mhyvideo.inference\u001b[0m:\u001b[36mpredict\u001b[0m:\u001b[36m665\u001b[0m - \u001b[34m\u001b[1m\n",
      "                        height: 512\n",
      "                         width: 512\n",
      "                  video_length: 25\n",
      "                        prompt: ['a cat perches atop a wooden fence against blue sky']\n",
      "                    neg_prompt: ['Aerial view, aerial view, overexposed, low quality, deformation, a poor composition, bad hands, bad teeth, bad eyes, bad limbs, distortion']\n",
      "                          seed: 42\n",
      "                   infer_steps: 2\n",
      "         num_videos_per_prompt: 1\n",
      "                guidance_scale: 1.0\n",
      "                      n_tokens: 7168\n",
      "                    flow_shift: 7.0\n",
      "       embedded_guidance_scale: 2.0\u001b[0m\n"
     ]
    },
    {
     "name": "stdout",
     "output_type": "stream",
     "text": [
      "cuda:0\n",
      "cuda:0\n",
      "sigmas_reverse\n",
      "sigmas: tensor([0.0000, 0.8750, 1.0000])\n",
      "Using inversed latents\n",
      "Step 0: t = 0.0\n",
      "Step 1: t = 875.0\n"
     ]
    },
    {
     "name": "stderr",
     "output_type": "stream",
     "text": []
    },
    {
     "name": "stdout",
     "output_type": "stream",
     "text": [
      "Step 0: t_curr = 0.0, t_prev = 875.0\n",
      "t:1\n"
     ]
    },
    {
     "name": "stderr",
     "output_type": "stream",
     "text": []
    },
    {
     "name": "stdout",
     "output_type": "stream",
     "text": [
      "Step 1: t_curr = 875.0, t_prev = 1000.0\n",
      "t:2\n"
     ]
    },
    {
     "name": "stderr",
     "output_type": "stream",
     "text": [
      "100%|██████████| 2/2 [00:09<00:00,  4.55s/it]\n"
     ]
    },
    {
     "name": "stdout",
     "output_type": "stream",
     "text": [
      "cuda:0\n",
      "cuda:0\n",
      "sigmas: tensor([1.0000, 0.8750, 0.0000])\n",
      "Using inversed latents\n",
      "Step 0: t = 1000.0\n",
      "Step 1: t = 875.0\n"
     ]
    },
    {
     "name": "stderr",
     "output_type": "stream",
     "text": []
    },
    {
     "name": "stdout",
     "output_type": "stream",
     "text": [
      "Step 0: t_curr = 1000.0, t_prev = 875.0\n",
      "t:2\n"
     ]
    },
    {
     "name": "stderr",
     "output_type": "stream",
     "text": []
    },
    {
     "name": "stdout",
     "output_type": "stream",
     "text": [
      "Step 1: t_curr = 875.0, t_prev = 0.0\n",
      "t:1\n"
     ]
    },
    {
     "name": "stderr",
     "output_type": "stream",
     "text": [
      "100%|██████████| 2/2 [00:06<00:00,  3.45s/it]\n",
      "\u001b[32m2025-04-04 17:32:52.299\u001b[0m | \u001b[1mINFO    \u001b[0m | \u001b[36mhyvideo.inference\u001b[0m:\u001b[36mpredict\u001b[0m:\u001b[36m709\u001b[0m - \u001b[1mSuccess, time: 46.70758557319641\u001b[0m\n",
      "huggingface/tokenizers: The current process just got forked, after parallelism has already been used. Disabling parallelism to avoid deadlocks...\n",
      "To disable this warning, you can either:\n",
      "\t- Avoid using `tokenizers` before the fork if possible\n",
      "\t- Explicitly set the environment variable TOKENIZERS_PARALLELISM=(true | false)\n",
      "\u001b[32m2025-04-04 17:32:54.140\u001b[0m | \u001b[1mINFO    \u001b[0m | \u001b[36m__main__\u001b[0m:\u001b[36mprocess_sample\u001b[0m:\u001b[36m157\u001b[0m - \u001b[1m保存编辑视频到: ./results/V2VBench/rf-solver_2order/cat/edit_002.mp4\u001b[0m\n",
      "处理数据集批次:  29%|██▉       | 44/150 [29:16<1:22:30, 46.70s/it]\u001b[32m2025-04-04 17:32:54.171\u001b[0m | \u001b[1mINFO    \u001b[0m | \u001b[36mhyvideo.inference\u001b[0m:\u001b[36mpredict\u001b[0m:\u001b[36m605\u001b[0m - \u001b[1mInput (height, width, video_length) = (512, 512, 25)\u001b[0m\n",
      "\u001b[32m2025-04-04 17:32:54.416\u001b[0m | \u001b[34m\u001b[1mDEBUG   \u001b[0m | \u001b[36mhyvideo.inference\u001b[0m:\u001b[36mpredict\u001b[0m:\u001b[36m665\u001b[0m - \u001b[34m\u001b[1m\n",
      "                        height: 512\n",
      "                         width: 512\n",
      "                  video_length: 25\n",
      "                        prompt: ['a large white cloud hovers over a hill']\n",
      "                    neg_prompt: ['Aerial view, aerial view, overexposed, low quality, deformation, a poor composition, bad hands, bad teeth, bad eyes, bad limbs, distortion']\n",
      "                          seed: 42\n",
      "                   infer_steps: 2\n",
      "         num_videos_per_prompt: 1\n",
      "                guidance_scale: 1.0\n",
      "                      n_tokens: 7168\n",
      "                    flow_shift: 7.0\n",
      "       embedded_guidance_scale: 2.0\u001b[0m\n"
     ]
    },
    {
     "name": "stdout",
     "output_type": "stream",
     "text": [
      "cuda:0\n",
      "cuda:0\n",
      "sigmas_reverse\n",
      "sigmas: tensor([0.0000, 0.8750, 1.0000])\n",
      "Using inversed latents\n",
      "Step 0: t = 0.0\n",
      "Step 1: t = 875.0\n"
     ]
    },
    {
     "name": "stderr",
     "output_type": "stream",
     "text": []
    },
    {
     "name": "stdout",
     "output_type": "stream",
     "text": [
      "Step 0: t_curr = 0.0, t_prev = 875.0\n",
      "t:1\n"
     ]
    },
    {
     "name": "stderr",
     "output_type": "stream",
     "text": []
    },
    {
     "name": "stdout",
     "output_type": "stream",
     "text": [
      "Step 1: t_curr = 875.0, t_prev = 1000.0\n",
      "t:2\n"
     ]
    },
    {
     "name": "stderr",
     "output_type": "stream",
     "text": [
      "100%|██████████| 2/2 [00:08<00:00,  4.02s/it]\n"
     ]
    },
    {
     "name": "stdout",
     "output_type": "stream",
     "text": [
      "cuda:0\n",
      "cuda:0\n",
      "sigmas: tensor([1.0000, 0.8750, 0.0000])\n",
      "Using inversed latents\n",
      "Step 0: t = 1000.0\n",
      "Step 1: t = 875.0\n"
     ]
    },
    {
     "name": "stderr",
     "output_type": "stream",
     "text": []
    },
    {
     "name": "stdout",
     "output_type": "stream",
     "text": [
      "Step 0: t_curr = 1000.0, t_prev = 875.0\n",
      "t:2\n"
     ]
    },
    {
     "name": "stderr",
     "output_type": "stream",
     "text": []
    },
    {
     "name": "stdout",
     "output_type": "stream",
     "text": [
      "Step 1: t_curr = 875.0, t_prev = 0.0\n",
      "t:1\n"
     ]
    },
    {
     "name": "stderr",
     "output_type": "stream",
     "text": [
      "100%|██████████| 2/2 [00:07<00:00,  3.69s/it]\n",
      "\u001b[32m2025-04-04 17:33:38.869\u001b[0m | \u001b[1mINFO    \u001b[0m | \u001b[36mhyvideo.inference\u001b[0m:\u001b[36mpredict\u001b[0m:\u001b[36m709\u001b[0m - \u001b[1mSuccess, time: 44.452210426330566\u001b[0m\n",
      "huggingface/tokenizers: The current process just got forked, after parallelism has already been used. Disabling parallelism to avoid deadlocks...\n",
      "To disable this warning, you can either:\n",
      "\t- Avoid using `tokenizers` before the fork if possible\n",
      "\t- Explicitly set the environment variable TOKENIZERS_PARALLELISM=(true | false)\n",
      "\u001b[32m2025-04-04 17:33:40.713\u001b[0m | \u001b[1mINFO    \u001b[0m | \u001b[36m__main__\u001b[0m:\u001b[36mprocess_sample\u001b[0m:\u001b[36m157\u001b[0m - \u001b[1m保存编辑视频到: ./results/V2VBench/rf-solver_2order/cloud/edit_000.mp4\u001b[0m\n",
      "处理数据集批次:  30%|███       | 45/150 [30:02<1:21:39, 46.67s/it]\u001b[32m2025-04-04 17:33:40.740\u001b[0m | \u001b[1mINFO    \u001b[0m | \u001b[36mhyvideo.inference\u001b[0m:\u001b[36mpredict\u001b[0m:\u001b[36m605\u001b[0m - \u001b[1mInput (height, width, video_length) = (512, 512, 25)\u001b[0m\n",
      "\u001b[32m2025-04-04 17:33:40.991\u001b[0m | \u001b[34m\u001b[1mDEBUG   \u001b[0m | \u001b[36mhyvideo.inference\u001b[0m:\u001b[36mpredict\u001b[0m:\u001b[36m665\u001b[0m - \u001b[34m\u001b[1m\n",
      "                        height: 512\n",
      "                         width: 512\n",
      "                  video_length: 25\n",
      "                        prompt: ['a large white cloud hovers over a hill']\n",
      "                    neg_prompt: ['Aerial view, aerial view, overexposed, low quality, deformation, a poor composition, bad hands, bad teeth, bad eyes, bad limbs, distortion']\n",
      "                          seed: 42\n",
      "                   infer_steps: 2\n",
      "         num_videos_per_prompt: 1\n",
      "                guidance_scale: 1.0\n",
      "                      n_tokens: 7168\n",
      "                    flow_shift: 7.0\n",
      "       embedded_guidance_scale: 2.0\u001b[0m\n"
     ]
    },
    {
     "name": "stdout",
     "output_type": "stream",
     "text": [
      "cuda:0\n",
      "cuda:0\n",
      "sigmas_reverse\n",
      "sigmas: tensor([0.0000, 0.8750, 1.0000])\n",
      "Using inversed latents\n",
      "Step 0: t = 0.0\n",
      "Step 1: t = 875.0\n"
     ]
    },
    {
     "name": "stderr",
     "output_type": "stream",
     "text": []
    },
    {
     "name": "stdout",
     "output_type": "stream",
     "text": [
      "Step 0: t_curr = 0.0, t_prev = 875.0\n",
      "t:1\n"
     ]
    },
    {
     "name": "stderr",
     "output_type": "stream",
     "text": []
    },
    {
     "name": "stdout",
     "output_type": "stream",
     "text": [
      "Step 1: t_curr = 875.0, t_prev = 1000.0\n",
      "t:2\n"
     ]
    },
    {
     "name": "stderr",
     "output_type": "stream",
     "text": [
      "100%|██████████| 2/2 [00:08<00:00,  4.07s/it]\n"
     ]
    },
    {
     "name": "stdout",
     "output_type": "stream",
     "text": [
      "cuda:0\n",
      "cuda:0\n",
      "sigmas: tensor([1.0000, 0.8750, 0.0000])\n",
      "Using inversed latents\n",
      "Step 0: t = 1000.0\n",
      "Step 1: t = 875.0\n"
     ]
    },
    {
     "name": "stderr",
     "output_type": "stream",
     "text": []
    },
    {
     "name": "stdout",
     "output_type": "stream",
     "text": [
      "Step 0: t_curr = 1000.0, t_prev = 875.0\n",
      "t:2\n"
     ]
    },
    {
     "name": "stderr",
     "output_type": "stream",
     "text": []
    },
    {
     "name": "stdout",
     "output_type": "stream",
     "text": [
      "Step 1: t_curr = 875.0, t_prev = 0.0\n",
      "t:1\n"
     ]
    },
    {
     "name": "stderr",
     "output_type": "stream",
     "text": [
      "100%|██████████| 2/2 [00:07<00:00,  3.95s/it]\n",
      "\u001b[32m2025-04-04 17:34:31.397\u001b[0m | \u001b[1mINFO    \u001b[0m | \u001b[36mhyvideo.inference\u001b[0m:\u001b[36mpredict\u001b[0m:\u001b[36m709\u001b[0m - \u001b[1mSuccess, time: 50.40311002731323\u001b[0m\n",
      "huggingface/tokenizers: The current process just got forked, after parallelism has already been used. Disabling parallelism to avoid deadlocks...\n",
      "To disable this warning, you can either:\n",
      "\t- Avoid using `tokenizers` before the fork if possible\n",
      "\t- Explicitly set the environment variable TOKENIZERS_PARALLELISM=(true | false)\n",
      "\u001b[32m2025-04-04 17:34:33.859\u001b[0m | \u001b[1mINFO    \u001b[0m | \u001b[36m__main__\u001b[0m:\u001b[36mprocess_sample\u001b[0m:\u001b[36m157\u001b[0m - \u001b[1m保存编辑视频到: ./results/V2VBench/rf-solver_2order/cloud/edit_001.mp4\u001b[0m\n",
      "处理数据集批次:  31%|███▏      | 47/150 [30:55<1:04:24, 37.52s/it]\u001b[32m2025-04-04 17:34:33.885\u001b[0m | \u001b[1mINFO    \u001b[0m | \u001b[36mhyvideo.inference\u001b[0m:\u001b[36mpredict\u001b[0m:\u001b[36m605\u001b[0m - \u001b[1mInput (height, width, video_length) = (512, 512, 25)\u001b[0m\n",
      "\u001b[32m2025-04-04 17:34:34.133\u001b[0m | \u001b[34m\u001b[1mDEBUG   \u001b[0m | \u001b[36mhyvideo.inference\u001b[0m:\u001b[36mpredict\u001b[0m:\u001b[36m665\u001b[0m - \u001b[34m\u001b[1m\n",
      "                        height: 512\n",
      "                         width: 512\n",
      "                  video_length: 25\n",
      "                        prompt: ['a large white cloud hovers over a hill']\n",
      "                    neg_prompt: ['Aerial view, aerial view, overexposed, low quality, deformation, a poor composition, bad hands, bad teeth, bad eyes, bad limbs, distortion']\n",
      "                          seed: 42\n",
      "                   infer_steps: 2\n",
      "         num_videos_per_prompt: 1\n",
      "                guidance_scale: 1.0\n",
      "                      n_tokens: 7168\n",
      "                    flow_shift: 7.0\n",
      "       embedded_guidance_scale: 2.0\u001b[0m\n"
     ]
    },
    {
     "name": "stdout",
     "output_type": "stream",
     "text": [
      "cuda:0\n",
      "cuda:0\n",
      "sigmas_reverse\n",
      "sigmas: tensor([0.0000, 0.8750, 1.0000])\n",
      "Using inversed latents\n",
      "Step 0: t = 0.0\n",
      "Step 1: t = 875.0\n"
     ]
    },
    {
     "name": "stderr",
     "output_type": "stream",
     "text": []
    },
    {
     "name": "stdout",
     "output_type": "stream",
     "text": [
      "Step 0: t_curr = 0.0, t_prev = 875.0\n",
      "t:1\n"
     ]
    },
    {
     "name": "stderr",
     "output_type": "stream",
     "text": []
    },
    {
     "name": "stdout",
     "output_type": "stream",
     "text": [
      "Step 1: t_curr = 875.0, t_prev = 1000.0\n",
      "t:2\n"
     ]
    },
    {
     "name": "stderr",
     "output_type": "stream",
     "text": [
      "100%|██████████| 2/2 [00:08<00:00,  4.01s/it]\n"
     ]
    },
    {
     "name": "stdout",
     "output_type": "stream",
     "text": [
      "cuda:0\n",
      "cuda:0\n",
      "sigmas: tensor([1.0000, 0.8750, 0.0000])\n",
      "Using inversed latents\n",
      "Step 0: t = 1000.0\n",
      "Step 1: t = 875.0\n"
     ]
    },
    {
     "name": "stderr",
     "output_type": "stream",
     "text": []
    },
    {
     "name": "stdout",
     "output_type": "stream",
     "text": [
      "Step 0: t_curr = 1000.0, t_prev = 875.0\n",
      "t:2\n"
     ]
    },
    {
     "name": "stderr",
     "output_type": "stream",
     "text": []
    },
    {
     "name": "stdout",
     "output_type": "stream",
     "text": [
      "Step 1: t_curr = 875.0, t_prev = 0.0\n",
      "t:1\n"
     ]
    },
    {
     "name": "stderr",
     "output_type": "stream",
     "text": [
      "100%|██████████| 2/2 [00:06<00:00,  3.44s/it]\n",
      "\u001b[32m2025-04-04 17:35:17.839\u001b[0m | \u001b[1mINFO    \u001b[0m | \u001b[36mhyvideo.inference\u001b[0m:\u001b[36mpredict\u001b[0m:\u001b[36m709\u001b[0m - \u001b[1mSuccess, time: 43.70466947555542\u001b[0m\n",
      "huggingface/tokenizers: The current process just got forked, after parallelism has already been used. Disabling parallelism to avoid deadlocks...\n",
      "To disable this warning, you can either:\n",
      "\t- Avoid using `tokenizers` before the fork if possible\n",
      "\t- Explicitly set the environment variable TOKENIZERS_PARALLELISM=(true | false)\n",
      "\u001b[32m2025-04-04 17:35:20.278\u001b[0m | \u001b[1mINFO    \u001b[0m | \u001b[36m__main__\u001b[0m:\u001b[36mprocess_sample\u001b[0m:\u001b[36m157\u001b[0m - \u001b[1m保存编辑视频到: ./results/V2VBench/rf-solver_2order/cloud/edit_002.mp4\u001b[0m\n",
      "处理数据集批次:  32%|███▏      | 48/150 [31:42<1:07:29, 39.71s/it]\u001b[32m2025-04-04 17:35:20.304\u001b[0m | \u001b[1mINFO    \u001b[0m | \u001b[36mhyvideo.inference\u001b[0m:\u001b[36mpredict\u001b[0m:\u001b[36m605\u001b[0m - \u001b[1mInput (height, width, video_length) = (512, 512, 25)\u001b[0m\n",
      "\u001b[32m2025-04-04 17:35:20.573\u001b[0m | \u001b[34m\u001b[1mDEBUG   \u001b[0m | \u001b[36mhyvideo.inference\u001b[0m:\u001b[36mpredict\u001b[0m:\u001b[36m665\u001b[0m - \u001b[34m\u001b[1m\n",
      "                        height: 512\n",
      "                         width: 512\n",
      "                  video_length: 25\n",
      "                        prompt: ['digital number 10 displayed on a clock against a blue screen']\n",
      "                    neg_prompt: ['Aerial view, aerial view, overexposed, low quality, deformation, a poor composition, bad hands, bad teeth, bad eyes, bad limbs, distortion']\n",
      "                          seed: 42\n",
      "                   infer_steps: 2\n",
      "         num_videos_per_prompt: 1\n",
      "                guidance_scale: 1.0\n",
      "                      n_tokens: 7168\n",
      "                    flow_shift: 7.0\n",
      "       embedded_guidance_scale: 2.0\u001b[0m\n"
     ]
    },
    {
     "name": "stdout",
     "output_type": "stream",
     "text": [
      "cuda:0\n",
      "cuda:0\n",
      "sigmas_reverse\n",
      "sigmas: tensor([0.0000, 0.8750, 1.0000])\n",
      "Using inversed latents\n",
      "Step 0: t = 0.0\n",
      "Step 1: t = 875.0\n"
     ]
    },
    {
     "name": "stderr",
     "output_type": "stream",
     "text": []
    },
    {
     "name": "stdout",
     "output_type": "stream",
     "text": [
      "Step 0: t_curr = 0.0, t_prev = 875.0\n",
      "t:1\n"
     ]
    },
    {
     "name": "stderr",
     "output_type": "stream",
     "text": []
    },
    {
     "name": "stdout",
     "output_type": "stream",
     "text": [
      "Step 1: t_curr = 875.0, t_prev = 1000.0\n",
      "t:2\n"
     ]
    },
    {
     "name": "stderr",
     "output_type": "stream",
     "text": [
      "100%|██████████| 2/2 [00:09<00:00,  4.88s/it]\n"
     ]
    },
    {
     "name": "stdout",
     "output_type": "stream",
     "text": [
      "cuda:0\n",
      "cuda:0\n",
      "sigmas: tensor([1.0000, 0.8750, 0.0000])\n",
      "Using inversed latents\n",
      "Step 0: t = 1000.0\n",
      "Step 1: t = 875.0\n"
     ]
    },
    {
     "name": "stderr",
     "output_type": "stream",
     "text": []
    },
    {
     "name": "stdout",
     "output_type": "stream",
     "text": [
      "Step 0: t_curr = 1000.0, t_prev = 875.0\n",
      "t:2\n"
     ]
    },
    {
     "name": "stderr",
     "output_type": "stream",
     "text": []
    },
    {
     "name": "stdout",
     "output_type": "stream",
     "text": [
      "Step 1: t_curr = 875.0, t_prev = 0.0\n",
      "t:1\n"
     ]
    },
    {
     "name": "stderr",
     "output_type": "stream",
     "text": [
      "100%|██████████| 2/2 [00:07<00:00,  3.53s/it]\n",
      "\u001b[32m2025-04-04 17:36:09.466\u001b[0m | \u001b[1mINFO    \u001b[0m | \u001b[36mhyvideo.inference\u001b[0m:\u001b[36mpredict\u001b[0m:\u001b[36m709\u001b[0m - \u001b[1mSuccess, time: 48.89116191864014\u001b[0m\n",
      "huggingface/tokenizers: The current process just got forked, after parallelism has already been used. Disabling parallelism to avoid deadlocks...\n",
      "To disable this warning, you can either:\n",
      "\t- Avoid using `tokenizers` before the fork if possible\n",
      "\t- Explicitly set the environment variable TOKENIZERS_PARALLELISM=(true | false)\n",
      "\u001b[32m2025-04-04 17:36:11.471\u001b[0m | \u001b[1mINFO    \u001b[0m | \u001b[36m__main__\u001b[0m:\u001b[36mprocess_sample\u001b[0m:\u001b[36m157\u001b[0m - \u001b[1m保存编辑视频到: ./results/V2VBench/rf-solver_2order/count/edit_000.mp4\u001b[0m\n",
      "处理数据集批次:  33%|███▎      | 49/150 [32:33<1:11:51, 42.69s/it]\u001b[32m2025-04-04 17:36:11.500\u001b[0m | \u001b[1mINFO    \u001b[0m | \u001b[36mhyvideo.inference\u001b[0m:\u001b[36mpredict\u001b[0m:\u001b[36m605\u001b[0m - \u001b[1mInput (height, width, video_length) = (512, 512, 25)\u001b[0m\n",
      "\u001b[32m2025-04-04 17:36:11.740\u001b[0m | \u001b[34m\u001b[1mDEBUG   \u001b[0m | \u001b[36mhyvideo.inference\u001b[0m:\u001b[36mpredict\u001b[0m:\u001b[36m665\u001b[0m - \u001b[34m\u001b[1m\n",
      "                        height: 512\n",
      "                         width: 512\n",
      "                  video_length: 25\n",
      "                        prompt: ['digital number 10 displayed on a clock against a blue screen']\n",
      "                    neg_prompt: ['Aerial view, aerial view, overexposed, low quality, deformation, a poor composition, bad hands, bad teeth, bad eyes, bad limbs, distortion']\n",
      "                          seed: 42\n",
      "                   infer_steps: 2\n",
      "         num_videos_per_prompt: 1\n",
      "                guidance_scale: 1.0\n",
      "                      n_tokens: 7168\n",
      "                    flow_shift: 7.0\n",
      "       embedded_guidance_scale: 2.0\u001b[0m\n"
     ]
    },
    {
     "name": "stdout",
     "output_type": "stream",
     "text": [
      "cuda:0\n",
      "cuda:0\n",
      "sigmas_reverse\n",
      "sigmas: tensor([0.0000, 0.8750, 1.0000])\n",
      "Using inversed latents\n",
      "Step 0: t = 0.0\n",
      "Step 1: t = 875.0\n"
     ]
    },
    {
     "name": "stderr",
     "output_type": "stream",
     "text": []
    },
    {
     "name": "stdout",
     "output_type": "stream",
     "text": [
      "Step 0: t_curr = 0.0, t_prev = 875.0\n",
      "t:1\n"
     ]
    },
    {
     "name": "stderr",
     "output_type": "stream",
     "text": []
    },
    {
     "name": "stdout",
     "output_type": "stream",
     "text": [
      "Step 1: t_curr = 875.0, t_prev = 1000.0\n",
      "t:2\n"
     ]
    },
    {
     "name": "stderr",
     "output_type": "stream",
     "text": [
      "100%|██████████| 2/2 [00:09<00:00,  4.89s/it]\n"
     ]
    },
    {
     "name": "stdout",
     "output_type": "stream",
     "text": [
      "cuda:0\n",
      "cuda:0\n",
      "sigmas: tensor([1.0000, 0.8750, 0.0000])\n",
      "Using inversed latents\n",
      "Step 0: t = 1000.0\n",
      "Step 1: t = 875.0\n"
     ]
    },
    {
     "name": "stderr",
     "output_type": "stream",
     "text": []
    },
    {
     "name": "stdout",
     "output_type": "stream",
     "text": [
      "Step 0: t_curr = 1000.0, t_prev = 875.0\n",
      "t:2\n"
     ]
    },
    {
     "name": "stderr",
     "output_type": "stream",
     "text": []
    },
    {
     "name": "stdout",
     "output_type": "stream",
     "text": [
      "Step 1: t_curr = 875.0, t_prev = 0.0\n",
      "t:1\n"
     ]
    },
    {
     "name": "stderr",
     "output_type": "stream",
     "text": [
      "100%|██████████| 2/2 [00:07<00:00,  3.64s/it]\n",
      "\u001b[32m2025-04-04 17:36:58.278\u001b[0m | \u001b[1mINFO    \u001b[0m | \u001b[36mhyvideo.inference\u001b[0m:\u001b[36mpredict\u001b[0m:\u001b[36m709\u001b[0m - \u001b[1mSuccess, time: 46.536468267440796\u001b[0m\n",
      "huggingface/tokenizers: The current process just got forked, after parallelism has already been used. Disabling parallelism to avoid deadlocks...\n",
      "To disable this warning, you can either:\n",
      "\t- Avoid using `tokenizers` before the fork if possible\n",
      "\t- Explicitly set the environment variable TOKENIZERS_PARALLELISM=(true | false)\n",
      "\u001b[32m2025-04-04 17:37:00.397\u001b[0m | \u001b[1mINFO    \u001b[0m | \u001b[36m__main__\u001b[0m:\u001b[36mprocess_sample\u001b[0m:\u001b[36m157\u001b[0m - \u001b[1m保存编辑视频到: ./results/V2VBench/rf-solver_2order/count/edit_001.mp4\u001b[0m\n",
      "处理数据集批次:  33%|███▎      | 50/150 [33:22<1:13:57, 44.38s/it]\u001b[32m2025-04-04 17:37:00.445\u001b[0m | \u001b[1mINFO    \u001b[0m | \u001b[36mhyvideo.inference\u001b[0m:\u001b[36mpredict\u001b[0m:\u001b[36m605\u001b[0m - \u001b[1mInput (height, width, video_length) = (512, 512, 25)\u001b[0m\n",
      "\u001b[32m2025-04-04 17:37:00.704\u001b[0m | \u001b[34m\u001b[1mDEBUG   \u001b[0m | \u001b[36mhyvideo.inference\u001b[0m:\u001b[36mpredict\u001b[0m:\u001b[36m665\u001b[0m - \u001b[34m\u001b[1m\n",
      "                        height: 512\n",
      "                         width: 512\n",
      "                  video_length: 25\n",
      "                        prompt: ['digital number 10 displayed on a clock against a blue screen']\n",
      "                    neg_prompt: ['Aerial view, aerial view, overexposed, low quality, deformation, a poor composition, bad hands, bad teeth, bad eyes, bad limbs, distortion']\n",
      "                          seed: 42\n",
      "                   infer_steps: 2\n",
      "         num_videos_per_prompt: 1\n",
      "                guidance_scale: 1.0\n",
      "                      n_tokens: 7168\n",
      "                    flow_shift: 7.0\n",
      "       embedded_guidance_scale: 2.0\u001b[0m\n"
     ]
    },
    {
     "name": "stdout",
     "output_type": "stream",
     "text": [
      "cuda:0\n",
      "cuda:0\n",
      "sigmas_reverse\n",
      "sigmas: tensor([0.0000, 0.8750, 1.0000])\n",
      "Using inversed latents\n",
      "Step 0: t = 0.0\n",
      "Step 1: t = 875.0\n"
     ]
    },
    {
     "name": "stderr",
     "output_type": "stream",
     "text": []
    },
    {
     "name": "stdout",
     "output_type": "stream",
     "text": [
      "Step 0: t_curr = 0.0, t_prev = 875.0\n",
      "t:1\n"
     ]
    },
    {
     "name": "stderr",
     "output_type": "stream",
     "text": []
    },
    {
     "name": "stdout",
     "output_type": "stream",
     "text": [
      "Step 1: t_curr = 875.0, t_prev = 1000.0\n",
      "t:2\n"
     ]
    },
    {
     "name": "stderr",
     "output_type": "stream",
     "text": [
      "100%|██████████| 2/2 [00:09<00:00,  4.55s/it]\n"
     ]
    },
    {
     "name": "stdout",
     "output_type": "stream",
     "text": [
      "cuda:0\n",
      "cuda:0\n",
      "sigmas: tensor([1.0000, 0.8750, 0.0000])\n",
      "Using inversed latents\n",
      "Step 0: t = 1000.0\n",
      "Step 1: t = 875.0\n"
     ]
    },
    {
     "name": "stderr",
     "output_type": "stream",
     "text": []
    },
    {
     "name": "stdout",
     "output_type": "stream",
     "text": [
      "Step 0: t_curr = 1000.0, t_prev = 875.0\n",
      "t:2\n"
     ]
    },
    {
     "name": "stderr",
     "output_type": "stream",
     "text": []
    },
    {
     "name": "stdout",
     "output_type": "stream",
     "text": [
      "Step 1: t_curr = 875.0, t_prev = 0.0\n",
      "t:1\n"
     ]
    },
    {
     "name": "stderr",
     "output_type": "stream",
     "text": [
      "100%|██████████| 2/2 [00:06<00:00,  3.44s/it]\n",
      "\u001b[32m2025-04-04 17:37:44.641\u001b[0m | \u001b[1mINFO    \u001b[0m | \u001b[36mhyvideo.inference\u001b[0m:\u001b[36mpredict\u001b[0m:\u001b[36m709\u001b[0m - \u001b[1mSuccess, time: 43.936031341552734\u001b[0m\n",
      "huggingface/tokenizers: The current process just got forked, after parallelism has already been used. Disabling parallelism to avoid deadlocks...\n",
      "To disable this warning, you can either:\n",
      "\t- Avoid using `tokenizers` before the fork if possible\n",
      "\t- Explicitly set the environment variable TOKENIZERS_PARALLELISM=(true | false)\n",
      "\u001b[32m2025-04-04 17:37:46.564\u001b[0m | \u001b[1mINFO    \u001b[0m | \u001b[36m__main__\u001b[0m:\u001b[36mprocess_sample\u001b[0m:\u001b[36m157\u001b[0m - \u001b[1m保存编辑视频到: ./results/V2VBench/rf-solver_2order/count/edit_002.mp4\u001b[0m\n",
      "处理数据集批次:  34%|███▍      | 51/150 [34:08<1:14:02, 44.87s/it]\u001b[32m2025-04-04 17:37:46.589\u001b[0m | \u001b[1mINFO    \u001b[0m | \u001b[36mhyvideo.inference\u001b[0m:\u001b[36mpredict\u001b[0m:\u001b[36m605\u001b[0m - \u001b[1mInput (height, width, video_length) = (512, 512, 25)\u001b[0m\n",
      "\u001b[32m2025-04-04 17:37:46.812\u001b[0m | \u001b[34m\u001b[1mDEBUG   \u001b[0m | \u001b[36mhyvideo.inference\u001b[0m:\u001b[36mpredict\u001b[0m:\u001b[36m665\u001b[0m - \u001b[34m\u001b[1m\n",
      "                        height: 512\n",
      "                         width: 512\n",
      "                  video_length: 25\n",
      "                        prompt: ['a brown and white cow is walking through a field of grass and mud']\n",
      "                    neg_prompt: ['Aerial view, aerial view, overexposed, low quality, deformation, a poor composition, bad hands, bad teeth, bad eyes, bad limbs, distortion']\n",
      "                          seed: 42\n",
      "                   infer_steps: 2\n",
      "         num_videos_per_prompt: 1\n",
      "                guidance_scale: 1.0\n",
      "                      n_tokens: 7168\n",
      "                    flow_shift: 7.0\n",
      "       embedded_guidance_scale: 2.0\u001b[0m\n"
     ]
    },
    {
     "name": "stdout",
     "output_type": "stream",
     "text": [
      "cuda:0\n",
      "cuda:0\n",
      "sigmas_reverse\n",
      "sigmas: tensor([0.0000, 0.8750, 1.0000])\n",
      "Using inversed latents\n",
      "Step 0: t = 0.0\n",
      "Step 1: t = 875.0\n"
     ]
    },
    {
     "name": "stderr",
     "output_type": "stream",
     "text": []
    },
    {
     "name": "stdout",
     "output_type": "stream",
     "text": [
      "Step 0: t_curr = 0.0, t_prev = 875.0\n",
      "t:1\n"
     ]
    },
    {
     "name": "stderr",
     "output_type": "stream",
     "text": []
    },
    {
     "name": "stdout",
     "output_type": "stream",
     "text": [
      "Step 1: t_curr = 875.0, t_prev = 1000.0\n",
      "t:2\n"
     ]
    },
    {
     "name": "stderr",
     "output_type": "stream",
     "text": [
      "100%|██████████| 2/2 [00:08<00:00,  4.26s/it]\n"
     ]
    },
    {
     "name": "stdout",
     "output_type": "stream",
     "text": [
      "cuda:0\n",
      "cuda:0\n",
      "sigmas: tensor([1.0000, 0.8750, 0.0000])\n",
      "Using inversed latents\n",
      "Step 0: t = 1000.0\n",
      "Step 1: t = 875.0\n"
     ]
    },
    {
     "name": "stderr",
     "output_type": "stream",
     "text": []
    },
    {
     "name": "stdout",
     "output_type": "stream",
     "text": [
      "Step 0: t_curr = 1000.0, t_prev = 875.0\n",
      "t:2\n"
     ]
    },
    {
     "name": "stderr",
     "output_type": "stream",
     "text": []
    },
    {
     "name": "stdout",
     "output_type": "stream",
     "text": [
      "Step 1: t_curr = 875.0, t_prev = 0.0\n",
      "t:1\n"
     ]
    },
    {
     "name": "stderr",
     "output_type": "stream",
     "text": [
      "100%|██████████| 2/2 [00:07<00:00,  3.54s/it]\n",
      "\u001b[32m2025-04-04 17:38:32.280\u001b[0m | \u001b[1mINFO    \u001b[0m | \u001b[36mhyvideo.inference\u001b[0m:\u001b[36mpredict\u001b[0m:\u001b[36m709\u001b[0m - \u001b[1mSuccess, time: 45.46687984466553\u001b[0m\n",
      "huggingface/tokenizers: The current process just got forked, after parallelism has already been used. Disabling parallelism to avoid deadlocks...\n",
      "To disable this warning, you can either:\n",
      "\t- Avoid using `tokenizers` before the fork if possible\n",
      "\t- Explicitly set the environment variable TOKENIZERS_PARALLELISM=(true | false)\n",
      "\u001b[32m2025-04-04 17:38:34.456\u001b[0m | \u001b[1mINFO    \u001b[0m | \u001b[36m__main__\u001b[0m:\u001b[36mprocess_sample\u001b[0m:\u001b[36m157\u001b[0m - \u001b[1m保存编辑视频到: ./results/V2VBench/rf-solver_2order/cows/edit_000.mp4\u001b[0m\n",
      "处理数据集批次:  35%|███▍      | 52/150 [34:56<1:14:41, 45.73s/it]\u001b[32m2025-04-04 17:38:34.483\u001b[0m | \u001b[1mINFO    \u001b[0m | \u001b[36mhyvideo.inference\u001b[0m:\u001b[36mpredict\u001b[0m:\u001b[36m605\u001b[0m - \u001b[1mInput (height, width, video_length) = (512, 512, 25)\u001b[0m\n",
      "\u001b[32m2025-04-04 17:38:34.746\u001b[0m | \u001b[34m\u001b[1mDEBUG   \u001b[0m | \u001b[36mhyvideo.inference\u001b[0m:\u001b[36mpredict\u001b[0m:\u001b[36m665\u001b[0m - \u001b[34m\u001b[1m\n",
      "                        height: 512\n",
      "                         width: 512\n",
      "                  video_length: 25\n",
      "                        prompt: ['a brown and white cow is walking through a field of grass and mud']\n",
      "                    neg_prompt: ['Aerial view, aerial view, overexposed, low quality, deformation, a poor composition, bad hands, bad teeth, bad eyes, bad limbs, distortion']\n",
      "                          seed: 42\n",
      "                   infer_steps: 2\n",
      "         num_videos_per_prompt: 1\n",
      "                guidance_scale: 1.0\n",
      "                      n_tokens: 7168\n",
      "                    flow_shift: 7.0\n",
      "       embedded_guidance_scale: 2.0\u001b[0m\n"
     ]
    },
    {
     "name": "stdout",
     "output_type": "stream",
     "text": [
      "cuda:0\n",
      "cuda:0\n",
      "sigmas_reverse\n",
      "sigmas: tensor([0.0000, 0.8750, 1.0000])\n",
      "Using inversed latents\n",
      "Step 0: t = 0.0\n",
      "Step 1: t = 875.0\n"
     ]
    },
    {
     "name": "stderr",
     "output_type": "stream",
     "text": []
    },
    {
     "name": "stdout",
     "output_type": "stream",
     "text": [
      "Step 0: t_curr = 0.0, t_prev = 875.0\n",
      "t:1\n"
     ]
    },
    {
     "name": "stderr",
     "output_type": "stream",
     "text": []
    },
    {
     "name": "stdout",
     "output_type": "stream",
     "text": [
      "Step 1: t_curr = 875.0, t_prev = 1000.0\n",
      "t:2\n"
     ]
    },
    {
     "name": "stderr",
     "output_type": "stream",
     "text": [
      "100%|██████████| 2/2 [00:09<00:00,  4.88s/it]\n"
     ]
    },
    {
     "name": "stdout",
     "output_type": "stream",
     "text": [
      "cuda:0\n",
      "cuda:0\n",
      "sigmas: tensor([1.0000, 0.8750, 0.0000])\n",
      "Using inversed latents\n",
      "Step 0: t = 1000.0\n",
      "Step 1: t = 875.0\n"
     ]
    },
    {
     "name": "stderr",
     "output_type": "stream",
     "text": []
    },
    {
     "name": "stdout",
     "output_type": "stream",
     "text": [
      "Step 0: t_curr = 1000.0, t_prev = 875.0\n",
      "t:2\n"
     ]
    },
    {
     "name": "stderr",
     "output_type": "stream",
     "text": []
    },
    {
     "name": "stdout",
     "output_type": "stream",
     "text": [
      "Step 1: t_curr = 875.0, t_prev = 0.0\n",
      "t:1\n"
     ]
    },
    {
     "name": "stderr",
     "output_type": "stream",
     "text": [
      "100%|██████████| 2/2 [00:07<00:00,  3.74s/it]\n",
      "\u001b[32m2025-04-04 17:39:25.545\u001b[0m | \u001b[1mINFO    \u001b[0m | \u001b[36mhyvideo.inference\u001b[0m:\u001b[36mpredict\u001b[0m:\u001b[36m709\u001b[0m - \u001b[1mSuccess, time: 50.7980751991272\u001b[0m\n",
      "huggingface/tokenizers: The current process just got forked, after parallelism has already been used. Disabling parallelism to avoid deadlocks...\n",
      "To disable this warning, you can either:\n",
      "\t- Avoid using `tokenizers` before the fork if possible\n",
      "\t- Explicitly set the environment variable TOKENIZERS_PARALLELISM=(true | false)\n",
      "\u001b[32m2025-04-04 17:39:28.132\u001b[0m | \u001b[1mINFO    \u001b[0m | \u001b[36m__main__\u001b[0m:\u001b[36mprocess_sample\u001b[0m:\u001b[36m157\u001b[0m - \u001b[1m保存编辑视频到: ./results/V2VBench/rf-solver_2order/cows/edit_001.mp4\u001b[0m\n",
      "处理数据集批次:  35%|███▌      | 53/150 [35:50<1:17:38, 48.03s/it]\u001b[32m2025-04-04 17:39:28.162\u001b[0m | \u001b[1mINFO    \u001b[0m | \u001b[36mhyvideo.inference\u001b[0m:\u001b[36mpredict\u001b[0m:\u001b[36m605\u001b[0m - \u001b[1mInput (height, width, video_length) = (512, 512, 25)\u001b[0m\n",
      "\u001b[32m2025-04-04 17:39:28.427\u001b[0m | \u001b[34m\u001b[1mDEBUG   \u001b[0m | \u001b[36mhyvideo.inference\u001b[0m:\u001b[36mpredict\u001b[0m:\u001b[36m665\u001b[0m - \u001b[34m\u001b[1m\n",
      "                        height: 512\n",
      "                         width: 512\n",
      "                  video_length: 25\n",
      "                        prompt: ['a brown and white cow is walking through a field of grass and mud']\n",
      "                    neg_prompt: ['Aerial view, aerial view, overexposed, low quality, deformation, a poor composition, bad hands, bad teeth, bad eyes, bad limbs, distortion']\n",
      "                          seed: 42\n",
      "                   infer_steps: 2\n",
      "         num_videos_per_prompt: 1\n",
      "                guidance_scale: 1.0\n",
      "                      n_tokens: 7168\n",
      "                    flow_shift: 7.0\n",
      "       embedded_guidance_scale: 2.0\u001b[0m\n"
     ]
    },
    {
     "name": "stdout",
     "output_type": "stream",
     "text": [
      "cuda:0\n",
      "cuda:0\n",
      "sigmas_reverse\n",
      "sigmas: tensor([0.0000, 0.8750, 1.0000])\n",
      "Using inversed latents\n",
      "Step 0: t = 0.0\n",
      "Step 1: t = 875.0\n"
     ]
    },
    {
     "name": "stderr",
     "output_type": "stream",
     "text": []
    },
    {
     "name": "stdout",
     "output_type": "stream",
     "text": [
      "Step 0: t_curr = 0.0, t_prev = 875.0\n",
      "t:1\n"
     ]
    },
    {
     "name": "stderr",
     "output_type": "stream",
     "text": []
    },
    {
     "name": "stdout",
     "output_type": "stream",
     "text": [
      "Step 1: t_curr = 875.0, t_prev = 1000.0\n",
      "t:2\n"
     ]
    },
    {
     "name": "stderr",
     "output_type": "stream",
     "text": [
      "100%|██████████| 2/2 [00:09<00:00,  4.69s/it]\n"
     ]
    },
    {
     "name": "stdout",
     "output_type": "stream",
     "text": [
      "cuda:0\n",
      "cuda:0\n",
      "sigmas: tensor([1.0000, 0.8750, 0.0000])\n",
      "Using inversed latents\n",
      "Step 0: t = 1000.0\n",
      "Step 1: t = 875.0\n"
     ]
    },
    {
     "name": "stderr",
     "output_type": "stream",
     "text": []
    },
    {
     "name": "stdout",
     "output_type": "stream",
     "text": [
      "Step 0: t_curr = 1000.0, t_prev = 875.0\n",
      "t:2\n"
     ]
    },
    {
     "name": "stderr",
     "output_type": "stream",
     "text": []
    },
    {
     "name": "stdout",
     "output_type": "stream",
     "text": [
      "Step 1: t_curr = 875.0, t_prev = 0.0\n",
      "t:1\n"
     ]
    },
    {
     "name": "stderr",
     "output_type": "stream",
     "text": [
      "100%|██████████| 2/2 [00:07<00:00,  3.71s/it]\n",
      "\u001b[32m2025-04-04 17:40:17.129\u001b[0m | \u001b[1mINFO    \u001b[0m | \u001b[36mhyvideo.inference\u001b[0m:\u001b[36mpredict\u001b[0m:\u001b[36m709\u001b[0m - \u001b[1mSuccess, time: 48.70044732093811\u001b[0m\n",
      "huggingface/tokenizers: The current process just got forked, after parallelism has already been used. Disabling parallelism to avoid deadlocks...\n",
      "To disable this warning, you can either:\n",
      "\t- Avoid using `tokenizers` before the fork if possible\n",
      "\t- Explicitly set the environment variable TOKENIZERS_PARALLELISM=(true | false)\n",
      "\u001b[32m2025-04-04 17:40:19.501\u001b[0m | \u001b[1mINFO    \u001b[0m | \u001b[36m__main__\u001b[0m:\u001b[36mprocess_sample\u001b[0m:\u001b[36m157\u001b[0m - \u001b[1m保存编辑视频到: ./results/V2VBench/rf-solver_2order/cows/edit_002.mp4\u001b[0m\n",
      "处理数据集批次:  36%|███▌      | 54/150 [36:41<1:18:24, 49.01s/it]\u001b[32m2025-04-04 17:40:19.531\u001b[0m | \u001b[1mINFO    \u001b[0m | \u001b[36mhyvideo.inference\u001b[0m:\u001b[36mpredict\u001b[0m:\u001b[36m605\u001b[0m - \u001b[1mInput (height, width, video_length) = (512, 512, 25)\u001b[0m\n",
      "\u001b[32m2025-04-04 17:40:19.766\u001b[0m | \u001b[34m\u001b[1mDEBUG   \u001b[0m | \u001b[36mhyvideo.inference\u001b[0m:\u001b[36mpredict\u001b[0m:\u001b[36m665\u001b[0m - \u001b[34m\u001b[1m\n",
      "                        height: 512\n",
      "                         width: 512\n",
      "                  video_length: 25\n",
      "                        prompt: ['an urban street flanked by buildings with the sun casting long shadows']\n",
      "                    neg_prompt: ['Aerial view, aerial view, overexposed, low quality, deformation, a poor composition, bad hands, bad teeth, bad eyes, bad limbs, distortion']\n",
      "                          seed: 42\n",
      "                   infer_steps: 2\n",
      "         num_videos_per_prompt: 1\n",
      "                guidance_scale: 1.0\n",
      "                      n_tokens: 7168\n",
      "                    flow_shift: 7.0\n",
      "       embedded_guidance_scale: 2.0\u001b[0m\n"
     ]
    },
    {
     "name": "stdout",
     "output_type": "stream",
     "text": [
      "cuda:0\n",
      "cuda:0\n",
      "sigmas_reverse\n",
      "sigmas: tensor([0.0000, 0.8750, 1.0000])\n",
      "Using inversed latents\n",
      "Step 0: t = 0.0\n",
      "Step 1: t = 875.0\n"
     ]
    },
    {
     "name": "stderr",
     "output_type": "stream",
     "text": []
    },
    {
     "name": "stdout",
     "output_type": "stream",
     "text": [
      "Step 0: t_curr = 0.0, t_prev = 875.0\n",
      "t:1\n"
     ]
    },
    {
     "name": "stderr",
     "output_type": "stream",
     "text": []
    },
    {
     "name": "stdout",
     "output_type": "stream",
     "text": [
      "Step 1: t_curr = 875.0, t_prev = 1000.0\n",
      "t:2\n"
     ]
    },
    {
     "name": "stderr",
     "output_type": "stream",
     "text": [
      "100%|██████████| 2/2 [00:07<00:00,  4.00s/it]\n"
     ]
    },
    {
     "name": "stdout",
     "output_type": "stream",
     "text": [
      "cuda:0\n",
      "cuda:0\n",
      "sigmas: tensor([1.0000, 0.8750, 0.0000])\n",
      "Using inversed latents\n",
      "Step 0: t = 1000.0\n",
      "Step 1: t = 875.0\n"
     ]
    },
    {
     "name": "stderr",
     "output_type": "stream",
     "text": []
    },
    {
     "name": "stdout",
     "output_type": "stream",
     "text": [
      "Step 0: t_curr = 1000.0, t_prev = 875.0\n",
      "t:2\n"
     ]
    },
    {
     "name": "stderr",
     "output_type": "stream",
     "text": []
    },
    {
     "name": "stdout",
     "output_type": "stream",
     "text": [
      "Step 1: t_curr = 875.0, t_prev = 0.0\n",
      "t:1\n"
     ]
    },
    {
     "name": "stderr",
     "output_type": "stream",
     "text": [
      "100%|██████████| 2/2 [00:07<00:00,  3.55s/it]\n",
      "\u001b[32m2025-04-04 17:41:04.234\u001b[0m | \u001b[1mINFO    \u001b[0m | \u001b[36mhyvideo.inference\u001b[0m:\u001b[36mpredict\u001b[0m:\u001b[36m709\u001b[0m - \u001b[1mSuccess, time: 44.465938091278076\u001b[0m\n",
      "huggingface/tokenizers: The current process just got forked, after parallelism has already been used. Disabling parallelism to avoid deadlocks...\n",
      "To disable this warning, you can either:\n",
      "\t- Avoid using `tokenizers` before the fork if possible\n",
      "\t- Explicitly set the environment variable TOKENIZERS_PARALLELISM=(true | false)\n",
      "\u001b[32m2025-04-04 17:41:06.968\u001b[0m | \u001b[1mINFO    \u001b[0m | \u001b[36m__main__\u001b[0m:\u001b[36mprocess_sample\u001b[0m:\u001b[36m157\u001b[0m - \u001b[1m保存编辑视频到: ./results/V2VBench/rf-solver_2order/cross-city/edit_000.mp4\u001b[0m\n",
      "处理数据集批次:  37%|███▋      | 55/150 [37:28<1:16:52, 48.55s/it]\u001b[32m2025-04-04 17:41:06.997\u001b[0m | \u001b[1mINFO    \u001b[0m | \u001b[36mhyvideo.inference\u001b[0m:\u001b[36mpredict\u001b[0m:\u001b[36m605\u001b[0m - \u001b[1mInput (height, width, video_length) = (512, 512, 25)\u001b[0m\n",
      "\u001b[32m2025-04-04 17:41:07.252\u001b[0m | \u001b[34m\u001b[1mDEBUG   \u001b[0m | \u001b[36mhyvideo.inference\u001b[0m:\u001b[36mpredict\u001b[0m:\u001b[36m665\u001b[0m - \u001b[34m\u001b[1m\n",
      "                        height: 512\n",
      "                         width: 512\n",
      "                  video_length: 25\n",
      "                        prompt: ['an urban street flanked by buildings with the sun casting long shadows']\n",
      "                    neg_prompt: ['Aerial view, aerial view, overexposed, low quality, deformation, a poor composition, bad hands, bad teeth, bad eyes, bad limbs, distortion']\n",
      "                          seed: 42\n",
      "                   infer_steps: 2\n",
      "         num_videos_per_prompt: 1\n",
      "                guidance_scale: 1.0\n",
      "                      n_tokens: 7168\n",
      "                    flow_shift: 7.0\n",
      "       embedded_guidance_scale: 2.0\u001b[0m\n"
     ]
    },
    {
     "name": "stdout",
     "output_type": "stream",
     "text": [
      "cuda:0\n",
      "cuda:0\n",
      "sigmas_reverse\n",
      "sigmas: tensor([0.0000, 0.8750, 1.0000])\n",
      "Using inversed latents\n",
      "Step 0: t = 0.0\n",
      "Step 1: t = 875.0\n"
     ]
    },
    {
     "name": "stderr",
     "output_type": "stream",
     "text": []
    },
    {
     "name": "stdout",
     "output_type": "stream",
     "text": [
      "Step 0: t_curr = 0.0, t_prev = 875.0\n",
      "t:1\n"
     ]
    },
    {
     "name": "stderr",
     "output_type": "stream",
     "text": []
    },
    {
     "name": "stdout",
     "output_type": "stream",
     "text": [
      "Step 1: t_curr = 875.0, t_prev = 1000.0\n",
      "t:2\n"
     ]
    },
    {
     "name": "stderr",
     "output_type": "stream",
     "text": [
      "100%|██████████| 2/2 [00:08<00:00,  4.41s/it]\n"
     ]
    },
    {
     "name": "stdout",
     "output_type": "stream",
     "text": [
      "cuda:0\n",
      "cuda:0\n",
      "sigmas: tensor([1.0000, 0.8750, 0.0000])\n",
      "Using inversed latents\n",
      "Step 0: t = 1000.0\n",
      "Step 1: t = 875.0\n"
     ]
    },
    {
     "name": "stderr",
     "output_type": "stream",
     "text": []
    },
    {
     "name": "stdout",
     "output_type": "stream",
     "text": [
      "Step 0: t_curr = 1000.0, t_prev = 875.0\n",
      "t:2\n"
     ]
    },
    {
     "name": "stderr",
     "output_type": "stream",
     "text": []
    },
    {
     "name": "stdout",
     "output_type": "stream",
     "text": [
      "Step 1: t_curr = 875.0, t_prev = 0.0\n",
      "t:1\n"
     ]
    },
    {
     "name": "stderr",
     "output_type": "stream",
     "text": [
      "100%|██████████| 2/2 [00:06<00:00,  3.47s/it]\n",
      "\u001b[32m2025-04-04 17:41:53.610\u001b[0m | \u001b[1mINFO    \u001b[0m | \u001b[36mhyvideo.inference\u001b[0m:\u001b[36mpredict\u001b[0m:\u001b[36m709\u001b[0m - \u001b[1mSuccess, time: 46.35558223724365\u001b[0m\n",
      "huggingface/tokenizers: The current process just got forked, after parallelism has already been used. Disabling parallelism to avoid deadlocks...\n",
      "To disable this warning, you can either:\n",
      "\t- Avoid using `tokenizers` before the fork if possible\n",
      "\t- Explicitly set the environment variable TOKENIZERS_PARALLELISM=(true | false)\n",
      "\u001b[32m2025-04-04 17:41:55.556\u001b[0m | \u001b[1mINFO    \u001b[0m | \u001b[36m__main__\u001b[0m:\u001b[36mprocess_sample\u001b[0m:\u001b[36m157\u001b[0m - \u001b[1m保存编辑视频到: ./results/V2VBench/rf-solver_2order/cross-city/edit_001.mp4\u001b[0m\n",
      "处理数据集批次:  38%|███▊      | 57/150 [38:17<58:04, 37.47s/it]  \u001b[32m2025-04-04 17:41:55.583\u001b[0m | \u001b[1mINFO    \u001b[0m | \u001b[36mhyvideo.inference\u001b[0m:\u001b[36mpredict\u001b[0m:\u001b[36m605\u001b[0m - \u001b[1mInput (height, width, video_length) = (512, 512, 25)\u001b[0m\n",
      "\u001b[32m2025-04-04 17:41:55.791\u001b[0m | \u001b[34m\u001b[1mDEBUG   \u001b[0m | \u001b[36mhyvideo.inference\u001b[0m:\u001b[36mpredict\u001b[0m:\u001b[36m665\u001b[0m - \u001b[34m\u001b[1m\n",
      "                        height: 512\n",
      "                         width: 512\n",
      "                  video_length: 25\n",
      "                        prompt: ['an urban street flanked by buildings with the sun casting long shadows']\n",
      "                    neg_prompt: ['Aerial view, aerial view, overexposed, low quality, deformation, a poor composition, bad hands, bad teeth, bad eyes, bad limbs, distortion']\n",
      "                          seed: 42\n",
      "                   infer_steps: 2\n",
      "         num_videos_per_prompt: 1\n",
      "                guidance_scale: 1.0\n",
      "                      n_tokens: 7168\n",
      "                    flow_shift: 7.0\n",
      "       embedded_guidance_scale: 2.0\u001b[0m\n"
     ]
    },
    {
     "name": "stdout",
     "output_type": "stream",
     "text": [
      "cuda:0\n",
      "cuda:0\n",
      "sigmas_reverse\n",
      "sigmas: tensor([0.0000, 0.8750, 1.0000])\n",
      "Using inversed latents\n",
      "Step 0: t = 0.0\n",
      "Step 1: t = 875.0\n"
     ]
    },
    {
     "name": "stderr",
     "output_type": "stream",
     "text": []
    },
    {
     "name": "stdout",
     "output_type": "stream",
     "text": [
      "Step 0: t_curr = 0.0, t_prev = 875.0\n",
      "t:1\n"
     ]
    },
    {
     "name": "stderr",
     "output_type": "stream",
     "text": []
    },
    {
     "name": "stdout",
     "output_type": "stream",
     "text": [
      "Step 1: t_curr = 875.0, t_prev = 1000.0\n",
      "t:2\n"
     ]
    },
    {
     "name": "stderr",
     "output_type": "stream",
     "text": [
      "100%|██████████| 2/2 [00:08<00:00,  4.00s/it]\n"
     ]
    },
    {
     "name": "stdout",
     "output_type": "stream",
     "text": [
      "cuda:0\n",
      "cuda:0\n",
      "sigmas: tensor([1.0000, 0.8750, 0.0000])\n",
      "Using inversed latents\n",
      "Step 0: t = 1000.0\n",
      "Step 1: t = 875.0\n"
     ]
    },
    {
     "name": "stderr",
     "output_type": "stream",
     "text": []
    },
    {
     "name": "stdout",
     "output_type": "stream",
     "text": [
      "Step 0: t_curr = 1000.0, t_prev = 875.0\n",
      "t:2\n"
     ]
    },
    {
     "name": "stderr",
     "output_type": "stream",
     "text": []
    },
    {
     "name": "stdout",
     "output_type": "stream",
     "text": [
      "Step 1: t_curr = 875.0, t_prev = 0.0\n",
      "t:1\n"
     ]
    },
    {
     "name": "stderr",
     "output_type": "stream",
     "text": [
      "100%|██████████| 2/2 [00:07<00:00,  3.63s/it]\n",
      "\u001b[32m2025-04-04 17:42:38.345\u001b[0m | \u001b[1mINFO    \u001b[0m | \u001b[36mhyvideo.inference\u001b[0m:\u001b[36mpredict\u001b[0m:\u001b[36m709\u001b[0m - \u001b[1mSuccess, time: 42.55300450325012\u001b[0m\n",
      "huggingface/tokenizers: The current process just got forked, after parallelism has already been used. Disabling parallelism to avoid deadlocks...\n",
      "To disable this warning, you can either:\n",
      "\t- Avoid using `tokenizers` before the fork if possible\n",
      "\t- Explicitly set the environment variable TOKENIZERS_PARALLELISM=(true | false)\n",
      "\u001b[32m2025-04-04 17:42:40.507\u001b[0m | \u001b[1mINFO    \u001b[0m | \u001b[36m__main__\u001b[0m:\u001b[36mprocess_sample\u001b[0m:\u001b[36m157\u001b[0m - \u001b[1m保存编辑视频到: ./results/V2VBench/rf-solver_2order/cross-city/edit_002.mp4\u001b[0m\n",
      "处理数据集批次:  39%|███▊      | 58/150 [39:02<1:00:16, 39.31s/it]\u001b[32m2025-04-04 17:42:40.534\u001b[0m | \u001b[1mINFO    \u001b[0m | \u001b[36mhyvideo.inference\u001b[0m:\u001b[36mpredict\u001b[0m:\u001b[36m605\u001b[0m - \u001b[1mInput (height, width, video_length) = (512, 512, 25)\u001b[0m\n",
      "\u001b[32m2025-04-04 17:42:40.792\u001b[0m | \u001b[34m\u001b[1mDEBUG   \u001b[0m | \u001b[36mhyvideo.inference\u001b[0m:\u001b[36mpredict\u001b[0m:\u001b[36m665\u001b[0m - \u001b[34m\u001b[1m\n",
      "                        height: 512\n",
      "                         width: 512\n",
      "                  video_length: 25\n",
      "                        prompt: ['pedestrians cross the street at a busy crosswalk in front of a building']\n",
      "                    neg_prompt: ['Aerial view, aerial view, overexposed, low quality, deformation, a poor composition, bad hands, bad teeth, bad eyes, bad limbs, distortion']\n",
      "                          seed: 42\n",
      "                   infer_steps: 2\n",
      "         num_videos_per_prompt: 1\n",
      "                guidance_scale: 1.0\n",
      "                      n_tokens: 7168\n",
      "                    flow_shift: 7.0\n",
      "       embedded_guidance_scale: 2.0\u001b[0m\n"
     ]
    },
    {
     "name": "stdout",
     "output_type": "stream",
     "text": [
      "cuda:0\n",
      "cuda:0\n",
      "sigmas_reverse\n",
      "sigmas: tensor([0.0000, 0.8750, 1.0000])\n",
      "Using inversed latents\n",
      "Step 0: t = 0.0\n",
      "Step 1: t = 875.0\n"
     ]
    },
    {
     "name": "stderr",
     "output_type": "stream",
     "text": []
    },
    {
     "name": "stdout",
     "output_type": "stream",
     "text": [
      "Step 0: t_curr = 0.0, t_prev = 875.0\n",
      "t:1\n"
     ]
    },
    {
     "name": "stderr",
     "output_type": "stream",
     "text": []
    },
    {
     "name": "stdout",
     "output_type": "stream",
     "text": [
      "Step 1: t_curr = 875.0, t_prev = 1000.0\n",
      "t:2\n"
     ]
    },
    {
     "name": "stderr",
     "output_type": "stream",
     "text": [
      "100%|██████████| 2/2 [00:08<00:00,  4.39s/it]\n"
     ]
    },
    {
     "name": "stdout",
     "output_type": "stream",
     "text": [
      "cuda:0\n",
      "cuda:0\n",
      "sigmas: tensor([1.0000, 0.8750, 0.0000])\n",
      "Using inversed latents\n",
      "Step 0: t = 1000.0\n",
      "Step 1: t = 875.0\n"
     ]
    },
    {
     "name": "stderr",
     "output_type": "stream",
     "text": []
    },
    {
     "name": "stdout",
     "output_type": "stream",
     "text": [
      "Step 0: t_curr = 1000.0, t_prev = 875.0\n",
      "t:2\n"
     ]
    },
    {
     "name": "stderr",
     "output_type": "stream",
     "text": []
    },
    {
     "name": "stdout",
     "output_type": "stream",
     "text": [
      "Step 1: t_curr = 875.0, t_prev = 0.0\n",
      "t:1\n"
     ]
    },
    {
     "name": "stderr",
     "output_type": "stream",
     "text": [
      "100%|██████████| 2/2 [00:07<00:00,  3.73s/it]\n",
      "\u001b[32m2025-04-04 17:43:32.186\u001b[0m | \u001b[1mINFO    \u001b[0m | \u001b[36mhyvideo.inference\u001b[0m:\u001b[36mpredict\u001b[0m:\u001b[36m709\u001b[0m - \u001b[1mSuccess, time: 51.39167141914368\u001b[0m\n",
      "huggingface/tokenizers: The current process just got forked, after parallelism has already been used. Disabling parallelism to avoid deadlocks...\n",
      "To disable this warning, you can either:\n",
      "\t- Avoid using `tokenizers` before the fork if possible\n",
      "\t- Explicitly set the environment variable TOKENIZERS_PARALLELISM=(true | false)\n",
      "\u001b[32m2025-04-04 17:43:34.765\u001b[0m | \u001b[1mINFO    \u001b[0m | \u001b[36m__main__\u001b[0m:\u001b[36mprocess_sample\u001b[0m:\u001b[36m157\u001b[0m - \u001b[1m保存编辑视频到: ./results/V2VBench/rf-solver_2order/crossing/edit_000.mp4\u001b[0m\n",
      "处理数据集批次:  39%|███▉      | 59/150 [39:56<1:05:30, 43.20s/it]\u001b[32m2025-04-04 17:43:34.801\u001b[0m | \u001b[1mINFO    \u001b[0m | \u001b[36mhyvideo.inference\u001b[0m:\u001b[36mpredict\u001b[0m:\u001b[36m605\u001b[0m - \u001b[1mInput (height, width, video_length) = (512, 512, 25)\u001b[0m\n",
      "\u001b[32m2025-04-04 17:43:35.080\u001b[0m | \u001b[34m\u001b[1mDEBUG   \u001b[0m | \u001b[36mhyvideo.inference\u001b[0m:\u001b[36mpredict\u001b[0m:\u001b[36m665\u001b[0m - \u001b[34m\u001b[1m\n",
      "                        height: 512\n",
      "                         width: 512\n",
      "                  video_length: 25\n",
      "                        prompt: ['pedestrians cross the street at a busy crosswalk in front of a building']\n",
      "                    neg_prompt: ['Aerial view, aerial view, overexposed, low quality, deformation, a poor composition, bad hands, bad teeth, bad eyes, bad limbs, distortion']\n",
      "                          seed: 42\n",
      "                   infer_steps: 2\n",
      "         num_videos_per_prompt: 1\n",
      "                guidance_scale: 1.0\n",
      "                      n_tokens: 7168\n",
      "                    flow_shift: 7.0\n",
      "       embedded_guidance_scale: 2.0\u001b[0m\n"
     ]
    },
    {
     "name": "stdout",
     "output_type": "stream",
     "text": [
      "cuda:0\n",
      "cuda:0\n",
      "sigmas_reverse\n",
      "sigmas: tensor([0.0000, 0.8750, 1.0000])\n",
      "Using inversed latents\n",
      "Step 0: t = 0.0\n",
      "Step 1: t = 875.0\n"
     ]
    },
    {
     "name": "stderr",
     "output_type": "stream",
     "text": []
    },
    {
     "name": "stdout",
     "output_type": "stream",
     "text": [
      "Step 0: t_curr = 0.0, t_prev = 875.0\n",
      "t:1\n"
     ]
    },
    {
     "name": "stderr",
     "output_type": "stream",
     "text": []
    },
    {
     "name": "stdout",
     "output_type": "stream",
     "text": [
      "Step 1: t_curr = 875.0, t_prev = 1000.0\n",
      "t:2\n"
     ]
    },
    {
     "name": "stderr",
     "output_type": "stream",
     "text": [
      "100%|██████████| 2/2 [00:08<00:00,  4.40s/it]\n"
     ]
    },
    {
     "name": "stdout",
     "output_type": "stream",
     "text": [
      "cuda:0\n",
      "cuda:0\n",
      "sigmas: tensor([1.0000, 0.8750, 0.0000])\n",
      "Using inversed latents\n",
      "Step 0: t = 1000.0\n",
      "Step 1: t = 875.0\n"
     ]
    },
    {
     "name": "stderr",
     "output_type": "stream",
     "text": []
    },
    {
     "name": "stdout",
     "output_type": "stream",
     "text": [
      "Step 0: t_curr = 1000.0, t_prev = 875.0\n",
      "t:2\n"
     ]
    },
    {
     "name": "stderr",
     "output_type": "stream",
     "text": []
    },
    {
     "name": "stdout",
     "output_type": "stream",
     "text": [
      "Step 1: t_curr = 875.0, t_prev = 0.0\n",
      "t:1\n"
     ]
    },
    {
     "name": "stderr",
     "output_type": "stream",
     "text": [
      "100%|██████████| 2/2 [00:07<00:00,  3.55s/it]\n",
      "\u001b[32m2025-04-04 17:44:21.367\u001b[0m | \u001b[1mINFO    \u001b[0m | \u001b[36mhyvideo.inference\u001b[0m:\u001b[36mpredict\u001b[0m:\u001b[36m709\u001b[0m - \u001b[1mSuccess, time: 46.28506922721863\u001b[0m\n",
      "huggingface/tokenizers: The current process just got forked, after parallelism has already been used. Disabling parallelism to avoid deadlocks...\n",
      "To disable this warning, you can either:\n",
      "\t- Avoid using `tokenizers` before the fork if possible\n",
      "\t- Explicitly set the environment variable TOKENIZERS_PARALLELISM=(true | false)\n",
      "\u001b[32m2025-04-04 17:44:23.249\u001b[0m | \u001b[1mINFO    \u001b[0m | \u001b[36m__main__\u001b[0m:\u001b[36mprocess_sample\u001b[0m:\u001b[36m157\u001b[0m - \u001b[1m保存编辑视频到: ./results/V2VBench/rf-solver_2order/crossing/edit_001.mp4\u001b[0m\n",
      "处理数据集批次:  40%|████      | 60/150 [40:45<1:06:56, 44.63s/it]\u001b[32m2025-04-04 17:44:23.275\u001b[0m | \u001b[1mINFO    \u001b[0m | \u001b[36mhyvideo.inference\u001b[0m:\u001b[36mpredict\u001b[0m:\u001b[36m605\u001b[0m - \u001b[1mInput (height, width, video_length) = (512, 512, 25)\u001b[0m\n",
      "\u001b[32m2025-04-04 17:44:23.523\u001b[0m | \u001b[34m\u001b[1mDEBUG   \u001b[0m | \u001b[36mhyvideo.inference\u001b[0m:\u001b[36mpredict\u001b[0m:\u001b[36m665\u001b[0m - \u001b[34m\u001b[1m\n",
      "                        height: 512\n",
      "                         width: 512\n",
      "                  video_length: 25\n",
      "                        prompt: ['pedestrians cross the street at a busy crosswalk in front of a building']\n",
      "                    neg_prompt: ['Aerial view, aerial view, overexposed, low quality, deformation, a poor composition, bad hands, bad teeth, bad eyes, bad limbs, distortion']\n",
      "                          seed: 42\n",
      "                   infer_steps: 2\n",
      "         num_videos_per_prompt: 1\n",
      "                guidance_scale: 1.0\n",
      "                      n_tokens: 7168\n",
      "                    flow_shift: 7.0\n",
      "       embedded_guidance_scale: 2.0\u001b[0m\n"
     ]
    },
    {
     "name": "stdout",
     "output_type": "stream",
     "text": [
      "cuda:0\n",
      "cuda:0\n",
      "sigmas_reverse\n",
      "sigmas: tensor([0.0000, 0.8750, 1.0000])\n",
      "Using inversed latents\n",
      "Step 0: t = 0.0\n",
      "Step 1: t = 875.0\n"
     ]
    },
    {
     "name": "stderr",
     "output_type": "stream",
     "text": []
    },
    {
     "name": "stdout",
     "output_type": "stream",
     "text": [
      "Step 0: t_curr = 0.0, t_prev = 875.0\n",
      "t:1\n"
     ]
    },
    {
     "name": "stderr",
     "output_type": "stream",
     "text": []
    },
    {
     "name": "stdout",
     "output_type": "stream",
     "text": [
      "Step 1: t_curr = 875.0, t_prev = 1000.0\n",
      "t:2\n"
     ]
    },
    {
     "name": "stderr",
     "output_type": "stream",
     "text": [
      "100%|██████████| 2/2 [00:08<00:00,  4.02s/it]\n"
     ]
    },
    {
     "name": "stdout",
     "output_type": "stream",
     "text": [
      "cuda:0\n",
      "cuda:0\n",
      "sigmas: tensor([1.0000, 0.8750, 0.0000])\n",
      "Using inversed latents\n",
      "Step 0: t = 1000.0\n",
      "Step 1: t = 875.0\n"
     ]
    },
    {
     "name": "stderr",
     "output_type": "stream",
     "text": []
    },
    {
     "name": "stdout",
     "output_type": "stream",
     "text": [
      "Step 0: t_curr = 1000.0, t_prev = 875.0\n",
      "t:2\n"
     ]
    },
    {
     "name": "stderr",
     "output_type": "stream",
     "text": []
    },
    {
     "name": "stdout",
     "output_type": "stream",
     "text": [
      "Step 1: t_curr = 875.0, t_prev = 0.0\n",
      "t:1\n"
     ]
    },
    {
     "name": "stderr",
     "output_type": "stream",
     "text": [
      "100%|██████████| 2/2 [00:07<00:00,  3.53s/it]\n",
      "\u001b[32m2025-04-04 17:45:06.836\u001b[0m | \u001b[1mINFO    \u001b[0m | \u001b[36mhyvideo.inference\u001b[0m:\u001b[36mpredict\u001b[0m:\u001b[36m709\u001b[0m - \u001b[1mSuccess, time: 43.3118782043457\u001b[0m\n",
      "huggingface/tokenizers: The current process just got forked, after parallelism has already been used. Disabling parallelism to avoid deadlocks...\n",
      "To disable this warning, you can either:\n",
      "\t- Avoid using `tokenizers` before the fork if possible\n",
      "\t- Explicitly set the environment variable TOKENIZERS_PARALLELISM=(true | false)\n",
      "\u001b[32m2025-04-04 17:45:08.486\u001b[0m | \u001b[1mINFO    \u001b[0m | \u001b[36m__main__\u001b[0m:\u001b[36mprocess_sample\u001b[0m:\u001b[36m157\u001b[0m - \u001b[1m保存编辑视频到: ./results/V2VBench/rf-solver_2order/crossing/edit_002.mp4\u001b[0m\n",
      "处理数据集批次:  41%|████      | 61/150 [41:30<1:06:27, 44.80s/it]\u001b[32m2025-04-04 17:45:08.509\u001b[0m | \u001b[1mINFO    \u001b[0m | \u001b[36mhyvideo.inference\u001b[0m:\u001b[36mpredict\u001b[0m:\u001b[36m605\u001b[0m - \u001b[1mInput (height, width, video_length) = (512, 512, 25)\u001b[0m\n",
      "\u001b[32m2025-04-04 17:45:08.700\u001b[0m | \u001b[34m\u001b[1mDEBUG   \u001b[0m | \u001b[36mhyvideo.inference\u001b[0m:\u001b[36mpredict\u001b[0m:\u001b[36m665\u001b[0m - \u001b[34m\u001b[1m\n",
      "                        height: 512\n",
      "                         width: 512\n",
      "                  video_length: 25\n",
      "                        prompt: ['a woman in a blue dress captivates a street crowd with her mesmerizing dance moves']\n",
      "                    neg_prompt: ['Aerial view, aerial view, overexposed, low quality, deformation, a poor composition, bad hands, bad teeth, bad eyes, bad limbs, distortion']\n",
      "                          seed: 42\n",
      "                   infer_steps: 2\n",
      "         num_videos_per_prompt: 1\n",
      "                guidance_scale: 1.0\n",
      "                      n_tokens: 7168\n",
      "                    flow_shift: 7.0\n",
      "       embedded_guidance_scale: 2.0\u001b[0m\n"
     ]
    },
    {
     "name": "stdout",
     "output_type": "stream",
     "text": [
      "cuda:0\n",
      "cuda:0\n",
      "sigmas_reverse\n",
      "sigmas: tensor([0.0000, 0.8750, 1.0000])\n",
      "Using inversed latents\n",
      "Step 0: t = 0.0\n",
      "Step 1: t = 875.0\n"
     ]
    },
    {
     "name": "stderr",
     "output_type": "stream",
     "text": []
    },
    {
     "name": "stdout",
     "output_type": "stream",
     "text": [
      "Step 0: t_curr = 0.0, t_prev = 875.0\n",
      "t:1\n"
     ]
    },
    {
     "name": "stderr",
     "output_type": "stream",
     "text": []
    },
    {
     "name": "stdout",
     "output_type": "stream",
     "text": [
      "Step 1: t_curr = 875.0, t_prev = 1000.0\n",
      "t:2\n"
     ]
    },
    {
     "name": "stderr",
     "output_type": "stream",
     "text": [
      "100%|██████████| 2/2 [00:09<00:00,  4.84s/it]\n"
     ]
    },
    {
     "name": "stdout",
     "output_type": "stream",
     "text": [
      "cuda:0\n",
      "cuda:0\n",
      "sigmas: tensor([1.0000, 0.8750, 0.0000])\n",
      "Using inversed latents\n",
      "Step 0: t = 1000.0\n",
      "Step 1: t = 875.0\n"
     ]
    },
    {
     "name": "stderr",
     "output_type": "stream",
     "text": []
    },
    {
     "name": "stdout",
     "output_type": "stream",
     "text": [
      "Step 0: t_curr = 1000.0, t_prev = 875.0\n",
      "t:2\n"
     ]
    },
    {
     "name": "stderr",
     "output_type": "stream",
     "text": []
    },
    {
     "name": "stdout",
     "output_type": "stream",
     "text": [
      "Step 1: t_curr = 875.0, t_prev = 0.0\n",
      "t:1\n"
     ]
    },
    {
     "name": "stderr",
     "output_type": "stream",
     "text": [
      "100%|██████████| 2/2 [00:07<00:00,  3.56s/it]\n",
      "\u001b[32m2025-04-04 17:45:55.605\u001b[0m | \u001b[1mINFO    \u001b[0m | \u001b[36mhyvideo.inference\u001b[0m:\u001b[36mpredict\u001b[0m:\u001b[36m709\u001b[0m - \u001b[1mSuccess, time: 46.90343117713928\u001b[0m\n",
      "huggingface/tokenizers: The current process just got forked, after parallelism has already been used. Disabling parallelism to avoid deadlocks...\n",
      "To disable this warning, you can either:\n",
      "\t- Avoid using `tokenizers` before the fork if possible\n",
      "\t- Explicitly set the environment variable TOKENIZERS_PARALLELISM=(true | false)\n",
      "\u001b[32m2025-04-04 17:45:57.438\u001b[0m | \u001b[1mINFO    \u001b[0m | \u001b[36m__main__\u001b[0m:\u001b[36mprocess_sample\u001b[0m:\u001b[36m157\u001b[0m - \u001b[1m保存编辑视频到: ./results/V2VBench/rf-solver_2order/dance-twirl/edit_000.mp4\u001b[0m\n",
      "处理数据集批次:  41%|████▏     | 62/150 [42:19<1:07:26, 45.98s/it]\u001b[32m2025-04-04 17:45:57.467\u001b[0m | \u001b[1mINFO    \u001b[0m | \u001b[36mhyvideo.inference\u001b[0m:\u001b[36mpredict\u001b[0m:\u001b[36m605\u001b[0m - \u001b[1mInput (height, width, video_length) = (512, 512, 25)\u001b[0m\n",
      "\u001b[32m2025-04-04 17:45:57.685\u001b[0m | \u001b[34m\u001b[1mDEBUG   \u001b[0m | \u001b[36mhyvideo.inference\u001b[0m:\u001b[36mpredict\u001b[0m:\u001b[36m665\u001b[0m - \u001b[34m\u001b[1m\n",
      "                        height: 512\n",
      "                         width: 512\n",
      "                  video_length: 25\n",
      "                        prompt: ['a woman in a blue dress captivates a street crowd with her mesmerizing dance moves']\n",
      "                    neg_prompt: ['Aerial view, aerial view, overexposed, low quality, deformation, a poor composition, bad hands, bad teeth, bad eyes, bad limbs, distortion']\n",
      "                          seed: 42\n",
      "                   infer_steps: 2\n",
      "         num_videos_per_prompt: 1\n",
      "                guidance_scale: 1.0\n",
      "                      n_tokens: 7168\n",
      "                    flow_shift: 7.0\n",
      "       embedded_guidance_scale: 2.0\u001b[0m\n"
     ]
    },
    {
     "name": "stdout",
     "output_type": "stream",
     "text": [
      "cuda:0\n",
      "cuda:0\n",
      "sigmas_reverse\n",
      "sigmas: tensor([0.0000, 0.8750, 1.0000])\n",
      "Using inversed latents\n",
      "Step 0: t = 0.0\n",
      "Step 1: t = 875.0\n"
     ]
    },
    {
     "name": "stderr",
     "output_type": "stream",
     "text": []
    },
    {
     "name": "stdout",
     "output_type": "stream",
     "text": [
      "Step 0: t_curr = 0.0, t_prev = 875.0\n",
      "t:1\n"
     ]
    },
    {
     "name": "stderr",
     "output_type": "stream",
     "text": []
    },
    {
     "name": "stdout",
     "output_type": "stream",
     "text": [
      "Step 1: t_curr = 875.0, t_prev = 1000.0\n",
      "t:2\n"
     ]
    },
    {
     "name": "stderr",
     "output_type": "stream",
     "text": [
      "100%|██████████| 2/2 [00:08<00:00,  4.20s/it]\n"
     ]
    },
    {
     "name": "stdout",
     "output_type": "stream",
     "text": [
      "cuda:0\n",
      "cuda:0\n",
      "sigmas: tensor([1.0000, 0.8750, 0.0000])\n",
      "Using inversed latents\n",
      "Step 0: t = 1000.0\n",
      "Step 1: t = 875.0\n"
     ]
    },
    {
     "name": "stderr",
     "output_type": "stream",
     "text": []
    },
    {
     "name": "stdout",
     "output_type": "stream",
     "text": [
      "Step 0: t_curr = 1000.0, t_prev = 875.0\n",
      "t:2\n"
     ]
    },
    {
     "name": "stderr",
     "output_type": "stream",
     "text": []
    },
    {
     "name": "stdout",
     "output_type": "stream",
     "text": [
      "Step 1: t_curr = 875.0, t_prev = 0.0\n",
      "t:1\n"
     ]
    },
    {
     "name": "stderr",
     "output_type": "stream",
     "text": [
      "100%|██████████| 2/2 [00:06<00:00,  3.44s/it]\n",
      "\u001b[32m2025-04-04 17:46:41.427\u001b[0m | \u001b[1mINFO    \u001b[0m | \u001b[36mhyvideo.inference\u001b[0m:\u001b[36mpredict\u001b[0m:\u001b[36m709\u001b[0m - \u001b[1mSuccess, time: 43.74032378196716\u001b[0m\n",
      "huggingface/tokenizers: The current process just got forked, after parallelism has already been used. Disabling parallelism to avoid deadlocks...\n",
      "To disable this warning, you can either:\n",
      "\t- Avoid using `tokenizers` before the fork if possible\n",
      "\t- Explicitly set the environment variable TOKENIZERS_PARALLELISM=(true | false)\n",
      "\u001b[32m2025-04-04 17:46:43.838\u001b[0m | \u001b[1mINFO    \u001b[0m | \u001b[36m__main__\u001b[0m:\u001b[36mprocess_sample\u001b[0m:\u001b[36m157\u001b[0m - \u001b[1m保存编辑视频到: ./results/V2VBench/rf-solver_2order/dance-twirl/edit_001.mp4\u001b[0m\n",
      "处理数据集批次:  42%|████▏     | 63/150 [43:05<1:06:50, 46.10s/it]\u001b[32m2025-04-04 17:46:43.864\u001b[0m | \u001b[1mINFO    \u001b[0m | \u001b[36mhyvideo.inference\u001b[0m:\u001b[36mpredict\u001b[0m:\u001b[36m605\u001b[0m - \u001b[1mInput (height, width, video_length) = (512, 512, 25)\u001b[0m\n",
      "\u001b[32m2025-04-04 17:46:44.120\u001b[0m | \u001b[34m\u001b[1mDEBUG   \u001b[0m | \u001b[36mhyvideo.inference\u001b[0m:\u001b[36mpredict\u001b[0m:\u001b[36m665\u001b[0m - \u001b[34m\u001b[1m\n",
      "                        height: 512\n",
      "                         width: 512\n",
      "                  video_length: 25\n",
      "                        prompt: ['a woman in a blue dress captivates a street crowd with her mesmerizing dance moves']\n",
      "                    neg_prompt: ['Aerial view, aerial view, overexposed, low quality, deformation, a poor composition, bad hands, bad teeth, bad eyes, bad limbs, distortion']\n",
      "                          seed: 42\n",
      "                   infer_steps: 2\n",
      "         num_videos_per_prompt: 1\n",
      "                guidance_scale: 1.0\n",
      "                      n_tokens: 7168\n",
      "                    flow_shift: 7.0\n",
      "       embedded_guidance_scale: 2.0\u001b[0m\n"
     ]
    },
    {
     "name": "stdout",
     "output_type": "stream",
     "text": [
      "cuda:0\n",
      "cuda:0\n",
      "sigmas_reverse\n",
      "sigmas: tensor([0.0000, 0.8750, 1.0000])\n",
      "Using inversed latents\n",
      "Step 0: t = 0.0\n",
      "Step 1: t = 875.0\n"
     ]
    },
    {
     "name": "stderr",
     "output_type": "stream",
     "text": []
    },
    {
     "name": "stdout",
     "output_type": "stream",
     "text": [
      "Step 0: t_curr = 0.0, t_prev = 875.0\n",
      "t:1\n"
     ]
    },
    {
     "name": "stderr",
     "output_type": "stream",
     "text": []
    },
    {
     "name": "stdout",
     "output_type": "stream",
     "text": [
      "Step 1: t_curr = 875.0, t_prev = 1000.0\n",
      "t:2\n"
     ]
    },
    {
     "name": "stderr",
     "output_type": "stream",
     "text": [
      "100%|██████████| 2/2 [00:09<00:00,  4.87s/it]\n"
     ]
    },
    {
     "name": "stdout",
     "output_type": "stream",
     "text": [
      "cuda:0\n",
      "cuda:0\n",
      "sigmas: tensor([1.0000, 0.8750, 0.0000])\n",
      "Using inversed latents\n",
      "Step 0: t = 1000.0\n",
      "Step 1: t = 875.0\n"
     ]
    },
    {
     "name": "stderr",
     "output_type": "stream",
     "text": []
    },
    {
     "name": "stdout",
     "output_type": "stream",
     "text": [
      "Step 0: t_curr = 1000.0, t_prev = 875.0\n",
      "t:2\n"
     ]
    },
    {
     "name": "stderr",
     "output_type": "stream",
     "text": []
    },
    {
     "name": "stdout",
     "output_type": "stream",
     "text": [
      "Step 1: t_curr = 875.0, t_prev = 0.0\n",
      "t:1\n"
     ]
    },
    {
     "name": "stderr",
     "output_type": "stream",
     "text": [
      "100%|██████████| 2/2 [00:07<00:00,  3.72s/it]\n",
      "\u001b[32m2025-04-04 17:47:31.339\u001b[0m | \u001b[1mINFO    \u001b[0m | \u001b[36mhyvideo.inference\u001b[0m:\u001b[36mpredict\u001b[0m:\u001b[36m709\u001b[0m - \u001b[1mSuccess, time: 47.217902421951294\u001b[0m\n",
      "huggingface/tokenizers: The current process just got forked, after parallelism has already been used. Disabling parallelism to avoid deadlocks...\n",
      "To disable this warning, you can either:\n",
      "\t- Avoid using `tokenizers` before the fork if possible\n",
      "\t- Explicitly set the environment variable TOKENIZERS_PARALLELISM=(true | false)\n",
      "\u001b[32m2025-04-04 17:47:33.642\u001b[0m | \u001b[1mINFO    \u001b[0m | \u001b[36m__main__\u001b[0m:\u001b[36mprocess_sample\u001b[0m:\u001b[36m157\u001b[0m - \u001b[1m保存编辑视频到: ./results/V2VBench/rf-solver_2order/dance-twirl/edit_002.mp4\u001b[0m\n",
      "处理数据集批次:  43%|████▎     | 64/150 [43:55<1:07:38, 47.19s/it]\u001b[32m2025-04-04 17:47:33.673\u001b[0m | \u001b[1mINFO    \u001b[0m | \u001b[36mhyvideo.inference\u001b[0m:\u001b[36mpredict\u001b[0m:\u001b[36m605\u001b[0m - \u001b[1mInput (height, width, video_length) = (512, 512, 25)\u001b[0m\n",
      "\u001b[32m2025-04-04 17:47:33.913\u001b[0m | \u001b[34m\u001b[1mDEBUG   \u001b[0m | \u001b[36mhyvideo.inference\u001b[0m:\u001b[36mpredict\u001b[0m:\u001b[36m665\u001b[0m - \u001b[34m\u001b[1m\n",
      "                        height: 512\n",
      "                         width: 512\n",
      "                  video_length: 25\n",
      "                        prompt: ['a dog is navigating poles in an obstacle course weaving through poles against a gym backdrop with green grass']\n",
      "                    neg_prompt: ['Aerial view, aerial view, overexposed, low quality, deformation, a poor composition, bad hands, bad teeth, bad eyes, bad limbs, distortion']\n",
      "                          seed: 42\n",
      "                   infer_steps: 2\n",
      "         num_videos_per_prompt: 1\n",
      "                guidance_scale: 1.0\n",
      "                      n_tokens: 7168\n",
      "                    flow_shift: 7.0\n",
      "       embedded_guidance_scale: 2.0\u001b[0m\n"
     ]
    },
    {
     "name": "stdout",
     "output_type": "stream",
     "text": [
      "cuda:0\n",
      "cuda:0\n",
      "sigmas_reverse\n",
      "sigmas: tensor([0.0000, 0.8750, 1.0000])\n",
      "Using inversed latents\n",
      "Step 0: t = 0.0\n",
      "Step 1: t = 875.0\n"
     ]
    },
    {
     "name": "stderr",
     "output_type": "stream",
     "text": []
    },
    {
     "name": "stdout",
     "output_type": "stream",
     "text": [
      "Step 0: t_curr = 0.0, t_prev = 875.0\n",
      "t:1\n"
     ]
    },
    {
     "name": "stderr",
     "output_type": "stream",
     "text": []
    },
    {
     "name": "stdout",
     "output_type": "stream",
     "text": [
      "Step 1: t_curr = 875.0, t_prev = 1000.0\n",
      "t:2\n"
     ]
    },
    {
     "name": "stderr",
     "output_type": "stream",
     "text": [
      "100%|██████████| 2/2 [00:08<00:00,  4.04s/it]\n"
     ]
    },
    {
     "name": "stdout",
     "output_type": "stream",
     "text": [
      "cuda:0\n",
      "cuda:0\n",
      "sigmas: tensor([1.0000, 0.8750, 0.0000])\n",
      "Using inversed latents\n",
      "Step 0: t = 1000.0\n",
      "Step 1: t = 875.0\n"
     ]
    },
    {
     "name": "stderr",
     "output_type": "stream",
     "text": []
    },
    {
     "name": "stdout",
     "output_type": "stream",
     "text": [
      "Step 0: t_curr = 1000.0, t_prev = 875.0\n",
      "t:2\n"
     ]
    },
    {
     "name": "stderr",
     "output_type": "stream",
     "text": []
    },
    {
     "name": "stdout",
     "output_type": "stream",
     "text": [
      "Step 1: t_curr = 875.0, t_prev = 0.0\n",
      "t:1\n"
     ]
    },
    {
     "name": "stderr",
     "output_type": "stream",
     "text": [
      "100%|██████████| 2/2 [00:06<00:00,  3.45s/it]\n",
      "\u001b[32m2025-04-04 17:48:20.003\u001b[0m | \u001b[1mINFO    \u001b[0m | \u001b[36mhyvideo.inference\u001b[0m:\u001b[36mpredict\u001b[0m:\u001b[36m709\u001b[0m - \u001b[1mSuccess, time: 46.08475708961487\u001b[0m\n",
      "huggingface/tokenizers: The current process just got forked, after parallelism has already been used. Disabling parallelism to avoid deadlocks...\n",
      "To disable this warning, you can either:\n",
      "\t- Avoid using `tokenizers` before the fork if possible\n",
      "\t- Explicitly set the environment variable TOKENIZERS_PARALLELISM=(true | false)\n",
      "\u001b[32m2025-04-04 17:48:22.291\u001b[0m | \u001b[1mINFO    \u001b[0m | \u001b[36m__main__\u001b[0m:\u001b[36mprocess_sample\u001b[0m:\u001b[36m157\u001b[0m - \u001b[1m保存编辑视频到: ./results/V2VBench/rf-solver_2order/dog-agility/edit_000.mp4\u001b[0m\n",
      "处理数据集批次:  43%|████▎     | 65/150 [44:44<1:07:27, 47.62s/it]\u001b[32m2025-04-04 17:48:22.321\u001b[0m | \u001b[1mINFO    \u001b[0m | \u001b[36mhyvideo.inference\u001b[0m:\u001b[36mpredict\u001b[0m:\u001b[36m605\u001b[0m - \u001b[1mInput (height, width, video_length) = (512, 512, 25)\u001b[0m\n",
      "\u001b[32m2025-04-04 17:48:22.573\u001b[0m | \u001b[34m\u001b[1mDEBUG   \u001b[0m | \u001b[36mhyvideo.inference\u001b[0m:\u001b[36mpredict\u001b[0m:\u001b[36m665\u001b[0m - \u001b[34m\u001b[1m\n",
      "                        height: 512\n",
      "                         width: 512\n",
      "                  video_length: 25\n",
      "                        prompt: ['a dog is navigating poles in an obstacle course weaving through poles against a gym backdrop with green grass']\n",
      "                    neg_prompt: ['Aerial view, aerial view, overexposed, low quality, deformation, a poor composition, bad hands, bad teeth, bad eyes, bad limbs, distortion']\n",
      "                          seed: 42\n",
      "                   infer_steps: 2\n",
      "         num_videos_per_prompt: 1\n",
      "                guidance_scale: 1.0\n",
      "                      n_tokens: 7168\n",
      "                    flow_shift: 7.0\n",
      "       embedded_guidance_scale: 2.0\u001b[0m\n"
     ]
    },
    {
     "name": "stdout",
     "output_type": "stream",
     "text": [
      "cuda:0\n",
      "cuda:0\n",
      "sigmas_reverse\n",
      "sigmas: tensor([0.0000, 0.8750, 1.0000])\n",
      "Using inversed latents\n",
      "Step 0: t = 0.0\n",
      "Step 1: t = 875.0\n"
     ]
    },
    {
     "name": "stderr",
     "output_type": "stream",
     "text": []
    },
    {
     "name": "stdout",
     "output_type": "stream",
     "text": [
      "Step 0: t_curr = 0.0, t_prev = 875.0\n",
      "t:1\n"
     ]
    },
    {
     "name": "stderr",
     "output_type": "stream",
     "text": []
    },
    {
     "name": "stdout",
     "output_type": "stream",
     "text": [
      "Step 1: t_curr = 875.0, t_prev = 1000.0\n",
      "t:2\n"
     ]
    },
    {
     "name": "stderr",
     "output_type": "stream",
     "text": [
      "100%|██████████| 2/2 [00:09<00:00,  4.86s/it]\n"
     ]
    },
    {
     "name": "stdout",
     "output_type": "stream",
     "text": [
      "cuda:0\n",
      "cuda:0\n",
      "sigmas: tensor([1.0000, 0.8750, 0.0000])\n",
      "Using inversed latents\n",
      "Step 0: t = 1000.0\n",
      "Step 1: t = 875.0\n"
     ]
    },
    {
     "name": "stderr",
     "output_type": "stream",
     "text": []
    },
    {
     "name": "stdout",
     "output_type": "stream",
     "text": [
      "Step 0: t_curr = 1000.0, t_prev = 875.0\n",
      "t:2\n"
     ]
    },
    {
     "name": "stderr",
     "output_type": "stream",
     "text": []
    },
    {
     "name": "stdout",
     "output_type": "stream",
     "text": [
      "Step 1: t_curr = 875.0, t_prev = 0.0\n",
      "t:1\n"
     ]
    },
    {
     "name": "stderr",
     "output_type": "stream",
     "text": [
      "100%|██████████| 2/2 [00:07<00:00,  3.52s/it]\n",
      "\u001b[32m2025-04-04 17:49:09.331\u001b[0m | \u001b[1mINFO    \u001b[0m | \u001b[36mhyvideo.inference\u001b[0m:\u001b[36mpredict\u001b[0m:\u001b[36m709\u001b[0m - \u001b[1mSuccess, time: 46.75614380836487\u001b[0m\n",
      "huggingface/tokenizers: The current process just got forked, after parallelism has already been used. Disabling parallelism to avoid deadlocks...\n",
      "To disable this warning, you can either:\n",
      "\t- Avoid using `tokenizers` before the fork if possible\n",
      "\t- Explicitly set the environment variable TOKENIZERS_PARALLELISM=(true | false)\n",
      "\u001b[32m2025-04-04 17:49:11.280\u001b[0m | \u001b[1mINFO    \u001b[0m | \u001b[36m__main__\u001b[0m:\u001b[36mprocess_sample\u001b[0m:\u001b[36m157\u001b[0m - \u001b[1m保存编辑视频到: ./results/V2VBench/rf-solver_2order/dog-agility/edit_001.mp4\u001b[0m\n",
      "处理数据集批次:  44%|████▍     | 66/150 [45:33<1:07:13, 48.02s/it]\u001b[32m2025-04-04 17:49:11.303\u001b[0m | \u001b[1mINFO    \u001b[0m | \u001b[36mhyvideo.inference\u001b[0m:\u001b[36mpredict\u001b[0m:\u001b[36m605\u001b[0m - \u001b[1mInput (height, width, video_length) = (512, 512, 25)\u001b[0m\n",
      "\u001b[32m2025-04-04 17:49:11.544\u001b[0m | \u001b[34m\u001b[1mDEBUG   \u001b[0m | \u001b[36mhyvideo.inference\u001b[0m:\u001b[36mpredict\u001b[0m:\u001b[36m665\u001b[0m - \u001b[34m\u001b[1m\n",
      "                        height: 512\n",
      "                         width: 512\n",
      "                  video_length: 25\n",
      "                        prompt: ['a dog is navigating poles in an obstacle course weaving through poles against a gym backdrop with green grass']\n",
      "                    neg_prompt: ['Aerial view, aerial view, overexposed, low quality, deformation, a poor composition, bad hands, bad teeth, bad eyes, bad limbs, distortion']\n",
      "                          seed: 42\n",
      "                   infer_steps: 2\n",
      "         num_videos_per_prompt: 1\n",
      "                guidance_scale: 1.0\n",
      "                      n_tokens: 7168\n",
      "                    flow_shift: 7.0\n",
      "       embedded_guidance_scale: 2.0\u001b[0m\n"
     ]
    },
    {
     "name": "stdout",
     "output_type": "stream",
     "text": [
      "cuda:0\n",
      "cuda:0\n",
      "sigmas_reverse\n",
      "sigmas: tensor([0.0000, 0.8750, 1.0000])\n",
      "Using inversed latents\n",
      "Step 0: t = 0.0\n",
      "Step 1: t = 875.0\n"
     ]
    },
    {
     "name": "stderr",
     "output_type": "stream",
     "text": []
    },
    {
     "name": "stdout",
     "output_type": "stream",
     "text": [
      "Step 0: t_curr = 0.0, t_prev = 875.0\n",
      "t:1\n"
     ]
    },
    {
     "name": "stderr",
     "output_type": "stream",
     "text": []
    },
    {
     "name": "stdout",
     "output_type": "stream",
     "text": [
      "Step 1: t_curr = 875.0, t_prev = 1000.0\n",
      "t:2\n"
     ]
    },
    {
     "name": "stderr",
     "output_type": "stream",
     "text": [
      "100%|██████████| 2/2 [00:09<00:00,  4.50s/it]\n"
     ]
    },
    {
     "name": "stdout",
     "output_type": "stream",
     "text": [
      "cuda:0\n",
      "cuda:0\n",
      "sigmas: tensor([1.0000, 0.8750, 0.0000])\n",
      "Using inversed latents\n",
      "Step 0: t = 1000.0\n",
      "Step 1: t = 875.0\n"
     ]
    },
    {
     "name": "stderr",
     "output_type": "stream",
     "text": []
    },
    {
     "name": "stdout",
     "output_type": "stream",
     "text": [
      "Step 0: t_curr = 1000.0, t_prev = 875.0\n",
      "t:2\n"
     ]
    },
    {
     "name": "stderr",
     "output_type": "stream",
     "text": []
    },
    {
     "name": "stdout",
     "output_type": "stream",
     "text": [
      "Step 1: t_curr = 875.0, t_prev = 0.0\n",
      "t:1\n"
     ]
    },
    {
     "name": "stderr",
     "output_type": "stream",
     "text": [
      "100%|██████████| 2/2 [00:07<00:00,  3.78s/it]\n",
      "\u001b[32m2025-04-04 17:49:58.862\u001b[0m | \u001b[1mINFO    \u001b[0m | \u001b[36mhyvideo.inference\u001b[0m:\u001b[36mpredict\u001b[0m:\u001b[36m709\u001b[0m - \u001b[1mSuccess, time: 47.31728935241699\u001b[0m\n",
      "huggingface/tokenizers: The current process just got forked, after parallelism has already been used. Disabling parallelism to avoid deadlocks...\n",
      "To disable this warning, you can either:\n",
      "\t- Avoid using `tokenizers` before the fork if possible\n",
      "\t- Explicitly set the environment variable TOKENIZERS_PARALLELISM=(true | false)\n",
      "\u001b[32m2025-04-04 17:50:01.276\u001b[0m | \u001b[1mINFO    \u001b[0m | \u001b[36m__main__\u001b[0m:\u001b[36mprocess_sample\u001b[0m:\u001b[36m157\u001b[0m - \u001b[1m保存编辑视频到: ./results/V2VBench/rf-solver_2order/dog-agility/edit_002.mp4\u001b[0m\n",
      "处理数据集批次:  45%|████▌     | 68/150 [46:23<51:12, 37.47s/it]  \u001b[32m2025-04-04 17:50:01.305\u001b[0m | \u001b[1mINFO    \u001b[0m | \u001b[36mhyvideo.inference\u001b[0m:\u001b[36mpredict\u001b[0m:\u001b[36m605\u001b[0m - \u001b[1mInput (height, width, video_length) = (512, 512, 25)\u001b[0m\n",
      "\u001b[32m2025-04-04 17:50:01.556\u001b[0m | \u001b[34m\u001b[1mDEBUG   \u001b[0m | \u001b[36mhyvideo.inference\u001b[0m:\u001b[36mpredict\u001b[0m:\u001b[36m665\u001b[0m - \u001b[34m\u001b[1m\n",
      "                        height: 512\n",
      "                         width: 512\n",
      "                  video_length: 25\n",
      "                        prompt: ['flamingos are drinking water by a tree surrounded by blue water and green shores']\n",
      "                    neg_prompt: ['Aerial view, aerial view, overexposed, low quality, deformation, a poor composition, bad hands, bad teeth, bad eyes, bad limbs, distortion']\n",
      "                          seed: 42\n",
      "                   infer_steps: 2\n",
      "         num_videos_per_prompt: 1\n",
      "                guidance_scale: 1.0\n",
      "                      n_tokens: 7168\n",
      "                    flow_shift: 7.0\n",
      "       embedded_guidance_scale: 2.0\u001b[0m\n"
     ]
    },
    {
     "name": "stdout",
     "output_type": "stream",
     "text": [
      "cuda:0\n",
      "cuda:0\n",
      "sigmas_reverse\n",
      "sigmas: tensor([0.0000, 0.8750, 1.0000])\n",
      "Using inversed latents\n",
      "Step 0: t = 0.0\n",
      "Step 1: t = 875.0\n"
     ]
    },
    {
     "name": "stderr",
     "output_type": "stream",
     "text": []
    },
    {
     "name": "stdout",
     "output_type": "stream",
     "text": [
      "Step 0: t_curr = 0.0, t_prev = 875.0\n",
      "t:1\n"
     ]
    },
    {
     "name": "stderr",
     "output_type": "stream",
     "text": []
    },
    {
     "name": "stdout",
     "output_type": "stream",
     "text": [
      "Step 1: t_curr = 875.0, t_prev = 1000.0\n",
      "t:2\n"
     ]
    },
    {
     "name": "stderr",
     "output_type": "stream",
     "text": [
      "100%|██████████| 2/2 [00:09<00:00,  4.64s/it]\n"
     ]
    },
    {
     "name": "stdout",
     "output_type": "stream",
     "text": [
      "cuda:0\n",
      "cuda:0\n",
      "sigmas: tensor([1.0000, 0.8750, 0.0000])\n",
      "Using inversed latents\n",
      "Step 0: t = 1000.0\n",
      "Step 1: t = 875.0\n"
     ]
    },
    {
     "name": "stderr",
     "output_type": "stream",
     "text": []
    },
    {
     "name": "stdout",
     "output_type": "stream",
     "text": [
      "Step 0: t_curr = 1000.0, t_prev = 875.0\n",
      "t:2\n"
     ]
    },
    {
     "name": "stderr",
     "output_type": "stream",
     "text": []
    },
    {
     "name": "stdout",
     "output_type": "stream",
     "text": [
      "Step 1: t_curr = 875.0, t_prev = 0.0\n",
      "t:1\n"
     ]
    },
    {
     "name": "stderr",
     "output_type": "stream",
     "text": [
      "100%|██████████| 2/2 [00:07<00:00,  3.53s/it]\n",
      "\u001b[32m2025-04-04 17:50:47.159\u001b[0m | \u001b[1mINFO    \u001b[0m | \u001b[36mhyvideo.inference\u001b[0m:\u001b[36mpredict\u001b[0m:\u001b[36m709\u001b[0m - \u001b[1mSuccess, time: 45.601640939712524\u001b[0m\n",
      "huggingface/tokenizers: The current process just got forked, after parallelism has already been used. Disabling parallelism to avoid deadlocks...\n",
      "To disable this warning, you can either:\n",
      "\t- Avoid using `tokenizers` before the fork if possible\n",
      "\t- Explicitly set the environment variable TOKENIZERS_PARALLELISM=(true | false)\n",
      "\u001b[32m2025-04-04 17:50:49.279\u001b[0m | \u001b[1mINFO    \u001b[0m | \u001b[36m__main__\u001b[0m:\u001b[36mprocess_sample\u001b[0m:\u001b[36m157\u001b[0m - \u001b[1m保存编辑视频到: ./results/V2VBench/rf-solver_2order/flamingo/edit_000.mp4\u001b[0m\n",
      "处理数据集批次:  46%|████▌     | 69/150 [47:11<54:05, 40.07s/it]\u001b[32m2025-04-04 17:50:49.306\u001b[0m | \u001b[1mINFO    \u001b[0m | \u001b[36mhyvideo.inference\u001b[0m:\u001b[36mpredict\u001b[0m:\u001b[36m605\u001b[0m - \u001b[1mInput (height, width, video_length) = (512, 512, 25)\u001b[0m\n",
      "\u001b[32m2025-04-04 17:50:49.559\u001b[0m | \u001b[34m\u001b[1mDEBUG   \u001b[0m | \u001b[36mhyvideo.inference\u001b[0m:\u001b[36mpredict\u001b[0m:\u001b[36m665\u001b[0m - \u001b[34m\u001b[1m\n",
      "                        height: 512\n",
      "                         width: 512\n",
      "                  video_length: 25\n",
      "                        prompt: ['flamingos are drinking water by a tree surrounded by blue water and green shores']\n",
      "                    neg_prompt: ['Aerial view, aerial view, overexposed, low quality, deformation, a poor composition, bad hands, bad teeth, bad eyes, bad limbs, distortion']\n",
      "                          seed: 42\n",
      "                   infer_steps: 2\n",
      "         num_videos_per_prompt: 1\n",
      "                guidance_scale: 1.0\n",
      "                      n_tokens: 7168\n",
      "                    flow_shift: 7.0\n",
      "       embedded_guidance_scale: 2.0\u001b[0m\n"
     ]
    },
    {
     "name": "stdout",
     "output_type": "stream",
     "text": [
      "cuda:0\n",
      "cuda:0\n",
      "sigmas_reverse\n",
      "sigmas: tensor([0.0000, 0.8750, 1.0000])\n",
      "Using inversed latents\n",
      "Step 0: t = 0.0\n",
      "Step 1: t = 875.0\n"
     ]
    },
    {
     "name": "stderr",
     "output_type": "stream",
     "text": []
    },
    {
     "name": "stdout",
     "output_type": "stream",
     "text": [
      "Step 0: t_curr = 0.0, t_prev = 875.0\n",
      "t:1\n"
     ]
    },
    {
     "name": "stderr",
     "output_type": "stream",
     "text": []
    },
    {
     "name": "stdout",
     "output_type": "stream",
     "text": [
      "Step 1: t_curr = 875.0, t_prev = 1000.0\n",
      "t:2\n"
     ]
    },
    {
     "name": "stderr",
     "output_type": "stream",
     "text": [
      "100%|██████████| 2/2 [00:08<00:00,  4.19s/it]\n"
     ]
    },
    {
     "name": "stdout",
     "output_type": "stream",
     "text": [
      "cuda:0\n",
      "cuda:0\n",
      "sigmas: tensor([1.0000, 0.8750, 0.0000])\n",
      "Using inversed latents\n",
      "Step 0: t = 1000.0\n",
      "Step 1: t = 875.0\n"
     ]
    },
    {
     "name": "stderr",
     "output_type": "stream",
     "text": []
    },
    {
     "name": "stdout",
     "output_type": "stream",
     "text": [
      "Step 0: t_curr = 1000.0, t_prev = 875.0\n",
      "t:2\n"
     ]
    },
    {
     "name": "stderr",
     "output_type": "stream",
     "text": []
    },
    {
     "name": "stdout",
     "output_type": "stream",
     "text": [
      "Step 1: t_curr = 875.0, t_prev = 0.0\n",
      "t:1\n"
     ]
    },
    {
     "name": "stderr",
     "output_type": "stream",
     "text": [
      "100%|██████████| 2/2 [00:06<00:00,  3.46s/it]\n",
      "\u001b[32m2025-04-04 17:51:34.442\u001b[0m | \u001b[1mINFO    \u001b[0m | \u001b[36mhyvideo.inference\u001b[0m:\u001b[36mpredict\u001b[0m:\u001b[36m709\u001b[0m - \u001b[1mSuccess, time: 44.8812460899353\u001b[0m\n",
      "huggingface/tokenizers: The current process just got forked, after parallelism has already been used. Disabling parallelism to avoid deadlocks...\n",
      "To disable this warning, you can either:\n",
      "\t- Avoid using `tokenizers` before the fork if possible\n",
      "\t- Explicitly set the environment variable TOKENIZERS_PARALLELISM=(true | false)\n",
      "\u001b[32m2025-04-04 17:51:36.907\u001b[0m | \u001b[1mINFO    \u001b[0m | \u001b[36m__main__\u001b[0m:\u001b[36mprocess_sample\u001b[0m:\u001b[36m157\u001b[0m - \u001b[1m保存编辑视频到: ./results/V2VBench/rf-solver_2order/flamingo/edit_001.mp4\u001b[0m\n",
      "处理数据集批次:  47%|████▋     | 70/150 [47:58<56:02, 42.04s/it]\u001b[32m2025-04-04 17:51:36.939\u001b[0m | \u001b[1mINFO    \u001b[0m | \u001b[36mhyvideo.inference\u001b[0m:\u001b[36mpredict\u001b[0m:\u001b[36m605\u001b[0m - \u001b[1mInput (height, width, video_length) = (512, 512, 25)\u001b[0m\n",
      "\u001b[32m2025-04-04 17:51:37.215\u001b[0m | \u001b[34m\u001b[1mDEBUG   \u001b[0m | \u001b[36mhyvideo.inference\u001b[0m:\u001b[36mpredict\u001b[0m:\u001b[36m665\u001b[0m - \u001b[34m\u001b[1m\n",
      "                        height: 512\n",
      "                         width: 512\n",
      "                  video_length: 25\n",
      "                        prompt: ['flamingos are drinking water by a tree surrounded by blue water and green shores']\n",
      "                    neg_prompt: ['Aerial view, aerial view, overexposed, low quality, deformation, a poor composition, bad hands, bad teeth, bad eyes, bad limbs, distortion']\n",
      "                          seed: 42\n",
      "                   infer_steps: 2\n",
      "         num_videos_per_prompt: 1\n",
      "                guidance_scale: 1.0\n",
      "                      n_tokens: 7168\n",
      "                    flow_shift: 7.0\n",
      "       embedded_guidance_scale: 2.0\u001b[0m\n"
     ]
    },
    {
     "name": "stdout",
     "output_type": "stream",
     "text": [
      "cuda:0\n",
      "cuda:0\n",
      "sigmas_reverse\n",
      "sigmas: tensor([0.0000, 0.8750, 1.0000])\n",
      "Using inversed latents\n",
      "Step 0: t = 0.0\n",
      "Step 1: t = 875.0\n"
     ]
    },
    {
     "name": "stderr",
     "output_type": "stream",
     "text": []
    },
    {
     "name": "stdout",
     "output_type": "stream",
     "text": [
      "Step 0: t_curr = 0.0, t_prev = 875.0\n",
      "t:1\n"
     ]
    },
    {
     "name": "stderr",
     "output_type": "stream",
     "text": []
    },
    {
     "name": "stdout",
     "output_type": "stream",
     "text": [
      "Step 1: t_curr = 875.0, t_prev = 1000.0\n",
      "t:2\n"
     ]
    },
    {
     "name": "stderr",
     "output_type": "stream",
     "text": [
      "100%|██████████| 2/2 [00:08<00:00,  4.10s/it]\n"
     ]
    },
    {
     "name": "stdout",
     "output_type": "stream",
     "text": [
      "cuda:0\n",
      "cuda:0\n",
      "sigmas: tensor([1.0000, 0.8750, 0.0000])\n",
      "Using inversed latents\n",
      "Step 0: t = 1000.0\n",
      "Step 1: t = 875.0\n"
     ]
    },
    {
     "name": "stderr",
     "output_type": "stream",
     "text": []
    },
    {
     "name": "stdout",
     "output_type": "stream",
     "text": [
      "Step 0: t_curr = 1000.0, t_prev = 875.0\n",
      "t:2\n"
     ]
    },
    {
     "name": "stderr",
     "output_type": "stream",
     "text": []
    },
    {
     "name": "stdout",
     "output_type": "stream",
     "text": [
      "Step 1: t_curr = 875.0, t_prev = 0.0\n",
      "t:1\n"
     ]
    },
    {
     "name": "stderr",
     "output_type": "stream",
     "text": [
      "100%|██████████| 2/2 [00:07<00:00,  3.53s/it]\n",
      "\u001b[32m2025-04-04 17:52:24.592\u001b[0m | \u001b[1mINFO    \u001b[0m | \u001b[36mhyvideo.inference\u001b[0m:\u001b[36mpredict\u001b[0m:\u001b[36m709\u001b[0m - \u001b[1mSuccess, time: 47.375765323638916\u001b[0m\n",
      "huggingface/tokenizers: The current process just got forked, after parallelism has already been used. Disabling parallelism to avoid deadlocks...\n",
      "To disable this warning, you can either:\n",
      "\t- Avoid using `tokenizers` before the fork if possible\n",
      "\t- Explicitly set the environment variable TOKENIZERS_PARALLELISM=(true | false)\n",
      "\u001b[32m2025-04-04 17:52:27.060\u001b[0m | \u001b[1mINFO    \u001b[0m | \u001b[36m__main__\u001b[0m:\u001b[36mprocess_sample\u001b[0m:\u001b[36m157\u001b[0m - \u001b[1m保存编辑视频到: ./results/V2VBench/rf-solver_2order/flamingo/edit_002.mp4\u001b[0m\n",
      "处理数据集批次:  47%|████▋     | 71/150 [48:48<58:14, 44.24s/it]\u001b[32m2025-04-04 17:52:27.089\u001b[0m | \u001b[1mINFO    \u001b[0m | \u001b[36mhyvideo.inference\u001b[0m:\u001b[36mpredict\u001b[0m:\u001b[36m605\u001b[0m - \u001b[1mInput (height, width, video_length) = (512, 512, 25)\u001b[0m\n",
      "\u001b[32m2025-04-04 17:52:27.338\u001b[0m | \u001b[34m\u001b[1mDEBUG   \u001b[0m | \u001b[36mhyvideo.inference\u001b[0m:\u001b[36mpredict\u001b[0m:\u001b[36m665\u001b[0m - \u001b[34m\u001b[1m\n",
      "                        height: 512\n",
      "                         width: 512\n",
      "                  video_length: 25\n",
      "                        prompt: ['a white and blue helicopter is lifting off from the green rooftop of a building near the ocean']\n",
      "                    neg_prompt: ['Aerial view, aerial view, overexposed, low quality, deformation, a poor composition, bad hands, bad teeth, bad eyes, bad limbs, distortion']\n",
      "                          seed: 42\n",
      "                   infer_steps: 2\n",
      "         num_videos_per_prompt: 1\n",
      "                guidance_scale: 1.0\n",
      "                      n_tokens: 7168\n",
      "                    flow_shift: 7.0\n",
      "       embedded_guidance_scale: 2.0\u001b[0m\n"
     ]
    },
    {
     "name": "stdout",
     "output_type": "stream",
     "text": [
      "cuda:0\n",
      "cuda:0\n",
      "sigmas_reverse\n",
      "sigmas: tensor([0.0000, 0.8750, 1.0000])\n",
      "Using inversed latents\n",
      "Step 0: t = 0.0\n",
      "Step 1: t = 875.0\n"
     ]
    },
    {
     "name": "stderr",
     "output_type": "stream",
     "text": []
    },
    {
     "name": "stdout",
     "output_type": "stream",
     "text": [
      "Step 0: t_curr = 0.0, t_prev = 875.0\n",
      "t:1\n"
     ]
    },
    {
     "name": "stderr",
     "output_type": "stream",
     "text": []
    },
    {
     "name": "stdout",
     "output_type": "stream",
     "text": [
      "Step 1: t_curr = 875.0, t_prev = 1000.0\n",
      "t:2\n"
     ]
    },
    {
     "name": "stderr",
     "output_type": "stream",
     "text": [
      "100%|██████████| 2/2 [00:08<00:00,  4.10s/it]\n"
     ]
    },
    {
     "name": "stdout",
     "output_type": "stream",
     "text": [
      "cuda:0\n",
      "cuda:0\n",
      "sigmas: tensor([1.0000, 0.8750, 0.0000])\n",
      "Using inversed latents\n",
      "Step 0: t = 1000.0\n",
      "Step 1: t = 875.0\n"
     ]
    },
    {
     "name": "stderr",
     "output_type": "stream",
     "text": []
    },
    {
     "name": "stdout",
     "output_type": "stream",
     "text": [
      "Step 0: t_curr = 1000.0, t_prev = 875.0\n",
      "t:2\n"
     ]
    },
    {
     "name": "stderr",
     "output_type": "stream",
     "text": []
    },
    {
     "name": "stdout",
     "output_type": "stream",
     "text": [
      "Step 1: t_curr = 875.0, t_prev = 0.0\n",
      "t:1\n"
     ]
    },
    {
     "name": "stderr",
     "output_type": "stream",
     "text": [
      "100%|██████████| 2/2 [00:07<00:00,  3.55s/it]\n",
      "\u001b[32m2025-04-04 17:53:13.334\u001b[0m | \u001b[1mINFO    \u001b[0m | \u001b[36mhyvideo.inference\u001b[0m:\u001b[36mpredict\u001b[0m:\u001b[36m709\u001b[0m - \u001b[1mSuccess, time: 45.99210000038147\u001b[0m\n",
      "huggingface/tokenizers: The current process just got forked, after parallelism has already been used. Disabling parallelism to avoid deadlocks...\n",
      "To disable this warning, you can either:\n",
      "\t- Avoid using `tokenizers` before the fork if possible\n",
      "\t- Explicitly set the environment variable TOKENIZERS_PARALLELISM=(true | false)\n",
      "\u001b[32m2025-04-04 17:53:15.940\u001b[0m | \u001b[1mINFO    \u001b[0m | \u001b[36m__main__\u001b[0m:\u001b[36mprocess_sample\u001b[0m:\u001b[36m157\u001b[0m - \u001b[1m保存编辑视频到: ./results/V2VBench/rf-solver_2order/helicopter/edit_000.mp4\u001b[0m\n",
      "处理数据集批次:  48%|████▊     | 72/150 [49:37<59:11, 45.53s/it]\u001b[32m2025-04-04 17:53:15.969\u001b[0m | \u001b[1mINFO    \u001b[0m | \u001b[36mhyvideo.inference\u001b[0m:\u001b[36mpredict\u001b[0m:\u001b[36m605\u001b[0m - \u001b[1mInput (height, width, video_length) = (512, 512, 25)\u001b[0m\n",
      "\u001b[32m2025-04-04 17:53:16.231\u001b[0m | \u001b[34m\u001b[1mDEBUG   \u001b[0m | \u001b[36mhyvideo.inference\u001b[0m:\u001b[36mpredict\u001b[0m:\u001b[36m665\u001b[0m - \u001b[34m\u001b[1m\n",
      "                        height: 512\n",
      "                         width: 512\n",
      "                  video_length: 25\n",
      "                        prompt: ['a white and blue helicopter is lifting off from the green rooftop of a building near the ocean']\n",
      "                    neg_prompt: ['Aerial view, aerial view, overexposed, low quality, deformation, a poor composition, bad hands, bad teeth, bad eyes, bad limbs, distortion']\n",
      "                          seed: 42\n",
      "                   infer_steps: 2\n",
      "         num_videos_per_prompt: 1\n",
      "                guidance_scale: 1.0\n",
      "                      n_tokens: 7168\n",
      "                    flow_shift: 7.0\n",
      "       embedded_guidance_scale: 2.0\u001b[0m\n"
     ]
    },
    {
     "name": "stdout",
     "output_type": "stream",
     "text": [
      "cuda:0\n",
      "cuda:0\n",
      "sigmas_reverse\n",
      "sigmas: tensor([0.0000, 0.8750, 1.0000])\n",
      "Using inversed latents\n",
      "Step 0: t = 0.0\n",
      "Step 1: t = 875.0\n"
     ]
    },
    {
     "name": "stderr",
     "output_type": "stream",
     "text": []
    },
    {
     "name": "stdout",
     "output_type": "stream",
     "text": [
      "Step 0: t_curr = 0.0, t_prev = 875.0\n",
      "t:1\n"
     ]
    },
    {
     "name": "stderr",
     "output_type": "stream",
     "text": []
    },
    {
     "name": "stdout",
     "output_type": "stream",
     "text": [
      "Step 1: t_curr = 875.0, t_prev = 1000.0\n",
      "t:2\n"
     ]
    },
    {
     "name": "stderr",
     "output_type": "stream",
     "text": [
      "100%|██████████| 2/2 [00:08<00:00,  4.47s/it]\n"
     ]
    },
    {
     "name": "stdout",
     "output_type": "stream",
     "text": [
      "cuda:0\n",
      "cuda:0\n",
      "sigmas: tensor([1.0000, 0.8750, 0.0000])\n",
      "Using inversed latents\n",
      "Step 0: t = 1000.0\n",
      "Step 1: t = 875.0\n"
     ]
    },
    {
     "name": "stderr",
     "output_type": "stream",
     "text": []
    },
    {
     "name": "stdout",
     "output_type": "stream",
     "text": [
      "Step 0: t_curr = 1000.0, t_prev = 875.0\n",
      "t:2\n"
     ]
    },
    {
     "name": "stderr",
     "output_type": "stream",
     "text": []
    },
    {
     "name": "stdout",
     "output_type": "stream",
     "text": [
      "Step 1: t_curr = 875.0, t_prev = 0.0\n",
      "t:1\n"
     ]
    },
    {
     "name": "stderr",
     "output_type": "stream",
     "text": [
      "100%|██████████| 2/2 [00:07<00:00,  3.83s/it]\n",
      "\u001b[32m2025-04-04 17:54:06.483\u001b[0m | \u001b[1mINFO    \u001b[0m | \u001b[36mhyvideo.inference\u001b[0m:\u001b[36mpredict\u001b[0m:\u001b[36m709\u001b[0m - \u001b[1mSuccess, time: 50.25053381919861\u001b[0m\n",
      "huggingface/tokenizers: The current process just got forked, after parallelism has already been used. Disabling parallelism to avoid deadlocks...\n",
      "To disable this warning, you can either:\n",
      "\t- Avoid using `tokenizers` before the fork if possible\n",
      "\t- Explicitly set the environment variable TOKENIZERS_PARALLELISM=(true | false)\n",
      "\u001b[32m2025-04-04 17:54:09.019\u001b[0m | \u001b[1mINFO    \u001b[0m | \u001b[36m__main__\u001b[0m:\u001b[36mprocess_sample\u001b[0m:\u001b[36m157\u001b[0m - \u001b[1m保存编辑视频到: ./results/V2VBench/rf-solver_2order/helicopter/edit_001.mp4\u001b[0m\n",
      "处理数据集批次:  49%|████▊     | 73/150 [50:30<1:01:11, 47.69s/it]\u001b[32m2025-04-04 17:54:09.048\u001b[0m | \u001b[1mINFO    \u001b[0m | \u001b[36mhyvideo.inference\u001b[0m:\u001b[36mpredict\u001b[0m:\u001b[36m605\u001b[0m - \u001b[1mInput (height, width, video_length) = (512, 512, 25)\u001b[0m\n",
      "\u001b[32m2025-04-04 17:54:09.322\u001b[0m | \u001b[34m\u001b[1mDEBUG   \u001b[0m | \u001b[36mhyvideo.inference\u001b[0m:\u001b[36mpredict\u001b[0m:\u001b[36m665\u001b[0m - \u001b[34m\u001b[1m\n",
      "                        height: 512\n",
      "                         width: 512\n",
      "                  video_length: 25\n",
      "                        prompt: ['a white and blue helicopter is lifting off from the green rooftop of a building near the ocean']\n",
      "                    neg_prompt: ['Aerial view, aerial view, overexposed, low quality, deformation, a poor composition, bad hands, bad teeth, bad eyes, bad limbs, distortion']\n",
      "                          seed: 42\n",
      "                   infer_steps: 2\n",
      "         num_videos_per_prompt: 1\n",
      "                guidance_scale: 1.0\n",
      "                      n_tokens: 7168\n",
      "                    flow_shift: 7.0\n",
      "       embedded_guidance_scale: 2.0\u001b[0m\n"
     ]
    },
    {
     "name": "stdout",
     "output_type": "stream",
     "text": [
      "cuda:0\n",
      "cuda:0\n",
      "sigmas_reverse\n",
      "sigmas: tensor([0.0000, 0.8750, 1.0000])\n",
      "Using inversed latents\n",
      "Step 0: t = 0.0\n",
      "Step 1: t = 875.0\n"
     ]
    },
    {
     "name": "stderr",
     "output_type": "stream",
     "text": []
    },
    {
     "name": "stdout",
     "output_type": "stream",
     "text": [
      "Step 0: t_curr = 0.0, t_prev = 875.0\n",
      "t:1\n"
     ]
    },
    {
     "name": "stderr",
     "output_type": "stream",
     "text": []
    },
    {
     "name": "stdout",
     "output_type": "stream",
     "text": [
      "Step 1: t_curr = 875.0, t_prev = 1000.0\n",
      "t:2\n"
     ]
    },
    {
     "name": "stderr",
     "output_type": "stream",
     "text": [
      "100%|██████████| 2/2 [00:08<00:00,  4.11s/it]\n"
     ]
    },
    {
     "name": "stdout",
     "output_type": "stream",
     "text": [
      "cuda:0\n",
      "cuda:0\n",
      "sigmas: tensor([1.0000, 0.8750, 0.0000])\n",
      "Using inversed latents\n",
      "Step 0: t = 1000.0\n",
      "Step 1: t = 875.0\n"
     ]
    },
    {
     "name": "stderr",
     "output_type": "stream",
     "text": []
    },
    {
     "name": "stdout",
     "output_type": "stream",
     "text": [
      "Step 0: t_curr = 1000.0, t_prev = 875.0\n",
      "t:2\n"
     ]
    },
    {
     "name": "stderr",
     "output_type": "stream",
     "text": []
    },
    {
     "name": "stdout",
     "output_type": "stream",
     "text": [
      "Step 1: t_curr = 875.0, t_prev = 0.0\n",
      "t:1\n"
     ]
    },
    {
     "name": "stderr",
     "output_type": "stream",
     "text": [
      "100%|██████████| 2/2 [00:07<00:00,  3.70s/it]\n",
      "\u001b[32m2025-04-04 17:54:58.078\u001b[0m | \u001b[1mINFO    \u001b[0m | \u001b[36mhyvideo.inference\u001b[0m:\u001b[36mpredict\u001b[0m:\u001b[36m709\u001b[0m - \u001b[1mSuccess, time: 48.75449538230896\u001b[0m\n",
      "huggingface/tokenizers: The current process just got forked, after parallelism has already been used. Disabling parallelism to avoid deadlocks...\n",
      "To disable this warning, you can either:\n",
      "\t- Avoid using `tokenizers` before the fork if possible\n",
      "\t- Explicitly set the environment variable TOKENIZERS_PARALLELISM=(true | false)\n",
      "\u001b[32m2025-04-04 17:55:00.531\u001b[0m | \u001b[1mINFO    \u001b[0m | \u001b[36m__main__\u001b[0m:\u001b[36mprocess_sample\u001b[0m:\u001b[36m157\u001b[0m - \u001b[1m保存编辑视频到: ./results/V2VBench/rf-solver_2order/helicopter/edit_002.mp4\u001b[0m\n",
      "处理数据集批次:  49%|████▉     | 74/150 [51:22<1:01:48, 48.79s/it]\u001b[32m2025-04-04 17:55:00.561\u001b[0m | \u001b[1mINFO    \u001b[0m | \u001b[36mhyvideo.inference\u001b[0m:\u001b[36mpredict\u001b[0m:\u001b[36m605\u001b[0m - \u001b[1mInput (height, width, video_length) = (512, 512, 25)\u001b[0m\n",
      "\u001b[32m2025-04-04 17:55:00.817\u001b[0m | \u001b[34m\u001b[1mDEBUG   \u001b[0m | \u001b[36mhyvideo.inference\u001b[0m:\u001b[36mpredict\u001b[0m:\u001b[36m665\u001b[0m - \u001b[34m\u001b[1m\n",
      "                        height: 512\n",
      "                         width: 512\n",
      "                  video_length: 25\n",
      "                        prompt: ['a man with a backpack hikes through the dolomites']\n",
      "                    neg_prompt: ['Aerial view, aerial view, overexposed, low quality, deformation, a poor composition, bad hands, bad teeth, bad eyes, bad limbs, distortion']\n",
      "                          seed: 42\n",
      "                   infer_steps: 2\n",
      "         num_videos_per_prompt: 1\n",
      "                guidance_scale: 1.0\n",
      "                      n_tokens: 7168\n",
      "                    flow_shift: 7.0\n",
      "       embedded_guidance_scale: 2.0\u001b[0m\n"
     ]
    },
    {
     "name": "stdout",
     "output_type": "stream",
     "text": [
      "cuda:0\n",
      "cuda:0\n",
      "sigmas_reverse\n",
      "sigmas: tensor([0.0000, 0.8750, 1.0000])\n",
      "Using inversed latents\n",
      "Step 0: t = 0.0\n",
      "Step 1: t = 875.0\n"
     ]
    },
    {
     "name": "stderr",
     "output_type": "stream",
     "text": []
    },
    {
     "name": "stdout",
     "output_type": "stream",
     "text": [
      "Step 0: t_curr = 0.0, t_prev = 875.0\n",
      "t:1\n"
     ]
    },
    {
     "name": "stderr",
     "output_type": "stream",
     "text": []
    },
    {
     "name": "stdout",
     "output_type": "stream",
     "text": [
      "Step 1: t_curr = 875.0, t_prev = 1000.0\n",
      "t:2\n"
     ]
    },
    {
     "name": "stderr",
     "output_type": "stream",
     "text": [
      "100%|██████████| 2/2 [00:08<00:00,  4.40s/it]\n"
     ]
    },
    {
     "name": "stdout",
     "output_type": "stream",
     "text": [
      "cuda:0\n",
      "cuda:0\n",
      "sigmas: tensor([1.0000, 0.8750, 0.0000])\n",
      "Using inversed latents\n",
      "Step 0: t = 1000.0\n",
      "Step 1: t = 875.0\n"
     ]
    },
    {
     "name": "stderr",
     "output_type": "stream",
     "text": []
    },
    {
     "name": "stdout",
     "output_type": "stream",
     "text": [
      "Step 0: t_curr = 1000.0, t_prev = 875.0\n",
      "t:2\n"
     ]
    },
    {
     "name": "stderr",
     "output_type": "stream",
     "text": []
    },
    {
     "name": "stdout",
     "output_type": "stream",
     "text": [
      "Step 1: t_curr = 875.0, t_prev = 0.0\n",
      "t:1\n"
     ]
    },
    {
     "name": "stderr",
     "output_type": "stream",
     "text": [
      "100%|██████████| 2/2 [00:06<00:00,  3.46s/it]\n",
      "\u001b[32m2025-04-04 17:55:47.171\u001b[0m | \u001b[1mINFO    \u001b[0m | \u001b[36mhyvideo.inference\u001b[0m:\u001b[36mpredict\u001b[0m:\u001b[36m709\u001b[0m - \u001b[1mSuccess, time: 46.34856152534485\u001b[0m\n",
      "huggingface/tokenizers: The current process just got forked, after parallelism has already been used. Disabling parallelism to avoid deadlocks...\n",
      "To disable this warning, you can either:\n",
      "\t- Avoid using `tokenizers` before the fork if possible\n",
      "\t- Explicitly set the environment variable TOKENIZERS_PARALLELISM=(true | false)\n",
      "\u001b[32m2025-04-04 17:55:49.700\u001b[0m | \u001b[1mINFO    \u001b[0m | \u001b[36m__main__\u001b[0m:\u001b[36mprocess_sample\u001b[0m:\u001b[36m157\u001b[0m - \u001b[1m保存编辑视频到: ./results/V2VBench/rf-solver_2order/hike/edit_000.mp4\u001b[0m\n",
      "处理数据集批次:  50%|█████     | 75/150 [52:11<1:01:07, 48.90s/it]\u001b[32m2025-04-04 17:55:49.730\u001b[0m | \u001b[1mINFO    \u001b[0m | \u001b[36mhyvideo.inference\u001b[0m:\u001b[36mpredict\u001b[0m:\u001b[36m605\u001b[0m - \u001b[1mInput (height, width, video_length) = (512, 512, 25)\u001b[0m\n",
      "\u001b[32m2025-04-04 17:55:49.999\u001b[0m | \u001b[34m\u001b[1mDEBUG   \u001b[0m | \u001b[36mhyvideo.inference\u001b[0m:\u001b[36mpredict\u001b[0m:\u001b[36m665\u001b[0m - \u001b[34m\u001b[1m\n",
      "                        height: 512\n",
      "                         width: 512\n",
      "                  video_length: 25\n",
      "                        prompt: ['a man with a backpack hikes through the dolomites']\n",
      "                    neg_prompt: ['Aerial view, aerial view, overexposed, low quality, deformation, a poor composition, bad hands, bad teeth, bad eyes, bad limbs, distortion']\n",
      "                          seed: 42\n",
      "                   infer_steps: 2\n",
      "         num_videos_per_prompt: 1\n",
      "                guidance_scale: 1.0\n",
      "                      n_tokens: 7168\n",
      "                    flow_shift: 7.0\n",
      "       embedded_guidance_scale: 2.0\u001b[0m\n"
     ]
    },
    {
     "name": "stdout",
     "output_type": "stream",
     "text": [
      "cuda:0\n",
      "cuda:0\n",
      "sigmas_reverse\n",
      "sigmas: tensor([0.0000, 0.8750, 1.0000])\n",
      "Using inversed latents\n",
      "Step 0: t = 0.0\n",
      "Step 1: t = 875.0\n"
     ]
    },
    {
     "name": "stderr",
     "output_type": "stream",
     "text": []
    },
    {
     "name": "stdout",
     "output_type": "stream",
     "text": [
      "Step 0: t_curr = 0.0, t_prev = 875.0\n",
      "t:1\n"
     ]
    },
    {
     "name": "stderr",
     "output_type": "stream",
     "text": []
    },
    {
     "name": "stdout",
     "output_type": "stream",
     "text": [
      "Step 1: t_curr = 875.0, t_prev = 1000.0\n",
      "t:2\n"
     ]
    },
    {
     "name": "stderr",
     "output_type": "stream",
     "text": [
      "100%|██████████| 2/2 [00:08<00:00,  4.11s/it]\n"
     ]
    },
    {
     "name": "stdout",
     "output_type": "stream",
     "text": [
      "cuda:0\n",
      "cuda:0\n",
      "sigmas: tensor([1.0000, 0.8750, 0.0000])\n",
      "Using inversed latents\n",
      "Step 0: t = 1000.0\n",
      "Step 1: t = 875.0\n"
     ]
    },
    {
     "name": "stderr",
     "output_type": "stream",
     "text": []
    },
    {
     "name": "stdout",
     "output_type": "stream",
     "text": [
      "Step 0: t_curr = 1000.0, t_prev = 875.0\n",
      "t:2\n"
     ]
    },
    {
     "name": "stderr",
     "output_type": "stream",
     "text": []
    },
    {
     "name": "stdout",
     "output_type": "stream",
     "text": [
      "Step 1: t_curr = 875.0, t_prev = 0.0\n",
      "t:1\n"
     ]
    },
    {
     "name": "stderr",
     "output_type": "stream",
     "text": [
      "100%|██████████| 2/2 [00:07<00:00,  3.75s/it]\n",
      "\u001b[32m2025-04-04 17:56:36.803\u001b[0m | \u001b[1mINFO    \u001b[0m | \u001b[36mhyvideo.inference\u001b[0m:\u001b[36mpredict\u001b[0m:\u001b[36m709\u001b[0m - \u001b[1mSuccess, time: 46.80075168609619\u001b[0m\n",
      "huggingface/tokenizers: The current process just got forked, after parallelism has already been used. Disabling parallelism to avoid deadlocks...\n",
      "To disable this warning, you can either:\n",
      "\t- Avoid using `tokenizers` before the fork if possible\n",
      "\t- Explicitly set the environment variable TOKENIZERS_PARALLELISM=(true | false)\n",
      "\u001b[32m2025-04-04 17:56:39.298\u001b[0m | \u001b[1mINFO    \u001b[0m | \u001b[36m__main__\u001b[0m:\u001b[36mprocess_sample\u001b[0m:\u001b[36m157\u001b[0m - \u001b[1m保存编辑视频到: ./results/V2VBench/rf-solver_2order/hike/edit_001.mp4\u001b[0m\n",
      "处理数据集批次:  51%|█████     | 76/150 [53:01<1:00:34, 49.11s/it]\u001b[32m2025-04-04 17:56:39.327\u001b[0m | \u001b[1mINFO    \u001b[0m | \u001b[36mhyvideo.inference\u001b[0m:\u001b[36mpredict\u001b[0m:\u001b[36m605\u001b[0m - \u001b[1mInput (height, width, video_length) = (512, 512, 25)\u001b[0m\n",
      "\u001b[32m2025-04-04 17:56:39.578\u001b[0m | \u001b[34m\u001b[1mDEBUG   \u001b[0m | \u001b[36mhyvideo.inference\u001b[0m:\u001b[36mpredict\u001b[0m:\u001b[36m665\u001b[0m - \u001b[34m\u001b[1m\n",
      "                        height: 512\n",
      "                         width: 512\n",
      "                  video_length: 25\n",
      "                        prompt: ['a man with a backpack hikes through the dolomites']\n",
      "                    neg_prompt: ['Aerial view, aerial view, overexposed, low quality, deformation, a poor composition, bad hands, bad teeth, bad eyes, bad limbs, distortion']\n",
      "                          seed: 42\n",
      "                   infer_steps: 2\n",
      "         num_videos_per_prompt: 1\n",
      "                guidance_scale: 1.0\n",
      "                      n_tokens: 7168\n",
      "                    flow_shift: 7.0\n",
      "       embedded_guidance_scale: 2.0\u001b[0m\n"
     ]
    },
    {
     "name": "stdout",
     "output_type": "stream",
     "text": [
      "cuda:0\n",
      "cuda:0\n",
      "sigmas_reverse\n",
      "sigmas: tensor([0.0000, 0.8750, 1.0000])\n",
      "Using inversed latents\n",
      "Step 0: t = 0.0\n",
      "Step 1: t = 875.0\n"
     ]
    },
    {
     "name": "stderr",
     "output_type": "stream",
     "text": []
    },
    {
     "name": "stdout",
     "output_type": "stream",
     "text": [
      "Step 0: t_curr = 0.0, t_prev = 875.0\n",
      "t:1\n"
     ]
    },
    {
     "name": "stderr",
     "output_type": "stream",
     "text": []
    },
    {
     "name": "stdout",
     "output_type": "stream",
     "text": [
      "Step 1: t_curr = 875.0, t_prev = 1000.0\n",
      "t:2\n"
     ]
    },
    {
     "name": "stderr",
     "output_type": "stream",
     "text": [
      "100%|██████████| 2/2 [00:08<00:00,  4.48s/it]\n"
     ]
    },
    {
     "name": "stdout",
     "output_type": "stream",
     "text": [
      "cuda:0\n",
      "cuda:0\n",
      "sigmas: tensor([1.0000, 0.8750, 0.0000])\n",
      "Using inversed latents\n",
      "Step 0: t = 1000.0\n",
      "Step 1: t = 875.0\n"
     ]
    },
    {
     "name": "stderr",
     "output_type": "stream",
     "text": []
    },
    {
     "name": "stdout",
     "output_type": "stream",
     "text": [
      "Step 0: t_curr = 1000.0, t_prev = 875.0\n",
      "t:2\n"
     ]
    },
    {
     "name": "stderr",
     "output_type": "stream",
     "text": []
    },
    {
     "name": "stdout",
     "output_type": "stream",
     "text": [
      "Step 1: t_curr = 875.0, t_prev = 0.0\n",
      "t:1\n"
     ]
    },
    {
     "name": "stderr",
     "output_type": "stream",
     "text": [
      "100%|██████████| 2/2 [00:06<00:00,  3.50s/it]\n",
      "\u001b[32m2025-04-04 17:57:24.798\u001b[0m | \u001b[1mINFO    \u001b[0m | \u001b[36mhyvideo.inference\u001b[0m:\u001b[36mpredict\u001b[0m:\u001b[36m709\u001b[0m - \u001b[1mSuccess, time: 45.21853280067444\u001b[0m\n",
      "huggingface/tokenizers: The current process just got forked, after parallelism has already been used. Disabling parallelism to avoid deadlocks...\n",
      "To disable this warning, you can either:\n",
      "\t- Avoid using `tokenizers` before the fork if possible\n",
      "\t- Explicitly set the environment variable TOKENIZERS_PARALLELISM=(true | false)\n",
      "\u001b[32m2025-04-04 17:57:26.825\u001b[0m | \u001b[1mINFO    \u001b[0m | \u001b[36m__main__\u001b[0m:\u001b[36mprocess_sample\u001b[0m:\u001b[36m157\u001b[0m - \u001b[1m保存编辑视频到: ./results/V2VBench/rf-solver_2order/hike/edit_002.mp4\u001b[0m\n",
      "处理数据集批次:  51%|█████▏    | 77/150 [53:48<59:10, 48.64s/it]  \u001b[32m2025-04-04 17:57:26.855\u001b[0m | \u001b[1mINFO    \u001b[0m | \u001b[36mhyvideo.inference\u001b[0m:\u001b[36mpredict\u001b[0m:\u001b[36m605\u001b[0m - \u001b[1mInput (height, width, video_length) = (512, 512, 25)\u001b[0m\n",
      "\u001b[32m2025-04-04 17:57:27.100\u001b[0m | \u001b[34m\u001b[1mDEBUG   \u001b[0m | \u001b[36mhyvideo.inference\u001b[0m:\u001b[36mpredict\u001b[0m:\u001b[36m665\u001b[0m - \u001b[34m\u001b[1m\n",
      "                        height: 512\n",
      "                         width: 512\n",
      "                  video_length: 25\n",
      "                        prompt: ['a man on roller blades is playing inline hockey in an outdoor rink']\n",
      "                    neg_prompt: ['Aerial view, aerial view, overexposed, low quality, deformation, a poor composition, bad hands, bad teeth, bad eyes, bad limbs, distortion']\n",
      "                          seed: 42\n",
      "                   infer_steps: 2\n",
      "         num_videos_per_prompt: 1\n",
      "                guidance_scale: 1.0\n",
      "                      n_tokens: 7168\n",
      "                    flow_shift: 7.0\n",
      "       embedded_guidance_scale: 2.0\u001b[0m\n"
     ]
    },
    {
     "name": "stdout",
     "output_type": "stream",
     "text": [
      "cuda:0\n",
      "cuda:0\n",
      "sigmas_reverse\n",
      "sigmas: tensor([0.0000, 0.8750, 1.0000])\n",
      "Using inversed latents\n",
      "Step 0: t = 0.0\n",
      "Step 1: t = 875.0\n"
     ]
    },
    {
     "name": "stderr",
     "output_type": "stream",
     "text": []
    },
    {
     "name": "stdout",
     "output_type": "stream",
     "text": [
      "Step 0: t_curr = 0.0, t_prev = 875.0\n",
      "t:1\n"
     ]
    },
    {
     "name": "stderr",
     "output_type": "stream",
     "text": []
    },
    {
     "name": "stdout",
     "output_type": "stream",
     "text": [
      "Step 1: t_curr = 875.0, t_prev = 1000.0\n",
      "t:2\n"
     ]
    },
    {
     "name": "stderr",
     "output_type": "stream",
     "text": [
      "100%|██████████| 2/2 [00:08<00:00,  4.01s/it]\n"
     ]
    },
    {
     "name": "stdout",
     "output_type": "stream",
     "text": [
      "cuda:0\n",
      "cuda:0\n",
      "sigmas: tensor([1.0000, 0.8750, 0.0000])\n",
      "Using inversed latents\n",
      "Step 0: t = 1000.0\n",
      "Step 1: t = 875.0\n"
     ]
    },
    {
     "name": "stderr",
     "output_type": "stream",
     "text": []
    },
    {
     "name": "stdout",
     "output_type": "stream",
     "text": [
      "Step 0: t_curr = 1000.0, t_prev = 875.0\n",
      "t:2\n"
     ]
    },
    {
     "name": "stderr",
     "output_type": "stream",
     "text": []
    },
    {
     "name": "stdout",
     "output_type": "stream",
     "text": [
      "Step 1: t_curr = 875.0, t_prev = 0.0\n",
      "t:1\n"
     ]
    },
    {
     "name": "stderr",
     "output_type": "stream",
     "text": [
      "100%|██████████| 2/2 [00:07<00:00,  3.53s/it]\n",
      "\u001b[32m2025-04-04 17:58:12.182\u001b[0m | \u001b[1mINFO    \u001b[0m | \u001b[36mhyvideo.inference\u001b[0m:\u001b[36mpredict\u001b[0m:\u001b[36m709\u001b[0m - \u001b[1mSuccess, time: 45.08067607879639\u001b[0m\n",
      "huggingface/tokenizers: The current process just got forked, after parallelism has already been used. Disabling parallelism to avoid deadlocks...\n",
      "To disable this warning, you can either:\n",
      "\t- Avoid using `tokenizers` before the fork if possible\n",
      "\t- Explicitly set the environment variable TOKENIZERS_PARALLELISM=(true | false)\n",
      "\u001b[32m2025-04-04 17:58:13.884\u001b[0m | \u001b[1mINFO    \u001b[0m | \u001b[36m__main__\u001b[0m:\u001b[36mprocess_sample\u001b[0m:\u001b[36m157\u001b[0m - \u001b[1m保存编辑视频到: ./results/V2VBench/rf-solver_2order/hockey/edit_000.mp4\u001b[0m\n",
      "处理数据集批次:  52%|█████▏    | 78/150 [54:35<57:48, 48.17s/it]\u001b[32m2025-04-04 17:58:13.917\u001b[0m | \u001b[1mINFO    \u001b[0m | \u001b[36mhyvideo.inference\u001b[0m:\u001b[36mpredict\u001b[0m:\u001b[36m605\u001b[0m - \u001b[1mInput (height, width, video_length) = (512, 512, 25)\u001b[0m\n",
      "\u001b[32m2025-04-04 17:58:14.103\u001b[0m | \u001b[34m\u001b[1mDEBUG   \u001b[0m | \u001b[36mhyvideo.inference\u001b[0m:\u001b[36mpredict\u001b[0m:\u001b[36m665\u001b[0m - \u001b[34m\u001b[1m\n",
      "                        height: 512\n",
      "                         width: 512\n",
      "                  video_length: 25\n",
      "                        prompt: ['a man on roller blades is playing inline hockey in an outdoor rink']\n",
      "                    neg_prompt: ['Aerial view, aerial view, overexposed, low quality, deformation, a poor composition, bad hands, bad teeth, bad eyes, bad limbs, distortion']\n",
      "                          seed: 42\n",
      "                   infer_steps: 2\n",
      "         num_videos_per_prompt: 1\n",
      "                guidance_scale: 1.0\n",
      "                      n_tokens: 7168\n",
      "                    flow_shift: 7.0\n",
      "       embedded_guidance_scale: 2.0\u001b[0m\n"
     ]
    },
    {
     "name": "stdout",
     "output_type": "stream",
     "text": [
      "cuda:0\n",
      "cuda:0\n",
      "sigmas_reverse\n",
      "sigmas: tensor([0.0000, 0.8750, 1.0000])\n",
      "Using inversed latents\n",
      "Step 0: t = 0.0\n",
      "Step 1: t = 875.0\n"
     ]
    },
    {
     "name": "stderr",
     "output_type": "stream",
     "text": []
    },
    {
     "name": "stdout",
     "output_type": "stream",
     "text": [
      "Step 0: t_curr = 0.0, t_prev = 875.0\n",
      "t:1\n"
     ]
    },
    {
     "name": "stderr",
     "output_type": "stream",
     "text": []
    },
    {
     "name": "stdout",
     "output_type": "stream",
     "text": [
      "Step 1: t_curr = 875.0, t_prev = 1000.0\n",
      "t:2\n"
     ]
    },
    {
     "name": "stderr",
     "output_type": "stream",
     "text": [
      "100%|██████████| 2/2 [00:08<00:00,  4.05s/it]\n"
     ]
    },
    {
     "name": "stdout",
     "output_type": "stream",
     "text": [
      "cuda:0\n",
      "cuda:0\n",
      "sigmas: tensor([1.0000, 0.8750, 0.0000])\n",
      "Using inversed latents\n",
      "Step 0: t = 1000.0\n",
      "Step 1: t = 875.0\n"
     ]
    },
    {
     "name": "stderr",
     "output_type": "stream",
     "text": []
    },
    {
     "name": "stdout",
     "output_type": "stream",
     "text": [
      "Step 0: t_curr = 1000.0, t_prev = 875.0\n",
      "t:2\n"
     ]
    },
    {
     "name": "stderr",
     "output_type": "stream",
     "text": []
    },
    {
     "name": "stdout",
     "output_type": "stream",
     "text": [
      "Step 1: t_curr = 875.0, t_prev = 0.0\n",
      "t:1\n"
     ]
    },
    {
     "name": "stderr",
     "output_type": "stream",
     "text": [
      "100%|██████████| 2/2 [00:06<00:00,  3.48s/it]\n",
      "\u001b[32m2025-04-04 17:58:57.749\u001b[0m | \u001b[1mINFO    \u001b[0m | \u001b[36mhyvideo.inference\u001b[0m:\u001b[36mpredict\u001b[0m:\u001b[36m709\u001b[0m - \u001b[1mSuccess, time: 43.645071506500244\u001b[0m\n",
      "huggingface/tokenizers: The current process just got forked, after parallelism has already been used. Disabling parallelism to avoid deadlocks...\n",
      "To disable this warning, you can either:\n",
      "\t- Avoid using `tokenizers` before the fork if possible\n",
      "\t- Explicitly set the environment variable TOKENIZERS_PARALLELISM=(true | false)\n",
      "\u001b[32m2025-04-04 17:58:59.255\u001b[0m | \u001b[1mINFO    \u001b[0m | \u001b[36m__main__\u001b[0m:\u001b[36mprocess_sample\u001b[0m:\u001b[36m157\u001b[0m - \u001b[1m保存编辑视频到: ./results/V2VBench/rf-solver_2order/hockey/edit_001.mp4\u001b[0m\n",
      "处理数据集批次:  53%|█████▎    | 80/150 [55:21<42:32, 36.46s/it]\u001b[32m2025-04-04 17:58:59.279\u001b[0m | \u001b[1mINFO    \u001b[0m | \u001b[36mhyvideo.inference\u001b[0m:\u001b[36mpredict\u001b[0m:\u001b[36m605\u001b[0m - \u001b[1mInput (height, width, video_length) = (512, 512, 25)\u001b[0m\n",
      "\u001b[32m2025-04-04 17:58:59.480\u001b[0m | \u001b[34m\u001b[1mDEBUG   \u001b[0m | \u001b[36mhyvideo.inference\u001b[0m:\u001b[36mpredict\u001b[0m:\u001b[36m665\u001b[0m - \u001b[34m\u001b[1m\n",
      "                        height: 512\n",
      "                         width: 512\n",
      "                  video_length: 25\n",
      "                        prompt: ['a man on roller blades is playing inline hockey in an outdoor rink']\n",
      "                    neg_prompt: ['Aerial view, aerial view, overexposed, low quality, deformation, a poor composition, bad hands, bad teeth, bad eyes, bad limbs, distortion']\n",
      "                          seed: 42\n",
      "                   infer_steps: 2\n",
      "         num_videos_per_prompt: 1\n",
      "                guidance_scale: 1.0\n",
      "                      n_tokens: 7168\n",
      "                    flow_shift: 7.0\n",
      "       embedded_guidance_scale: 2.0\u001b[0m\n"
     ]
    },
    {
     "name": "stdout",
     "output_type": "stream",
     "text": [
      "cuda:0\n",
      "cuda:0\n",
      "sigmas_reverse\n",
      "sigmas: tensor([0.0000, 0.8750, 1.0000])\n",
      "Using inversed latents\n",
      "Step 0: t = 0.0\n",
      "Step 1: t = 875.0\n"
     ]
    },
    {
     "name": "stderr",
     "output_type": "stream",
     "text": []
    },
    {
     "name": "stdout",
     "output_type": "stream",
     "text": [
      "Step 0: t_curr = 0.0, t_prev = 875.0\n",
      "t:1\n"
     ]
    },
    {
     "name": "stderr",
     "output_type": "stream",
     "text": []
    },
    {
     "name": "stdout",
     "output_type": "stream",
     "text": [
      "Step 1: t_curr = 875.0, t_prev = 1000.0\n",
      "t:2\n"
     ]
    },
    {
     "name": "stderr",
     "output_type": "stream",
     "text": [
      "100%|██████████| 2/2 [00:08<00:00,  4.01s/it]\n"
     ]
    },
    {
     "name": "stdout",
     "output_type": "stream",
     "text": [
      "cuda:0\n",
      "cuda:0\n",
      "sigmas: tensor([1.0000, 0.8750, 0.0000])\n",
      "Using inversed latents\n",
      "Step 0: t = 1000.0\n",
      "Step 1: t = 875.0\n"
     ]
    },
    {
     "name": "stderr",
     "output_type": "stream",
     "text": []
    },
    {
     "name": "stdout",
     "output_type": "stream",
     "text": [
      "Step 0: t_curr = 1000.0, t_prev = 875.0\n",
      "t:2\n"
     ]
    },
    {
     "name": "stderr",
     "output_type": "stream",
     "text": []
    },
    {
     "name": "stdout",
     "output_type": "stream",
     "text": [
      "Step 1: t_curr = 875.0, t_prev = 0.0\n",
      "t:1\n"
     ]
    },
    {
     "name": "stderr",
     "output_type": "stream",
     "text": [
      "100%|██████████| 2/2 [00:06<00:00,  3.44s/it]\n",
      "\u001b[32m2025-04-04 17:59:40.121\u001b[0m | \u001b[1mINFO    \u001b[0m | \u001b[36mhyvideo.inference\u001b[0m:\u001b[36mpredict\u001b[0m:\u001b[36m709\u001b[0m - \u001b[1mSuccess, time: 40.63982677459717\u001b[0m\n",
      "huggingface/tokenizers: The current process just got forked, after parallelism has already been used. Disabling parallelism to avoid deadlocks...\n",
      "To disable this warning, you can either:\n",
      "\t- Avoid using `tokenizers` before the fork if possible\n",
      "\t- Explicitly set the environment variable TOKENIZERS_PARALLELISM=(true | false)\n",
      "\u001b[32m2025-04-04 17:59:41.802\u001b[0m | \u001b[1mINFO    \u001b[0m | \u001b[36m__main__\u001b[0m:\u001b[36mprocess_sample\u001b[0m:\u001b[36m157\u001b[0m - \u001b[1m保存编辑视频到: ./results/V2VBench/rf-solver_2order/hockey/edit_002.mp4\u001b[0m\n",
      "处理数据集批次:  54%|█████▍    | 81/150 [56:03<43:39, 37.97s/it]\u001b[32m2025-04-04 17:59:41.841\u001b[0m | \u001b[1mINFO    \u001b[0m | \u001b[36mhyvideo.inference\u001b[0m:\u001b[36mpredict\u001b[0m:\u001b[36m605\u001b[0m - \u001b[1mInput (height, width, video_length) = (512, 512, 25)\u001b[0m\n",
      "\u001b[32m2025-04-04 17:59:42.074\u001b[0m | \u001b[34m\u001b[1mDEBUG   \u001b[0m | \u001b[36mhyvideo.inference\u001b[0m:\u001b[36mpredict\u001b[0m:\u001b[36m665\u001b[0m - \u001b[34m\u001b[1m\n",
      "                        height: 512\n",
      "                         width: 512\n",
      "                  video_length: 25\n",
      "                        prompt: ['a rider on horse navigates an obstacle course jumping hurdles']\n",
      "                    neg_prompt: ['Aerial view, aerial view, overexposed, low quality, deformation, a poor composition, bad hands, bad teeth, bad eyes, bad limbs, distortion']\n",
      "                          seed: 42\n",
      "                   infer_steps: 2\n",
      "         num_videos_per_prompt: 1\n",
      "                guidance_scale: 1.0\n",
      "                      n_tokens: 7168\n",
      "                    flow_shift: 7.0\n",
      "       embedded_guidance_scale: 2.0\u001b[0m\n"
     ]
    },
    {
     "name": "stdout",
     "output_type": "stream",
     "text": [
      "cuda:0\n",
      "cuda:0\n",
      "sigmas_reverse\n",
      "sigmas: tensor([0.0000, 0.8750, 1.0000])\n",
      "Using inversed latents\n",
      "Step 0: t = 0.0\n",
      "Step 1: t = 875.0\n"
     ]
    },
    {
     "name": "stderr",
     "output_type": "stream",
     "text": []
    },
    {
     "name": "stdout",
     "output_type": "stream",
     "text": [
      "Step 0: t_curr = 0.0, t_prev = 875.0\n",
      "t:1\n"
     ]
    },
    {
     "name": "stderr",
     "output_type": "stream",
     "text": []
    },
    {
     "name": "stdout",
     "output_type": "stream",
     "text": [
      "Step 1: t_curr = 875.0, t_prev = 1000.0\n",
      "t:2\n"
     ]
    },
    {
     "name": "stderr",
     "output_type": "stream",
     "text": [
      "100%|██████████| 2/2 [00:08<00:00,  4.02s/it]\n"
     ]
    },
    {
     "name": "stdout",
     "output_type": "stream",
     "text": [
      "cuda:0\n",
      "cuda:0\n",
      "sigmas: tensor([1.0000, 0.8750, 0.0000])\n",
      "Using inversed latents\n",
      "Step 0: t = 1000.0\n",
      "Step 1: t = 875.0\n"
     ]
    },
    {
     "name": "stderr",
     "output_type": "stream",
     "text": []
    },
    {
     "name": "stdout",
     "output_type": "stream",
     "text": [
      "Step 0: t_curr = 1000.0, t_prev = 875.0\n",
      "t:2\n"
     ]
    },
    {
     "name": "stderr",
     "output_type": "stream",
     "text": []
    },
    {
     "name": "stdout",
     "output_type": "stream",
     "text": [
      "Step 1: t_curr = 875.0, t_prev = 0.0\n",
      "t:1\n"
     ]
    },
    {
     "name": "stderr",
     "output_type": "stream",
     "text": [
      "100%|██████████| 2/2 [00:06<00:00,  3.43s/it]\n",
      "\u001b[32m2025-04-04 18:00:23.809\u001b[0m | \u001b[1mINFO    \u001b[0m | \u001b[36mhyvideo.inference\u001b[0m:\u001b[36mpredict\u001b[0m:\u001b[36m709\u001b[0m - \u001b[1mSuccess, time: 41.729122161865234\u001b[0m\n",
      "huggingface/tokenizers: The current process just got forked, after parallelism has already been used. Disabling parallelism to avoid deadlocks...\n",
      "To disable this warning, you can either:\n",
      "\t- Avoid using `tokenizers` before the fork if possible\n",
      "\t- Explicitly set the environment variable TOKENIZERS_PARALLELISM=(true | false)\n",
      "\u001b[32m2025-04-04 18:00:25.476\u001b[0m | \u001b[1mINFO    \u001b[0m | \u001b[36m__main__\u001b[0m:\u001b[36mprocess_sample\u001b[0m:\u001b[36m157\u001b[0m - \u001b[1m保存编辑视频到: ./results/V2VBench/rf-solver_2order/horsejump-high/edit_000.mp4\u001b[0m\n",
      "处理数据集批次:  55%|█████▍    | 82/150 [56:47<44:42, 39.46s/it]\u001b[32m2025-04-04 18:00:25.509\u001b[0m | \u001b[1mINFO    \u001b[0m | \u001b[36mhyvideo.inference\u001b[0m:\u001b[36mpredict\u001b[0m:\u001b[36m605\u001b[0m - \u001b[1mInput (height, width, video_length) = (512, 512, 25)\u001b[0m\n",
      "\u001b[32m2025-04-04 18:00:25.703\u001b[0m | \u001b[34m\u001b[1mDEBUG   \u001b[0m | \u001b[36mhyvideo.inference\u001b[0m:\u001b[36mpredict\u001b[0m:\u001b[36m665\u001b[0m - \u001b[34m\u001b[1m\n",
      "                        height: 512\n",
      "                         width: 512\n",
      "                  video_length: 25\n",
      "                        prompt: ['a rider on horse navigates an obstacle course jumping hurdles']\n",
      "                    neg_prompt: ['Aerial view, aerial view, overexposed, low quality, deformation, a poor composition, bad hands, bad teeth, bad eyes, bad limbs, distortion']\n",
      "                          seed: 42\n",
      "                   infer_steps: 2\n",
      "         num_videos_per_prompt: 1\n",
      "                guidance_scale: 1.0\n",
      "                      n_tokens: 7168\n",
      "                    flow_shift: 7.0\n",
      "       embedded_guidance_scale: 2.0\u001b[0m\n"
     ]
    },
    {
     "name": "stdout",
     "output_type": "stream",
     "text": [
      "cuda:0\n",
      "cuda:0\n",
      "sigmas_reverse\n",
      "sigmas: tensor([0.0000, 0.8750, 1.0000])\n",
      "Using inversed latents\n",
      "Step 0: t = 0.0\n",
      "Step 1: t = 875.0\n"
     ]
    },
    {
     "name": "stderr",
     "output_type": "stream",
     "text": []
    },
    {
     "name": "stdout",
     "output_type": "stream",
     "text": [
      "Step 0: t_curr = 0.0, t_prev = 875.0\n",
      "t:1\n"
     ]
    },
    {
     "name": "stderr",
     "output_type": "stream",
     "text": []
    },
    {
     "name": "stdout",
     "output_type": "stream",
     "text": [
      "Step 1: t_curr = 875.0, t_prev = 1000.0\n",
      "t:2\n"
     ]
    },
    {
     "name": "stderr",
     "output_type": "stream",
     "text": [
      "100%|██████████| 2/2 [00:08<00:00,  4.08s/it]\n"
     ]
    },
    {
     "name": "stdout",
     "output_type": "stream",
     "text": [
      "cuda:0\n",
      "cuda:0\n",
      "sigmas: tensor([1.0000, 0.8750, 0.0000])\n",
      "Using inversed latents\n",
      "Step 0: t = 1000.0\n",
      "Step 1: t = 875.0\n"
     ]
    },
    {
     "name": "stderr",
     "output_type": "stream",
     "text": []
    },
    {
     "name": "stdout",
     "output_type": "stream",
     "text": [
      "Step 0: t_curr = 1000.0, t_prev = 875.0\n",
      "t:2\n"
     ]
    },
    {
     "name": "stderr",
     "output_type": "stream",
     "text": []
    },
    {
     "name": "stdout",
     "output_type": "stream",
     "text": [
      "Step 1: t_curr = 875.0, t_prev = 0.0\n",
      "t:1\n"
     ]
    },
    {
     "name": "stderr",
     "output_type": "stream",
     "text": [
      "100%|██████████| 2/2 [00:06<00:00,  3.49s/it]\n",
      "\u001b[32m2025-04-04 18:01:14.780\u001b[0m | \u001b[1mINFO    \u001b[0m | \u001b[36mhyvideo.inference\u001b[0m:\u001b[36mpredict\u001b[0m:\u001b[36m709\u001b[0m - \u001b[1mSuccess, time: 49.076231718063354\u001b[0m\n",
      "huggingface/tokenizers: The current process just got forked, after parallelism has already been used. Disabling parallelism to avoid deadlocks...\n",
      "To disable this warning, you can either:\n",
      "\t- Avoid using `tokenizers` before the fork if possible\n",
      "\t- Explicitly set the environment variable TOKENIZERS_PARALLELISM=(true | false)\n",
      "\u001b[32m2025-04-04 18:01:16.390\u001b[0m | \u001b[1mINFO    \u001b[0m | \u001b[36m__main__\u001b[0m:\u001b[36mprocess_sample\u001b[0m:\u001b[36m157\u001b[0m - \u001b[1m保存编辑视频到: ./results/V2VBench/rf-solver_2order/horsejump-high/edit_001.mp4\u001b[0m\n",
      "处理数据集批次:  55%|█████▌    | 83/150 [57:38<47:31, 42.57s/it]\u001b[32m2025-04-04 18:01:16.421\u001b[0m | \u001b[1mINFO    \u001b[0m | \u001b[36mhyvideo.inference\u001b[0m:\u001b[36mpredict\u001b[0m:\u001b[36m605\u001b[0m - \u001b[1mInput (height, width, video_length) = (512, 512, 25)\u001b[0m\n",
      "\u001b[32m2025-04-04 18:01:16.619\u001b[0m | \u001b[34m\u001b[1mDEBUG   \u001b[0m | \u001b[36mhyvideo.inference\u001b[0m:\u001b[36mpredict\u001b[0m:\u001b[36m665\u001b[0m - \u001b[34m\u001b[1m\n",
      "                        height: 512\n",
      "                         width: 512\n",
      "                  video_length: 25\n",
      "                        prompt: ['a rider on horse navigates an obstacle course jumping hurdles']\n",
      "                    neg_prompt: ['Aerial view, aerial view, overexposed, low quality, deformation, a poor composition, bad hands, bad teeth, bad eyes, bad limbs, distortion']\n",
      "                          seed: 42\n",
      "                   infer_steps: 2\n",
      "         num_videos_per_prompt: 1\n",
      "                guidance_scale: 1.0\n",
      "                      n_tokens: 7168\n",
      "                    flow_shift: 7.0\n",
      "       embedded_guidance_scale: 2.0\u001b[0m\n"
     ]
    },
    {
     "name": "stdout",
     "output_type": "stream",
     "text": [
      "cuda:0\n",
      "cuda:0\n",
      "sigmas_reverse\n",
      "sigmas: tensor([0.0000, 0.8750, 1.0000])\n",
      "Using inversed latents\n",
      "Step 0: t = 0.0\n",
      "Step 1: t = 875.0\n"
     ]
    },
    {
     "name": "stderr",
     "output_type": "stream",
     "text": []
    },
    {
     "name": "stdout",
     "output_type": "stream",
     "text": [
      "Step 0: t_curr = 0.0, t_prev = 875.0\n",
      "t:1\n"
     ]
    },
    {
     "name": "stderr",
     "output_type": "stream",
     "text": []
    },
    {
     "name": "stdout",
     "output_type": "stream",
     "text": [
      "Step 1: t_curr = 875.0, t_prev = 1000.0\n",
      "t:2\n"
     ]
    },
    {
     "name": "stderr",
     "output_type": "stream",
     "text": [
      "100%|██████████| 2/2 [00:08<00:00,  4.33s/it]\n"
     ]
    },
    {
     "name": "stdout",
     "output_type": "stream",
     "text": [
      "cuda:0\n",
      "cuda:0\n",
      "sigmas: tensor([1.0000, 0.8750, 0.0000])\n",
      "Using inversed latents\n",
      "Step 0: t = 1000.0\n",
      "Step 1: t = 875.0\n"
     ]
    },
    {
     "name": "stderr",
     "output_type": "stream",
     "text": []
    },
    {
     "name": "stdout",
     "output_type": "stream",
     "text": [
      "Step 0: t_curr = 1000.0, t_prev = 875.0\n",
      "t:2\n"
     ]
    },
    {
     "name": "stderr",
     "output_type": "stream",
     "text": []
    },
    {
     "name": "stdout",
     "output_type": "stream",
     "text": [
      "Step 1: t_curr = 875.0, t_prev = 0.0\n",
      "t:1\n"
     ]
    },
    {
     "name": "stderr",
     "output_type": "stream",
     "text": [
      "100%|██████████| 2/2 [00:06<00:00,  3.46s/it]\n",
      "\u001b[32m2025-04-04 18:02:00.671\u001b[0m | \u001b[1mINFO    \u001b[0m | \u001b[36mhyvideo.inference\u001b[0m:\u001b[36mpredict\u001b[0m:\u001b[36m709\u001b[0m - \u001b[1mSuccess, time: 44.0451135635376\u001b[0m\n",
      "huggingface/tokenizers: The current process just got forked, after parallelism has already been used. Disabling parallelism to avoid deadlocks...\n",
      "To disable this warning, you can either:\n",
      "\t- Avoid using `tokenizers` before the fork if possible\n",
      "\t- Explicitly set the environment variable TOKENIZERS_PARALLELISM=(true | false)\n",
      "\u001b[32m2025-04-04 18:02:02.376\u001b[0m | \u001b[1mINFO    \u001b[0m | \u001b[36m__main__\u001b[0m:\u001b[36mprocess_sample\u001b[0m:\u001b[36m157\u001b[0m - \u001b[1m保存编辑视频到: ./results/V2VBench/rf-solver_2order/horsejump-high/edit_002.mp4\u001b[0m\n",
      "处理数据集批次:  56%|█████▌    | 84/150 [58:24<47:52, 43.52s/it]\u001b[32m2025-04-04 18:02:02.409\u001b[0m | \u001b[1mINFO    \u001b[0m | \u001b[36mhyvideo.inference\u001b[0m:\u001b[36mpredict\u001b[0m:\u001b[36m605\u001b[0m - \u001b[1mInput (height, width, video_length) = (512, 512, 25)\u001b[0m\n",
      "\u001b[32m2025-04-04 18:02:02.619\u001b[0m | \u001b[34m\u001b[1mDEBUG   \u001b[0m | \u001b[36mhyvideo.inference\u001b[0m:\u001b[36mpredict\u001b[0m:\u001b[36m665\u001b[0m - \u001b[34m\u001b[1m\n",
      "                        height: 512\n",
      "                         width: 512\n",
      "                  video_length: 25\n",
      "                        prompt: ['a drop of orange ink falling onto a white water']\n",
      "                    neg_prompt: ['Aerial view, aerial view, overexposed, low quality, deformation, a poor composition, bad hands, bad teeth, bad eyes, bad limbs, distortion']\n",
      "                          seed: 42\n",
      "                   infer_steps: 2\n",
      "         num_videos_per_prompt: 1\n",
      "                guidance_scale: 1.0\n",
      "                      n_tokens: 7168\n",
      "                    flow_shift: 7.0\n",
      "       embedded_guidance_scale: 2.0\u001b[0m\n"
     ]
    },
    {
     "name": "stdout",
     "output_type": "stream",
     "text": [
      "cuda:0\n",
      "cuda:0\n",
      "sigmas_reverse\n",
      "sigmas: tensor([0.0000, 0.8750, 1.0000])\n",
      "Using inversed latents\n",
      "Step 0: t = 0.0\n",
      "Step 1: t = 875.0\n"
     ]
    },
    {
     "name": "stderr",
     "output_type": "stream",
     "text": []
    },
    {
     "name": "stdout",
     "output_type": "stream",
     "text": [
      "Step 0: t_curr = 0.0, t_prev = 875.0\n",
      "t:1\n"
     ]
    },
    {
     "name": "stderr",
     "output_type": "stream",
     "text": []
    },
    {
     "name": "stdout",
     "output_type": "stream",
     "text": [
      "Step 1: t_curr = 875.0, t_prev = 1000.0\n",
      "t:2\n"
     ]
    },
    {
     "name": "stderr",
     "output_type": "stream",
     "text": [
      "100%|██████████| 2/2 [00:08<00:00,  4.15s/it]\n"
     ]
    },
    {
     "name": "stdout",
     "output_type": "stream",
     "text": [
      "cuda:0\n",
      "cuda:0\n",
      "sigmas: tensor([1.0000, 0.8750, 0.0000])\n",
      "Using inversed latents\n",
      "Step 0: t = 1000.0\n",
      "Step 1: t = 875.0\n"
     ]
    },
    {
     "name": "stderr",
     "output_type": "stream",
     "text": []
    },
    {
     "name": "stdout",
     "output_type": "stream",
     "text": [
      "Step 0: t_curr = 1000.0, t_prev = 875.0\n",
      "t:2\n"
     ]
    },
    {
     "name": "stderr",
     "output_type": "stream",
     "text": []
    },
    {
     "name": "stdout",
     "output_type": "stream",
     "text": [
      "Step 1: t_curr = 875.0, t_prev = 0.0\n",
      "t:1\n"
     ]
    },
    {
     "name": "stderr",
     "output_type": "stream",
     "text": [
      "100%|██████████| 2/2 [00:07<00:00,  3.71s/it]\n",
      "\u001b[32m2025-04-04 18:02:43.219\u001b[0m | \u001b[1mINFO    \u001b[0m | \u001b[36mhyvideo.inference\u001b[0m:\u001b[36mpredict\u001b[0m:\u001b[36m709\u001b[0m - \u001b[1mSuccess, time: 40.59758234024048\u001b[0m\n",
      "huggingface/tokenizers: The current process just got forked, after parallelism has already been used. Disabling parallelism to avoid deadlocks...\n",
      "To disable this warning, you can either:\n",
      "\t- Avoid using `tokenizers` before the fork if possible\n",
      "\t- Explicitly set the environment variable TOKENIZERS_PARALLELISM=(true | false)\n",
      "\u001b[32m2025-04-04 18:02:44.826\u001b[0m | \u001b[1mINFO    \u001b[0m | \u001b[36m__main__\u001b[0m:\u001b[36mprocess_sample\u001b[0m:\u001b[36m157\u001b[0m - \u001b[1m保存编辑视频到: ./results/V2VBench/rf-solver_2order/ink/edit_000.mp4\u001b[0m\n",
      "处理数据集批次:  57%|█████▋    | 85/150 [59:06<46:49, 43.22s/it]\u001b[32m2025-04-04 18:02:44.859\u001b[0m | \u001b[1mINFO    \u001b[0m | \u001b[36mhyvideo.inference\u001b[0m:\u001b[36mpredict\u001b[0m:\u001b[36m605\u001b[0m - \u001b[1mInput (height, width, video_length) = (512, 512, 25)\u001b[0m\n",
      "\u001b[32m2025-04-04 18:02:45.064\u001b[0m | \u001b[34m\u001b[1mDEBUG   \u001b[0m | \u001b[36mhyvideo.inference\u001b[0m:\u001b[36mpredict\u001b[0m:\u001b[36m665\u001b[0m - \u001b[34m\u001b[1m\n",
      "                        height: 512\n",
      "                         width: 512\n",
      "                  video_length: 25\n",
      "                        prompt: ['a drop of orange ink falling onto a white water']\n",
      "                    neg_prompt: ['Aerial view, aerial view, overexposed, low quality, deformation, a poor composition, bad hands, bad teeth, bad eyes, bad limbs, distortion']\n",
      "                          seed: 42\n",
      "                   infer_steps: 2\n",
      "         num_videos_per_prompt: 1\n",
      "                guidance_scale: 1.0\n",
      "                      n_tokens: 7168\n",
      "                    flow_shift: 7.0\n",
      "       embedded_guidance_scale: 2.0\u001b[0m\n"
     ]
    },
    {
     "name": "stdout",
     "output_type": "stream",
     "text": [
      "cuda:0\n",
      "cuda:0\n",
      "sigmas_reverse\n",
      "sigmas: tensor([0.0000, 0.8750, 1.0000])\n",
      "Using inversed latents\n",
      "Step 0: t = 0.0\n",
      "Step 1: t = 875.0\n"
     ]
    },
    {
     "name": "stderr",
     "output_type": "stream",
     "text": []
    },
    {
     "name": "stdout",
     "output_type": "stream",
     "text": [
      "Step 0: t_curr = 0.0, t_prev = 875.0\n",
      "t:1\n"
     ]
    },
    {
     "name": "stderr",
     "output_type": "stream",
     "text": []
    },
    {
     "name": "stdout",
     "output_type": "stream",
     "text": [
      "Step 1: t_curr = 875.0, t_prev = 1000.0\n",
      "t:2\n"
     ]
    },
    {
     "name": "stderr",
     "output_type": "stream",
     "text": [
      "100%|██████████| 2/2 [00:08<00:00,  4.14s/it]\n"
     ]
    },
    {
     "name": "stdout",
     "output_type": "stream",
     "text": [
      "cuda:0\n",
      "cuda:0\n",
      "sigmas: tensor([1.0000, 0.8750, 0.0000])\n",
      "Using inversed latents\n",
      "Step 0: t = 1000.0\n",
      "Step 1: t = 875.0\n"
     ]
    },
    {
     "name": "stderr",
     "output_type": "stream",
     "text": []
    },
    {
     "name": "stdout",
     "output_type": "stream",
     "text": [
      "Step 0: t_curr = 1000.0, t_prev = 875.0\n",
      "t:2\n"
     ]
    },
    {
     "name": "stderr",
     "output_type": "stream",
     "text": []
    },
    {
     "name": "stdout",
     "output_type": "stream",
     "text": [
      "Step 1: t_curr = 875.0, t_prev = 0.0\n",
      "t:1\n"
     ]
    },
    {
     "name": "stderr",
     "output_type": "stream",
     "text": [
      "100%|██████████| 2/2 [00:06<00:00,  3.47s/it]\n",
      "\u001b[32m2025-04-04 18:03:29.981\u001b[0m | \u001b[1mINFO    \u001b[0m | \u001b[36mhyvideo.inference\u001b[0m:\u001b[36mpredict\u001b[0m:\u001b[36m709\u001b[0m - \u001b[1mSuccess, time: 44.91159009933472\u001b[0m\n",
      "huggingface/tokenizers: The current process just got forked, after parallelism has already been used. Disabling parallelism to avoid deadlocks...\n",
      "To disable this warning, you can either:\n",
      "\t- Avoid using `tokenizers` before the fork if possible\n",
      "\t- Explicitly set the environment variable TOKENIZERS_PARALLELISM=(true | false)\n",
      "\u001b[32m2025-04-04 18:03:32.169\u001b[0m | \u001b[1mINFO    \u001b[0m | \u001b[36m__main__\u001b[0m:\u001b[36mprocess_sample\u001b[0m:\u001b[36m157\u001b[0m - \u001b[1m保存编辑视频到: ./results/V2VBench/rf-solver_2order/ink/edit_001.mp4\u001b[0m\n",
      "处理数据集批次:  57%|█████▋    | 86/150 [59:54<47:22, 44.41s/it]\u001b[32m2025-04-04 18:03:32.201\u001b[0m | \u001b[1mINFO    \u001b[0m | \u001b[36mhyvideo.inference\u001b[0m:\u001b[36mpredict\u001b[0m:\u001b[36m605\u001b[0m - \u001b[1mInput (height, width, video_length) = (512, 512, 25)\u001b[0m\n",
      "\u001b[32m2025-04-04 18:03:32.451\u001b[0m | \u001b[34m\u001b[1mDEBUG   \u001b[0m | \u001b[36mhyvideo.inference\u001b[0m:\u001b[36mpredict\u001b[0m:\u001b[36m665\u001b[0m - \u001b[34m\u001b[1m\n",
      "                        height: 512\n",
      "                         width: 512\n",
      "                  video_length: 25\n",
      "                        prompt: ['a drop of orange ink falling onto a white water']\n",
      "                    neg_prompt: ['Aerial view, aerial view, overexposed, low quality, deformation, a poor composition, bad hands, bad teeth, bad eyes, bad limbs, distortion']\n",
      "                          seed: 42\n",
      "                   infer_steps: 2\n",
      "         num_videos_per_prompt: 1\n",
      "                guidance_scale: 1.0\n",
      "                      n_tokens: 7168\n",
      "                    flow_shift: 7.0\n",
      "       embedded_guidance_scale: 2.0\u001b[0m\n"
     ]
    },
    {
     "name": "stdout",
     "output_type": "stream",
     "text": [
      "cuda:0\n",
      "cuda:0\n",
      "sigmas_reverse\n",
      "sigmas: tensor([0.0000, 0.8750, 1.0000])\n",
      "Using inversed latents\n",
      "Step 0: t = 0.0\n",
      "Step 1: t = 875.0\n"
     ]
    },
    {
     "name": "stderr",
     "output_type": "stream",
     "text": []
    },
    {
     "name": "stdout",
     "output_type": "stream",
     "text": [
      "Step 0: t_curr = 0.0, t_prev = 875.0\n",
      "t:1\n"
     ]
    },
    {
     "name": "stderr",
     "output_type": "stream",
     "text": []
    },
    {
     "name": "stdout",
     "output_type": "stream",
     "text": [
      "Step 1: t_curr = 875.0, t_prev = 1000.0\n",
      "t:2\n"
     ]
    },
    {
     "name": "stderr",
     "output_type": "stream",
     "text": [
      "100%|██████████| 2/2 [00:09<00:00,  4.90s/it]\n"
     ]
    },
    {
     "name": "stdout",
     "output_type": "stream",
     "text": [
      "cuda:0\n",
      "cuda:0\n",
      "sigmas: tensor([1.0000, 0.8750, 0.0000])\n",
      "Using inversed latents\n",
      "Step 0: t = 1000.0\n",
      "Step 1: t = 875.0\n"
     ]
    },
    {
     "name": "stderr",
     "output_type": "stream",
     "text": []
    },
    {
     "name": "stdout",
     "output_type": "stream",
     "text": [
      "Step 0: t_curr = 1000.0, t_prev = 875.0\n",
      "t:2\n"
     ]
    },
    {
     "name": "stderr",
     "output_type": "stream",
     "text": []
    },
    {
     "name": "stdout",
     "output_type": "stream",
     "text": [
      "Step 1: t_curr = 875.0, t_prev = 0.0\n",
      "t:1\n"
     ]
    },
    {
     "name": "stderr",
     "output_type": "stream",
     "text": [
      "100%|██████████| 2/2 [00:07<00:00,  3.79s/it]\n",
      "\u001b[32m2025-04-04 18:04:22.375\u001b[0m | \u001b[1mINFO    \u001b[0m | \u001b[36mhyvideo.inference\u001b[0m:\u001b[36mpredict\u001b[0m:\u001b[36m709\u001b[0m - \u001b[1mSuccess, time: 49.92276358604431\u001b[0m\n",
      "huggingface/tokenizers: The current process just got forked, after parallelism has already been used. Disabling parallelism to avoid deadlocks...\n",
      "To disable this warning, you can either:\n",
      "\t- Avoid using `tokenizers` before the fork if possible\n",
      "\t- Explicitly set the environment variable TOKENIZERS_PARALLELISM=(true | false)\n",
      "\u001b[32m2025-04-04 18:04:24.393\u001b[0m | \u001b[1mINFO    \u001b[0m | \u001b[36m__main__\u001b[0m:\u001b[36mprocess_sample\u001b[0m:\u001b[36m157\u001b[0m - \u001b[1m保存编辑视频到: ./results/V2VBench/rf-solver_2order/ink/edit_002.mp4\u001b[0m\n",
      "处理数据集批次:  58%|█████▊    | 87/150 [1:00:46<49:01, 46.70s/it]\u001b[32m2025-04-04 18:04:24.419\u001b[0m | \u001b[1mINFO    \u001b[0m | \u001b[36mhyvideo.inference\u001b[0m:\u001b[36mpredict\u001b[0m:\u001b[36m605\u001b[0m - \u001b[1mInput (height, width, video_length) = (512, 512, 25)\u001b[0m\n",
      "\u001b[32m2025-04-04 18:04:24.669\u001b[0m | \u001b[34m\u001b[1mDEBUG   \u001b[0m | \u001b[36mhyvideo.inference\u001b[0m:\u001b[36mpredict\u001b[0m:\u001b[36m665\u001b[0m - \u001b[34m\u001b[1m\n",
      "                        height: 512\n",
      "                         width: 512\n",
      "                  video_length: 25\n",
      "                        prompt: ['blue ocean with mesmerizing footage of striped jellyfish']\n",
      "                    neg_prompt: ['Aerial view, aerial view, overexposed, low quality, deformation, a poor composition, bad hands, bad teeth, bad eyes, bad limbs, distortion']\n",
      "                          seed: 42\n",
      "                   infer_steps: 2\n",
      "         num_videos_per_prompt: 1\n",
      "                guidance_scale: 1.0\n",
      "                      n_tokens: 7168\n",
      "                    flow_shift: 7.0\n",
      "       embedded_guidance_scale: 2.0\u001b[0m\n"
     ]
    },
    {
     "name": "stdout",
     "output_type": "stream",
     "text": [
      "cuda:0\n",
      "cuda:0\n",
      "sigmas_reverse\n",
      "sigmas: tensor([0.0000, 0.8750, 1.0000])\n",
      "Using inversed latents\n",
      "Step 0: t = 0.0\n",
      "Step 1: t = 875.0\n"
     ]
    },
    {
     "name": "stderr",
     "output_type": "stream",
     "text": []
    },
    {
     "name": "stdout",
     "output_type": "stream",
     "text": [
      "Step 0: t_curr = 0.0, t_prev = 875.0\n",
      "t:1\n"
     ]
    },
    {
     "name": "stderr",
     "output_type": "stream",
     "text": []
    },
    {
     "name": "stdout",
     "output_type": "stream",
     "text": [
      "Step 1: t_curr = 875.0, t_prev = 1000.0\n",
      "t:2\n"
     ]
    },
    {
     "name": "stderr",
     "output_type": "stream",
     "text": [
      "100%|██████████| 2/2 [00:09<00:00,  4.62s/it]\n"
     ]
    },
    {
     "name": "stdout",
     "output_type": "stream",
     "text": [
      "cuda:0\n",
      "cuda:0\n",
      "sigmas: tensor([1.0000, 0.8750, 0.0000])\n",
      "Using inversed latents\n",
      "Step 0: t = 1000.0\n",
      "Step 1: t = 875.0\n"
     ]
    },
    {
     "name": "stderr",
     "output_type": "stream",
     "text": []
    },
    {
     "name": "stdout",
     "output_type": "stream",
     "text": [
      "Step 0: t_curr = 1000.0, t_prev = 875.0\n",
      "t:2\n"
     ]
    },
    {
     "name": "stderr",
     "output_type": "stream",
     "text": []
    },
    {
     "name": "stdout",
     "output_type": "stream",
     "text": [
      "Step 1: t_curr = 875.0, t_prev = 0.0\n",
      "t:1\n"
     ]
    },
    {
     "name": "stderr",
     "output_type": "stream",
     "text": [
      "100%|██████████| 2/2 [00:06<00:00,  3.48s/it]\n",
      "\u001b[32m2025-04-04 18:05:10.666\u001b[0m | \u001b[1mINFO    \u001b[0m | \u001b[36mhyvideo.inference\u001b[0m:\u001b[36mpredict\u001b[0m:\u001b[36m709\u001b[0m - \u001b[1mSuccess, time: 45.99639868736267\u001b[0m\n",
      "huggingface/tokenizers: The current process just got forked, after parallelism has already been used. Disabling parallelism to avoid deadlocks...\n",
      "To disable this warning, you can either:\n",
      "\t- Avoid using `tokenizers` before the fork if possible\n",
      "\t- Explicitly set the environment variable TOKENIZERS_PARALLELISM=(true | false)\n",
      "\u001b[32m2025-04-04 18:05:13.082\u001b[0m | \u001b[1mINFO    \u001b[0m | \u001b[36m__main__\u001b[0m:\u001b[36mprocess_sample\u001b[0m:\u001b[36m157\u001b[0m - \u001b[1m保存编辑视频到: ./results/V2VBench/rf-solver_2order/jellyfish/edit_000.mp4\u001b[0m\n",
      "处理数据集批次:  59%|█████▊    | 88/150 [1:01:34<48:51, 47.28s/it]\u001b[32m2025-04-04 18:05:13.113\u001b[0m | \u001b[1mINFO    \u001b[0m | \u001b[36mhyvideo.inference\u001b[0m:\u001b[36mpredict\u001b[0m:\u001b[36m605\u001b[0m - \u001b[1mInput (height, width, video_length) = (512, 512, 25)\u001b[0m\n",
      "\u001b[32m2025-04-04 18:05:13.390\u001b[0m | \u001b[34m\u001b[1mDEBUG   \u001b[0m | \u001b[36mhyvideo.inference\u001b[0m:\u001b[36mpredict\u001b[0m:\u001b[36m665\u001b[0m - \u001b[34m\u001b[1m\n",
      "                        height: 512\n",
      "                         width: 512\n",
      "                  video_length: 25\n",
      "                        prompt: ['blue ocean with mesmerizing footage of striped jellyfish']\n",
      "                    neg_prompt: ['Aerial view, aerial view, overexposed, low quality, deformation, a poor composition, bad hands, bad teeth, bad eyes, bad limbs, distortion']\n",
      "                          seed: 42\n",
      "                   infer_steps: 2\n",
      "         num_videos_per_prompt: 1\n",
      "                guidance_scale: 1.0\n",
      "                      n_tokens: 7168\n",
      "                    flow_shift: 7.0\n",
      "       embedded_guidance_scale: 2.0\u001b[0m\n"
     ]
    },
    {
     "name": "stdout",
     "output_type": "stream",
     "text": [
      "cuda:0\n",
      "cuda:0\n",
      "sigmas_reverse\n",
      "sigmas: tensor([0.0000, 0.8750, 1.0000])\n",
      "Using inversed latents\n",
      "Step 0: t = 0.0\n",
      "Step 1: t = 875.0\n"
     ]
    },
    {
     "name": "stderr",
     "output_type": "stream",
     "text": []
    },
    {
     "name": "stdout",
     "output_type": "stream",
     "text": [
      "Step 0: t_curr = 0.0, t_prev = 875.0\n",
      "t:1\n"
     ]
    },
    {
     "name": "stderr",
     "output_type": "stream",
     "text": []
    },
    {
     "name": "stdout",
     "output_type": "stream",
     "text": [
      "Step 1: t_curr = 875.0, t_prev = 1000.0\n",
      "t:2\n"
     ]
    },
    {
     "name": "stderr",
     "output_type": "stream",
     "text": [
      "100%|██████████| 2/2 [00:09<00:00,  4.96s/it]\n"
     ]
    },
    {
     "name": "stdout",
     "output_type": "stream",
     "text": [
      "cuda:0\n",
      "cuda:0\n",
      "sigmas: tensor([1.0000, 0.8750, 0.0000])\n",
      "Using inversed latents\n",
      "Step 0: t = 1000.0\n",
      "Step 1: t = 875.0\n"
     ]
    },
    {
     "name": "stderr",
     "output_type": "stream",
     "text": []
    },
    {
     "name": "stdout",
     "output_type": "stream",
     "text": [
      "Step 0: t_curr = 1000.0, t_prev = 875.0\n",
      "t:2\n"
     ]
    },
    {
     "name": "stderr",
     "output_type": "stream",
     "text": []
    },
    {
     "name": "stdout",
     "output_type": "stream",
     "text": [
      "Step 1: t_curr = 875.0, t_prev = 0.0\n",
      "t:1\n"
     ]
    },
    {
     "name": "stderr",
     "output_type": "stream",
     "text": [
      "100%|██████████| 2/2 [00:07<00:00,  3.92s/it]\n",
      "\u001b[32m2025-04-04 18:06:04.941\u001b[0m | \u001b[1mINFO    \u001b[0m | \u001b[36mhyvideo.inference\u001b[0m:\u001b[36mpredict\u001b[0m:\u001b[36m709\u001b[0m - \u001b[1mSuccess, time: 51.54978156089783\u001b[0m\n",
      "huggingface/tokenizers: The current process just got forked, after parallelism has already been used. Disabling parallelism to avoid deadlocks...\n",
      "To disable this warning, you can either:\n",
      "\t- Avoid using `tokenizers` before the fork if possible\n",
      "\t- Explicitly set the environment variable TOKENIZERS_PARALLELISM=(true | false)\n",
      "\u001b[32m2025-04-04 18:06:07.362\u001b[0m | \u001b[1mINFO    \u001b[0m | \u001b[36m__main__\u001b[0m:\u001b[36mprocess_sample\u001b[0m:\u001b[36m157\u001b[0m - \u001b[1m保存编辑视频到: ./results/V2VBench/rf-solver_2order/jellyfish/edit_001.mp4\u001b[0m\n",
      "处理数据集批次:  59%|█████▉    | 89/150 [1:02:29<50:10, 49.36s/it]\u001b[32m2025-04-04 18:06:07.392\u001b[0m | \u001b[1mINFO    \u001b[0m | \u001b[36mhyvideo.inference\u001b[0m:\u001b[36mpredict\u001b[0m:\u001b[36m605\u001b[0m - \u001b[1mInput (height, width, video_length) = (512, 512, 25)\u001b[0m\n",
      "\u001b[32m2025-04-04 18:06:07.642\u001b[0m | \u001b[34m\u001b[1mDEBUG   \u001b[0m | \u001b[36mhyvideo.inference\u001b[0m:\u001b[36mpredict\u001b[0m:\u001b[36m665\u001b[0m - \u001b[34m\u001b[1m\n",
      "                        height: 512\n",
      "                         width: 512\n",
      "                  video_length: 25\n",
      "                        prompt: ['blue ocean with mesmerizing footage of striped jellyfish']\n",
      "                    neg_prompt: ['Aerial view, aerial view, overexposed, low quality, deformation, a poor composition, bad hands, bad teeth, bad eyes, bad limbs, distortion']\n",
      "                          seed: 42\n",
      "                   infer_steps: 2\n",
      "         num_videos_per_prompt: 1\n",
      "                guidance_scale: 1.0\n",
      "                      n_tokens: 7168\n",
      "                    flow_shift: 7.0\n",
      "       embedded_guidance_scale: 2.0\u001b[0m\n"
     ]
    },
    {
     "name": "stdout",
     "output_type": "stream",
     "text": [
      "cuda:0\n",
      "cuda:0\n",
      "sigmas_reverse\n",
      "sigmas: tensor([0.0000, 0.8750, 1.0000])\n",
      "Using inversed latents\n",
      "Step 0: t = 0.0\n",
      "Step 1: t = 875.0\n"
     ]
    },
    {
     "name": "stderr",
     "output_type": "stream",
     "text": []
    },
    {
     "name": "stdout",
     "output_type": "stream",
     "text": [
      "Step 0: t_curr = 0.0, t_prev = 875.0\n",
      "t:1\n"
     ]
    },
    {
     "name": "stderr",
     "output_type": "stream",
     "text": []
    },
    {
     "name": "stdout",
     "output_type": "stream",
     "text": [
      "Step 1: t_curr = 875.0, t_prev = 1000.0\n",
      "t:2\n"
     ]
    },
    {
     "name": "stderr",
     "output_type": "stream",
     "text": [
      "100%|██████████| 2/2 [00:08<00:00,  4.11s/it]\n"
     ]
    },
    {
     "name": "stdout",
     "output_type": "stream",
     "text": [
      "cuda:0\n",
      "cuda:0\n",
      "sigmas: tensor([1.0000, 0.8750, 0.0000])\n",
      "Using inversed latents\n",
      "Step 0: t = 1000.0\n",
      "Step 1: t = 875.0\n"
     ]
    },
    {
     "name": "stderr",
     "output_type": "stream",
     "text": []
    },
    {
     "name": "stdout",
     "output_type": "stream",
     "text": [
      "Step 0: t_curr = 1000.0, t_prev = 875.0\n",
      "t:2\n"
     ]
    },
    {
     "name": "stderr",
     "output_type": "stream",
     "text": []
    },
    {
     "name": "stdout",
     "output_type": "stream",
     "text": [
      "Step 1: t_curr = 875.0, t_prev = 0.0\n",
      "t:1\n"
     ]
    },
    {
     "name": "stderr",
     "output_type": "stream",
     "text": [
      "100%|██████████| 2/2 [00:07<00:00,  3.84s/it]\n",
      "\u001b[32m2025-04-04 18:06:56.868\u001b[0m | \u001b[1mINFO    \u001b[0m | \u001b[36mhyvideo.inference\u001b[0m:\u001b[36mpredict\u001b[0m:\u001b[36m709\u001b[0m - \u001b[1mSuccess, time: 49.21977233886719\u001b[0m\n",
      "huggingface/tokenizers: The current process just got forked, after parallelism has already been used. Disabling parallelism to avoid deadlocks...\n",
      "To disable this warning, you can either:\n",
      "\t- Avoid using `tokenizers` before the fork if possible\n",
      "\t- Explicitly set the environment variable TOKENIZERS_PARALLELISM=(true | false)\n",
      "\u001b[32m2025-04-04 18:06:59.125\u001b[0m | \u001b[1mINFO    \u001b[0m | \u001b[36m__main__\u001b[0m:\u001b[36mprocess_sample\u001b[0m:\u001b[36m157\u001b[0m - \u001b[1m保存编辑视频到: ./results/V2VBench/rf-solver_2order/jellyfish/edit_002.mp4\u001b[0m\n",
      "处理数据集批次:  60%|██████    | 90/150 [1:03:21<50:04, 50.07s/it]\u001b[32m2025-04-04 18:06:59.157\u001b[0m | \u001b[1mINFO    \u001b[0m | \u001b[36mhyvideo.inference\u001b[0m:\u001b[36mpredict\u001b[0m:\u001b[36m605\u001b[0m - \u001b[1mInput (height, width, video_length) = (512, 512, 25)\u001b[0m\n",
      "\u001b[32m2025-04-04 18:06:59.422\u001b[0m | \u001b[34m\u001b[1mDEBUG   \u001b[0m | \u001b[36mhyvideo.inference\u001b[0m:\u001b[36mpredict\u001b[0m:\u001b[36m665\u001b[0m - \u001b[34m\u001b[1m\n",
      "                        height: 512\n",
      "                         width: 512\n",
      "                  video_length: 25\n",
      "                        prompt: ['a person kiteboarding on turquoise waters with a coastal cityscape and mountain in the background']\n",
      "                    neg_prompt: ['Aerial view, aerial view, overexposed, low quality, deformation, a poor composition, bad hands, bad teeth, bad eyes, bad limbs, distortion']\n",
      "                          seed: 42\n",
      "                   infer_steps: 2\n",
      "         num_videos_per_prompt: 1\n",
      "                guidance_scale: 1.0\n",
      "                      n_tokens: 7168\n",
      "                    flow_shift: 7.0\n",
      "       embedded_guidance_scale: 2.0\u001b[0m\n"
     ]
    },
    {
     "name": "stdout",
     "output_type": "stream",
     "text": [
      "cuda:0\n",
      "cuda:0\n",
      "sigmas_reverse\n",
      "sigmas: tensor([0.0000, 0.8750, 1.0000])\n",
      "Using inversed latents\n",
      "Step 0: t = 0.0\n",
      "Step 1: t = 875.0\n"
     ]
    },
    {
     "name": "stderr",
     "output_type": "stream",
     "text": []
    },
    {
     "name": "stdout",
     "output_type": "stream",
     "text": [
      "Step 0: t_curr = 0.0, t_prev = 875.0\n",
      "t:1\n"
     ]
    },
    {
     "name": "stderr",
     "output_type": "stream",
     "text": []
    },
    {
     "name": "stdout",
     "output_type": "stream",
     "text": [
      "Step 1: t_curr = 875.0, t_prev = 1000.0\n",
      "t:2\n"
     ]
    },
    {
     "name": "stderr",
     "output_type": "stream",
     "text": [
      "100%|██████████| 2/2 [00:08<00:00,  4.47s/it]\n"
     ]
    },
    {
     "name": "stdout",
     "output_type": "stream",
     "text": [
      "cuda:0\n",
      "cuda:0\n",
      "sigmas: tensor([1.0000, 0.8750, 0.0000])\n",
      "Using inversed latents\n",
      "Step 0: t = 1000.0\n",
      "Step 1: t = 875.0\n"
     ]
    },
    {
     "name": "stderr",
     "output_type": "stream",
     "text": []
    },
    {
     "name": "stdout",
     "output_type": "stream",
     "text": [
      "Step 0: t_curr = 1000.0, t_prev = 875.0\n",
      "t:2\n"
     ]
    },
    {
     "name": "stderr",
     "output_type": "stream",
     "text": []
    },
    {
     "name": "stdout",
     "output_type": "stream",
     "text": [
      "Step 1: t_curr = 875.0, t_prev = 0.0\n",
      "t:1\n"
     ]
    },
    {
     "name": "stderr",
     "output_type": "stream",
     "text": [
      "100%|██████████| 2/2 [00:06<00:00,  3.50s/it]\n",
      "\u001b[32m2025-04-04 18:07:47.395\u001b[0m | \u001b[1mINFO    \u001b[0m | \u001b[36mhyvideo.inference\u001b[0m:\u001b[36mpredict\u001b[0m:\u001b[36m709\u001b[0m - \u001b[1mSuccess, time: 47.97152519226074\u001b[0m\n",
      "huggingface/tokenizers: The current process just got forked, after parallelism has already been used. Disabling parallelism to avoid deadlocks...\n",
      "To disable this warning, you can either:\n",
      "\t- Avoid using `tokenizers` before the fork if possible\n",
      "\t- Explicitly set the environment variable TOKENIZERS_PARALLELISM=(true | false)\n",
      "\u001b[32m2025-04-04 18:07:49.845\u001b[0m | \u001b[1mINFO    \u001b[0m | \u001b[36m__main__\u001b[0m:\u001b[36mprocess_sample\u001b[0m:\u001b[36m157\u001b[0m - \u001b[1m保存编辑视频到: ./results/V2VBench/rf-solver_2order/kite-surf/edit_000.mp4\u001b[0m\n",
      "处理数据集批次:  61%|██████    | 91/150 [1:04:11<49:25, 50.27s/it]\u001b[32m2025-04-04 18:07:49.880\u001b[0m | \u001b[1mINFO    \u001b[0m | \u001b[36mhyvideo.inference\u001b[0m:\u001b[36mpredict\u001b[0m:\u001b[36m605\u001b[0m - \u001b[1mInput (height, width, video_length) = (512, 512, 25)\u001b[0m\n",
      "\u001b[32m2025-04-04 18:07:50.138\u001b[0m | \u001b[34m\u001b[1mDEBUG   \u001b[0m | \u001b[36mhyvideo.inference\u001b[0m:\u001b[36mpredict\u001b[0m:\u001b[36m665\u001b[0m - \u001b[34m\u001b[1m\n",
      "                        height: 512\n",
      "                         width: 512\n",
      "                  video_length: 25\n",
      "                        prompt: ['a person kiteboarding on turquoise waters with a coastal cityscape and mountain in the background']\n",
      "                    neg_prompt: ['Aerial view, aerial view, overexposed, low quality, deformation, a poor composition, bad hands, bad teeth, bad eyes, bad limbs, distortion']\n",
      "                          seed: 42\n",
      "                   infer_steps: 2\n",
      "         num_videos_per_prompt: 1\n",
      "                guidance_scale: 1.0\n",
      "                      n_tokens: 7168\n",
      "                    flow_shift: 7.0\n",
      "       embedded_guidance_scale: 2.0\u001b[0m\n"
     ]
    },
    {
     "name": "stdout",
     "output_type": "stream",
     "text": [
      "cuda:0\n",
      "cuda:0\n",
      "sigmas_reverse\n",
      "sigmas: tensor([0.0000, 0.8750, 1.0000])\n",
      "Using inversed latents\n",
      "Step 0: t = 0.0\n",
      "Step 1: t = 875.0\n"
     ]
    },
    {
     "name": "stderr",
     "output_type": "stream",
     "text": []
    },
    {
     "name": "stdout",
     "output_type": "stream",
     "text": [
      "Step 0: t_curr = 0.0, t_prev = 875.0\n",
      "t:1\n"
     ]
    },
    {
     "name": "stderr",
     "output_type": "stream",
     "text": []
    },
    {
     "name": "stdout",
     "output_type": "stream",
     "text": [
      "Step 1: t_curr = 875.0, t_prev = 1000.0\n",
      "t:2\n"
     ]
    },
    {
     "name": "stderr",
     "output_type": "stream",
     "text": [
      "100%|██████████| 2/2 [00:08<00:00,  4.11s/it]\n"
     ]
    },
    {
     "name": "stdout",
     "output_type": "stream",
     "text": [
      "cuda:0\n",
      "cuda:0\n",
      "sigmas: tensor([1.0000, 0.8750, 0.0000])\n",
      "Using inversed latents\n",
      "Step 0: t = 1000.0\n",
      "Step 1: t = 875.0\n"
     ]
    },
    {
     "name": "stderr",
     "output_type": "stream",
     "text": []
    },
    {
     "name": "stdout",
     "output_type": "stream",
     "text": [
      "Step 0: t_curr = 1000.0, t_prev = 875.0\n",
      "t:2\n"
     ]
    },
    {
     "name": "stderr",
     "output_type": "stream",
     "text": []
    },
    {
     "name": "stdout",
     "output_type": "stream",
     "text": [
      "Step 1: t_curr = 875.0, t_prev = 0.0\n",
      "t:1\n"
     ]
    },
    {
     "name": "stderr",
     "output_type": "stream",
     "text": [
      "100%|██████████| 2/2 [00:06<00:00,  3.47s/it]\n",
      "\u001b[32m2025-04-04 18:08:35.288\u001b[0m | \u001b[1mINFO    \u001b[0m | \u001b[36mhyvideo.inference\u001b[0m:\u001b[36mpredict\u001b[0m:\u001b[36m709\u001b[0m - \u001b[1mSuccess, time: 45.14777851104736\u001b[0m\n",
      "huggingface/tokenizers: The current process just got forked, after parallelism has already been used. Disabling parallelism to avoid deadlocks...\n",
      "To disable this warning, you can either:\n",
      "\t- Avoid using `tokenizers` before the fork if possible\n",
      "\t- Explicitly set the environment variable TOKENIZERS_PARALLELISM=(true | false)\n",
      "\u001b[32m2025-04-04 18:08:37.139\u001b[0m | \u001b[1mINFO    \u001b[0m | \u001b[36m__main__\u001b[0m:\u001b[36mprocess_sample\u001b[0m:\u001b[36m157\u001b[0m - \u001b[1m保存编辑视频到: ./results/V2VBench/rf-solver_2order/kite-surf/edit_001.mp4\u001b[0m\n",
      "处理数据集批次:  62%|██████▏   | 93/150 [1:04:59<36:07, 38.02s/it]\u001b[32m2025-04-04 18:08:37.167\u001b[0m | \u001b[1mINFO    \u001b[0m | \u001b[36mhyvideo.inference\u001b[0m:\u001b[36mpredict\u001b[0m:\u001b[36m605\u001b[0m - \u001b[1mInput (height, width, video_length) = (512, 512, 25)\u001b[0m\n",
      "\u001b[32m2025-04-04 18:08:37.414\u001b[0m | \u001b[34m\u001b[1mDEBUG   \u001b[0m | \u001b[36mhyvideo.inference\u001b[0m:\u001b[36mpredict\u001b[0m:\u001b[36m665\u001b[0m - \u001b[34m\u001b[1m\n",
      "                        height: 512\n",
      "                         width: 512\n",
      "                  video_length: 25\n",
      "                        prompt: ['a person kiteboarding on turquoise waters with a coastal cityscape and mountain in the background']\n",
      "                    neg_prompt: ['Aerial view, aerial view, overexposed, low quality, deformation, a poor composition, bad hands, bad teeth, bad eyes, bad limbs, distortion']\n",
      "                          seed: 42\n",
      "                   infer_steps: 2\n",
      "         num_videos_per_prompt: 1\n",
      "                guidance_scale: 1.0\n",
      "                      n_tokens: 7168\n",
      "                    flow_shift: 7.0\n",
      "       embedded_guidance_scale: 2.0\u001b[0m\n"
     ]
    },
    {
     "name": "stdout",
     "output_type": "stream",
     "text": [
      "cuda:0\n",
      "cuda:0\n",
      "sigmas_reverse\n",
      "sigmas: tensor([0.0000, 0.8750, 1.0000])\n",
      "Using inversed latents\n",
      "Step 0: t = 0.0\n",
      "Step 1: t = 875.0\n"
     ]
    },
    {
     "name": "stderr",
     "output_type": "stream",
     "text": []
    },
    {
     "name": "stdout",
     "output_type": "stream",
     "text": [
      "Step 0: t_curr = 0.0, t_prev = 875.0\n",
      "t:1\n"
     ]
    },
    {
     "name": "stderr",
     "output_type": "stream",
     "text": []
    },
    {
     "name": "stdout",
     "output_type": "stream",
     "text": [
      "Step 1: t_curr = 875.0, t_prev = 1000.0\n",
      "t:2\n"
     ]
    },
    {
     "name": "stderr",
     "output_type": "stream",
     "text": [
      "100%|██████████| 2/2 [00:09<00:00,  4.81s/it]\n"
     ]
    },
    {
     "name": "stdout",
     "output_type": "stream",
     "text": [
      "cuda:0\n",
      "cuda:0\n",
      "sigmas: tensor([1.0000, 0.8750, 0.0000])\n",
      "Using inversed latents\n",
      "Step 0: t = 1000.0\n",
      "Step 1: t = 875.0\n"
     ]
    },
    {
     "name": "stderr",
     "output_type": "stream",
     "text": []
    },
    {
     "name": "stdout",
     "output_type": "stream",
     "text": [
      "Step 0: t_curr = 1000.0, t_prev = 875.0\n",
      "t:2\n"
     ]
    },
    {
     "name": "stderr",
     "output_type": "stream",
     "text": []
    },
    {
     "name": "stdout",
     "output_type": "stream",
     "text": [
      "Step 1: t_curr = 875.0, t_prev = 0.0\n",
      "t:1\n"
     ]
    },
    {
     "name": "stderr",
     "output_type": "stream",
     "text": [
      "100%|██████████| 2/2 [00:06<00:00,  3.49s/it]\n",
      "\u001b[32m2025-04-04 18:09:24.944\u001b[0m | \u001b[1mINFO    \u001b[0m | \u001b[36mhyvideo.inference\u001b[0m:\u001b[36mpredict\u001b[0m:\u001b[36m709\u001b[0m - \u001b[1mSuccess, time: 47.52834701538086\u001b[0m\n",
      "huggingface/tokenizers: The current process just got forked, after parallelism has already been used. Disabling parallelism to avoid deadlocks...\n",
      "To disable this warning, you can either:\n",
      "\t- Avoid using `tokenizers` before the fork if possible\n",
      "\t- Explicitly set the environment variable TOKENIZERS_PARALLELISM=(true | false)\n",
      "\u001b[32m2025-04-04 18:09:27.511\u001b[0m | \u001b[1mINFO    \u001b[0m | \u001b[36m__main__\u001b[0m:\u001b[36mprocess_sample\u001b[0m:\u001b[36m157\u001b[0m - \u001b[1m保存编辑视频到: ./results/V2VBench/rf-solver_2order/kite-surf/edit_002.mp4\u001b[0m\n",
      "处理数据集批次:  63%|██████▎   | 94/150 [1:05:49<38:20, 41.08s/it]\u001b[32m2025-04-04 18:09:27.545\u001b[0m | \u001b[1mINFO    \u001b[0m | \u001b[36mhyvideo.inference\u001b[0m:\u001b[36mpredict\u001b[0m:\u001b[36m605\u001b[0m - \u001b[1mInput (height, width, video_length) = (512, 512, 25)\u001b[0m\n",
      "\u001b[32m2025-04-04 18:09:27.802\u001b[0m | \u001b[34m\u001b[1mDEBUG   \u001b[0m | \u001b[36mhyvideo.inference\u001b[0m:\u001b[36mpredict\u001b[0m:\u001b[36m665\u001b[0m - \u001b[34m\u001b[1m\n",
      "                        height: 512\n",
      "                         width: 512\n",
      "                  video_length: 25\n",
      "                        prompt: ['three girls in lab coats are standing atop a grassy field as the camera closes in']\n",
      "                    neg_prompt: ['Aerial view, aerial view, overexposed, low quality, deformation, a poor composition, bad hands, bad teeth, bad eyes, bad limbs, distortion']\n",
      "                          seed: 42\n",
      "                   infer_steps: 2\n",
      "         num_videos_per_prompt: 1\n",
      "                guidance_scale: 1.0\n",
      "                      n_tokens: 7168\n",
      "                    flow_shift: 7.0\n",
      "       embedded_guidance_scale: 2.0\u001b[0m\n"
     ]
    },
    {
     "name": "stdout",
     "output_type": "stream",
     "text": [
      "cuda:0\n",
      "cuda:0\n",
      "sigmas_reverse\n",
      "sigmas: tensor([0.0000, 0.8750, 1.0000])\n",
      "Using inversed latents\n",
      "Step 0: t = 0.0\n",
      "Step 1: t = 875.0\n"
     ]
    },
    {
     "name": "stderr",
     "output_type": "stream",
     "text": []
    },
    {
     "name": "stdout",
     "output_type": "stream",
     "text": [
      "Step 0: t_curr = 0.0, t_prev = 875.0\n",
      "t:1\n"
     ]
    },
    {
     "name": "stderr",
     "output_type": "stream",
     "text": []
    },
    {
     "name": "stdout",
     "output_type": "stream",
     "text": [
      "Step 1: t_curr = 875.0, t_prev = 1000.0\n",
      "t:2\n"
     ]
    },
    {
     "name": "stderr",
     "output_type": "stream",
     "text": [
      "100%|██████████| 2/2 [00:08<00:00,  4.29s/it]\n"
     ]
    },
    {
     "name": "stdout",
     "output_type": "stream",
     "text": [
      "cuda:0\n",
      "cuda:0\n",
      "sigmas: tensor([1.0000, 0.8750, 0.0000])\n",
      "Using inversed latents\n",
      "Step 0: t = 1000.0\n",
      "Step 1: t = 875.0\n"
     ]
    },
    {
     "name": "stderr",
     "output_type": "stream",
     "text": []
    },
    {
     "name": "stdout",
     "output_type": "stream",
     "text": [
      "Step 0: t_curr = 1000.0, t_prev = 875.0\n",
      "t:2\n"
     ]
    },
    {
     "name": "stderr",
     "output_type": "stream",
     "text": []
    },
    {
     "name": "stdout",
     "output_type": "stream",
     "text": [
      "Step 1: t_curr = 875.0, t_prev = 0.0\n",
      "t:1\n"
     ]
    },
    {
     "name": "stderr",
     "output_type": "stream",
     "text": [
      "100%|██████████| 2/2 [00:06<00:00,  3.46s/it]\n",
      "\u001b[32m2025-04-04 18:10:13.373\u001b[0m | \u001b[1mINFO    \u001b[0m | \u001b[36mhyvideo.inference\u001b[0m:\u001b[36mpredict\u001b[0m:\u001b[36m709\u001b[0m - \u001b[1mSuccess, time: 45.56922435760498\u001b[0m\n",
      "huggingface/tokenizers: The current process just got forked, after parallelism has already been used. Disabling parallelism to avoid deadlocks...\n",
      "To disable this warning, you can either:\n",
      "\t- Avoid using `tokenizers` before the fork if possible\n",
      "\t- Explicitly set the environment variable TOKENIZERS_PARALLELISM=(true | false)\n",
      "\u001b[32m2025-04-04 18:10:15.666\u001b[0m | \u001b[1mINFO    \u001b[0m | \u001b[36m__main__\u001b[0m:\u001b[36mprocess_sample\u001b[0m:\u001b[36m157\u001b[0m - \u001b[1m保存编辑视频到: ./results/V2VBench/rf-solver_2order/lab-coat/edit_000.mp4\u001b[0m\n",
      "处理数据集批次:  63%|██████▎   | 95/150 [1:06:37<39:20, 42.92s/it]\u001b[32m2025-04-04 18:10:15.704\u001b[0m | \u001b[1mINFO    \u001b[0m | \u001b[36mhyvideo.inference\u001b[0m:\u001b[36mpredict\u001b[0m:\u001b[36m605\u001b[0m - \u001b[1mInput (height, width, video_length) = (512, 512, 25)\u001b[0m\n",
      "\u001b[32m2025-04-04 18:10:15.963\u001b[0m | \u001b[34m\u001b[1mDEBUG   \u001b[0m | \u001b[36mhyvideo.inference\u001b[0m:\u001b[36mpredict\u001b[0m:\u001b[36m665\u001b[0m - \u001b[34m\u001b[1m\n",
      "                        height: 512\n",
      "                         width: 512\n",
      "                  video_length: 25\n",
      "                        prompt: ['three girls in lab coats are standing atop a grassy field as the camera closes in']\n",
      "                    neg_prompt: ['Aerial view, aerial view, overexposed, low quality, deformation, a poor composition, bad hands, bad teeth, bad eyes, bad limbs, distortion']\n",
      "                          seed: 42\n",
      "                   infer_steps: 2\n",
      "         num_videos_per_prompt: 1\n",
      "                guidance_scale: 1.0\n",
      "                      n_tokens: 7168\n",
      "                    flow_shift: 7.0\n",
      "       embedded_guidance_scale: 2.0\u001b[0m\n"
     ]
    },
    {
     "name": "stdout",
     "output_type": "stream",
     "text": [
      "cuda:0\n",
      "cuda:0\n",
      "sigmas_reverse\n",
      "sigmas: tensor([0.0000, 0.8750, 1.0000])\n",
      "Using inversed latents\n",
      "Step 0: t = 0.0\n",
      "Step 1: t = 875.0\n"
     ]
    },
    {
     "name": "stderr",
     "output_type": "stream",
     "text": []
    },
    {
     "name": "stdout",
     "output_type": "stream",
     "text": [
      "Step 0: t_curr = 0.0, t_prev = 875.0\n",
      "t:1\n"
     ]
    },
    {
     "name": "stderr",
     "output_type": "stream",
     "text": []
    },
    {
     "name": "stdout",
     "output_type": "stream",
     "text": [
      "Step 1: t_curr = 875.0, t_prev = 1000.0\n",
      "t:2\n"
     ]
    },
    {
     "name": "stderr",
     "output_type": "stream",
     "text": [
      "100%|██████████| 2/2 [00:08<00:00,  4.09s/it]\n"
     ]
    },
    {
     "name": "stdout",
     "output_type": "stream",
     "text": [
      "cuda:0\n",
      "cuda:0\n",
      "sigmas: tensor([1.0000, 0.8750, 0.0000])\n",
      "Using inversed latents\n",
      "Step 0: t = 1000.0\n",
      "Step 1: t = 875.0\n"
     ]
    },
    {
     "name": "stderr",
     "output_type": "stream",
     "text": []
    },
    {
     "name": "stdout",
     "output_type": "stream",
     "text": [
      "Step 0: t_curr = 1000.0, t_prev = 875.0\n",
      "t:2\n"
     ]
    },
    {
     "name": "stderr",
     "output_type": "stream",
     "text": []
    },
    {
     "name": "stdout",
     "output_type": "stream",
     "text": [
      "Step 1: t_curr = 875.0, t_prev = 0.0\n",
      "t:1\n"
     ]
    },
    {
     "name": "stderr",
     "output_type": "stream",
     "text": [
      "100%|██████████| 2/2 [00:07<00:00,  3.61s/it]\n",
      "\u001b[32m2025-04-04 18:11:02.809\u001b[0m | \u001b[1mINFO    \u001b[0m | \u001b[36mhyvideo.inference\u001b[0m:\u001b[36mpredict\u001b[0m:\u001b[36m709\u001b[0m - \u001b[1mSuccess, time: 46.8403525352478\u001b[0m\n",
      "huggingface/tokenizers: The current process just got forked, after parallelism has already been used. Disabling parallelism to avoid deadlocks...\n",
      "To disable this warning, you can either:\n",
      "\t- Avoid using `tokenizers` before the fork if possible\n",
      "\t- Explicitly set the environment variable TOKENIZERS_PARALLELISM=(true | false)\n",
      "\u001b[32m2025-04-04 18:11:05.232\u001b[0m | \u001b[1mINFO    \u001b[0m | \u001b[36m__main__\u001b[0m:\u001b[36mprocess_sample\u001b[0m:\u001b[36m157\u001b[0m - \u001b[1m保存编辑视频到: ./results/V2VBench/rf-solver_2order/lab-coat/edit_001.mp4\u001b[0m\n",
      "处理数据集批次:  64%|██████▍   | 96/150 [1:07:27<40:15, 44.73s/it]\u001b[32m2025-04-04 18:11:05.264\u001b[0m | \u001b[1mINFO    \u001b[0m | \u001b[36mhyvideo.inference\u001b[0m:\u001b[36mpredict\u001b[0m:\u001b[36m605\u001b[0m - \u001b[1mInput (height, width, video_length) = (512, 512, 25)\u001b[0m\n",
      "\u001b[32m2025-04-04 18:11:05.518\u001b[0m | \u001b[34m\u001b[1mDEBUG   \u001b[0m | \u001b[36mhyvideo.inference\u001b[0m:\u001b[36mpredict\u001b[0m:\u001b[36m665\u001b[0m - \u001b[34m\u001b[1m\n",
      "                        height: 512\n",
      "                         width: 512\n",
      "                  video_length: 25\n",
      "                        prompt: ['three girls in lab coats are standing atop a grassy field as the camera closes in']\n",
      "                    neg_prompt: ['Aerial view, aerial view, overexposed, low quality, deformation, a poor composition, bad hands, bad teeth, bad eyes, bad limbs, distortion']\n",
      "                          seed: 42\n",
      "                   infer_steps: 2\n",
      "         num_videos_per_prompt: 1\n",
      "                guidance_scale: 1.0\n",
      "                      n_tokens: 7168\n",
      "                    flow_shift: 7.0\n",
      "       embedded_guidance_scale: 2.0\u001b[0m\n"
     ]
    },
    {
     "name": "stdout",
     "output_type": "stream",
     "text": [
      "cuda:0\n",
      "cuda:0\n",
      "sigmas_reverse\n",
      "sigmas: tensor([0.0000, 0.8750, 1.0000])\n",
      "Using inversed latents\n",
      "Step 0: t = 0.0\n",
      "Step 1: t = 875.0\n"
     ]
    },
    {
     "name": "stderr",
     "output_type": "stream",
     "text": []
    },
    {
     "name": "stdout",
     "output_type": "stream",
     "text": [
      "Step 0: t_curr = 0.0, t_prev = 875.0\n",
      "t:1\n"
     ]
    },
    {
     "name": "stderr",
     "output_type": "stream",
     "text": []
    },
    {
     "name": "stdout",
     "output_type": "stream",
     "text": [
      "Step 1: t_curr = 875.0, t_prev = 1000.0\n",
      "t:2\n"
     ]
    },
    {
     "name": "stderr",
     "output_type": "stream",
     "text": [
      "100%|██████████| 2/2 [00:09<00:00,  4.69s/it]\n"
     ]
    },
    {
     "name": "stdout",
     "output_type": "stream",
     "text": [
      "cuda:0\n",
      "cuda:0\n",
      "sigmas: tensor([1.0000, 0.8750, 0.0000])\n",
      "Using inversed latents\n",
      "Step 0: t = 1000.0\n",
      "Step 1: t = 875.0\n"
     ]
    },
    {
     "name": "stderr",
     "output_type": "stream",
     "text": []
    },
    {
     "name": "stdout",
     "output_type": "stream",
     "text": [
      "Step 0: t_curr = 1000.0, t_prev = 875.0\n",
      "t:2\n"
     ]
    },
    {
     "name": "stderr",
     "output_type": "stream",
     "text": []
    },
    {
     "name": "stdout",
     "output_type": "stream",
     "text": [
      "Step 1: t_curr = 875.0, t_prev = 0.0\n",
      "t:1\n"
     ]
    },
    {
     "name": "stderr",
     "output_type": "stream",
     "text": [
      "100%|██████████| 2/2 [00:07<00:00,  3.62s/it]\n",
      "\u001b[32m2025-04-04 18:11:56.609\u001b[0m | \u001b[1mINFO    \u001b[0m | \u001b[36mhyvideo.inference\u001b[0m:\u001b[36mpredict\u001b[0m:\u001b[36m709\u001b[0m - \u001b[1mSuccess, time: 51.08760333061218\u001b[0m\n",
      "huggingface/tokenizers: The current process just got forked, after parallelism has already been used. Disabling parallelism to avoid deadlocks...\n",
      "To disable this warning, you can either:\n",
      "\t- Avoid using `tokenizers` before the fork if possible\n",
      "\t- Explicitly set the environment variable TOKENIZERS_PARALLELISM=(true | false)\n",
      "\u001b[32m2025-04-04 18:11:59.092\u001b[0m | \u001b[1mINFO    \u001b[0m | \u001b[36m__main__\u001b[0m:\u001b[36mprocess_sample\u001b[0m:\u001b[36m157\u001b[0m - \u001b[1m保存编辑视频到: ./results/V2VBench/rf-solver_2order/lab-coat/edit_002.mp4\u001b[0m\n",
      "处理数据集批次:  65%|██████▍   | 97/150 [1:08:20<41:45, 47.28s/it]\u001b[32m2025-04-04 18:11:59.126\u001b[0m | \u001b[1mINFO    \u001b[0m | \u001b[36mhyvideo.inference\u001b[0m:\u001b[36mpredict\u001b[0m:\u001b[36m605\u001b[0m - \u001b[1mInput (height, width, video_length) = (512, 512, 25)\u001b[0m\n",
      "\u001b[32m2025-04-04 18:11:59.375\u001b[0m | \u001b[34m\u001b[1mDEBUG   \u001b[0m | \u001b[36mhyvideo.inference\u001b[0m:\u001b[36mpredict\u001b[0m:\u001b[36m665\u001b[0m - \u001b[34m\u001b[1m\n",
      "                        height: 512\n",
      "                         width: 512\n",
      "                  video_length: 25\n",
      "                        prompt: ['a white passenger jet lands on a grey autumn runway']\n",
      "                    neg_prompt: ['Aerial view, aerial view, overexposed, low quality, deformation, a poor composition, bad hands, bad teeth, bad eyes, bad limbs, distortion']\n",
      "                          seed: 42\n",
      "                   infer_steps: 2\n",
      "         num_videos_per_prompt: 1\n",
      "                guidance_scale: 1.0\n",
      "                      n_tokens: 7168\n",
      "                    flow_shift: 7.0\n",
      "       embedded_guidance_scale: 2.0\u001b[0m\n"
     ]
    },
    {
     "name": "stdout",
     "output_type": "stream",
     "text": [
      "cuda:0\n",
      "cuda:0\n",
      "sigmas_reverse\n",
      "sigmas: tensor([0.0000, 0.8750, 1.0000])\n",
      "Using inversed latents\n",
      "Step 0: t = 0.0\n",
      "Step 1: t = 875.0\n"
     ]
    },
    {
     "name": "stderr",
     "output_type": "stream",
     "text": []
    },
    {
     "name": "stdout",
     "output_type": "stream",
     "text": [
      "Step 0: t_curr = 0.0, t_prev = 875.0\n",
      "t:1\n"
     ]
    },
    {
     "name": "stderr",
     "output_type": "stream",
     "text": []
    },
    {
     "name": "stdout",
     "output_type": "stream",
     "text": [
      "Step 1: t_curr = 875.0, t_prev = 1000.0\n",
      "t:2\n"
     ]
    },
    {
     "name": "stderr",
     "output_type": "stream",
     "text": [
      "100%|██████████| 2/2 [00:08<00:00,  4.43s/it]\n"
     ]
    },
    {
     "name": "stdout",
     "output_type": "stream",
     "text": [
      "cuda:0\n",
      "cuda:0\n",
      "sigmas: tensor([1.0000, 0.8750, 0.0000])\n",
      "Using inversed latents\n",
      "Step 0: t = 1000.0\n",
      "Step 1: t = 875.0\n"
     ]
    },
    {
     "name": "stderr",
     "output_type": "stream",
     "text": []
    },
    {
     "name": "stdout",
     "output_type": "stream",
     "text": [
      "Step 0: t_curr = 1000.0, t_prev = 875.0\n",
      "t:2\n"
     ]
    },
    {
     "name": "stderr",
     "output_type": "stream",
     "text": []
    },
    {
     "name": "stdout",
     "output_type": "stream",
     "text": [
      "Step 1: t_curr = 875.0, t_prev = 0.0\n",
      "t:1\n"
     ]
    },
    {
     "name": "stderr",
     "output_type": "stream",
     "text": [
      "100%|██████████| 2/2 [00:07<00:00,  3.63s/it]\n",
      "\u001b[32m2025-04-04 18:12:46.651\u001b[0m | \u001b[1mINFO    \u001b[0m | \u001b[36mhyvideo.inference\u001b[0m:\u001b[36mpredict\u001b[0m:\u001b[36m709\u001b[0m - \u001b[1mSuccess, time: 47.273338317871094\u001b[0m\n",
      "huggingface/tokenizers: The current process just got forked, after parallelism has already been used. Disabling parallelism to avoid deadlocks...\n",
      "To disable this warning, you can either:\n",
      "\t- Avoid using `tokenizers` before the fork if possible\n",
      "\t- Explicitly set the environment variable TOKENIZERS_PARALLELISM=(true | false)\n",
      "\u001b[32m2025-04-04 18:12:49.226\u001b[0m | \u001b[1mINFO    \u001b[0m | \u001b[36m__main__\u001b[0m:\u001b[36mprocess_sample\u001b[0m:\u001b[36m157\u001b[0m - \u001b[1m保存编辑视频到: ./results/V2VBench/rf-solver_2order/landing/edit_000.mp4\u001b[0m\n",
      "处理数据集批次:  65%|██████▌   | 98/150 [1:09:11<41:40, 48.09s/it]\u001b[32m2025-04-04 18:12:49.252\u001b[0m | \u001b[1mINFO    \u001b[0m | \u001b[36mhyvideo.inference\u001b[0m:\u001b[36mpredict\u001b[0m:\u001b[36m605\u001b[0m - \u001b[1mInput (height, width, video_length) = (512, 512, 25)\u001b[0m\n",
      "\u001b[32m2025-04-04 18:12:49.506\u001b[0m | \u001b[34m\u001b[1mDEBUG   \u001b[0m | \u001b[36mhyvideo.inference\u001b[0m:\u001b[36mpredict\u001b[0m:\u001b[36m665\u001b[0m - \u001b[34m\u001b[1m\n",
      "                        height: 512\n",
      "                         width: 512\n",
      "                  video_length: 25\n",
      "                        prompt: ['a white passenger jet lands on a grey autumn runway']\n",
      "                    neg_prompt: ['Aerial view, aerial view, overexposed, low quality, deformation, a poor composition, bad hands, bad teeth, bad eyes, bad limbs, distortion']\n",
      "                          seed: 42\n",
      "                   infer_steps: 2\n",
      "         num_videos_per_prompt: 1\n",
      "                guidance_scale: 1.0\n",
      "                      n_tokens: 7168\n",
      "                    flow_shift: 7.0\n",
      "       embedded_guidance_scale: 2.0\u001b[0m\n"
     ]
    },
    {
     "name": "stdout",
     "output_type": "stream",
     "text": [
      "cuda:0\n",
      "cuda:0\n",
      "sigmas_reverse\n",
      "sigmas: tensor([0.0000, 0.8750, 1.0000])\n",
      "Using inversed latents\n",
      "Step 0: t = 0.0\n",
      "Step 1: t = 875.0\n"
     ]
    },
    {
     "name": "stderr",
     "output_type": "stream",
     "text": []
    },
    {
     "name": "stdout",
     "output_type": "stream",
     "text": [
      "Step 0: t_curr = 0.0, t_prev = 875.0\n",
      "t:1\n"
     ]
    },
    {
     "name": "stderr",
     "output_type": "stream",
     "text": []
    },
    {
     "name": "stdout",
     "output_type": "stream",
     "text": [
      "Step 1: t_curr = 875.0, t_prev = 1000.0\n",
      "t:2\n"
     ]
    },
    {
     "name": "stderr",
     "output_type": "stream",
     "text": [
      "100%|██████████| 2/2 [00:08<00:00,  4.40s/it]\n"
     ]
    },
    {
     "name": "stdout",
     "output_type": "stream",
     "text": [
      "cuda:0\n",
      "cuda:0\n",
      "sigmas: tensor([1.0000, 0.8750, 0.0000])\n",
      "Using inversed latents\n",
      "Step 0: t = 1000.0\n",
      "Step 1: t = 875.0\n"
     ]
    },
    {
     "name": "stderr",
     "output_type": "stream",
     "text": []
    },
    {
     "name": "stdout",
     "output_type": "stream",
     "text": [
      "Step 0: t_curr = 1000.0, t_prev = 875.0\n",
      "t:2\n"
     ]
    },
    {
     "name": "stderr",
     "output_type": "stream",
     "text": []
    },
    {
     "name": "stdout",
     "output_type": "stream",
     "text": [
      "Step 1: t_curr = 875.0, t_prev = 0.0\n",
      "t:1\n"
     ]
    },
    {
     "name": "stderr",
     "output_type": "stream",
     "text": [
      "100%|██████████| 2/2 [00:07<00:00,  3.77s/it]\n",
      "\u001b[32m2025-04-04 18:13:36.750\u001b[0m | \u001b[1mINFO    \u001b[0m | \u001b[36mhyvideo.inference\u001b[0m:\u001b[36mpredict\u001b[0m:\u001b[36m709\u001b[0m - \u001b[1mSuccess, time: 47.240978479385376\u001b[0m\n",
      "huggingface/tokenizers: The current process just got forked, after parallelism has already been used. Disabling parallelism to avoid deadlocks...\n",
      "To disable this warning, you can either:\n",
      "\t- Avoid using `tokenizers` before the fork if possible\n",
      "\t- Explicitly set the environment variable TOKENIZERS_PARALLELISM=(true | false)\n",
      "\u001b[32m2025-04-04 18:13:38.762\u001b[0m | \u001b[1mINFO    \u001b[0m | \u001b[36m__main__\u001b[0m:\u001b[36mprocess_sample\u001b[0m:\u001b[36m157\u001b[0m - \u001b[1m保存编辑视频到: ./results/V2VBench/rf-solver_2order/landing/edit_001.mp4\u001b[0m\n",
      "处理数据集批次:  66%|██████▌   | 99/150 [1:10:00<41:14, 48.51s/it]\u001b[32m2025-04-04 18:13:38.786\u001b[0m | \u001b[1mINFO    \u001b[0m | \u001b[36mhyvideo.inference\u001b[0m:\u001b[36mpredict\u001b[0m:\u001b[36m605\u001b[0m - \u001b[1mInput (height, width, video_length) = (512, 512, 25)\u001b[0m\n",
      "\u001b[32m2025-04-04 18:13:39.057\u001b[0m | \u001b[34m\u001b[1mDEBUG   \u001b[0m | \u001b[36mhyvideo.inference\u001b[0m:\u001b[36mpredict\u001b[0m:\u001b[36m665\u001b[0m - \u001b[34m\u001b[1m\n",
      "                        height: 512\n",
      "                         width: 512\n",
      "                  video_length: 25\n",
      "                        prompt: ['a white passenger jet lands on a grey autumn runway']\n",
      "                    neg_prompt: ['Aerial view, aerial view, overexposed, low quality, deformation, a poor composition, bad hands, bad teeth, bad eyes, bad limbs, distortion']\n",
      "                          seed: 42\n",
      "                   infer_steps: 2\n",
      "         num_videos_per_prompt: 1\n",
      "                guidance_scale: 1.0\n",
      "                      n_tokens: 7168\n",
      "                    flow_shift: 7.0\n",
      "       embedded_guidance_scale: 2.0\u001b[0m\n"
     ]
    },
    {
     "name": "stdout",
     "output_type": "stream",
     "text": [
      "cuda:0\n",
      "cuda:0\n",
      "sigmas_reverse\n",
      "sigmas: tensor([0.0000, 0.8750, 1.0000])\n",
      "Using inversed latents\n",
      "Step 0: t = 0.0\n",
      "Step 1: t = 875.0\n"
     ]
    },
    {
     "name": "stderr",
     "output_type": "stream",
     "text": []
    },
    {
     "name": "stdout",
     "output_type": "stream",
     "text": [
      "Step 0: t_curr = 0.0, t_prev = 875.0\n",
      "t:1\n"
     ]
    },
    {
     "name": "stderr",
     "output_type": "stream",
     "text": []
    },
    {
     "name": "stdout",
     "output_type": "stream",
     "text": [
      "Step 1: t_curr = 875.0, t_prev = 1000.0\n",
      "t:2\n"
     ]
    },
    {
     "name": "stderr",
     "output_type": "stream",
     "text": [
      "100%|██████████| 2/2 [00:08<00:00,  4.06s/it]\n"
     ]
    },
    {
     "name": "stdout",
     "output_type": "stream",
     "text": [
      "cuda:0\n",
      "cuda:0\n",
      "sigmas: tensor([1.0000, 0.8750, 0.0000])\n",
      "Using inversed latents\n",
      "Step 0: t = 1000.0\n",
      "Step 1: t = 875.0\n"
     ]
    },
    {
     "name": "stderr",
     "output_type": "stream",
     "text": []
    },
    {
     "name": "stdout",
     "output_type": "stream",
     "text": [
      "Step 0: t_curr = 1000.0, t_prev = 875.0\n",
      "t:2\n"
     ]
    },
    {
     "name": "stderr",
     "output_type": "stream",
     "text": []
    },
    {
     "name": "stdout",
     "output_type": "stream",
     "text": [
      "Step 1: t_curr = 875.0, t_prev = 0.0\n",
      "t:1\n"
     ]
    },
    {
     "name": "stderr",
     "output_type": "stream",
     "text": [
      "100%|██████████| 2/2 [00:07<00:00,  3.57s/it]\n",
      "\u001b[32m2025-04-04 18:14:23.724\u001b[0m | \u001b[1mINFO    \u001b[0m | \u001b[36mhyvideo.inference\u001b[0m:\u001b[36mpredict\u001b[0m:\u001b[36m709\u001b[0m - \u001b[1mSuccess, time: 44.664477825164795\u001b[0m\n",
      "huggingface/tokenizers: The current process just got forked, after parallelism has already been used. Disabling parallelism to avoid deadlocks...\n",
      "To disable this warning, you can either:\n",
      "\t- Avoid using `tokenizers` before the fork if possible\n",
      "\t- Explicitly set the environment variable TOKENIZERS_PARALLELISM=(true | false)\n",
      "\u001b[32m2025-04-04 18:14:25.499\u001b[0m | \u001b[1mINFO    \u001b[0m | \u001b[36m__main__\u001b[0m:\u001b[36mprocess_sample\u001b[0m:\u001b[36m157\u001b[0m - \u001b[1m保存编辑视频到: ./results/V2VBench/rf-solver_2order/landing/edit_002.mp4\u001b[0m\n",
      "处理数据集批次:  67%|██████▋   | 100/150 [1:10:47<39:59, 47.99s/it]\u001b[32m2025-04-04 18:14:25.528\u001b[0m | \u001b[1mINFO    \u001b[0m | \u001b[36mhyvideo.inference\u001b[0m:\u001b[36mpredict\u001b[0m:\u001b[36m605\u001b[0m - \u001b[1mInput (height, width, video_length) = (512, 512, 25)\u001b[0m\n",
      "\u001b[32m2025-04-04 18:14:25.755\u001b[0m | \u001b[34m\u001b[1mDEBUG   \u001b[0m | \u001b[36mhyvideo.inference\u001b[0m:\u001b[36mpredict\u001b[0m:\u001b[36m665\u001b[0m - \u001b[34m\u001b[1m\n",
      "                        height: 512\n",
      "                         width: 512\n",
      "                  video_length: 25\n",
      "                        prompt: ['a young woman with a towel wrapped around her head applying makeup with a brush']\n",
      "                    neg_prompt: ['Aerial view, aerial view, overexposed, low quality, deformation, a poor composition, bad hands, bad teeth, bad eyes, bad limbs, distortion']\n",
      "                          seed: 42\n",
      "                   infer_steps: 2\n",
      "         num_videos_per_prompt: 1\n",
      "                guidance_scale: 1.0\n",
      "                      n_tokens: 7168\n",
      "                    flow_shift: 7.0\n",
      "       embedded_guidance_scale: 2.0\u001b[0m\n"
     ]
    },
    {
     "name": "stdout",
     "output_type": "stream",
     "text": [
      "cuda:0\n",
      "cuda:0\n",
      "sigmas_reverse\n",
      "sigmas: tensor([0.0000, 0.8750, 1.0000])\n",
      "Using inversed latents\n",
      "Step 0: t = 0.0\n",
      "Step 1: t = 875.0\n"
     ]
    },
    {
     "name": "stderr",
     "output_type": "stream",
     "text": []
    },
    {
     "name": "stdout",
     "output_type": "stream",
     "text": [
      "Step 0: t_curr = 0.0, t_prev = 875.0\n",
      "t:1\n"
     ]
    },
    {
     "name": "stderr",
     "output_type": "stream",
     "text": []
    },
    {
     "name": "stdout",
     "output_type": "stream",
     "text": [
      "Step 1: t_curr = 875.0, t_prev = 1000.0\n",
      "t:2\n"
     ]
    },
    {
     "name": "stderr",
     "output_type": "stream",
     "text": [
      "100%|██████████| 2/2 [00:07<00:00,  3.99s/it]\n"
     ]
    },
    {
     "name": "stdout",
     "output_type": "stream",
     "text": [
      "cuda:0\n",
      "cuda:0\n",
      "sigmas: tensor([1.0000, 0.8750, 0.0000])\n",
      "Using inversed latents\n",
      "Step 0: t = 1000.0\n",
      "Step 1: t = 875.0\n"
     ]
    },
    {
     "name": "stderr",
     "output_type": "stream",
     "text": []
    },
    {
     "name": "stdout",
     "output_type": "stream",
     "text": [
      "Step 0: t_curr = 1000.0, t_prev = 875.0\n",
      "t:2\n"
     ]
    },
    {
     "name": "stderr",
     "output_type": "stream",
     "text": []
    },
    {
     "name": "stdout",
     "output_type": "stream",
     "text": [
      "Step 1: t_curr = 875.0, t_prev = 0.0\n",
      "t:1\n"
     ]
    },
    {
     "name": "stderr",
     "output_type": "stream",
     "text": [
      "100%|██████████| 2/2 [00:06<00:00,  3.42s/it]\n",
      "\u001b[32m2025-04-04 18:15:07.923\u001b[0m | \u001b[1mINFO    \u001b[0m | \u001b[36mhyvideo.inference\u001b[0m:\u001b[36mpredict\u001b[0m:\u001b[36m709\u001b[0m - \u001b[1mSuccess, time: 42.166565895080566\u001b[0m\n",
      "huggingface/tokenizers: The current process just got forked, after parallelism has already been used. Disabling parallelism to avoid deadlocks...\n",
      "To disable this warning, you can either:\n",
      "\t- Avoid using `tokenizers` before the fork if possible\n",
      "\t- Explicitly set the environment variable TOKENIZERS_PARALLELISM=(true | false)\n",
      "\u001b[32m2025-04-04 18:15:09.542\u001b[0m | \u001b[1mINFO    \u001b[0m | \u001b[36m__main__\u001b[0m:\u001b[36mprocess_sample\u001b[0m:\u001b[36m157\u001b[0m - \u001b[1m保存编辑视频到: ./results/V2VBench/rf-solver_2order/makeup/edit_000.mp4\u001b[0m\n",
      "处理数据集批次:  67%|██████▋   | 101/150 [1:11:31<38:14, 46.83s/it]\u001b[32m2025-04-04 18:15:09.577\u001b[0m | \u001b[1mINFO    \u001b[0m | \u001b[36mhyvideo.inference\u001b[0m:\u001b[36mpredict\u001b[0m:\u001b[36m605\u001b[0m - \u001b[1mInput (height, width, video_length) = (512, 512, 25)\u001b[0m\n",
      "\u001b[32m2025-04-04 18:15:09.789\u001b[0m | \u001b[34m\u001b[1mDEBUG   \u001b[0m | \u001b[36mhyvideo.inference\u001b[0m:\u001b[36mpredict\u001b[0m:\u001b[36m665\u001b[0m - \u001b[34m\u001b[1m\n",
      "                        height: 512\n",
      "                         width: 512\n",
      "                  video_length: 25\n",
      "                        prompt: ['a young woman with a towel wrapped around her head applying makeup with a brush']\n",
      "                    neg_prompt: ['Aerial view, aerial view, overexposed, low quality, deformation, a poor composition, bad hands, bad teeth, bad eyes, bad limbs, distortion']\n",
      "                          seed: 42\n",
      "                   infer_steps: 2\n",
      "         num_videos_per_prompt: 1\n",
      "                guidance_scale: 1.0\n",
      "                      n_tokens: 7168\n",
      "                    flow_shift: 7.0\n",
      "       embedded_guidance_scale: 2.0\u001b[0m\n"
     ]
    },
    {
     "name": "stdout",
     "output_type": "stream",
     "text": [
      "cuda:0\n",
      "cuda:0\n",
      "sigmas_reverse\n",
      "sigmas: tensor([0.0000, 0.8750, 1.0000])\n",
      "Using inversed latents\n",
      "Step 0: t = 0.0\n",
      "Step 1: t = 875.0\n"
     ]
    },
    {
     "name": "stderr",
     "output_type": "stream",
     "text": []
    },
    {
     "name": "stdout",
     "output_type": "stream",
     "text": [
      "Step 0: t_curr = 0.0, t_prev = 875.0\n",
      "t:1\n"
     ]
    },
    {
     "name": "stderr",
     "output_type": "stream",
     "text": []
    },
    {
     "name": "stdout",
     "output_type": "stream",
     "text": [
      "Step 1: t_curr = 875.0, t_prev = 1000.0\n",
      "t:2\n"
     ]
    },
    {
     "name": "stderr",
     "output_type": "stream",
     "text": [
      "100%|██████████| 2/2 [00:08<00:00,  4.06s/it]\n"
     ]
    },
    {
     "name": "stdout",
     "output_type": "stream",
     "text": [
      "cuda:0\n",
      "cuda:0\n",
      "sigmas: tensor([1.0000, 0.8750, 0.0000])\n",
      "Using inversed latents\n",
      "Step 0: t = 1000.0\n",
      "Step 1: t = 875.0\n"
     ]
    },
    {
     "name": "stderr",
     "output_type": "stream",
     "text": []
    },
    {
     "name": "stdout",
     "output_type": "stream",
     "text": [
      "Step 0: t_curr = 1000.0, t_prev = 875.0\n",
      "t:2\n"
     ]
    },
    {
     "name": "stderr",
     "output_type": "stream",
     "text": []
    },
    {
     "name": "stdout",
     "output_type": "stream",
     "text": [
      "Step 1: t_curr = 875.0, t_prev = 0.0\n",
      "t:1\n"
     ]
    },
    {
     "name": "stderr",
     "output_type": "stream",
     "text": [
      "100%|██████████| 2/2 [00:07<00:00,  3.73s/it]\n",
      "\u001b[32m2025-04-04 18:15:57.297\u001b[0m | \u001b[1mINFO    \u001b[0m | \u001b[36mhyvideo.inference\u001b[0m:\u001b[36mpredict\u001b[0m:\u001b[36m709\u001b[0m - \u001b[1mSuccess, time: 47.50706100463867\u001b[0m\n",
      "huggingface/tokenizers: The current process just got forked, after parallelism has already been used. Disabling parallelism to avoid deadlocks...\n",
      "To disable this warning, you can either:\n",
      "\t- Avoid using `tokenizers` before the fork if possible\n",
      "\t- Explicitly set the environment variable TOKENIZERS_PARALLELISM=(true | false)\n",
      "\u001b[32m2025-04-04 18:15:58.784\u001b[0m | \u001b[1mINFO    \u001b[0m | \u001b[36m__main__\u001b[0m:\u001b[36mprocess_sample\u001b[0m:\u001b[36m157\u001b[0m - \u001b[1m保存编辑视频到: ./results/V2VBench/rf-solver_2order/makeup/edit_001.mp4\u001b[0m\n",
      "处理数据集批次:  68%|██████▊   | 102/150 [1:12:20<38:02, 47.54s/it]\u001b[32m2025-04-04 18:15:58.811\u001b[0m | \u001b[1mINFO    \u001b[0m | \u001b[36mhyvideo.inference\u001b[0m:\u001b[36mpredict\u001b[0m:\u001b[36m605\u001b[0m - \u001b[1mInput (height, width, video_length) = (512, 512, 25)\u001b[0m\n",
      "\u001b[32m2025-04-04 18:15:59.014\u001b[0m | \u001b[34m\u001b[1mDEBUG   \u001b[0m | \u001b[36mhyvideo.inference\u001b[0m:\u001b[36mpredict\u001b[0m:\u001b[36m665\u001b[0m - \u001b[34m\u001b[1m\n",
      "                        height: 512\n",
      "                         width: 512\n",
      "                  video_length: 25\n",
      "                        prompt: ['a young woman with a towel wrapped around her head applying makeup with a brush']\n",
      "                    neg_prompt: ['Aerial view, aerial view, overexposed, low quality, deformation, a poor composition, bad hands, bad teeth, bad eyes, bad limbs, distortion']\n",
      "                          seed: 42\n",
      "                   infer_steps: 2\n",
      "         num_videos_per_prompt: 1\n",
      "                guidance_scale: 1.0\n",
      "                      n_tokens: 7168\n",
      "                    flow_shift: 7.0\n",
      "       embedded_guidance_scale: 2.0\u001b[0m\n"
     ]
    },
    {
     "name": "stdout",
     "output_type": "stream",
     "text": [
      "cuda:0\n",
      "cuda:0\n",
      "sigmas_reverse\n",
      "sigmas: tensor([0.0000, 0.8750, 1.0000])\n",
      "Using inversed latents\n",
      "Step 0: t = 0.0\n",
      "Step 1: t = 875.0\n"
     ]
    },
    {
     "name": "stderr",
     "output_type": "stream",
     "text": []
    },
    {
     "name": "stdout",
     "output_type": "stream",
     "text": [
      "Step 0: t_curr = 0.0, t_prev = 875.0\n",
      "t:1\n"
     ]
    },
    {
     "name": "stderr",
     "output_type": "stream",
     "text": []
    },
    {
     "name": "stdout",
     "output_type": "stream",
     "text": [
      "Step 1: t_curr = 875.0, t_prev = 1000.0\n",
      "t:2\n"
     ]
    },
    {
     "name": "stderr",
     "output_type": "stream",
     "text": [
      "100%|██████████| 2/2 [00:08<00:00,  4.14s/it]\n"
     ]
    },
    {
     "name": "stdout",
     "output_type": "stream",
     "text": [
      "cuda:0\n",
      "cuda:0\n",
      "sigmas: tensor([1.0000, 0.8750, 0.0000])\n",
      "Using inversed latents\n",
      "Step 0: t = 1000.0\n",
      "Step 1: t = 875.0\n"
     ]
    },
    {
     "name": "stderr",
     "output_type": "stream",
     "text": []
    },
    {
     "name": "stdout",
     "output_type": "stream",
     "text": [
      "Step 0: t_curr = 1000.0, t_prev = 875.0\n",
      "t:2\n"
     ]
    },
    {
     "name": "stderr",
     "output_type": "stream",
     "text": []
    },
    {
     "name": "stdout",
     "output_type": "stream",
     "text": [
      "Step 1: t_curr = 875.0, t_prev = 0.0\n",
      "t:1\n"
     ]
    },
    {
     "name": "stderr",
     "output_type": "stream",
     "text": [
      "100%|██████████| 2/2 [00:07<00:00,  3.58s/it]\n",
      "\u001b[32m2025-04-04 18:16:44.616\u001b[0m | \u001b[1mINFO    \u001b[0m | \u001b[36mhyvideo.inference\u001b[0m:\u001b[36mpredict\u001b[0m:\u001b[36m709\u001b[0m - \u001b[1mSuccess, time: 45.60102939605713\u001b[0m\n",
      "huggingface/tokenizers: The current process just got forked, after parallelism has already been used. Disabling parallelism to avoid deadlocks...\n",
      "To disable this warning, you can either:\n",
      "\t- Avoid using `tokenizers` before the fork if possible\n",
      "\t- Explicitly set the environment variable TOKENIZERS_PARALLELISM=(true | false)\n",
      "\u001b[32m2025-04-04 18:16:46.138\u001b[0m | \u001b[1mINFO    \u001b[0m | \u001b[36m__main__\u001b[0m:\u001b[36mprocess_sample\u001b[0m:\u001b[36m157\u001b[0m - \u001b[1m保存编辑视频到: ./results/V2VBench/rf-solver_2order/makeup/edit_002.mp4\u001b[0m\n",
      "处理数据集批次:  69%|██████▊   | 103/150 [1:13:08<37:11, 47.49s/it]\u001b[32m2025-04-04 18:16:46.170\u001b[0m | \u001b[1mINFO    \u001b[0m | \u001b[36mhyvideo.inference\u001b[0m:\u001b[36mpredict\u001b[0m:\u001b[36m605\u001b[0m - \u001b[1mInput (height, width, video_length) = (512, 512, 25)\u001b[0m\n",
      "\u001b[32m2025-04-04 18:16:46.363\u001b[0m | \u001b[34m\u001b[1mDEBUG   \u001b[0m | \u001b[36mhyvideo.inference\u001b[0m:\u001b[36mpredict\u001b[0m:\u001b[36m665\u001b[0m - \u001b[34m\u001b[1m\n",
      "                        height: 512\n",
      "                         width: 512\n",
      "                  video_length: 25\n",
      "                        prompt: ['a snowboarder in a yellow jacket carves down a snowy mountain slope against a blue sky']\n",
      "                    neg_prompt: ['Aerial view, aerial view, overexposed, low quality, deformation, a poor composition, bad hands, bad teeth, bad eyes, bad limbs, distortion']\n",
      "                          seed: 42\n",
      "                   infer_steps: 2\n",
      "         num_videos_per_prompt: 1\n",
      "                guidance_scale: 1.0\n",
      "                      n_tokens: 7168\n",
      "                    flow_shift: 7.0\n",
      "       embedded_guidance_scale: 2.0\u001b[0m\n"
     ]
    },
    {
     "name": "stdout",
     "output_type": "stream",
     "text": [
      "cuda:0\n",
      "cuda:0\n",
      "sigmas_reverse\n",
      "sigmas: tensor([0.0000, 0.8750, 1.0000])\n",
      "Using inversed latents\n",
      "Step 0: t = 0.0\n",
      "Step 1: t = 875.0\n"
     ]
    },
    {
     "name": "stderr",
     "output_type": "stream",
     "text": []
    },
    {
     "name": "stdout",
     "output_type": "stream",
     "text": [
      "Step 0: t_curr = 0.0, t_prev = 875.0\n",
      "t:1\n"
     ]
    },
    {
     "name": "stderr",
     "output_type": "stream",
     "text": []
    },
    {
     "name": "stdout",
     "output_type": "stream",
     "text": [
      "Step 1: t_curr = 875.0, t_prev = 1000.0\n",
      "t:2\n"
     ]
    },
    {
     "name": "stderr",
     "output_type": "stream",
     "text": [
      "100%|██████████| 2/2 [00:08<00:00,  4.07s/it]\n"
     ]
    },
    {
     "name": "stdout",
     "output_type": "stream",
     "text": [
      "cuda:0\n",
      "cuda:0\n",
      "sigmas: tensor([1.0000, 0.8750, 0.0000])\n",
      "Using inversed latents\n",
      "Step 0: t = 1000.0\n",
      "Step 1: t = 875.0\n"
     ]
    },
    {
     "name": "stderr",
     "output_type": "stream",
     "text": []
    },
    {
     "name": "stdout",
     "output_type": "stream",
     "text": [
      "Step 0: t_curr = 1000.0, t_prev = 875.0\n",
      "t:2\n"
     ]
    },
    {
     "name": "stderr",
     "output_type": "stream",
     "text": []
    },
    {
     "name": "stdout",
     "output_type": "stream",
     "text": [
      "Step 1: t_curr = 875.0, t_prev = 0.0\n",
      "t:1\n"
     ]
    },
    {
     "name": "stderr",
     "output_type": "stream",
     "text": [
      "100%|██████████| 2/2 [00:07<00:00,  3.66s/it]\n",
      "\u001b[32m2025-04-04 18:17:35.987\u001b[0m | \u001b[1mINFO    \u001b[0m | \u001b[36mhyvideo.inference\u001b[0m:\u001b[36mpredict\u001b[0m:\u001b[36m709\u001b[0m - \u001b[1mSuccess, time: 49.622843503952026\u001b[0m\n",
      "huggingface/tokenizers: The current process just got forked, after parallelism has already been used. Disabling parallelism to avoid deadlocks...\n",
      "To disable this warning, you can either:\n",
      "\t- Avoid using `tokenizers` before the fork if possible\n",
      "\t- Explicitly set the environment variable TOKENIZERS_PARALLELISM=(true | false)\n",
      "\u001b[32m2025-04-04 18:17:37.593\u001b[0m | \u001b[1mINFO    \u001b[0m | \u001b[36m__main__\u001b[0m:\u001b[36mprocess_sample\u001b[0m:\u001b[36m157\u001b[0m - \u001b[1m保存编辑视频到: ./results/V2VBench/rf-solver_2order/man-skiing/edit_000.mp4\u001b[0m\n",
      "处理数据集批次:  69%|██████▉   | 104/150 [1:13:59<37:18, 48.67s/it]\u001b[32m2025-04-04 18:17:37.633\u001b[0m | \u001b[1mINFO    \u001b[0m | \u001b[36mhyvideo.inference\u001b[0m:\u001b[36mpredict\u001b[0m:\u001b[36m605\u001b[0m - \u001b[1mInput (height, width, video_length) = (512, 512, 25)\u001b[0m\n",
      "\u001b[32m2025-04-04 18:17:37.684\u001b[0m | \u001b[34m\u001b[1mDEBUG   \u001b[0m | \u001b[36mhyvideo.inference\u001b[0m:\u001b[36mpredict\u001b[0m:\u001b[36m665\u001b[0m - \u001b[34m\u001b[1m\n",
      "                        height: 512\n",
      "                         width: 512\n",
      "                  video_length: 25\n",
      "                        prompt: ['a snowboarder in a yellow jacket carves down a snowy mountain slope against a blue sky']\n",
      "                    neg_prompt: ['Aerial view, aerial view, overexposed, low quality, deformation, a poor composition, bad hands, bad teeth, bad eyes, bad limbs, distortion']\n",
      "                          seed: 42\n",
      "                   infer_steps: 2\n",
      "         num_videos_per_prompt: 1\n",
      "                guidance_scale: 1.0\n",
      "                      n_tokens: 7168\n",
      "                    flow_shift: 7.0\n",
      "       embedded_guidance_scale: 2.0\u001b[0m\n"
     ]
    },
    {
     "name": "stdout",
     "output_type": "stream",
     "text": [
      "cuda:0\n",
      "cuda:0\n",
      "sigmas_reverse\n",
      "sigmas: tensor([0.0000, 0.8750, 1.0000])\n",
      "Using inversed latents\n",
      "Step 0: t = 0.0\n",
      "Step 1: t = 875.0\n"
     ]
    },
    {
     "name": "stderr",
     "output_type": "stream",
     "text": []
    },
    {
     "name": "stdout",
     "output_type": "stream",
     "text": [
      "Step 0: t_curr = 0.0, t_prev = 875.0\n",
      "t:1\n"
     ]
    },
    {
     "name": "stderr",
     "output_type": "stream",
     "text": []
    },
    {
     "name": "stdout",
     "output_type": "stream",
     "text": [
      "Step 1: t_curr = 875.0, t_prev = 1000.0\n",
      "t:2\n"
     ]
    },
    {
     "name": "stderr",
     "output_type": "stream",
     "text": [
      "100%|██████████| 2/2 [00:07<00:00,  4.00s/it]\n"
     ]
    },
    {
     "name": "stdout",
     "output_type": "stream",
     "text": [
      "cuda:0\n",
      "cuda:0\n",
      "sigmas: tensor([1.0000, 0.8750, 0.0000])\n",
      "Using inversed latents\n",
      "Step 0: t = 1000.0\n",
      "Step 1: t = 875.0\n"
     ]
    },
    {
     "name": "stderr",
     "output_type": "stream",
     "text": []
    },
    {
     "name": "stdout",
     "output_type": "stream",
     "text": [
      "Step 0: t_curr = 1000.0, t_prev = 875.0\n",
      "t:2\n"
     ]
    },
    {
     "name": "stderr",
     "output_type": "stream",
     "text": []
    },
    {
     "name": "stdout",
     "output_type": "stream",
     "text": [
      "Step 1: t_curr = 875.0, t_prev = 0.0\n",
      "t:1\n"
     ]
    },
    {
     "name": "stderr",
     "output_type": "stream",
     "text": [
      "100%|██████████| 2/2 [00:06<00:00,  3.44s/it]\n",
      "\u001b[32m2025-04-04 18:18:18.777\u001b[0m | \u001b[1mINFO    \u001b[0m | \u001b[36mhyvideo.inference\u001b[0m:\u001b[36mpredict\u001b[0m:\u001b[36m709\u001b[0m - \u001b[1mSuccess, time: 41.08629536628723\u001b[0m\n",
      "huggingface/tokenizers: The current process just got forked, after parallelism has already been used. Disabling parallelism to avoid deadlocks...\n",
      "To disable this warning, you can either:\n",
      "\t- Avoid using `tokenizers` before the fork if possible\n",
      "\t- Explicitly set the environment variable TOKENIZERS_PARALLELISM=(true | false)\n",
      "\u001b[32m2025-04-04 18:18:20.353\u001b[0m | \u001b[1mINFO    \u001b[0m | \u001b[36m__main__\u001b[0m:\u001b[36mprocess_sample\u001b[0m:\u001b[36m157\u001b[0m - \u001b[1m保存编辑视频到: ./results/V2VBench/rf-solver_2order/man-skiing/edit_001.mp4\u001b[0m\n",
      "处理数据集批次:  70%|███████   | 105/150 [1:14:42<35:10, 46.90s/it]\u001b[32m2025-04-04 18:18:20.385\u001b[0m | \u001b[1mINFO    \u001b[0m | \u001b[36mhyvideo.inference\u001b[0m:\u001b[36mpredict\u001b[0m:\u001b[36m605\u001b[0m - \u001b[1mInput (height, width, video_length) = (512, 512, 25)\u001b[0m\n",
      "\u001b[32m2025-04-04 18:18:20.413\u001b[0m | \u001b[34m\u001b[1mDEBUG   \u001b[0m | \u001b[36mhyvideo.inference\u001b[0m:\u001b[36mpredict\u001b[0m:\u001b[36m665\u001b[0m - \u001b[34m\u001b[1m\n",
      "                        height: 512\n",
      "                         width: 512\n",
      "                  video_length: 25\n",
      "                        prompt: ['a snowboarder in a yellow jacket carves down a snowy mountain slope against a blue sky']\n",
      "                    neg_prompt: ['Aerial view, aerial view, overexposed, low quality, deformation, a poor composition, bad hands, bad teeth, bad eyes, bad limbs, distortion']\n",
      "                          seed: 42\n",
      "                   infer_steps: 2\n",
      "         num_videos_per_prompt: 1\n",
      "                guidance_scale: 1.0\n",
      "                      n_tokens: 7168\n",
      "                    flow_shift: 7.0\n",
      "       embedded_guidance_scale: 2.0\u001b[0m\n"
     ]
    },
    {
     "name": "stdout",
     "output_type": "stream",
     "text": [
      "cuda:0\n",
      "cuda:0\n",
      "sigmas_reverse\n",
      "sigmas: tensor([0.0000, 0.8750, 1.0000])\n",
      "Using inversed latents\n",
      "Step 0: t = 0.0\n",
      "Step 1: t = 875.0\n"
     ]
    },
    {
     "name": "stderr",
     "output_type": "stream",
     "text": []
    },
    {
     "name": "stdout",
     "output_type": "stream",
     "text": [
      "Step 0: t_curr = 0.0, t_prev = 875.0\n",
      "t:1\n"
     ]
    },
    {
     "name": "stderr",
     "output_type": "stream",
     "text": []
    },
    {
     "name": "stdout",
     "output_type": "stream",
     "text": [
      "Step 1: t_curr = 875.0, t_prev = 1000.0\n",
      "t:2\n"
     ]
    },
    {
     "name": "stderr",
     "output_type": "stream",
     "text": [
      "100%|██████████| 2/2 [00:08<00:00,  4.23s/it]\n"
     ]
    },
    {
     "name": "stdout",
     "output_type": "stream",
     "text": [
      "cuda:0\n",
      "cuda:0\n",
      "sigmas: tensor([1.0000, 0.8750, 0.0000])\n",
      "Using inversed latents\n",
      "Step 0: t = 1000.0\n",
      "Step 1: t = 875.0\n"
     ]
    },
    {
     "name": "stderr",
     "output_type": "stream",
     "text": []
    },
    {
     "name": "stdout",
     "output_type": "stream",
     "text": [
      "Step 0: t_curr = 1000.0, t_prev = 875.0\n",
      "t:2\n"
     ]
    },
    {
     "name": "stderr",
     "output_type": "stream",
     "text": []
    },
    {
     "name": "stdout",
     "output_type": "stream",
     "text": [
      "Step 1: t_curr = 875.0, t_prev = 0.0\n",
      "t:1\n"
     ]
    },
    {
     "name": "stderr",
     "output_type": "stream",
     "text": [
      "100%|██████████| 2/2 [00:07<00:00,  3.95s/it]\n",
      "\u001b[32m2025-04-04 18:19:10.629\u001b[0m | \u001b[1mINFO    \u001b[0m | \u001b[36mhyvideo.inference\u001b[0m:\u001b[36mpredict\u001b[0m:\u001b[36m709\u001b[0m - \u001b[1mSuccess, time: 50.21114659309387\u001b[0m\n",
      "huggingface/tokenizers: The current process just got forked, after parallelism has already been used. Disabling parallelism to avoid deadlocks...\n",
      "To disable this warning, you can either:\n",
      "\t- Avoid using `tokenizers` before the fork if possible\n",
      "\t- Explicitly set the environment variable TOKENIZERS_PARALLELISM=(true | false)\n",
      "\u001b[32m2025-04-04 18:19:12.209\u001b[0m | \u001b[1mINFO    \u001b[0m | \u001b[36m__main__\u001b[0m:\u001b[36mprocess_sample\u001b[0m:\u001b[36m157\u001b[0m - \u001b[1m保存编辑视频到: ./results/V2VBench/rf-solver_2order/man-skiing/edit_002.mp4\u001b[0m\n",
      "处理数据集批次:  71%|███████▏  | 107/150 [1:15:34<26:41, 37.24s/it]\u001b[32m2025-04-04 18:19:12.240\u001b[0m | \u001b[1mINFO    \u001b[0m | \u001b[36mhyvideo.inference\u001b[0m:\u001b[36mpredict\u001b[0m:\u001b[36m605\u001b[0m - \u001b[1mInput (height, width, video_length) = (512, 512, 25)\u001b[0m\n",
      "\u001b[32m2025-04-04 18:19:12.282\u001b[0m | \u001b[34m\u001b[1mDEBUG   \u001b[0m | \u001b[36mhyvideo.inference\u001b[0m:\u001b[36mpredict\u001b[0m:\u001b[36m665\u001b[0m - \u001b[34m\u001b[1m\n",
      "                        height: 512\n",
      "                         width: 512\n",
      "                  video_length: 25\n",
      "                        prompt: ['a man surfs atop waves on a surfboard in the ocean']\n",
      "                    neg_prompt: ['Aerial view, aerial view, overexposed, low quality, deformation, a poor composition, bad hands, bad teeth, bad eyes, bad limbs, distortion']\n",
      "                          seed: 42\n",
      "                   infer_steps: 2\n",
      "         num_videos_per_prompt: 1\n",
      "                guidance_scale: 1.0\n",
      "                      n_tokens: 7168\n",
      "                    flow_shift: 7.0\n",
      "       embedded_guidance_scale: 2.0\u001b[0m\n"
     ]
    },
    {
     "name": "stdout",
     "output_type": "stream",
     "text": [
      "cuda:0\n",
      "cuda:0\n",
      "sigmas_reverse\n",
      "sigmas: tensor([0.0000, 0.8750, 1.0000])\n",
      "Using inversed latents\n",
      "Step 0: t = 0.0\n",
      "Step 1: t = 875.0\n"
     ]
    },
    {
     "name": "stderr",
     "output_type": "stream",
     "text": []
    },
    {
     "name": "stdout",
     "output_type": "stream",
     "text": [
      "Step 0: t_curr = 0.0, t_prev = 875.0\n",
      "t:1\n"
     ]
    },
    {
     "name": "stderr",
     "output_type": "stream",
     "text": []
    },
    {
     "name": "stdout",
     "output_type": "stream",
     "text": [
      "Step 1: t_curr = 875.0, t_prev = 1000.0\n",
      "t:2\n"
     ]
    },
    {
     "name": "stderr",
     "output_type": "stream",
     "text": [
      "100%|██████████| 2/2 [00:08<00:00,  4.01s/it]\n"
     ]
    },
    {
     "name": "stdout",
     "output_type": "stream",
     "text": [
      "cuda:0\n",
      "cuda:0\n",
      "sigmas: tensor([1.0000, 0.8750, 0.0000])\n",
      "Using inversed latents\n",
      "Step 0: t = 1000.0\n",
      "Step 1: t = 875.0\n"
     ]
    },
    {
     "name": "stderr",
     "output_type": "stream",
     "text": []
    },
    {
     "name": "stdout",
     "output_type": "stream",
     "text": [
      "Step 0: t_curr = 1000.0, t_prev = 875.0\n",
      "t:2\n"
     ]
    },
    {
     "name": "stderr",
     "output_type": "stream",
     "text": []
    },
    {
     "name": "stdout",
     "output_type": "stream",
     "text": [
      "Step 1: t_curr = 875.0, t_prev = 0.0\n",
      "t:1\n"
     ]
    },
    {
     "name": "stderr",
     "output_type": "stream",
     "text": [
      "100%|██████████| 2/2 [00:07<00:00,  3.52s/it]\n",
      "\u001b[32m2025-04-04 18:19:55.944\u001b[0m | \u001b[1mINFO    \u001b[0m | \u001b[36mhyvideo.inference\u001b[0m:\u001b[36mpredict\u001b[0m:\u001b[36m709\u001b[0m - \u001b[1mSuccess, time: 43.66019153594971\u001b[0m\n",
      "huggingface/tokenizers: The current process just got forked, after parallelism has already been used. Disabling parallelism to avoid deadlocks...\n",
      "To disable this warning, you can either:\n",
      "\t- Avoid using `tokenizers` before the fork if possible\n",
      "\t- Explicitly set the environment variable TOKENIZERS_PARALLELISM=(true | false)\n",
      "\u001b[32m2025-04-04 18:19:57.587\u001b[0m | \u001b[1mINFO    \u001b[0m | \u001b[36m__main__\u001b[0m:\u001b[36mprocess_sample\u001b[0m:\u001b[36m157\u001b[0m - \u001b[1m保存编辑视频到: ./results/V2VBench/rf-solver_2order/man-surfing/edit_000.mp4\u001b[0m\n",
      "处理数据集批次:  72%|███████▏  | 108/150 [1:16:19<27:28, 39.26s/it]\u001b[32m2025-04-04 18:19:57.619\u001b[0m | \u001b[1mINFO    \u001b[0m | \u001b[36mhyvideo.inference\u001b[0m:\u001b[36mpredict\u001b[0m:\u001b[36m605\u001b[0m - \u001b[1mInput (height, width, video_length) = (512, 512, 25)\u001b[0m\n",
      "\u001b[32m2025-04-04 18:19:57.681\u001b[0m | \u001b[34m\u001b[1mDEBUG   \u001b[0m | \u001b[36mhyvideo.inference\u001b[0m:\u001b[36mpredict\u001b[0m:\u001b[36m665\u001b[0m - \u001b[34m\u001b[1m\n",
      "                        height: 512\n",
      "                         width: 512\n",
      "                  video_length: 25\n",
      "                        prompt: ['a man surfs atop waves on a surfboard in the ocean']\n",
      "                    neg_prompt: ['Aerial view, aerial view, overexposed, low quality, deformation, a poor composition, bad hands, bad teeth, bad eyes, bad limbs, distortion']\n",
      "                          seed: 42\n",
      "                   infer_steps: 2\n",
      "         num_videos_per_prompt: 1\n",
      "                guidance_scale: 1.0\n",
      "                      n_tokens: 7168\n",
      "                    flow_shift: 7.0\n",
      "       embedded_guidance_scale: 2.0\u001b[0m\n"
     ]
    },
    {
     "name": "stdout",
     "output_type": "stream",
     "text": [
      "cuda:0\n",
      "cuda:0\n",
      "sigmas_reverse\n",
      "sigmas: tensor([0.0000, 0.8750, 1.0000])\n",
      "Using inversed latents\n",
      "Step 0: t = 0.0\n",
      "Step 1: t = 875.0\n"
     ]
    },
    {
     "name": "stderr",
     "output_type": "stream",
     "text": []
    },
    {
     "name": "stdout",
     "output_type": "stream",
     "text": [
      "Step 0: t_curr = 0.0, t_prev = 875.0\n",
      "t:1\n"
     ]
    },
    {
     "name": "stderr",
     "output_type": "stream",
     "text": []
    },
    {
     "name": "stdout",
     "output_type": "stream",
     "text": [
      "Step 1: t_curr = 875.0, t_prev = 1000.0\n",
      "t:2\n"
     ]
    },
    {
     "name": "stderr",
     "output_type": "stream",
     "text": [
      "100%|██████████| 2/2 [00:08<00:00,  4.02s/it]\n"
     ]
    },
    {
     "name": "stdout",
     "output_type": "stream",
     "text": [
      "cuda:0\n",
      "cuda:0\n",
      "sigmas: tensor([1.0000, 0.8750, 0.0000])\n",
      "Using inversed latents\n",
      "Step 0: t = 1000.0\n",
      "Step 1: t = 875.0\n"
     ]
    },
    {
     "name": "stderr",
     "output_type": "stream",
     "text": []
    },
    {
     "name": "stdout",
     "output_type": "stream",
     "text": [
      "Step 0: t_curr = 1000.0, t_prev = 875.0\n",
      "t:2\n"
     ]
    },
    {
     "name": "stderr",
     "output_type": "stream",
     "text": []
    },
    {
     "name": "stdout",
     "output_type": "stream",
     "text": [
      "Step 1: t_curr = 875.0, t_prev = 0.0\n",
      "t:1\n"
     ]
    },
    {
     "name": "stderr",
     "output_type": "stream",
     "text": [
      "100%|██████████| 2/2 [00:06<00:00,  3.45s/it]\n",
      "\u001b[32m2025-04-04 18:20:38.858\u001b[0m | \u001b[1mINFO    \u001b[0m | \u001b[36mhyvideo.inference\u001b[0m:\u001b[36mpredict\u001b[0m:\u001b[36m709\u001b[0m - \u001b[1mSuccess, time: 41.17472696304321\u001b[0m\n",
      "huggingface/tokenizers: The current process just got forked, after parallelism has already been used. Disabling parallelism to avoid deadlocks...\n",
      "To disable this warning, you can either:\n",
      "\t- Avoid using `tokenizers` before the fork if possible\n",
      "\t- Explicitly set the environment variable TOKENIZERS_PARALLELISM=(true | false)\n",
      "\u001b[32m2025-04-04 18:20:40.440\u001b[0m | \u001b[1mINFO    \u001b[0m | \u001b[36m__main__\u001b[0m:\u001b[36mprocess_sample\u001b[0m:\u001b[36m157\u001b[0m - \u001b[1m保存编辑视频到: ./results/V2VBench/rf-solver_2order/man-surfing/edit_001.mp4\u001b[0m\n",
      "处理数据集批次:  73%|███████▎  | 109/150 [1:17:02<27:28, 40.20s/it]\u001b[32m2025-04-04 18:20:40.469\u001b[0m | \u001b[1mINFO    \u001b[0m | \u001b[36mhyvideo.inference\u001b[0m:\u001b[36mpredict\u001b[0m:\u001b[36m605\u001b[0m - \u001b[1mInput (height, width, video_length) = (512, 512, 25)\u001b[0m\n",
      "\u001b[32m2025-04-04 18:20:40.487\u001b[0m | \u001b[34m\u001b[1mDEBUG   \u001b[0m | \u001b[36mhyvideo.inference\u001b[0m:\u001b[36mpredict\u001b[0m:\u001b[36m665\u001b[0m - \u001b[34m\u001b[1m\n",
      "                        height: 512\n",
      "                         width: 512\n",
      "                  video_length: 25\n",
      "                        prompt: ['a man surfs atop waves on a surfboard in the ocean']\n",
      "                    neg_prompt: ['Aerial view, aerial view, overexposed, low quality, deformation, a poor composition, bad hands, bad teeth, bad eyes, bad limbs, distortion']\n",
      "                          seed: 42\n",
      "                   infer_steps: 2\n",
      "         num_videos_per_prompt: 1\n",
      "                guidance_scale: 1.0\n",
      "                      n_tokens: 7168\n",
      "                    flow_shift: 7.0\n",
      "       embedded_guidance_scale: 2.0\u001b[0m\n"
     ]
    },
    {
     "name": "stdout",
     "output_type": "stream",
     "text": [
      "cuda:0\n",
      "cuda:0\n",
      "sigmas_reverse\n",
      "sigmas: tensor([0.0000, 0.8750, 1.0000])\n",
      "Using inversed latents\n",
      "Step 0: t = 0.0\n",
      "Step 1: t = 875.0\n"
     ]
    },
    {
     "name": "stderr",
     "output_type": "stream",
     "text": []
    },
    {
     "name": "stdout",
     "output_type": "stream",
     "text": [
      "Step 0: t_curr = 0.0, t_prev = 875.0\n",
      "t:1\n"
     ]
    },
    {
     "name": "stderr",
     "output_type": "stream",
     "text": []
    },
    {
     "name": "stdout",
     "output_type": "stream",
     "text": [
      "Step 1: t_curr = 875.0, t_prev = 1000.0\n",
      "t:2\n"
     ]
    },
    {
     "name": "stderr",
     "output_type": "stream",
     "text": [
      "100%|██████████| 2/2 [00:08<00:00,  4.00s/it]\n"
     ]
    },
    {
     "name": "stdout",
     "output_type": "stream",
     "text": [
      "cuda:0\n",
      "cuda:0\n",
      "sigmas: tensor([1.0000, 0.8750, 0.0000])\n",
      "Using inversed latents\n",
      "Step 0: t = 1000.0\n",
      "Step 1: t = 875.0\n"
     ]
    },
    {
     "name": "stderr",
     "output_type": "stream",
     "text": []
    },
    {
     "name": "stdout",
     "output_type": "stream",
     "text": [
      "Step 0: t_curr = 1000.0, t_prev = 875.0\n",
      "t:2\n"
     ]
    },
    {
     "name": "stderr",
     "output_type": "stream",
     "text": []
    },
    {
     "name": "stdout",
     "output_type": "stream",
     "text": [
      "Step 1: t_curr = 875.0, t_prev = 0.0\n",
      "t:1\n"
     ]
    },
    {
     "name": "stderr",
     "output_type": "stream",
     "text": [
      "100%|██████████| 2/2 [00:06<00:00,  3.46s/it]\n",
      "\u001b[32m2025-04-04 18:21:21.796\u001b[0m | \u001b[1mINFO    \u001b[0m | \u001b[36mhyvideo.inference\u001b[0m:\u001b[36mpredict\u001b[0m:\u001b[36m709\u001b[0m - \u001b[1mSuccess, time: 41.30858397483826\u001b[0m\n",
      "huggingface/tokenizers: The current process just got forked, after parallelism has already been used. Disabling parallelism to avoid deadlocks...\n",
      "To disable this warning, you can either:\n",
      "\t- Avoid using `tokenizers` before the fork if possible\n",
      "\t- Explicitly set the environment variable TOKENIZERS_PARALLELISM=(true | false)\n",
      "\u001b[32m2025-04-04 18:21:23.488\u001b[0m | \u001b[1mINFO    \u001b[0m | \u001b[36m__main__\u001b[0m:\u001b[36mprocess_sample\u001b[0m:\u001b[36m157\u001b[0m - \u001b[1m保存编辑视频到: ./results/V2VBench/rf-solver_2order/man-surfing/edit_002.mp4\u001b[0m\n",
      "处理数据集批次:  73%|███████▎  | 110/150 [1:17:45<27:18, 40.97s/it]\u001b[32m2025-04-04 18:21:23.525\u001b[0m | \u001b[1mINFO    \u001b[0m | \u001b[36mhyvideo.inference\u001b[0m:\u001b[36mpredict\u001b[0m:\u001b[36m605\u001b[0m - \u001b[1mInput (height, width, video_length) = (512, 512, 25)\u001b[0m\n",
      "\u001b[32m2025-04-04 18:21:23.735\u001b[0m | \u001b[34m\u001b[1mDEBUG   \u001b[0m | \u001b[36mhyvideo.inference\u001b[0m:\u001b[36mpredict\u001b[0m:\u001b[36m665\u001b[0m - \u001b[34m\u001b[1m\n",
      "                        height: 512\n",
      "                         width: 512\n",
      "                  video_length: 25\n",
      "                        prompt: ['a man in a white shirt and black pants wearing gray sneakers performing the moonwalk dance move on a wooden floor']\n",
      "                    neg_prompt: ['Aerial view, aerial view, overexposed, low quality, deformation, a poor composition, bad hands, bad teeth, bad eyes, bad limbs, distortion']\n",
      "                          seed: 42\n",
      "                   infer_steps: 2\n",
      "         num_videos_per_prompt: 1\n",
      "                guidance_scale: 1.0\n",
      "                      n_tokens: 7168\n",
      "                    flow_shift: 7.0\n",
      "       embedded_guidance_scale: 2.0\u001b[0m\n"
     ]
    },
    {
     "name": "stdout",
     "output_type": "stream",
     "text": [
      "cuda:0\n",
      "cuda:0\n",
      "sigmas_reverse\n",
      "sigmas: tensor([0.0000, 0.8750, 1.0000])\n",
      "Using inversed latents\n",
      "Step 0: t = 0.0\n",
      "Step 1: t = 875.0\n"
     ]
    },
    {
     "name": "stderr",
     "output_type": "stream",
     "text": []
    },
    {
     "name": "stdout",
     "output_type": "stream",
     "text": [
      "Step 0: t_curr = 0.0, t_prev = 875.0\n",
      "t:1\n"
     ]
    },
    {
     "name": "stderr",
     "output_type": "stream",
     "text": []
    },
    {
     "name": "stdout",
     "output_type": "stream",
     "text": [
      "Step 1: t_curr = 875.0, t_prev = 1000.0\n",
      "t:2\n"
     ]
    },
    {
     "name": "stderr",
     "output_type": "stream",
     "text": [
      "100%|██████████| 2/2 [00:08<00:00,  4.01s/it]\n"
     ]
    },
    {
     "name": "stdout",
     "output_type": "stream",
     "text": [
      "cuda:0\n",
      "cuda:0\n",
      "sigmas: tensor([1.0000, 0.8750, 0.0000])\n",
      "Using inversed latents\n",
      "Step 0: t = 1000.0\n",
      "Step 1: t = 875.0\n"
     ]
    },
    {
     "name": "stderr",
     "output_type": "stream",
     "text": []
    },
    {
     "name": "stdout",
     "output_type": "stream",
     "text": [
      "Step 0: t_curr = 1000.0, t_prev = 875.0\n",
      "t:2\n"
     ]
    },
    {
     "name": "stderr",
     "output_type": "stream",
     "text": []
    },
    {
     "name": "stdout",
     "output_type": "stream",
     "text": [
      "Step 1: t_curr = 875.0, t_prev = 0.0\n",
      "t:1\n"
     ]
    },
    {
     "name": "stderr",
     "output_type": "stream",
     "text": [
      "100%|██████████| 2/2 [00:06<00:00,  3.44s/it]\n",
      "\u001b[32m2025-04-04 18:22:05.177\u001b[0m | \u001b[1mINFO    \u001b[0m | \u001b[36mhyvideo.inference\u001b[0m:\u001b[36mpredict\u001b[0m:\u001b[36m709\u001b[0m - \u001b[1mSuccess, time: 41.440741300582886\u001b[0m\n",
      "huggingface/tokenizers: The current process just got forked, after parallelism has already been used. Disabling parallelism to avoid deadlocks...\n",
      "To disable this warning, you can either:\n",
      "\t- Avoid using `tokenizers` before the fork if possible\n",
      "\t- Explicitly set the environment variable TOKENIZERS_PARALLELISM=(true | false)\n",
      "\u001b[32m2025-04-04 18:22:06.625\u001b[0m | \u001b[1mINFO    \u001b[0m | \u001b[36m__main__\u001b[0m:\u001b[36mprocess_sample\u001b[0m:\u001b[36m157\u001b[0m - \u001b[1m保存编辑视频到: ./results/V2VBench/rf-solver_2order/moonwalk/edit_000.mp4\u001b[0m\n",
      "处理数据集批次:  74%|███████▍  | 111/150 [1:18:28<27:01, 41.58s/it]\u001b[32m2025-04-04 18:22:06.655\u001b[0m | \u001b[1mINFO    \u001b[0m | \u001b[36mhyvideo.inference\u001b[0m:\u001b[36mpredict\u001b[0m:\u001b[36m605\u001b[0m - \u001b[1mInput (height, width, video_length) = (512, 512, 25)\u001b[0m\n",
      "\u001b[32m2025-04-04 18:22:06.877\u001b[0m | \u001b[34m\u001b[1mDEBUG   \u001b[0m | \u001b[36mhyvideo.inference\u001b[0m:\u001b[36mpredict\u001b[0m:\u001b[36m665\u001b[0m - \u001b[34m\u001b[1m\n",
      "                        height: 512\n",
      "                         width: 512\n",
      "                  video_length: 25\n",
      "                        prompt: ['a man in a white shirt and black pants wearing gray sneakers performing the moonwalk dance move on a wooden floor']\n",
      "                    neg_prompt: ['Aerial view, aerial view, overexposed, low quality, deformation, a poor composition, bad hands, bad teeth, bad eyes, bad limbs, distortion']\n",
      "                          seed: 42\n",
      "                   infer_steps: 2\n",
      "         num_videos_per_prompt: 1\n",
      "                guidance_scale: 1.0\n",
      "                      n_tokens: 7168\n",
      "                    flow_shift: 7.0\n",
      "       embedded_guidance_scale: 2.0\u001b[0m\n"
     ]
    },
    {
     "name": "stdout",
     "output_type": "stream",
     "text": [
      "cuda:0\n",
      "cuda:0\n",
      "sigmas_reverse\n",
      "sigmas: tensor([0.0000, 0.8750, 1.0000])\n",
      "Using inversed latents\n",
      "Step 0: t = 0.0\n",
      "Step 1: t = 875.0\n"
     ]
    },
    {
     "name": "stderr",
     "output_type": "stream",
     "text": []
    },
    {
     "name": "stdout",
     "output_type": "stream",
     "text": [
      "Step 0: t_curr = 0.0, t_prev = 875.0\n",
      "t:1\n"
     ]
    },
    {
     "name": "stderr",
     "output_type": "stream",
     "text": []
    },
    {
     "name": "stdout",
     "output_type": "stream",
     "text": [
      "Step 1: t_curr = 875.0, t_prev = 1000.0\n",
      "t:2\n"
     ]
    },
    {
     "name": "stderr",
     "output_type": "stream",
     "text": [
      "100%|██████████| 2/2 [00:08<00:00,  4.04s/it]\n"
     ]
    },
    {
     "name": "stdout",
     "output_type": "stream",
     "text": [
      "cuda:0\n",
      "cuda:0\n",
      "sigmas: tensor([1.0000, 0.8750, 0.0000])\n",
      "Using inversed latents\n",
      "Step 0: t = 1000.0\n",
      "Step 1: t = 875.0\n"
     ]
    },
    {
     "name": "stderr",
     "output_type": "stream",
     "text": []
    },
    {
     "name": "stdout",
     "output_type": "stream",
     "text": [
      "Step 0: t_curr = 1000.0, t_prev = 875.0\n",
      "t:2\n"
     ]
    },
    {
     "name": "stderr",
     "output_type": "stream",
     "text": []
    },
    {
     "name": "stdout",
     "output_type": "stream",
     "text": [
      "Step 1: t_curr = 875.0, t_prev = 0.0\n",
      "t:1\n"
     ]
    },
    {
     "name": "stderr",
     "output_type": "stream",
     "text": [
      "100%|██████████| 2/2 [00:06<00:00,  3.45s/it]\n",
      "\u001b[32m2025-04-04 18:22:47.419\u001b[0m | \u001b[1mINFO    \u001b[0m | \u001b[36mhyvideo.inference\u001b[0m:\u001b[36mpredict\u001b[0m:\u001b[36m709\u001b[0m - \u001b[1mSuccess, time: 40.53646469116211\u001b[0m\n",
      "huggingface/tokenizers: The current process just got forked, after parallelism has already been used. Disabling parallelism to avoid deadlocks...\n",
      "To disable this warning, you can either:\n",
      "\t- Avoid using `tokenizers` before the fork if possible\n",
      "\t- Explicitly set the environment variable TOKENIZERS_PARALLELISM=(true | false)\n",
      "\u001b[32m2025-04-04 18:22:48.980\u001b[0m | \u001b[1mINFO    \u001b[0m | \u001b[36m__main__\u001b[0m:\u001b[36mprocess_sample\u001b[0m:\u001b[36m157\u001b[0m - \u001b[1m保存编辑视频到: ./results/V2VBench/rf-solver_2order/moonwalk/edit_001.mp4\u001b[0m\n",
      "处理数据集批次:  75%|███████▍  | 112/150 [1:19:10<26:28, 41.80s/it]\u001b[32m2025-04-04 18:22:49.011\u001b[0m | \u001b[1mINFO    \u001b[0m | \u001b[36mhyvideo.inference\u001b[0m:\u001b[36mpredict\u001b[0m:\u001b[36m605\u001b[0m - \u001b[1mInput (height, width, video_length) = (512, 512, 25)\u001b[0m\n",
      "\u001b[32m2025-04-04 18:22:49.070\u001b[0m | \u001b[34m\u001b[1mDEBUG   \u001b[0m | \u001b[36mhyvideo.inference\u001b[0m:\u001b[36mpredict\u001b[0m:\u001b[36m665\u001b[0m - \u001b[34m\u001b[1m\n",
      "                        height: 512\n",
      "                         width: 512\n",
      "                  video_length: 25\n",
      "                        prompt: ['a man in a white shirt and black pants wearing gray sneakers performing the moonwalk dance move on a wooden floor']\n",
      "                    neg_prompt: ['Aerial view, aerial view, overexposed, low quality, deformation, a poor composition, bad hands, bad teeth, bad eyes, bad limbs, distortion']\n",
      "                          seed: 42\n",
      "                   infer_steps: 2\n",
      "         num_videos_per_prompt: 1\n",
      "                guidance_scale: 1.0\n",
      "                      n_tokens: 7168\n",
      "                    flow_shift: 7.0\n",
      "       embedded_guidance_scale: 2.0\u001b[0m\n"
     ]
    },
    {
     "name": "stdout",
     "output_type": "stream",
     "text": [
      "cuda:0\n",
      "cuda:0\n",
      "sigmas_reverse\n",
      "sigmas: tensor([0.0000, 0.8750, 1.0000])\n",
      "Using inversed latents\n",
      "Step 0: t = 0.0\n",
      "Step 1: t = 875.0\n"
     ]
    },
    {
     "name": "stderr",
     "output_type": "stream",
     "text": []
    },
    {
     "name": "stdout",
     "output_type": "stream",
     "text": [
      "Step 0: t_curr = 0.0, t_prev = 875.0\n",
      "t:1\n"
     ]
    },
    {
     "name": "stderr",
     "output_type": "stream",
     "text": []
    },
    {
     "name": "stdout",
     "output_type": "stream",
     "text": [
      "Step 1: t_curr = 875.0, t_prev = 1000.0\n",
      "t:2\n"
     ]
    },
    {
     "name": "stderr",
     "output_type": "stream",
     "text": [
      "100%|██████████| 2/2 [00:08<00:00,  4.15s/it]\n"
     ]
    },
    {
     "name": "stdout",
     "output_type": "stream",
     "text": [
      "cuda:0\n",
      "cuda:0\n",
      "sigmas: tensor([1.0000, 0.8750, 0.0000])\n",
      "Using inversed latents\n",
      "Step 0: t = 1000.0\n",
      "Step 1: t = 875.0\n"
     ]
    },
    {
     "name": "stderr",
     "output_type": "stream",
     "text": []
    },
    {
     "name": "stdout",
     "output_type": "stream",
     "text": [
      "Step 0: t_curr = 1000.0, t_prev = 875.0\n",
      "t:2\n"
     ]
    },
    {
     "name": "stderr",
     "output_type": "stream",
     "text": []
    },
    {
     "name": "stdout",
     "output_type": "stream",
     "text": [
      "Step 1: t_curr = 875.0, t_prev = 0.0\n",
      "t:1\n"
     ]
    },
    {
     "name": "stderr",
     "output_type": "stream",
     "text": [
      "100%|██████████| 2/2 [00:07<00:00,  3.94s/it]\n",
      "\u001b[32m2025-04-04 18:23:38.606\u001b[0m | \u001b[1mINFO    \u001b[0m | \u001b[36mhyvideo.inference\u001b[0m:\u001b[36mpredict\u001b[0m:\u001b[36m709\u001b[0m - \u001b[1mSuccess, time: 49.53488349914551\u001b[0m\n",
      "huggingface/tokenizers: The current process just got forked, after parallelism has already been used. Disabling parallelism to avoid deadlocks...\n",
      "To disable this warning, you can either:\n",
      "\t- Avoid using `tokenizers` before the fork if possible\n",
      "\t- Explicitly set the environment variable TOKENIZERS_PARALLELISM=(true | false)\n",
      "\u001b[32m2025-04-04 18:23:40.173\u001b[0m | \u001b[1mINFO    \u001b[0m | \u001b[36m__main__\u001b[0m:\u001b[36mprocess_sample\u001b[0m:\u001b[36m157\u001b[0m - \u001b[1m保存编辑视频到: ./results/V2VBench/rf-solver_2order/moonwalk/edit_002.mp4\u001b[0m\n",
      "处理数据集批次:  75%|███████▌  | 113/150 [1:20:02<27:27, 44.52s/it]\u001b[32m2025-04-04 18:23:40.205\u001b[0m | \u001b[1mINFO    \u001b[0m | \u001b[36mhyvideo.inference\u001b[0m:\u001b[36mpredict\u001b[0m:\u001b[36m605\u001b[0m - \u001b[1mInput (height, width, video_length) = (512, 512, 25)\u001b[0m\n",
      "\u001b[32m2025-04-04 18:23:40.238\u001b[0m | \u001b[34m\u001b[1mDEBUG   \u001b[0m | \u001b[36mhyvideo.inference\u001b[0m:\u001b[36mpredict\u001b[0m:\u001b[36m665\u001b[0m - \u001b[34m\u001b[1m\n",
      "                        height: 512\n",
      "                         width: 512\n",
      "                  video_length: 25\n",
      "                        prompt: ['an orange motorcycle riding on a road with a forest and mountains in the background']\n",
      "                    neg_prompt: ['Aerial view, aerial view, overexposed, low quality, deformation, a poor composition, bad hands, bad teeth, bad eyes, bad limbs, distortion']\n",
      "                          seed: 42\n",
      "                   infer_steps: 2\n",
      "         num_videos_per_prompt: 1\n",
      "                guidance_scale: 1.0\n",
      "                      n_tokens: 7168\n",
      "                    flow_shift: 7.0\n",
      "       embedded_guidance_scale: 2.0\u001b[0m\n"
     ]
    },
    {
     "name": "stdout",
     "output_type": "stream",
     "text": [
      "cuda:0\n",
      "cuda:0\n",
      "sigmas_reverse\n",
      "sigmas: tensor([0.0000, 0.8750, 1.0000])\n",
      "Using inversed latents\n",
      "Step 0: t = 0.0\n",
      "Step 1: t = 875.0\n"
     ]
    },
    {
     "name": "stderr",
     "output_type": "stream",
     "text": []
    },
    {
     "name": "stdout",
     "output_type": "stream",
     "text": [
      "Step 0: t_curr = 0.0, t_prev = 875.0\n",
      "t:1\n"
     ]
    },
    {
     "name": "stderr",
     "output_type": "stream",
     "text": []
    },
    {
     "name": "stdout",
     "output_type": "stream",
     "text": [
      "Step 1: t_curr = 875.0, t_prev = 1000.0\n",
      "t:2\n"
     ]
    },
    {
     "name": "stderr",
     "output_type": "stream",
     "text": [
      "100%|██████████| 2/2 [00:08<00:00,  4.12s/it]\n"
     ]
    },
    {
     "name": "stdout",
     "output_type": "stream",
     "text": [
      "cuda:0\n",
      "cuda:0\n",
      "sigmas: tensor([1.0000, 0.8750, 0.0000])\n",
      "Using inversed latents\n",
      "Step 0: t = 1000.0\n",
      "Step 1: t = 875.0\n"
     ]
    },
    {
     "name": "stderr",
     "output_type": "stream",
     "text": []
    },
    {
     "name": "stdout",
     "output_type": "stream",
     "text": [
      "Step 0: t_curr = 1000.0, t_prev = 875.0\n",
      "t:2\n"
     ]
    },
    {
     "name": "stderr",
     "output_type": "stream",
     "text": []
    },
    {
     "name": "stdout",
     "output_type": "stream",
     "text": [
      "Step 1: t_curr = 875.0, t_prev = 0.0\n",
      "t:1\n"
     ]
    },
    {
     "name": "stderr",
     "output_type": "stream",
     "text": [
      "100%|██████████| 2/2 [00:06<00:00,  3.46s/it]\n",
      "\u001b[32m2025-04-04 18:24:24.809\u001b[0m | \u001b[1mINFO    \u001b[0m | \u001b[36mhyvideo.inference\u001b[0m:\u001b[36mpredict\u001b[0m:\u001b[36m709\u001b[0m - \u001b[1mSuccess, time: 44.56484937667847\u001b[0m\n",
      "huggingface/tokenizers: The current process just got forked, after parallelism has already been used. Disabling parallelism to avoid deadlocks...\n",
      "To disable this warning, you can either:\n",
      "\t- Avoid using `tokenizers` before the fork if possible\n",
      "\t- Explicitly set the environment variable TOKENIZERS_PARALLELISM=(true | false)\n",
      "\u001b[32m2025-04-04 18:24:26.420\u001b[0m | \u001b[1mINFO    \u001b[0m | \u001b[36m__main__\u001b[0m:\u001b[36mprocess_sample\u001b[0m:\u001b[36m157\u001b[0m - \u001b[1m保存编辑视频到: ./results/V2VBench/rf-solver_2order/motorbike/edit_000.mp4\u001b[0m\n",
      "处理数据集批次:  76%|███████▌  | 114/150 [1:20:48<27:00, 45.03s/it]\u001b[32m2025-04-04 18:24:26.452\u001b[0m | \u001b[1mINFO    \u001b[0m | \u001b[36mhyvideo.inference\u001b[0m:\u001b[36mpredict\u001b[0m:\u001b[36m605\u001b[0m - \u001b[1mInput (height, width, video_length) = (512, 512, 25)\u001b[0m\n",
      "\u001b[32m2025-04-04 18:24:26.650\u001b[0m | \u001b[34m\u001b[1mDEBUG   \u001b[0m | \u001b[36mhyvideo.inference\u001b[0m:\u001b[36mpredict\u001b[0m:\u001b[36m665\u001b[0m - \u001b[34m\u001b[1m\n",
      "                        height: 512\n",
      "                         width: 512\n",
      "                  video_length: 25\n",
      "                        prompt: ['an orange motorcycle riding on a road with a forest and mountains in the background']\n",
      "                    neg_prompt: ['Aerial view, aerial view, overexposed, low quality, deformation, a poor composition, bad hands, bad teeth, bad eyes, bad limbs, distortion']\n",
      "                          seed: 42\n",
      "                   infer_steps: 2\n",
      "         num_videos_per_prompt: 1\n",
      "                guidance_scale: 1.0\n",
      "                      n_tokens: 7168\n",
      "                    flow_shift: 7.0\n",
      "       embedded_guidance_scale: 2.0\u001b[0m\n"
     ]
    },
    {
     "name": "stdout",
     "output_type": "stream",
     "text": [
      "cuda:0\n",
      "cuda:0\n",
      "sigmas_reverse\n",
      "sigmas: tensor([0.0000, 0.8750, 1.0000])\n",
      "Using inversed latents\n",
      "Step 0: t = 0.0\n",
      "Step 1: t = 875.0\n"
     ]
    },
    {
     "name": "stderr",
     "output_type": "stream",
     "text": []
    },
    {
     "name": "stdout",
     "output_type": "stream",
     "text": [
      "Step 0: t_curr = 0.0, t_prev = 875.0\n",
      "t:1\n"
     ]
    },
    {
     "name": "stderr",
     "output_type": "stream",
     "text": []
    },
    {
     "name": "stdout",
     "output_type": "stream",
     "text": [
      "Step 1: t_curr = 875.0, t_prev = 1000.0\n",
      "t:2\n"
     ]
    },
    {
     "name": "stderr",
     "output_type": "stream",
     "text": [
      "100%|██████████| 2/2 [00:08<00:00,  4.02s/it]\n"
     ]
    },
    {
     "name": "stdout",
     "output_type": "stream",
     "text": [
      "cuda:0\n",
      "cuda:0\n",
      "sigmas: tensor([1.0000, 0.8750, 0.0000])\n",
      "Using inversed latents\n",
      "Step 0: t = 1000.0\n",
      "Step 1: t = 875.0\n"
     ]
    },
    {
     "name": "stderr",
     "output_type": "stream",
     "text": []
    },
    {
     "name": "stdout",
     "output_type": "stream",
     "text": [
      "Step 0: t_curr = 1000.0, t_prev = 875.0\n",
      "t:2\n"
     ]
    },
    {
     "name": "stderr",
     "output_type": "stream",
     "text": []
    },
    {
     "name": "stdout",
     "output_type": "stream",
     "text": [
      "Step 1: t_curr = 875.0, t_prev = 0.0\n",
      "t:1\n"
     ]
    },
    {
     "name": "stderr",
     "output_type": "stream",
     "text": [
      "100%|██████████| 2/2 [00:06<00:00,  3.43s/it]\n",
      "\u001b[32m2025-04-04 18:25:08.905\u001b[0m | \u001b[1mINFO    \u001b[0m | \u001b[36mhyvideo.inference\u001b[0m:\u001b[36mpredict\u001b[0m:\u001b[36m709\u001b[0m - \u001b[1mSuccess, time: 42.25408601760864\u001b[0m\n",
      "huggingface/tokenizers: The current process just got forked, after parallelism has already been used. Disabling parallelism to avoid deadlocks...\n",
      "To disable this warning, you can either:\n",
      "\t- Avoid using `tokenizers` before the fork if possible\n",
      "\t- Explicitly set the environment variable TOKENIZERS_PARALLELISM=(true | false)\n",
      "\u001b[32m2025-04-04 18:25:10.572\u001b[0m | \u001b[1mINFO    \u001b[0m | \u001b[36m__main__\u001b[0m:\u001b[36mprocess_sample\u001b[0m:\u001b[36m157\u001b[0m - \u001b[1m保存编辑视频到: ./results/V2VBench/rf-solver_2order/motorbike/edit_001.mp4\u001b[0m\n",
      "处理数据集批次:  77%|███████▋  | 115/150 [1:21:32<26:06, 44.77s/it]\u001b[32m2025-04-04 18:25:10.603\u001b[0m | \u001b[1mINFO    \u001b[0m | \u001b[36mhyvideo.inference\u001b[0m:\u001b[36mpredict\u001b[0m:\u001b[36m605\u001b[0m - \u001b[1mInput (height, width, video_length) = (512, 512, 25)\u001b[0m\n",
      "\u001b[32m2025-04-04 18:25:10.796\u001b[0m | \u001b[34m\u001b[1mDEBUG   \u001b[0m | \u001b[36mhyvideo.inference\u001b[0m:\u001b[36mpredict\u001b[0m:\u001b[36m665\u001b[0m - \u001b[34m\u001b[1m\n",
      "                        height: 512\n",
      "                         width: 512\n",
      "                  video_length: 25\n",
      "                        prompt: ['an orange motorcycle riding on a road with a forest and mountains in the background']\n",
      "                    neg_prompt: ['Aerial view, aerial view, overexposed, low quality, deformation, a poor composition, bad hands, bad teeth, bad eyes, bad limbs, distortion']\n",
      "                          seed: 42\n",
      "                   infer_steps: 2\n",
      "         num_videos_per_prompt: 1\n",
      "                guidance_scale: 1.0\n",
      "                      n_tokens: 7168\n",
      "                    flow_shift: 7.0\n",
      "       embedded_guidance_scale: 2.0\u001b[0m\n"
     ]
    },
    {
     "name": "stdout",
     "output_type": "stream",
     "text": [
      "cuda:0\n",
      "cuda:0\n",
      "sigmas_reverse\n",
      "sigmas: tensor([0.0000, 0.8750, 1.0000])\n",
      "Using inversed latents\n",
      "Step 0: t = 0.0\n",
      "Step 1: t = 875.0\n"
     ]
    },
    {
     "name": "stderr",
     "output_type": "stream",
     "text": []
    },
    {
     "name": "stdout",
     "output_type": "stream",
     "text": [
      "Step 0: t_curr = 0.0, t_prev = 875.0\n",
      "t:1\n"
     ]
    },
    {
     "name": "stderr",
     "output_type": "stream",
     "text": []
    },
    {
     "name": "stdout",
     "output_type": "stream",
     "text": [
      "Step 1: t_curr = 875.0, t_prev = 1000.0\n",
      "t:2\n"
     ]
    },
    {
     "name": "stderr",
     "output_type": "stream",
     "text": [
      "100%|██████████| 2/2 [00:07<00:00,  3.99s/it]\n"
     ]
    },
    {
     "name": "stdout",
     "output_type": "stream",
     "text": [
      "cuda:0\n",
      "cuda:0\n",
      "sigmas: tensor([1.0000, 0.8750, 0.0000])\n",
      "Using inversed latents\n",
      "Step 0: t = 1000.0\n",
      "Step 1: t = 875.0\n"
     ]
    },
    {
     "name": "stderr",
     "output_type": "stream",
     "text": []
    },
    {
     "name": "stdout",
     "output_type": "stream",
     "text": [
      "Step 0: t_curr = 1000.0, t_prev = 875.0\n",
      "t:2\n"
     ]
    },
    {
     "name": "stderr",
     "output_type": "stream",
     "text": []
    },
    {
     "name": "stdout",
     "output_type": "stream",
     "text": [
      "Step 1: t_curr = 875.0, t_prev = 0.0\n",
      "t:1\n"
     ]
    },
    {
     "name": "stderr",
     "output_type": "stream",
     "text": [
      "100%|██████████| 2/2 [00:06<00:00,  3.42s/it]\n",
      "\u001b[32m2025-04-04 18:25:51.613\u001b[0m | \u001b[1mINFO    \u001b[0m | \u001b[36mhyvideo.inference\u001b[0m:\u001b[36mpredict\u001b[0m:\u001b[36m709\u001b[0m - \u001b[1mSuccess, time: 40.81600642204285\u001b[0m\n",
      "huggingface/tokenizers: The current process just got forked, after parallelism has already been used. Disabling parallelism to avoid deadlocks...\n",
      "To disable this warning, you can either:\n",
      "\t- Avoid using `tokenizers` before the fork if possible\n",
      "\t- Explicitly set the environment variable TOKENIZERS_PARALLELISM=(true | false)\n",
      "\u001b[32m2025-04-04 18:25:53.214\u001b[0m | \u001b[1mINFO    \u001b[0m | \u001b[36m__main__\u001b[0m:\u001b[36mprocess_sample\u001b[0m:\u001b[36m157\u001b[0m - \u001b[1m保存编辑视频到: ./results/V2VBench/rf-solver_2order/motorbike/edit_002.mp4\u001b[0m\n",
      "处理数据集批次:  77%|███████▋  | 116/150 [1:22:15<25:00, 44.14s/it]\u001b[32m2025-04-04 18:25:53.243\u001b[0m | \u001b[1mINFO    \u001b[0m | \u001b[36mhyvideo.inference\u001b[0m:\u001b[36mpredict\u001b[0m:\u001b[36m605\u001b[0m - \u001b[1mInput (height, width, video_length) = (512, 512, 25)\u001b[0m\n",
      "\u001b[32m2025-04-04 18:25:53.261\u001b[0m | \u001b[34m\u001b[1mDEBUG   \u001b[0m | \u001b[36mhyvideo.inference\u001b[0m:\u001b[36mpredict\u001b[0m:\u001b[36m665\u001b[0m - \u001b[34m\u001b[1m\n",
      "                        height: 512\n",
      "                         width: 512\n",
      "                  video_length: 25\n",
      "                        prompt: ['top-down view of waves crashing against a rocky shore with turquoise waters']\n",
      "                    neg_prompt: ['Aerial view, aerial view, overexposed, low quality, deformation, a poor composition, bad hands, bad teeth, bad eyes, bad limbs, distortion']\n",
      "                          seed: 42\n",
      "                   infer_steps: 2\n",
      "         num_videos_per_prompt: 1\n",
      "                guidance_scale: 1.0\n",
      "                      n_tokens: 7168\n",
      "                    flow_shift: 7.0\n",
      "       embedded_guidance_scale: 2.0\u001b[0m\n"
     ]
    },
    {
     "name": "stdout",
     "output_type": "stream",
     "text": [
      "cuda:0\n",
      "cuda:0\n",
      "sigmas_reverse\n",
      "sigmas: tensor([0.0000, 0.8750, 1.0000])\n",
      "Using inversed latents\n",
      "Step 0: t = 0.0\n",
      "Step 1: t = 875.0\n"
     ]
    },
    {
     "name": "stderr",
     "output_type": "stream",
     "text": []
    },
    {
     "name": "stdout",
     "output_type": "stream",
     "text": [
      "Step 0: t_curr = 0.0, t_prev = 875.0\n",
      "t:1\n"
     ]
    },
    {
     "name": "stderr",
     "output_type": "stream",
     "text": []
    },
    {
     "name": "stdout",
     "output_type": "stream",
     "text": [
      "Step 1: t_curr = 875.0, t_prev = 1000.0\n",
      "t:2\n"
     ]
    },
    {
     "name": "stderr",
     "output_type": "stream",
     "text": [
      "100%|██████████| 2/2 [00:08<00:00,  4.02s/it]\n"
     ]
    },
    {
     "name": "stdout",
     "output_type": "stream",
     "text": [
      "cuda:0\n",
      "cuda:0\n",
      "sigmas: tensor([1.0000, 0.8750, 0.0000])\n",
      "Using inversed latents\n",
      "Step 0: t = 1000.0\n",
      "Step 1: t = 875.0\n"
     ]
    },
    {
     "name": "stderr",
     "output_type": "stream",
     "text": []
    },
    {
     "name": "stdout",
     "output_type": "stream",
     "text": [
      "Step 0: t_curr = 1000.0, t_prev = 875.0\n",
      "t:2\n"
     ]
    },
    {
     "name": "stderr",
     "output_type": "stream",
     "text": []
    },
    {
     "name": "stdout",
     "output_type": "stream",
     "text": [
      "Step 1: t_curr = 875.0, t_prev = 0.0\n",
      "t:1\n"
     ]
    },
    {
     "name": "stderr",
     "output_type": "stream",
     "text": [
      "100%|██████████| 2/2 [00:06<00:00,  3.37s/it]\n",
      "\u001b[32m2025-04-04 18:26:32.051\u001b[0m | \u001b[1mINFO    \u001b[0m | \u001b[36mhyvideo.inference\u001b[0m:\u001b[36mpredict\u001b[0m:\u001b[36m709\u001b[0m - \u001b[1mSuccess, time: 38.788299560546875\u001b[0m\n",
      "huggingface/tokenizers: The current process just got forked, after parallelism has already been used. Disabling parallelism to avoid deadlocks...\n",
      "To disable this warning, you can either:\n",
      "\t- Avoid using `tokenizers` before the fork if possible\n",
      "\t- Explicitly set the environment variable TOKENIZERS_PARALLELISM=(true | false)\n",
      "\u001b[32m2025-04-04 18:26:33.833\u001b[0m | \u001b[1mINFO    \u001b[0m | \u001b[36m__main__\u001b[0m:\u001b[36mprocess_sample\u001b[0m:\u001b[36m157\u001b[0m - \u001b[1m保存编辑视频到: ./results/V2VBench/rf-solver_2order/overlook-the-ocean/edit_000.mp4\u001b[0m\n",
      "处理数据集批次:  78%|███████▊  | 117/150 [1:22:55<23:42, 43.09s/it]\u001b[32m2025-04-04 18:26:33.869\u001b[0m | \u001b[1mINFO    \u001b[0m | \u001b[36mhyvideo.inference\u001b[0m:\u001b[36mpredict\u001b[0m:\u001b[36m605\u001b[0m - \u001b[1mInput (height, width, video_length) = (512, 512, 25)\u001b[0m\n",
      "\u001b[32m2025-04-04 18:26:34.063\u001b[0m | \u001b[34m\u001b[1mDEBUG   \u001b[0m | \u001b[36mhyvideo.inference\u001b[0m:\u001b[36mpredict\u001b[0m:\u001b[36m665\u001b[0m - \u001b[34m\u001b[1m\n",
      "                        height: 512\n",
      "                         width: 512\n",
      "                  video_length: 25\n",
      "                        prompt: ['top-down view of waves crashing against a rocky shore with turquoise waters']\n",
      "                    neg_prompt: ['Aerial view, aerial view, overexposed, low quality, deformation, a poor composition, bad hands, bad teeth, bad eyes, bad limbs, distortion']\n",
      "                          seed: 42\n",
      "                   infer_steps: 2\n",
      "         num_videos_per_prompt: 1\n",
      "                guidance_scale: 1.0\n",
      "                      n_tokens: 7168\n",
      "                    flow_shift: 7.0\n",
      "       embedded_guidance_scale: 2.0\u001b[0m\n"
     ]
    },
    {
     "name": "stdout",
     "output_type": "stream",
     "text": [
      "cuda:0\n",
      "cuda:0\n",
      "sigmas_reverse\n",
      "sigmas: tensor([0.0000, 0.8750, 1.0000])\n",
      "Using inversed latents\n",
      "Step 0: t = 0.0\n",
      "Step 1: t = 875.0\n"
     ]
    },
    {
     "name": "stderr",
     "output_type": "stream",
     "text": []
    },
    {
     "name": "stdout",
     "output_type": "stream",
     "text": [
      "Step 0: t_curr = 0.0, t_prev = 875.0\n",
      "t:1\n"
     ]
    },
    {
     "name": "stderr",
     "output_type": "stream",
     "text": []
    },
    {
     "name": "stdout",
     "output_type": "stream",
     "text": [
      "Step 1: t_curr = 875.0, t_prev = 1000.0\n",
      "t:2\n"
     ]
    },
    {
     "name": "stderr",
     "output_type": "stream",
     "text": [
      "100%|██████████| 2/2 [00:08<00:00,  4.05s/it]\n"
     ]
    },
    {
     "name": "stdout",
     "output_type": "stream",
     "text": [
      "cuda:0\n",
      "cuda:0\n",
      "sigmas: tensor([1.0000, 0.8750, 0.0000])\n",
      "Using inversed latents\n",
      "Step 0: t = 1000.0\n",
      "Step 1: t = 875.0\n"
     ]
    },
    {
     "name": "stderr",
     "output_type": "stream",
     "text": []
    },
    {
     "name": "stdout",
     "output_type": "stream",
     "text": [
      "Step 0: t_curr = 1000.0, t_prev = 875.0\n",
      "t:2\n"
     ]
    },
    {
     "name": "stderr",
     "output_type": "stream",
     "text": []
    },
    {
     "name": "stdout",
     "output_type": "stream",
     "text": [
      "Step 1: t_curr = 875.0, t_prev = 0.0\n",
      "t:1\n"
     ]
    },
    {
     "name": "stderr",
     "output_type": "stream",
     "text": [
      "100%|██████████| 2/2 [00:06<00:00,  3.43s/it]\n",
      "\u001b[32m2025-04-04 18:27:18.249\u001b[0m | \u001b[1mINFO    \u001b[0m | \u001b[36mhyvideo.inference\u001b[0m:\u001b[36mpredict\u001b[0m:\u001b[36m709\u001b[0m - \u001b[1mSuccess, time: 44.185542345047\u001b[0m\n",
      "huggingface/tokenizers: The current process just got forked, after parallelism has already been used. Disabling parallelism to avoid deadlocks...\n",
      "To disable this warning, you can either:\n",
      "\t- Avoid using `tokenizers` before the fork if possible\n",
      "\t- Explicitly set the environment variable TOKENIZERS_PARALLELISM=(true | false)\n",
      "\u001b[32m2025-04-04 18:27:19.881\u001b[0m | \u001b[1mINFO    \u001b[0m | \u001b[36m__main__\u001b[0m:\u001b[36mprocess_sample\u001b[0m:\u001b[36m157\u001b[0m - \u001b[1m保存编辑视频到: ./results/V2VBench/rf-solver_2order/overlook-the-ocean/edit_001.mp4\u001b[0m\n",
      "处理数据集批次:  79%|███████▊  | 118/150 [1:23:41<23:27, 43.97s/it]\u001b[32m2025-04-04 18:27:19.909\u001b[0m | \u001b[1mINFO    \u001b[0m | \u001b[36mhyvideo.inference\u001b[0m:\u001b[36mpredict\u001b[0m:\u001b[36m605\u001b[0m - \u001b[1mInput (height, width, video_length) = (512, 512, 25)\u001b[0m\n",
      "\u001b[32m2025-04-04 18:27:19.930\u001b[0m | \u001b[34m\u001b[1mDEBUG   \u001b[0m | \u001b[36mhyvideo.inference\u001b[0m:\u001b[36mpredict\u001b[0m:\u001b[36m665\u001b[0m - \u001b[34m\u001b[1m\n",
      "                        height: 512\n",
      "                         width: 512\n",
      "                  video_length: 25\n",
      "                        prompt: ['top-down view of waves crashing against a rocky shore with turquoise waters']\n",
      "                    neg_prompt: ['Aerial view, aerial view, overexposed, low quality, deformation, a poor composition, bad hands, bad teeth, bad eyes, bad limbs, distortion']\n",
      "                          seed: 42\n",
      "                   infer_steps: 2\n",
      "         num_videos_per_prompt: 1\n",
      "                guidance_scale: 1.0\n",
      "                      n_tokens: 7168\n",
      "                    flow_shift: 7.0\n",
      "       embedded_guidance_scale: 2.0\u001b[0m\n"
     ]
    },
    {
     "name": "stdout",
     "output_type": "stream",
     "text": [
      "cuda:0\n",
      "cuda:0\n",
      "sigmas_reverse\n",
      "sigmas: tensor([0.0000, 0.8750, 1.0000])\n",
      "Using inversed latents\n",
      "Step 0: t = 0.0\n",
      "Step 1: t = 875.0\n"
     ]
    },
    {
     "name": "stderr",
     "output_type": "stream",
     "text": []
    },
    {
     "name": "stdout",
     "output_type": "stream",
     "text": [
      "Step 0: t_curr = 0.0, t_prev = 875.0\n",
      "t:1\n"
     ]
    },
    {
     "name": "stderr",
     "output_type": "stream",
     "text": []
    },
    {
     "name": "stdout",
     "output_type": "stream",
     "text": [
      "Step 1: t_curr = 875.0, t_prev = 1000.0\n",
      "t:2\n"
     ]
    },
    {
     "name": "stderr",
     "output_type": "stream",
     "text": [
      "100%|██████████| 2/2 [00:08<00:00,  4.00s/it]\n"
     ]
    },
    {
     "name": "stdout",
     "output_type": "stream",
     "text": [
      "cuda:0\n",
      "cuda:0\n",
      "sigmas: tensor([1.0000, 0.8750, 0.0000])\n",
      "Using inversed latents\n",
      "Step 0: t = 1000.0\n",
      "Step 1: t = 875.0\n"
     ]
    },
    {
     "name": "stderr",
     "output_type": "stream",
     "text": []
    },
    {
     "name": "stdout",
     "output_type": "stream",
     "text": [
      "Step 0: t_curr = 1000.0, t_prev = 875.0\n",
      "t:2\n"
     ]
    },
    {
     "name": "stderr",
     "output_type": "stream",
     "text": []
    },
    {
     "name": "stdout",
     "output_type": "stream",
     "text": [
      "Step 1: t_curr = 875.0, t_prev = 0.0\n",
      "t:1\n"
     ]
    },
    {
     "name": "stderr",
     "output_type": "stream",
     "text": [
      "100%|██████████| 2/2 [00:07<00:00,  3.51s/it]\n",
      "\u001b[32m2025-04-04 18:28:00.642\u001b[0m | \u001b[1mINFO    \u001b[0m | \u001b[36mhyvideo.inference\u001b[0m:\u001b[36mpredict\u001b[0m:\u001b[36m709\u001b[0m - \u001b[1mSuccess, time: 40.711209774017334\u001b[0m\n",
      "huggingface/tokenizers: The current process just got forked, after parallelism has already been used. Disabling parallelism to avoid deadlocks...\n",
      "To disable this warning, you can either:\n",
      "\t- Avoid using `tokenizers` before the fork if possible\n",
      "\t- Explicitly set the environment variable TOKENIZERS_PARALLELISM=(true | false)\n",
      "\u001b[32m2025-04-04 18:28:02.433\u001b[0m | \u001b[1mINFO    \u001b[0m | \u001b[36m__main__\u001b[0m:\u001b[36mprocess_sample\u001b[0m:\u001b[36m157\u001b[0m - \u001b[1m保存编辑视频到: ./results/V2VBench/rf-solver_2order/overlook-the-ocean/edit_002.mp4\u001b[0m\n",
      "处理数据集批次:  79%|███████▉  | 119/150 [1:24:24<22:30, 43.55s/it]\u001b[32m2025-04-04 18:28:02.468\u001b[0m | \u001b[1mINFO    \u001b[0m | \u001b[36mhyvideo.inference\u001b[0m:\u001b[36mpredict\u001b[0m:\u001b[36m605\u001b[0m - \u001b[1mInput (height, width, video_length) = (512, 512, 25)\u001b[0m\n",
      "\u001b[32m2025-04-04 18:28:02.504\u001b[0m | \u001b[34m\u001b[1mDEBUG   \u001b[0m | \u001b[36mhyvideo.inference\u001b[0m:\u001b[36mpredict\u001b[0m:\u001b[36m665\u001b[0m - \u001b[34m\u001b[1m\n",
      "                        height: 512\n",
      "                         width: 512\n",
      "                  video_length: 25\n",
      "                        prompt: ['a man performing parkour jumping over barriers in an urban setting with modern buildings in the background']\n",
      "                    neg_prompt: ['Aerial view, aerial view, overexposed, low quality, deformation, a poor composition, bad hands, bad teeth, bad eyes, bad limbs, distortion']\n",
      "                          seed: 42\n",
      "                   infer_steps: 2\n",
      "         num_videos_per_prompt: 1\n",
      "                guidance_scale: 1.0\n",
      "                      n_tokens: 7168\n",
      "                    flow_shift: 7.0\n",
      "       embedded_guidance_scale: 2.0\u001b[0m\n"
     ]
    },
    {
     "name": "stdout",
     "output_type": "stream",
     "text": [
      "cuda:0\n",
      "cuda:0\n",
      "sigmas_reverse\n",
      "sigmas: tensor([0.0000, 0.8750, 1.0000])\n",
      "Using inversed latents\n",
      "Step 0: t = 0.0\n",
      "Step 1: t = 875.0\n"
     ]
    },
    {
     "name": "stderr",
     "output_type": "stream",
     "text": []
    },
    {
     "name": "stdout",
     "output_type": "stream",
     "text": [
      "Step 0: t_curr = 0.0, t_prev = 875.0\n",
      "t:1\n"
     ]
    },
    {
     "name": "stderr",
     "output_type": "stream",
     "text": []
    },
    {
     "name": "stdout",
     "output_type": "stream",
     "text": [
      "Step 1: t_curr = 875.0, t_prev = 1000.0\n",
      "t:2\n"
     ]
    },
    {
     "name": "stderr",
     "output_type": "stream",
     "text": [
      "100%|██████████| 2/2 [00:08<00:00,  4.04s/it]\n"
     ]
    },
    {
     "name": "stdout",
     "output_type": "stream",
     "text": [
      "cuda:0\n",
      "cuda:0\n",
      "sigmas: tensor([1.0000, 0.8750, 0.0000])\n",
      "Using inversed latents\n",
      "Step 0: t = 1000.0\n",
      "Step 1: t = 875.0\n"
     ]
    },
    {
     "name": "stderr",
     "output_type": "stream",
     "text": []
    },
    {
     "name": "stdout",
     "output_type": "stream",
     "text": [
      "Step 0: t_curr = 1000.0, t_prev = 875.0\n",
      "t:2\n"
     ]
    },
    {
     "name": "stderr",
     "output_type": "stream",
     "text": []
    },
    {
     "name": "stdout",
     "output_type": "stream",
     "text": [
      "Step 1: t_curr = 875.0, t_prev = 0.0\n",
      "t:1\n"
     ]
    },
    {
     "name": "stderr",
     "output_type": "stream",
     "text": [
      "100%|██████████| 2/2 [00:06<00:00,  3.44s/it]\n",
      "\u001b[32m2025-04-04 18:28:44.181\u001b[0m | \u001b[1mINFO    \u001b[0m | \u001b[36mhyvideo.inference\u001b[0m:\u001b[36mpredict\u001b[0m:\u001b[36m709\u001b[0m - \u001b[1mSuccess, time: 41.67630577087402\u001b[0m\n",
      "huggingface/tokenizers: The current process just got forked, after parallelism has already been used. Disabling parallelism to avoid deadlocks...\n",
      "To disable this warning, you can either:\n",
      "\t- Avoid using `tokenizers` before the fork if possible\n",
      "\t- Explicitly set the environment variable TOKENIZERS_PARALLELISM=(true | false)\n",
      "\u001b[32m2025-04-04 18:28:45.880\u001b[0m | \u001b[1mINFO    \u001b[0m | \u001b[36m__main__\u001b[0m:\u001b[36mprocess_sample\u001b[0m:\u001b[36m157\u001b[0m - \u001b[1m保存编辑视频到: ./results/V2VBench/rf-solver_2order/parkour/edit_000.mp4\u001b[0m\n",
      "处理数据集批次:  80%|████████  | 120/150 [1:25:07<21:45, 43.52s/it]\u001b[32m2025-04-04 18:28:45.907\u001b[0m | \u001b[1mINFO    \u001b[0m | \u001b[36mhyvideo.inference\u001b[0m:\u001b[36mpredict\u001b[0m:\u001b[36m605\u001b[0m - \u001b[1mInput (height, width, video_length) = (512, 512, 25)\u001b[0m\n",
      "\u001b[32m2025-04-04 18:28:45.958\u001b[0m | \u001b[34m\u001b[1mDEBUG   \u001b[0m | \u001b[36mhyvideo.inference\u001b[0m:\u001b[36mpredict\u001b[0m:\u001b[36m665\u001b[0m - \u001b[34m\u001b[1m\n",
      "                        height: 512\n",
      "                         width: 512\n",
      "                  video_length: 25\n",
      "                        prompt: ['a man performing parkour jumping over barriers in an urban setting with modern buildings in the background']\n",
      "                    neg_prompt: ['Aerial view, aerial view, overexposed, low quality, deformation, a poor composition, bad hands, bad teeth, bad eyes, bad limbs, distortion']\n",
      "                          seed: 42\n",
      "                   infer_steps: 2\n",
      "         num_videos_per_prompt: 1\n",
      "                guidance_scale: 1.0\n",
      "                      n_tokens: 7168\n",
      "                    flow_shift: 7.0\n",
      "       embedded_guidance_scale: 2.0\u001b[0m\n"
     ]
    },
    {
     "name": "stdout",
     "output_type": "stream",
     "text": [
      "cuda:0\n",
      "cuda:0\n",
      "sigmas_reverse\n",
      "sigmas: tensor([0.0000, 0.8750, 1.0000])\n",
      "Using inversed latents\n",
      "Step 0: t = 0.0\n",
      "Step 1: t = 875.0\n"
     ]
    },
    {
     "name": "stderr",
     "output_type": "stream",
     "text": []
    },
    {
     "name": "stdout",
     "output_type": "stream",
     "text": [
      "Step 0: t_curr = 0.0, t_prev = 875.0\n",
      "t:1\n"
     ]
    },
    {
     "name": "stderr",
     "output_type": "stream",
     "text": []
    },
    {
     "name": "stdout",
     "output_type": "stream",
     "text": [
      "Step 1: t_curr = 875.0, t_prev = 1000.0\n",
      "t:2\n"
     ]
    },
    {
     "name": "stderr",
     "output_type": "stream",
     "text": [
      "100%|██████████| 2/2 [00:08<00:00,  4.00s/it]\n"
     ]
    },
    {
     "name": "stdout",
     "output_type": "stream",
     "text": [
      "cuda:0\n",
      "cuda:0\n",
      "sigmas: tensor([1.0000, 0.8750, 0.0000])\n",
      "Using inversed latents\n",
      "Step 0: t = 1000.0\n",
      "Step 1: t = 875.0\n"
     ]
    },
    {
     "name": "stderr",
     "output_type": "stream",
     "text": []
    },
    {
     "name": "stdout",
     "output_type": "stream",
     "text": [
      "Step 0: t_curr = 1000.0, t_prev = 875.0\n",
      "t:2\n"
     ]
    },
    {
     "name": "stderr",
     "output_type": "stream",
     "text": []
    },
    {
     "name": "stdout",
     "output_type": "stream",
     "text": [
      "Step 1: t_curr = 875.0, t_prev = 0.0\n",
      "t:1\n"
     ]
    },
    {
     "name": "stderr",
     "output_type": "stream",
     "text": [
      "100%|██████████| 2/2 [00:07<00:00,  3.53s/it]\n",
      "\u001b[32m2025-04-04 18:29:26.581\u001b[0m | \u001b[1mINFO    \u001b[0m | \u001b[36mhyvideo.inference\u001b[0m:\u001b[36mpredict\u001b[0m:\u001b[36m709\u001b[0m - \u001b[1mSuccess, time: 40.621826171875\u001b[0m\n",
      "huggingface/tokenizers: The current process just got forked, after parallelism has already been used. Disabling parallelism to avoid deadlocks...\n",
      "To disable this warning, you can either:\n",
      "\t- Avoid using `tokenizers` before the fork if possible\n",
      "\t- Explicitly set the environment variable TOKENIZERS_PARALLELISM=(true | false)\n",
      "\u001b[32m2025-04-04 18:29:28.200\u001b[0m | \u001b[1mINFO    \u001b[0m | \u001b[36m__main__\u001b[0m:\u001b[36mprocess_sample\u001b[0m:\u001b[36m157\u001b[0m - \u001b[1m保存编辑视频到: ./results/V2VBench/rf-solver_2order/parkour/edit_001.mp4\u001b[0m\n",
      "处理数据集批次:  81%|████████▏ | 122/150 [1:25:50<15:30, 33.22s/it]\u001b[32m2025-04-04 18:29:28.231\u001b[0m | \u001b[1mINFO    \u001b[0m | \u001b[36mhyvideo.inference\u001b[0m:\u001b[36mpredict\u001b[0m:\u001b[36m605\u001b[0m - \u001b[1mInput (height, width, video_length) = (512, 512, 25)\u001b[0m\n",
      "\u001b[32m2025-04-04 18:29:28.398\u001b[0m | \u001b[34m\u001b[1mDEBUG   \u001b[0m | \u001b[36mhyvideo.inference\u001b[0m:\u001b[36mpredict\u001b[0m:\u001b[36m665\u001b[0m - \u001b[34m\u001b[1m\n",
      "                        height: 512\n",
      "                         width: 512\n",
      "                  video_length: 25\n",
      "                        prompt: ['a man performing parkour jumping over barriers in an urban setting with modern buildings in the background']\n",
      "                    neg_prompt: ['Aerial view, aerial view, overexposed, low quality, deformation, a poor composition, bad hands, bad teeth, bad eyes, bad limbs, distortion']\n",
      "                          seed: 42\n",
      "                   infer_steps: 2\n",
      "         num_videos_per_prompt: 1\n",
      "                guidance_scale: 1.0\n",
      "                      n_tokens: 7168\n",
      "                    flow_shift: 7.0\n",
      "       embedded_guidance_scale: 2.0\u001b[0m\n"
     ]
    },
    {
     "name": "stdout",
     "output_type": "stream",
     "text": [
      "cuda:0\n",
      "cuda:0\n",
      "sigmas_reverse\n",
      "sigmas: tensor([0.0000, 0.8750, 1.0000])\n",
      "Using inversed latents\n",
      "Step 0: t = 0.0\n",
      "Step 1: t = 875.0\n"
     ]
    },
    {
     "name": "stderr",
     "output_type": "stream",
     "text": []
    },
    {
     "name": "stdout",
     "output_type": "stream",
     "text": [
      "Step 0: t_curr = 0.0, t_prev = 875.0\n",
      "t:1\n"
     ]
    },
    {
     "name": "stderr",
     "output_type": "stream",
     "text": []
    },
    {
     "name": "stdout",
     "output_type": "stream",
     "text": [
      "Step 1: t_curr = 875.0, t_prev = 1000.0\n",
      "t:2\n"
     ]
    },
    {
     "name": "stderr",
     "output_type": "stream",
     "text": [
      "100%|██████████| 2/2 [00:08<00:00,  4.00s/it]\n"
     ]
    },
    {
     "name": "stdout",
     "output_type": "stream",
     "text": [
      "cuda:0\n",
      "cuda:0\n",
      "sigmas: tensor([1.0000, 0.8750, 0.0000])\n",
      "Using inversed latents\n",
      "Step 0: t = 1000.0\n",
      "Step 1: t = 875.0\n"
     ]
    },
    {
     "name": "stderr",
     "output_type": "stream",
     "text": []
    },
    {
     "name": "stdout",
     "output_type": "stream",
     "text": [
      "Step 0: t_curr = 1000.0, t_prev = 875.0\n",
      "t:2\n"
     ]
    },
    {
     "name": "stderr",
     "output_type": "stream",
     "text": []
    },
    {
     "name": "stdout",
     "output_type": "stream",
     "text": [
      "Step 1: t_curr = 875.0, t_prev = 0.0\n",
      "t:1\n"
     ]
    },
    {
     "name": "stderr",
     "output_type": "stream",
     "text": [
      "100%|██████████| 2/2 [00:06<00:00,  3.42s/it]\n",
      "\u001b[32m2025-04-04 18:30:09.487\u001b[0m | \u001b[1mINFO    \u001b[0m | \u001b[36mhyvideo.inference\u001b[0m:\u001b[36mpredict\u001b[0m:\u001b[36m709\u001b[0m - \u001b[1mSuccess, time: 41.0876100063324\u001b[0m\n",
      "huggingface/tokenizers: The current process just got forked, after parallelism has already been used. Disabling parallelism to avoid deadlocks...\n",
      "To disable this warning, you can either:\n",
      "\t- Avoid using `tokenizers` before the fork if possible\n",
      "\t- Explicitly set the environment variable TOKENIZERS_PARALLELISM=(true | false)\n",
      "\u001b[32m2025-04-04 18:30:11.177\u001b[0m | \u001b[1mINFO    \u001b[0m | \u001b[36m__main__\u001b[0m:\u001b[36mprocess_sample\u001b[0m:\u001b[36m157\u001b[0m - \u001b[1m保存编辑视频到: ./results/V2VBench/rf-solver_2order/parkour/edit_002.mp4\u001b[0m\n",
      "处理数据集批次:  82%|████████▏ | 123/150 [1:26:33<16:02, 35.63s/it]\u001b[32m2025-04-04 18:30:11.213\u001b[0m | \u001b[1mINFO    \u001b[0m | \u001b[36mhyvideo.inference\u001b[0m:\u001b[36mpredict\u001b[0m:\u001b[36m605\u001b[0m - \u001b[1mInput (height, width, video_length) = (512, 512, 25)\u001b[0m\n",
      "\u001b[32m2025-04-04 18:30:11.386\u001b[0m | \u001b[34m\u001b[1mDEBUG   \u001b[0m | \u001b[36mhyvideo.inference\u001b[0m:\u001b[36mpredict\u001b[0m:\u001b[36m665\u001b[0m - \u001b[34m\u001b[1m\n",
      "                        height: 512\n",
      "                         width: 512\n",
      "                  video_length: 25\n",
      "                        prompt: ['feeding a yellow parrot on a hand in the countryside']\n",
      "                    neg_prompt: ['Aerial view, aerial view, overexposed, low quality, deformation, a poor composition, bad hands, bad teeth, bad eyes, bad limbs, distortion']\n",
      "                          seed: 42\n",
      "                   infer_steps: 2\n",
      "         num_videos_per_prompt: 1\n",
      "                guidance_scale: 1.0\n",
      "                      n_tokens: 7168\n",
      "                    flow_shift: 7.0\n",
      "       embedded_guidance_scale: 2.0\u001b[0m\n"
     ]
    },
    {
     "name": "stdout",
     "output_type": "stream",
     "text": [
      "cuda:0\n",
      "cuda:0\n",
      "sigmas_reverse\n",
      "sigmas: tensor([0.0000, 0.8750, 1.0000])\n",
      "Using inversed latents\n",
      "Step 0: t = 0.0\n",
      "Step 1: t = 875.0\n"
     ]
    },
    {
     "name": "stderr",
     "output_type": "stream",
     "text": []
    },
    {
     "name": "stdout",
     "output_type": "stream",
     "text": [
      "Step 0: t_curr = 0.0, t_prev = 875.0\n",
      "t:1\n"
     ]
    },
    {
     "name": "stderr",
     "output_type": "stream",
     "text": []
    },
    {
     "name": "stdout",
     "output_type": "stream",
     "text": [
      "Step 1: t_curr = 875.0, t_prev = 1000.0\n",
      "t:2\n"
     ]
    },
    {
     "name": "stderr",
     "output_type": "stream",
     "text": [
      "100%|██████████| 2/2 [00:07<00:00,  3.99s/it]\n"
     ]
    },
    {
     "name": "stdout",
     "output_type": "stream",
     "text": [
      "cuda:0\n",
      "cuda:0\n",
      "sigmas: tensor([1.0000, 0.8750, 0.0000])\n",
      "Using inversed latents\n",
      "Step 0: t = 1000.0\n",
      "Step 1: t = 875.0\n"
     ]
    },
    {
     "name": "stderr",
     "output_type": "stream",
     "text": []
    },
    {
     "name": "stdout",
     "output_type": "stream",
     "text": [
      "Step 0: t_curr = 1000.0, t_prev = 875.0\n",
      "t:2\n"
     ]
    },
    {
     "name": "stderr",
     "output_type": "stream",
     "text": []
    },
    {
     "name": "stdout",
     "output_type": "stream",
     "text": [
      "Step 1: t_curr = 875.0, t_prev = 0.0\n",
      "t:1\n"
     ]
    },
    {
     "name": "stderr",
     "output_type": "stream",
     "text": [
      "100%|██████████| 2/2 [00:06<00:00,  3.50s/it]\n",
      "\u001b[32m2025-04-04 18:30:51.790\u001b[0m | \u001b[1mINFO    \u001b[0m | \u001b[36mhyvideo.inference\u001b[0m:\u001b[36mpredict\u001b[0m:\u001b[36m709\u001b[0m - \u001b[1mSuccess, time: 40.402488231658936\u001b[0m\n",
      "huggingface/tokenizers: The current process just got forked, after parallelism has already been used. Disabling parallelism to avoid deadlocks...\n",
      "To disable this warning, you can either:\n",
      "\t- Avoid using `tokenizers` before the fork if possible\n",
      "\t- Explicitly set the environment variable TOKENIZERS_PARALLELISM=(true | false)\n",
      "\u001b[32m2025-04-04 18:30:53.571\u001b[0m | \u001b[1mINFO    \u001b[0m | \u001b[36m__main__\u001b[0m:\u001b[36mprocess_sample\u001b[0m:\u001b[36m157\u001b[0m - \u001b[1m保存编辑视频到: ./results/V2VBench/rf-solver_2order/parrot-eat/edit_000.mp4\u001b[0m\n",
      "处理数据集批次:  83%|████████▎ | 124/150 [1:27:15<16:12, 37.40s/it]\u001b[32m2025-04-04 18:30:53.608\u001b[0m | \u001b[1mINFO    \u001b[0m | \u001b[36mhyvideo.inference\u001b[0m:\u001b[36mpredict\u001b[0m:\u001b[36m605\u001b[0m - \u001b[1mInput (height, width, video_length) = (512, 512, 25)\u001b[0m\n",
      "\u001b[32m2025-04-04 18:30:53.667\u001b[0m | \u001b[34m\u001b[1mDEBUG   \u001b[0m | \u001b[36mhyvideo.inference\u001b[0m:\u001b[36mpredict\u001b[0m:\u001b[36m665\u001b[0m - \u001b[34m\u001b[1m\n",
      "                        height: 512\n",
      "                         width: 512\n",
      "                  video_length: 25\n",
      "                        prompt: ['feeding a yellow parrot on a hand in the countryside']\n",
      "                    neg_prompt: ['Aerial view, aerial view, overexposed, low quality, deformation, a poor composition, bad hands, bad teeth, bad eyes, bad limbs, distortion']\n",
      "                          seed: 42\n",
      "                   infer_steps: 2\n",
      "         num_videos_per_prompt: 1\n",
      "                guidance_scale: 1.0\n",
      "                      n_tokens: 7168\n",
      "                    flow_shift: 7.0\n",
      "       embedded_guidance_scale: 2.0\u001b[0m\n"
     ]
    },
    {
     "name": "stdout",
     "output_type": "stream",
     "text": [
      "cuda:0\n",
      "cuda:0\n",
      "sigmas_reverse\n",
      "sigmas: tensor([0.0000, 0.8750, 1.0000])\n",
      "Using inversed latents\n",
      "Step 0: t = 0.0\n",
      "Step 1: t = 875.0\n"
     ]
    },
    {
     "name": "stderr",
     "output_type": "stream",
     "text": []
    },
    {
     "name": "stdout",
     "output_type": "stream",
     "text": [
      "Step 0: t_curr = 0.0, t_prev = 875.0\n",
      "t:1\n"
     ]
    },
    {
     "name": "stderr",
     "output_type": "stream",
     "text": []
    },
    {
     "name": "stdout",
     "output_type": "stream",
     "text": [
      "Step 1: t_curr = 875.0, t_prev = 1000.0\n",
      "t:2\n"
     ]
    },
    {
     "name": "stderr",
     "output_type": "stream",
     "text": [
      "100%|██████████| 2/2 [00:08<00:00,  4.03s/it]\n"
     ]
    },
    {
     "name": "stdout",
     "output_type": "stream",
     "text": [
      "cuda:0\n",
      "cuda:0\n",
      "sigmas: tensor([1.0000, 0.8750, 0.0000])\n",
      "Using inversed latents\n",
      "Step 0: t = 1000.0\n",
      "Step 1: t = 875.0\n"
     ]
    },
    {
     "name": "stderr",
     "output_type": "stream",
     "text": []
    },
    {
     "name": "stdout",
     "output_type": "stream",
     "text": [
      "Step 0: t_curr = 1000.0, t_prev = 875.0\n",
      "t:2\n"
     ]
    },
    {
     "name": "stderr",
     "output_type": "stream",
     "text": []
    },
    {
     "name": "stdout",
     "output_type": "stream",
     "text": [
      "Step 1: t_curr = 875.0, t_prev = 0.0\n",
      "t:1\n"
     ]
    },
    {
     "name": "stderr",
     "output_type": "stream",
     "text": [
      "100%|██████████| 2/2 [00:06<00:00,  3.44s/it]\n",
      "\u001b[32m2025-04-04 18:31:34.813\u001b[0m | \u001b[1mINFO    \u001b[0m | \u001b[36mhyvideo.inference\u001b[0m:\u001b[36mpredict\u001b[0m:\u001b[36m709\u001b[0m - \u001b[1mSuccess, time: 41.1443350315094\u001b[0m\n",
      "huggingface/tokenizers: The current process just got forked, after parallelism has already been used. Disabling parallelism to avoid deadlocks...\n",
      "To disable this warning, you can either:\n",
      "\t- Avoid using `tokenizers` before the fork if possible\n",
      "\t- Explicitly set the environment variable TOKENIZERS_PARALLELISM=(true | false)\n",
      "\u001b[32m2025-04-04 18:31:36.478\u001b[0m | \u001b[1mINFO    \u001b[0m | \u001b[36m__main__\u001b[0m:\u001b[36mprocess_sample\u001b[0m:\u001b[36m157\u001b[0m - \u001b[1m保存编辑视频到: ./results/V2VBench/rf-solver_2order/parrot-eat/edit_001.mp4\u001b[0m\n",
      "处理数据集批次:  83%|████████▎ | 125/150 [1:27:58<16:12, 38.90s/it]\u001b[32m2025-04-04 18:31:36.512\u001b[0m | \u001b[1mINFO    \u001b[0m | \u001b[36mhyvideo.inference\u001b[0m:\u001b[36mpredict\u001b[0m:\u001b[36m605\u001b[0m - \u001b[1mInput (height, width, video_length) = (512, 512, 25)\u001b[0m\n",
      "\u001b[32m2025-04-04 18:31:36.573\u001b[0m | \u001b[34m\u001b[1mDEBUG   \u001b[0m | \u001b[36mhyvideo.inference\u001b[0m:\u001b[36mpredict\u001b[0m:\u001b[36m665\u001b[0m - \u001b[34m\u001b[1m\n",
      "                        height: 512\n",
      "                         width: 512\n",
      "                  video_length: 25\n",
      "                        prompt: ['feeding a yellow parrot on a hand in the countryside']\n",
      "                    neg_prompt: ['Aerial view, aerial view, overexposed, low quality, deformation, a poor composition, bad hands, bad teeth, bad eyes, bad limbs, distortion']\n",
      "                          seed: 42\n",
      "                   infer_steps: 2\n",
      "         num_videos_per_prompt: 1\n",
      "                guidance_scale: 1.0\n",
      "                      n_tokens: 7168\n",
      "                    flow_shift: 7.0\n",
      "       embedded_guidance_scale: 2.0\u001b[0m\n"
     ]
    },
    {
     "name": "stdout",
     "output_type": "stream",
     "text": [
      "cuda:0\n",
      "cuda:0\n",
      "sigmas_reverse\n",
      "sigmas: tensor([0.0000, 0.8750, 1.0000])\n",
      "Using inversed latents\n",
      "Step 0: t = 0.0\n",
      "Step 1: t = 875.0\n"
     ]
    },
    {
     "name": "stderr",
     "output_type": "stream",
     "text": []
    },
    {
     "name": "stdout",
     "output_type": "stream",
     "text": [
      "Step 0: t_curr = 0.0, t_prev = 875.0\n",
      "t:1\n"
     ]
    },
    {
     "name": "stderr",
     "output_type": "stream",
     "text": []
    },
    {
     "name": "stdout",
     "output_type": "stream",
     "text": [
      "Step 1: t_curr = 875.0, t_prev = 1000.0\n",
      "t:2\n"
     ]
    },
    {
     "name": "stderr",
     "output_type": "stream",
     "text": [
      "100%|██████████| 2/2 [00:08<00:00,  4.01s/it]\n"
     ]
    },
    {
     "name": "stdout",
     "output_type": "stream",
     "text": [
      "cuda:0\n",
      "cuda:0\n",
      "sigmas: tensor([1.0000, 0.8750, 0.0000])\n",
      "Using inversed latents\n",
      "Step 0: t = 1000.0\n",
      "Step 1: t = 875.0\n"
     ]
    },
    {
     "name": "stderr",
     "output_type": "stream",
     "text": []
    },
    {
     "name": "stdout",
     "output_type": "stream",
     "text": [
      "Step 0: t_curr = 1000.0, t_prev = 875.0\n",
      "t:2\n"
     ]
    },
    {
     "name": "stderr",
     "output_type": "stream",
     "text": []
    },
    {
     "name": "stdout",
     "output_type": "stream",
     "text": [
      "Step 1: t_curr = 875.0, t_prev = 0.0\n",
      "t:1\n"
     ]
    },
    {
     "name": "stderr",
     "output_type": "stream",
     "text": [
      "100%|██████████| 2/2 [00:06<00:00,  3.49s/it]\n",
      "\u001b[32m2025-04-04 18:32:17.045\u001b[0m | \u001b[1mINFO    \u001b[0m | \u001b[36mhyvideo.inference\u001b[0m:\u001b[36mpredict\u001b[0m:\u001b[36m709\u001b[0m - \u001b[1mSuccess, time: 40.47036671638489\u001b[0m\n",
      "huggingface/tokenizers: The current process just got forked, after parallelism has already been used. Disabling parallelism to avoid deadlocks...\n",
      "To disable this warning, you can either:\n",
      "\t- Avoid using `tokenizers` before the fork if possible\n",
      "\t- Explicitly set the environment variable TOKENIZERS_PARALLELISM=(true | false)\n",
      "\u001b[32m2025-04-04 18:32:18.628\u001b[0m | \u001b[1mINFO    \u001b[0m | \u001b[36m__main__\u001b[0m:\u001b[36mprocess_sample\u001b[0m:\u001b[36m157\u001b[0m - \u001b[1m保存编辑视频到: ./results/V2VBench/rf-solver_2order/parrot-eat/edit_002.mp4\u001b[0m\n",
      "处理数据集批次:  84%|████████▍ | 126/150 [1:28:40<15:55, 39.81s/it]\u001b[32m2025-04-04 18:32:18.656\u001b[0m | \u001b[1mINFO    \u001b[0m | \u001b[36mhyvideo.inference\u001b[0m:\u001b[36mpredict\u001b[0m:\u001b[36m605\u001b[0m - \u001b[1mInput (height, width, video_length) = (512, 512, 25)\u001b[0m\n",
      "\u001b[32m2025-04-04 18:32:18.819\u001b[0m | \u001b[34m\u001b[1mDEBUG   \u001b[0m | \u001b[36mhyvideo.inference\u001b[0m:\u001b[36mpredict\u001b[0m:\u001b[36m665\u001b[0m - \u001b[34m\u001b[1m\n",
      "                        height: 512\n",
      "                         width: 512\n",
      "                  video_length: 25\n",
      "                        prompt: ['exploring the vastness of the pyramids of giza rising in the desert']\n",
      "                    neg_prompt: ['Aerial view, aerial view, overexposed, low quality, deformation, a poor composition, bad hands, bad teeth, bad eyes, bad limbs, distortion']\n",
      "                          seed: 42\n",
      "                   infer_steps: 2\n",
      "         num_videos_per_prompt: 1\n",
      "                guidance_scale: 1.0\n",
      "                      n_tokens: 7168\n",
      "                    flow_shift: 7.0\n",
      "       embedded_guidance_scale: 2.0\u001b[0m\n"
     ]
    },
    {
     "name": "stdout",
     "output_type": "stream",
     "text": [
      "cuda:0\n",
      "cuda:0\n",
      "sigmas_reverse\n",
      "sigmas: tensor([0.0000, 0.8750, 1.0000])\n",
      "Using inversed latents\n",
      "Step 0: t = 0.0\n",
      "Step 1: t = 875.0\n"
     ]
    },
    {
     "name": "stderr",
     "output_type": "stream",
     "text": []
    },
    {
     "name": "stdout",
     "output_type": "stream",
     "text": [
      "Step 0: t_curr = 0.0, t_prev = 875.0\n",
      "t:1\n"
     ]
    },
    {
     "name": "stderr",
     "output_type": "stream",
     "text": []
    },
    {
     "name": "stdout",
     "output_type": "stream",
     "text": [
      "Step 1: t_curr = 875.0, t_prev = 1000.0\n",
      "t:2\n"
     ]
    },
    {
     "name": "stderr",
     "output_type": "stream",
     "text": [
      "100%|██████████| 2/2 [00:08<00:00,  4.03s/it]\n"
     ]
    },
    {
     "name": "stdout",
     "output_type": "stream",
     "text": [
      "cuda:0\n",
      "cuda:0\n",
      "sigmas: tensor([1.0000, 0.8750, 0.0000])\n",
      "Using inversed latents\n",
      "Step 0: t = 1000.0\n",
      "Step 1: t = 875.0\n"
     ]
    },
    {
     "name": "stderr",
     "output_type": "stream",
     "text": []
    },
    {
     "name": "stdout",
     "output_type": "stream",
     "text": [
      "Step 0: t_curr = 1000.0, t_prev = 875.0\n",
      "t:2\n"
     ]
    },
    {
     "name": "stderr",
     "output_type": "stream",
     "text": []
    },
    {
     "name": "stdout",
     "output_type": "stream",
     "text": [
      "Step 1: t_curr = 875.0, t_prev = 0.0\n",
      "t:1\n"
     ]
    },
    {
     "name": "stderr",
     "output_type": "stream",
     "text": [
      "100%|██████████| 2/2 [00:06<00:00,  3.43s/it]\n",
      "\u001b[32m2025-04-04 18:32:59.353\u001b[0m | \u001b[1mINFO    \u001b[0m | \u001b[36mhyvideo.inference\u001b[0m:\u001b[36mpredict\u001b[0m:\u001b[36m709\u001b[0m - \u001b[1mSuccess, time: 40.53369140625\u001b[0m\n",
      "huggingface/tokenizers: The current process just got forked, after parallelism has already been used. Disabling parallelism to avoid deadlocks...\n",
      "To disable this warning, you can either:\n",
      "\t- Avoid using `tokenizers` before the fork if possible\n",
      "\t- Explicitly set the environment variable TOKENIZERS_PARALLELISM=(true | false)\n",
      "\u001b[32m2025-04-04 18:33:01.039\u001b[0m | \u001b[1mINFO    \u001b[0m | \u001b[36m__main__\u001b[0m:\u001b[36mprocess_sample\u001b[0m:\u001b[36m157\u001b[0m - \u001b[1m保存编辑视频到: ./results/V2VBench/rf-solver_2order/pyramid/edit_000.mp4\u001b[0m\n",
      "处理数据集批次:  85%|████████▍ | 127/150 [1:29:22<15:32, 40.55s/it]\u001b[32m2025-04-04 18:33:01.072\u001b[0m | \u001b[1mINFO    \u001b[0m | \u001b[36mhyvideo.inference\u001b[0m:\u001b[36mpredict\u001b[0m:\u001b[36m605\u001b[0m - \u001b[1mInput (height, width, video_length) = (512, 512, 25)\u001b[0m\n",
      "\u001b[32m2025-04-04 18:33:01.228\u001b[0m | \u001b[34m\u001b[1mDEBUG   \u001b[0m | \u001b[36mhyvideo.inference\u001b[0m:\u001b[36mpredict\u001b[0m:\u001b[36m665\u001b[0m - \u001b[34m\u001b[1m\n",
      "                        height: 512\n",
      "                         width: 512\n",
      "                  video_length: 25\n",
      "                        prompt: ['exploring the vastness of the pyramids of giza rising in the desert']\n",
      "                    neg_prompt: ['Aerial view, aerial view, overexposed, low quality, deformation, a poor composition, bad hands, bad teeth, bad eyes, bad limbs, distortion']\n",
      "                          seed: 42\n",
      "                   infer_steps: 2\n",
      "         num_videos_per_prompt: 1\n",
      "                guidance_scale: 1.0\n",
      "                      n_tokens: 7168\n",
      "                    flow_shift: 7.0\n",
      "       embedded_guidance_scale: 2.0\u001b[0m\n"
     ]
    },
    {
     "name": "stdout",
     "output_type": "stream",
     "text": [
      "cuda:0\n",
      "cuda:0\n",
      "sigmas_reverse\n",
      "sigmas: tensor([0.0000, 0.8750, 1.0000])\n",
      "Using inversed latents\n",
      "Step 0: t = 0.0\n",
      "Step 1: t = 875.0\n"
     ]
    },
    {
     "name": "stderr",
     "output_type": "stream",
     "text": []
    },
    {
     "name": "stdout",
     "output_type": "stream",
     "text": [
      "Step 0: t_curr = 0.0, t_prev = 875.0\n",
      "t:1\n"
     ]
    },
    {
     "name": "stderr",
     "output_type": "stream",
     "text": []
    },
    {
     "name": "stdout",
     "output_type": "stream",
     "text": [
      "Step 1: t_curr = 875.0, t_prev = 1000.0\n",
      "t:2\n"
     ]
    },
    {
     "name": "stderr",
     "output_type": "stream",
     "text": [
      "100%|██████████| 2/2 [00:08<00:00,  4.01s/it]\n"
     ]
    },
    {
     "name": "stdout",
     "output_type": "stream",
     "text": [
      "cuda:0\n",
      "cuda:0\n",
      "sigmas: tensor([1.0000, 0.8750, 0.0000])\n",
      "Using inversed latents\n",
      "Step 0: t = 1000.0\n",
      "Step 1: t = 875.0\n"
     ]
    },
    {
     "name": "stderr",
     "output_type": "stream",
     "text": []
    },
    {
     "name": "stdout",
     "output_type": "stream",
     "text": [
      "Step 0: t_curr = 1000.0, t_prev = 875.0\n",
      "t:2\n"
     ]
    },
    {
     "name": "stderr",
     "output_type": "stream",
     "text": []
    },
    {
     "name": "stdout",
     "output_type": "stream",
     "text": [
      "Step 1: t_curr = 875.0, t_prev = 0.0\n",
      "t:1\n"
     ]
    },
    {
     "name": "stderr",
     "output_type": "stream",
     "text": [
      "100%|██████████| 2/2 [00:06<00:00,  3.44s/it]\n",
      "\u001b[32m2025-04-04 18:33:41.910\u001b[0m | \u001b[1mINFO    \u001b[0m | \u001b[36mhyvideo.inference\u001b[0m:\u001b[36mpredict\u001b[0m:\u001b[36m709\u001b[0m - \u001b[1mSuccess, time: 40.68062782287598\u001b[0m\n",
      "huggingface/tokenizers: The current process just got forked, after parallelism has already been used. Disabling parallelism to avoid deadlocks...\n",
      "To disable this warning, you can either:\n",
      "\t- Avoid using `tokenizers` before the fork if possible\n",
      "\t- Explicitly set the environment variable TOKENIZERS_PARALLELISM=(true | false)\n",
      "\u001b[32m2025-04-04 18:33:43.509\u001b[0m | \u001b[1mINFO    \u001b[0m | \u001b[36m__main__\u001b[0m:\u001b[36mprocess_sample\u001b[0m:\u001b[36m157\u001b[0m - \u001b[1m保存编辑视频到: ./results/V2VBench/rf-solver_2order/pyramid/edit_001.mp4\u001b[0m\n",
      "处理数据集批次:  85%|████████▌ | 128/150 [1:30:05<15:04, 41.11s/it]\u001b[32m2025-04-04 18:33:43.544\u001b[0m | \u001b[1mINFO    \u001b[0m | \u001b[36mhyvideo.inference\u001b[0m:\u001b[36mpredict\u001b[0m:\u001b[36m605\u001b[0m - \u001b[1mInput (height, width, video_length) = (512, 512, 25)\u001b[0m\n",
      "\u001b[32m2025-04-04 18:33:43.686\u001b[0m | \u001b[34m\u001b[1mDEBUG   \u001b[0m | \u001b[36mhyvideo.inference\u001b[0m:\u001b[36mpredict\u001b[0m:\u001b[36m665\u001b[0m - \u001b[34m\u001b[1m\n",
      "                        height: 512\n",
      "                         width: 512\n",
      "                  video_length: 25\n",
      "                        prompt: ['exploring the vastness of the pyramids of giza rising in the desert']\n",
      "                    neg_prompt: ['Aerial view, aerial view, overexposed, low quality, deformation, a poor composition, bad hands, bad teeth, bad eyes, bad limbs, distortion']\n",
      "                          seed: 42\n",
      "                   infer_steps: 2\n",
      "         num_videos_per_prompt: 1\n",
      "                guidance_scale: 1.0\n",
      "                      n_tokens: 7168\n",
      "                    flow_shift: 7.0\n",
      "       embedded_guidance_scale: 2.0\u001b[0m\n"
     ]
    },
    {
     "name": "stdout",
     "output_type": "stream",
     "text": [
      "cuda:0\n",
      "cuda:0\n",
      "sigmas_reverse\n",
      "sigmas: tensor([0.0000, 0.8750, 1.0000])\n",
      "Using inversed latents\n",
      "Step 0: t = 0.0\n",
      "Step 1: t = 875.0\n"
     ]
    },
    {
     "name": "stderr",
     "output_type": "stream",
     "text": []
    },
    {
     "name": "stdout",
     "output_type": "stream",
     "text": [
      "Step 0: t_curr = 0.0, t_prev = 875.0\n",
      "t:1\n"
     ]
    },
    {
     "name": "stderr",
     "output_type": "stream",
     "text": []
    },
    {
     "name": "stdout",
     "output_type": "stream",
     "text": [
      "Step 1: t_curr = 875.0, t_prev = 1000.0\n",
      "t:2\n"
     ]
    },
    {
     "name": "stderr",
     "output_type": "stream",
     "text": [
      "100%|██████████| 2/2 [00:08<00:00,  4.14s/it]\n"
     ]
    },
    {
     "name": "stdout",
     "output_type": "stream",
     "text": [
      "cuda:0\n",
      "cuda:0\n",
      "sigmas: tensor([1.0000, 0.8750, 0.0000])\n",
      "Using inversed latents\n",
      "Step 0: t = 1000.0\n",
      "Step 1: t = 875.0\n"
     ]
    },
    {
     "name": "stderr",
     "output_type": "stream",
     "text": []
    },
    {
     "name": "stdout",
     "output_type": "stream",
     "text": [
      "Step 0: t_curr = 1000.0, t_prev = 875.0\n",
      "t:2\n"
     ]
    },
    {
     "name": "stderr",
     "output_type": "stream",
     "text": []
    },
    {
     "name": "stdout",
     "output_type": "stream",
     "text": [
      "Step 1: t_curr = 875.0, t_prev = 0.0\n",
      "t:1\n"
     ]
    },
    {
     "name": "stderr",
     "output_type": "stream",
     "text": [
      "100%|██████████| 2/2 [00:07<00:00,  3.60s/it]\n",
      "\u001b[32m2025-04-04 18:34:33.259\u001b[0m | \u001b[1mINFO    \u001b[0m | \u001b[36mhyvideo.inference\u001b[0m:\u001b[36mpredict\u001b[0m:\u001b[36m709\u001b[0m - \u001b[1mSuccess, time: 49.57207417488098\u001b[0m\n",
      "huggingface/tokenizers: The current process just got forked, after parallelism has already been used. Disabling parallelism to avoid deadlocks...\n",
      "To disable this warning, you can either:\n",
      "\t- Avoid using `tokenizers` before the fork if possible\n",
      "\t- Explicitly set the environment variable TOKENIZERS_PARALLELISM=(true | false)\n",
      "\u001b[32m2025-04-04 18:34:34.875\u001b[0m | \u001b[1mINFO    \u001b[0m | \u001b[36m__main__\u001b[0m:\u001b[36mprocess_sample\u001b[0m:\u001b[36m157\u001b[0m - \u001b[1m保存编辑视频到: ./results/V2VBench/rf-solver_2order/pyramid/edit_002.mp4\u001b[0m\n",
      "处理数据集批次:  86%|████████▌ | 129/150 [1:30:56<15:26, 44.11s/it]\u001b[32m2025-04-04 18:34:34.907\u001b[0m | \u001b[1mINFO    \u001b[0m | \u001b[36mhyvideo.inference\u001b[0m:\u001b[36mpredict\u001b[0m:\u001b[36m605\u001b[0m - \u001b[1mInput (height, width, video_length) = (512, 512, 25)\u001b[0m\n",
      "\u001b[32m2025-04-04 18:34:35.022\u001b[0m | \u001b[34m\u001b[1mDEBUG   \u001b[0m | \u001b[36mhyvideo.inference\u001b[0m:\u001b[36mpredict\u001b[0m:\u001b[36m665\u001b[0m - \u001b[34m\u001b[1m\n",
      "                        height: 512\n",
      "                         width: 512\n",
      "                  video_length: 25\n",
      "                        prompt: ['a rabbit is eating watermelon on table against white wall']\n",
      "                    neg_prompt: ['Aerial view, aerial view, overexposed, low quality, deformation, a poor composition, bad hands, bad teeth, bad eyes, bad limbs, distortion']\n",
      "                          seed: 42\n",
      "                   infer_steps: 2\n",
      "         num_videos_per_prompt: 1\n",
      "                guidance_scale: 1.0\n",
      "                      n_tokens: 7168\n",
      "                    flow_shift: 7.0\n",
      "       embedded_guidance_scale: 2.0\u001b[0m\n"
     ]
    },
    {
     "name": "stdout",
     "output_type": "stream",
     "text": [
      "cuda:0\n",
      "cuda:0\n",
      "sigmas_reverse\n",
      "sigmas: tensor([0.0000, 0.8750, 1.0000])\n",
      "Using inversed latents\n",
      "Step 0: t = 0.0\n",
      "Step 1: t = 875.0\n"
     ]
    },
    {
     "name": "stderr",
     "output_type": "stream",
     "text": []
    },
    {
     "name": "stdout",
     "output_type": "stream",
     "text": [
      "Step 0: t_curr = 0.0, t_prev = 875.0\n",
      "t:1\n"
     ]
    },
    {
     "name": "stderr",
     "output_type": "stream",
     "text": []
    },
    {
     "name": "stdout",
     "output_type": "stream",
     "text": [
      "Step 1: t_curr = 875.0, t_prev = 1000.0\n",
      "t:2\n"
     ]
    },
    {
     "name": "stderr",
     "output_type": "stream",
     "text": [
      "100%|██████████| 2/2 [00:08<00:00,  4.28s/it]\n"
     ]
    },
    {
     "name": "stdout",
     "output_type": "stream",
     "text": [
      "cuda:0\n",
      "cuda:0\n",
      "sigmas: tensor([1.0000, 0.8750, 0.0000])\n",
      "Using inversed latents\n",
      "Step 0: t = 1000.0\n",
      "Step 1: t = 875.0\n"
     ]
    },
    {
     "name": "stderr",
     "output_type": "stream",
     "text": []
    },
    {
     "name": "stdout",
     "output_type": "stream",
     "text": [
      "Step 0: t_curr = 1000.0, t_prev = 875.0\n",
      "t:2\n"
     ]
    },
    {
     "name": "stderr",
     "output_type": "stream",
     "text": []
    },
    {
     "name": "stdout",
     "output_type": "stream",
     "text": [
      "Step 1: t_curr = 875.0, t_prev = 0.0\n",
      "t:1\n"
     ]
    },
    {
     "name": "stderr",
     "output_type": "stream",
     "text": [
      "100%|██████████| 2/2 [00:06<00:00,  3.46s/it]\n",
      "\u001b[32m2025-04-04 18:35:20.079\u001b[0m | \u001b[1mINFO    \u001b[0m | \u001b[36mhyvideo.inference\u001b[0m:\u001b[36mpredict\u001b[0m:\u001b[36m709\u001b[0m - \u001b[1mSuccess, time: 45.05475974082947\u001b[0m\n",
      "huggingface/tokenizers: The current process just got forked, after parallelism has already been used. Disabling parallelism to avoid deadlocks...\n",
      "To disable this warning, you can either:\n",
      "\t- Avoid using `tokenizers` before the fork if possible\n",
      "\t- Explicitly set the environment variable TOKENIZERS_PARALLELISM=(true | false)\n",
      "\u001b[32m2025-04-04 18:35:21.741\u001b[0m | \u001b[1mINFO    \u001b[0m | \u001b[36m__main__\u001b[0m:\u001b[36mprocess_sample\u001b[0m:\u001b[36m157\u001b[0m - \u001b[1m保存编辑视频到: ./results/V2VBench/rf-solver_2order/rabbit-watermelon/edit_000.mp4\u001b[0m\n",
      "处理数据集批次:  87%|████████▋ | 130/150 [1:31:43<14:58, 44.92s/it]\u001b[32m2025-04-04 18:35:21.774\u001b[0m | \u001b[1mINFO    \u001b[0m | \u001b[36mhyvideo.inference\u001b[0m:\u001b[36mpredict\u001b[0m:\u001b[36m605\u001b[0m - \u001b[1mInput (height, width, video_length) = (512, 512, 25)\u001b[0m\n",
      "\u001b[32m2025-04-04 18:35:21.972\u001b[0m | \u001b[34m\u001b[1mDEBUG   \u001b[0m | \u001b[36mhyvideo.inference\u001b[0m:\u001b[36mpredict\u001b[0m:\u001b[36m665\u001b[0m - \u001b[34m\u001b[1m\n",
      "                        height: 512\n",
      "                         width: 512\n",
      "                  video_length: 25\n",
      "                        prompt: ['a rabbit is eating watermelon on table against white wall']\n",
      "                    neg_prompt: ['Aerial view, aerial view, overexposed, low quality, deformation, a poor composition, bad hands, bad teeth, bad eyes, bad limbs, distortion']\n",
      "                          seed: 42\n",
      "                   infer_steps: 2\n",
      "         num_videos_per_prompt: 1\n",
      "                guidance_scale: 1.0\n",
      "                      n_tokens: 7168\n",
      "                    flow_shift: 7.0\n",
      "       embedded_guidance_scale: 2.0\u001b[0m\n"
     ]
    },
    {
     "name": "stdout",
     "output_type": "stream",
     "text": [
      "cuda:0\n",
      "cuda:0\n",
      "sigmas_reverse\n",
      "sigmas: tensor([0.0000, 0.8750, 1.0000])\n",
      "Using inversed latents\n",
      "Step 0: t = 0.0\n",
      "Step 1: t = 875.0\n"
     ]
    },
    {
     "name": "stderr",
     "output_type": "stream",
     "text": []
    },
    {
     "name": "stdout",
     "output_type": "stream",
     "text": [
      "Step 0: t_curr = 0.0, t_prev = 875.0\n",
      "t:1\n"
     ]
    },
    {
     "name": "stderr",
     "output_type": "stream",
     "text": []
    },
    {
     "name": "stdout",
     "output_type": "stream",
     "text": [
      "Step 1: t_curr = 875.0, t_prev = 1000.0\n",
      "t:2\n"
     ]
    },
    {
     "name": "stderr",
     "output_type": "stream",
     "text": [
      "100%|██████████| 2/2 [00:08<00:00,  4.40s/it]\n"
     ]
    },
    {
     "name": "stdout",
     "output_type": "stream",
     "text": [
      "cuda:0\n",
      "cuda:0\n",
      "sigmas: tensor([1.0000, 0.8750, 0.0000])\n",
      "Using inversed latents\n",
      "Step 0: t = 1000.0\n",
      "Step 1: t = 875.0\n"
     ]
    },
    {
     "name": "stderr",
     "output_type": "stream",
     "text": []
    },
    {
     "name": "stdout",
     "output_type": "stream",
     "text": [
      "Step 0: t_curr = 1000.0, t_prev = 875.0\n",
      "t:2\n"
     ]
    },
    {
     "name": "stderr",
     "output_type": "stream",
     "text": []
    },
    {
     "name": "stdout",
     "output_type": "stream",
     "text": [
      "Step 1: t_curr = 875.0, t_prev = 0.0\n",
      "t:1\n"
     ]
    },
    {
     "name": "stderr",
     "output_type": "stream",
     "text": [
      "100%|██████████| 2/2 [00:07<00:00,  3.71s/it]\n",
      "\u001b[32m2025-04-04 18:36:08.489\u001b[0m | \u001b[1mINFO    \u001b[0m | \u001b[36mhyvideo.inference\u001b[0m:\u001b[36mpredict\u001b[0m:\u001b[36m709\u001b[0m - \u001b[1mSuccess, time: 46.515671253204346\u001b[0m\n",
      "huggingface/tokenizers: The current process just got forked, after parallelism has already been used. Disabling parallelism to avoid deadlocks...\n",
      "To disable this warning, you can either:\n",
      "\t- Avoid using `tokenizers` before the fork if possible\n",
      "\t- Explicitly set the environment variable TOKENIZERS_PARALLELISM=(true | false)\n",
      "\u001b[32m2025-04-04 18:36:10.094\u001b[0m | \u001b[1mINFO    \u001b[0m | \u001b[36m__main__\u001b[0m:\u001b[36mprocess_sample\u001b[0m:\u001b[36m157\u001b[0m - \u001b[1m保存编辑视频到: ./results/V2VBench/rf-solver_2order/rabbit-watermelon/edit_001.mp4\u001b[0m\n",
      "处理数据集批次:  87%|████████▋ | 131/150 [1:32:31<14:32, 45.94s/it]\u001b[32m2025-04-04 18:36:10.132\u001b[0m | \u001b[1mINFO    \u001b[0m | \u001b[36mhyvideo.inference\u001b[0m:\u001b[36mpredict\u001b[0m:\u001b[36m605\u001b[0m - \u001b[1mInput (height, width, video_length) = (512, 512, 25)\u001b[0m\n",
      "\u001b[32m2025-04-04 18:36:10.366\u001b[0m | \u001b[34m\u001b[1mDEBUG   \u001b[0m | \u001b[36mhyvideo.inference\u001b[0m:\u001b[36mpredict\u001b[0m:\u001b[36m665\u001b[0m - \u001b[34m\u001b[1m\n",
      "                        height: 512\n",
      "                         width: 512\n",
      "                  video_length: 25\n",
      "                        prompt: ['a rabbit is eating watermelon on table against white wall']\n",
      "                    neg_prompt: ['Aerial view, aerial view, overexposed, low quality, deformation, a poor composition, bad hands, bad teeth, bad eyes, bad limbs, distortion']\n",
      "                          seed: 42\n",
      "                   infer_steps: 2\n",
      "         num_videos_per_prompt: 1\n",
      "                guidance_scale: 1.0\n",
      "                      n_tokens: 7168\n",
      "                    flow_shift: 7.0\n",
      "       embedded_guidance_scale: 2.0\u001b[0m\n"
     ]
    },
    {
     "name": "stdout",
     "output_type": "stream",
     "text": [
      "cuda:0\n",
      "cuda:0\n",
      "sigmas_reverse\n",
      "sigmas: tensor([0.0000, 0.8750, 1.0000])\n",
      "Using inversed latents\n",
      "Step 0: t = 0.0\n",
      "Step 1: t = 875.0\n"
     ]
    },
    {
     "name": "stderr",
     "output_type": "stream",
     "text": []
    },
    {
     "name": "stdout",
     "output_type": "stream",
     "text": [
      "Step 0: t_curr = 0.0, t_prev = 875.0\n",
      "t:1\n"
     ]
    },
    {
     "name": "stderr",
     "output_type": "stream",
     "text": []
    },
    {
     "name": "stdout",
     "output_type": "stream",
     "text": [
      "Step 1: t_curr = 875.0, t_prev = 1000.0\n",
      "t:2\n"
     ]
    },
    {
     "name": "stderr",
     "output_type": "stream",
     "text": [
      "100%|██████████| 2/2 [00:08<00:00,  4.13s/it]\n"
     ]
    },
    {
     "name": "stdout",
     "output_type": "stream",
     "text": [
      "cuda:0\n",
      "cuda:0\n",
      "sigmas: tensor([1.0000, 0.8750, 0.0000])\n",
      "Using inversed latents\n",
      "Step 0: t = 1000.0\n",
      "Step 1: t = 875.0\n"
     ]
    },
    {
     "name": "stderr",
     "output_type": "stream",
     "text": []
    },
    {
     "name": "stdout",
     "output_type": "stream",
     "text": [
      "Step 0: t_curr = 1000.0, t_prev = 875.0\n",
      "t:2\n"
     ]
    },
    {
     "name": "stderr",
     "output_type": "stream",
     "text": []
    },
    {
     "name": "stdout",
     "output_type": "stream",
     "text": [
      "Step 1: t_curr = 875.0, t_prev = 0.0\n",
      "t:1\n"
     ]
    },
    {
     "name": "stderr",
     "output_type": "stream",
     "text": [
      "100%|██████████| 2/2 [00:06<00:00,  3.45s/it]\n",
      "\u001b[32m2025-04-04 18:36:54.649\u001b[0m | \u001b[1mINFO    \u001b[0m | \u001b[36mhyvideo.inference\u001b[0m:\u001b[36mpredict\u001b[0m:\u001b[36m709\u001b[0m - \u001b[1mSuccess, time: 44.28156661987305\u001b[0m\n",
      "huggingface/tokenizers: The current process just got forked, after parallelism has already been used. Disabling parallelism to avoid deadlocks...\n",
      "To disable this warning, you can either:\n",
      "\t- Avoid using `tokenizers` before the fork if possible\n",
      "\t- Explicitly set the environment variable TOKENIZERS_PARALLELISM=(true | false)\n",
      "\u001b[32m2025-04-04 18:36:56.250\u001b[0m | \u001b[1mINFO    \u001b[0m | \u001b[36m__main__\u001b[0m:\u001b[36mprocess_sample\u001b[0m:\u001b[36m157\u001b[0m - \u001b[1m保存编辑视频到: ./results/V2VBench/rf-solver_2order/rabbit-watermelon/edit_002.mp4\u001b[0m\n",
      "处理数据集批次:  88%|████████▊ | 132/150 [1:33:18<13:48, 46.00s/it]\u001b[32m2025-04-04 18:36:56.283\u001b[0m | \u001b[1mINFO    \u001b[0m | \u001b[36mhyvideo.inference\u001b[0m:\u001b[36mpredict\u001b[0m:\u001b[36m605\u001b[0m - \u001b[1mInput (height, width, video_length) = (512, 512, 25)\u001b[0m\n",
      "\u001b[32m2025-04-04 18:36:56.458\u001b[0m | \u001b[34m\u001b[1mDEBUG   \u001b[0m | \u001b[36mhyvideo.inference\u001b[0m:\u001b[36mpredict\u001b[0m:\u001b[36m665\u001b[0m - \u001b[34m\u001b[1m\n",
      "                        height: 512\n",
      "                         width: 512\n",
      "                  video_length: 25\n",
      "                        prompt: ['a rollerblader performing a jumping trick in front of a graffiti-covered wall']\n",
      "                    neg_prompt: ['Aerial view, aerial view, overexposed, low quality, deformation, a poor composition, bad hands, bad teeth, bad eyes, bad limbs, distortion']\n",
      "                          seed: 42\n",
      "                   infer_steps: 2\n",
      "         num_videos_per_prompt: 1\n",
      "                guidance_scale: 1.0\n",
      "                      n_tokens: 7168\n",
      "                    flow_shift: 7.0\n",
      "       embedded_guidance_scale: 2.0\u001b[0m\n"
     ]
    },
    {
     "name": "stdout",
     "output_type": "stream",
     "text": [
      "cuda:0\n",
      "cuda:0\n",
      "sigmas_reverse\n",
      "sigmas: tensor([0.0000, 0.8750, 1.0000])\n",
      "Using inversed latents\n",
      "Step 0: t = 0.0\n",
      "Step 1: t = 875.0\n"
     ]
    },
    {
     "name": "stderr",
     "output_type": "stream",
     "text": []
    },
    {
     "name": "stdout",
     "output_type": "stream",
     "text": [
      "Step 0: t_curr = 0.0, t_prev = 875.0\n",
      "t:1\n"
     ]
    },
    {
     "name": "stderr",
     "output_type": "stream",
     "text": []
    },
    {
     "name": "stdout",
     "output_type": "stream",
     "text": [
      "Step 1: t_curr = 875.0, t_prev = 1000.0\n",
      "t:2\n"
     ]
    },
    {
     "name": "stderr",
     "output_type": "stream",
     "text": [
      "100%|██████████| 2/2 [00:08<00:00,  4.02s/it]\n"
     ]
    },
    {
     "name": "stdout",
     "output_type": "stream",
     "text": [
      "cuda:0\n",
      "cuda:0\n",
      "sigmas: tensor([1.0000, 0.8750, 0.0000])\n",
      "Using inversed latents\n",
      "Step 0: t = 1000.0\n",
      "Step 1: t = 875.0\n"
     ]
    },
    {
     "name": "stderr",
     "output_type": "stream",
     "text": []
    },
    {
     "name": "stdout",
     "output_type": "stream",
     "text": [
      "Step 0: t_curr = 1000.0, t_prev = 875.0\n",
      "t:2\n"
     ]
    },
    {
     "name": "stderr",
     "output_type": "stream",
     "text": []
    },
    {
     "name": "stdout",
     "output_type": "stream",
     "text": [
      "Step 1: t_curr = 875.0, t_prev = 0.0\n",
      "t:1\n"
     ]
    },
    {
     "name": "stderr",
     "output_type": "stream",
     "text": [
      "100%|██████████| 2/2 [00:06<00:00,  3.46s/it]\n",
      "\u001b[32m2025-04-04 18:37:39.250\u001b[0m | \u001b[1mINFO    \u001b[0m | \u001b[36mhyvideo.inference\u001b[0m:\u001b[36mpredict\u001b[0m:\u001b[36m709\u001b[0m - \u001b[1mSuccess, time: 42.79094648361206\u001b[0m\n",
      "huggingface/tokenizers: The current process just got forked, after parallelism has already been used. Disabling parallelism to avoid deadlocks...\n",
      "To disable this warning, you can either:\n",
      "\t- Avoid using `tokenizers` before the fork if possible\n",
      "\t- Explicitly set the environment variable TOKENIZERS_PARALLELISM=(true | false)\n",
      "\u001b[32m2025-04-04 18:37:40.993\u001b[0m | \u001b[1mINFO    \u001b[0m | \u001b[36m__main__\u001b[0m:\u001b[36mprocess_sample\u001b[0m:\u001b[36m157\u001b[0m - \u001b[1m保存编辑视频到: ./results/V2VBench/rf-solver_2order/rollerblade/edit_000.mp4\u001b[0m\n",
      "处理数据集批次:  89%|████████▊ | 133/150 [1:34:02<12:55, 45.63s/it]\u001b[32m2025-04-04 18:37:41.024\u001b[0m | \u001b[1mINFO    \u001b[0m | \u001b[36mhyvideo.inference\u001b[0m:\u001b[36mpredict\u001b[0m:\u001b[36m605\u001b[0m - \u001b[1mInput (height, width, video_length) = (512, 512, 25)\u001b[0m\n",
      "\u001b[32m2025-04-04 18:37:41.210\u001b[0m | \u001b[34m\u001b[1mDEBUG   \u001b[0m | \u001b[36mhyvideo.inference\u001b[0m:\u001b[36mpredict\u001b[0m:\u001b[36m665\u001b[0m - \u001b[34m\u001b[1m\n",
      "                        height: 512\n",
      "                         width: 512\n",
      "                  video_length: 25\n",
      "                        prompt: ['a rollerblader performing a jumping trick in front of a graffiti-covered wall']\n",
      "                    neg_prompt: ['Aerial view, aerial view, overexposed, low quality, deformation, a poor composition, bad hands, bad teeth, bad eyes, bad limbs, distortion']\n",
      "                          seed: 42\n",
      "                   infer_steps: 2\n",
      "         num_videos_per_prompt: 1\n",
      "                guidance_scale: 1.0\n",
      "                      n_tokens: 7168\n",
      "                    flow_shift: 7.0\n",
      "       embedded_guidance_scale: 2.0\u001b[0m\n"
     ]
    },
    {
     "name": "stdout",
     "output_type": "stream",
     "text": [
      "cuda:0\n",
      "cuda:0\n",
      "sigmas_reverse\n",
      "sigmas: tensor([0.0000, 0.8750, 1.0000])\n",
      "Using inversed latents\n",
      "Step 0: t = 0.0\n",
      "Step 1: t = 875.0\n"
     ]
    },
    {
     "name": "stderr",
     "output_type": "stream",
     "text": []
    },
    {
     "name": "stdout",
     "output_type": "stream",
     "text": [
      "Step 0: t_curr = 0.0, t_prev = 875.0\n",
      "t:1\n"
     ]
    },
    {
     "name": "stderr",
     "output_type": "stream",
     "text": []
    },
    {
     "name": "stdout",
     "output_type": "stream",
     "text": [
      "Step 1: t_curr = 875.0, t_prev = 1000.0\n",
      "t:2\n"
     ]
    },
    {
     "name": "stderr",
     "output_type": "stream",
     "text": [
      "100%|██████████| 2/2 [00:08<00:00,  4.03s/it]\n"
     ]
    },
    {
     "name": "stdout",
     "output_type": "stream",
     "text": [
      "cuda:0\n",
      "cuda:0\n",
      "sigmas: tensor([1.0000, 0.8750, 0.0000])\n",
      "Using inversed latents\n",
      "Step 0: t = 1000.0\n",
      "Step 1: t = 875.0\n"
     ]
    },
    {
     "name": "stderr",
     "output_type": "stream",
     "text": []
    },
    {
     "name": "stdout",
     "output_type": "stream",
     "text": [
      "Step 0: t_curr = 1000.0, t_prev = 875.0\n",
      "t:2\n"
     ]
    },
    {
     "name": "stderr",
     "output_type": "stream",
     "text": []
    },
    {
     "name": "stdout",
     "output_type": "stream",
     "text": [
      "Step 1: t_curr = 875.0, t_prev = 0.0\n",
      "t:1\n"
     ]
    },
    {
     "name": "stderr",
     "output_type": "stream",
     "text": [
      "100%|██████████| 2/2 [00:07<00:00,  3.53s/it]\n",
      "\u001b[32m2025-04-04 18:38:24.221\u001b[0m | \u001b[1mINFO    \u001b[0m | \u001b[36mhyvideo.inference\u001b[0m:\u001b[36mpredict\u001b[0m:\u001b[36m709\u001b[0m - \u001b[1mSuccess, time: 43.00977611541748\u001b[0m\n",
      "huggingface/tokenizers: The current process just got forked, after parallelism has already been used. Disabling parallelism to avoid deadlocks...\n",
      "To disable this warning, you can either:\n",
      "\t- Avoid using `tokenizers` before the fork if possible\n",
      "\t- Explicitly set the environment variable TOKENIZERS_PARALLELISM=(true | false)\n",
      "\u001b[32m2025-04-04 18:38:25.920\u001b[0m | \u001b[1mINFO    \u001b[0m | \u001b[36m__main__\u001b[0m:\u001b[36mprocess_sample\u001b[0m:\u001b[36m157\u001b[0m - \u001b[1m保存编辑视频到: ./results/V2VBench/rf-solver_2order/rollerblade/edit_001.mp4\u001b[0m\n",
      "处理数据集批次:  89%|████████▉ | 134/150 [1:34:47<12:06, 45.42s/it]\u001b[32m2025-04-04 18:38:25.952\u001b[0m | \u001b[1mINFO    \u001b[0m | \u001b[36mhyvideo.inference\u001b[0m:\u001b[36mpredict\u001b[0m:\u001b[36m605\u001b[0m - \u001b[1mInput (height, width, video_length) = (512, 512, 25)\u001b[0m\n",
      "\u001b[32m2025-04-04 18:38:26.015\u001b[0m | \u001b[34m\u001b[1mDEBUG   \u001b[0m | \u001b[36mhyvideo.inference\u001b[0m:\u001b[36mpredict\u001b[0m:\u001b[36m665\u001b[0m - \u001b[34m\u001b[1m\n",
      "                        height: 512\n",
      "                         width: 512\n",
      "                  video_length: 25\n",
      "                        prompt: ['a rollerblader performing a jumping trick in front of a graffiti-covered wall']\n",
      "                    neg_prompt: ['Aerial view, aerial view, overexposed, low quality, deformation, a poor composition, bad hands, bad teeth, bad eyes, bad limbs, distortion']\n",
      "                          seed: 42\n",
      "                   infer_steps: 2\n",
      "         num_videos_per_prompt: 1\n",
      "                guidance_scale: 1.0\n",
      "                      n_tokens: 7168\n",
      "                    flow_shift: 7.0\n",
      "       embedded_guidance_scale: 2.0\u001b[0m\n"
     ]
    },
    {
     "name": "stdout",
     "output_type": "stream",
     "text": [
      "cuda:0\n",
      "cuda:0\n",
      "sigmas_reverse\n",
      "sigmas: tensor([0.0000, 0.8750, 1.0000])\n",
      "Using inversed latents\n",
      "Step 0: t = 0.0\n",
      "Step 1: t = 875.0\n"
     ]
    },
    {
     "name": "stderr",
     "output_type": "stream",
     "text": []
    },
    {
     "name": "stdout",
     "output_type": "stream",
     "text": [
      "Step 0: t_curr = 0.0, t_prev = 875.0\n",
      "t:1\n"
     ]
    },
    {
     "name": "stderr",
     "output_type": "stream",
     "text": []
    },
    {
     "name": "stdout",
     "output_type": "stream",
     "text": [
      "Step 1: t_curr = 875.0, t_prev = 1000.0\n",
      "t:2\n"
     ]
    },
    {
     "name": "stderr",
     "output_type": "stream",
     "text": [
      "100%|██████████| 2/2 [00:08<00:00,  4.06s/it]\n"
     ]
    },
    {
     "name": "stdout",
     "output_type": "stream",
     "text": [
      "cuda:0\n",
      "cuda:0\n",
      "sigmas: tensor([1.0000, 0.8750, 0.0000])\n",
      "Using inversed latents\n",
      "Step 0: t = 1000.0\n",
      "Step 1: t = 875.0\n"
     ]
    },
    {
     "name": "stderr",
     "output_type": "stream",
     "text": []
    },
    {
     "name": "stdout",
     "output_type": "stream",
     "text": [
      "Step 0: t_curr = 1000.0, t_prev = 875.0\n",
      "t:2\n"
     ]
    },
    {
     "name": "stderr",
     "output_type": "stream",
     "text": []
    },
    {
     "name": "stdout",
     "output_type": "stream",
     "text": [
      "Step 1: t_curr = 875.0, t_prev = 0.0\n",
      "t:1\n"
     ]
    },
    {
     "name": "stderr",
     "output_type": "stream",
     "text": [
      "100%|██████████| 2/2 [00:06<00:00,  3.43s/it]\n",
      "\u001b[32m2025-04-04 18:39:08.620\u001b[0m | \u001b[1mINFO    \u001b[0m | \u001b[36mhyvideo.inference\u001b[0m:\u001b[36mpredict\u001b[0m:\u001b[36m709\u001b[0m - \u001b[1mSuccess, time: 42.59962224960327\u001b[0m\n",
      "huggingface/tokenizers: The current process just got forked, after parallelism has already been used. Disabling parallelism to avoid deadlocks...\n",
      "To disable this warning, you can either:\n",
      "\t- Avoid using `tokenizers` before the fork if possible\n",
      "\t- Explicitly set the environment variable TOKENIZERS_PARALLELISM=(true | false)\n",
      "\u001b[32m2025-04-04 18:39:10.075\u001b[0m | \u001b[1mINFO    \u001b[0m | \u001b[36m__main__\u001b[0m:\u001b[36mprocess_sample\u001b[0m:\u001b[36m157\u001b[0m - \u001b[1m保存编辑视频到: ./results/V2VBench/rf-solver_2order/rollerblade/edit_002.mp4\u001b[0m\n",
      "处理数据集批次:  90%|█████████ | 135/150 [1:35:31<11:15, 45.04s/it]\u001b[32m2025-04-04 18:39:10.102\u001b[0m | \u001b[1mINFO    \u001b[0m | \u001b[36mhyvideo.inference\u001b[0m:\u001b[36mpredict\u001b[0m:\u001b[36m605\u001b[0m - \u001b[1mInput (height, width, video_length) = (512, 512, 25)\u001b[0m\n",
      "\u001b[32m2025-04-04 18:39:10.164\u001b[0m | \u001b[34m\u001b[1mDEBUG   \u001b[0m | \u001b[36mhyvideo.inference\u001b[0m:\u001b[36mpredict\u001b[0m:\u001b[36m665\u001b[0m - \u001b[34m\u001b[1m\n",
      "                        height: 512\n",
      "                         width: 512\n",
      "                  video_length: 25\n",
      "                        prompt: ['a man in a black suit stands indoors as the camera approaches in dim light']\n",
      "                    neg_prompt: ['Aerial view, aerial view, overexposed, low quality, deformation, a poor composition, bad hands, bad teeth, bad eyes, bad limbs, distortion']\n",
      "                          seed: 42\n",
      "                   infer_steps: 2\n",
      "         num_videos_per_prompt: 1\n",
      "                guidance_scale: 1.0\n",
      "                      n_tokens: 7168\n",
      "                    flow_shift: 7.0\n",
      "       embedded_guidance_scale: 2.0\u001b[0m\n"
     ]
    },
    {
     "name": "stdout",
     "output_type": "stream",
     "text": [
      "cuda:0\n",
      "cuda:0\n",
      "sigmas_reverse\n",
      "sigmas: tensor([0.0000, 0.8750, 1.0000])\n",
      "Using inversed latents\n",
      "Step 0: t = 0.0\n",
      "Step 1: t = 875.0\n"
     ]
    },
    {
     "name": "stderr",
     "output_type": "stream",
     "text": []
    },
    {
     "name": "stdout",
     "output_type": "stream",
     "text": [
      "Step 0: t_curr = 0.0, t_prev = 875.0\n",
      "t:1\n"
     ]
    },
    {
     "name": "stderr",
     "output_type": "stream",
     "text": []
    },
    {
     "name": "stdout",
     "output_type": "stream",
     "text": [
      "Step 1: t_curr = 875.0, t_prev = 1000.0\n",
      "t:2\n"
     ]
    },
    {
     "name": "stderr",
     "output_type": "stream",
     "text": [
      "100%|██████████| 2/2 [00:08<00:00,  4.04s/it]\n"
     ]
    },
    {
     "name": "stdout",
     "output_type": "stream",
     "text": [
      "cuda:0\n",
      "cuda:0\n",
      "sigmas: tensor([1.0000, 0.8750, 0.0000])\n",
      "Using inversed latents\n",
      "Step 0: t = 1000.0\n",
      "Step 1: t = 875.0\n"
     ]
    },
    {
     "name": "stderr",
     "output_type": "stream",
     "text": []
    },
    {
     "name": "stdout",
     "output_type": "stream",
     "text": [
      "Step 0: t_curr = 1000.0, t_prev = 875.0\n",
      "t:2\n"
     ]
    },
    {
     "name": "stderr",
     "output_type": "stream",
     "text": []
    },
    {
     "name": "stdout",
     "output_type": "stream",
     "text": [
      "Step 1: t_curr = 875.0, t_prev = 0.0\n",
      "t:1\n"
     ]
    },
    {
     "name": "stderr",
     "output_type": "stream",
     "text": [
      "100%|██████████| 2/2 [00:06<00:00,  3.46s/it]\n",
      "\u001b[32m2025-04-04 18:39:51.074\u001b[0m | \u001b[1mINFO    \u001b[0m | \u001b[36mhyvideo.inference\u001b[0m:\u001b[36mpredict\u001b[0m:\u001b[36m709\u001b[0m - \u001b[1mSuccess, time: 40.908700942993164\u001b[0m\n",
      "huggingface/tokenizers: The current process just got forked, after parallelism has already been used. Disabling parallelism to avoid deadlocks...\n",
      "To disable this warning, you can either:\n",
      "\t- Avoid using `tokenizers` before the fork if possible\n",
      "\t- Explicitly set the environment variable TOKENIZERS_PARALLELISM=(true | false)\n",
      "\u001b[32m2025-04-04 18:39:52.697\u001b[0m | \u001b[1mINFO    \u001b[0m | \u001b[36m__main__\u001b[0m:\u001b[36mprocess_sample\u001b[0m:\u001b[36m157\u001b[0m - \u001b[1m保存编辑视频到: ./results/V2VBench/rf-solver_2order/suitguy/edit_000.mp4\u001b[0m\n",
      "处理数据集批次:  91%|█████████ | 136/150 [1:36:14<10:20, 44.32s/it]\u001b[32m2025-04-04 18:39:52.723\u001b[0m | \u001b[1mINFO    \u001b[0m | \u001b[36mhyvideo.inference\u001b[0m:\u001b[36mpredict\u001b[0m:\u001b[36m605\u001b[0m - \u001b[1mInput (height, width, video_length) = (512, 512, 25)\u001b[0m\n",
      "\u001b[32m2025-04-04 18:39:52.771\u001b[0m | \u001b[34m\u001b[1mDEBUG   \u001b[0m | \u001b[36mhyvideo.inference\u001b[0m:\u001b[36mpredict\u001b[0m:\u001b[36m665\u001b[0m - \u001b[34m\u001b[1m\n",
      "                        height: 512\n",
      "                         width: 512\n",
      "                  video_length: 25\n",
      "                        prompt: ['a man in a black suit stands indoors as the camera approaches in dim light']\n",
      "                    neg_prompt: ['Aerial view, aerial view, overexposed, low quality, deformation, a poor composition, bad hands, bad teeth, bad eyes, bad limbs, distortion']\n",
      "                          seed: 42\n",
      "                   infer_steps: 2\n",
      "         num_videos_per_prompt: 1\n",
      "                guidance_scale: 1.0\n",
      "                      n_tokens: 7168\n",
      "                    flow_shift: 7.0\n",
      "       embedded_guidance_scale: 2.0\u001b[0m\n"
     ]
    },
    {
     "name": "stdout",
     "output_type": "stream",
     "text": [
      "cuda:0\n",
      "cuda:0\n",
      "sigmas_reverse\n",
      "sigmas: tensor([0.0000, 0.8750, 1.0000])\n",
      "Using inversed latents\n",
      "Step 0: t = 0.0\n",
      "Step 1: t = 875.0\n"
     ]
    },
    {
     "name": "stderr",
     "output_type": "stream",
     "text": []
    },
    {
     "name": "stdout",
     "output_type": "stream",
     "text": [
      "Step 0: t_curr = 0.0, t_prev = 875.0\n",
      "t:1\n"
     ]
    },
    {
     "name": "stderr",
     "output_type": "stream",
     "text": []
    },
    {
     "name": "stdout",
     "output_type": "stream",
     "text": [
      "Step 1: t_curr = 875.0, t_prev = 1000.0\n",
      "t:2\n"
     ]
    },
    {
     "name": "stderr",
     "output_type": "stream",
     "text": [
      "100%|██████████| 2/2 [00:08<00:00,  4.04s/it]\n"
     ]
    },
    {
     "name": "stdout",
     "output_type": "stream",
     "text": [
      "cuda:0\n",
      "cuda:0\n",
      "sigmas: tensor([1.0000, 0.8750, 0.0000])\n",
      "Using inversed latents\n",
      "Step 0: t = 1000.0\n",
      "Step 1: t = 875.0\n"
     ]
    },
    {
     "name": "stderr",
     "output_type": "stream",
     "text": []
    },
    {
     "name": "stdout",
     "output_type": "stream",
     "text": [
      "Step 0: t_curr = 1000.0, t_prev = 875.0\n",
      "t:2\n"
     ]
    },
    {
     "name": "stderr",
     "output_type": "stream",
     "text": []
    },
    {
     "name": "stdout",
     "output_type": "stream",
     "text": [
      "Step 1: t_curr = 875.0, t_prev = 0.0\n",
      "t:1\n"
     ]
    },
    {
     "name": "stderr",
     "output_type": "stream",
     "text": [
      "100%|██████████| 2/2 [00:06<00:00,  3.44s/it]\n",
      "\u001b[32m2025-04-04 18:40:34.012\u001b[0m | \u001b[1mINFO    \u001b[0m | \u001b[36mhyvideo.inference\u001b[0m:\u001b[36mpredict\u001b[0m:\u001b[36m709\u001b[0m - \u001b[1mSuccess, time: 41.23617625236511\u001b[0m\n",
      "huggingface/tokenizers: The current process just got forked, after parallelism has already been used. Disabling parallelism to avoid deadlocks...\n",
      "To disable this warning, you can either:\n",
      "\t- Avoid using `tokenizers` before the fork if possible\n",
      "\t- Explicitly set the environment variable TOKENIZERS_PARALLELISM=(true | false)\n",
      "\u001b[32m2025-04-04 18:40:35.667\u001b[0m | \u001b[1mINFO    \u001b[0m | \u001b[36m__main__\u001b[0m:\u001b[36mprocess_sample\u001b[0m:\u001b[36m157\u001b[0m - \u001b[1m保存编辑视频到: ./results/V2VBench/rf-solver_2order/suitguy/edit_001.mp4\u001b[0m\n",
      "处理数据集批次:  92%|█████████▏| 138/150 [1:36:57<06:45, 33.79s/it]\u001b[32m2025-04-04 18:40:35.705\u001b[0m | \u001b[1mINFO    \u001b[0m | \u001b[36mhyvideo.inference\u001b[0m:\u001b[36mpredict\u001b[0m:\u001b[36m605\u001b[0m - \u001b[1mInput (height, width, video_length) = (512, 512, 25)\u001b[0m\n",
      "\u001b[32m2025-04-04 18:40:35.900\u001b[0m | \u001b[34m\u001b[1mDEBUG   \u001b[0m | \u001b[36mhyvideo.inference\u001b[0m:\u001b[36mpredict\u001b[0m:\u001b[36m665\u001b[0m - \u001b[34m\u001b[1m\n",
      "                        height: 512\n",
      "                         width: 512\n",
      "                  video_length: 25\n",
      "                        prompt: ['a man in a black suit stands indoors as the camera approaches in dim light']\n",
      "                    neg_prompt: ['Aerial view, aerial view, overexposed, low quality, deformation, a poor composition, bad hands, bad teeth, bad eyes, bad limbs, distortion']\n",
      "                          seed: 42\n",
      "                   infer_steps: 2\n",
      "         num_videos_per_prompt: 1\n",
      "                guidance_scale: 1.0\n",
      "                      n_tokens: 7168\n",
      "                    flow_shift: 7.0\n",
      "       embedded_guidance_scale: 2.0\u001b[0m\n"
     ]
    },
    {
     "name": "stdout",
     "output_type": "stream",
     "text": [
      "cuda:0\n",
      "cuda:0\n",
      "sigmas_reverse\n",
      "sigmas: tensor([0.0000, 0.8750, 1.0000])\n",
      "Using inversed latents\n",
      "Step 0: t = 0.0\n",
      "Step 1: t = 875.0\n"
     ]
    },
    {
     "name": "stderr",
     "output_type": "stream",
     "text": []
    },
    {
     "name": "stdout",
     "output_type": "stream",
     "text": [
      "Step 0: t_curr = 0.0, t_prev = 875.0\n",
      "t:1\n"
     ]
    },
    {
     "name": "stderr",
     "output_type": "stream",
     "text": []
    },
    {
     "name": "stdout",
     "output_type": "stream",
     "text": [
      "Step 1: t_curr = 875.0, t_prev = 1000.0\n",
      "t:2\n"
     ]
    },
    {
     "name": "stderr",
     "output_type": "stream",
     "text": [
      "100%|██████████| 2/2 [00:08<00:00,  4.02s/it]\n"
     ]
    },
    {
     "name": "stdout",
     "output_type": "stream",
     "text": [
      "cuda:0\n",
      "cuda:0\n",
      "sigmas: tensor([1.0000, 0.8750, 0.0000])\n",
      "Using inversed latents\n",
      "Step 0: t = 1000.0\n",
      "Step 1: t = 875.0\n"
     ]
    },
    {
     "name": "stderr",
     "output_type": "stream",
     "text": []
    },
    {
     "name": "stdout",
     "output_type": "stream",
     "text": [
      "Step 0: t_curr = 1000.0, t_prev = 875.0\n",
      "t:2\n"
     ]
    },
    {
     "name": "stderr",
     "output_type": "stream",
     "text": []
    },
    {
     "name": "stdout",
     "output_type": "stream",
     "text": [
      "Step 1: t_curr = 875.0, t_prev = 0.0\n",
      "t:1\n"
     ]
    },
    {
     "name": "stderr",
     "output_type": "stream",
     "text": [
      "100%|██████████| 2/2 [00:06<00:00,  3.46s/it]\n",
      "\u001b[32m2025-04-04 18:41:16.121\u001b[0m | \u001b[1mINFO    \u001b[0m | \u001b[36mhyvideo.inference\u001b[0m:\u001b[36mpredict\u001b[0m:\u001b[36m709\u001b[0m - \u001b[1mSuccess, time: 40.22053909301758\u001b[0m\n",
      "huggingface/tokenizers: The current process just got forked, after parallelism has already been used. Disabling parallelism to avoid deadlocks...\n",
      "To disable this warning, you can either:\n",
      "\t- Avoid using `tokenizers` before the fork if possible\n",
      "\t- Explicitly set the environment variable TOKENIZERS_PARALLELISM=(true | false)\n",
      "\u001b[32m2025-04-04 18:41:17.804\u001b[0m | \u001b[1mINFO    \u001b[0m | \u001b[36m__main__\u001b[0m:\u001b[36mprocess_sample\u001b[0m:\u001b[36m157\u001b[0m - \u001b[1m保存编辑视频到: ./results/V2VBench/rf-solver_2order/suitguy/edit_002.mp4\u001b[0m\n",
      "处理数据集批次:  93%|█████████▎| 139/150 [1:37:39<06:34, 35.86s/it]\u001b[32m2025-04-04 18:41:17.835\u001b[0m | \u001b[1mINFO    \u001b[0m | \u001b[36mhyvideo.inference\u001b[0m:\u001b[36mpredict\u001b[0m:\u001b[36m605\u001b[0m - \u001b[1mInput (height, width, video_length) = (512, 512, 25)\u001b[0m\n",
      "\u001b[32m2025-04-04 18:41:17.946\u001b[0m | \u001b[34m\u001b[1mDEBUG   \u001b[0m | \u001b[36mhyvideo.inference\u001b[0m:\u001b[36mpredict\u001b[0m:\u001b[36m665\u001b[0m - \u001b[34m\u001b[1m\n",
      "                        height: 512\n",
      "                         width: 512\n",
      "                  video_length: 25\n",
      "                        prompt: ['windsurfing in the mediterranean sea with a green sailboat']\n",
      "                    neg_prompt: ['Aerial view, aerial view, overexposed, low quality, deformation, a poor composition, bad hands, bad teeth, bad eyes, bad limbs, distortion']\n",
      "                          seed: 42\n",
      "                   infer_steps: 2\n",
      "         num_videos_per_prompt: 1\n",
      "                guidance_scale: 1.0\n",
      "                      n_tokens: 7168\n",
      "                    flow_shift: 7.0\n",
      "       embedded_guidance_scale: 2.0\u001b[0m\n"
     ]
    },
    {
     "name": "stdout",
     "output_type": "stream",
     "text": [
      "cuda:0\n",
      "cuda:0\n",
      "sigmas_reverse\n",
      "sigmas: tensor([0.0000, 0.8750, 1.0000])\n",
      "Using inversed latents\n",
      "Step 0: t = 0.0\n",
      "Step 1: t = 875.0\n"
     ]
    },
    {
     "name": "stderr",
     "output_type": "stream",
     "text": []
    },
    {
     "name": "stdout",
     "output_type": "stream",
     "text": [
      "Step 0: t_curr = 0.0, t_prev = 875.0\n",
      "t:1\n"
     ]
    },
    {
     "name": "stderr",
     "output_type": "stream",
     "text": []
    },
    {
     "name": "stdout",
     "output_type": "stream",
     "text": [
      "Step 1: t_curr = 875.0, t_prev = 1000.0\n",
      "t:2\n"
     ]
    },
    {
     "name": "stderr",
     "output_type": "stream",
     "text": [
      "100%|██████████| 2/2 [00:08<00:00,  4.04s/it]\n"
     ]
    },
    {
     "name": "stdout",
     "output_type": "stream",
     "text": [
      "cuda:0\n",
      "cuda:0\n",
      "sigmas: tensor([1.0000, 0.8750, 0.0000])\n",
      "Using inversed latents\n",
      "Step 0: t = 1000.0\n",
      "Step 1: t = 875.0\n"
     ]
    },
    {
     "name": "stderr",
     "output_type": "stream",
     "text": []
    },
    {
     "name": "stdout",
     "output_type": "stream",
     "text": [
      "Step 0: t_curr = 1000.0, t_prev = 875.0\n",
      "t:2\n"
     ]
    },
    {
     "name": "stderr",
     "output_type": "stream",
     "text": []
    },
    {
     "name": "stdout",
     "output_type": "stream",
     "text": [
      "Step 1: t_curr = 875.0, t_prev = 0.0\n",
      "t:1\n"
     ]
    },
    {
     "name": "stderr",
     "output_type": "stream",
     "text": [
      "100%|██████████| 2/2 [00:06<00:00,  3.43s/it]\n",
      "\u001b[32m2025-04-04 18:42:00.117\u001b[0m | \u001b[1mINFO    \u001b[0m | \u001b[36mhyvideo.inference\u001b[0m:\u001b[36mpredict\u001b[0m:\u001b[36m709\u001b[0m - \u001b[1mSuccess, time: 42.16939640045166\u001b[0m\n",
      "huggingface/tokenizers: The current process just got forked, after parallelism has already been used. Disabling parallelism to avoid deadlocks...\n",
      "To disable this warning, you can either:\n",
      "\t- Avoid using `tokenizers` before the fork if possible\n",
      "\t- Explicitly set the environment variable TOKENIZERS_PARALLELISM=(true | false)\n",
      "\u001b[32m2025-04-04 18:42:01.710\u001b[0m | \u001b[1mINFO    \u001b[0m | \u001b[36m__main__\u001b[0m:\u001b[36mprocess_sample\u001b[0m:\u001b[36m157\u001b[0m - \u001b[1m保存编辑视频到: ./results/V2VBench/rf-solver_2order/surf/edit_000.mp4\u001b[0m\n",
      "处理数据集批次:  93%|█████████▎| 140/150 [1:38:23<06:19, 37.96s/it]\u001b[32m2025-04-04 18:42:01.741\u001b[0m | \u001b[1mINFO    \u001b[0m | \u001b[36mhyvideo.inference\u001b[0m:\u001b[36mpredict\u001b[0m:\u001b[36m605\u001b[0m - \u001b[1mInput (height, width, video_length) = (512, 512, 25)\u001b[0m\n",
      "\u001b[32m2025-04-04 18:42:01.943\u001b[0m | \u001b[34m\u001b[1mDEBUG   \u001b[0m | \u001b[36mhyvideo.inference\u001b[0m:\u001b[36mpredict\u001b[0m:\u001b[36m665\u001b[0m - \u001b[34m\u001b[1m\n",
      "                        height: 512\n",
      "                         width: 512\n",
      "                  video_length: 25\n",
      "                        prompt: ['windsurfing in the mediterranean sea with a green sailboat']\n",
      "                    neg_prompt: ['Aerial view, aerial view, overexposed, low quality, deformation, a poor composition, bad hands, bad teeth, bad eyes, bad limbs, distortion']\n",
      "                          seed: 42\n",
      "                   infer_steps: 2\n",
      "         num_videos_per_prompt: 1\n",
      "                guidance_scale: 1.0\n",
      "                      n_tokens: 7168\n",
      "                    flow_shift: 7.0\n",
      "       embedded_guidance_scale: 2.0\u001b[0m\n"
     ]
    },
    {
     "name": "stdout",
     "output_type": "stream",
     "text": [
      "cuda:0\n",
      "cuda:0\n",
      "sigmas_reverse\n",
      "sigmas: tensor([0.0000, 0.8750, 1.0000])\n",
      "Using inversed latents\n",
      "Step 0: t = 0.0\n",
      "Step 1: t = 875.0\n"
     ]
    },
    {
     "name": "stderr",
     "output_type": "stream",
     "text": []
    },
    {
     "name": "stdout",
     "output_type": "stream",
     "text": [
      "Step 0: t_curr = 0.0, t_prev = 875.0\n",
      "t:1\n"
     ]
    },
    {
     "name": "stderr",
     "output_type": "stream",
     "text": []
    },
    {
     "name": "stdout",
     "output_type": "stream",
     "text": [
      "Step 1: t_curr = 875.0, t_prev = 1000.0\n",
      "t:2\n"
     ]
    },
    {
     "name": "stderr",
     "output_type": "stream",
     "text": [
      "100%|██████████| 2/2 [00:08<00:00,  4.15s/it]\n"
     ]
    },
    {
     "name": "stdout",
     "output_type": "stream",
     "text": [
      "cuda:0\n",
      "cuda:0\n",
      "sigmas: tensor([1.0000, 0.8750, 0.0000])\n",
      "Using inversed latents\n",
      "Step 0: t = 1000.0\n",
      "Step 1: t = 875.0\n"
     ]
    },
    {
     "name": "stderr",
     "output_type": "stream",
     "text": []
    },
    {
     "name": "stdout",
     "output_type": "stream",
     "text": [
      "Step 0: t_curr = 1000.0, t_prev = 875.0\n",
      "t:2\n"
     ]
    },
    {
     "name": "stderr",
     "output_type": "stream",
     "text": []
    },
    {
     "name": "stdout",
     "output_type": "stream",
     "text": [
      "Step 1: t_curr = 875.0, t_prev = 0.0\n",
      "t:1\n"
     ]
    },
    {
     "name": "stderr",
     "output_type": "stream",
     "text": [
      "100%|██████████| 2/2 [00:07<00:00,  3.53s/it]\n",
      "\u001b[32m2025-04-04 18:42:49.267\u001b[0m | \u001b[1mINFO    \u001b[0m | \u001b[36mhyvideo.inference\u001b[0m:\u001b[36mpredict\u001b[0m:\u001b[36m709\u001b[0m - \u001b[1mSuccess, time: 47.32307457923889\u001b[0m\n",
      "huggingface/tokenizers: The current process just got forked, after parallelism has already been used. Disabling parallelism to avoid deadlocks...\n",
      "To disable this warning, you can either:\n",
      "\t- Avoid using `tokenizers` before the fork if possible\n",
      "\t- Explicitly set the environment variable TOKENIZERS_PARALLELISM=(true | false)\n",
      "\u001b[32m2025-04-04 18:42:50.871\u001b[0m | \u001b[1mINFO    \u001b[0m | \u001b[36m__main__\u001b[0m:\u001b[36mprocess_sample\u001b[0m:\u001b[36m157\u001b[0m - \u001b[1m保存编辑视频到: ./results/V2VBench/rf-solver_2order/surf/edit_001.mp4\u001b[0m\n",
      "处理数据集批次:  94%|█████████▍| 141/150 [1:39:12<06:09, 41.01s/it]\u001b[32m2025-04-04 18:42:50.899\u001b[0m | \u001b[1mINFO    \u001b[0m | \u001b[36mhyvideo.inference\u001b[0m:\u001b[36mpredict\u001b[0m:\u001b[36m605\u001b[0m - \u001b[1mInput (height, width, video_length) = (512, 512, 25)\u001b[0m\n",
      "\u001b[32m2025-04-04 18:42:50.923\u001b[0m | \u001b[34m\u001b[1mDEBUG   \u001b[0m | \u001b[36mhyvideo.inference\u001b[0m:\u001b[36mpredict\u001b[0m:\u001b[36m665\u001b[0m - \u001b[34m\u001b[1m\n",
      "                        height: 512\n",
      "                         width: 512\n",
      "                  video_length: 25\n",
      "                        prompt: ['windsurfing in the mediterranean sea with a green sailboat']\n",
      "                    neg_prompt: ['Aerial view, aerial view, overexposed, low quality, deformation, a poor composition, bad hands, bad teeth, bad eyes, bad limbs, distortion']\n",
      "                          seed: 42\n",
      "                   infer_steps: 2\n",
      "         num_videos_per_prompt: 1\n",
      "                guidance_scale: 1.0\n",
      "                      n_tokens: 7168\n",
      "                    flow_shift: 7.0\n",
      "       embedded_guidance_scale: 2.0\u001b[0m\n"
     ]
    },
    {
     "name": "stdout",
     "output_type": "stream",
     "text": [
      "cuda:0\n",
      "cuda:0\n",
      "sigmas_reverse\n",
      "sigmas: tensor([0.0000, 0.8750, 1.0000])\n",
      "Using inversed latents\n",
      "Step 0: t = 0.0\n",
      "Step 1: t = 875.0\n"
     ]
    },
    {
     "name": "stderr",
     "output_type": "stream",
     "text": []
    },
    {
     "name": "stdout",
     "output_type": "stream",
     "text": [
      "Step 0: t_curr = 0.0, t_prev = 875.0\n",
      "t:1\n"
     ]
    },
    {
     "name": "stderr",
     "output_type": "stream",
     "text": []
    },
    {
     "name": "stdout",
     "output_type": "stream",
     "text": [
      "Step 1: t_curr = 875.0, t_prev = 1000.0\n",
      "t:2\n"
     ]
    },
    {
     "name": "stderr",
     "output_type": "stream",
     "text": [
      "100%|██████████| 2/2 [00:08<00:00,  4.06s/it]\n"
     ]
    },
    {
     "name": "stdout",
     "output_type": "stream",
     "text": [
      "cuda:0\n",
      "cuda:0\n",
      "sigmas: tensor([1.0000, 0.8750, 0.0000])\n",
      "Using inversed latents\n",
      "Step 0: t = 1000.0\n",
      "Step 1: t = 875.0\n"
     ]
    },
    {
     "name": "stderr",
     "output_type": "stream",
     "text": []
    },
    {
     "name": "stdout",
     "output_type": "stream",
     "text": [
      "Step 0: t_curr = 1000.0, t_prev = 875.0\n",
      "t:2\n"
     ]
    },
    {
     "name": "stderr",
     "output_type": "stream",
     "text": []
    },
    {
     "name": "stdout",
     "output_type": "stream",
     "text": [
      "Step 1: t_curr = 875.0, t_prev = 0.0\n",
      "t:1\n"
     ]
    },
    {
     "name": "stderr",
     "output_type": "stream",
     "text": [
      "100%|██████████| 2/2 [00:07<00:00,  3.55s/it]\n",
      "\u001b[32m2025-04-04 18:43:34.457\u001b[0m | \u001b[1mINFO    \u001b[0m | \u001b[36mhyvideo.inference\u001b[0m:\u001b[36mpredict\u001b[0m:\u001b[36m709\u001b[0m - \u001b[1mSuccess, time: 43.53242802619934\u001b[0m\n",
      "huggingface/tokenizers: The current process just got forked, after parallelism has already been used. Disabling parallelism to avoid deadlocks...\n",
      "To disable this warning, you can either:\n",
      "\t- Avoid using `tokenizers` before the fork if possible\n",
      "\t- Explicitly set the environment variable TOKENIZERS_PARALLELISM=(true | false)\n",
      "\u001b[32m2025-04-04 18:43:35.876\u001b[0m | \u001b[1mINFO    \u001b[0m | \u001b[36m__main__\u001b[0m:\u001b[36mprocess_sample\u001b[0m:\u001b[36m157\u001b[0m - \u001b[1m保存编辑视频到: ./results/V2VBench/rf-solver_2order/surf/edit_002.mp4\u001b[0m\n",
      "处理数据集批次:  95%|█████████▍| 142/150 [1:39:57<05:36, 42.12s/it]\u001b[32m2025-04-04 18:43:35.899\u001b[0m | \u001b[1mINFO    \u001b[0m | \u001b[36mhyvideo.inference\u001b[0m:\u001b[36mpredict\u001b[0m:\u001b[36m605\u001b[0m - \u001b[1mInput (height, width, video_length) = (512, 512, 25)\u001b[0m\n",
      "\u001b[32m2025-04-04 18:43:35.921\u001b[0m | \u001b[34m\u001b[1mDEBUG   \u001b[0m | \u001b[36mhyvideo.inference\u001b[0m:\u001b[36mpredict\u001b[0m:\u001b[36m665\u001b[0m - \u001b[34m\u001b[1m\n",
      "                        height: 512\n",
      "                         width: 512\n",
      "                  video_length: 25\n",
      "                        prompt: ['a girl in a white shirt and jeans is swinging in the park']\n",
      "                    neg_prompt: ['Aerial view, aerial view, overexposed, low quality, deformation, a poor composition, bad hands, bad teeth, bad eyes, bad limbs, distortion']\n",
      "                          seed: 42\n",
      "                   infer_steps: 2\n",
      "         num_videos_per_prompt: 1\n",
      "                guidance_scale: 1.0\n",
      "                      n_tokens: 7168\n",
      "                    flow_shift: 7.0\n",
      "       embedded_guidance_scale: 2.0\u001b[0m\n"
     ]
    },
    {
     "name": "stdout",
     "output_type": "stream",
     "text": [
      "cuda:0\n",
      "cuda:0\n",
      "sigmas_reverse\n",
      "sigmas: tensor([0.0000, 0.8750, 1.0000])\n",
      "Using inversed latents\n",
      "Step 0: t = 0.0\n",
      "Step 1: t = 875.0\n"
     ]
    },
    {
     "name": "stderr",
     "output_type": "stream",
     "text": []
    },
    {
     "name": "stdout",
     "output_type": "stream",
     "text": [
      "Step 0: t_curr = 0.0, t_prev = 875.0\n",
      "t:1\n"
     ]
    },
    {
     "name": "stderr",
     "output_type": "stream",
     "text": []
    },
    {
     "name": "stdout",
     "output_type": "stream",
     "text": [
      "Step 1: t_curr = 875.0, t_prev = 1000.0\n",
      "t:2\n"
     ]
    },
    {
     "name": "stderr",
     "output_type": "stream",
     "text": [
      "100%|██████████| 2/2 [00:08<00:00,  4.03s/it]\n"
     ]
    },
    {
     "name": "stdout",
     "output_type": "stream",
     "text": [
      "cuda:0\n",
      "cuda:0\n",
      "sigmas: tensor([1.0000, 0.8750, 0.0000])\n",
      "Using inversed latents\n",
      "Step 0: t = 1000.0\n",
      "Step 1: t = 875.0\n"
     ]
    },
    {
     "name": "stderr",
     "output_type": "stream",
     "text": []
    },
    {
     "name": "stdout",
     "output_type": "stream",
     "text": [
      "Step 0: t_curr = 1000.0, t_prev = 875.0\n",
      "t:2\n"
     ]
    },
    {
     "name": "stderr",
     "output_type": "stream",
     "text": []
    },
    {
     "name": "stdout",
     "output_type": "stream",
     "text": [
      "Step 1: t_curr = 875.0, t_prev = 0.0\n",
      "t:1\n"
     ]
    },
    {
     "name": "stderr",
     "output_type": "stream",
     "text": [
      "100%|██████████| 2/2 [00:06<00:00,  3.43s/it]\n",
      "\u001b[32m2025-04-04 18:44:17.243\u001b[0m | \u001b[1mINFO    \u001b[0m | \u001b[36mhyvideo.inference\u001b[0m:\u001b[36mpredict\u001b[0m:\u001b[36m709\u001b[0m - \u001b[1mSuccess, time: 41.32140922546387\u001b[0m\n",
      "huggingface/tokenizers: The current process just got forked, after parallelism has already been used. Disabling parallelism to avoid deadlocks...\n",
      "To disable this warning, you can either:\n",
      "\t- Avoid using `tokenizers` before the fork if possible\n",
      "\t- Explicitly set the environment variable TOKENIZERS_PARALLELISM=(true | false)\n",
      "\u001b[32m2025-04-04 18:44:18.846\u001b[0m | \u001b[1mINFO    \u001b[0m | \u001b[36m__main__\u001b[0m:\u001b[36mprocess_sample\u001b[0m:\u001b[36m157\u001b[0m - \u001b[1m保存编辑视频到: ./results/V2VBench/rf-solver_2order/swing/edit_000.mp4\u001b[0m\n",
      "处理数据集批次:  95%|█████████▌| 143/150 [1:40:40<04:56, 42.37s/it]\u001b[32m2025-04-04 18:44:18.880\u001b[0m | \u001b[1mINFO    \u001b[0m | \u001b[36mhyvideo.inference\u001b[0m:\u001b[36mpredict\u001b[0m:\u001b[36m605\u001b[0m - \u001b[1mInput (height, width, video_length) = (512, 512, 25)\u001b[0m\n",
      "\u001b[32m2025-04-04 18:44:19.065\u001b[0m | \u001b[34m\u001b[1mDEBUG   \u001b[0m | \u001b[36mhyvideo.inference\u001b[0m:\u001b[36mpredict\u001b[0m:\u001b[36m665\u001b[0m - \u001b[34m\u001b[1m\n",
      "                        height: 512\n",
      "                         width: 512\n",
      "                  video_length: 25\n",
      "                        prompt: ['a girl in a white shirt and jeans is swinging in the park']\n",
      "                    neg_prompt: ['Aerial view, aerial view, overexposed, low quality, deformation, a poor composition, bad hands, bad teeth, bad eyes, bad limbs, distortion']\n",
      "                          seed: 42\n",
      "                   infer_steps: 2\n",
      "         num_videos_per_prompt: 1\n",
      "                guidance_scale: 1.0\n",
      "                      n_tokens: 7168\n",
      "                    flow_shift: 7.0\n",
      "       embedded_guidance_scale: 2.0\u001b[0m\n"
     ]
    },
    {
     "name": "stdout",
     "output_type": "stream",
     "text": [
      "cuda:0\n",
      "cuda:0\n",
      "sigmas_reverse\n",
      "sigmas: tensor([0.0000, 0.8750, 1.0000])\n",
      "Using inversed latents\n",
      "Step 0: t = 0.0\n",
      "Step 1: t = 875.0\n"
     ]
    },
    {
     "name": "stderr",
     "output_type": "stream",
     "text": []
    },
    {
     "name": "stdout",
     "output_type": "stream",
     "text": [
      "Step 0: t_curr = 0.0, t_prev = 875.0\n",
      "t:1\n"
     ]
    },
    {
     "name": "stderr",
     "output_type": "stream",
     "text": []
    },
    {
     "name": "stdout",
     "output_type": "stream",
     "text": [
      "Step 1: t_curr = 875.0, t_prev = 1000.0\n",
      "t:2\n"
     ]
    },
    {
     "name": "stderr",
     "output_type": "stream",
     "text": [
      "100%|██████████| 2/2 [00:08<00:00,  4.00s/it]\n"
     ]
    },
    {
     "name": "stdout",
     "output_type": "stream",
     "text": [
      "cuda:0\n",
      "cuda:0\n",
      "sigmas: tensor([1.0000, 0.8750, 0.0000])\n",
      "Using inversed latents\n",
      "Step 0: t = 1000.0\n",
      "Step 1: t = 875.0\n"
     ]
    },
    {
     "name": "stderr",
     "output_type": "stream",
     "text": []
    },
    {
     "name": "stdout",
     "output_type": "stream",
     "text": [
      "Step 0: t_curr = 1000.0, t_prev = 875.0\n",
      "t:2\n"
     ]
    },
    {
     "name": "stderr",
     "output_type": "stream",
     "text": []
    },
    {
     "name": "stdout",
     "output_type": "stream",
     "text": [
      "Step 1: t_curr = 875.0, t_prev = 0.0\n",
      "t:1\n"
     ]
    },
    {
     "name": "stderr",
     "output_type": "stream",
     "text": [
      "100%|██████████| 2/2 [00:06<00:00,  3.49s/it]\n",
      "\u001b[32m2025-04-04 18:44:59.261\u001b[0m | \u001b[1mINFO    \u001b[0m | \u001b[36mhyvideo.inference\u001b[0m:\u001b[36mpredict\u001b[0m:\u001b[36m709\u001b[0m - \u001b[1mSuccess, time: 40.194615602493286\u001b[0m\n",
      "huggingface/tokenizers: The current process just got forked, after parallelism has already been used. Disabling parallelism to avoid deadlocks...\n",
      "To disable this warning, you can either:\n",
      "\t- Avoid using `tokenizers` before the fork if possible\n",
      "\t- Explicitly set the environment variable TOKENIZERS_PARALLELISM=(true | false)\n",
      "\u001b[32m2025-04-04 18:45:00.623\u001b[0m | \u001b[1mINFO    \u001b[0m | \u001b[36m__main__\u001b[0m:\u001b[36mprocess_sample\u001b[0m:\u001b[36m157\u001b[0m - \u001b[1m保存编辑视频到: ./results/V2VBench/rf-solver_2order/swing/edit_001.mp4\u001b[0m\n",
      "处理数据集批次:  96%|█████████▌| 144/150 [1:41:22<04:13, 42.20s/it]\u001b[32m2025-04-04 18:45:00.655\u001b[0m | \u001b[1mINFO    \u001b[0m | \u001b[36mhyvideo.inference\u001b[0m:\u001b[36mpredict\u001b[0m:\u001b[36m605\u001b[0m - \u001b[1mInput (height, width, video_length) = (512, 512, 25)\u001b[0m\n",
      "\u001b[32m2025-04-04 18:45:00.847\u001b[0m | \u001b[34m\u001b[1mDEBUG   \u001b[0m | \u001b[36mhyvideo.inference\u001b[0m:\u001b[36mpredict\u001b[0m:\u001b[36m665\u001b[0m - \u001b[34m\u001b[1m\n",
      "                        height: 512\n",
      "                         width: 512\n",
      "                  video_length: 25\n",
      "                        prompt: ['a girl in a white shirt and jeans is swinging in the park']\n",
      "                    neg_prompt: ['Aerial view, aerial view, overexposed, low quality, deformation, a poor composition, bad hands, bad teeth, bad eyes, bad limbs, distortion']\n",
      "                          seed: 42\n",
      "                   infer_steps: 2\n",
      "         num_videos_per_prompt: 1\n",
      "                guidance_scale: 1.0\n",
      "                      n_tokens: 7168\n",
      "                    flow_shift: 7.0\n",
      "       embedded_guidance_scale: 2.0\u001b[0m\n"
     ]
    },
    {
     "name": "stdout",
     "output_type": "stream",
     "text": [
      "cuda:0\n",
      "cuda:0\n",
      "sigmas_reverse\n",
      "sigmas: tensor([0.0000, 0.8750, 1.0000])\n",
      "Using inversed latents\n",
      "Step 0: t = 0.0\n",
      "Step 1: t = 875.0\n"
     ]
    },
    {
     "name": "stderr",
     "output_type": "stream",
     "text": []
    },
    {
     "name": "stdout",
     "output_type": "stream",
     "text": [
      "Step 0: t_curr = 0.0, t_prev = 875.0\n",
      "t:1\n"
     ]
    },
    {
     "name": "stderr",
     "output_type": "stream",
     "text": []
    },
    {
     "name": "stdout",
     "output_type": "stream",
     "text": [
      "Step 1: t_curr = 875.0, t_prev = 1000.0\n",
      "t:2\n"
     ]
    },
    {
     "name": "stderr",
     "output_type": "stream",
     "text": [
      "100%|██████████| 2/2 [00:08<00:00,  4.03s/it]\n"
     ]
    },
    {
     "name": "stdout",
     "output_type": "stream",
     "text": [
      "cuda:0\n",
      "cuda:0\n",
      "sigmas: tensor([1.0000, 0.8750, 0.0000])\n",
      "Using inversed latents\n",
      "Step 0: t = 1000.0\n",
      "Step 1: t = 875.0\n"
     ]
    },
    {
     "name": "stderr",
     "output_type": "stream",
     "text": []
    },
    {
     "name": "stdout",
     "output_type": "stream",
     "text": [
      "Step 0: t_curr = 1000.0, t_prev = 875.0\n",
      "t:2\n"
     ]
    },
    {
     "name": "stderr",
     "output_type": "stream",
     "text": []
    },
    {
     "name": "stdout",
     "output_type": "stream",
     "text": [
      "Step 1: t_curr = 875.0, t_prev = 0.0\n",
      "t:1\n"
     ]
    },
    {
     "name": "stderr",
     "output_type": "stream",
     "text": [
      "100%|██████████| 2/2 [00:07<00:00,  3.54s/it]\n",
      "\u001b[32m2025-04-04 18:45:41.766\u001b[0m | \u001b[1mINFO    \u001b[0m | \u001b[36mhyvideo.inference\u001b[0m:\u001b[36mpredict\u001b[0m:\u001b[36m709\u001b[0m - \u001b[1mSuccess, time: 40.91787815093994\u001b[0m\n",
      "huggingface/tokenizers: The current process just got forked, after parallelism has already been used. Disabling parallelism to avoid deadlocks...\n",
      "To disable this warning, you can either:\n",
      "\t- Avoid using `tokenizers` before the fork if possible\n",
      "\t- Explicitly set the environment variable TOKENIZERS_PARALLELISM=(true | false)\n",
      "\u001b[32m2025-04-04 18:45:43.440\u001b[0m | \u001b[1mINFO    \u001b[0m | \u001b[36m__main__\u001b[0m:\u001b[36mprocess_sample\u001b[0m:\u001b[36m157\u001b[0m - \u001b[1m保存编辑视频到: ./results/V2VBench/rf-solver_2order/swing/edit_002.mp4\u001b[0m\n",
      "处理数据集批次:  97%|█████████▋| 145/150 [1:42:05<03:31, 42.38s/it]\u001b[32m2025-04-04 18:45:43.470\u001b[0m | \u001b[1mINFO    \u001b[0m | \u001b[36mhyvideo.inference\u001b[0m:\u001b[36mpredict\u001b[0m:\u001b[36m605\u001b[0m - \u001b[1mInput (height, width, video_length) = (512, 512, 25)\u001b[0m\n",
      "\u001b[32m2025-04-04 18:45:43.485\u001b[0m | \u001b[34m\u001b[1mDEBUG   \u001b[0m | \u001b[36mhyvideo.inference\u001b[0m:\u001b[36mpredict\u001b[0m:\u001b[36m665\u001b[0m - \u001b[34m\u001b[1m\n",
      "                        height: 512\n",
      "                         width: 512\n",
      "                  video_length: 25\n",
      "                        prompt: ['a man in white plays tennis on a clay court hitting the ball with a racket']\n",
      "                    neg_prompt: ['Aerial view, aerial view, overexposed, low quality, deformation, a poor composition, bad hands, bad teeth, bad eyes, bad limbs, distortion']\n",
      "                          seed: 42\n",
      "                   infer_steps: 2\n",
      "         num_videos_per_prompt: 1\n",
      "                guidance_scale: 1.0\n",
      "                      n_tokens: 7168\n",
      "                    flow_shift: 7.0\n",
      "       embedded_guidance_scale: 2.0\u001b[0m\n"
     ]
    },
    {
     "name": "stdout",
     "output_type": "stream",
     "text": [
      "cuda:0\n",
      "cuda:0\n",
      "sigmas_reverse\n",
      "sigmas: tensor([0.0000, 0.8750, 1.0000])\n",
      "Using inversed latents\n",
      "Step 0: t = 0.0\n",
      "Step 1: t = 875.0\n"
     ]
    },
    {
     "name": "stderr",
     "output_type": "stream",
     "text": []
    },
    {
     "name": "stdout",
     "output_type": "stream",
     "text": [
      "Step 0: t_curr = 0.0, t_prev = 875.0\n",
      "t:1\n"
     ]
    },
    {
     "name": "stderr",
     "output_type": "stream",
     "text": []
    },
    {
     "name": "stdout",
     "output_type": "stream",
     "text": [
      "Step 1: t_curr = 875.0, t_prev = 1000.0\n",
      "t:2\n"
     ]
    },
    {
     "name": "stderr",
     "output_type": "stream",
     "text": [
      "100%|██████████| 2/2 [00:08<00:00,  4.06s/it]\n"
     ]
    },
    {
     "name": "stdout",
     "output_type": "stream",
     "text": [
      "cuda:0\n",
      "cuda:0\n",
      "sigmas: tensor([1.0000, 0.8750, 0.0000])\n",
      "Using inversed latents\n",
      "Step 0: t = 1000.0\n",
      "Step 1: t = 875.0\n"
     ]
    },
    {
     "name": "stderr",
     "output_type": "stream",
     "text": []
    },
    {
     "name": "stdout",
     "output_type": "stream",
     "text": [
      "Step 0: t_curr = 1000.0, t_prev = 875.0\n",
      "t:2\n"
     ]
    },
    {
     "name": "stderr",
     "output_type": "stream",
     "text": []
    },
    {
     "name": "stdout",
     "output_type": "stream",
     "text": [
      "Step 1: t_curr = 875.0, t_prev = 0.0\n",
      "t:1\n"
     ]
    },
    {
     "name": "stderr",
     "output_type": "stream",
     "text": [
      "100%|██████████| 2/2 [00:06<00:00,  3.45s/it]\n",
      "\u001b[32m2025-04-04 18:46:26.981\u001b[0m | \u001b[1mINFO    \u001b[0m | \u001b[36mhyvideo.inference\u001b[0m:\u001b[36mpredict\u001b[0m:\u001b[36m709\u001b[0m - \u001b[1mSuccess, time: 43.490482807159424\u001b[0m\n",
      "huggingface/tokenizers: The current process just got forked, after parallelism has already been used. Disabling parallelism to avoid deadlocks...\n",
      "To disable this warning, you can either:\n",
      "\t- Avoid using `tokenizers` before the fork if possible\n",
      "\t- Explicitly set the environment variable TOKENIZERS_PARALLELISM=(true | false)\n",
      "\u001b[32m2025-04-04 18:46:28.387\u001b[0m | \u001b[1mINFO    \u001b[0m | \u001b[36m__main__\u001b[0m:\u001b[36mprocess_sample\u001b[0m:\u001b[36m157\u001b[0m - \u001b[1m保存编辑视频到: ./results/V2VBench/rf-solver_2order/tennis/edit_000.mp4\u001b[0m\n",
      "处理数据集批次:  97%|█████████▋| 146/150 [1:42:50<02:52, 43.14s/it]\u001b[32m2025-04-04 18:46:28.414\u001b[0m | \u001b[1mINFO    \u001b[0m | \u001b[36mhyvideo.inference\u001b[0m:\u001b[36mpredict\u001b[0m:\u001b[36m605\u001b[0m - \u001b[1mInput (height, width, video_length) = (512, 512, 25)\u001b[0m\n",
      "\u001b[32m2025-04-04 18:46:28.615\u001b[0m | \u001b[34m\u001b[1mDEBUG   \u001b[0m | \u001b[36mhyvideo.inference\u001b[0m:\u001b[36mpredict\u001b[0m:\u001b[36m665\u001b[0m - \u001b[34m\u001b[1m\n",
      "                        height: 512\n",
      "                         width: 512\n",
      "                  video_length: 25\n",
      "                        prompt: ['a man in white plays tennis on a clay court hitting the ball with a racket']\n",
      "                    neg_prompt: ['Aerial view, aerial view, overexposed, low quality, deformation, a poor composition, bad hands, bad teeth, bad eyes, bad limbs, distortion']\n",
      "                          seed: 42\n",
      "                   infer_steps: 2\n",
      "         num_videos_per_prompt: 1\n",
      "                guidance_scale: 1.0\n",
      "                      n_tokens: 7168\n",
      "                    flow_shift: 7.0\n",
      "       embedded_guidance_scale: 2.0\u001b[0m\n"
     ]
    },
    {
     "name": "stdout",
     "output_type": "stream",
     "text": [
      "cuda:0\n",
      "cuda:0\n",
      "sigmas_reverse\n",
      "sigmas: tensor([0.0000, 0.8750, 1.0000])\n",
      "Using inversed latents\n",
      "Step 0: t = 0.0\n",
      "Step 1: t = 875.0\n"
     ]
    },
    {
     "name": "stderr",
     "output_type": "stream",
     "text": []
    },
    {
     "name": "stdout",
     "output_type": "stream",
     "text": [
      "Step 0: t_curr = 0.0, t_prev = 875.0\n",
      "t:1\n"
     ]
    },
    {
     "name": "stderr",
     "output_type": "stream",
     "text": []
    },
    {
     "name": "stdout",
     "output_type": "stream",
     "text": [
      "Step 1: t_curr = 875.0, t_prev = 1000.0\n",
      "t:2\n"
     ]
    },
    {
     "name": "stderr",
     "output_type": "stream",
     "text": [
      "100%|██████████| 2/2 [00:08<00:00,  4.01s/it]\n"
     ]
    },
    {
     "name": "stdout",
     "output_type": "stream",
     "text": [
      "cuda:0\n",
      "cuda:0\n",
      "sigmas: tensor([1.0000, 0.8750, 0.0000])\n",
      "Using inversed latents\n",
      "Step 0: t = 1000.0\n",
      "Step 1: t = 875.0\n"
     ]
    },
    {
     "name": "stderr",
     "output_type": "stream",
     "text": []
    },
    {
     "name": "stdout",
     "output_type": "stream",
     "text": [
      "Step 0: t_curr = 1000.0, t_prev = 875.0\n",
      "t:2\n"
     ]
    },
    {
     "name": "stderr",
     "output_type": "stream",
     "text": []
    },
    {
     "name": "stdout",
     "output_type": "stream",
     "text": [
      "Step 1: t_curr = 875.0, t_prev = 0.0\n",
      "t:1\n"
     ]
    },
    {
     "name": "stderr",
     "output_type": "stream",
     "text": [
      "100%|██████████| 2/2 [00:07<00:00,  3.50s/it]\n",
      "\u001b[32m2025-04-04 18:47:10.077\u001b[0m | \u001b[1mINFO    \u001b[0m | \u001b[36mhyvideo.inference\u001b[0m:\u001b[36mpredict\u001b[0m:\u001b[36m709\u001b[0m - \u001b[1mSuccess, time: 41.45709776878357\u001b[0m\n",
      "huggingface/tokenizers: The current process just got forked, after parallelism has already been used. Disabling parallelism to avoid deadlocks...\n",
      "To disable this warning, you can either:\n",
      "\t- Avoid using `tokenizers` before the fork if possible\n",
      "\t- Explicitly set the environment variable TOKENIZERS_PARALLELISM=(true | false)\n",
      "\u001b[32m2025-04-04 18:47:11.735\u001b[0m | \u001b[1mINFO    \u001b[0m | \u001b[36m__main__\u001b[0m:\u001b[36mprocess_sample\u001b[0m:\u001b[36m157\u001b[0m - \u001b[1m保存编辑视频到: ./results/V2VBench/rf-solver_2order/tennis/edit_001.mp4\u001b[0m\n",
      "处理数据集批次:  98%|█████████▊| 147/150 [1:43:33<02:09, 43.20s/it]\u001b[32m2025-04-04 18:47:11.766\u001b[0m | \u001b[1mINFO    \u001b[0m | \u001b[36mhyvideo.inference\u001b[0m:\u001b[36mpredict\u001b[0m:\u001b[36m605\u001b[0m - \u001b[1mInput (height, width, video_length) = (512, 512, 25)\u001b[0m\n",
      "\u001b[32m2025-04-04 18:47:11.820\u001b[0m | \u001b[34m\u001b[1mDEBUG   \u001b[0m | \u001b[36mhyvideo.inference\u001b[0m:\u001b[36mpredict\u001b[0m:\u001b[36m665\u001b[0m - \u001b[34m\u001b[1m\n",
      "                        height: 512\n",
      "                         width: 512\n",
      "                  video_length: 25\n",
      "                        prompt: ['a man in white plays tennis on a clay court hitting the ball with a racket']\n",
      "                    neg_prompt: ['Aerial view, aerial view, overexposed, low quality, deformation, a poor composition, bad hands, bad teeth, bad eyes, bad limbs, distortion']\n",
      "                          seed: 42\n",
      "                   infer_steps: 2\n",
      "         num_videos_per_prompt: 1\n",
      "                guidance_scale: 1.0\n",
      "                      n_tokens: 7168\n",
      "                    flow_shift: 7.0\n",
      "       embedded_guidance_scale: 2.0\u001b[0m\n"
     ]
    },
    {
     "name": "stdout",
     "output_type": "stream",
     "text": [
      "cuda:0\n",
      "cuda:0\n",
      "sigmas_reverse\n",
      "sigmas: tensor([0.0000, 0.8750, 1.0000])\n",
      "Using inversed latents\n",
      "Step 0: t = 0.0\n",
      "Step 1: t = 875.0\n"
     ]
    },
    {
     "name": "stderr",
     "output_type": "stream",
     "text": []
    },
    {
     "name": "stdout",
     "output_type": "stream",
     "text": [
      "Step 0: t_curr = 0.0, t_prev = 875.0\n",
      "t:1\n"
     ]
    },
    {
     "name": "stderr",
     "output_type": "stream",
     "text": []
    },
    {
     "name": "stdout",
     "output_type": "stream",
     "text": [
      "Step 1: t_curr = 875.0, t_prev = 1000.0\n",
      "t:2\n"
     ]
    },
    {
     "name": "stderr",
     "output_type": "stream",
     "text": [
      "100%|██████████| 2/2 [00:08<00:00,  4.04s/it]\n"
     ]
    },
    {
     "name": "stdout",
     "output_type": "stream",
     "text": [
      "cuda:0\n",
      "cuda:0\n",
      "sigmas: tensor([1.0000, 0.8750, 0.0000])\n",
      "Using inversed latents\n",
      "Step 0: t = 1000.0\n",
      "Step 1: t = 875.0\n"
     ]
    },
    {
     "name": "stderr",
     "output_type": "stream",
     "text": []
    },
    {
     "name": "stdout",
     "output_type": "stream",
     "text": [
      "Step 0: t_curr = 1000.0, t_prev = 875.0\n",
      "t:2\n"
     ]
    },
    {
     "name": "stderr",
     "output_type": "stream",
     "text": []
    },
    {
     "name": "stdout",
     "output_type": "stream",
     "text": [
      "Step 1: t_curr = 875.0, t_prev = 0.0\n",
      "t:1\n"
     ]
    },
    {
     "name": "stderr",
     "output_type": "stream",
     "text": [
      "100%|██████████| 2/2 [00:07<00:00,  3.53s/it]\n",
      "\u001b[32m2025-04-04 18:47:53.602\u001b[0m | \u001b[1mINFO    \u001b[0m | \u001b[36mhyvideo.inference\u001b[0m:\u001b[36mpredict\u001b[0m:\u001b[36m709\u001b[0m - \u001b[1mSuccess, time: 41.780587911605835\u001b[0m\n",
      "huggingface/tokenizers: The current process just got forked, after parallelism has already been used. Disabling parallelism to avoid deadlocks...\n",
      "To disable this warning, you can either:\n",
      "\t- Avoid using `tokenizers` before the fork if possible\n",
      "\t- Explicitly set the environment variable TOKENIZERS_PARALLELISM=(true | false)\n",
      "\u001b[32m2025-04-04 18:47:55.304\u001b[0m | \u001b[1mINFO    \u001b[0m | \u001b[36m__main__\u001b[0m:\u001b[36mprocess_sample\u001b[0m:\u001b[36m157\u001b[0m - \u001b[1m保存编辑视频到: ./results/V2VBench/rf-solver_2order/tennis/edit_002.mp4\u001b[0m\n",
      "处理数据集批次:  99%|█████████▊| 148/150 [1:44:17<01:26, 43.31s/it]\u001b[32m2025-04-04 18:47:55.333\u001b[0m | \u001b[1mINFO    \u001b[0m | \u001b[36mhyvideo.inference\u001b[0m:\u001b[36mpredict\u001b[0m:\u001b[36m605\u001b[0m - \u001b[1mInput (height, width, video_length) = (512, 512, 25)\u001b[0m\n",
      "\u001b[32m2025-04-04 18:47:55.528\u001b[0m | \u001b[34m\u001b[1mDEBUG   \u001b[0m | \u001b[36mhyvideo.inference\u001b[0m:\u001b[36mpredict\u001b[0m:\u001b[36m665\u001b[0m - \u001b[34m\u001b[1m\n",
      "                        height: 512\n",
      "                         width: 512\n",
      "                  video_length: 25\n",
      "                        prompt: ['a toy rocket launches from the grass near a tree propelled by water']\n",
      "                    neg_prompt: ['Aerial view, aerial view, overexposed, low quality, deformation, a poor composition, bad hands, bad teeth, bad eyes, bad limbs, distortion']\n",
      "                          seed: 42\n",
      "                   infer_steps: 2\n",
      "         num_videos_per_prompt: 1\n",
      "                guidance_scale: 1.0\n",
      "                      n_tokens: 7168\n",
      "                    flow_shift: 7.0\n",
      "       embedded_guidance_scale: 2.0\u001b[0m\n"
     ]
    },
    {
     "name": "stdout",
     "output_type": "stream",
     "text": [
      "cuda:0\n",
      "cuda:0\n",
      "sigmas_reverse\n",
      "sigmas: tensor([0.0000, 0.8750, 1.0000])\n",
      "Using inversed latents\n",
      "Step 0: t = 0.0\n",
      "Step 1: t = 875.0\n"
     ]
    },
    {
     "name": "stderr",
     "output_type": "stream",
     "text": []
    },
    {
     "name": "stdout",
     "output_type": "stream",
     "text": [
      "Step 0: t_curr = 0.0, t_prev = 875.0\n",
      "t:1\n"
     ]
    },
    {
     "name": "stderr",
     "output_type": "stream",
     "text": []
    },
    {
     "name": "stdout",
     "output_type": "stream",
     "text": [
      "Step 1: t_curr = 875.0, t_prev = 1000.0\n",
      "t:2\n"
     ]
    },
    {
     "name": "stderr",
     "output_type": "stream",
     "text": [
      "100%|██████████| 2/2 [00:08<00:00,  4.05s/it]\n"
     ]
    },
    {
     "name": "stdout",
     "output_type": "stream",
     "text": [
      "cuda:0\n",
      "cuda:0\n",
      "sigmas: tensor([1.0000, 0.8750, 0.0000])\n",
      "Using inversed latents\n",
      "Step 0: t = 1000.0\n",
      "Step 1: t = 875.0\n"
     ]
    },
    {
     "name": "stderr",
     "output_type": "stream",
     "text": []
    },
    {
     "name": "stdout",
     "output_type": "stream",
     "text": [
      "Step 0: t_curr = 1000.0, t_prev = 875.0\n",
      "t:2\n"
     ]
    },
    {
     "name": "stderr",
     "output_type": "stream",
     "text": []
    },
    {
     "name": "stdout",
     "output_type": "stream",
     "text": [
      "Step 1: t_curr = 875.0, t_prev = 0.0\n",
      "t:1\n"
     ]
    },
    {
     "name": "stderr",
     "output_type": "stream",
     "text": [
      "100%|██████████| 2/2 [00:06<00:00,  3.44s/it]\n",
      "\u001b[32m2025-04-04 18:48:37.759\u001b[0m | \u001b[1mINFO    \u001b[0m | \u001b[36mhyvideo.inference\u001b[0m:\u001b[36mpredict\u001b[0m:\u001b[36m709\u001b[0m - \u001b[1mSuccess, time: 42.230374813079834\u001b[0m\n",
      "huggingface/tokenizers: The current process just got forked, after parallelism has already been used. Disabling parallelism to avoid deadlocks...\n",
      "To disable this warning, you can either:\n",
      "\t- Avoid using `tokenizers` before the fork if possible\n",
      "\t- Explicitly set the environment variable TOKENIZERS_PARALLELISM=(true | false)\n",
      "\u001b[32m2025-04-04 18:48:39.334\u001b[0m | \u001b[1mINFO    \u001b[0m | \u001b[36m__main__\u001b[0m:\u001b[36mprocess_sample\u001b[0m:\u001b[36m157\u001b[0m - \u001b[1m保存编辑视频到: ./results/V2VBench/rf-solver_2order/toy-rocket/edit_000.mp4\u001b[0m\n",
      "处理数据集批次:  99%|█████████▉| 149/150 [1:45:01<00:43, 43.52s/it]\u001b[32m2025-04-04 18:48:39.358\u001b[0m | \u001b[1mINFO    \u001b[0m | \u001b[36mhyvideo.inference\u001b[0m:\u001b[36mpredict\u001b[0m:\u001b[36m605\u001b[0m - \u001b[1mInput (height, width, video_length) = (512, 512, 25)\u001b[0m\n",
      "\u001b[32m2025-04-04 18:48:39.378\u001b[0m | \u001b[34m\u001b[1mDEBUG   \u001b[0m | \u001b[36mhyvideo.inference\u001b[0m:\u001b[36mpredict\u001b[0m:\u001b[36m665\u001b[0m - \u001b[34m\u001b[1m\n",
      "                        height: 512\n",
      "                         width: 512\n",
      "                  video_length: 25\n",
      "                        prompt: ['a toy rocket launches from the grass near a tree propelled by water']\n",
      "                    neg_prompt: ['Aerial view, aerial view, overexposed, low quality, deformation, a poor composition, bad hands, bad teeth, bad eyes, bad limbs, distortion']\n",
      "                          seed: 42\n",
      "                   infer_steps: 2\n",
      "         num_videos_per_prompt: 1\n",
      "                guidance_scale: 1.0\n",
      "                      n_tokens: 7168\n",
      "                    flow_shift: 7.0\n",
      "       embedded_guidance_scale: 2.0\u001b[0m\n"
     ]
    },
    {
     "name": "stdout",
     "output_type": "stream",
     "text": [
      "cuda:0\n",
      "cuda:0\n",
      "sigmas_reverse\n",
      "sigmas: tensor([0.0000, 0.8750, 1.0000])\n",
      "Using inversed latents\n",
      "Step 0: t = 0.0\n",
      "Step 1: t = 875.0\n"
     ]
    },
    {
     "name": "stderr",
     "output_type": "stream",
     "text": []
    },
    {
     "name": "stdout",
     "output_type": "stream",
     "text": [
      "Step 0: t_curr = 0.0, t_prev = 875.0\n",
      "t:1\n"
     ]
    },
    {
     "name": "stderr",
     "output_type": "stream",
     "text": []
    },
    {
     "name": "stdout",
     "output_type": "stream",
     "text": [
      "Step 1: t_curr = 875.0, t_prev = 1000.0\n",
      "t:2\n"
     ]
    },
    {
     "name": "stderr",
     "output_type": "stream",
     "text": [
      "100%|██████████| 2/2 [00:08<00:00,  4.03s/it]\n"
     ]
    },
    {
     "name": "stdout",
     "output_type": "stream",
     "text": [
      "cuda:0\n",
      "cuda:0\n",
      "sigmas: tensor([1.0000, 0.8750, 0.0000])\n",
      "Using inversed latents\n",
      "Step 0: t = 1000.0\n",
      "Step 1: t = 875.0\n"
     ]
    },
    {
     "name": "stderr",
     "output_type": "stream",
     "text": []
    },
    {
     "name": "stdout",
     "output_type": "stream",
     "text": [
      "Step 0: t_curr = 1000.0, t_prev = 875.0\n",
      "t:2\n"
     ]
    },
    {
     "name": "stderr",
     "output_type": "stream",
     "text": []
    },
    {
     "name": "stdout",
     "output_type": "stream",
     "text": [
      "Step 1: t_curr = 875.0, t_prev = 0.0\n",
      "t:1\n"
     ]
    },
    {
     "name": "stderr",
     "output_type": "stream",
     "text": [
      "100%|██████████| 2/2 [00:06<00:00,  3.46s/it]\n",
      "\u001b[32m2025-04-04 18:49:20.148\u001b[0m | \u001b[1mINFO    \u001b[0m | \u001b[36mhyvideo.inference\u001b[0m:\u001b[36mpredict\u001b[0m:\u001b[36m709\u001b[0m - \u001b[1mSuccess, time: 40.76928520202637\u001b[0m\n",
      "huggingface/tokenizers: The current process just got forked, after parallelism has already been used. Disabling parallelism to avoid deadlocks...\n",
      "To disable this warning, you can either:\n",
      "\t- Avoid using `tokenizers` before the fork if possible\n",
      "\t- Explicitly set the environment variable TOKENIZERS_PARALLELISM=(true | false)\n",
      "\u001b[32m2025-04-04 18:49:21.993\u001b[0m | \u001b[1mINFO    \u001b[0m | \u001b[36m__main__\u001b[0m:\u001b[36mprocess_sample\u001b[0m:\u001b[36m157\u001b[0m - \u001b[1m保存编辑视频到: ./results/V2VBench/rf-solver_2order/toy-rocket/edit_001.mp4\u001b[0m\n",
      "处理数据集批次: 100%|██████████| 150/150 [1:45:43<00:00, 43.27s/it]\u001b[32m2025-04-04 18:49:22.027\u001b[0m | \u001b[1mINFO    \u001b[0m | \u001b[36mhyvideo.inference\u001b[0m:\u001b[36mpredict\u001b[0m:\u001b[36m605\u001b[0m - \u001b[1mInput (height, width, video_length) = (512, 512, 25)\u001b[0m\n",
      "\u001b[32m2025-04-04 18:49:22.227\u001b[0m | \u001b[34m\u001b[1mDEBUG   \u001b[0m | \u001b[36mhyvideo.inference\u001b[0m:\u001b[36mpredict\u001b[0m:\u001b[36m665\u001b[0m - \u001b[34m\u001b[1m\n",
      "                        height: 512\n",
      "                         width: 512\n",
      "                  video_length: 25\n",
      "                        prompt: ['a toy rocket launches from the grass near a tree propelled by water']\n",
      "                    neg_prompt: ['Aerial view, aerial view, overexposed, low quality, deformation, a poor composition, bad hands, bad teeth, bad eyes, bad limbs, distortion']\n",
      "                          seed: 42\n",
      "                   infer_steps: 2\n",
      "         num_videos_per_prompt: 1\n",
      "                guidance_scale: 1.0\n",
      "                      n_tokens: 7168\n",
      "                    flow_shift: 7.0\n",
      "       embedded_guidance_scale: 2.0\u001b[0m\n"
     ]
    },
    {
     "name": "stdout",
     "output_type": "stream",
     "text": [
      "cuda:0\n",
      "cuda:0\n",
      "sigmas_reverse\n",
      "sigmas: tensor([0.0000, 0.8750, 1.0000])\n",
      "Using inversed latents\n",
      "Step 0: t = 0.0\n",
      "Step 1: t = 875.0\n"
     ]
    },
    {
     "name": "stderr",
     "output_type": "stream",
     "text": []
    },
    {
     "name": "stdout",
     "output_type": "stream",
     "text": [
      "Step 0: t_curr = 0.0, t_prev = 875.0\n",
      "t:1\n"
     ]
    },
    {
     "name": "stderr",
     "output_type": "stream",
     "text": []
    },
    {
     "name": "stdout",
     "output_type": "stream",
     "text": [
      "Step 1: t_curr = 875.0, t_prev = 1000.0\n",
      "t:2\n"
     ]
    },
    {
     "name": "stderr",
     "output_type": "stream",
     "text": [
      "100%|██████████| 2/2 [00:08<00:00,  4.11s/it]\n"
     ]
    },
    {
     "name": "stdout",
     "output_type": "stream",
     "text": [
      "cuda:0\n",
      "cuda:0\n",
      "sigmas: tensor([1.0000, 0.8750, 0.0000])\n",
      "Using inversed latents\n",
      "Step 0: t = 1000.0\n",
      "Step 1: t = 875.0\n"
     ]
    },
    {
     "name": "stderr",
     "output_type": "stream",
     "text": []
    },
    {
     "name": "stdout",
     "output_type": "stream",
     "text": [
      "Step 0: t_curr = 1000.0, t_prev = 875.0\n",
      "t:2\n"
     ]
    },
    {
     "name": "stderr",
     "output_type": "stream",
     "text": []
    },
    {
     "name": "stdout",
     "output_type": "stream",
     "text": [
      "Step 1: t_curr = 875.0, t_prev = 0.0\n",
      "t:1\n"
     ]
    },
    {
     "name": "stderr",
     "output_type": "stream",
     "text": [
      "100%|██████████| 2/2 [00:07<00:00,  3.60s/it]\n",
      "\u001b[32m2025-04-04 18:50:11.189\u001b[0m | \u001b[1mINFO    \u001b[0m | \u001b[36mhyvideo.inference\u001b[0m:\u001b[36mpredict\u001b[0m:\u001b[36m709\u001b[0m - \u001b[1mSuccess, time: 48.96101999282837\u001b[0m\n",
      "huggingface/tokenizers: The current process just got forked, after parallelism has already been used. Disabling parallelism to avoid deadlocks...\n",
      "To disable this warning, you can either:\n",
      "\t- Avoid using `tokenizers` before the fork if possible\n",
      "\t- Explicitly set the environment variable TOKENIZERS_PARALLELISM=(true | false)\n",
      "\u001b[32m2025-04-04 18:50:12.796\u001b[0m | \u001b[1mINFO    \u001b[0m | \u001b[36m__main__\u001b[0m:\u001b[36mprocess_sample\u001b[0m:\u001b[36m157\u001b[0m - \u001b[1m保存编辑视频到: ./results/V2VBench/rf-solver_2order/toy-rocket/edit_002.mp4\u001b[0m\n",
      "处理数据集批次: 151it [1:46:34, 45.52s/it]                         \u001b[32m2025-04-04 18:50:12.826\u001b[0m | \u001b[1mINFO    \u001b[0m | \u001b[36mhyvideo.inference\u001b[0m:\u001b[36mpredict\u001b[0m:\u001b[36m605\u001b[0m - \u001b[1mInput (height, width, video_length) = (512, 512, 25)\u001b[0m\n",
      "\u001b[32m2025-04-04 18:50:13.008\u001b[0m | \u001b[34m\u001b[1mDEBUG   \u001b[0m | \u001b[36mhyvideo.inference\u001b[0m:\u001b[36mpredict\u001b[0m:\u001b[36m665\u001b[0m - \u001b[34m\u001b[1m\n",
      "                        height: 512\n",
      "                         width: 512\n",
      "                  video_length: 25\n",
      "                        prompt: ['two swans grace a tranquil dawn standing in reflecting water']\n",
      "                    neg_prompt: ['Aerial view, aerial view, overexposed, low quality, deformation, a poor composition, bad hands, bad teeth, bad eyes, bad limbs, distortion']\n",
      "                          seed: 42\n",
      "                   infer_steps: 2\n",
      "         num_videos_per_prompt: 1\n",
      "                guidance_scale: 1.0\n",
      "                      n_tokens: 7168\n",
      "                    flow_shift: 7.0\n",
      "       embedded_guidance_scale: 2.0\u001b[0m\n"
     ]
    },
    {
     "name": "stdout",
     "output_type": "stream",
     "text": [
      "cuda:0\n",
      "cuda:0\n",
      "sigmas_reverse\n",
      "sigmas: tensor([0.0000, 0.8750, 1.0000])\n",
      "Using inversed latents\n",
      "Step 0: t = 0.0\n",
      "Step 1: t = 875.0\n"
     ]
    },
    {
     "name": "stderr",
     "output_type": "stream",
     "text": []
    },
    {
     "name": "stdout",
     "output_type": "stream",
     "text": [
      "Step 0: t_curr = 0.0, t_prev = 875.0\n",
      "t:1\n"
     ]
    },
    {
     "name": "stderr",
     "output_type": "stream",
     "text": []
    },
    {
     "name": "stdout",
     "output_type": "stream",
     "text": [
      "Step 1: t_curr = 875.0, t_prev = 1000.0\n",
      "t:2\n"
     ]
    },
    {
     "name": "stderr",
     "output_type": "stream",
     "text": [
      "100%|██████████| 2/2 [00:08<00:00,  4.17s/it]\n"
     ]
    },
    {
     "name": "stdout",
     "output_type": "stream",
     "text": [
      "cuda:0\n",
      "cuda:0\n",
      "sigmas: tensor([1.0000, 0.8750, 0.0000])\n",
      "Using inversed latents\n",
      "Step 0: t = 1000.0\n",
      "Step 1: t = 875.0\n"
     ]
    },
    {
     "name": "stderr",
     "output_type": "stream",
     "text": []
    },
    {
     "name": "stdout",
     "output_type": "stream",
     "text": [
      "Step 0: t_curr = 1000.0, t_prev = 875.0\n",
      "t:2\n"
     ]
    },
    {
     "name": "stderr",
     "output_type": "stream",
     "text": []
    },
    {
     "name": "stdout",
     "output_type": "stream",
     "text": [
      "Step 1: t_curr = 875.0, t_prev = 0.0\n",
      "t:1\n"
     ]
    },
    {
     "name": "stderr",
     "output_type": "stream",
     "text": [
      "100%|██████████| 2/2 [00:06<00:00,  3.45s/it]\n",
      "\u001b[32m2025-04-04 18:50:57.265\u001b[0m | \u001b[1mINFO    \u001b[0m | \u001b[36mhyvideo.inference\u001b[0m:\u001b[36mpredict\u001b[0m:\u001b[36m709\u001b[0m - \u001b[1mSuccess, time: 44.25160574913025\u001b[0m\n",
      "huggingface/tokenizers: The current process just got forked, after parallelism has already been used. Disabling parallelism to avoid deadlocks...\n",
      "To disable this warning, you can either:\n",
      "\t- Avoid using `tokenizers` before the fork if possible\n",
      "\t- Explicitly set the environment variable TOKENIZERS_PARALLELISM=(true | false)\n",
      "\u001b[32m2025-04-04 18:50:58.877\u001b[0m | \u001b[1mINFO    \u001b[0m | \u001b[36m__main__\u001b[0m:\u001b[36mprocess_sample\u001b[0m:\u001b[36m157\u001b[0m - \u001b[1m保存编辑视频到: ./results/V2VBench/rf-solver_2order/two-swan/edit_000.mp4\u001b[0m\n",
      "处理数据集批次: 152it [1:47:20, 45.69s/it]\u001b[32m2025-04-04 18:50:58.910\u001b[0m | \u001b[1mINFO    \u001b[0m | \u001b[36mhyvideo.inference\u001b[0m:\u001b[36mpredict\u001b[0m:\u001b[36m605\u001b[0m - \u001b[1mInput (height, width, video_length) = (512, 512, 25)\u001b[0m\n",
      "\u001b[32m2025-04-04 18:50:59.104\u001b[0m | \u001b[34m\u001b[1mDEBUG   \u001b[0m | \u001b[36mhyvideo.inference\u001b[0m:\u001b[36mpredict\u001b[0m:\u001b[36m665\u001b[0m - \u001b[34m\u001b[1m\n",
      "                        height: 512\n",
      "                         width: 512\n",
      "                  video_length: 25\n",
      "                        prompt: ['two swans grace a tranquil dawn standing in reflecting water']\n",
      "                    neg_prompt: ['Aerial view, aerial view, overexposed, low quality, deformation, a poor composition, bad hands, bad teeth, bad eyes, bad limbs, distortion']\n",
      "                          seed: 42\n",
      "                   infer_steps: 2\n",
      "         num_videos_per_prompt: 1\n",
      "                guidance_scale: 1.0\n",
      "                      n_tokens: 7168\n",
      "                    flow_shift: 7.0\n",
      "       embedded_guidance_scale: 2.0\u001b[0m\n"
     ]
    },
    {
     "name": "stdout",
     "output_type": "stream",
     "text": [
      "cuda:0\n",
      "cuda:0\n",
      "sigmas_reverse\n",
      "sigmas: tensor([0.0000, 0.8750, 1.0000])\n",
      "Using inversed latents\n",
      "Step 0: t = 0.0\n",
      "Step 1: t = 875.0\n"
     ]
    },
    {
     "name": "stderr",
     "output_type": "stream",
     "text": []
    },
    {
     "name": "stdout",
     "output_type": "stream",
     "text": [
      "Step 0: t_curr = 0.0, t_prev = 875.0\n",
      "t:1\n"
     ]
    },
    {
     "name": "stderr",
     "output_type": "stream",
     "text": []
    },
    {
     "name": "stdout",
     "output_type": "stream",
     "text": [
      "Step 1: t_curr = 875.0, t_prev = 1000.0\n",
      "t:2\n"
     ]
    },
    {
     "name": "stderr",
     "output_type": "stream",
     "text": [
      "100%|██████████| 2/2 [00:08<00:00,  4.35s/it]\n"
     ]
    },
    {
     "name": "stdout",
     "output_type": "stream",
     "text": [
      "cuda:0\n",
      "cuda:0\n",
      "sigmas: tensor([1.0000, 0.8750, 0.0000])\n",
      "Using inversed latents\n",
      "Step 0: t = 1000.0\n",
      "Step 1: t = 875.0\n"
     ]
    },
    {
     "name": "stderr",
     "output_type": "stream",
     "text": []
    },
    {
     "name": "stdout",
     "output_type": "stream",
     "text": [
      "Step 0: t_curr = 1000.0, t_prev = 875.0\n",
      "t:2\n"
     ]
    },
    {
     "name": "stderr",
     "output_type": "stream",
     "text": []
    },
    {
     "name": "stdout",
     "output_type": "stream",
     "text": [
      "Step 1: t_curr = 875.0, t_prev = 0.0\n",
      "t:1\n"
     ]
    },
    {
     "name": "stderr",
     "output_type": "stream",
     "text": [
      "100%|██████████| 2/2 [00:07<00:00,  3.73s/it]\n",
      "\u001b[32m2025-04-04 18:51:46.865\u001b[0m | \u001b[1mINFO    \u001b[0m | \u001b[36mhyvideo.inference\u001b[0m:\u001b[36mpredict\u001b[0m:\u001b[36m709\u001b[0m - \u001b[1mSuccess, time: 47.76020359992981\u001b[0m\n",
      "huggingface/tokenizers: The current process just got forked, after parallelism has already been used. Disabling parallelism to avoid deadlocks...\n",
      "To disable this warning, you can either:\n",
      "\t- Avoid using `tokenizers` before the fork if possible\n",
      "\t- Explicitly set the environment variable TOKENIZERS_PARALLELISM=(true | false)\n",
      "\u001b[32m2025-04-04 18:51:48.484\u001b[0m | \u001b[1mINFO    \u001b[0m | \u001b[36m__main__\u001b[0m:\u001b[36mprocess_sample\u001b[0m:\u001b[36m157\u001b[0m - \u001b[1m保存编辑视频到: ./results/V2VBench/rf-solver_2order/two-swan/edit_001.mp4\u001b[0m\n",
      "处理数据集批次: 153it [1:48:10, 46.86s/it]\u001b[32m2025-04-04 18:51:48.512\u001b[0m | \u001b[1mINFO    \u001b[0m | \u001b[36mhyvideo.inference\u001b[0m:\u001b[36mpredict\u001b[0m:\u001b[36m605\u001b[0m - \u001b[1mInput (height, width, video_length) = (512, 512, 25)\u001b[0m\n",
      "\u001b[32m2025-04-04 18:51:48.727\u001b[0m | \u001b[34m\u001b[1mDEBUG   \u001b[0m | \u001b[36mhyvideo.inference\u001b[0m:\u001b[36mpredict\u001b[0m:\u001b[36m665\u001b[0m - \u001b[34m\u001b[1m\n",
      "                        height: 512\n",
      "                         width: 512\n",
      "                  video_length: 25\n",
      "                        prompt: ['two swans grace a tranquil dawn standing in reflecting water']\n",
      "                    neg_prompt: ['Aerial view, aerial view, overexposed, low quality, deformation, a poor composition, bad hands, bad teeth, bad eyes, bad limbs, distortion']\n",
      "                          seed: 42\n",
      "                   infer_steps: 2\n",
      "         num_videos_per_prompt: 1\n",
      "                guidance_scale: 1.0\n",
      "                      n_tokens: 7168\n",
      "                    flow_shift: 7.0\n",
      "       embedded_guidance_scale: 2.0\u001b[0m\n"
     ]
    },
    {
     "name": "stdout",
     "output_type": "stream",
     "text": [
      "cuda:0\n",
      "cuda:0\n",
      "sigmas_reverse\n",
      "sigmas: tensor([0.0000, 0.8750, 1.0000])\n",
      "Using inversed latents\n",
      "Step 0: t = 0.0\n",
      "Step 1: t = 875.0\n"
     ]
    },
    {
     "name": "stderr",
     "output_type": "stream",
     "text": []
    },
    {
     "name": "stdout",
     "output_type": "stream",
     "text": [
      "Step 0: t_curr = 0.0, t_prev = 875.0\n",
      "t:1\n"
     ]
    },
    {
     "name": "stderr",
     "output_type": "stream",
     "text": []
    },
    {
     "name": "stdout",
     "output_type": "stream",
     "text": [
      "Step 1: t_curr = 875.0, t_prev = 1000.0\n",
      "t:2\n"
     ]
    },
    {
     "name": "stderr",
     "output_type": "stream",
     "text": [
      "100%|██████████| 2/2 [00:08<00:00,  4.30s/it]\n"
     ]
    },
    {
     "name": "stdout",
     "output_type": "stream",
     "text": [
      "cuda:0\n",
      "cuda:0\n",
      "sigmas: tensor([1.0000, 0.8750, 0.0000])\n",
      "Using inversed latents\n",
      "Step 0: t = 1000.0\n",
      "Step 1: t = 875.0\n"
     ]
    },
    {
     "name": "stderr",
     "output_type": "stream",
     "text": []
    },
    {
     "name": "stdout",
     "output_type": "stream",
     "text": [
      "Step 0: t_curr = 1000.0, t_prev = 875.0\n",
      "t:2\n"
     ]
    },
    {
     "name": "stderr",
     "output_type": "stream",
     "text": []
    },
    {
     "name": "stdout",
     "output_type": "stream",
     "text": [
      "Step 1: t_curr = 875.0, t_prev = 0.0\n",
      "t:1\n"
     ]
    },
    {
     "name": "stderr",
     "output_type": "stream",
     "text": [
      "100%|██████████| 2/2 [00:07<00:00,  3.84s/it]\n",
      "\u001b[32m2025-04-04 18:52:38.521\u001b[0m | \u001b[1mINFO    \u001b[0m | \u001b[36mhyvideo.inference\u001b[0m:\u001b[36mpredict\u001b[0m:\u001b[36m709\u001b[0m - \u001b[1mSuccess, time: 49.79084777832031\u001b[0m\n",
      "huggingface/tokenizers: The current process just got forked, after parallelism has already been used. Disabling parallelism to avoid deadlocks...\n",
      "To disable this warning, you can either:\n",
      "\t- Avoid using `tokenizers` before the fork if possible\n",
      "\t- Explicitly set the environment variable TOKENIZERS_PARALLELISM=(true | false)\n",
      "\u001b[32m2025-04-04 18:52:39.776\u001b[0m | \u001b[1mINFO    \u001b[0m | \u001b[36m__main__\u001b[0m:\u001b[36mprocess_sample\u001b[0m:\u001b[36m157\u001b[0m - \u001b[1m保存编辑视频到: ./results/V2VBench/rf-solver_2order/two-swan/edit_002.mp4\u001b[0m\n",
      "处理数据集批次: 155it [1:49:01, 37.08s/it]\u001b[32m2025-04-04 18:52:39.807\u001b[0m | \u001b[1mINFO    \u001b[0m | \u001b[36mhyvideo.inference\u001b[0m:\u001b[36mpredict\u001b[0m:\u001b[36m605\u001b[0m - \u001b[1mInput (height, width, video_length) = (512, 512, 25)\u001b[0m\n",
      "\u001b[32m2025-04-04 18:52:40.024\u001b[0m | \u001b[34m\u001b[1mDEBUG   \u001b[0m | \u001b[36mhyvideo.inference\u001b[0m:\u001b[36mpredict\u001b[0m:\u001b[36m665\u001b[0m - \u001b[34m\u001b[1m\n",
      "                        height: 512\n",
      "                         width: 512\n",
      "                  video_length: 25\n",
      "                        prompt: ['a bald man in sunglasses rides a yellow fast-paced roller coaster sporting a blue shirt']\n",
      "                    neg_prompt: ['Aerial view, aerial view, overexposed, low quality, deformation, a poor composition, bad hands, bad teeth, bad eyes, bad limbs, distortion']\n",
      "                          seed: 42\n",
      "                   infer_steps: 2\n",
      "         num_videos_per_prompt: 1\n",
      "                guidance_scale: 1.0\n",
      "                      n_tokens: 7168\n",
      "                    flow_shift: 7.0\n",
      "       embedded_guidance_scale: 2.0\u001b[0m\n"
     ]
    },
    {
     "name": "stdout",
     "output_type": "stream",
     "text": [
      "cuda:0\n",
      "cuda:0\n",
      "sigmas_reverse\n",
      "sigmas: tensor([0.0000, 0.8750, 1.0000])\n",
      "Using inversed latents\n",
      "Step 0: t = 0.0\n",
      "Step 1: t = 875.0\n"
     ]
    },
    {
     "name": "stderr",
     "output_type": "stream",
     "text": []
    },
    {
     "name": "stdout",
     "output_type": "stream",
     "text": [
      "Step 0: t_curr = 0.0, t_prev = 875.0\n",
      "t:1\n"
     ]
    },
    {
     "name": "stderr",
     "output_type": "stream",
     "text": []
    },
    {
     "name": "stdout",
     "output_type": "stream",
     "text": [
      "Step 1: t_curr = 875.0, t_prev = 1000.0\n",
      "t:2\n"
     ]
    },
    {
     "name": "stderr",
     "output_type": "stream",
     "text": [
      "100%|██████████| 2/2 [00:08<00:00,  4.09s/it]\n"
     ]
    },
    {
     "name": "stdout",
     "output_type": "stream",
     "text": [
      "cuda:0\n",
      "cuda:0\n",
      "sigmas: tensor([1.0000, 0.8750, 0.0000])\n",
      "Using inversed latents\n",
      "Step 0: t = 1000.0\n",
      "Step 1: t = 875.0\n"
     ]
    },
    {
     "name": "stderr",
     "output_type": "stream",
     "text": []
    },
    {
     "name": "stdout",
     "output_type": "stream",
     "text": [
      "Step 0: t_curr = 1000.0, t_prev = 875.0\n",
      "t:2\n"
     ]
    },
    {
     "name": "stderr",
     "output_type": "stream",
     "text": []
    },
    {
     "name": "stdout",
     "output_type": "stream",
     "text": [
      "Step 1: t_curr = 875.0, t_prev = 0.0\n",
      "t:1\n"
     ]
    },
    {
     "name": "stderr",
     "output_type": "stream",
     "text": [
      "100%|██████████| 2/2 [00:07<00:00,  3.54s/it]\n",
      "\u001b[32m2025-04-04 18:53:24.529\u001b[0m | \u001b[1mINFO    \u001b[0m | \u001b[36mhyvideo.inference\u001b[0m:\u001b[36mpredict\u001b[0m:\u001b[36m709\u001b[0m - \u001b[1mSuccess, time: 44.504268646240234\u001b[0m\n",
      "huggingface/tokenizers: The current process just got forked, after parallelism has already been used. Disabling parallelism to avoid deadlocks...\n",
      "To disable this warning, you can either:\n",
      "\t- Avoid using `tokenizers` before the fork if possible\n",
      "\t- Explicitly set the environment variable TOKENIZERS_PARALLELISM=(true | false)\n",
      "\u001b[32m2025-04-04 18:53:26.245\u001b[0m | \u001b[1mINFO    \u001b[0m | \u001b[36m__main__\u001b[0m:\u001b[36mprocess_sample\u001b[0m:\u001b[36m157\u001b[0m - \u001b[1m保存编辑视频到: ./results/V2VBench/rf-solver_2order/upside-down/edit_000.mp4\u001b[0m\n",
      "处理数据集批次: 156it [1:49:48, 39.40s/it]\u001b[32m2025-04-04 18:53:26.276\u001b[0m | \u001b[1mINFO    \u001b[0m | \u001b[36mhyvideo.inference\u001b[0m:\u001b[36mpredict\u001b[0m:\u001b[36m605\u001b[0m - \u001b[1mInput (height, width, video_length) = (512, 512, 25)\u001b[0m\n",
      "\u001b[32m2025-04-04 18:53:26.452\u001b[0m | \u001b[34m\u001b[1mDEBUG   \u001b[0m | \u001b[36mhyvideo.inference\u001b[0m:\u001b[36mpredict\u001b[0m:\u001b[36m665\u001b[0m - \u001b[34m\u001b[1m\n",
      "                        height: 512\n",
      "                         width: 512\n",
      "                  video_length: 25\n",
      "                        prompt: ['a bald man in sunglasses rides a yellow fast-paced roller coaster sporting a blue shirt']\n",
      "                    neg_prompt: ['Aerial view, aerial view, overexposed, low quality, deformation, a poor composition, bad hands, bad teeth, bad eyes, bad limbs, distortion']\n",
      "                          seed: 42\n",
      "                   infer_steps: 2\n",
      "         num_videos_per_prompt: 1\n",
      "                guidance_scale: 1.0\n",
      "                      n_tokens: 7168\n",
      "                    flow_shift: 7.0\n",
      "       embedded_guidance_scale: 2.0\u001b[0m\n"
     ]
    },
    {
     "name": "stdout",
     "output_type": "stream",
     "text": [
      "cuda:0\n",
      "cuda:0\n",
      "sigmas_reverse\n",
      "sigmas: tensor([0.0000, 0.8750, 1.0000])\n",
      "Using inversed latents\n",
      "Step 0: t = 0.0\n",
      "Step 1: t = 875.0\n"
     ]
    },
    {
     "name": "stderr",
     "output_type": "stream",
     "text": []
    },
    {
     "name": "stdout",
     "output_type": "stream",
     "text": [
      "Step 0: t_curr = 0.0, t_prev = 875.0\n",
      "t:1\n"
     ]
    },
    {
     "name": "stderr",
     "output_type": "stream",
     "text": []
    },
    {
     "name": "stdout",
     "output_type": "stream",
     "text": [
      "Step 1: t_curr = 875.0, t_prev = 1000.0\n",
      "t:2\n"
     ]
    },
    {
     "name": "stderr",
     "output_type": "stream",
     "text": [
      "100%|██████████| 2/2 [00:08<00:00,  4.06s/it]\n"
     ]
    },
    {
     "name": "stdout",
     "output_type": "stream",
     "text": [
      "cuda:0\n",
      "cuda:0\n",
      "sigmas: tensor([1.0000, 0.8750, 0.0000])\n",
      "Using inversed latents\n",
      "Step 0: t = 1000.0\n",
      "Step 1: t = 875.0\n"
     ]
    },
    {
     "name": "stderr",
     "output_type": "stream",
     "text": []
    },
    {
     "name": "stdout",
     "output_type": "stream",
     "text": [
      "Step 0: t_curr = 1000.0, t_prev = 875.0\n",
      "t:2\n"
     ]
    },
    {
     "name": "stderr",
     "output_type": "stream",
     "text": []
    },
    {
     "name": "stdout",
     "output_type": "stream",
     "text": [
      "Step 1: t_curr = 875.0, t_prev = 0.0\n",
      "t:1\n"
     ]
    },
    {
     "name": "stderr",
     "output_type": "stream",
     "text": [
      "100%|██████████| 2/2 [00:06<00:00,  3.44s/it]\n",
      "\u001b[32m2025-04-04 18:54:10.455\u001b[0m | \u001b[1mINFO    \u001b[0m | \u001b[36mhyvideo.inference\u001b[0m:\u001b[36mpredict\u001b[0m:\u001b[36m709\u001b[0m - \u001b[1mSuccess, time: 44.002445459365845\u001b[0m\n",
      "huggingface/tokenizers: The current process just got forked, after parallelism has already been used. Disabling parallelism to avoid deadlocks...\n",
      "To disable this warning, you can either:\n",
      "\t- Avoid using `tokenizers` before the fork if possible\n",
      "\t- Explicitly set the environment variable TOKENIZERS_PARALLELISM=(true | false)\n",
      "\u001b[32m2025-04-04 18:54:12.028\u001b[0m | \u001b[1mINFO    \u001b[0m | \u001b[36m__main__\u001b[0m:\u001b[36mprocess_sample\u001b[0m:\u001b[36m157\u001b[0m - \u001b[1m保存编辑视频到: ./results/V2VBench/rf-solver_2order/upside-down/edit_001.mp4\u001b[0m\n",
      "处理数据集批次: 157it [1:50:33, 41.07s/it]\u001b[32m2025-04-04 18:54:12.058\u001b[0m | \u001b[1mINFO    \u001b[0m | \u001b[36mhyvideo.inference\u001b[0m:\u001b[36mpredict\u001b[0m:\u001b[36m605\u001b[0m - \u001b[1mInput (height, width, video_length) = (512, 512, 25)\u001b[0m\n",
      "\u001b[32m2025-04-04 18:54:12.251\u001b[0m | \u001b[34m\u001b[1mDEBUG   \u001b[0m | \u001b[36mhyvideo.inference\u001b[0m:\u001b[36mpredict\u001b[0m:\u001b[36m665\u001b[0m - \u001b[34m\u001b[1m\n",
      "                        height: 512\n",
      "                         width: 512\n",
      "                  video_length: 25\n",
      "                        prompt: ['a bald man in sunglasses rides a yellow fast-paced roller coaster sporting a blue shirt']\n",
      "                    neg_prompt: ['Aerial view, aerial view, overexposed, low quality, deformation, a poor composition, bad hands, bad teeth, bad eyes, bad limbs, distortion']\n",
      "                          seed: 42\n",
      "                   infer_steps: 2\n",
      "         num_videos_per_prompt: 1\n",
      "                guidance_scale: 1.0\n",
      "                      n_tokens: 7168\n",
      "                    flow_shift: 7.0\n",
      "       embedded_guidance_scale: 2.0\u001b[0m\n"
     ]
    },
    {
     "name": "stdout",
     "output_type": "stream",
     "text": [
      "cuda:0\n",
      "cuda:0\n",
      "sigmas_reverse\n",
      "sigmas: tensor([0.0000, 0.8750, 1.0000])\n",
      "Using inversed latents\n",
      "Step 0: t = 0.0\n",
      "Step 1: t = 875.0\n"
     ]
    },
    {
     "name": "stderr",
     "output_type": "stream",
     "text": []
    },
    {
     "name": "stdout",
     "output_type": "stream",
     "text": [
      "Step 0: t_curr = 0.0, t_prev = 875.0\n",
      "t:1\n"
     ]
    },
    {
     "name": "stderr",
     "output_type": "stream",
     "text": []
    },
    {
     "name": "stdout",
     "output_type": "stream",
     "text": [
      "Step 1: t_curr = 875.0, t_prev = 1000.0\n",
      "t:2\n"
     ]
    },
    {
     "name": "stderr",
     "output_type": "stream",
     "text": [
      "100%|██████████| 2/2 [00:08<00:00,  4.13s/it]\n"
     ]
    },
    {
     "name": "stdout",
     "output_type": "stream",
     "text": [
      "cuda:0\n",
      "cuda:0\n",
      "sigmas: tensor([1.0000, 0.8750, 0.0000])\n",
      "Using inversed latents\n",
      "Step 0: t = 1000.0\n",
      "Step 1: t = 875.0\n"
     ]
    },
    {
     "name": "stderr",
     "output_type": "stream",
     "text": []
    },
    {
     "name": "stdout",
     "output_type": "stream",
     "text": [
      "Step 0: t_curr = 1000.0, t_prev = 875.0\n",
      "t:2\n"
     ]
    },
    {
     "name": "stderr",
     "output_type": "stream",
     "text": []
    },
    {
     "name": "stdout",
     "output_type": "stream",
     "text": [
      "Step 1: t_curr = 875.0, t_prev = 0.0\n",
      "t:1\n"
     ]
    },
    {
     "name": "stderr",
     "output_type": "stream",
     "text": [
      "100%|██████████| 2/2 [00:06<00:00,  3.48s/it]\n",
      "\u001b[32m2025-04-04 18:54:58.396\u001b[0m | \u001b[1mINFO    \u001b[0m | \u001b[36mhyvideo.inference\u001b[0m:\u001b[36mpredict\u001b[0m:\u001b[36m709\u001b[0m - \u001b[1mSuccess, time: 46.14256310462952\u001b[0m\n",
      "huggingface/tokenizers: The current process just got forked, after parallelism has already been used. Disabling parallelism to avoid deadlocks...\n",
      "To disable this warning, you can either:\n",
      "\t- Avoid using `tokenizers` before the fork if possible\n",
      "\t- Explicitly set the environment variable TOKENIZERS_PARALLELISM=(true | false)\n",
      "\u001b[32m2025-04-04 18:54:59.850\u001b[0m | \u001b[1mINFO    \u001b[0m | \u001b[36m__main__\u001b[0m:\u001b[36mprocess_sample\u001b[0m:\u001b[36m157\u001b[0m - \u001b[1m保存编辑视频到: ./results/V2VBench/rf-solver_2order/upside-down/edit_002.mp4\u001b[0m\n",
      "处理数据集批次: 158it [1:51:21, 42.91s/it]\u001b[32m2025-04-04 18:54:59.877\u001b[0m | \u001b[1mINFO    \u001b[0m | \u001b[36mhyvideo.inference\u001b[0m:\u001b[36mpredict\u001b[0m:\u001b[36m605\u001b[0m - \u001b[1mInput (height, width, video_length) = (512, 512, 25)\u001b[0m\n",
      "\u001b[32m2025-04-04 18:55:00.059\u001b[0m | \u001b[34m\u001b[1mDEBUG   \u001b[0m | \u001b[36mhyvideo.inference\u001b[0m:\u001b[36mpredict\u001b[0m:\u001b[36m665\u001b[0m - \u001b[34m\u001b[1m\n",
      "                        height: 512\n",
      "                         width: 512\n",
      "                  video_length: 25\n",
      "                        prompt: ['aerial view captures lava erupting pouring from iceland crater']\n",
      "                    neg_prompt: ['Aerial view, aerial view, overexposed, low quality, deformation, a poor composition, bad hands, bad teeth, bad eyes, bad limbs, distortion']\n",
      "                          seed: 42\n",
      "                   infer_steps: 2\n",
      "         num_videos_per_prompt: 1\n",
      "                guidance_scale: 1.0\n",
      "                      n_tokens: 7168\n",
      "                    flow_shift: 7.0\n",
      "       embedded_guidance_scale: 2.0\u001b[0m\n"
     ]
    },
    {
     "name": "stdout",
     "output_type": "stream",
     "text": [
      "cuda:0\n",
      "cuda:0\n",
      "sigmas_reverse\n",
      "sigmas: tensor([0.0000, 0.8750, 1.0000])\n",
      "Using inversed latents\n",
      "Step 0: t = 0.0\n",
      "Step 1: t = 875.0\n"
     ]
    },
    {
     "name": "stderr",
     "output_type": "stream",
     "text": []
    },
    {
     "name": "stdout",
     "output_type": "stream",
     "text": [
      "Step 0: t_curr = 0.0, t_prev = 875.0\n",
      "t:1\n"
     ]
    },
    {
     "name": "stderr",
     "output_type": "stream",
     "text": []
    },
    {
     "name": "stdout",
     "output_type": "stream",
     "text": [
      "Step 1: t_curr = 875.0, t_prev = 1000.0\n",
      "t:2\n"
     ]
    },
    {
     "name": "stderr",
     "output_type": "stream",
     "text": [
      "100%|██████████| 2/2 [00:08<00:00,  4.08s/it]\n"
     ]
    },
    {
     "name": "stdout",
     "output_type": "stream",
     "text": [
      "cuda:0\n",
      "cuda:0\n",
      "sigmas: tensor([1.0000, 0.8750, 0.0000])\n",
      "Using inversed latents\n",
      "Step 0: t = 1000.0\n",
      "Step 1: t = 875.0\n"
     ]
    },
    {
     "name": "stderr",
     "output_type": "stream",
     "text": []
    },
    {
     "name": "stdout",
     "output_type": "stream",
     "text": [
      "Step 0: t_curr = 1000.0, t_prev = 875.0\n",
      "t:2\n"
     ]
    },
    {
     "name": "stderr",
     "output_type": "stream",
     "text": []
    },
    {
     "name": "stdout",
     "output_type": "stream",
     "text": [
      "Step 1: t_curr = 875.0, t_prev = 0.0\n",
      "t:1\n"
     ]
    },
    {
     "name": "stderr",
     "output_type": "stream",
     "text": [
      "100%|██████████| 2/2 [00:06<00:00,  3.44s/it]\n",
      "\u001b[32m2025-04-04 18:55:43.336\u001b[0m | \u001b[1mINFO    \u001b[0m | \u001b[36mhyvideo.inference\u001b[0m:\u001b[36mpredict\u001b[0m:\u001b[36m709\u001b[0m - \u001b[1mSuccess, time: 43.27621293067932\u001b[0m\n",
      "huggingface/tokenizers: The current process just got forked, after parallelism has already been used. Disabling parallelism to avoid deadlocks...\n",
      "To disable this warning, you can either:\n",
      "\t- Avoid using `tokenizers` before the fork if possible\n",
      "\t- Explicitly set the environment variable TOKENIZERS_PARALLELISM=(true | false)\n",
      "\u001b[32m2025-04-04 18:55:44.983\u001b[0m | \u001b[1mINFO    \u001b[0m | \u001b[36m__main__\u001b[0m:\u001b[36mprocess_sample\u001b[0m:\u001b[36m157\u001b[0m - \u001b[1m保存编辑视频到: ./results/V2VBench/rf-solver_2order/volcanic-eruption/edit_000.mp4\u001b[0m\n",
      "处理数据集批次: 159it [1:52:06, 43.53s/it]\u001b[32m2025-04-04 18:55:45.017\u001b[0m | \u001b[1mINFO    \u001b[0m | \u001b[36mhyvideo.inference\u001b[0m:\u001b[36mpredict\u001b[0m:\u001b[36m605\u001b[0m - \u001b[1mInput (height, width, video_length) = (512, 512, 25)\u001b[0m\n",
      "\u001b[32m2025-04-04 18:55:45.061\u001b[0m | \u001b[34m\u001b[1mDEBUG   \u001b[0m | \u001b[36mhyvideo.inference\u001b[0m:\u001b[36mpredict\u001b[0m:\u001b[36m665\u001b[0m - \u001b[34m\u001b[1m\n",
      "                        height: 512\n",
      "                         width: 512\n",
      "                  video_length: 25\n",
      "                        prompt: ['aerial view captures lava erupting pouring from iceland crater']\n",
      "                    neg_prompt: ['Aerial view, aerial view, overexposed, low quality, deformation, a poor composition, bad hands, bad teeth, bad eyes, bad limbs, distortion']\n",
      "                          seed: 42\n",
      "                   infer_steps: 2\n",
      "         num_videos_per_prompt: 1\n",
      "                guidance_scale: 1.0\n",
      "                      n_tokens: 7168\n",
      "                    flow_shift: 7.0\n",
      "       embedded_guidance_scale: 2.0\u001b[0m\n"
     ]
    },
    {
     "name": "stdout",
     "output_type": "stream",
     "text": [
      "cuda:0\n",
      "cuda:0\n",
      "sigmas_reverse\n",
      "sigmas: tensor([0.0000, 0.8750, 1.0000])\n",
      "Using inversed latents\n",
      "Step 0: t = 0.0\n",
      "Step 1: t = 875.0\n"
     ]
    },
    {
     "name": "stderr",
     "output_type": "stream",
     "text": []
    },
    {
     "name": "stdout",
     "output_type": "stream",
     "text": [
      "Step 0: t_curr = 0.0, t_prev = 875.0\n",
      "t:1\n"
     ]
    },
    {
     "name": "stderr",
     "output_type": "stream",
     "text": []
    },
    {
     "name": "stdout",
     "output_type": "stream",
     "text": [
      "Step 1: t_curr = 875.0, t_prev = 1000.0\n",
      "t:2\n"
     ]
    },
    {
     "name": "stderr",
     "output_type": "stream",
     "text": [
      "100%|██████████| 2/2 [00:08<00:00,  4.01s/it]\n"
     ]
    },
    {
     "name": "stdout",
     "output_type": "stream",
     "text": [
      "cuda:0\n",
      "cuda:0\n",
      "sigmas: tensor([1.0000, 0.8750, 0.0000])\n",
      "Using inversed latents\n",
      "Step 0: t = 1000.0\n",
      "Step 1: t = 875.0\n"
     ]
    },
    {
     "name": "stderr",
     "output_type": "stream",
     "text": []
    },
    {
     "name": "stdout",
     "output_type": "stream",
     "text": [
      "Step 0: t_curr = 1000.0, t_prev = 875.0\n",
      "t:2\n"
     ]
    },
    {
     "name": "stderr",
     "output_type": "stream",
     "text": []
    },
    {
     "name": "stdout",
     "output_type": "stream",
     "text": [
      "Step 1: t_curr = 875.0, t_prev = 0.0\n",
      "t:1\n"
     ]
    },
    {
     "name": "stderr",
     "output_type": "stream",
     "text": [
      "100%|██████████| 2/2 [00:07<00:00,  3.54s/it]\n",
      "\u001b[32m2025-04-04 18:56:27.111\u001b[0m | \u001b[1mINFO    \u001b[0m | \u001b[36mhyvideo.inference\u001b[0m:\u001b[36mpredict\u001b[0m:\u001b[36m709\u001b[0m - \u001b[1mSuccess, time: 42.04939866065979\u001b[0m\n",
      "huggingface/tokenizers: The current process just got forked, after parallelism has already been used. Disabling parallelism to avoid deadlocks...\n",
      "To disable this warning, you can either:\n",
      "\t- Avoid using `tokenizers` before the fork if possible\n",
      "\t- Explicitly set the environment variable TOKENIZERS_PARALLELISM=(true | false)\n",
      "\u001b[32m2025-04-04 18:56:28.744\u001b[0m | \u001b[1mINFO    \u001b[0m | \u001b[36m__main__\u001b[0m:\u001b[36mprocess_sample\u001b[0m:\u001b[36m157\u001b[0m - \u001b[1m保存编辑视频到: ./results/V2VBench/rf-solver_2order/volcanic-eruption/edit_001.mp4\u001b[0m\n",
      "处理数据集批次: 160it [1:52:50, 43.60s/it]\u001b[32m2025-04-04 18:56:28.771\u001b[0m | \u001b[1mINFO    \u001b[0m | \u001b[36mhyvideo.inference\u001b[0m:\u001b[36mpredict\u001b[0m:\u001b[36m605\u001b[0m - \u001b[1mInput (height, width, video_length) = (512, 512, 25)\u001b[0m\n",
      "\u001b[32m2025-04-04 18:56:28.803\u001b[0m | \u001b[34m\u001b[1mDEBUG   \u001b[0m | \u001b[36mhyvideo.inference\u001b[0m:\u001b[36mpredict\u001b[0m:\u001b[36m665\u001b[0m - \u001b[34m\u001b[1m\n",
      "                        height: 512\n",
      "                         width: 512\n",
      "                  video_length: 25\n",
      "                        prompt: ['aerial view captures lava erupting pouring from iceland crater']\n",
      "                    neg_prompt: ['Aerial view, aerial view, overexposed, low quality, deformation, a poor composition, bad hands, bad teeth, bad eyes, bad limbs, distortion']\n",
      "                          seed: 42\n",
      "                   infer_steps: 2\n",
      "         num_videos_per_prompt: 1\n",
      "                guidance_scale: 1.0\n",
      "                      n_tokens: 7168\n",
      "                    flow_shift: 7.0\n",
      "       embedded_guidance_scale: 2.0\u001b[0m\n"
     ]
    },
    {
     "name": "stdout",
     "output_type": "stream",
     "text": [
      "cuda:0\n",
      "cuda:0\n",
      "sigmas_reverse\n",
      "sigmas: tensor([0.0000, 0.8750, 1.0000])\n",
      "Using inversed latents\n",
      "Step 0: t = 0.0\n",
      "Step 1: t = 875.0\n"
     ]
    },
    {
     "name": "stderr",
     "output_type": "stream",
     "text": []
    },
    {
     "name": "stdout",
     "output_type": "stream",
     "text": [
      "Step 0: t_curr = 0.0, t_prev = 875.0\n",
      "t:1\n"
     ]
    },
    {
     "name": "stderr",
     "output_type": "stream",
     "text": []
    },
    {
     "name": "stdout",
     "output_type": "stream",
     "text": [
      "Step 1: t_curr = 875.0, t_prev = 1000.0\n",
      "t:2\n"
     ]
    },
    {
     "name": "stderr",
     "output_type": "stream",
     "text": [
      "100%|██████████| 2/2 [00:08<00:00,  4.05s/it]\n"
     ]
    },
    {
     "name": "stdout",
     "output_type": "stream",
     "text": [
      "cuda:0\n",
      "cuda:0\n",
      "sigmas: tensor([1.0000, 0.8750, 0.0000])\n",
      "Using inversed latents\n",
      "Step 0: t = 1000.0\n",
      "Step 1: t = 875.0\n"
     ]
    },
    {
     "name": "stderr",
     "output_type": "stream",
     "text": []
    },
    {
     "name": "stdout",
     "output_type": "stream",
     "text": [
      "Step 0: t_curr = 1000.0, t_prev = 875.0\n",
      "t:2\n"
     ]
    },
    {
     "name": "stderr",
     "output_type": "stream",
     "text": []
    },
    {
     "name": "stdout",
     "output_type": "stream",
     "text": [
      "Step 1: t_curr = 875.0, t_prev = 0.0\n",
      "t:1\n"
     ]
    },
    {
     "name": "stderr",
     "output_type": "stream",
     "text": [
      "100%|██████████| 2/2 [00:06<00:00,  3.43s/it]\n",
      "\u001b[32m2025-04-04 18:57:11.744\u001b[0m | \u001b[1mINFO    \u001b[0m | \u001b[36mhyvideo.inference\u001b[0m:\u001b[36mpredict\u001b[0m:\u001b[36m709\u001b[0m - \u001b[1mSuccess, time: 42.9401752948761\u001b[0m\n",
      "huggingface/tokenizers: The current process just got forked, after parallelism has already been used. Disabling parallelism to avoid deadlocks...\n",
      "To disable this warning, you can either:\n",
      "\t- Avoid using `tokenizers` before the fork if possible\n",
      "\t- Explicitly set the environment variable TOKENIZERS_PARALLELISM=(true | false)\n",
      "\u001b[32m2025-04-04 18:57:13.108\u001b[0m | \u001b[1mINFO    \u001b[0m | \u001b[36m__main__\u001b[0m:\u001b[36mprocess_sample\u001b[0m:\u001b[36m157\u001b[0m - \u001b[1m保存编辑视频到: ./results/V2VBench/rf-solver_2order/volcanic-eruption/edit_002.mp4\u001b[0m\n",
      "处理数据集批次: 161it [1:53:35, 43.82s/it]\u001b[32m2025-04-04 18:57:13.134\u001b[0m | \u001b[1mINFO    \u001b[0m | \u001b[36mhyvideo.inference\u001b[0m:\u001b[36mpredict\u001b[0m:\u001b[36m605\u001b[0m - \u001b[1mInput (height, width, video_length) = (512, 512, 25)\u001b[0m\n",
      "\u001b[32m2025-04-04 18:57:13.172\u001b[0m | \u001b[34m\u001b[1mDEBUG   \u001b[0m | \u001b[36mhyvideo.inference\u001b[0m:\u001b[36mpredict\u001b[0m:\u001b[36m665\u001b[0m - \u001b[34m\u001b[1m\n",
      "                        height: 512\n",
      "                         width: 512\n",
      "                  video_length: 25\n",
      "                        prompt: ['a man in a blue suit is walking down the street and taking a selfie']\n",
      "                    neg_prompt: ['Aerial view, aerial view, overexposed, low quality, deformation, a poor composition, bad hands, bad teeth, bad eyes, bad limbs, distortion']\n",
      "                          seed: 42\n",
      "                   infer_steps: 2\n",
      "         num_videos_per_prompt: 1\n",
      "                guidance_scale: 1.0\n",
      "                      n_tokens: 7168\n",
      "                    flow_shift: 7.0\n",
      "       embedded_guidance_scale: 2.0\u001b[0m\n"
     ]
    },
    {
     "name": "stdout",
     "output_type": "stream",
     "text": [
      "cuda:0\n",
      "cuda:0\n",
      "sigmas_reverse\n",
      "sigmas: tensor([0.0000, 0.8750, 1.0000])\n",
      "Using inversed latents\n",
      "Step 0: t = 0.0\n",
      "Step 1: t = 875.0\n"
     ]
    },
    {
     "name": "stderr",
     "output_type": "stream",
     "text": []
    },
    {
     "name": "stdout",
     "output_type": "stream",
     "text": [
      "Step 0: t_curr = 0.0, t_prev = 875.0\n",
      "t:1\n"
     ]
    },
    {
     "name": "stderr",
     "output_type": "stream",
     "text": []
    },
    {
     "name": "stdout",
     "output_type": "stream",
     "text": [
      "Step 1: t_curr = 875.0, t_prev = 1000.0\n",
      "t:2\n"
     ]
    },
    {
     "name": "stderr",
     "output_type": "stream",
     "text": [
      "100%|██████████| 2/2 [00:08<00:00,  4.14s/it]\n"
     ]
    },
    {
     "name": "stdout",
     "output_type": "stream",
     "text": [
      "cuda:0\n",
      "cuda:0\n",
      "sigmas: tensor([1.0000, 0.8750, 0.0000])\n",
      "Using inversed latents\n",
      "Step 0: t = 1000.0\n",
      "Step 1: t = 875.0\n"
     ]
    },
    {
     "name": "stderr",
     "output_type": "stream",
     "text": []
    },
    {
     "name": "stdout",
     "output_type": "stream",
     "text": [
      "Step 0: t_curr = 1000.0, t_prev = 875.0\n",
      "t:2\n"
     ]
    },
    {
     "name": "stderr",
     "output_type": "stream",
     "text": []
    },
    {
     "name": "stdout",
     "output_type": "stream",
     "text": [
      "Step 1: t_curr = 875.0, t_prev = 0.0\n",
      "t:1\n"
     ]
    },
    {
     "name": "stderr",
     "output_type": "stream",
     "text": [
      "100%|██████████| 2/2 [00:06<00:00,  3.48s/it]\n",
      "\u001b[32m2025-04-04 18:57:59.097\u001b[0m | \u001b[1mINFO    \u001b[0m | \u001b[36mhyvideo.inference\u001b[0m:\u001b[36mpredict\u001b[0m:\u001b[36m709\u001b[0m - \u001b[1mSuccess, time: 45.923930168151855\u001b[0m\n",
      "huggingface/tokenizers: The current process just got forked, after parallelism has already been used. Disabling parallelism to avoid deadlocks...\n",
      "To disable this warning, you can either:\n",
      "\t- Avoid using `tokenizers` before the fork if possible\n",
      "\t- Explicitly set the environment variable TOKENIZERS_PARALLELISM=(true | false)\n",
      "\u001b[32m2025-04-04 18:58:00.652\u001b[0m | \u001b[1mINFO    \u001b[0m | \u001b[36m__main__\u001b[0m:\u001b[36mprocess_sample\u001b[0m:\u001b[36m157\u001b[0m - \u001b[1m保存编辑视频到: ./results/V2VBench/rf-solver_2order/walking/edit_000.mp4\u001b[0m\n",
      "处理数据集批次: 162it [1:54:22, 44.91s/it]\u001b[32m2025-04-04 18:58:00.684\u001b[0m | \u001b[1mINFO    \u001b[0m | \u001b[36mhyvideo.inference\u001b[0m:\u001b[36mpredict\u001b[0m:\u001b[36m605\u001b[0m - \u001b[1mInput (height, width, video_length) = (512, 512, 25)\u001b[0m\n",
      "\u001b[32m2025-04-04 18:58:00.705\u001b[0m | \u001b[34m\u001b[1mDEBUG   \u001b[0m | \u001b[36mhyvideo.inference\u001b[0m:\u001b[36mpredict\u001b[0m:\u001b[36m665\u001b[0m - \u001b[34m\u001b[1m\n",
      "                        height: 512\n",
      "                         width: 512\n",
      "                  video_length: 25\n",
      "                        prompt: ['a man in a blue suit is walking down the street and taking a selfie']\n",
      "                    neg_prompt: ['Aerial view, aerial view, overexposed, low quality, deformation, a poor composition, bad hands, bad teeth, bad eyes, bad limbs, distortion']\n",
      "                          seed: 42\n",
      "                   infer_steps: 2\n",
      "         num_videos_per_prompt: 1\n",
      "                guidance_scale: 1.0\n",
      "                      n_tokens: 7168\n",
      "                    flow_shift: 7.0\n",
      "       embedded_guidance_scale: 2.0\u001b[0m\n"
     ]
    },
    {
     "name": "stdout",
     "output_type": "stream",
     "text": [
      "cuda:0\n",
      "cuda:0\n",
      "sigmas_reverse\n",
      "sigmas: tensor([0.0000, 0.8750, 1.0000])\n",
      "Using inversed latents\n",
      "Step 0: t = 0.0\n",
      "Step 1: t = 875.0\n"
     ]
    },
    {
     "name": "stderr",
     "output_type": "stream",
     "text": []
    },
    {
     "name": "stdout",
     "output_type": "stream",
     "text": [
      "Step 0: t_curr = 0.0, t_prev = 875.0\n",
      "t:1\n"
     ]
    },
    {
     "name": "stderr",
     "output_type": "stream",
     "text": []
    },
    {
     "name": "stdout",
     "output_type": "stream",
     "text": [
      "Step 1: t_curr = 875.0, t_prev = 1000.0\n",
      "t:2\n"
     ]
    },
    {
     "name": "stderr",
     "output_type": "stream",
     "text": [
      "100%|██████████| 2/2 [00:08<00:00,  4.08s/it]\n"
     ]
    },
    {
     "name": "stdout",
     "output_type": "stream",
     "text": [
      "cuda:0\n",
      "cuda:0\n",
      "sigmas: tensor([1.0000, 0.8750, 0.0000])\n",
      "Using inversed latents\n",
      "Step 0: t = 1000.0\n",
      "Step 1: t = 875.0\n"
     ]
    },
    {
     "name": "stderr",
     "output_type": "stream",
     "text": []
    },
    {
     "name": "stdout",
     "output_type": "stream",
     "text": [
      "Step 0: t_curr = 1000.0, t_prev = 875.0\n",
      "t:2\n"
     ]
    },
    {
     "name": "stderr",
     "output_type": "stream",
     "text": []
    },
    {
     "name": "stdout",
     "output_type": "stream",
     "text": [
      "Step 1: t_curr = 875.0, t_prev = 0.0\n",
      "t:1\n"
     ]
    },
    {
     "name": "stderr",
     "output_type": "stream",
     "text": [
      "100%|██████████| 2/2 [00:06<00:00,  3.44s/it]\n",
      "\u001b[32m2025-04-04 18:58:44.092\u001b[0m | \u001b[1mINFO    \u001b[0m | \u001b[36mhyvideo.inference\u001b[0m:\u001b[36mpredict\u001b[0m:\u001b[36m709\u001b[0m - \u001b[1mSuccess, time: 43.38520550727844\u001b[0m\n",
      "huggingface/tokenizers: The current process just got forked, after parallelism has already been used. Disabling parallelism to avoid deadlocks...\n",
      "To disable this warning, you can either:\n",
      "\t- Avoid using `tokenizers` before the fork if possible\n",
      "\t- Explicitly set the environment variable TOKENIZERS_PARALLELISM=(true | false)\n",
      "\u001b[32m2025-04-04 18:58:45.472\u001b[0m | \u001b[1mINFO    \u001b[0m | \u001b[36m__main__\u001b[0m:\u001b[36mprocess_sample\u001b[0m:\u001b[36m157\u001b[0m - \u001b[1m保存编辑视频到: ./results/V2VBench/rf-solver_2order/walking/edit_001.mp4\u001b[0m\n",
      "处理数据集批次: 163it [1:55:07, 44.88s/it]\u001b[32m2025-04-04 18:58:45.496\u001b[0m | \u001b[1mINFO    \u001b[0m | \u001b[36mhyvideo.inference\u001b[0m:\u001b[36mpredict\u001b[0m:\u001b[36m605\u001b[0m - \u001b[1mInput (height, width, video_length) = (512, 512, 25)\u001b[0m\n",
      "\u001b[32m2025-04-04 18:58:45.524\u001b[0m | \u001b[34m\u001b[1mDEBUG   \u001b[0m | \u001b[36mhyvideo.inference\u001b[0m:\u001b[36mpredict\u001b[0m:\u001b[36m665\u001b[0m - \u001b[34m\u001b[1m\n",
      "                        height: 512\n",
      "                         width: 512\n",
      "                  video_length: 25\n",
      "                        prompt: ['a man in a blue suit is walking down the street and taking a selfie']\n",
      "                    neg_prompt: ['Aerial view, aerial view, overexposed, low quality, deformation, a poor composition, bad hands, bad teeth, bad eyes, bad limbs, distortion']\n",
      "                          seed: 42\n",
      "                   infer_steps: 2\n",
      "         num_videos_per_prompt: 1\n",
      "                guidance_scale: 1.0\n",
      "                      n_tokens: 7168\n",
      "                    flow_shift: 7.0\n",
      "       embedded_guidance_scale: 2.0\u001b[0m\n"
     ]
    },
    {
     "name": "stdout",
     "output_type": "stream",
     "text": [
      "cuda:0\n",
      "cuda:0\n",
      "sigmas_reverse\n",
      "sigmas: tensor([0.0000, 0.8750, 1.0000])\n",
      "Using inversed latents\n",
      "Step 0: t = 0.0\n",
      "Step 1: t = 875.0\n"
     ]
    },
    {
     "name": "stderr",
     "output_type": "stream",
     "text": []
    },
    {
     "name": "stdout",
     "output_type": "stream",
     "text": [
      "Step 0: t_curr = 0.0, t_prev = 875.0\n",
      "t:1\n"
     ]
    },
    {
     "name": "stderr",
     "output_type": "stream",
     "text": []
    },
    {
     "name": "stdout",
     "output_type": "stream",
     "text": [
      "Step 1: t_curr = 875.0, t_prev = 1000.0\n",
      "t:2\n"
     ]
    },
    {
     "name": "stderr",
     "output_type": "stream",
     "text": [
      "100%|██████████| 2/2 [00:08<00:00,  4.02s/it]\n"
     ]
    },
    {
     "name": "stdout",
     "output_type": "stream",
     "text": [
      "cuda:0\n",
      "cuda:0\n",
      "sigmas: tensor([1.0000, 0.8750, 0.0000])\n",
      "Using inversed latents\n",
      "Step 0: t = 1000.0\n",
      "Step 1: t = 875.0\n"
     ]
    },
    {
     "name": "stderr",
     "output_type": "stream",
     "text": []
    },
    {
     "name": "stdout",
     "output_type": "stream",
     "text": [
      "Step 0: t_curr = 1000.0, t_prev = 875.0\n",
      "t:2\n"
     ]
    },
    {
     "name": "stderr",
     "output_type": "stream",
     "text": []
    },
    {
     "name": "stdout",
     "output_type": "stream",
     "text": [
      "Step 1: t_curr = 875.0, t_prev = 0.0\n",
      "t:1\n"
     ]
    },
    {
     "name": "stderr",
     "output_type": "stream",
     "text": [
      "100%|██████████| 2/2 [00:07<00:00,  3.54s/it]\n",
      "\u001b[32m2025-04-04 18:59:28.761\u001b[0m | \u001b[1mINFO    \u001b[0m | \u001b[36mhyvideo.inference\u001b[0m:\u001b[36mpredict\u001b[0m:\u001b[36m709\u001b[0m - \u001b[1mSuccess, time: 43.235968351364136\u001b[0m\n",
      "huggingface/tokenizers: The current process just got forked, after parallelism has already been used. Disabling parallelism to avoid deadlocks...\n",
      "To disable this warning, you can either:\n",
      "\t- Avoid using `tokenizers` before the fork if possible\n",
      "\t- Explicitly set the environment variable TOKENIZERS_PARALLELISM=(true | false)\n",
      "\u001b[32m2025-04-04 18:59:30.444\u001b[0m | \u001b[1mINFO    \u001b[0m | \u001b[36m__main__\u001b[0m:\u001b[36mprocess_sample\u001b[0m:\u001b[36m157\u001b[0m - \u001b[1m保存编辑视频到: ./results/V2VBench/rf-solver_2order/walking/edit_002.mp4\u001b[0m\n",
      "处理数据集批次: 164it [1:55:52, 44.91s/it]\u001b[32m2025-04-04 18:59:30.481\u001b[0m | \u001b[1mINFO    \u001b[0m | \u001b[36mhyvideo.inference\u001b[0m:\u001b[36mpredict\u001b[0m:\u001b[36m605\u001b[0m - \u001b[1mInput (height, width, video_length) = (512, 512, 25)\u001b[0m\n",
      "\u001b[32m2025-04-04 18:59:30.502\u001b[0m | \u001b[34m\u001b[1mDEBUG   \u001b[0m | \u001b[36mhyvideo.inference\u001b[0m:\u001b[36mpredict\u001b[0m:\u001b[36m665\u001b[0m - \u001b[34m\u001b[1m\n",
      "                        height: 512\n",
      "                         width: 512\n",
      "                  video_length: 25\n",
      "                        prompt: ['a woman is taking a selfie with a dog with a cell phone amidst yellow weeds']\n",
      "                    neg_prompt: ['Aerial view, aerial view, overexposed, low quality, deformation, a poor composition, bad hands, bad teeth, bad eyes, bad limbs, distortion']\n",
      "                          seed: 42\n",
      "                   infer_steps: 2\n",
      "         num_videos_per_prompt: 1\n",
      "                guidance_scale: 1.0\n",
      "                      n_tokens: 7168\n",
      "                    flow_shift: 7.0\n",
      "       embedded_guidance_scale: 2.0\u001b[0m\n"
     ]
    },
    {
     "name": "stdout",
     "output_type": "stream",
     "text": [
      "cuda:0\n",
      "cuda:0\n",
      "sigmas_reverse\n",
      "sigmas: tensor([0.0000, 0.8750, 1.0000])\n",
      "Using inversed latents\n",
      "Step 0: t = 0.0\n",
      "Step 1: t = 875.0\n"
     ]
    },
    {
     "name": "stderr",
     "output_type": "stream",
     "text": []
    },
    {
     "name": "stdout",
     "output_type": "stream",
     "text": [
      "Step 0: t_curr = 0.0, t_prev = 875.0\n",
      "t:1\n"
     ]
    },
    {
     "name": "stderr",
     "output_type": "stream",
     "text": []
    },
    {
     "name": "stdout",
     "output_type": "stream",
     "text": [
      "Step 1: t_curr = 875.0, t_prev = 1000.0\n",
      "t:2\n"
     ]
    },
    {
     "name": "stderr",
     "output_type": "stream",
     "text": [
      "100%|██████████| 2/2 [00:08<00:00,  4.03s/it]\n"
     ]
    },
    {
     "name": "stdout",
     "output_type": "stream",
     "text": [
      "cuda:0\n",
      "cuda:0\n",
      "sigmas: tensor([1.0000, 0.8750, 0.0000])\n",
      "Using inversed latents\n",
      "Step 0: t = 1000.0\n",
      "Step 1: t = 875.0\n"
     ]
    },
    {
     "name": "stderr",
     "output_type": "stream",
     "text": []
    },
    {
     "name": "stdout",
     "output_type": "stream",
     "text": [
      "Step 0: t_curr = 1000.0, t_prev = 875.0\n",
      "t:2\n"
     ]
    },
    {
     "name": "stderr",
     "output_type": "stream",
     "text": []
    },
    {
     "name": "stdout",
     "output_type": "stream",
     "text": [
      "Step 1: t_curr = 875.0, t_prev = 0.0\n",
      "t:1\n"
     ]
    },
    {
     "name": "stderr",
     "output_type": "stream",
     "text": [
      "100%|██████████| 2/2 [00:06<00:00,  3.43s/it]\n",
      "\u001b[32m2025-04-04 19:00:11.057\u001b[0m | \u001b[1mINFO    \u001b[0m | \u001b[36mhyvideo.inference\u001b[0m:\u001b[36mpredict\u001b[0m:\u001b[36m709\u001b[0m - \u001b[1mSuccess, time: 40.553382396698\u001b[0m\n",
      "huggingface/tokenizers: The current process just got forked, after parallelism has already been used. Disabling parallelism to avoid deadlocks...\n",
      "To disable this warning, you can either:\n",
      "\t- Avoid using `tokenizers` before the fork if possible\n",
      "\t- Explicitly set the environment variable TOKENIZERS_PARALLELISM=(true | false)\n",
      "\u001b[32m2025-04-04 19:00:12.609\u001b[0m | \u001b[1mINFO    \u001b[0m | \u001b[36m__main__\u001b[0m:\u001b[36mprocess_sample\u001b[0m:\u001b[36m157\u001b[0m - \u001b[1m保存编辑视频到: ./results/V2VBench/rf-solver_2order/woman-dog/edit_000.mp4\u001b[0m\n",
      "处理数据集批次: 165it [1:56:34, 44.09s/it]\u001b[32m2025-04-04 19:00:12.639\u001b[0m | \u001b[1mINFO    \u001b[0m | \u001b[36mhyvideo.inference\u001b[0m:\u001b[36mpredict\u001b[0m:\u001b[36m605\u001b[0m - \u001b[1mInput (height, width, video_length) = (512, 512, 25)\u001b[0m\n",
      "\u001b[32m2025-04-04 19:00:12.714\u001b[0m | \u001b[34m\u001b[1mDEBUG   \u001b[0m | \u001b[36mhyvideo.inference\u001b[0m:\u001b[36mpredict\u001b[0m:\u001b[36m665\u001b[0m - \u001b[34m\u001b[1m\n",
      "                        height: 512\n",
      "                         width: 512\n",
      "                  video_length: 25\n",
      "                        prompt: ['a woman is taking a selfie with a dog with a cell phone amidst yellow weeds']\n",
      "                    neg_prompt: ['Aerial view, aerial view, overexposed, low quality, deformation, a poor composition, bad hands, bad teeth, bad eyes, bad limbs, distortion']\n",
      "                          seed: 42\n",
      "                   infer_steps: 2\n",
      "         num_videos_per_prompt: 1\n",
      "                guidance_scale: 1.0\n",
      "                      n_tokens: 7168\n",
      "                    flow_shift: 7.0\n",
      "       embedded_guidance_scale: 2.0\u001b[0m\n"
     ]
    },
    {
     "name": "stdout",
     "output_type": "stream",
     "text": [
      "cuda:0\n",
      "cuda:0\n",
      "sigmas_reverse\n",
      "sigmas: tensor([0.0000, 0.8750, 1.0000])\n",
      "Using inversed latents\n",
      "Step 0: t = 0.0\n",
      "Step 1: t = 875.0\n"
     ]
    },
    {
     "name": "stderr",
     "output_type": "stream",
     "text": []
    },
    {
     "name": "stdout",
     "output_type": "stream",
     "text": [
      "Step 0: t_curr = 0.0, t_prev = 875.0\n",
      "t:1\n"
     ]
    },
    {
     "name": "stderr",
     "output_type": "stream",
     "text": []
    },
    {
     "name": "stdout",
     "output_type": "stream",
     "text": [
      "Step 1: t_curr = 875.0, t_prev = 1000.0\n",
      "t:2\n"
     ]
    },
    {
     "name": "stderr",
     "output_type": "stream",
     "text": [
      "100%|██████████| 2/2 [00:08<00:00,  4.03s/it]\n"
     ]
    },
    {
     "name": "stdout",
     "output_type": "stream",
     "text": [
      "cuda:0\n",
      "cuda:0\n",
      "sigmas: tensor([1.0000, 0.8750, 0.0000])\n",
      "Using inversed latents\n",
      "Step 0: t = 1000.0\n",
      "Step 1: t = 875.0\n"
     ]
    },
    {
     "name": "stderr",
     "output_type": "stream",
     "text": []
    },
    {
     "name": "stdout",
     "output_type": "stream",
     "text": [
      "Step 0: t_curr = 1000.0, t_prev = 875.0\n",
      "t:2\n"
     ]
    },
    {
     "name": "stderr",
     "output_type": "stream",
     "text": []
    },
    {
     "name": "stdout",
     "output_type": "stream",
     "text": [
      "Step 1: t_curr = 875.0, t_prev = 0.0\n",
      "t:1\n"
     ]
    },
    {
     "name": "stderr",
     "output_type": "stream",
     "text": [
      "100%|██████████| 2/2 [00:06<00:00,  3.50s/it]\n",
      "\u001b[32m2025-04-04 19:00:53.316\u001b[0m | \u001b[1mINFO    \u001b[0m | \u001b[36mhyvideo.inference\u001b[0m:\u001b[36mpredict\u001b[0m:\u001b[36m709\u001b[0m - \u001b[1mSuccess, time: 40.600911140441895\u001b[0m\n",
      "huggingface/tokenizers: The current process just got forked, after parallelism has already been used. Disabling parallelism to avoid deadlocks...\n",
      "To disable this warning, you can either:\n",
      "\t- Avoid using `tokenizers` before the fork if possible\n",
      "\t- Explicitly set the environment variable TOKENIZERS_PARALLELISM=(true | false)\n",
      "\u001b[32m2025-04-04 19:00:54.861\u001b[0m | \u001b[1mINFO    \u001b[0m | \u001b[36m__main__\u001b[0m:\u001b[36mprocess_sample\u001b[0m:\u001b[36m157\u001b[0m - \u001b[1m保存编辑视频到: ./results/V2VBench/rf-solver_2order/woman-dog/edit_001.mp4\u001b[0m\n",
      "处理数据集批次: 166it [1:57:16, 43.54s/it]\u001b[32m2025-04-04 19:00:54.887\u001b[0m | \u001b[1mINFO    \u001b[0m | \u001b[36mhyvideo.inference\u001b[0m:\u001b[36mpredict\u001b[0m:\u001b[36m605\u001b[0m - \u001b[1mInput (height, width, video_length) = (512, 512, 25)\u001b[0m\n",
      "\u001b[32m2025-04-04 19:00:54.926\u001b[0m | \u001b[34m\u001b[1mDEBUG   \u001b[0m | \u001b[36mhyvideo.inference\u001b[0m:\u001b[36mpredict\u001b[0m:\u001b[36m665\u001b[0m - \u001b[34m\u001b[1m\n",
      "                        height: 512\n",
      "                         width: 512\n",
      "                  video_length: 25\n",
      "                        prompt: ['a woman is taking a selfie with a dog with a cell phone amidst yellow weeds']\n",
      "                    neg_prompt: ['Aerial view, aerial view, overexposed, low quality, deformation, a poor composition, bad hands, bad teeth, bad eyes, bad limbs, distortion']\n",
      "                          seed: 42\n",
      "                   infer_steps: 2\n",
      "         num_videos_per_prompt: 1\n",
      "                guidance_scale: 1.0\n",
      "                      n_tokens: 7168\n",
      "                    flow_shift: 7.0\n",
      "       embedded_guidance_scale: 2.0\u001b[0m\n"
     ]
    },
    {
     "name": "stdout",
     "output_type": "stream",
     "text": [
      "cuda:0\n",
      "cuda:0\n",
      "sigmas_reverse\n",
      "sigmas: tensor([0.0000, 0.8750, 1.0000])\n",
      "Using inversed latents\n",
      "Step 0: t = 0.0\n",
      "Step 1: t = 875.0\n"
     ]
    },
    {
     "name": "stderr",
     "output_type": "stream",
     "text": []
    },
    {
     "name": "stdout",
     "output_type": "stream",
     "text": [
      "Step 0: t_curr = 0.0, t_prev = 875.0\n",
      "t:1\n"
     ]
    },
    {
     "name": "stderr",
     "output_type": "stream",
     "text": []
    },
    {
     "name": "stdout",
     "output_type": "stream",
     "text": [
      "Step 1: t_curr = 875.0, t_prev = 1000.0\n",
      "t:2\n"
     ]
    },
    {
     "name": "stderr",
     "output_type": "stream",
     "text": [
      "100%|██████████| 2/2 [00:08<00:00,  4.05s/it]\n"
     ]
    },
    {
     "name": "stdout",
     "output_type": "stream",
     "text": [
      "cuda:0\n",
      "cuda:0\n",
      "sigmas: tensor([1.0000, 0.8750, 0.0000])\n",
      "Using inversed latents\n",
      "Step 0: t = 1000.0\n",
      "Step 1: t = 875.0\n"
     ]
    },
    {
     "name": "stderr",
     "output_type": "stream",
     "text": []
    },
    {
     "name": "stdout",
     "output_type": "stream",
     "text": [
      "Step 0: t_curr = 1000.0, t_prev = 875.0\n",
      "t:2\n"
     ]
    },
    {
     "name": "stderr",
     "output_type": "stream",
     "text": []
    },
    {
     "name": "stdout",
     "output_type": "stream",
     "text": [
      "Step 1: t_curr = 875.0, t_prev = 0.0\n",
      "t:1\n"
     ]
    },
    {
     "name": "stderr",
     "output_type": "stream",
     "text": [
      "100%|██████████| 2/2 [00:06<00:00,  3.43s/it]\n",
      "\u001b[32m2025-04-04 19:01:37.202\u001b[0m | \u001b[1mINFO    \u001b[0m | \u001b[36mhyvideo.inference\u001b[0m:\u001b[36mpredict\u001b[0m:\u001b[36m709\u001b[0m - \u001b[1mSuccess, time: 42.27493476867676\u001b[0m\n",
      "huggingface/tokenizers: The current process just got forked, after parallelism has already been used. Disabling parallelism to avoid deadlocks...\n",
      "To disable this warning, you can either:\n",
      "\t- Avoid using `tokenizers` before the fork if possible\n",
      "\t- Explicitly set the environment variable TOKENIZERS_PARALLELISM=(true | false)\n",
      "\u001b[32m2025-04-04 19:01:38.841\u001b[0m | \u001b[1mINFO    \u001b[0m | \u001b[36m__main__\u001b[0m:\u001b[36mprocess_sample\u001b[0m:\u001b[36m157\u001b[0m - \u001b[1m保存编辑视频到: ./results/V2VBench/rf-solver_2order/woman-dog/edit_002.mp4\u001b[0m\n",
      "处理数据集批次: 100%|██████████| 150/150 [1:58:01<00:00, 47.21s/it]\n"
     ]
    }
   ],
   "source": [
    "%run edit_video.py \\\n",
    "    --dit-weight \"/home/chx/mySrc/HunyuanVideo/ckpts/hunyuan-video-t2v-720p/transformers/mp_rank_00_model_states_fp8.pt\" \\\n",
    "    --video-size 512 512 \\\n",
    "    --video-length 25 \\\n",
    "    --infer-steps 30 \\\n",
    "    --inject 5 \\\n",
    "    --seed 42 \\\n",
    "    --embedded-cfg-scale 2 \\\n",
    "    --flow-shift 7.0 \\\n",
    "    --flow-reverse \\\n",
    "    --use-cpu-offload \\\n",
    "    --use-fp8 \\\n",
    "    --save-path ./results/V2VBench/rf-solver_2order \\\n",
    "    --dataset \"V2VBench\""
   ]
  },
  {
   "cell_type": "code",
   "execution_count": null,
   "metadata": {},
   "outputs": [],
   "source": [
    "%run edit_video2.py \\\n",
    "    --dit-weight \"/home/chx/mySrc/HunyuanVideo/ckpts/hunyuan-video-t2v-720p/transformers/mp_rank_00_model_states_fp8.pt\" \\\n",
    "    --video-size 512 512 \\\n",
    "    --video-length 25 \\\n",
    "    --infer-steps 30 \\\n",
    "    --prompt \"a man performing the moonwalk dance\" \\\n",
    "    --target-prompt \"a clown performing the moonwalk dance\" \\\n",
    "    --inject 5 \\\n",
    "    --seed 42 \\\n",
    "    --embedded-cfg-scale 3.5 \\\n",
    "    --flow-shift 7.0 \\\n",
    "    --flow-reverse \\\n",
    "    --use-cpu-offload \\\n",
    "    --use-fp8 \\\n",
    "    --save-path ./results/rf-solver_2order \\\n",
    "    --inverse-video-path \"/data/chx/V2VBench/videos/moonwalk.mp4\""
   ]
  },
  {
   "cell_type": "code",
   "execution_count": 3,
   "metadata": {},
   "outputs": [
    {
     "name": "stderr",
     "output_type": "stream",
     "text": [
      "\u001b[32m2025-04-12 17:31:28.037\u001b[0m | \u001b[1mINFO    \u001b[0m | \u001b[36mhyvideo.inference\u001b[0m:\u001b[36mfrom_pretrained\u001b[0m:\u001b[36m155\u001b[0m - \u001b[1mGot text-to-video model root path: ckpts\u001b[0m\n",
      "\u001b[32m2025-04-12 17:31:28.037\u001b[0m | \u001b[1mINFO    \u001b[0m | \u001b[36mhyvideo.inference\u001b[0m:\u001b[36mfrom_pretrained\u001b[0m:\u001b[36m190\u001b[0m - \u001b[1mBuilding model...\u001b[0m\n"
     ]
    },
    {
     "name": "stdout",
     "output_type": "stream",
     "text": [
      "{'apply_final_norm': False,\n",
      " 'batch_size': 1,\n",
      " 'cfg_scale': 1.0,\n",
      " 'dataset': None,\n",
      " 'denoise_type': 'flow',\n",
      " 'disable_autocast': False,\n",
      " 'dit_weight': '/home/chx/mySrc/HunyuanVideo/ckpts/hunyuan-video-t2v-720p/transformers/mp_rank_00_model_states_fp8.pt',\n",
      " 'embedded_cfg_scale': 3.5,\n",
      " 'feature_path': 'feature',\n",
      " 'flow_reverse': True,\n",
      " 'flow_shift': 7.0,\n",
      " 'flow_solver': 'euler',\n",
      " 'hidden_state_skip_layer': 2,\n",
      " 'infer_steps': 45,\n",
      " 'inject': 5,\n",
      " 'inverse_video_path': '/data/chx/V2VBench/videos/moonwalk.mp4',\n",
      " 'latent_channels': 16,\n",
      " 'linear_schedule_end': 25,\n",
      " 'load_key': 'module',\n",
      " 'model': 'HYVideo-T/2-cfgdistill',\n",
      " 'model_base': 'ckpts',\n",
      " 'model_resolution': '540p',\n",
      " 'name_suffix': '',\n",
      " 'neg_prompt': None,\n",
      " 'num_samples': None,\n",
      " 'num_videos': 1,\n",
      " 'precision': 'bf16',\n",
      " 'prompt': 'a man in a white shirt and black pants wearing gray sneakers '\n",
      "           'performing the moonwalk dance',\n",
      " 'prompt_template': 'dit-llm-encode',\n",
      " 'prompt_template_video': 'dit-llm-encode-video',\n",
      " 'reproduce': False,\n",
      " 'ring_degree': 1,\n",
      " 'rope_theta': 256,\n",
      " 'save_path': './results/rf-solver_2order',\n",
      " 'save_path_suffix': '',\n",
      " 'seed': 42,\n",
      " 'seed_type': 'auto',\n",
      " 'subset_range': None,\n",
      " 'target_prompt': \"a iron man in iron man's Suit performing the moonwalk dance\",\n",
      " 'text_encoder': 'llm',\n",
      " 'text_encoder_2': 'clipL',\n",
      " 'text_encoder_precision': 'fp16',\n",
      " 'text_encoder_precision_2': 'fp16',\n",
      " 'text_len': 256,\n",
      " 'text_len_2': 77,\n",
      " 'text_states_dim': 4096,\n",
      " 'text_states_dim_2': 768,\n",
      " 'tokenizer': 'llm',\n",
      " 'tokenizer_2': 'clipL',\n",
      " 'ulysses_degree': 1,\n",
      " 'use_cpu_offload': True,\n",
      " 'use_fp8': True,\n",
      " 'use_linear_quadratic_schedule': False,\n",
      " 'vae': '884-16c-hy',\n",
      " 'vae_precision': 'fp16',\n",
      " 'vae_tiling': True,\n",
      " 'video_length': 25,\n",
      " 'video_size': [512, 512]}\n",
      "cuda\n"
     ]
    },
    {
     "name": "stderr",
     "output_type": "stream",
     "text": [
      "\u001b[32m2025-04-12 17:33:39.568\u001b[0m | \u001b[1mINFO    \u001b[0m | \u001b[36mhyvideo.inference\u001b[0m:\u001b[36mload_state_dict\u001b[0m:\u001b[36m345\u001b[0m - \u001b[1mLoading torch model /home/chx/mySrc/HunyuanVideo/ckpts/hunyuan-video-t2v-720p/transformers/mp_rank_00_model_states_fp8.pt...\u001b[0m\n",
      "\u001b[32m2025-04-12 17:33:52.337\u001b[0m | \u001b[1mINFO    \u001b[0m | \u001b[36mhyvideo.vae\u001b[0m:\u001b[36mload_vae\u001b[0m:\u001b[36m29\u001b[0m - \u001b[1mLoading 3D VAE model (884-16c-hy) from: ./ckpts/hunyuan-video-t2v-720p/vae\u001b[0m\n"
     ]
    },
    {
     "name": "stdout",
     "output_type": "stream",
     "text": [
      "loading vae\n"
     ]
    },
    {
     "name": "stderr",
     "output_type": "stream",
     "text": [
      "\u001b[32m2025-04-12 17:33:55.647\u001b[0m | \u001b[1mINFO    \u001b[0m | \u001b[36mhyvideo.vae\u001b[0m:\u001b[36mload_vae\u001b[0m:\u001b[36m55\u001b[0m - \u001b[1mVAE to dtype: torch.float16\u001b[0m\n",
      "\u001b[32m2025-04-12 17:33:55.652\u001b[0m | \u001b[1mINFO    \u001b[0m | \u001b[36mhyvideo.text_encoder\u001b[0m:\u001b[36mload_text_encoder\u001b[0m:\u001b[36m28\u001b[0m - \u001b[1mLoading text encoder model (llm) from: ./ckpts/text_encoder\u001b[0m\n",
      "Loading checkpoint shards: 100%|██████████| 4/4 [01:44<00:00, 26.10s/it]\n",
      "\u001b[32m2025-04-12 17:35:47.809\u001b[0m | \u001b[1mINFO    \u001b[0m | \u001b[36mhyvideo.text_encoder\u001b[0m:\u001b[36mload_text_encoder\u001b[0m:\u001b[36m50\u001b[0m - \u001b[1mText encoder to dtype: torch.float16\u001b[0m\n",
      "\u001b[32m2025-04-12 17:35:47.813\u001b[0m | \u001b[1mINFO    \u001b[0m | \u001b[36mhyvideo.text_encoder\u001b[0m:\u001b[36mload_tokenizer\u001b[0m:\u001b[36m64\u001b[0m - \u001b[1mLoading tokenizer (llm) from: ./ckpts/text_encoder\u001b[0m\n",
      "\u001b[32m2025-04-12 17:35:48.679\u001b[0m | \u001b[1mINFO    \u001b[0m | \u001b[36mhyvideo.text_encoder\u001b[0m:\u001b[36mload_text_encoder\u001b[0m:\u001b[36m28\u001b[0m - \u001b[1mLoading text encoder model (clipL) from: ./ckpts/text_encoder_2\u001b[0m\n",
      "\u001b[32m2025-04-12 17:35:57.709\u001b[0m | \u001b[1mINFO    \u001b[0m | \u001b[36mhyvideo.text_encoder\u001b[0m:\u001b[36mload_text_encoder\u001b[0m:\u001b[36m50\u001b[0m - \u001b[1mText encoder to dtype: torch.float16\u001b[0m\n",
      "\u001b[32m2025-04-12 17:35:57.712\u001b[0m | \u001b[1mINFO    \u001b[0m | \u001b[36mhyvideo.text_encoder\u001b[0m:\u001b[36mload_tokenizer\u001b[0m:\u001b[36m64\u001b[0m - \u001b[1mLoading tokenizer (clipL) from: ./ckpts/text_encoder_2\u001b[0m\n",
      "\u001b[32m2025-04-12 17:35:58.057\u001b[0m | \u001b[1mINFO    \u001b[0m | \u001b[36m__main__\u001b[0m:\u001b[36mmain\u001b[0m:\u001b[36m74\u001b[0m - \u001b[1mLoaded single video tensor with shape: torch.Size([1, 3, 25, 512, 512])\u001b[0m\n",
      "\u001b[32m2025-04-12 17:35:58.058\u001b[0m | \u001b[1mINFO    \u001b[0m | \u001b[36mhyvideo.inference\u001b[0m:\u001b[36mpredict\u001b[0m:\u001b[36m605\u001b[0m - \u001b[1mInput (height, width, video_length) = (512, 512, 25)\u001b[0m\n"
     ]
    },
    {
     "name": "stdout",
     "output_type": "stream",
     "text": [
      "Enable sequential CPU offload.\n",
      "Updated args:\n",
      "{'apply_final_norm': False,\n",
      " 'batch_size': 1,\n",
      " 'cfg_scale': 1.0,\n",
      " 'dataset': None,\n",
      " 'denoise_type': 'flow',\n",
      " 'disable_autocast': False,\n",
      " 'dit_weight': '/home/chx/mySrc/HunyuanVideo/ckpts/hunyuan-video-t2v-720p/transformers/mp_rank_00_model_states_fp8.pt',\n",
      " 'embedded_cfg_scale': 3.5,\n",
      " 'feature_path': 'feature',\n",
      " 'flow_reverse': True,\n",
      " 'flow_shift': 7.0,\n",
      " 'flow_solver': 'euler',\n",
      " 'hidden_state_skip_layer': 2,\n",
      " 'infer_steps': 45,\n",
      " 'inject': 5,\n",
      " 'inverse_video_path': '/data/chx/V2VBench/videos/moonwalk.mp4',\n",
      " 'latent_channels': 16,\n",
      " 'linear_schedule_end': 25,\n",
      " 'load_key': 'module',\n",
      " 'model': 'HYVideo-T/2-cfgdistill',\n",
      " 'model_base': 'ckpts',\n",
      " 'model_resolution': '540p',\n",
      " 'name_suffix': '',\n",
      " 'neg_prompt': None,\n",
      " 'num_samples': None,\n",
      " 'num_videos': 1,\n",
      " 'precision': 'bf16',\n",
      " 'prompt': 'a man in a white shirt and black pants wearing gray sneakers '\n",
      "           'performing the moonwalk dance',\n",
      " 'prompt_template': 'dit-llm-encode',\n",
      " 'prompt_template_video': 'dit-llm-encode-video',\n",
      " 'reproduce': False,\n",
      " 'ring_degree': 1,\n",
      " 'rope_theta': 256,\n",
      " 'save_path': './results/rf-solver_2order',\n",
      " 'save_path_suffix': '',\n",
      " 'seed': 42,\n",
      " 'seed_type': 'auto',\n",
      " 'subset_range': None,\n",
      " 'target_prompt': \"a iron man in iron man's Suit performing the moonwalk dance\",\n",
      " 'text_encoder': 'llm',\n",
      " 'text_encoder_2': 'clipL',\n",
      " 'text_encoder_precision': 'fp16',\n",
      " 'text_encoder_precision_2': 'fp16',\n",
      " 'text_len': 256,\n",
      " 'text_len_2': 77,\n",
      " 'text_states_dim': 4096,\n",
      " 'text_states_dim_2': 768,\n",
      " 'tokenizer': 'llm',\n",
      " 'tokenizer_2': 'clipL',\n",
      " 'ulysses_degree': 1,\n",
      " 'use_cpu_offload': True,\n",
      " 'use_fp8': True,\n",
      " 'use_linear_quadratic_schedule': False,\n",
      " 'vae': '884-16c-hy',\n",
      " 'vae_precision': 'fp16',\n",
      " 'vae_tiling': True,\n",
      " 'video_length': 25,\n",
      " 'video_size': [512, 512]}\n"
     ]
    },
    {
     "name": "stderr",
     "output_type": "stream",
     "text": [
      "\u001b[32m2025-04-12 17:35:58.478\u001b[0m | \u001b[34m\u001b[1mDEBUG   \u001b[0m | \u001b[36mhyvideo.inference\u001b[0m:\u001b[36mpredict\u001b[0m:\u001b[36m665\u001b[0m - \u001b[34m\u001b[1m\n",
      "                        height: 512\n",
      "                         width: 512\n",
      "                  video_length: 25\n",
      "                        prompt: ['a man in a white shirt and black pants wearing gray sneakers performing the moonwalk dance']\n",
      "                    neg_prompt: ['Aerial view, aerial view, overexposed, low quality, deformation, a poor composition, bad hands, bad teeth, bad eyes, bad limbs, distortion']\n",
      "                          seed: 42\n",
      "                   infer_steps: 45\n",
      "         num_videos_per_prompt: 1\n",
      "                guidance_scale: 1.0\n",
      "                      n_tokens: 7168\n",
      "                    flow_shift: 7.0\n",
      "       embedded_guidance_scale: 3.5\u001b[0m\n"
     ]
    },
    {
     "name": "stdout",
     "output_type": "stream",
     "text": [
      "cuda:0\n",
      "cuda:0\n",
      "sigmas_reverse\n",
      "sigmas: tensor([0.0000, 0.1373, 0.2456, 0.3333, 0.4058, 0.4667, 0.5185, 0.5632, 0.6022,\n",
      "        0.6364, 0.6667, 0.6937, 0.7179, 0.7398, 0.7597, 0.7778, 0.7943, 0.8095,\n",
      "        0.8235, 0.8365, 0.8485, 0.8596, 0.8701, 0.8798, 0.8889, 0.8974, 0.9055,\n",
      "        0.9130, 0.9202, 0.9269, 0.9333, 0.9394, 0.9451, 0.9506, 0.9558, 0.9608,\n",
      "        0.9655, 0.9700, 0.9744, 0.9785, 0.9825, 0.9863, 0.9899, 0.9934, 0.9968,\n",
      "        1.0000])\n",
      "Using inversed latents\n",
      "Step 0: t = 0.0\n",
      "Step 1: t = 137.25491333007812\n",
      "Step 2: t = 245.61404418945312\n",
      "Step 3: t = 333.3333435058594\n",
      "Step 4: t = 405.797119140625\n",
      "Step 5: t = 466.6666259765625\n",
      "Step 6: t = 518.5184936523438\n",
      "Step 7: t = 563.2183837890625\n",
      "Step 8: t = 602.1505737304688\n",
      "Step 9: t = 636.3636474609375\n",
      "Step 10: t = 666.6666259765625\n",
      "Step 11: t = 693.6936645507812\n",
      "Step 12: t = 717.94873046875\n",
      "Step 13: t = 739.83740234375\n",
      "Step 14: t = 759.6898803710938\n",
      "Step 15: t = 777.77783203125\n",
      "Step 16: t = 794.3262329101562\n",
      "Step 17: t = 809.5238037109375\n",
      "Step 18: t = 823.5293579101562\n",
      "Step 19: t = 836.47802734375\n",
      "Step 20: t = 848.48486328125\n",
      "Step 21: t = 859.6491088867188\n",
      "Step 22: t = 870.0564575195312\n",
      "Step 23: t = 879.7814331054688\n",
      "Step 24: t = 888.888916015625\n",
      "Step 25: t = 897.4359130859375\n",
      "Step 26: t = 905.47265625\n",
      "Step 27: t = 913.04345703125\n",
      "Step 28: t = 920.1878051757812\n",
      "Step 29: t = 926.9406127929688\n",
      "Step 30: t = 933.3333740234375\n",
      "Step 31: t = 939.3939208984375\n",
      "Step 32: t = 945.147705078125\n",
      "Step 33: t = 950.6172485351562\n",
      "Step 34: t = 955.8233032226562\n",
      "Step 35: t = 960.7843017578125\n",
      "Step 36: t = 965.5172119140625\n",
      "Step 37: t = 970.0374755859375\n",
      "Step 38: t = 974.3590087890625\n",
      "Step 39: t = 978.49462890625\n",
      "Step 40: t = 982.4561767578125\n",
      "Step 41: t = 986.2543334960938\n",
      "Step 42: t = 989.8989868164062\n",
      "Step 43: t = 993.3992919921875\n",
      "Step 44: t = 996.7637329101562\n"
     ]
    },
    {
     "name": "stderr",
     "output_type": "stream",
     "text": [
      "  0%|          | 0/45 [00:00<?, ?it/s]"
     ]
    },
    {
     "name": "stdout",
     "output_type": "stream",
     "text": [
      "Step 0: t_curr = 0.0, t_prev = 137.25491333007812\n"
     ]
    },
    {
     "name": "stderr",
     "output_type": "stream",
     "text": [
      "  2%|▏         | 1/45 [00:04<03:31,  4.80s/it]"
     ]
    },
    {
     "name": "stdout",
     "output_type": "stream",
     "text": [
      "Step 1: t_curr = 137.25491333007812, t_prev = 245.61404418945312\n"
     ]
    },
    {
     "name": "stderr",
     "output_type": "stream",
     "text": [
      "  4%|▍         | 2/45 [00:09<03:26,  4.79s/it]"
     ]
    },
    {
     "name": "stdout",
     "output_type": "stream",
     "text": [
      "Step 2: t_curr = 245.61404418945312, t_prev = 333.3333435058594\n"
     ]
    },
    {
     "name": "stderr",
     "output_type": "stream",
     "text": [
      "  7%|▋         | 3/45 [00:14<03:21,  4.80s/it]"
     ]
    },
    {
     "name": "stdout",
     "output_type": "stream",
     "text": [
      "Step 3: t_curr = 333.3333435058594, t_prev = 405.797119140625\n"
     ]
    },
    {
     "name": "stderr",
     "output_type": "stream",
     "text": [
      "  9%|▉         | 4/45 [00:19<03:16,  4.80s/it]"
     ]
    },
    {
     "name": "stdout",
     "output_type": "stream",
     "text": [
      "Step 4: t_curr = 405.797119140625, t_prev = 466.6666259765625\n"
     ]
    },
    {
     "name": "stderr",
     "output_type": "stream",
     "text": [
      " 11%|█         | 5/45 [00:24<03:12,  4.81s/it]"
     ]
    },
    {
     "name": "stdout",
     "output_type": "stream",
     "text": [
      "Step 5: t_curr = 466.6666259765625, t_prev = 518.5184936523438\n"
     ]
    },
    {
     "name": "stderr",
     "output_type": "stream",
     "text": [
      " 13%|█▎        | 6/45 [00:28<03:07,  4.80s/it]"
     ]
    },
    {
     "name": "stdout",
     "output_type": "stream",
     "text": [
      "Step 6: t_curr = 518.5184936523438, t_prev = 563.2183837890625\n"
     ]
    },
    {
     "name": "stderr",
     "output_type": "stream",
     "text": [
      " 16%|█▌        | 7/45 [00:33<03:02,  4.81s/it]"
     ]
    },
    {
     "name": "stdout",
     "output_type": "stream",
     "text": [
      "Step 7: t_curr = 563.2183837890625, t_prev = 602.1505737304688\n"
     ]
    },
    {
     "name": "stderr",
     "output_type": "stream",
     "text": [
      " 18%|█▊        | 8/45 [00:38<02:57,  4.80s/it]"
     ]
    },
    {
     "name": "stdout",
     "output_type": "stream",
     "text": [
      "Step 8: t_curr = 602.1505737304688, t_prev = 636.3636474609375\n"
     ]
    },
    {
     "name": "stderr",
     "output_type": "stream",
     "text": [
      " 20%|██        | 9/45 [00:43<02:52,  4.80s/it]"
     ]
    },
    {
     "name": "stdout",
     "output_type": "stream",
     "text": [
      "Step 9: t_curr = 636.3636474609375, t_prev = 666.6666259765625\n"
     ]
    },
    {
     "name": "stderr",
     "output_type": "stream",
     "text": [
      " 22%|██▏       | 10/45 [00:48<02:48,  4.80s/it]"
     ]
    },
    {
     "name": "stdout",
     "output_type": "stream",
     "text": [
      "Step 10: t_curr = 666.6666259765625, t_prev = 693.6936645507812\n"
     ]
    },
    {
     "name": "stderr",
     "output_type": "stream",
     "text": [
      " 24%|██▍       | 11/45 [00:52<02:43,  4.80s/it]"
     ]
    },
    {
     "name": "stdout",
     "output_type": "stream",
     "text": [
      "Step 11: t_curr = 693.6936645507812, t_prev = 717.94873046875\n"
     ]
    },
    {
     "name": "stderr",
     "output_type": "stream",
     "text": [
      " 27%|██▋       | 12/45 [00:57<02:38,  4.81s/it]"
     ]
    },
    {
     "name": "stdout",
     "output_type": "stream",
     "text": [
      "Step 12: t_curr = 717.94873046875, t_prev = 739.83740234375\n"
     ]
    },
    {
     "name": "stderr",
     "output_type": "stream",
     "text": [
      " 29%|██▉       | 13/45 [01:02<02:33,  4.80s/it]"
     ]
    },
    {
     "name": "stdout",
     "output_type": "stream",
     "text": [
      "Step 13: t_curr = 739.83740234375, t_prev = 759.6898803710938\n"
     ]
    },
    {
     "name": "stderr",
     "output_type": "stream",
     "text": [
      " 31%|███       | 14/45 [01:07<02:28,  4.79s/it]"
     ]
    },
    {
     "name": "stdout",
     "output_type": "stream",
     "text": [
      "Step 14: t_curr = 759.6898803710938, t_prev = 777.77783203125\n"
     ]
    },
    {
     "name": "stderr",
     "output_type": "stream",
     "text": [
      " 33%|███▎      | 15/45 [01:11<02:23,  4.79s/it]"
     ]
    },
    {
     "name": "stdout",
     "output_type": "stream",
     "text": [
      "Step 15: t_curr = 777.77783203125, t_prev = 794.3262329101562\n"
     ]
    },
    {
     "name": "stderr",
     "output_type": "stream",
     "text": [
      " 36%|███▌      | 16/45 [01:16<02:18,  4.79s/it]"
     ]
    },
    {
     "name": "stdout",
     "output_type": "stream",
     "text": [
      "Step 16: t_curr = 794.3262329101562, t_prev = 809.5238037109375\n"
     ]
    },
    {
     "name": "stderr",
     "output_type": "stream",
     "text": [
      " 38%|███▊      | 17/45 [01:21<02:14,  4.79s/it]"
     ]
    },
    {
     "name": "stdout",
     "output_type": "stream",
     "text": [
      "Step 17: t_curr = 809.5238037109375, t_prev = 823.5293579101562\n"
     ]
    },
    {
     "name": "stderr",
     "output_type": "stream",
     "text": [
      " 40%|████      | 18/45 [01:26<02:09,  4.79s/it]"
     ]
    },
    {
     "name": "stdout",
     "output_type": "stream",
     "text": [
      "Step 18: t_curr = 823.5293579101562, t_prev = 836.47802734375\n"
     ]
    },
    {
     "name": "stderr",
     "output_type": "stream",
     "text": [
      " 42%|████▏     | 19/45 [01:31<02:04,  4.79s/it]"
     ]
    },
    {
     "name": "stdout",
     "output_type": "stream",
     "text": [
      "Step 19: t_curr = 836.47802734375, t_prev = 848.48486328125\n"
     ]
    },
    {
     "name": "stderr",
     "output_type": "stream",
     "text": [
      " 44%|████▍     | 20/45 [01:35<01:59,  4.78s/it]"
     ]
    },
    {
     "name": "stdout",
     "output_type": "stream",
     "text": [
      "Step 20: t_curr = 848.48486328125, t_prev = 859.6491088867188\n"
     ]
    },
    {
     "name": "stderr",
     "output_type": "stream",
     "text": [
      " 47%|████▋     | 21/45 [01:40<01:54,  4.78s/it]"
     ]
    },
    {
     "name": "stdout",
     "output_type": "stream",
     "text": [
      "Step 21: t_curr = 859.6491088867188, t_prev = 870.0564575195312\n"
     ]
    },
    {
     "name": "stderr",
     "output_type": "stream",
     "text": [
      " 49%|████▉     | 22/45 [01:45<01:50,  4.79s/it]"
     ]
    },
    {
     "name": "stdout",
     "output_type": "stream",
     "text": [
      "Step 22: t_curr = 870.0564575195312, t_prev = 879.7814331054688\n"
     ]
    },
    {
     "name": "stderr",
     "output_type": "stream",
     "text": [
      " 51%|█████     | 23/45 [01:50<01:45,  4.82s/it]"
     ]
    },
    {
     "name": "stdout",
     "output_type": "stream",
     "text": [
      "Step 23: t_curr = 879.7814331054688, t_prev = 888.888916015625\n"
     ]
    },
    {
     "name": "stderr",
     "output_type": "stream",
     "text": [
      " 53%|█████▎    | 24/45 [01:55<01:40,  4.81s/it]"
     ]
    },
    {
     "name": "stdout",
     "output_type": "stream",
     "text": [
      "Step 24: t_curr = 888.888916015625, t_prev = 897.4359130859375\n"
     ]
    },
    {
     "name": "stderr",
     "output_type": "stream",
     "text": [
      " 56%|█████▌    | 25/45 [01:59<01:36,  4.81s/it]"
     ]
    },
    {
     "name": "stdout",
     "output_type": "stream",
     "text": [
      "Step 25: t_curr = 897.4359130859375, t_prev = 905.47265625\n"
     ]
    },
    {
     "name": "stderr",
     "output_type": "stream",
     "text": [
      " 58%|█████▊    | 26/45 [02:04<01:31,  4.81s/it]"
     ]
    },
    {
     "name": "stdout",
     "output_type": "stream",
     "text": [
      "Step 26: t_curr = 905.47265625, t_prev = 913.04345703125\n"
     ]
    },
    {
     "name": "stderr",
     "output_type": "stream",
     "text": [
      " 60%|██████    | 27/45 [02:09<01:26,  4.81s/it]"
     ]
    },
    {
     "name": "stdout",
     "output_type": "stream",
     "text": [
      "Step 27: t_curr = 913.04345703125, t_prev = 920.1878051757812\n"
     ]
    },
    {
     "name": "stderr",
     "output_type": "stream",
     "text": [
      " 62%|██████▏   | 28/45 [02:14<01:21,  4.80s/it]"
     ]
    },
    {
     "name": "stdout",
     "output_type": "stream",
     "text": [
      "Step 28: t_curr = 920.1878051757812, t_prev = 926.9406127929688\n"
     ]
    },
    {
     "name": "stderr",
     "output_type": "stream",
     "text": [
      " 64%|██████▍   | 29/45 [02:19<01:16,  4.80s/it]"
     ]
    },
    {
     "name": "stdout",
     "output_type": "stream",
     "text": [
      "Step 29: t_curr = 926.9406127929688, t_prev = 933.3333740234375\n"
     ]
    },
    {
     "name": "stderr",
     "output_type": "stream",
     "text": [
      " 67%|██████▋   | 30/45 [02:23<01:11,  4.79s/it]"
     ]
    },
    {
     "name": "stdout",
     "output_type": "stream",
     "text": [
      "Step 30: t_curr = 933.3333740234375, t_prev = 939.3939208984375\n"
     ]
    },
    {
     "name": "stderr",
     "output_type": "stream",
     "text": [
      " 69%|██████▉   | 31/45 [02:28<01:07,  4.79s/it]"
     ]
    },
    {
     "name": "stdout",
     "output_type": "stream",
     "text": [
      "Step 31: t_curr = 939.3939208984375, t_prev = 945.147705078125\n"
     ]
    },
    {
     "name": "stderr",
     "output_type": "stream",
     "text": [
      " 71%|███████   | 32/45 [02:33<01:02,  4.78s/it]"
     ]
    },
    {
     "name": "stdout",
     "output_type": "stream",
     "text": [
      "Step 32: t_curr = 945.147705078125, t_prev = 950.6172485351562\n"
     ]
    },
    {
     "name": "stderr",
     "output_type": "stream",
     "text": [
      " 73%|███████▎  | 33/45 [02:38<00:57,  4.78s/it]"
     ]
    },
    {
     "name": "stdout",
     "output_type": "stream",
     "text": [
      "Step 33: t_curr = 950.6172485351562, t_prev = 955.8233032226562\n"
     ]
    },
    {
     "name": "stderr",
     "output_type": "stream",
     "text": [
      " 76%|███████▌  | 34/45 [02:43<00:52,  4.77s/it]"
     ]
    },
    {
     "name": "stdout",
     "output_type": "stream",
     "text": [
      "Step 34: t_curr = 955.8233032226562, t_prev = 960.7843017578125\n"
     ]
    },
    {
     "name": "stderr",
     "output_type": "stream",
     "text": [
      " 78%|███████▊  | 35/45 [02:47<00:47,  4.77s/it]"
     ]
    },
    {
     "name": "stdout",
     "output_type": "stream",
     "text": [
      "Step 35: t_curr = 960.7843017578125, t_prev = 965.5172119140625\n"
     ]
    },
    {
     "name": "stderr",
     "output_type": "stream",
     "text": [
      " 80%|████████  | 36/45 [02:52<00:42,  4.78s/it]"
     ]
    },
    {
     "name": "stdout",
     "output_type": "stream",
     "text": [
      "Step 36: t_curr = 965.5172119140625, t_prev = 970.0374755859375\n"
     ]
    },
    {
     "name": "stderr",
     "output_type": "stream",
     "text": [
      " 82%|████████▏ | 37/45 [02:57<00:38,  4.78s/it]"
     ]
    },
    {
     "name": "stdout",
     "output_type": "stream",
     "text": [
      "Step 37: t_curr = 970.0374755859375, t_prev = 974.3590087890625\n"
     ]
    },
    {
     "name": "stderr",
     "output_type": "stream",
     "text": [
      " 84%|████████▍ | 38/45 [03:02<00:33,  4.79s/it]"
     ]
    },
    {
     "name": "stdout",
     "output_type": "stream",
     "text": [
      "Step 38: t_curr = 974.3590087890625, t_prev = 978.49462890625\n"
     ]
    },
    {
     "name": "stderr",
     "output_type": "stream",
     "text": [
      " 87%|████████▋ | 39/45 [03:06<00:28,  4.79s/it]"
     ]
    },
    {
     "name": "stdout",
     "output_type": "stream",
     "text": [
      "Step 39: t_curr = 978.49462890625, t_prev = 982.4561767578125\n"
     ]
    },
    {
     "name": "stderr",
     "output_type": "stream",
     "text": [
      " 89%|████████▉ | 40/45 [03:11<00:23,  4.79s/it]"
     ]
    },
    {
     "name": "stdout",
     "output_type": "stream",
     "text": [
      "Step 40: t_curr = 982.4561767578125, t_prev = 986.2543334960938\n"
     ]
    },
    {
     "name": "stderr",
     "output_type": "stream",
     "text": [
      " 91%|█████████ | 41/45 [03:16<00:19,  4.79s/it]"
     ]
    },
    {
     "name": "stdout",
     "output_type": "stream",
     "text": [
      "Step 41: t_curr = 986.2543334960938, t_prev = 989.8989868164062\n"
     ]
    },
    {
     "name": "stderr",
     "output_type": "stream",
     "text": [
      " 93%|█████████▎| 42/45 [03:21<00:14,  4.78s/it]"
     ]
    },
    {
     "name": "stdout",
     "output_type": "stream",
     "text": [
      "Step 42: t_curr = 989.8989868164062, t_prev = 993.3992919921875\n"
     ]
    },
    {
     "name": "stderr",
     "output_type": "stream",
     "text": [
      " 96%|█████████▌| 43/45 [03:26<00:09,  4.78s/it]"
     ]
    },
    {
     "name": "stdout",
     "output_type": "stream",
     "text": [
      "Step 43: t_curr = 993.3992919921875, t_prev = 996.7637329101562\n"
     ]
    },
    {
     "name": "stderr",
     "output_type": "stream",
     "text": [
      " 98%|█████████▊| 44/45 [03:30<00:04,  4.78s/it]"
     ]
    },
    {
     "name": "stdout",
     "output_type": "stream",
     "text": [
      "Step 44: t_curr = 996.7637329101562, t_prev = 1000.0\n"
     ]
    },
    {
     "name": "stderr",
     "output_type": "stream",
     "text": [
      "100%|██████████| 45/45 [03:35<00:00,  4.79s/it]\n"
     ]
    },
    {
     "name": "stdout",
     "output_type": "stream",
     "text": [
      "cuda:0\n",
      "cuda:0\n",
      "sigmas_reverse\n",
      "sigmas: tensor([0.0000, 0.1373, 0.2456, 0.3333, 0.4058, 0.4667, 0.5185, 0.5632, 0.6022,\n",
      "        0.6364, 0.6667, 0.6937, 0.7179, 0.7398, 0.7597, 0.7778, 0.7943, 0.8095,\n",
      "        0.8235, 0.8365, 0.8485, 0.8596, 0.8701, 0.8798, 0.8889, 0.8974, 0.9055,\n",
      "        0.9130, 0.9202, 0.9269, 0.9333, 0.9394, 0.9451, 0.9506, 0.9558, 0.9608,\n",
      "        0.9655, 0.9700, 0.9744, 0.9785, 0.9825, 0.9863, 0.9899, 0.9934, 0.9968,\n",
      "        1.0000])\n",
      "Using inversed latents\n",
      "Step 0: t = 0.0\n",
      "Step 1: t = 137.25491333007812\n",
      "Step 2: t = 245.61404418945312\n",
      "Step 3: t = 333.3333435058594\n",
      "Step 4: t = 405.797119140625\n",
      "Step 5: t = 466.6666259765625\n",
      "Step 6: t = 518.5184936523438\n",
      "Step 7: t = 563.2183837890625\n",
      "Step 8: t = 602.1505737304688\n",
      "Step 9: t = 636.3636474609375\n",
      "Step 10: t = 666.6666259765625\n",
      "Step 11: t = 693.6936645507812\n",
      "Step 12: t = 717.94873046875\n",
      "Step 13: t = 739.83740234375\n",
      "Step 14: t = 759.6898803710938\n",
      "Step 15: t = 777.77783203125\n",
      "Step 16: t = 794.3262329101562\n",
      "Step 17: t = 809.5238037109375\n",
      "Step 18: t = 823.5293579101562\n",
      "Step 19: t = 836.47802734375\n",
      "Step 20: t = 848.48486328125\n",
      "Step 21: t = 859.6491088867188\n",
      "Step 22: t = 870.0564575195312\n",
      "Step 23: t = 879.7814331054688\n",
      "Step 24: t = 888.888916015625\n",
      "Step 25: t = 897.4359130859375\n",
      "Step 26: t = 905.47265625\n",
      "Step 27: t = 913.04345703125\n",
      "Step 28: t = 920.1878051757812\n",
      "Step 29: t = 926.9406127929688\n",
      "Step 30: t = 933.3333740234375\n",
      "Step 31: t = 939.3939208984375\n",
      "Step 32: t = 945.147705078125\n",
      "Step 33: t = 950.6172485351562\n",
      "Step 34: t = 955.8233032226562\n",
      "Step 35: t = 960.7843017578125\n",
      "Step 36: t = 965.5172119140625\n",
      "Step 37: t = 970.0374755859375\n",
      "Step 38: t = 974.3590087890625\n",
      "Step 39: t = 978.49462890625\n",
      "Step 40: t = 982.4561767578125\n",
      "Step 41: t = 986.2543334960938\n",
      "Step 42: t = 989.8989868164062\n",
      "Step 43: t = 993.3992919921875\n",
      "Step 44: t = 996.7637329101562\n"
     ]
    },
    {
     "name": "stderr",
     "output_type": "stream",
     "text": [
      "  0%|          | 0/45 [00:00<?, ?it/s]"
     ]
    },
    {
     "name": "stdout",
     "output_type": "stream",
     "text": [
      "Step 0: t_curr = 0.0, t_prev = 137.25491333007812\n"
     ]
    },
    {
     "name": "stderr",
     "output_type": "stream",
     "text": [
      "  2%|▏         | 1/45 [00:04<03:30,  4.78s/it]"
     ]
    },
    {
     "name": "stdout",
     "output_type": "stream",
     "text": [
      "Step 1: t_curr = 137.25491333007812, t_prev = 245.61404418945312\n"
     ]
    },
    {
     "name": "stderr",
     "output_type": "stream",
     "text": [
      "  4%|▍         | 2/45 [00:09<03:25,  4.78s/it]"
     ]
    },
    {
     "name": "stdout",
     "output_type": "stream",
     "text": [
      "Step 2: t_curr = 245.61404418945312, t_prev = 333.3333435058594\n"
     ]
    },
    {
     "name": "stderr",
     "output_type": "stream",
     "text": [
      "  7%|▋         | 3/45 [00:14<03:20,  4.78s/it]"
     ]
    },
    {
     "name": "stdout",
     "output_type": "stream",
     "text": [
      "Step 3: t_curr = 333.3333435058594, t_prev = 405.797119140625\n"
     ]
    },
    {
     "name": "stderr",
     "output_type": "stream",
     "text": [
      "  9%|▉         | 4/45 [00:19<03:15,  4.77s/it]"
     ]
    },
    {
     "name": "stdout",
     "output_type": "stream",
     "text": [
      "Step 4: t_curr = 405.797119140625, t_prev = 466.6666259765625\n"
     ]
    },
    {
     "name": "stderr",
     "output_type": "stream",
     "text": [
      " 11%|█         | 5/45 [00:23<03:10,  4.77s/it]"
     ]
    },
    {
     "name": "stdout",
     "output_type": "stream",
     "text": [
      "Step 5: t_curr = 466.6666259765625, t_prev = 518.5184936523438\n"
     ]
    },
    {
     "name": "stderr",
     "output_type": "stream",
     "text": [
      " 13%|█▎        | 6/45 [00:28<03:06,  4.77s/it]"
     ]
    },
    {
     "name": "stdout",
     "output_type": "stream",
     "text": [
      "Step 6: t_curr = 518.5184936523438, t_prev = 563.2183837890625\n"
     ]
    },
    {
     "name": "stderr",
     "output_type": "stream",
     "text": [
      " 16%|█▌        | 7/45 [00:33<03:01,  4.78s/it]"
     ]
    },
    {
     "name": "stdout",
     "output_type": "stream",
     "text": [
      "Step 7: t_curr = 563.2183837890625, t_prev = 602.1505737304688\n"
     ]
    },
    {
     "name": "stderr",
     "output_type": "stream",
     "text": [
      " 18%|█▊        | 8/45 [00:38<02:56,  4.77s/it]"
     ]
    },
    {
     "name": "stdout",
     "output_type": "stream",
     "text": [
      "Step 8: t_curr = 602.1505737304688, t_prev = 636.3636474609375\n"
     ]
    },
    {
     "name": "stderr",
     "output_type": "stream",
     "text": [
      " 20%|██        | 9/45 [00:42<02:51,  4.77s/it]"
     ]
    },
    {
     "name": "stdout",
     "output_type": "stream",
     "text": [
      "Step 9: t_curr = 636.3636474609375, t_prev = 666.6666259765625\n"
     ]
    },
    {
     "name": "stderr",
     "output_type": "stream",
     "text": [
      " 22%|██▏       | 10/45 [00:47<02:46,  4.77s/it]"
     ]
    },
    {
     "name": "stdout",
     "output_type": "stream",
     "text": [
      "Step 10: t_curr = 666.6666259765625, t_prev = 693.6936645507812\n"
     ]
    },
    {
     "name": "stderr",
     "output_type": "stream",
     "text": [
      " 24%|██▍       | 11/45 [00:52<02:42,  4.78s/it]"
     ]
    },
    {
     "name": "stdout",
     "output_type": "stream",
     "text": [
      "Step 11: t_curr = 693.6936645507812, t_prev = 717.94873046875\n"
     ]
    },
    {
     "name": "stderr",
     "output_type": "stream",
     "text": [
      " 27%|██▋       | 12/45 [00:57<02:37,  4.77s/it]"
     ]
    },
    {
     "name": "stdout",
     "output_type": "stream",
     "text": [
      "Step 12: t_curr = 717.94873046875, t_prev = 739.83740234375\n"
     ]
    },
    {
     "name": "stderr",
     "output_type": "stream",
     "text": [
      " 29%|██▉       | 13/45 [01:02<02:33,  4.78s/it]"
     ]
    },
    {
     "name": "stdout",
     "output_type": "stream",
     "text": [
      "Step 13: t_curr = 739.83740234375, t_prev = 759.6898803710938\n"
     ]
    },
    {
     "name": "stderr",
     "output_type": "stream",
     "text": [
      " 31%|███       | 14/45 [01:06<02:28,  4.78s/it]"
     ]
    },
    {
     "name": "stdout",
     "output_type": "stream",
     "text": [
      "Step 14: t_curr = 759.6898803710938, t_prev = 777.77783203125\n"
     ]
    },
    {
     "name": "stderr",
     "output_type": "stream",
     "text": [
      " 33%|███▎      | 15/45 [01:11<02:23,  4.78s/it]"
     ]
    },
    {
     "name": "stdout",
     "output_type": "stream",
     "text": [
      "Step 15: t_curr = 777.77783203125, t_prev = 794.3262329101562\n"
     ]
    },
    {
     "name": "stderr",
     "output_type": "stream",
     "text": [
      " 36%|███▌      | 16/45 [01:16<02:19,  4.80s/it]"
     ]
    },
    {
     "name": "stdout",
     "output_type": "stream",
     "text": [
      "Step 16: t_curr = 794.3262329101562, t_prev = 809.5238037109375\n"
     ]
    },
    {
     "name": "stderr",
     "output_type": "stream",
     "text": [
      " 38%|███▊      | 17/45 [01:21<02:14,  4.82s/it]"
     ]
    },
    {
     "name": "stdout",
     "output_type": "stream",
     "text": [
      "Step 17: t_curr = 809.5238037109375, t_prev = 823.5293579101562\n"
     ]
    },
    {
     "name": "stderr",
     "output_type": "stream",
     "text": [
      " 40%|████      | 18/45 [01:26<02:09,  4.80s/it]"
     ]
    },
    {
     "name": "stdout",
     "output_type": "stream",
     "text": [
      "Step 18: t_curr = 823.5293579101562, t_prev = 836.47802734375\n"
     ]
    },
    {
     "name": "stderr",
     "output_type": "stream",
     "text": [
      " 42%|████▏     | 19/45 [01:30<02:04,  4.79s/it]"
     ]
    },
    {
     "name": "stdout",
     "output_type": "stream",
     "text": [
      "Step 19: t_curr = 836.47802734375, t_prev = 848.48486328125\n"
     ]
    },
    {
     "name": "stderr",
     "output_type": "stream",
     "text": [
      " 44%|████▍     | 20/45 [01:35<01:59,  4.78s/it]"
     ]
    },
    {
     "name": "stdout",
     "output_type": "stream",
     "text": [
      "Step 20: t_curr = 848.48486328125, t_prev = 859.6491088867188\n"
     ]
    },
    {
     "name": "stderr",
     "output_type": "stream",
     "text": [
      " 47%|████▋     | 21/45 [01:40<01:54,  4.79s/it]"
     ]
    },
    {
     "name": "stdout",
     "output_type": "stream",
     "text": [
      "Step 21: t_curr = 859.6491088867188, t_prev = 870.0564575195312\n"
     ]
    },
    {
     "name": "stderr",
     "output_type": "stream",
     "text": [
      " 49%|████▉     | 22/45 [01:45<01:50,  4.78s/it]"
     ]
    },
    {
     "name": "stdout",
     "output_type": "stream",
     "text": [
      "Step 22: t_curr = 870.0564575195312, t_prev = 879.7814331054688\n"
     ]
    },
    {
     "name": "stderr",
     "output_type": "stream",
     "text": [
      " 51%|█████     | 23/45 [01:50<01:45,  4.79s/it]"
     ]
    },
    {
     "name": "stdout",
     "output_type": "stream",
     "text": [
      "Step 23: t_curr = 879.7814331054688, t_prev = 888.888916015625\n"
     ]
    },
    {
     "name": "stderr",
     "output_type": "stream",
     "text": [
      " 53%|█████▎    | 24/45 [01:54<01:40,  4.78s/it]"
     ]
    },
    {
     "name": "stdout",
     "output_type": "stream",
     "text": [
      "Step 24: t_curr = 888.888916015625, t_prev = 897.4359130859375\n"
     ]
    },
    {
     "name": "stderr",
     "output_type": "stream",
     "text": [
      " 56%|█████▌    | 25/45 [01:59<01:35,  4.78s/it]"
     ]
    },
    {
     "name": "stdout",
     "output_type": "stream",
     "text": [
      "Step 25: t_curr = 897.4359130859375, t_prev = 905.47265625\n"
     ]
    },
    {
     "name": "stderr",
     "output_type": "stream",
     "text": [
      " 58%|█████▊    | 26/45 [02:04<01:30,  4.77s/it]"
     ]
    },
    {
     "name": "stdout",
     "output_type": "stream",
     "text": [
      "Step 26: t_curr = 905.47265625, t_prev = 913.04345703125\n"
     ]
    },
    {
     "name": "stderr",
     "output_type": "stream",
     "text": [
      " 60%|██████    | 27/45 [02:09<01:25,  4.77s/it]"
     ]
    },
    {
     "name": "stdout",
     "output_type": "stream",
     "text": [
      "Step 27: t_curr = 913.04345703125, t_prev = 920.1878051757812\n"
     ]
    },
    {
     "name": "stderr",
     "output_type": "stream",
     "text": [
      " 62%|██████▏   | 28/45 [02:13<01:21,  4.77s/it]"
     ]
    },
    {
     "name": "stdout",
     "output_type": "stream",
     "text": [
      "Step 28: t_curr = 920.1878051757812, t_prev = 926.9406127929688\n"
     ]
    },
    {
     "name": "stderr",
     "output_type": "stream",
     "text": [
      " 64%|██████▍   | 29/45 [02:18<01:16,  4.77s/it]"
     ]
    },
    {
     "name": "stdout",
     "output_type": "stream",
     "text": [
      "Step 29: t_curr = 926.9406127929688, t_prev = 933.3333740234375\n"
     ]
    },
    {
     "name": "stderr",
     "output_type": "stream",
     "text": [
      " 67%|██████▋   | 30/45 [02:23<01:11,  4.77s/it]"
     ]
    },
    {
     "name": "stdout",
     "output_type": "stream",
     "text": [
      "Step 30: t_curr = 933.3333740234375, t_prev = 939.3939208984375\n"
     ]
    },
    {
     "name": "stderr",
     "output_type": "stream",
     "text": [
      " 69%|██████▉   | 31/45 [02:28<01:06,  4.77s/it]"
     ]
    },
    {
     "name": "stdout",
     "output_type": "stream",
     "text": [
      "Step 31: t_curr = 939.3939208984375, t_prev = 945.147705078125\n"
     ]
    },
    {
     "name": "stderr",
     "output_type": "stream",
     "text": [
      " 71%|███████   | 32/45 [02:32<01:02,  4.77s/it]"
     ]
    },
    {
     "name": "stdout",
     "output_type": "stream",
     "text": [
      "Step 32: t_curr = 945.147705078125, t_prev = 950.6172485351562\n"
     ]
    },
    {
     "name": "stderr",
     "output_type": "stream",
     "text": [
      " 73%|███████▎  | 33/45 [02:37<00:57,  4.77s/it]"
     ]
    },
    {
     "name": "stdout",
     "output_type": "stream",
     "text": [
      "Step 33: t_curr = 950.6172485351562, t_prev = 955.8233032226562\n"
     ]
    },
    {
     "name": "stderr",
     "output_type": "stream",
     "text": [
      " 76%|███████▌  | 34/45 [02:42<00:52,  4.77s/it]"
     ]
    },
    {
     "name": "stdout",
     "output_type": "stream",
     "text": [
      "Step 34: t_curr = 955.8233032226562, t_prev = 960.7843017578125\n"
     ]
    },
    {
     "name": "stderr",
     "output_type": "stream",
     "text": [
      " 78%|███████▊  | 35/45 [02:47<00:47,  4.77s/it]"
     ]
    },
    {
     "name": "stdout",
     "output_type": "stream",
     "text": [
      "Step 35: t_curr = 960.7843017578125, t_prev = 965.5172119140625\n"
     ]
    },
    {
     "name": "stderr",
     "output_type": "stream",
     "text": [
      " 80%|████████  | 36/45 [02:52<00:43,  4.79s/it]"
     ]
    },
    {
     "name": "stdout",
     "output_type": "stream",
     "text": [
      "Step 36: t_curr = 965.5172119140625, t_prev = 970.0374755859375\n"
     ]
    },
    {
     "name": "stderr",
     "output_type": "stream",
     "text": [
      " 82%|████████▏ | 37/45 [02:56<00:38,  4.80s/it]"
     ]
    },
    {
     "name": "stdout",
     "output_type": "stream",
     "text": [
      "Step 37: t_curr = 970.0374755859375, t_prev = 974.3590087890625\n"
     ]
    },
    {
     "name": "stderr",
     "output_type": "stream",
     "text": [
      " 84%|████████▍ | 38/45 [03:01<00:33,  4.79s/it]"
     ]
    },
    {
     "name": "stdout",
     "output_type": "stream",
     "text": [
      "Step 38: t_curr = 974.3590087890625, t_prev = 978.49462890625\n"
     ]
    },
    {
     "name": "stderr",
     "output_type": "stream",
     "text": [
      " 87%|████████▋ | 39/45 [03:06<00:28,  4.79s/it]"
     ]
    },
    {
     "name": "stdout",
     "output_type": "stream",
     "text": [
      "Step 39: t_curr = 978.49462890625, t_prev = 982.4561767578125\n"
     ]
    },
    {
     "name": "stderr",
     "output_type": "stream",
     "text": [
      " 89%|████████▉ | 40/45 [03:11<00:23,  4.79s/it]"
     ]
    },
    {
     "name": "stdout",
     "output_type": "stream",
     "text": [
      "Step 40: t_curr = 982.4561767578125, t_prev = 986.2543334960938\n"
     ]
    },
    {
     "name": "stderr",
     "output_type": "stream",
     "text": [
      " 91%|█████████ | 41/45 [03:17<00:20,  5.21s/it]"
     ]
    },
    {
     "name": "stdout",
     "output_type": "stream",
     "text": [
      "Step 41: t_curr = 986.2543334960938, t_prev = 989.8989868164062\n"
     ]
    },
    {
     "name": "stderr",
     "output_type": "stream",
     "text": [
      " 93%|█████████▎| 42/45 [03:23<00:16,  5.48s/it]"
     ]
    },
    {
     "name": "stdout",
     "output_type": "stream",
     "text": [
      "Step 42: t_curr = 989.8989868164062, t_prev = 993.3992919921875\n"
     ]
    },
    {
     "name": "stderr",
     "output_type": "stream",
     "text": [
      " 96%|█████████▌| 43/45 [03:29<00:11,  5.67s/it]"
     ]
    },
    {
     "name": "stdout",
     "output_type": "stream",
     "text": [
      "Step 43: t_curr = 993.3992919921875, t_prev = 996.7637329101562\n"
     ]
    },
    {
     "name": "stderr",
     "output_type": "stream",
     "text": [
      " 98%|█████████▊| 44/45 [03:35<00:05,  5.82s/it]"
     ]
    },
    {
     "name": "stdout",
     "output_type": "stream",
     "text": [
      "Step 44: t_curr = 996.7637329101562, t_prev = 1000.0\n"
     ]
    },
    {
     "name": "stderr",
     "output_type": "stream",
     "text": [
      "100%|██████████| 45/45 [03:42<00:00,  4.95s/it]\n"
     ]
    },
    {
     "name": "stdout",
     "output_type": "stream",
     "text": [
      "cuda:0\n",
      "cuda:0\n",
      "sigmas: tensor([1.0000, 0.9968, 0.9934, 0.9899, 0.9863, 0.9825, 0.9785, 0.9744, 0.9700,\n",
      "        0.9655, 0.9608, 0.9558, 0.9506, 0.9451, 0.9394, 0.9333, 0.9269, 0.9202,\n",
      "        0.9130, 0.9055, 0.8974, 0.8889, 0.8798, 0.8701, 0.8596, 0.8485, 0.8365,\n",
      "        0.8235, 0.8095, 0.7943, 0.7778, 0.7597, 0.7398, 0.7179, 0.6937, 0.6667,\n",
      "        0.6364, 0.6022, 0.5632, 0.5185, 0.4667, 0.4058, 0.3333, 0.2456, 0.1373,\n",
      "        0.0000])\n",
      "Using inversed latents\n",
      "Step 0: t = 1000.0\n",
      "Step 1: t = 996.7637329101562\n",
      "Step 2: t = 993.3992919921875\n",
      "Step 3: t = 989.8989868164062\n",
      "Step 4: t = 986.2543334960938\n",
      "Step 5: t = 982.4561767578125\n",
      "Step 6: t = 978.49462890625\n",
      "Step 7: t = 974.3590087890625\n",
      "Step 8: t = 970.0374755859375\n",
      "Step 9: t = 965.5172119140625\n",
      "Step 10: t = 960.7843017578125\n",
      "Step 11: t = 955.8233032226562\n",
      "Step 12: t = 950.6172485351562\n",
      "Step 13: t = 945.147705078125\n",
      "Step 14: t = 939.3939208984375\n",
      "Step 15: t = 933.3333740234375\n",
      "Step 16: t = 926.9406127929688\n",
      "Step 17: t = 920.1878051757812\n",
      "Step 18: t = 913.04345703125\n",
      "Step 19: t = 905.47265625\n",
      "Step 20: t = 897.4359130859375\n",
      "Step 21: t = 888.888916015625\n",
      "Step 22: t = 879.7814331054688\n",
      "Step 23: t = 870.0564575195312\n",
      "Step 24: t = 859.6491088867188\n",
      "Step 25: t = 848.48486328125\n",
      "Step 26: t = 836.47802734375\n",
      "Step 27: t = 823.5293579101562\n",
      "Step 28: t = 809.5238037109375\n",
      "Step 29: t = 794.3262329101562\n",
      "Step 30: t = 777.77783203125\n",
      "Step 31: t = 759.6898803710938\n",
      "Step 32: t = 739.83740234375\n",
      "Step 33: t = 717.94873046875\n",
      "Step 34: t = 693.6936645507812\n",
      "Step 35: t = 666.6666259765625\n",
      "Step 36: t = 636.3636474609375\n",
      "Step 37: t = 602.1505737304688\n",
      "Step 38: t = 563.2183837890625\n",
      "Step 39: t = 518.5184936523438\n",
      "Step 40: t = 466.6666259765625\n",
      "Step 41: t = 405.797119140625\n",
      "Step 42: t = 333.3333435058594\n",
      "Step 43: t = 245.61404418945312\n",
      "Step 44: t = 137.25491333007812\n"
     ]
    },
    {
     "name": "stderr",
     "output_type": "stream",
     "text": [
      "  0%|          | 0/45 [00:00<?, ?it/s]"
     ]
    },
    {
     "name": "stdout",
     "output_type": "stream",
     "text": [
      "Step 0: t_curr = 1000.0, t_prev = 996.7637329101562\n"
     ]
    },
    {
     "name": "stderr",
     "output_type": "stream",
     "text": [
      "  2%|▏         | 1/45 [00:05<03:46,  5.15s/it]"
     ]
    },
    {
     "name": "stdout",
     "output_type": "stream",
     "text": [
      "Step 1: t_curr = 996.7637329101562, t_prev = 993.3992919921875\n"
     ]
    },
    {
     "name": "stderr",
     "output_type": "stream",
     "text": [
      "  4%|▍         | 2/45 [00:10<03:39,  5.11s/it]"
     ]
    },
    {
     "name": "stdout",
     "output_type": "stream",
     "text": [
      "Step 2: t_curr = 993.3992919921875, t_prev = 989.8989868164062\n"
     ]
    },
    {
     "name": "stderr",
     "output_type": "stream",
     "text": [
      "  7%|▋         | 3/45 [00:15<03:32,  5.06s/it]"
     ]
    },
    {
     "name": "stdout",
     "output_type": "stream",
     "text": [
      "Step 3: t_curr = 989.8989868164062, t_prev = 986.2543334960938\n"
     ]
    },
    {
     "name": "stderr",
     "output_type": "stream",
     "text": [
      "  9%|▉         | 4/45 [00:20<03:35,  5.27s/it]"
     ]
    },
    {
     "name": "stdout",
     "output_type": "stream",
     "text": [
      "Step 4: t_curr = 986.2543334960938, t_prev = 982.4561767578125\n"
     ]
    },
    {
     "name": "stderr",
     "output_type": "stream",
     "text": [
      " 11%|█         | 5/45 [00:26<03:34,  5.37s/it]"
     ]
    },
    {
     "name": "stdout",
     "output_type": "stream",
     "text": [
      "Step 5: t_curr = 982.4561767578125, t_prev = 978.49462890625\n"
     ]
    },
    {
     "name": "stderr",
     "output_type": "stream",
     "text": [
      " 13%|█▎        | 6/45 [00:31<03:21,  5.16s/it]"
     ]
    },
    {
     "name": "stdout",
     "output_type": "stream",
     "text": [
      "Step 6: t_curr = 978.49462890625, t_prev = 974.3590087890625\n"
     ]
    },
    {
     "name": "stderr",
     "output_type": "stream",
     "text": [
      " 16%|█▌        | 7/45 [00:35<03:11,  5.04s/it]"
     ]
    },
    {
     "name": "stdout",
     "output_type": "stream",
     "text": [
      "Step 7: t_curr = 974.3590087890625, t_prev = 970.0374755859375\n"
     ]
    },
    {
     "name": "stderr",
     "output_type": "stream",
     "text": [
      " 18%|█▊        | 8/45 [00:40<03:03,  4.95s/it]"
     ]
    },
    {
     "name": "stdout",
     "output_type": "stream",
     "text": [
      "Step 8: t_curr = 970.0374755859375, t_prev = 965.5172119140625\n"
     ]
    },
    {
     "name": "stderr",
     "output_type": "stream",
     "text": [
      " 20%|██        | 9/45 [00:45<02:57,  4.92s/it]"
     ]
    },
    {
     "name": "stdout",
     "output_type": "stream",
     "text": [
      "Step 9: t_curr = 965.5172119140625, t_prev = 960.7843017578125\n"
     ]
    },
    {
     "name": "stderr",
     "output_type": "stream",
     "text": [
      " 22%|██▏       | 10/45 [00:50<02:50,  4.88s/it]"
     ]
    },
    {
     "name": "stdout",
     "output_type": "stream",
     "text": [
      "Step 10: t_curr = 960.7843017578125, t_prev = 955.8233032226562\n"
     ]
    },
    {
     "name": "stderr",
     "output_type": "stream",
     "text": [
      " 24%|██▍       | 11/45 [00:55<02:44,  4.85s/it]"
     ]
    },
    {
     "name": "stdout",
     "output_type": "stream",
     "text": [
      "Step 11: t_curr = 955.8233032226562, t_prev = 950.6172485351562\n"
     ]
    },
    {
     "name": "stderr",
     "output_type": "stream",
     "text": [
      " 27%|██▋       | 12/45 [00:59<02:39,  4.83s/it]"
     ]
    },
    {
     "name": "stdout",
     "output_type": "stream",
     "text": [
      "Step 12: t_curr = 950.6172485351562, t_prev = 945.147705078125\n"
     ]
    },
    {
     "name": "stderr",
     "output_type": "stream",
     "text": [
      " 29%|██▉       | 13/45 [01:04<02:33,  4.81s/it]"
     ]
    },
    {
     "name": "stdout",
     "output_type": "stream",
     "text": [
      "Step 13: t_curr = 945.147705078125, t_prev = 939.3939208984375\n"
     ]
    },
    {
     "name": "stderr",
     "output_type": "stream",
     "text": [
      " 31%|███       | 14/45 [01:09<02:28,  4.80s/it]"
     ]
    },
    {
     "name": "stdout",
     "output_type": "stream",
     "text": [
      "Step 14: t_curr = 939.3939208984375, t_prev = 933.3333740234375\n"
     ]
    },
    {
     "name": "stderr",
     "output_type": "stream",
     "text": [
      " 33%|███▎      | 15/45 [01:14<02:23,  4.79s/it]"
     ]
    },
    {
     "name": "stdout",
     "output_type": "stream",
     "text": [
      "Step 15: t_curr = 933.3333740234375, t_prev = 926.9406127929688\n"
     ]
    },
    {
     "name": "stderr",
     "output_type": "stream",
     "text": [
      " 36%|███▌      | 16/45 [01:18<02:18,  4.79s/it]"
     ]
    },
    {
     "name": "stdout",
     "output_type": "stream",
     "text": [
      "Step 16: t_curr = 926.9406127929688, t_prev = 920.1878051757812\n"
     ]
    },
    {
     "name": "stderr",
     "output_type": "stream",
     "text": [
      " 38%|███▊      | 17/45 [01:23<02:13,  4.78s/it]"
     ]
    },
    {
     "name": "stdout",
     "output_type": "stream",
     "text": [
      "Step 17: t_curr = 920.1878051757812, t_prev = 913.04345703125\n"
     ]
    },
    {
     "name": "stderr",
     "output_type": "stream",
     "text": [
      " 40%|████      | 18/45 [01:28<02:09,  4.79s/it]"
     ]
    },
    {
     "name": "stdout",
     "output_type": "stream",
     "text": [
      "Step 18: t_curr = 913.04345703125, t_prev = 905.47265625\n"
     ]
    },
    {
     "name": "stderr",
     "output_type": "stream",
     "text": [
      " 42%|████▏     | 19/45 [01:33<02:04,  4.80s/it]"
     ]
    },
    {
     "name": "stdout",
     "output_type": "stream",
     "text": [
      "Step 19: t_curr = 905.47265625, t_prev = 897.4359130859375\n"
     ]
    },
    {
     "name": "stderr",
     "output_type": "stream",
     "text": [
      " 44%|████▍     | 20/45 [01:38<01:59,  4.79s/it]"
     ]
    },
    {
     "name": "stdout",
     "output_type": "stream",
     "text": [
      "Step 20: t_curr = 897.4359130859375, t_prev = 888.888916015625\n"
     ]
    },
    {
     "name": "stderr",
     "output_type": "stream",
     "text": [
      " 47%|████▋     | 21/45 [01:42<01:54,  4.78s/it]"
     ]
    },
    {
     "name": "stdout",
     "output_type": "stream",
     "text": [
      "Step 21: t_curr = 888.888916015625, t_prev = 879.7814331054688\n"
     ]
    },
    {
     "name": "stderr",
     "output_type": "stream",
     "text": [
      " 49%|████▉     | 22/45 [01:47<01:50,  4.79s/it]"
     ]
    },
    {
     "name": "stdout",
     "output_type": "stream",
     "text": [
      "Step 22: t_curr = 879.7814331054688, t_prev = 870.0564575195312\n"
     ]
    },
    {
     "name": "stderr",
     "output_type": "stream",
     "text": [
      " 51%|█████     | 23/45 [01:52<01:45,  4.79s/it]"
     ]
    },
    {
     "name": "stdout",
     "output_type": "stream",
     "text": [
      "Step 23: t_curr = 870.0564575195312, t_prev = 859.6491088867188\n"
     ]
    },
    {
     "name": "stderr",
     "output_type": "stream",
     "text": [
      " 53%|█████▎    | 24/45 [01:57<01:40,  4.79s/it]"
     ]
    },
    {
     "name": "stdout",
     "output_type": "stream",
     "text": [
      "Step 24: t_curr = 859.6491088867188, t_prev = 848.48486328125\n"
     ]
    },
    {
     "name": "stderr",
     "output_type": "stream",
     "text": [
      " 56%|█████▌    | 25/45 [02:02<01:35,  4.79s/it]"
     ]
    },
    {
     "name": "stdout",
     "output_type": "stream",
     "text": [
      "Step 25: t_curr = 848.48486328125, t_prev = 836.47802734375\n"
     ]
    },
    {
     "name": "stderr",
     "output_type": "stream",
     "text": [
      " 58%|█████▊    | 26/45 [02:06<01:30,  4.79s/it]"
     ]
    },
    {
     "name": "stdout",
     "output_type": "stream",
     "text": [
      "Step 26: t_curr = 836.47802734375, t_prev = 823.5293579101562\n"
     ]
    },
    {
     "name": "stderr",
     "output_type": "stream",
     "text": [
      " 60%|██████    | 27/45 [02:11<01:26,  4.79s/it]"
     ]
    },
    {
     "name": "stdout",
     "output_type": "stream",
     "text": [
      "Step 27: t_curr = 823.5293579101562, t_prev = 809.5238037109375\n"
     ]
    },
    {
     "name": "stderr",
     "output_type": "stream",
     "text": [
      " 62%|██████▏   | 28/45 [02:16<01:21,  4.79s/it]"
     ]
    },
    {
     "name": "stdout",
     "output_type": "stream",
     "text": [
      "Step 28: t_curr = 809.5238037109375, t_prev = 794.3262329101562\n"
     ]
    },
    {
     "name": "stderr",
     "output_type": "stream",
     "text": [
      " 64%|██████▍   | 29/45 [02:21<01:16,  4.79s/it]"
     ]
    },
    {
     "name": "stdout",
     "output_type": "stream",
     "text": [
      "Step 29: t_curr = 794.3262329101562, t_prev = 777.77783203125\n"
     ]
    },
    {
     "name": "stderr",
     "output_type": "stream",
     "text": [
      " 67%|██████▋   | 30/45 [02:25<01:11,  4.78s/it]"
     ]
    },
    {
     "name": "stdout",
     "output_type": "stream",
     "text": [
      "Step 30: t_curr = 777.77783203125, t_prev = 759.6898803710938\n"
     ]
    },
    {
     "name": "stderr",
     "output_type": "stream",
     "text": [
      " 69%|██████▉   | 31/45 [02:30<01:06,  4.78s/it]"
     ]
    },
    {
     "name": "stdout",
     "output_type": "stream",
     "text": [
      "Step 31: t_curr = 759.6898803710938, t_prev = 739.83740234375\n"
     ]
    },
    {
     "name": "stderr",
     "output_type": "stream",
     "text": [
      " 71%|███████   | 32/45 [02:35<01:02,  4.79s/it]"
     ]
    },
    {
     "name": "stdout",
     "output_type": "stream",
     "text": [
      "Step 32: t_curr = 739.83740234375, t_prev = 717.94873046875\n"
     ]
    },
    {
     "name": "stderr",
     "output_type": "stream",
     "text": [
      " 73%|███████▎  | 33/45 [02:40<00:57,  4.79s/it]"
     ]
    },
    {
     "name": "stdout",
     "output_type": "stream",
     "text": [
      "Step 33: t_curr = 717.94873046875, t_prev = 693.6936645507812\n"
     ]
    },
    {
     "name": "stderr",
     "output_type": "stream",
     "text": [
      " 76%|███████▌  | 34/45 [02:45<00:52,  4.79s/it]"
     ]
    },
    {
     "name": "stdout",
     "output_type": "stream",
     "text": [
      "Step 34: t_curr = 693.6936645507812, t_prev = 666.6666259765625\n"
     ]
    },
    {
     "name": "stderr",
     "output_type": "stream",
     "text": [
      " 78%|███████▊  | 35/45 [02:49<00:47,  4.80s/it]"
     ]
    },
    {
     "name": "stdout",
     "output_type": "stream",
     "text": [
      "Step 35: t_curr = 666.6666259765625, t_prev = 636.3636474609375\n"
     ]
    },
    {
     "name": "stderr",
     "output_type": "stream",
     "text": [
      " 80%|████████  | 36/45 [02:54<00:43,  4.80s/it]"
     ]
    },
    {
     "name": "stdout",
     "output_type": "stream",
     "text": [
      "Step 36: t_curr = 636.3636474609375, t_prev = 602.1505737304688\n"
     ]
    },
    {
     "name": "stderr",
     "output_type": "stream",
     "text": [
      " 82%|████████▏ | 37/45 [02:59<00:38,  4.80s/it]"
     ]
    },
    {
     "name": "stdout",
     "output_type": "stream",
     "text": [
      "Step 37: t_curr = 602.1505737304688, t_prev = 563.2183837890625\n"
     ]
    },
    {
     "name": "stderr",
     "output_type": "stream",
     "text": [
      " 84%|████████▍ | 38/45 [03:04<00:33,  4.80s/it]"
     ]
    },
    {
     "name": "stdout",
     "output_type": "stream",
     "text": [
      "Step 38: t_curr = 563.2183837890625, t_prev = 518.5184936523438\n"
     ]
    },
    {
     "name": "stderr",
     "output_type": "stream",
     "text": [
      " 87%|████████▋ | 39/45 [03:09<00:28,  4.80s/it]"
     ]
    },
    {
     "name": "stdout",
     "output_type": "stream",
     "text": [
      "Step 39: t_curr = 518.5184936523438, t_prev = 466.6666259765625\n"
     ]
    },
    {
     "name": "stderr",
     "output_type": "stream",
     "text": [
      " 89%|████████▉ | 40/45 [03:13<00:24,  4.81s/it]"
     ]
    },
    {
     "name": "stdout",
     "output_type": "stream",
     "text": [
      "Step 40: t_curr = 466.6666259765625, t_prev = 405.797119140625\n"
     ]
    },
    {
     "name": "stderr",
     "output_type": "stream",
     "text": [
      " 91%|█████████ | 41/45 [03:18<00:19,  4.81s/it]"
     ]
    },
    {
     "name": "stdout",
     "output_type": "stream",
     "text": [
      "Step 41: t_curr = 405.797119140625, t_prev = 333.3333435058594\n"
     ]
    },
    {
     "name": "stderr",
     "output_type": "stream",
     "text": [
      " 93%|█████████▎| 42/45 [03:23<00:14,  4.80s/it]"
     ]
    },
    {
     "name": "stdout",
     "output_type": "stream",
     "text": [
      "Step 42: t_curr = 333.3333435058594, t_prev = 245.61404418945312\n"
     ]
    },
    {
     "name": "stderr",
     "output_type": "stream",
     "text": [
      " 96%|█████████▌| 43/45 [03:28<00:09,  4.80s/it]"
     ]
    },
    {
     "name": "stdout",
     "output_type": "stream",
     "text": [
      "Step 43: t_curr = 245.61404418945312, t_prev = 137.25491333007812\n"
     ]
    },
    {
     "name": "stderr",
     "output_type": "stream",
     "text": [
      " 98%|█████████▊| 44/45 [03:33<00:04,  4.81s/it]"
     ]
    },
    {
     "name": "stdout",
     "output_type": "stream",
     "text": [
      "Step 44: t_curr = 137.25491333007812, t_prev = 0.0\n"
     ]
    },
    {
     "name": "stderr",
     "output_type": "stream",
     "text": [
      "100%|██████████| 45/45 [03:37<00:00,  4.84s/it]\n",
      "\u001b[32m2025-04-12 17:47:28.044\u001b[0m | \u001b[1mINFO    \u001b[0m | \u001b[36mhyvideo.inference\u001b[0m:\u001b[36mpredict\u001b[0m:\u001b[36m709\u001b[0m - \u001b[1mSuccess, time: 689.5644915103912\u001b[0m\n",
      "huggingface/tokenizers: The current process just got forked, after parallelism has already been used. Disabling parallelism to avoid deadlocks...\n",
      "To disable this warning, you can either:\n",
      "\t- Avoid using `tokenizers` before the fork if possible\n",
      "\t- Explicitly set the environment variable TOKENIZERS_PARALLELISM=(true | false)\n",
      "\u001b[32m2025-04-12 17:47:30.620\u001b[0m | \u001b[1mINFO    \u001b[0m | \u001b[36m__main__\u001b[0m:\u001b[36mprocess_sample\u001b[0m:\u001b[36m175\u001b[0m - \u001b[1m保存单次结果到: ./results/rf-solver_2order/moonwalk_single_video_20250412-174728_s42.mp4\u001b[0m\n",
      "\u001b[32m2025-04-12 17:47:30.628\u001b[0m | \u001b[1mINFO    \u001b[0m | \u001b[36m__main__\u001b[0m:\u001b[36mmain\u001b[0m:\u001b[36m200\u001b[0m - \u001b[1m单视频处理完成\u001b[0m\n"
     ]
    }
   ],
   "source": [
    "%run edit_video.py \\\n",
    "    --dit-weight \"/home/chx/mySrc/HunyuanVideo/ckpts/hunyuan-video-t2v-720p/transformers/mp_rank_00_model_states_fp8.pt\" \\\n",
    "    --video-size 512 512 \\\n",
    "    --video-length 25 \\\n",
    "    --infer-steps 45 \\\n",
    "    --prompt \"a man in a white shirt and black pants wearing gray sneakers performing the moonwalk dance\" \\\n",
    "    --target-prompt \"a iron man in iron man's Suit performing the moonwalk dance\" \\\n",
    "    --inject 5 \\\n",
    "    --seed 42 \\\n",
    "    --embedded-cfg-scale 3.5 \\\n",
    "    --flow-shift 7.0 \\\n",
    "    --flow-reverse \\\n",
    "    --use-cpu-offload \\\n",
    "    --use-fp8 \\\n",
    "    --save-path ./results/rf-solver_2order \\\n",
    "    --inverse-video-path \"/data/chx/V2VBench/videos/moonwalk.mp4\""
   ]
  },
  {
   "cell_type": "code",
   "execution_count": 2,
   "metadata": {},
   "outputs": [
    {
     "name": "stderr",
     "output_type": "stream",
     "text": [
      "\u001b[32m2025-04-03 12:50:25.940\u001b[0m | \u001b[1mINFO    \u001b[0m | \u001b[36mhyvideo.inference\u001b[0m:\u001b[36mfrom_pretrained\u001b[0m:\u001b[36m155\u001b[0m - \u001b[1mGot text-to-video model root path: ckpts\u001b[0m\n",
      "\u001b[32m2025-04-03 12:50:25.941\u001b[0m | \u001b[1mINFO    \u001b[0m | \u001b[36mhyvideo.inference\u001b[0m:\u001b[36mfrom_pretrained\u001b[0m:\u001b[36m190\u001b[0m - \u001b[1mBuilding model...\u001b[0m\n"
     ]
    },
    {
     "name": "stdout",
     "output_type": "stream",
     "text": [
      "{'apply_final_norm': False,\n",
      " 'batch_size': 1,\n",
      " 'cfg_scale': 1.0,\n",
      " 'denoise_type': 'flow',\n",
      " 'disable_autocast': False,\n",
      " 'dit_weight': '/home/chx/mySrc/HunyuanVideo/ckpts/hunyuan-video-t2v-720p/transformers/mp_rank_00_model_states_fp8.pt',\n",
      " 'embedded_cfg_scale': 2.0,\n",
      " 'feature_path': 'feature',\n",
      " 'flow_reverse': True,\n",
      " 'flow_shift': 7.0,\n",
      " 'flow_solver': 'euler',\n",
      " 'hidden_state_skip_layer': 2,\n",
      " 'infer_steps': 30,\n",
      " 'inject': 5,\n",
      " 'inverse_video_path': '/data/chx/BalanceCC-rename/Result/Animal/blackswan.mp4',\n",
      " 'latent_channels': 16,\n",
      " 'linear_schedule_end': 25,\n",
      " 'load_key': 'module',\n",
      " 'model': 'HYVideo-T/2-cfgdistill',\n",
      " 'model_base': 'ckpts',\n",
      " 'model_resolution': '540p',\n",
      " 'name_suffix': '',\n",
      " 'neg_prompt': None,\n",
      " 'num_videos': 1,\n",
      " 'precision': 'bf16',\n",
      " 'prompt': 'A black swan swimming in a pond with lush greenery in the '\n",
      "           'background.',\n",
      " 'prompt_template': 'dit-llm-encode',\n",
      " 'prompt_template_video': 'dit-llm-encode-video',\n",
      " 'reproduce': False,\n",
      " 'ring_degree': 1,\n",
      " 'rope_theta': 256,\n",
      " 'save_path': './results',\n",
      " 'save_path_suffix': '',\n",
      " 'seed': 42,\n",
      " 'seed_type': 'auto',\n",
      " 'target_prompt': 'A majestic flamingo swimming in a pond with lush greenery '\n",
      "                  'in the background.',\n",
      " 'text_encoder': 'llm',\n",
      " 'text_encoder_2': 'clipL',\n",
      " 'text_encoder_precision': 'fp16',\n",
      " 'text_encoder_precision_2': 'fp16',\n",
      " 'text_len': 256,\n",
      " 'text_len_2': 77,\n",
      " 'text_states_dim': 4096,\n",
      " 'text_states_dim_2': 768,\n",
      " 'tokenizer': 'llm',\n",
      " 'tokenizer_2': 'clipL',\n",
      " 'ulysses_degree': 1,\n",
      " 'use_cpu_offload': True,\n",
      " 'use_fp8': True,\n",
      " 'use_linear_quadratic_schedule': False,\n",
      " 'vae': '884-16c-hy',\n",
      " 'vae_precision': 'fp16',\n",
      " 'vae_tiling': True,\n",
      " 'video_length': 53,\n",
      " 'video_size': [512, 512]}\n",
      "cuda\n"
     ]
    },
    {
     "name": "stderr",
     "output_type": "stream",
     "text": [
      "\u001b[32m2025-04-03 12:52:20.378\u001b[0m | \u001b[1mINFO    \u001b[0m | \u001b[36mhyvideo.inference\u001b[0m:\u001b[36mload_state_dict\u001b[0m:\u001b[36m345\u001b[0m - \u001b[1mLoading torch model /home/chx/mySrc/HunyuanVideo/ckpts/hunyuan-video-t2v-720p/transformers/mp_rank_00_model_states_fp8.pt...\u001b[0m\n",
      "\u001b[32m2025-04-03 12:53:03.710\u001b[0m | \u001b[1mINFO    \u001b[0m | \u001b[36mhyvideo.vae\u001b[0m:\u001b[36mload_vae\u001b[0m:\u001b[36m29\u001b[0m - \u001b[1mLoading 3D VAE model (884-16c-hy) from: ./ckpts/hunyuan-video-t2v-720p/vae\u001b[0m\n"
     ]
    },
    {
     "name": "stdout",
     "output_type": "stream",
     "text": [
      "loading vae\n"
     ]
    },
    {
     "name": "stderr",
     "output_type": "stream",
     "text": [
      "\u001b[32m2025-04-03 12:53:06.936\u001b[0m | \u001b[1mINFO    \u001b[0m | \u001b[36mhyvideo.vae\u001b[0m:\u001b[36mload_vae\u001b[0m:\u001b[36m55\u001b[0m - \u001b[1mVAE to dtype: torch.float16\u001b[0m\n",
      "\u001b[32m2025-04-03 12:53:06.942\u001b[0m | \u001b[1mINFO    \u001b[0m | \u001b[36mhyvideo.text_encoder\u001b[0m:\u001b[36mload_text_encoder\u001b[0m:\u001b[36m28\u001b[0m - \u001b[1mLoading text encoder model (llm) from: ./ckpts/text_encoder\u001b[0m\n",
      "Loading checkpoint shards: 100%|██████████| 4/4 [00:42<00:00, 10.56s/it]\n",
      "\u001b[32m2025-04-03 12:53:54.599\u001b[0m | \u001b[1mINFO    \u001b[0m | \u001b[36mhyvideo.text_encoder\u001b[0m:\u001b[36mload_text_encoder\u001b[0m:\u001b[36m50\u001b[0m - \u001b[1mText encoder to dtype: torch.float16\u001b[0m\n",
      "\u001b[32m2025-04-03 12:53:54.602\u001b[0m | \u001b[1mINFO    \u001b[0m | \u001b[36mhyvideo.text_encoder\u001b[0m:\u001b[36mload_tokenizer\u001b[0m:\u001b[36m64\u001b[0m - \u001b[1mLoading tokenizer (llm) from: ./ckpts/text_encoder\u001b[0m\n",
      "\u001b[32m2025-04-03 12:53:55.238\u001b[0m | \u001b[1mINFO    \u001b[0m | \u001b[36mhyvideo.text_encoder\u001b[0m:\u001b[36mload_text_encoder\u001b[0m:\u001b[36m28\u001b[0m - \u001b[1mLoading text encoder model (clipL) from: ./ckpts/text_encoder_2\u001b[0m\n",
      "\u001b[32m2025-04-03 12:53:56.092\u001b[0m | \u001b[1mINFO    \u001b[0m | \u001b[36mhyvideo.text_encoder\u001b[0m:\u001b[36mload_text_encoder\u001b[0m:\u001b[36m50\u001b[0m - \u001b[1mText encoder to dtype: torch.float16\u001b[0m\n",
      "\u001b[32m2025-04-03 12:53:56.096\u001b[0m | \u001b[1mINFO    \u001b[0m | \u001b[36mhyvideo.text_encoder\u001b[0m:\u001b[36mload_tokenizer\u001b[0m:\u001b[36m64\u001b[0m - \u001b[1mLoading tokenizer (clipL) from: ./ckpts/text_encoder_2\u001b[0m\n"
     ]
    },
    {
     "name": "stdout",
     "output_type": "stream",
     "text": [
      "Enable sequential CPU offload.\n",
      "Updated args:\n",
      "{'apply_final_norm': False,\n",
      " 'batch_size': 1,\n",
      " 'cfg_scale': 1.0,\n",
      " 'denoise_type': 'flow',\n",
      " 'disable_autocast': False,\n",
      " 'dit_weight': '/home/chx/mySrc/HunyuanVideo/ckpts/hunyuan-video-t2v-720p/transformers/mp_rank_00_model_states_fp8.pt',\n",
      " 'embedded_cfg_scale': 2.0,\n",
      " 'feature_path': 'feature',\n",
      " 'flow_reverse': True,\n",
      " 'flow_shift': 7.0,\n",
      " 'flow_solver': 'euler',\n",
      " 'hidden_state_skip_layer': 2,\n",
      " 'infer_steps': 30,\n",
      " 'inject': 5,\n",
      " 'inverse_video_path': '/data/chx/BalanceCC-rename/Result/Animal/blackswan.mp4',\n",
      " 'latent_channels': 16,\n",
      " 'linear_schedule_end': 25,\n",
      " 'load_key': 'module',\n",
      " 'model': 'HYVideo-T/2-cfgdistill',\n",
      " 'model_base': 'ckpts',\n",
      " 'model_resolution': '540p',\n",
      " 'name_suffix': '',\n",
      " 'neg_prompt': None,\n",
      " 'num_videos': 1,\n",
      " 'precision': 'bf16',\n",
      " 'prompt': 'A black swan swimming in a pond with lush greenery in the '\n",
      "           'background.',\n",
      " 'prompt_template': 'dit-llm-encode',\n",
      " 'prompt_template_video': 'dit-llm-encode-video',\n",
      " 'reproduce': False,\n",
      " 'ring_degree': 1,\n",
      " 'rope_theta': 256,\n",
      " 'save_path': './results',\n",
      " 'save_path_suffix': '',\n",
      " 'seed': 42,\n",
      " 'seed_type': 'auto',\n",
      " 'target_prompt': 'A majestic flamingo swimming in a pond with lush greenery '\n",
      "                  'in the background.',\n",
      " 'text_encoder': 'llm',\n",
      " 'text_encoder_2': 'clipL',\n",
      " 'text_encoder_precision': 'fp16',\n",
      " 'text_encoder_precision_2': 'fp16',\n",
      " 'text_len': 256,\n",
      " 'text_len_2': 77,\n",
      " 'text_states_dim': 4096,\n",
      " 'text_states_dim_2': 768,\n",
      " 'tokenizer': 'llm',\n",
      " 'tokenizer_2': 'clipL',\n",
      " 'ulysses_degree': 1,\n",
      " 'use_cpu_offload': True,\n",
      " 'use_fp8': True,\n",
      " 'use_linear_quadratic_schedule': False,\n",
      " 'vae': '884-16c-hy',\n",
      " 'vae_precision': 'fp16',\n",
      " 'vae_tiling': True,\n",
      " 'video_length': 53,\n",
      " 'video_size': [512, 512]}\n",
      "FPS of the video: 24.0\n"
     ]
    },
    {
     "name": "stderr",
     "output_type": "stream",
     "text": [
      "huggingface/tokenizers: The current process just got forked, after parallelism has already been used. Disabling parallelism to avoid deadlocks...\n",
      "To disable this warning, you can either:\n",
      "\t- Avoid using `tokenizers` before the fork if possible\n",
      "\t- Explicitly set the environment variable TOKENIZERS_PARALLELISM=(true | false)\n",
      "\u001b[32m2025-04-03 12:53:57.228\u001b[0m | \u001b[1mINFO    \u001b[0m | \u001b[36mhyvideo.inference\u001b[0m:\u001b[36mpredict\u001b[0m:\u001b[36m605\u001b[0m - \u001b[1mInput (height, width, video_length) = (512, 512, 53)\u001b[0m\n",
      "\u001b[32m2025-04-03 12:53:57.435\u001b[0m | \u001b[34m\u001b[1mDEBUG   \u001b[0m | \u001b[36mhyvideo.inference\u001b[0m:\u001b[36mpredict\u001b[0m:\u001b[36m665\u001b[0m - \u001b[34m\u001b[1m\n",
      "                        height: 512\n",
      "                         width: 512\n",
      "                  video_length: 53\n",
      "                        prompt: ['A black swan swimming in a pond with lush greenery in the background.']\n",
      "                    neg_prompt: ['Aerial view, aerial view, overexposed, low quality, deformation, a poor composition, bad hands, bad teeth, bad eyes, bad limbs, distortion']\n",
      "                          seed: 42\n",
      "                   infer_steps: 30\n",
      "         num_videos_per_prompt: 1\n",
      "                guidance_scale: 1.0\n",
      "                      n_tokens: 14336\n",
      "                    flow_shift: 7.0\n",
      "       embedded_guidance_scale: 2.0\u001b[0m\n"
     ]
    },
    {
     "name": "stdout",
     "output_type": "stream",
     "text": [
      "cuda:0\n",
      "cuda:0\n",
      "sigmas_reverse\n",
      "sigmas: tensor([0.0000, 0.1944, 0.3333, 0.4375, 0.5185, 0.5833, 0.6364, 0.6806, 0.7179,\n",
      "        0.7500, 0.7778, 0.8021, 0.8235, 0.8426, 0.8596, 0.8750, 0.8889, 0.9015,\n",
      "        0.9130, 0.9236, 0.9333, 0.9423, 0.9506, 0.9583, 0.9655, 0.9722, 0.9785,\n",
      "        0.9844, 0.9899, 0.9951, 1.0000])\n",
      "Using inversed latents\n",
      "Step 0: t = 0.0\n",
      "Step 1: t = 194.44444274902344\n",
      "Step 2: t = 333.3333435058594\n",
      "Step 3: t = 437.5000305175781\n",
      "Step 4: t = 518.5184936523438\n",
      "Step 5: t = 583.3333740234375\n",
      "Step 6: t = 636.3637084960938\n",
      "Step 7: t = 680.5556030273438\n",
      "Step 8: t = 717.94873046875\n",
      "Step 9: t = 750.0\n",
      "Step 10: t = 777.77783203125\n",
      "Step 11: t = 802.0833129882812\n",
      "Step 12: t = 823.5294189453125\n",
      "Step 13: t = 842.5925903320312\n",
      "Step 14: t = 859.6491088867188\n",
      "Step 15: t = 875.0\n",
      "Step 16: t = 888.888916015625\n",
      "Step 17: t = 901.51513671875\n",
      "Step 18: t = 913.04345703125\n",
      "Step 19: t = 923.611083984375\n",
      "Step 20: t = 933.333251953125\n",
      "Step 21: t = 942.3078002929688\n",
      "Step 22: t = 950.6172485351562\n",
      "Step 23: t = 958.3333740234375\n",
      "Step 24: t = 965.5172119140625\n",
      "Step 25: t = 972.22216796875\n",
      "Step 26: t = 978.49462890625\n",
      "Step 27: t = 984.375\n",
      "Step 28: t = 989.8989868164062\n",
      "Step 29: t = 995.0980834960938\n"
     ]
    },
    {
     "name": "stderr",
     "output_type": "stream",
     "text": [
      "  0%|          | 0/30 [00:00<?, ?it/s]"
     ]
    },
    {
     "name": "stdout",
     "output_type": "stream",
     "text": [
      "Step 0: t_curr = 0.0, t_prev = 194.44444274902344\n",
      "t:1\n"
     ]
    },
    {
     "name": "stderr",
     "output_type": "stream",
     "text": [
      "  3%|▎         | 1/30 [00:06<03:17,  6.81s/it]"
     ]
    },
    {
     "name": "stdout",
     "output_type": "stream",
     "text": [
      "Step 1: t_curr = 194.44444274902344, t_prev = 333.3333435058594\n",
      "t:2\n"
     ]
    },
    {
     "name": "stderr",
     "output_type": "stream",
     "text": [
      "  7%|▋         | 2/30 [00:13<03:10,  6.81s/it]"
     ]
    },
    {
     "name": "stdout",
     "output_type": "stream",
     "text": [
      "Step 2: t_curr = 333.3333435058594, t_prev = 437.5000305175781\n",
      "t:3\n"
     ]
    },
    {
     "name": "stderr",
     "output_type": "stream",
     "text": [
      " 10%|█         | 3/30 [00:20<03:04,  6.82s/it]"
     ]
    },
    {
     "name": "stdout",
     "output_type": "stream",
     "text": [
      "Step 3: t_curr = 437.5000305175781, t_prev = 518.5184936523438\n",
      "t:4\n"
     ]
    },
    {
     "name": "stderr",
     "output_type": "stream",
     "text": [
      " 13%|█▎        | 4/30 [00:27<02:57,  6.82s/it]"
     ]
    },
    {
     "name": "stdout",
     "output_type": "stream",
     "text": [
      "Step 4: t_curr = 518.5184936523438, t_prev = 583.3333740234375\n",
      "t:5\n"
     ]
    },
    {
     "name": "stderr",
     "output_type": "stream",
     "text": [
      " 17%|█▋        | 5/30 [00:34<02:50,  6.83s/it]"
     ]
    },
    {
     "name": "stdout",
     "output_type": "stream",
     "text": [
      "Step 5: t_curr = 583.3333740234375, t_prev = 636.3637084960938\n",
      "t:6\n"
     ]
    },
    {
     "name": "stderr",
     "output_type": "stream",
     "text": [
      " 20%|██        | 6/30 [00:40<02:44,  6.84s/it]"
     ]
    },
    {
     "name": "stdout",
     "output_type": "stream",
     "text": [
      "Step 6: t_curr = 636.3637084960938, t_prev = 680.5556030273438\n",
      "t:7\n"
     ]
    },
    {
     "name": "stderr",
     "output_type": "stream",
     "text": [
      " 23%|██▎       | 7/30 [00:47<02:37,  6.84s/it]"
     ]
    },
    {
     "name": "stdout",
     "output_type": "stream",
     "text": [
      "Step 7: t_curr = 680.5556030273438, t_prev = 717.94873046875\n",
      "t:8\n"
     ]
    },
    {
     "name": "stderr",
     "output_type": "stream",
     "text": [
      " 27%|██▋       | 8/30 [00:54<02:30,  6.85s/it]"
     ]
    },
    {
     "name": "stdout",
     "output_type": "stream",
     "text": [
      "Step 8: t_curr = 717.94873046875, t_prev = 750.0\n",
      "t:9\n"
     ]
    },
    {
     "name": "stderr",
     "output_type": "stream",
     "text": [
      " 30%|███       | 9/30 [01:01<02:24,  6.88s/it]"
     ]
    },
    {
     "name": "stdout",
     "output_type": "stream",
     "text": [
      "Step 9: t_curr = 750.0, t_prev = 777.77783203125\n",
      "t:10\n"
     ]
    },
    {
     "name": "stderr",
     "output_type": "stream",
     "text": [
      " 33%|███▎      | 10/30 [01:08<02:17,  6.89s/it]"
     ]
    },
    {
     "name": "stdout",
     "output_type": "stream",
     "text": [
      "Step 10: t_curr = 777.77783203125, t_prev = 802.0833129882812\n",
      "t:11\n"
     ]
    },
    {
     "name": "stderr",
     "output_type": "stream",
     "text": [
      " 37%|███▋      | 11/30 [01:15<02:11,  6.89s/it]"
     ]
    },
    {
     "name": "stdout",
     "output_type": "stream",
     "text": [
      "Step 11: t_curr = 802.0833129882812, t_prev = 823.5294189453125\n",
      "t:12\n"
     ]
    },
    {
     "name": "stderr",
     "output_type": "stream",
     "text": [
      " 40%|████      | 12/30 [01:22<02:04,  6.90s/it]"
     ]
    },
    {
     "name": "stdout",
     "output_type": "stream",
     "text": [
      "Step 12: t_curr = 823.5294189453125, t_prev = 842.5925903320312\n",
      "t:13\n"
     ]
    },
    {
     "name": "stderr",
     "output_type": "stream",
     "text": [
      " 43%|████▎     | 13/30 [01:29<01:57,  6.91s/it]"
     ]
    },
    {
     "name": "stdout",
     "output_type": "stream",
     "text": [
      "Step 13: t_curr = 842.5925903320312, t_prev = 859.6491088867188\n",
      "t:14\n"
     ]
    },
    {
     "name": "stderr",
     "output_type": "stream",
     "text": [
      " 47%|████▋     | 14/30 [01:36<01:50,  6.91s/it]"
     ]
    },
    {
     "name": "stdout",
     "output_type": "stream",
     "text": [
      "Step 14: t_curr = 859.6491088867188, t_prev = 875.0\n",
      "t:15\n"
     ]
    },
    {
     "name": "stderr",
     "output_type": "stream",
     "text": [
      " 50%|█████     | 15/30 [01:43<01:43,  6.91s/it]"
     ]
    },
    {
     "name": "stdout",
     "output_type": "stream",
     "text": [
      "Step 15: t_curr = 875.0, t_prev = 888.888916015625\n",
      "t:16\n"
     ]
    },
    {
     "name": "stderr",
     "output_type": "stream",
     "text": [
      " 53%|█████▎    | 16/30 [01:50<01:36,  6.91s/it]"
     ]
    },
    {
     "name": "stdout",
     "output_type": "stream",
     "text": [
      "Step 16: t_curr = 888.888916015625, t_prev = 901.51513671875\n",
      "t:17\n"
     ]
    },
    {
     "name": "stderr",
     "output_type": "stream",
     "text": [
      " 57%|█████▋    | 17/30 [01:56<01:30,  6.93s/it]"
     ]
    },
    {
     "name": "stdout",
     "output_type": "stream",
     "text": [
      "Step 17: t_curr = 901.51513671875, t_prev = 913.04345703125\n",
      "t:18\n"
     ]
    },
    {
     "name": "stderr",
     "output_type": "stream",
     "text": [
      " 60%|██████    | 18/30 [02:03<01:23,  6.93s/it]"
     ]
    },
    {
     "name": "stdout",
     "output_type": "stream",
     "text": [
      "Step 18: t_curr = 913.04345703125, t_prev = 923.611083984375\n",
      "t:19\n"
     ]
    },
    {
     "name": "stderr",
     "output_type": "stream",
     "text": [
      " 63%|██████▎   | 19/30 [02:10<01:16,  6.93s/it]"
     ]
    },
    {
     "name": "stdout",
     "output_type": "stream",
     "text": [
      "Step 19: t_curr = 923.611083984375, t_prev = 933.333251953125\n",
      "t:20\n"
     ]
    },
    {
     "name": "stderr",
     "output_type": "stream",
     "text": [
      " 67%|██████▋   | 20/30 [02:17<01:09,  6.92s/it]"
     ]
    },
    {
     "name": "stdout",
     "output_type": "stream",
     "text": [
      "Step 20: t_curr = 933.333251953125, t_prev = 942.3078002929688\n",
      "t:21\n"
     ]
    },
    {
     "name": "stderr",
     "output_type": "stream",
     "text": [
      " 70%|███████   | 21/30 [02:24<01:02,  6.89s/it]"
     ]
    },
    {
     "name": "stdout",
     "output_type": "stream",
     "text": [
      "Step 21: t_curr = 942.3078002929688, t_prev = 950.6172485351562\n",
      "t:22\n"
     ]
    },
    {
     "name": "stderr",
     "output_type": "stream",
     "text": [
      " 73%|███████▎  | 22/30 [02:31<00:54,  6.87s/it]"
     ]
    },
    {
     "name": "stdout",
     "output_type": "stream",
     "text": [
      "Step 22: t_curr = 950.6172485351562, t_prev = 958.3333740234375\n",
      "t:23\n"
     ]
    },
    {
     "name": "stderr",
     "output_type": "stream",
     "text": [
      " 77%|███████▋  | 23/30 [02:38<00:48,  6.87s/it]"
     ]
    },
    {
     "name": "stdout",
     "output_type": "stream",
     "text": [
      "Step 23: t_curr = 958.3333740234375, t_prev = 965.5172119140625\n",
      "t:24\n"
     ]
    },
    {
     "name": "stderr",
     "output_type": "stream",
     "text": [
      " 80%|████████  | 24/30 [02:45<00:41,  6.87s/it]"
     ]
    },
    {
     "name": "stdout",
     "output_type": "stream",
     "text": [
      "Step 24: t_curr = 965.5172119140625, t_prev = 972.22216796875\n",
      "t:25\n"
     ]
    },
    {
     "name": "stderr",
     "output_type": "stream",
     "text": [
      " 83%|████████▎ | 25/30 [02:51<00:34,  6.86s/it]"
     ]
    },
    {
     "name": "stdout",
     "output_type": "stream",
     "text": [
      "Step 25: t_curr = 972.22216796875, t_prev = 978.49462890625\n",
      "t:26\n"
     ]
    },
    {
     "name": "stderr",
     "output_type": "stream",
     "text": [
      " 87%|████████▋ | 26/30 [03:01<00:30,  7.55s/it]"
     ]
    },
    {
     "name": "stdout",
     "output_type": "stream",
     "text": [
      "Step 26: t_curr = 978.49462890625, t_prev = 984.375\n",
      "t:27\n"
     ]
    },
    {
     "name": "stderr",
     "output_type": "stream",
     "text": [
      " 90%|█████████ | 27/30 [03:09<00:23,  7.92s/it]"
     ]
    },
    {
     "name": "stdout",
     "output_type": "stream",
     "text": [
      "Step 27: t_curr = 984.375, t_prev = 989.8989868164062\n",
      "t:28\n"
     ]
    },
    {
     "name": "stderr",
     "output_type": "stream",
     "text": [
      " 93%|█████████▎| 28/30 [03:18<00:16,  8.13s/it]"
     ]
    },
    {
     "name": "stdout",
     "output_type": "stream",
     "text": [
      "Step 28: t_curr = 989.8989868164062, t_prev = 995.0980834960938\n",
      "t:29\n"
     ]
    },
    {
     "name": "stderr",
     "output_type": "stream",
     "text": [
      " 97%|█████████▋| 29/30 [03:27<00:08,  8.30s/it]"
     ]
    },
    {
     "name": "stdout",
     "output_type": "stream",
     "text": [
      "Step 29: t_curr = 995.0980834960938, t_prev = 1000.0\n",
      "t:30\n"
     ]
    },
    {
     "name": "stderr",
     "output_type": "stream",
     "text": [
      "100%|██████████| 30/30 [03:35<00:00,  7.20s/it]\n"
     ]
    },
    {
     "name": "stdout",
     "output_type": "stream",
     "text": [
      "cuda:0\n",
      "cuda:0\n",
      "sigmas: tensor([1.0000, 0.9951, 0.9899, 0.9844, 0.9785, 0.9722, 0.9655, 0.9583, 0.9506,\n",
      "        0.9423, 0.9333, 0.9236, 0.9130, 0.9015, 0.8889, 0.8750, 0.8596, 0.8426,\n",
      "        0.8235, 0.8021, 0.7778, 0.7500, 0.7179, 0.6806, 0.6364, 0.5833, 0.5185,\n",
      "        0.4375, 0.3333, 0.1944, 0.0000])\n",
      "Using inversed latents\n",
      "Step 0: t = 1000.0\n",
      "Step 1: t = 995.0980834960938\n",
      "Step 2: t = 989.8989868164062\n",
      "Step 3: t = 984.375\n",
      "Step 4: t = 978.49462890625\n",
      "Step 5: t = 972.22216796875\n",
      "Step 6: t = 965.5172119140625\n",
      "Step 7: t = 958.3333740234375\n",
      "Step 8: t = 950.6172485351562\n",
      "Step 9: t = 942.3078002929688\n",
      "Step 10: t = 933.333251953125\n",
      "Step 11: t = 923.611083984375\n",
      "Step 12: t = 913.04345703125\n",
      "Step 13: t = 901.51513671875\n",
      "Step 14: t = 888.888916015625\n",
      "Step 15: t = 875.0\n",
      "Step 16: t = 859.6491088867188\n",
      "Step 17: t = 842.5925903320312\n",
      "Step 18: t = 823.5294189453125\n",
      "Step 19: t = 802.0833129882812\n",
      "Step 20: t = 777.77783203125\n",
      "Step 21: t = 750.0\n",
      "Step 22: t = 717.94873046875\n",
      "Step 23: t = 680.5556030273438\n",
      "Step 24: t = 636.3637084960938\n",
      "Step 25: t = 583.3333740234375\n",
      "Step 26: t = 518.5184936523438\n",
      "Step 27: t = 437.5000305175781\n",
      "Step 28: t = 333.3333435058594\n",
      "Step 29: t = 194.44444274902344\n"
     ]
    },
    {
     "name": "stderr",
     "output_type": "stream",
     "text": [
      "  0%|          | 0/30 [00:00<?, ?it/s]"
     ]
    },
    {
     "name": "stdout",
     "output_type": "stream",
     "text": [
      "Step 0: t_curr = 1000.0, t_prev = 995.0980834960938\n",
      "t:30\n"
     ]
    },
    {
     "name": "stderr",
     "output_type": "stream",
     "text": [
      "  3%|▎         | 1/30 [00:07<03:24,  7.06s/it]"
     ]
    },
    {
     "name": "stdout",
     "output_type": "stream",
     "text": [
      "Step 1: t_curr = 995.0980834960938, t_prev = 989.8989868164062\n",
      "t:29\n"
     ]
    },
    {
     "name": "stderr",
     "output_type": "stream",
     "text": [
      "  7%|▋         | 2/30 [00:14<03:18,  7.08s/it]"
     ]
    },
    {
     "name": "stdout",
     "output_type": "stream",
     "text": [
      "Step 2: t_curr = 989.8989868164062, t_prev = 984.375\n",
      "t:28\n"
     ]
    },
    {
     "name": "stderr",
     "output_type": "stream",
     "text": [
      " 10%|█         | 3/30 [00:21<03:11,  7.09s/it]"
     ]
    },
    {
     "name": "stdout",
     "output_type": "stream",
     "text": [
      "Step 3: t_curr = 984.375, t_prev = 978.49462890625\n",
      "t:27\n"
     ]
    },
    {
     "name": "stderr",
     "output_type": "stream",
     "text": [
      " 13%|█▎        | 4/30 [00:28<03:05,  7.12s/it]"
     ]
    },
    {
     "name": "stdout",
     "output_type": "stream",
     "text": [
      "Step 4: t_curr = 978.49462890625, t_prev = 972.22216796875\n",
      "t:26\n"
     ]
    },
    {
     "name": "stderr",
     "output_type": "stream",
     "text": [
      " 17%|█▋        | 5/30 [00:35<02:59,  7.19s/it]"
     ]
    },
    {
     "name": "stdout",
     "output_type": "stream",
     "text": [
      "Step 5: t_curr = 972.22216796875, t_prev = 965.5172119140625\n",
      "t:25\n"
     ]
    },
    {
     "name": "stderr",
     "output_type": "stream",
     "text": [
      " 20%|██        | 6/30 [00:42<02:49,  7.07s/it]"
     ]
    },
    {
     "name": "stdout",
     "output_type": "stream",
     "text": [
      "Step 6: t_curr = 965.5172119140625, t_prev = 958.3333740234375\n",
      "t:24\n"
     ]
    },
    {
     "name": "stderr",
     "output_type": "stream",
     "text": [
      " 23%|██▎       | 7/30 [00:49<02:40,  6.99s/it]"
     ]
    },
    {
     "name": "stdout",
     "output_type": "stream",
     "text": [
      "Step 7: t_curr = 958.3333740234375, t_prev = 950.6172485351562\n",
      "t:23\n"
     ]
    },
    {
     "name": "stderr",
     "output_type": "stream",
     "text": [
      " 27%|██▋       | 8/30 [00:56<02:32,  6.94s/it]"
     ]
    },
    {
     "name": "stdout",
     "output_type": "stream",
     "text": [
      "Step 8: t_curr = 950.6172485351562, t_prev = 942.3078002929688\n",
      "t:22\n"
     ]
    },
    {
     "name": "stderr",
     "output_type": "stream",
     "text": [
      " 30%|███       | 9/30 [01:03<02:25,  6.91s/it]"
     ]
    },
    {
     "name": "stdout",
     "output_type": "stream",
     "text": [
      "Step 9: t_curr = 942.3078002929688, t_prev = 933.333251953125\n",
      "t:21\n"
     ]
    },
    {
     "name": "stderr",
     "output_type": "stream",
     "text": [
      " 33%|███▎      | 10/30 [01:09<02:17,  6.88s/it]"
     ]
    },
    {
     "name": "stdout",
     "output_type": "stream",
     "text": [
      "Step 10: t_curr = 933.333251953125, t_prev = 923.611083984375\n",
      "t:20\n"
     ]
    },
    {
     "name": "stderr",
     "output_type": "stream",
     "text": [
      " 37%|███▋      | 11/30 [01:16<02:10,  6.88s/it]"
     ]
    },
    {
     "name": "stdout",
     "output_type": "stream",
     "text": [
      "Step 11: t_curr = 923.611083984375, t_prev = 913.04345703125\n",
      "t:19\n"
     ]
    },
    {
     "name": "stderr",
     "output_type": "stream",
     "text": [
      " 40%|████      | 12/30 [01:23<02:04,  6.89s/it]"
     ]
    },
    {
     "name": "stdout",
     "output_type": "stream",
     "text": [
      "Step 12: t_curr = 913.04345703125, t_prev = 901.51513671875\n",
      "t:18\n"
     ]
    },
    {
     "name": "stderr",
     "output_type": "stream",
     "text": [
      " 43%|████▎     | 13/30 [01:30<01:57,  6.90s/it]"
     ]
    },
    {
     "name": "stdout",
     "output_type": "stream",
     "text": [
      "Step 13: t_curr = 901.51513671875, t_prev = 888.888916015625\n",
      "t:17\n"
     ]
    },
    {
     "name": "stderr",
     "output_type": "stream",
     "text": [
      " 47%|████▋     | 14/30 [01:37<01:50,  6.92s/it]"
     ]
    },
    {
     "name": "stdout",
     "output_type": "stream",
     "text": [
      "Step 14: t_curr = 888.888916015625, t_prev = 875.0\n",
      "t:16\n"
     ]
    },
    {
     "name": "stderr",
     "output_type": "stream",
     "text": [
      " 50%|█████     | 15/30 [01:44<01:44,  6.95s/it]"
     ]
    },
    {
     "name": "stdout",
     "output_type": "stream",
     "text": [
      "Step 15: t_curr = 875.0, t_prev = 859.6491088867188\n",
      "t:15\n"
     ]
    },
    {
     "name": "stderr",
     "output_type": "stream",
     "text": [
      " 53%|█████▎    | 16/30 [01:51<01:37,  6.93s/it]"
     ]
    },
    {
     "name": "stdout",
     "output_type": "stream",
     "text": [
      "Step 16: t_curr = 859.6491088867188, t_prev = 842.5925903320312\n",
      "t:14\n"
     ]
    },
    {
     "name": "stderr",
     "output_type": "stream",
     "text": [
      " 57%|█████▋    | 17/30 [01:58<01:29,  6.91s/it]"
     ]
    },
    {
     "name": "stdout",
     "output_type": "stream",
     "text": [
      "Step 17: t_curr = 842.5925903320312, t_prev = 823.5294189453125\n",
      "t:13\n"
     ]
    },
    {
     "name": "stderr",
     "output_type": "stream",
     "text": [
      " 60%|██████    | 18/30 [02:05<01:22,  6.89s/it]"
     ]
    },
    {
     "name": "stdout",
     "output_type": "stream",
     "text": [
      "Step 18: t_curr = 823.5294189453125, t_prev = 802.0833129882812\n",
      "t:12\n"
     ]
    },
    {
     "name": "stderr",
     "output_type": "stream",
     "text": [
      " 63%|██████▎   | 19/30 [02:12<01:15,  6.88s/it]"
     ]
    },
    {
     "name": "stdout",
     "output_type": "stream",
     "text": [
      "Step 19: t_curr = 802.0833129882812, t_prev = 777.77783203125\n",
      "t:11\n"
     ]
    },
    {
     "name": "stderr",
     "output_type": "stream",
     "text": [
      " 67%|██████▋   | 20/30 [02:18<01:08,  6.87s/it]"
     ]
    },
    {
     "name": "stdout",
     "output_type": "stream",
     "text": [
      "Step 20: t_curr = 777.77783203125, t_prev = 750.0\n",
      "t:10\n"
     ]
    },
    {
     "name": "stderr",
     "output_type": "stream",
     "text": [
      " 70%|███████   | 21/30 [02:25<01:01,  6.86s/it]"
     ]
    },
    {
     "name": "stdout",
     "output_type": "stream",
     "text": [
      "Step 21: t_curr = 750.0, t_prev = 717.94873046875\n",
      "t:9\n"
     ]
    },
    {
     "name": "stderr",
     "output_type": "stream",
     "text": [
      " 73%|███████▎  | 22/30 [02:32<00:54,  6.86s/it]"
     ]
    },
    {
     "name": "stdout",
     "output_type": "stream",
     "text": [
      "Step 22: t_curr = 717.94873046875, t_prev = 680.5556030273438\n",
      "t:8\n"
     ]
    },
    {
     "name": "stderr",
     "output_type": "stream",
     "text": [
      " 77%|███████▋  | 23/30 [02:39<00:48,  6.87s/it]"
     ]
    },
    {
     "name": "stdout",
     "output_type": "stream",
     "text": [
      "Step 23: t_curr = 680.5556030273438, t_prev = 636.3637084960938\n",
      "t:7\n"
     ]
    },
    {
     "name": "stderr",
     "output_type": "stream",
     "text": [
      " 80%|████████  | 24/30 [02:46<00:41,  6.86s/it]"
     ]
    },
    {
     "name": "stdout",
     "output_type": "stream",
     "text": [
      "Step 24: t_curr = 636.3637084960938, t_prev = 583.3333740234375\n",
      "t:6\n"
     ]
    },
    {
     "name": "stderr",
     "output_type": "stream",
     "text": [
      " 83%|████████▎ | 25/30 [02:53<00:34,  6.87s/it]"
     ]
    },
    {
     "name": "stdout",
     "output_type": "stream",
     "text": [
      "Step 25: t_curr = 583.3333740234375, t_prev = 518.5184936523438\n",
      "t:5\n"
     ]
    },
    {
     "name": "stderr",
     "output_type": "stream",
     "text": [
      " 87%|████████▋ | 26/30 [03:00<00:27,  6.88s/it]"
     ]
    },
    {
     "name": "stdout",
     "output_type": "stream",
     "text": [
      "Step 26: t_curr = 518.5184936523438, t_prev = 437.5000305175781\n",
      "t:4\n"
     ]
    },
    {
     "name": "stderr",
     "output_type": "stream",
     "text": [
      " 90%|█████████ | 27/30 [03:06<00:20,  6.87s/it]"
     ]
    },
    {
     "name": "stdout",
     "output_type": "stream",
     "text": [
      "Step 27: t_curr = 437.5000305175781, t_prev = 333.3333435058594\n",
      "t:3\n"
     ]
    },
    {
     "name": "stderr",
     "output_type": "stream",
     "text": [
      " 93%|█████████▎| 28/30 [03:13<00:13,  6.87s/it]"
     ]
    },
    {
     "name": "stdout",
     "output_type": "stream",
     "text": [
      "Step 28: t_curr = 333.3333435058594, t_prev = 194.44444274902344\n",
      "t:2\n"
     ]
    },
    {
     "name": "stderr",
     "output_type": "stream",
     "text": [
      " 97%|█████████▋| 29/30 [03:20<00:06,  6.86s/it]"
     ]
    },
    {
     "name": "stdout",
     "output_type": "stream",
     "text": [
      "Step 29: t_curr = 194.44444274902344, t_prev = 0.0\n",
      "t:1\n"
     ]
    },
    {
     "name": "stderr",
     "output_type": "stream",
     "text": [
      "100%|██████████| 30/30 [03:27<00:00,  6.92s/it]\n",
      "\u001b[32m2025-04-03 13:01:46.524\u001b[0m | \u001b[1mINFO    \u001b[0m | \u001b[36mhyvideo.inference\u001b[0m:\u001b[36mpredict\u001b[0m:\u001b[36m709\u001b[0m - \u001b[1mSuccess, time: 469.08821153640747\u001b[0m\n",
      "huggingface/tokenizers: The current process just got forked, after parallelism has already been used. Disabling parallelism to avoid deadlocks...\n",
      "To disable this warning, you can either:\n",
      "\t- Avoid using `tokenizers` before the fork if possible\n",
      "\t- Explicitly set the environment variable TOKENIZERS_PARALLELISM=(true | false)\n",
      "\u001b[32m2025-04-03 13:01:49.657\u001b[0m | \u001b[1mINFO    \u001b[0m | \u001b[36m__main__\u001b[0m:\u001b[36mmain\u001b[0m:\u001b[36m89\u001b[0m - \u001b[1mSample save to: ./results/2025-04-03-13:01:46_seed42_A black swan swimming in a pond with lush greenery in the background..mp4\u001b[0m\n"
     ]
    }
   ],
   "source": [
    "%run edit_video.py \\\n",
    "    --dit-weight \"/home/chx/mySrc/HunyuanVideo/ckpts/hunyuan-video-t2v-720p/transformers/mp_rank_00_model_states_fp8.pt\" \\\n",
    "    --video-size 512 512 \\\n",
    "    --video-length 53 \\\n",
    "    --infer-steps 30 \\\n",
    "    --prompt \"A black swan swimming in a pond with lush greenery in the background.\" \\\n",
    "    --target-prompt \"A majestic flamingo swimming in a pond with lush greenery in the background.\" \\\n",
    "    --inject 5 \\\n",
    "    --seed 42 \\\n",
    "    --embedded-cfg-scale 2 \\\n",
    "    --flow-shift 7.0 \\\n",
    "    --flow-reverse \\\n",
    "    --use-cpu-offload \\\n",
    "    --use-fp8 \\\n",
    "    --save-path ./results \\\n",
    "    --inverse-video-path \"/data/chx/BalanceCC-rename/Result/Animal/blackswan.mp4\""
   ]
  },
  {
   "cell_type": "code",
   "execution_count": 1,
   "metadata": {},
   "outputs": [
    {
     "name": "stderr",
     "output_type": "stream",
     "text": [
      "/data/chx/anaconda3/envs/HunyuanVideo-std/lib/python3.10/site-packages/tqdm/auto.py:21: TqdmWarning: IProgress not found. Please update jupyter and ipywidgets. See https://ipywidgets.readthedocs.io/en/stable/user_install.html\n",
      "  from .autonotebook import tqdm as notebook_tqdm\n",
      "\u001b[32m2025-01-14 20:33:19.204\u001b[0m | \u001b[1mINFO    \u001b[0m | \u001b[36mhyvideo.inference\u001b[0m:\u001b[36mfrom_pretrained\u001b[0m:\u001b[36m154\u001b[0m - \u001b[1mGot text-to-video model root path: ckpts\u001b[0m\n",
      "\u001b[32m2025-01-14 20:33:19.205\u001b[0m | \u001b[1mINFO    \u001b[0m | \u001b[36mhyvideo.inference\u001b[0m:\u001b[36mfrom_pretrained\u001b[0m:\u001b[36m189\u001b[0m - \u001b[1mBuilding model...\u001b[0m\n"
     ]
    },
    {
     "name": "stdout",
     "output_type": "stream",
     "text": [
      "detect you are not use the latest yunchang. Please install yunchang>=0.4.0\n",
      "Namespace(model='HYVideo-T/2-cfgdistill', latent_channels=16, precision='bf16', rope_theta=256, vae='884-16c-hy', vae_precision='fp16', vae_tiling=True, text_encoder='llm', text_encoder_precision='fp16', text_states_dim=4096, text_len=256, tokenizer='llm', prompt_template='dit-llm-encode', prompt_template_video='dit-llm-encode-video', hidden_state_skip_layer=2, apply_final_norm=False, text_encoder_2='clipL', text_encoder_precision_2='fp16', text_states_dim_2=768, tokenizer_2='clipL', text_len_2=77, denoise_type='flow', flow_shift=7.0, flow_reverse=True, flow_solver='euler', use_linear_quadratic_schedule=False, linear_schedule_end=25, model_base='ckpts', dit_weight='/home/chx/mySrc/HunyuanVideo/ckpts/hunyuan-video-t2v-720p/transformers/mp_rank_00_model_states_fp8.pt', model_resolution='540p', load_key='module', use_cpu_offload=True, batch_size=1, infer_steps=30, disable_autocast=False, save_path='./results', save_path_suffix='', name_suffix='', num_videos=1, video_size=[512, 512], video_length=25, prompt='A cat walks on the grass, realistic style.', seed_type='auto', seed=42, neg_prompt=None, cfg_scale=1.0, embedded_cfg_scale=6.0, use_fp8=True, reproduce=False, ulysses_degree=1, ring_degree=1, inverse_video_path='/home/chx/mySrc/HunyuanVideo', target_prompt=None)\n",
      "cuda\n"
     ]
    },
    {
     "name": "stderr",
     "output_type": "stream",
     "text": [
      "/home/chx/mySrc/HunyuanVideo/hyvideo/modules/fp8_optimization.py:88: FutureWarning: You are using `torch.load` with `weights_only=False` (the current default value), which uses the default pickle module implicitly. It is possible to construct malicious pickle data which will execute arbitrary code during unpickling (See https://github.com/pytorch/pytorch/blob/main/SECURITY.md#untrusted-models for more details). In a future release, the default value for `weights_only` will be flipped to `True`. This limits the functions that could be executed during unpickling. Arbitrary objects will no longer be allowed to be loaded via this mode unless they are explicitly allowlisted by the user via `torch.serialization.add_safe_globals`. We recommend you start setting `weights_only=True` for any use case where you don't have full control of the loaded file. Please open an issue on GitHub for any issues related to this experimental feature.\n",
      "  fp8_map = torch.load(fp8_map_path, map_location=lambda storage, loc: storage)\n",
      "\u001b[32m2025-01-14 20:35:44.555\u001b[0m | \u001b[1mINFO    \u001b[0m | \u001b[36mhyvideo.inference\u001b[0m:\u001b[36mload_state_dict\u001b[0m:\u001b[36m344\u001b[0m - \u001b[1mLoading torch model /home/chx/mySrc/HunyuanVideo/ckpts/hunyuan-video-t2v-720p/transformers/mp_rank_00_model_states_fp8.pt...\u001b[0m\n",
      "/home/chx/mySrc/HunyuanVideo/hyvideo/inference.py:345: FutureWarning: You are using `torch.load` with `weights_only=False` (the current default value), which uses the default pickle module implicitly. It is possible to construct malicious pickle data which will execute arbitrary code during unpickling (See https://github.com/pytorch/pytorch/blob/main/SECURITY.md#untrusted-models for more details). In a future release, the default value for `weights_only` will be flipped to `True`. This limits the functions that could be executed during unpickling. Arbitrary objects will no longer be allowed to be loaded via this mode unless they are explicitly allowlisted by the user via `torch.serialization.add_safe_globals`. We recommend you start setting `weights_only=True` for any use case where you don't have full control of the loaded file. Please open an issue on GitHub for any issues related to this experimental feature.\n",
      "  state_dict = torch.load(model_path, map_location=lambda storage, loc: storage)\n",
      "\u001b[32m2025-01-14 20:35:58.311\u001b[0m | \u001b[1mINFO    \u001b[0m | \u001b[36mhyvideo.vae\u001b[0m:\u001b[36mload_vae\u001b[0m:\u001b[36m29\u001b[0m - \u001b[1mLoading 3D VAE model (884-16c-hy) from: ./ckpts/hunyuan-video-t2v-720p/vae\u001b[0m\n"
     ]
    },
    {
     "name": "stdout",
     "output_type": "stream",
     "text": [
      "loading vae\n"
     ]
    },
    {
     "name": "stderr",
     "output_type": "stream",
     "text": [
      "/home/chx/mySrc/HunyuanVideo/hyvideo/vae/__init__.py:39: FutureWarning: You are using `torch.load` with `weights_only=False` (the current default value), which uses the default pickle module implicitly. It is possible to construct malicious pickle data which will execute arbitrary code during unpickling (See https://github.com/pytorch/pytorch/blob/main/SECURITY.md#untrusted-models for more details). In a future release, the default value for `weights_only` will be flipped to `True`. This limits the functions that could be executed during unpickling. Arbitrary objects will no longer be allowed to be loaded via this mode unless they are explicitly allowlisted by the user via `torch.serialization.add_safe_globals`. We recommend you start setting `weights_only=True` for any use case where you don't have full control of the loaded file. Please open an issue on GitHub for any issues related to this experimental feature.\n",
      "  ckpt = torch.load(vae_ckpt, map_location=vae.device)\n",
      "\u001b[32m2025-01-14 20:36:02.525\u001b[0m | \u001b[1mINFO    \u001b[0m | \u001b[36mhyvideo.vae\u001b[0m:\u001b[36mload_vae\u001b[0m:\u001b[36m55\u001b[0m - \u001b[1mVAE to dtype: torch.float16\u001b[0m\n",
      "\u001b[32m2025-01-14 20:36:02.534\u001b[0m | \u001b[1mINFO    \u001b[0m | \u001b[36mhyvideo.text_encoder\u001b[0m:\u001b[36mload_text_encoder\u001b[0m:\u001b[36m28\u001b[0m - \u001b[1mLoading text encoder model (llm) from: ./ckpts/text_encoder\u001b[0m\n",
      "Loading checkpoint shards: 100%|██████████| 4/4 [00:05<00:00,  1.36s/it]\n",
      "\u001b[32m2025-01-14 20:36:13.190\u001b[0m | \u001b[1mINFO    \u001b[0m | \u001b[36mhyvideo.text_encoder\u001b[0m:\u001b[36mload_text_encoder\u001b[0m:\u001b[36m50\u001b[0m - \u001b[1mText encoder to dtype: torch.float16\u001b[0m\n",
      "\u001b[32m2025-01-14 20:36:13.194\u001b[0m | \u001b[1mINFO    \u001b[0m | \u001b[36mhyvideo.text_encoder\u001b[0m:\u001b[36mload_tokenizer\u001b[0m:\u001b[36m64\u001b[0m - \u001b[1mLoading tokenizer (llm) from: ./ckpts/text_encoder\u001b[0m\n",
      "\u001b[32m2025-01-14 20:36:13.772\u001b[0m | \u001b[1mINFO    \u001b[0m | \u001b[36mhyvideo.text_encoder\u001b[0m:\u001b[36mload_text_encoder\u001b[0m:\u001b[36m28\u001b[0m - \u001b[1mLoading text encoder model (clipL) from: ./ckpts/text_encoder_2\u001b[0m\n",
      "\u001b[32m2025-01-14 20:36:14.716\u001b[0m | \u001b[1mINFO    \u001b[0m | \u001b[36mhyvideo.text_encoder\u001b[0m:\u001b[36mload_text_encoder\u001b[0m:\u001b[36m50\u001b[0m - \u001b[1mText encoder to dtype: torch.float16\u001b[0m\n",
      "\u001b[32m2025-01-14 20:36:14.719\u001b[0m | \u001b[1mINFO    \u001b[0m | \u001b[36mhyvideo.text_encoder\u001b[0m:\u001b[36mload_tokenizer\u001b[0m:\u001b[36m64\u001b[0m - \u001b[1mLoading tokenizer (clipL) from: ./ckpts/text_encoder_2\u001b[0m\n",
      "\u001b[32m2025-01-14 20:36:14.917\u001b[0m | \u001b[1mINFO    \u001b[0m | \u001b[36mhyvideo.inference\u001b[0m:\u001b[36mpredict\u001b[0m:\u001b[36m590\u001b[0m - \u001b[1mInput (height, width, video_length) = (512, 512, 25)\u001b[0m\n"
     ]
    },
    {
     "name": "stdout",
     "output_type": "stream",
     "text": [
      "Enable sequential CPU offload.\n"
     ]
    },
    {
     "name": "stderr",
     "output_type": "stream",
     "text": [
      "\u001b[32m2025-01-14 20:36:15.189\u001b[0m | \u001b[34m\u001b[1mDEBUG   \u001b[0m | \u001b[36mhyvideo.inference\u001b[0m:\u001b[36mpredict\u001b[0m:\u001b[36m650\u001b[0m - \u001b[34m\u001b[1m\n",
      "                        height: 512\n",
      "                         width: 512\n",
      "                  video_length: 25\n",
      "                        prompt: ['A cat walks on the grass, realistic style.']\n",
      "                    neg_prompt: ['Aerial view, aerial view, overexposed, low quality, deformation, a poor composition, bad hands, bad teeth, bad eyes, bad limbs, distortion']\n",
      "                          seed: 42\n",
      "                   infer_steps: 30\n",
      "         num_videos_per_prompt: 1\n",
      "                guidance_scale: 1.0\n",
      "                      n_tokens: 7168\n",
      "                    flow_shift: 7.0\n",
      "       embedded_guidance_scale: 6.0\u001b[0m\n"
     ]
    },
    {
     "name": "stdout",
     "output_type": "stream",
     "text": [
      "self._execution_device cuda:0\n",
      "cuda:0\n",
      "cuda:0\n",
      "Step 0: t = 1000.0\n",
      "Step 1: t = 995.0980834960938\n",
      "Step 2: t = 989.8989868164062\n",
      "Step 3: t = 984.375\n",
      "Step 4: t = 978.49462890625\n",
      "Step 5: t = 972.22216796875\n",
      "Step 6: t = 965.5172119140625\n",
      "Step 7: t = 958.3333740234375\n",
      "Step 8: t = 950.6172485351562\n",
      "Step 9: t = 942.3078002929688\n",
      "Step 10: t = 933.333251953125\n",
      "Step 11: t = 923.611083984375\n",
      "Step 12: t = 913.04345703125\n",
      "Step 13: t = 901.51513671875\n",
      "Step 14: t = 888.888916015625\n",
      "Step 15: t = 875.0\n",
      "Step 16: t = 859.6491088867188\n",
      "Step 17: t = 842.5925903320312\n",
      "Step 18: t = 823.5294189453125\n",
      "Step 19: t = 802.0833129882812\n",
      "Step 20: t = 777.77783203125\n",
      "Step 21: t = 750.0\n",
      "Step 22: t = 717.94873046875\n",
      "Step 23: t = 680.5556030273438\n",
      "Step 24: t = 636.3637084960938\n",
      "Step 25: t = 583.3333740234375\n",
      "Step 26: t = 518.5184936523438\n",
      "Step 27: t = 437.5000305175781\n",
      "Step 28: t = 333.3333435058594\n",
      "Step 29: t = 194.44444274902344\n"
     ]
    },
    {
     "name": "stderr",
     "output_type": "stream",
     "text": [
      "100%|██████████| 30/30 [00:49<00:00,  1.64s/it]\n",
      "\u001b[32m2025-01-14 20:37:23.031\u001b[0m | \u001b[1mINFO    \u001b[0m | \u001b[36mhyvideo.inference\u001b[0m:\u001b[36mpredict\u001b[0m:\u001b[36m684\u001b[0m - \u001b[1mSuccess, time: 67.84050464630127\u001b[0m\n",
      "huggingface/tokenizers: The current process just got forked, after parallelism has already been used. Disabling parallelism to avoid deadlocks...\n",
      "To disable this warning, you can either:\n",
      "\t- Avoid using `tokenizers` before the fork if possible\n",
      "\t- Explicitly set the environment variable TOKENIZERS_PARALLELISM=(true | false)\n",
      "\u001b[32m2025-01-14 20:37:24.919\u001b[0m | \u001b[1mINFO    \u001b[0m | \u001b[36m__main__\u001b[0m:\u001b[36mmain\u001b[0m:\u001b[36m57\u001b[0m - \u001b[1mSample save to: ./results/2025-01-14-20:37:23_seed42_A cat walks on the grass, realistic style..mp4\u001b[0m\n"
     ]
    }
   ],
   "source": [
    "%run sample_video.py \\\n",
    "    --dit-weight \"/home/chx/mySrc/HunyuanVideo/ckpts/hunyuan-video-t2v-720p/transformers/mp_rank_00_model_states_fp8.pt\" \\\n",
    "    --video-size 512 512 \\\n",
    "    --video-length 25 \\\n",
    "    --infer-steps 30 \\\n",
    "    --prompt \"A cat walks on the grass, realistic style.\" \\\n",
    "    --seed 42 \\\n",
    "    --embedded-cfg-scale 6.0 \\\n",
    "    --flow-shift 7.0 \\\n",
    "    --flow-reverse \\\n",
    "    --use-cpu-offload \\\n",
    "    --use-fp8 \\\n",
    "    --save-path ./results"
   ]
  },
  {
   "cell_type": "code",
   "execution_count": null,
   "metadata": {},
   "outputs": [],
   "source": []
  }
 ],
 "metadata": {
  "kernelspec": {
   "display_name": "HunyuanVideo-std",
   "language": "python",
   "name": "python3"
  },
  "language_info": {
   "codemirror_mode": {
    "name": "ipython",
    "version": 3
   },
   "file_extension": ".py",
   "mimetype": "text/x-python",
   "name": "python",
   "nbconvert_exporter": "python",
   "pygments_lexer": "ipython3",
   "version": "3.10.9"
  }
 },
 "nbformat": 4,
 "nbformat_minor": 2
}
