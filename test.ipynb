{
 "cells": [
  {
   "cell_type": "code",
   "execution_count": null,
   "metadata": {},
   "outputs": [],
   "source": [
    "%run edit_video.py \\\n",
    "    --dit-weight \"/home/chx/mySrc/HunyuanVideo/ckpts/hunyuan-video-t2v-720p/transformers/mp_rank_00_model_states_fp8.pt\" \\\n",
    "    --video-size 512 512 \\\n",
    "    --video-length 25 \\\n",
    "    --infer-steps 28 \\\n",
    "    --inject 0 \\\n",
    "    --seed 42 \\\n",
    "    --embedded-cfg-scale 3.5 \\\n",
    "    --flow-shift 7.0 \\\n",
    "    --flow-reverse \\\n",
    "    --use-cpu-offload \\\n",
    "    --use-fp8 \\\n",
    "    --save-path ./results/V2VBench/rf-solver_2order \\\n",
    "    --dataset \"V2VBench\" \\\n",
    "    --gamma 0.5 \\\n",
    "    --start-timestep 0\\\n",
    "    --stop-timestep 0.25 \\\n",
    "    --eta-reverse 0.9"
   ]
  },
  {
   "cell_type": "code",
   "execution_count": 1,
   "metadata": {},
   "outputs": [
    {
     "name": "stderr",
     "output_type": "stream",
     "text": [
      "/data/chx/anaconda3/envs/HunyuanVideo_rf_inv/lib/python3.10/site-packages/tqdm/auto.py:21: TqdmWarning: IProgress not found. Please update jupyter and ipywidgets. See https://ipywidgets.readthedocs.io/en/stable/user_install.html\n",
      "  from .autonotebook import tqdm as notebook_tqdm\n",
      "\u001b[32m2025-04-04 21:42:20.359\u001b[0m | \u001b[1mINFO    \u001b[0m | \u001b[36mhyvideo.inference\u001b[0m:\u001b[36mfrom_pretrained\u001b[0m:\u001b[36m155\u001b[0m - \u001b[1mGot text-to-video model root path: ckpts\u001b[0m\n",
      "\u001b[32m2025-04-04 21:42:20.361\u001b[0m | \u001b[1mINFO    \u001b[0m | \u001b[36mhyvideo.inference\u001b[0m:\u001b[36mfrom_pretrained\u001b[0m:\u001b[36m190\u001b[0m - \u001b[1mBuilding model...\u001b[0m\n"
     ]
    },
    {
     "name": "stdout",
     "output_type": "stream",
     "text": [
      "detect you are not use the latest yunchang. Please install yunchang>=0.4.0\n",
      "{'apply_final_norm': False,\n",
      " 'batch_size': 1,\n",
      " 'cfg_scale': 1.0,\n",
      " 'dataset': None,\n",
      " 'decay_eta': False,\n",
      " 'denoise_type': 'flow',\n",
      " 'disable_autocast': False,\n",
      " 'dit_weight': '/home/chx/mySrc/HunyuanVideo/ckpts/hunyuan-video-t2v-720p/transformers/mp_rank_00_model_states_fp8.pt',\n",
      " 'embedded_cfg_scale': 3.5,\n",
      " 'eta_decay_power': 1.0,\n",
      " 'eta_reverse': 0.9,\n",
      " 'feature_path': 'feature',\n",
      " 'flow_reverse': True,\n",
      " 'flow_shift': 7.0,\n",
      " 'flow_solver': 'euler',\n",
      " 'gamma': 0.5,\n",
      " 'hidden_state_skip_layer': 2,\n",
      " 'infer_steps': 28,\n",
      " 'inject': 0,\n",
      " 'inverse_video_path': '/data/chx/V2VBench/videos/car-turn.mp4',\n",
      " 'latent_channels': 16,\n",
      " 'linear_schedule_end': 25,\n",
      " 'load_key': 'module',\n",
      " 'model': 'HYVideo-T/2-cfgdistill',\n",
      " 'model_base': 'ckpts',\n",
      " 'model_resolution': '540p',\n",
      " 'name_suffix': '',\n",
      " 'neg_prompt': None,\n",
      " 'num_videos': 1,\n",
      " 'precision': 'bf16',\n",
      " 'prompt': 'a grey car navigates a curvy road surrounded by green grass trees '\n",
      "           'and mountains.',\n",
      " 'prompt_template': 'dit-llm-encode',\n",
      " 'prompt_template_video': 'dit-llm-encode-video',\n",
      " 'reproduce': False,\n",
      " 'ring_degree': 1,\n",
      " 'rope_theta': 256,\n",
      " 'save_path': './results/rf_inversion',\n",
      " 'save_path_suffix': '',\n",
      " 'seed': 42,\n",
      " 'seed_type': 'auto',\n",
      " 'start_timestep': 0.0,\n",
      " 'stop_timestep': 0.25,\n",
      " 'target_prompt': 'a red sports-car navigates a curvy road surrounded by green '\n",
      "                  'grass trees and mountains.',\n",
      " 'text_encoder': 'llm',\n",
      " 'text_encoder_2': 'clipL',\n",
      " 'text_encoder_precision': 'fp16',\n",
      " 'text_encoder_precision_2': 'fp16',\n",
      " 'text_len': 256,\n",
      " 'text_len_2': 77,\n",
      " 'text_states_dim': 4096,\n",
      " 'text_states_dim_2': 768,\n",
      " 'tokenizer': 'llm',\n",
      " 'tokenizer_2': 'clipL',\n",
      " 'ulysses_degree': 1,\n",
      " 'use_cpu_offload': True,\n",
      " 'use_fp8': True,\n",
      " 'use_linear_quadratic_schedule': False,\n",
      " 'vae': '884-16c-hy',\n",
      " 'vae_precision': 'fp16',\n",
      " 'vae_tiling': True,\n",
      " 'video_length': 25,\n",
      " 'video_size': [512, 512]}\n",
      "cuda\n"
     ]
    },
    {
     "name": "stderr",
     "output_type": "stream",
     "text": [
      "/home/chx/mySrc/HunyuanVideo_rf_inv/hyvideo/modules/fp8_optimization.py:88: FutureWarning: You are using `torch.load` with `weights_only=False` (the current default value), which uses the default pickle module implicitly. It is possible to construct malicious pickle data which will execute arbitrary code during unpickling (See https://github.com/pytorch/pytorch/blob/main/SECURITY.md#untrusted-models for more details). In a future release, the default value for `weights_only` will be flipped to `True`. This limits the functions that could be executed during unpickling. Arbitrary objects will no longer be allowed to be loaded via this mode unless they are explicitly allowlisted by the user via `torch.serialization.add_safe_globals`. We recommend you start setting `weights_only=True` for any use case where you don't have full control of the loaded file. Please open an issue on GitHub for any issues related to this experimental feature.\n",
      "  fp8_map = torch.load(fp8_map_path, map_location=lambda storage, loc: storage)\n",
      "\u001b[32m2025-04-04 21:44:53.567\u001b[0m | \u001b[1mINFO    \u001b[0m | \u001b[36mhyvideo.inference\u001b[0m:\u001b[36mload_state_dict\u001b[0m:\u001b[36m345\u001b[0m - \u001b[1mLoading torch model /home/chx/mySrc/HunyuanVideo/ckpts/hunyuan-video-t2v-720p/transformers/mp_rank_00_model_states_fp8.pt...\u001b[0m\n",
      "/home/chx/mySrc/HunyuanVideo_rf_inv/hyvideo/inference.py:346: FutureWarning: You are using `torch.load` with `weights_only=False` (the current default value), which uses the default pickle module implicitly. It is possible to construct malicious pickle data which will execute arbitrary code during unpickling (See https://github.com/pytorch/pytorch/blob/main/SECURITY.md#untrusted-models for more details). In a future release, the default value for `weights_only` will be flipped to `True`. This limits the functions that could be executed during unpickling. Arbitrary objects will no longer be allowed to be loaded via this mode unless they are explicitly allowlisted by the user via `torch.serialization.add_safe_globals`. We recommend you start setting `weights_only=True` for any use case where you don't have full control of the loaded file. Please open an issue on GitHub for any issues related to this experimental feature.\n",
      "  state_dict = torch.load(model_path, map_location=lambda storage, loc: storage)\n",
      "\u001b[32m2025-04-04 21:45:03.159\u001b[0m | \u001b[1mINFO    \u001b[0m | \u001b[36mhyvideo.vae\u001b[0m:\u001b[36mload_vae\u001b[0m:\u001b[36m29\u001b[0m - \u001b[1mLoading 3D VAE model (884-16c-hy) from: ./ckpts/hunyuan-video-t2v-720p/vae\u001b[0m\n"
     ]
    },
    {
     "name": "stdout",
     "output_type": "stream",
     "text": [
      "loading vae\n"
     ]
    },
    {
     "name": "stderr",
     "output_type": "stream",
     "text": [
      "/home/chx/mySrc/HunyuanVideo_rf_inv/hyvideo/vae/__init__.py:39: FutureWarning: You are using `torch.load` with `weights_only=False` (the current default value), which uses the default pickle module implicitly. It is possible to construct malicious pickle data which will execute arbitrary code during unpickling (See https://github.com/pytorch/pytorch/blob/main/SECURITY.md#untrusted-models for more details). In a future release, the default value for `weights_only` will be flipped to `True`. This limits the functions that could be executed during unpickling. Arbitrary objects will no longer be allowed to be loaded via this mode unless they are explicitly allowlisted by the user via `torch.serialization.add_safe_globals`. We recommend you start setting `weights_only=True` for any use case where you don't have full control of the loaded file. Please open an issue on GitHub for any issues related to this experimental feature.\n",
      "  ckpt = torch.load(vae_ckpt, map_location=vae.device)\n",
      "\u001b[32m2025-04-04 21:45:06.881\u001b[0m | \u001b[1mINFO    \u001b[0m | \u001b[36mhyvideo.vae\u001b[0m:\u001b[36mload_vae\u001b[0m:\u001b[36m55\u001b[0m - \u001b[1mVAE to dtype: torch.float16\u001b[0m\n",
      "\u001b[32m2025-04-04 21:45:06.934\u001b[0m | \u001b[1mINFO    \u001b[0m | \u001b[36mhyvideo.text_encoder\u001b[0m:\u001b[36mload_text_encoder\u001b[0m:\u001b[36m28\u001b[0m - \u001b[1mLoading text encoder model (llm) from: ./ckpts/text_encoder\u001b[0m\n",
      "Loading checkpoint shards: 100%|██████████| 4/4 [00:05<00:00,  1.31s/it]\n",
      "\u001b[32m2025-04-04 21:45:16.821\u001b[0m | \u001b[1mINFO    \u001b[0m | \u001b[36mhyvideo.text_encoder\u001b[0m:\u001b[36mload_text_encoder\u001b[0m:\u001b[36m50\u001b[0m - \u001b[1mText encoder to dtype: torch.float16\u001b[0m\n",
      "\u001b[32m2025-04-04 21:45:16.826\u001b[0m | \u001b[1mINFO    \u001b[0m | \u001b[36mhyvideo.text_encoder\u001b[0m:\u001b[36mload_tokenizer\u001b[0m:\u001b[36m64\u001b[0m - \u001b[1mLoading tokenizer (llm) from: ./ckpts/text_encoder\u001b[0m\n",
      "\u001b[32m2025-04-04 21:45:17.578\u001b[0m | \u001b[1mINFO    \u001b[0m | \u001b[36mhyvideo.text_encoder\u001b[0m:\u001b[36mload_text_encoder\u001b[0m:\u001b[36m28\u001b[0m - \u001b[1mLoading text encoder model (clipL) from: ./ckpts/text_encoder_2\u001b[0m\n",
      "\u001b[32m2025-04-04 21:45:18.564\u001b[0m | \u001b[1mINFO    \u001b[0m | \u001b[36mhyvideo.text_encoder\u001b[0m:\u001b[36mload_text_encoder\u001b[0m:\u001b[36m50\u001b[0m - \u001b[1mText encoder to dtype: torch.float16\u001b[0m\n",
      "\u001b[32m2025-04-04 21:45:18.567\u001b[0m | \u001b[1mINFO    \u001b[0m | \u001b[36mhyvideo.text_encoder\u001b[0m:\u001b[36mload_tokenizer\u001b[0m:\u001b[36m64\u001b[0m - \u001b[1mLoading tokenizer (clipL) from: ./ckpts/text_encoder_2\u001b[0m\n",
      "\u001b[32m2025-04-04 21:45:29.227\u001b[0m | \u001b[1mINFO    \u001b[0m | \u001b[36m__main__\u001b[0m:\u001b[36mmain\u001b[0m:\u001b[36m74\u001b[0m - \u001b[1mLoaded single video tensor with shape: torch.Size([1, 3, 25, 512, 512])\u001b[0m\n",
      "\u001b[32m2025-04-04 21:45:29.233\u001b[0m | \u001b[1mINFO    \u001b[0m | \u001b[36mhyvideo.inference\u001b[0m:\u001b[36mpredict\u001b[0m:\u001b[36m611\u001b[0m - \u001b[1mInput (height, width, video_length) = (512, 512, 25)\u001b[0m\n"
     ]
    },
    {
     "name": "stdout",
     "output_type": "stream",
     "text": [
      "Enable sequential CPU offload.\n",
      "Updated args:\n",
      "{'apply_final_norm': False,\n",
      " 'batch_size': 1,\n",
      " 'cfg_scale': 1.0,\n",
      " 'dataset': None,\n",
      " 'decay_eta': False,\n",
      " 'denoise_type': 'flow',\n",
      " 'disable_autocast': False,\n",
      " 'dit_weight': '/home/chx/mySrc/HunyuanVideo/ckpts/hunyuan-video-t2v-720p/transformers/mp_rank_00_model_states_fp8.pt',\n",
      " 'embedded_cfg_scale': 3.5,\n",
      " 'eta_decay_power': 1.0,\n",
      " 'eta_reverse': 0.9,\n",
      " 'feature_path': 'feature',\n",
      " 'flow_reverse': True,\n",
      " 'flow_shift': 7.0,\n",
      " 'flow_solver': 'euler',\n",
      " 'gamma': 0.5,\n",
      " 'hidden_state_skip_layer': 2,\n",
      " 'infer_steps': 28,\n",
      " 'inject': 0,\n",
      " 'inverse_video_path': '/data/chx/V2VBench/videos/car-turn.mp4',\n",
      " 'latent_channels': 16,\n",
      " 'linear_schedule_end': 25,\n",
      " 'load_key': 'module',\n",
      " 'model': 'HYVideo-T/2-cfgdistill',\n",
      " 'model_base': 'ckpts',\n",
      " 'model_resolution': '540p',\n",
      " 'name_suffix': '',\n",
      " 'neg_prompt': None,\n",
      " 'num_videos': 1,\n",
      " 'precision': 'bf16',\n",
      " 'prompt': 'a grey car navigates a curvy road surrounded by green grass trees '\n",
      "           'and mountains.',\n",
      " 'prompt_template': 'dit-llm-encode',\n",
      " 'prompt_template_video': 'dit-llm-encode-video',\n",
      " 'reproduce': False,\n",
      " 'ring_degree': 1,\n",
      " 'rope_theta': 256,\n",
      " 'save_path': './results/rf_inversion',\n",
      " 'save_path_suffix': '',\n",
      " 'seed': 42,\n",
      " 'seed_type': 'auto',\n",
      " 'start_timestep': 0.0,\n",
      " 'stop_timestep': 0.25,\n",
      " 'target_prompt': 'a red sports-car navigates a curvy road surrounded by green '\n",
      "                  'grass trees and mountains.',\n",
      " 'text_encoder': 'llm',\n",
      " 'text_encoder_2': 'clipL',\n",
      " 'text_encoder_precision': 'fp16',\n",
      " 'text_encoder_precision_2': 'fp16',\n",
      " 'text_len': 256,\n",
      " 'text_len_2': 77,\n",
      " 'text_states_dim': 4096,\n",
      " 'text_states_dim_2': 768,\n",
      " 'tokenizer': 'llm',\n",
      " 'tokenizer_2': 'clipL',\n",
      " 'ulysses_degree': 1,\n",
      " 'use_cpu_offload': True,\n",
      " 'use_fp8': True,\n",
      " 'use_linear_quadratic_schedule': False,\n",
      " 'vae': '884-16c-hy',\n",
      " 'vae_precision': 'fp16',\n",
      " 'vae_tiling': True,\n",
      " 'video_length': 25,\n",
      " 'video_size': [512, 512]}\n"
     ]
    },
    {
     "name": "stderr",
     "output_type": "stream",
     "text": [
      "\u001b[32m2025-04-04 21:45:29.475\u001b[0m | \u001b[34m\u001b[1mDEBUG   \u001b[0m | \u001b[36mhyvideo.inference\u001b[0m:\u001b[36mpredict\u001b[0m:\u001b[36m671\u001b[0m - \u001b[34m\u001b[1m\n",
      "                        height: 512\n",
      "                         width: 512\n",
      "                  video_length: 25\n",
      "                        prompt: ['a grey car navigates a curvy road surrounded by green grass trees and mountains.']\n",
      "                    neg_prompt: ['Aerial view, aerial view, overexposed, low quality, deformation, a poor composition, bad hands, bad teeth, bad eyes, bad limbs, distortion']\n",
      "                          seed: 42\n",
      "                   infer_steps: 28\n",
      "         num_videos_per_prompt: 1\n",
      "                guidance_scale: 1.0\n",
      "                      n_tokens: 7168\n",
      "                    flow_shift: 7.0\n",
      "       embedded_guidance_scale: 3.5\u001b[0m\n"
     ]
    },
    {
     "name": "stdout",
     "output_type": "stream",
     "text": [
      "cuda:0\n",
      "cuda:0\n",
      "sigmas_reverse\n",
      "sigmas: tensor([0.0000, 0.2059, 0.3500, 0.4565, 0.5385, 0.6034, 0.6562, 0.7000, 0.7368,\n",
      "        0.7683, 0.7955, 0.8191, 0.8400, 0.8585, 0.8750, 0.8898, 0.9032, 0.9154,\n",
      "        0.9265, 0.9366, 0.9459, 0.9545, 0.9625, 0.9699, 0.9767, 0.9831, 0.9891,\n",
      "        0.9947, 1.0000])\n",
      "Using inversed latents\n",
      "Step 0: t = 0.0\n",
      "Step 1: t = 205.88235473632812\n",
      "Step 2: t = 350.0\n",
      "Step 3: t = 456.5217590332031\n",
      "Step 4: t = 538.4614868164062\n",
      "Step 5: t = 603.4482421875\n",
      "Step 6: t = 656.25\n",
      "Step 7: t = 700.0\n",
      "Step 8: t = 736.8421020507812\n",
      "Step 9: t = 768.2926635742188\n",
      "Step 10: t = 795.45458984375\n",
      "Step 11: t = 819.1490478515625\n",
      "Step 12: t = 840.0000610351562\n",
      "Step 13: t = 858.4905395507812\n",
      "Step 14: t = 875.0\n",
      "Step 15: t = 889.8304443359375\n",
      "Step 16: t = 903.2257690429688\n",
      "Step 17: t = 915.3846435546875\n",
      "Step 18: t = 926.4705810546875\n",
      "Step 19: t = 936.6197509765625\n",
      "Step 20: t = 945.9459838867188\n",
      "Step 21: t = 954.54541015625\n",
      "Step 22: t = 962.5\n",
      "Step 23: t = 969.8795776367188\n",
      "Step 24: t = 976.7442016601562\n",
      "Step 25: t = 983.1460571289062\n",
      "Step 26: t = 989.1304931640625\n",
      "Step 27: t = 994.7368774414062\n"
     ]
    },
    {
     "name": "stderr",
     "output_type": "stream",
     "text": [
      "  0%|          | 0/28 [00:00<?, ?it/s]"
     ]
    },
    {
     "name": "stdout",
     "output_type": "stream",
     "text": [
      "Step 0: t_curr = 0.0, t_prev = 205.88235473632812\n"
     ]
    },
    {
     "name": "stderr",
     "output_type": "stream",
     "text": [
      "  4%|▎         | 1/28 [00:01<00:52,  1.96s/it]"
     ]
    },
    {
     "name": "stdout",
     "output_type": "stream",
     "text": [
      "Step 1: t_curr = 205.88235473632812, t_prev = 350.0\n"
     ]
    },
    {
     "name": "stderr",
     "output_type": "stream",
     "text": [
      "  7%|▋         | 2/28 [00:03<00:45,  1.74s/it]"
     ]
    },
    {
     "name": "stdout",
     "output_type": "stream",
     "text": [
      "Step 2: t_curr = 350.0, t_prev = 456.5217590332031\n"
     ]
    },
    {
     "name": "stderr",
     "output_type": "stream",
     "text": [
      " 11%|█         | 3/28 [00:05<00:41,  1.68s/it]"
     ]
    },
    {
     "name": "stdout",
     "output_type": "stream",
     "text": [
      "Step 3: t_curr = 456.5217590332031, t_prev = 538.4614868164062\n"
     ]
    },
    {
     "name": "stderr",
     "output_type": "stream",
     "text": [
      " 14%|█▍        | 4/28 [00:06<00:39,  1.65s/it]"
     ]
    },
    {
     "name": "stdout",
     "output_type": "stream",
     "text": [
      "Step 4: t_curr = 538.4614868164062, t_prev = 603.4482421875\n"
     ]
    },
    {
     "name": "stderr",
     "output_type": "stream",
     "text": [
      " 18%|█▊        | 5/28 [00:08<00:37,  1.65s/it]"
     ]
    },
    {
     "name": "stdout",
     "output_type": "stream",
     "text": [
      "Step 5: t_curr = 603.4482421875, t_prev = 656.25\n"
     ]
    },
    {
     "name": "stderr",
     "output_type": "stream",
     "text": [
      " 21%|██▏       | 6/28 [00:10<00:36,  1.64s/it]"
     ]
    },
    {
     "name": "stdout",
     "output_type": "stream",
     "text": [
      "Step 6: t_curr = 656.25, t_prev = 700.0\n"
     ]
    },
    {
     "name": "stderr",
     "output_type": "stream",
     "text": [
      " 25%|██▌       | 7/28 [00:11<00:34,  1.65s/it]"
     ]
    },
    {
     "name": "stdout",
     "output_type": "stream",
     "text": [
      "Step 7: t_curr = 700.0, t_prev = 736.8421020507812\n"
     ]
    },
    {
     "name": "stderr",
     "output_type": "stream",
     "text": [
      " 29%|██▊       | 8/28 [00:13<00:32,  1.63s/it]"
     ]
    },
    {
     "name": "stdout",
     "output_type": "stream",
     "text": [
      "Step 8: t_curr = 736.8421020507812, t_prev = 768.2926635742188\n"
     ]
    },
    {
     "name": "stderr",
     "output_type": "stream",
     "text": [
      " 32%|███▏      | 9/28 [00:14<00:30,  1.62s/it]"
     ]
    },
    {
     "name": "stdout",
     "output_type": "stream",
     "text": [
      "Step 9: t_curr = 768.2926635742188, t_prev = 795.45458984375\n"
     ]
    },
    {
     "name": "stderr",
     "output_type": "stream",
     "text": [
      " 36%|███▌      | 10/28 [00:16<00:29,  1.62s/it]"
     ]
    },
    {
     "name": "stdout",
     "output_type": "stream",
     "text": [
      "Step 10: t_curr = 795.45458984375, t_prev = 819.1490478515625\n"
     ]
    },
    {
     "name": "stderr",
     "output_type": "stream",
     "text": [
      " 39%|███▉      | 11/28 [00:18<00:27,  1.62s/it]"
     ]
    },
    {
     "name": "stdout",
     "output_type": "stream",
     "text": [
      "Step 11: t_curr = 819.1490478515625, t_prev = 840.0000610351562\n"
     ]
    },
    {
     "name": "stderr",
     "output_type": "stream",
     "text": [
      " 43%|████▎     | 12/28 [00:19<00:26,  1.63s/it]"
     ]
    },
    {
     "name": "stdout",
     "output_type": "stream",
     "text": [
      "Step 12: t_curr = 840.0000610351562, t_prev = 858.4905395507812\n"
     ]
    },
    {
     "name": "stderr",
     "output_type": "stream",
     "text": [
      " 46%|████▋     | 13/28 [00:21<00:24,  1.63s/it]"
     ]
    },
    {
     "name": "stdout",
     "output_type": "stream",
     "text": [
      "Step 13: t_curr = 858.4905395507812, t_prev = 875.0\n"
     ]
    },
    {
     "name": "stderr",
     "output_type": "stream",
     "text": [
      " 50%|█████     | 14/28 [00:23<00:22,  1.64s/it]"
     ]
    },
    {
     "name": "stdout",
     "output_type": "stream",
     "text": [
      "Step 14: t_curr = 875.0, t_prev = 889.8304443359375\n"
     ]
    },
    {
     "name": "stderr",
     "output_type": "stream",
     "text": [
      " 54%|█████▎    | 15/28 [00:24<00:21,  1.64s/it]"
     ]
    },
    {
     "name": "stdout",
     "output_type": "stream",
     "text": [
      "Step 15: t_curr = 889.8304443359375, t_prev = 903.2257690429688\n"
     ]
    },
    {
     "name": "stderr",
     "output_type": "stream",
     "text": [
      " 57%|█████▋    | 16/28 [00:26<00:19,  1.64s/it]"
     ]
    },
    {
     "name": "stdout",
     "output_type": "stream",
     "text": [
      "Step 16: t_curr = 903.2257690429688, t_prev = 915.3846435546875\n"
     ]
    },
    {
     "name": "stderr",
     "output_type": "stream",
     "text": [
      " 61%|██████    | 17/28 [00:27<00:18,  1.64s/it]"
     ]
    },
    {
     "name": "stdout",
     "output_type": "stream",
     "text": [
      "Step 17: t_curr = 915.3846435546875, t_prev = 926.4705810546875\n"
     ]
    },
    {
     "name": "stderr",
     "output_type": "stream",
     "text": [
      " 64%|██████▍   | 18/28 [00:29<00:16,  1.63s/it]"
     ]
    },
    {
     "name": "stdout",
     "output_type": "stream",
     "text": [
      "Step 18: t_curr = 926.4705810546875, t_prev = 936.6197509765625\n"
     ]
    },
    {
     "name": "stderr",
     "output_type": "stream",
     "text": [
      " 68%|██████▊   | 19/28 [00:31<00:14,  1.62s/it]"
     ]
    },
    {
     "name": "stdout",
     "output_type": "stream",
     "text": [
      "Step 19: t_curr = 936.6197509765625, t_prev = 945.9459838867188\n"
     ]
    },
    {
     "name": "stderr",
     "output_type": "stream",
     "text": [
      " 71%|███████▏  | 20/28 [00:32<00:13,  1.63s/it]"
     ]
    },
    {
     "name": "stdout",
     "output_type": "stream",
     "text": [
      "Step 20: t_curr = 945.9459838867188, t_prev = 954.54541015625\n"
     ]
    },
    {
     "name": "stderr",
     "output_type": "stream",
     "text": [
      " 75%|███████▌  | 21/28 [00:34<00:11,  1.64s/it]"
     ]
    },
    {
     "name": "stdout",
     "output_type": "stream",
     "text": [
      "Step 21: t_curr = 954.54541015625, t_prev = 962.5\n"
     ]
    },
    {
     "name": "stderr",
     "output_type": "stream",
     "text": [
      " 79%|███████▊  | 22/28 [00:36<00:09,  1.64s/it]"
     ]
    },
    {
     "name": "stdout",
     "output_type": "stream",
     "text": [
      "Step 22: t_curr = 962.5, t_prev = 969.8795776367188\n"
     ]
    },
    {
     "name": "stderr",
     "output_type": "stream",
     "text": [
      " 82%|████████▏ | 23/28 [00:37<00:08,  1.63s/it]"
     ]
    },
    {
     "name": "stdout",
     "output_type": "stream",
     "text": [
      "Step 23: t_curr = 969.8795776367188, t_prev = 976.7442016601562\n"
     ]
    },
    {
     "name": "stderr",
     "output_type": "stream",
     "text": [
      " 86%|████████▌ | 24/28 [00:39<00:06,  1.62s/it]"
     ]
    },
    {
     "name": "stdout",
     "output_type": "stream",
     "text": [
      "Step 24: t_curr = 976.7442016601562, t_prev = 983.1460571289062\n"
     ]
    },
    {
     "name": "stderr",
     "output_type": "stream",
     "text": [
      " 89%|████████▉ | 25/28 [00:40<00:04,  1.61s/it]"
     ]
    },
    {
     "name": "stdout",
     "output_type": "stream",
     "text": [
      "Step 25: t_curr = 983.1460571289062, t_prev = 989.1304931640625\n"
     ]
    },
    {
     "name": "stderr",
     "output_type": "stream",
     "text": [
      " 93%|█████████▎| 26/28 [00:42<00:03,  1.61s/it]"
     ]
    },
    {
     "name": "stdout",
     "output_type": "stream",
     "text": [
      "Step 26: t_curr = 989.1304931640625, t_prev = 994.7368774414062\n"
     ]
    },
    {
     "name": "stderr",
     "output_type": "stream",
     "text": [
      " 96%|█████████▋| 27/28 [00:44<00:01,  1.63s/it]\n"
     ]
    },
    {
     "name": "stdout",
     "output_type": "stream",
     "text": [
      "cuda:0\n",
      "cuda:0\n",
      "sigmas: tensor([1.0000, 0.9947, 0.9891, 0.9831, 0.9767, 0.9699, 0.9625, 0.9545, 0.9459,\n",
      "        0.9366, 0.9265, 0.9154, 0.9032, 0.8898, 0.8750, 0.8585, 0.8400, 0.8191,\n",
      "        0.7955, 0.7683, 0.7368, 0.7000, 0.6562, 0.6034, 0.5385, 0.4565, 0.3500,\n",
      "        0.2059, 0.0000])\n",
      "Using inversed latents\n",
      "Step 0: t = 1000.0\n",
      "Step 1: t = 994.7368774414062\n",
      "Step 2: t = 989.1304931640625\n",
      "Step 3: t = 983.1460571289062\n",
      "Step 4: t = 976.7442016601562\n",
      "Step 5: t = 969.8795776367188\n",
      "Step 6: t = 962.5\n",
      "Step 7: t = 954.54541015625\n",
      "Step 8: t = 945.9459838867188\n",
      "Step 9: t = 936.6197509765625\n",
      "Step 10: t = 926.4705810546875\n",
      "Step 11: t = 915.3846435546875\n",
      "Step 12: t = 903.2257690429688\n",
      "Step 13: t = 889.8304443359375\n",
      "Step 14: t = 875.0\n",
      "Step 15: t = 858.4905395507812\n",
      "Step 16: t = 840.0000610351562\n",
      "Step 17: t = 819.1490478515625\n",
      "Step 18: t = 795.45458984375\n",
      "Step 19: t = 768.2926635742188\n",
      "Step 20: t = 736.8421020507812\n",
      "Step 21: t = 700.0\n",
      "Step 22: t = 656.25\n",
      "Step 23: t = 603.4482421875\n",
      "Step 24: t = 538.4614868164062\n",
      "Step 25: t = 456.5217590332031\n",
      "Step 26: t = 350.0\n",
      "Step 27: t = 205.88235473632812\n"
     ]
    },
    {
     "name": "stderr",
     "output_type": "stream",
     "text": [
      "  0%|          | 0/28 [00:00<?, ?it/s]"
     ]
    },
    {
     "name": "stdout",
     "output_type": "stream",
     "text": [
      "Step 0: t_curr = 1000.0, t_prev = 994.7368774414062\n"
     ]
    },
    {
     "name": "stderr",
     "output_type": "stream",
     "text": [
      "  4%|▎         | 1/28 [00:01<00:44,  1.65s/it]"
     ]
    },
    {
     "name": "stdout",
     "output_type": "stream",
     "text": [
      "Step 1: t_curr = 994.7368774414062, t_prev = 989.1304931640625\n"
     ]
    },
    {
     "name": "stderr",
     "output_type": "stream",
     "text": [
      "  7%|▋         | 2/28 [00:03<00:42,  1.65s/it]"
     ]
    },
    {
     "name": "stdout",
     "output_type": "stream",
     "text": [
      "Step 2: t_curr = 989.1304931640625, t_prev = 983.1460571289062\n"
     ]
    },
    {
     "name": "stderr",
     "output_type": "stream",
     "text": [
      " 11%|█         | 3/28 [00:04<00:41,  1.64s/it]"
     ]
    },
    {
     "name": "stdout",
     "output_type": "stream",
     "text": [
      "Step 3: t_curr = 983.1460571289062, t_prev = 976.7442016601562\n"
     ]
    },
    {
     "name": "stderr",
     "output_type": "stream",
     "text": [
      " 14%|█▍        | 4/28 [00:06<00:39,  1.65s/it]"
     ]
    },
    {
     "name": "stdout",
     "output_type": "stream",
     "text": [
      "Step 4: t_curr = 976.7442016601562, t_prev = 969.8795776367188\n"
     ]
    },
    {
     "name": "stderr",
     "output_type": "stream",
     "text": [
      " 18%|█▊        | 5/28 [00:08<00:37,  1.65s/it]"
     ]
    },
    {
     "name": "stdout",
     "output_type": "stream",
     "text": [
      "Step 5: t_curr = 969.8795776367188, t_prev = 962.5\n"
     ]
    },
    {
     "name": "stderr",
     "output_type": "stream",
     "text": [
      " 21%|██▏       | 6/28 [00:09<00:36,  1.65s/it]"
     ]
    },
    {
     "name": "stdout",
     "output_type": "stream",
     "text": [
      "Step 6: t_curr = 962.5, t_prev = 954.54541015625\n"
     ]
    },
    {
     "name": "stderr",
     "output_type": "stream",
     "text": [
      " 25%|██▌       | 7/28 [00:11<00:34,  1.65s/it]"
     ]
    },
    {
     "name": "stdout",
     "output_type": "stream",
     "text": [
      "Step 7: t_curr = 954.54541015625, t_prev = 945.9459838867188\n"
     ]
    },
    {
     "name": "stderr",
     "output_type": "stream",
     "text": [
      " 29%|██▊       | 8/28 [00:13<00:33,  1.65s/it]"
     ]
    },
    {
     "name": "stdout",
     "output_type": "stream",
     "text": [
      "Step 8: t_curr = 945.9459838867188, t_prev = 936.6197509765625\n"
     ]
    },
    {
     "name": "stderr",
     "output_type": "stream",
     "text": [
      " 32%|███▏      | 9/28 [00:14<00:31,  1.65s/it]"
     ]
    },
    {
     "name": "stdout",
     "output_type": "stream",
     "text": [
      "Step 9: t_curr = 936.6197509765625, t_prev = 926.4705810546875\n"
     ]
    },
    {
     "name": "stderr",
     "output_type": "stream",
     "text": [
      " 36%|███▌      | 10/28 [00:16<00:29,  1.66s/it]"
     ]
    },
    {
     "name": "stdout",
     "output_type": "stream",
     "text": [
      "Step 10: t_curr = 926.4705810546875, t_prev = 915.3846435546875\n"
     ]
    },
    {
     "name": "stderr",
     "output_type": "stream",
     "text": [
      " 39%|███▉      | 11/28 [00:18<00:27,  1.64s/it]"
     ]
    },
    {
     "name": "stdout",
     "output_type": "stream",
     "text": [
      "Step 11: t_curr = 915.3846435546875, t_prev = 903.2257690429688\n"
     ]
    },
    {
     "name": "stderr",
     "output_type": "stream",
     "text": [
      " 43%|████▎     | 12/28 [00:19<00:26,  1.63s/it]"
     ]
    },
    {
     "name": "stdout",
     "output_type": "stream",
     "text": [
      "Step 12: t_curr = 903.2257690429688, t_prev = 889.8304443359375\n"
     ]
    },
    {
     "name": "stderr",
     "output_type": "stream",
     "text": [
      " 46%|████▋     | 13/28 [00:21<00:24,  1.62s/it]"
     ]
    },
    {
     "name": "stdout",
     "output_type": "stream",
     "text": [
      "Step 13: t_curr = 889.8304443359375, t_prev = 875.0\n"
     ]
    },
    {
     "name": "stderr",
     "output_type": "stream",
     "text": [
      " 50%|█████     | 14/28 [00:22<00:22,  1.62s/it]"
     ]
    },
    {
     "name": "stdout",
     "output_type": "stream",
     "text": [
      "Step 14: t_curr = 875.0, t_prev = 858.4905395507812\n"
     ]
    },
    {
     "name": "stderr",
     "output_type": "stream",
     "text": [
      " 54%|█████▎    | 15/28 [00:24<00:21,  1.63s/it]"
     ]
    },
    {
     "name": "stdout",
     "output_type": "stream",
     "text": [
      "Step 15: t_curr = 858.4905395507812, t_prev = 840.0000610351562\n"
     ]
    },
    {
     "name": "stderr",
     "output_type": "stream",
     "text": [
      " 57%|█████▋    | 16/28 [00:26<00:19,  1.64s/it]"
     ]
    },
    {
     "name": "stdout",
     "output_type": "stream",
     "text": [
      "Step 16: t_curr = 840.0000610351562, t_prev = 819.1490478515625\n"
     ]
    },
    {
     "name": "stderr",
     "output_type": "stream",
     "text": [
      " 61%|██████    | 17/28 [00:27<00:18,  1.65s/it]"
     ]
    },
    {
     "name": "stdout",
     "output_type": "stream",
     "text": [
      "Step 17: t_curr = 819.1490478515625, t_prev = 795.45458984375\n"
     ]
    },
    {
     "name": "stderr",
     "output_type": "stream",
     "text": [
      " 64%|██████▍   | 18/28 [00:29<00:16,  1.66s/it]"
     ]
    },
    {
     "name": "stdout",
     "output_type": "stream",
     "text": [
      "Step 18: t_curr = 795.45458984375, t_prev = 768.2926635742188\n"
     ]
    },
    {
     "name": "stderr",
     "output_type": "stream",
     "text": [
      " 68%|██████▊   | 19/28 [00:31<00:14,  1.65s/it]"
     ]
    },
    {
     "name": "stdout",
     "output_type": "stream",
     "text": [
      "Step 19: t_curr = 768.2926635742188, t_prev = 736.8421020507812\n"
     ]
    },
    {
     "name": "stderr",
     "output_type": "stream",
     "text": [
      " 71%|███████▏  | 20/28 [00:32<00:13,  1.63s/it]"
     ]
    },
    {
     "name": "stdout",
     "output_type": "stream",
     "text": [
      "Step 20: t_curr = 736.8421020507812, t_prev = 700.0\n"
     ]
    },
    {
     "name": "stderr",
     "output_type": "stream",
     "text": [
      " 75%|███████▌  | 21/28 [00:34<00:11,  1.63s/it]"
     ]
    },
    {
     "name": "stdout",
     "output_type": "stream",
     "text": [
      "Step 21: t_curr = 700.0, t_prev = 656.25\n"
     ]
    },
    {
     "name": "stderr",
     "output_type": "stream",
     "text": [
      " 79%|███████▊  | 22/28 [00:36<00:09,  1.62s/it]"
     ]
    },
    {
     "name": "stdout",
     "output_type": "stream",
     "text": [
      "Step 22: t_curr = 656.25, t_prev = 603.4482421875\n"
     ]
    },
    {
     "name": "stderr",
     "output_type": "stream",
     "text": [
      " 82%|████████▏ | 23/28 [00:37<00:08,  1.62s/it]"
     ]
    },
    {
     "name": "stdout",
     "output_type": "stream",
     "text": [
      "Step 23: t_curr = 603.4482421875, t_prev = 538.4614868164062\n"
     ]
    },
    {
     "name": "stderr",
     "output_type": "stream",
     "text": [
      " 86%|████████▌ | 24/28 [00:39<00:06,  1.62s/it]"
     ]
    },
    {
     "name": "stdout",
     "output_type": "stream",
     "text": [
      "Step 24: t_curr = 538.4614868164062, t_prev = 456.5217590332031\n"
     ]
    },
    {
     "name": "stderr",
     "output_type": "stream",
     "text": [
      " 89%|████████▉ | 25/28 [00:40<00:04,  1.62s/it]"
     ]
    },
    {
     "name": "stdout",
     "output_type": "stream",
     "text": [
      "Step 25: t_curr = 456.5217590332031, t_prev = 350.0\n"
     ]
    },
    {
     "name": "stderr",
     "output_type": "stream",
     "text": [
      " 93%|█████████▎| 26/28 [00:42<00:03,  1.61s/it]"
     ]
    },
    {
     "name": "stdout",
     "output_type": "stream",
     "text": [
      "Step 26: t_curr = 350.0, t_prev = 205.88235473632812\n"
     ]
    },
    {
     "name": "stderr",
     "output_type": "stream",
     "text": [
      " 96%|█████████▋| 27/28 [00:44<00:01,  1.64s/it]\n",
      "\u001b[32m2025-04-04 21:47:33.152\u001b[0m | \u001b[1mINFO    \u001b[0m | \u001b[36mhyvideo.inference\u001b[0m:\u001b[36mpredict\u001b[0m:\u001b[36m721\u001b[0m - \u001b[1mSuccess, time: 123.67549896240234\u001b[0m\n",
      "huggingface/tokenizers: The current process just got forked, after parallelism has already been used. Disabling parallelism to avoid deadlocks...\n",
      "To disable this warning, you can either:\n",
      "\t- Avoid using `tokenizers` before the fork if possible\n",
      "\t- Explicitly set the environment variable TOKENIZERS_PARALLELISM=(true | false)\n",
      "\u001b[32m2025-04-04 21:47:35.685\u001b[0m | \u001b[1mINFO    \u001b[0m | \u001b[36m__main__\u001b[0m:\u001b[36mprocess_sample\u001b[0m:\u001b[36m181\u001b[0m - \u001b[1m保存单次结果到: ./results/rf_inversion/car-turn_single_video_20250404-214733_s42.mp4\u001b[0m\n",
      "\u001b[32m2025-04-04 21:47:35.697\u001b[0m | \u001b[1mINFO    \u001b[0m | \u001b[36m__main__\u001b[0m:\u001b[36mmain\u001b[0m:\u001b[36m206\u001b[0m - \u001b[1m单视频处理完成\u001b[0m\n"
     ]
    }
   ],
   "source": [
    "%run edit_video.py \\\n",
    "    --dit-weight \"/home/chx/mySrc/HunyuanVideo/ckpts/hunyuan-video-t2v-720p/transformers/mp_rank_00_model_states_fp8.pt\" \\\n",
    "    --video-size 512 512 \\\n",
    "    --video-length 25 \\\n",
    "    --infer-steps 28 \\\n",
    "    --prompt \"a grey car navigates a curvy road surrounded by green grass trees and mountains.\" \\\n",
    "    --target-prompt \"a red sports-car navigates a curvy road surrounded by green grass trees and mountains.\" \\\n",
    "    --inject 0 \\\n",
    "    --seed 42 \\\n",
    "    --embedded-cfg-scale 3.5 \\\n",
    "    --flow-shift 7.0 \\\n",
    "    --flow-reverse \\\n",
    "    --use-cpu-offload \\\n",
    "    --use-fp8 \\\n",
    "    --save-path ./results/rf_inversion \\\n",
    "    --inverse-video-path \"/data/chx/V2VBench/videos/car-turn.mp4\" \\\n",
    "    --gamma 0.5 \\\n",
    "    --start-timestep 0\\\n",
    "    --stop-timestep 0.25 \\\n",
    "    --eta-reverse 0.9"
   ]
  },
  {
   "cell_type": "code",
   "execution_count": 1,
   "metadata": {},
   "outputs": [
    {
     "name": "stderr",
     "output_type": "stream",
     "text": [
      "/data/chx/anaconda3/envs/HunyuanVideo_rf_inv/lib/python3.10/site-packages/tqdm/auto.py:21: TqdmWarning: IProgress not found. Please update jupyter and ipywidgets. See https://ipywidgets.readthedocs.io/en/stable/user_install.html\n",
      "  from .autonotebook import tqdm as notebook_tqdm\n",
      "\u001b[32m2025-04-03 09:37:19.094\u001b[0m | \u001b[1mINFO    \u001b[0m | \u001b[36mhyvideo.inference\u001b[0m:\u001b[36mfrom_pretrained\u001b[0m:\u001b[36m155\u001b[0m - \u001b[1mGot text-to-video model root path: ckpts\u001b[0m\n",
      "\u001b[32m2025-04-03 09:37:19.096\u001b[0m | \u001b[1mINFO    \u001b[0m | \u001b[36mhyvideo.inference\u001b[0m:\u001b[36mfrom_pretrained\u001b[0m:\u001b[36m190\u001b[0m - \u001b[1mBuilding model...\u001b[0m\n"
     ]
    },
    {
     "name": "stdout",
     "output_type": "stream",
     "text": [
      "detect you are not use the latest yunchang. Please install yunchang>=0.4.0\n",
      "{'apply_final_norm': False,\n",
      " 'batch_size': 1,\n",
      " 'cfg_scale': 1.0,\n",
      " 'decay_eta': False,\n",
      " 'denoise_type': 'flow',\n",
      " 'disable_autocast': False,\n",
      " 'dit_weight': '/home/chx/mySrc/HunyuanVideo/ckpts/hunyuan-video-t2v-720p/transformers/mp_rank_00_model_states_fp8.pt',\n",
      " 'embedded_cfg_scale': 3.5,\n",
      " 'eta_decay_power': 1.0,\n",
      " 'eta_reverse': 0.9,\n",
      " 'feature_path': 'feature',\n",
      " 'flow_reverse': True,\n",
      " 'flow_shift': 7.0,\n",
      " 'flow_solver': 'euler',\n",
      " 'gamma': 0.5,\n",
      " 'hidden_state_skip_layer': 2,\n",
      " 'infer_steps': 28,\n",
      " 'inject': 0,\n",
      " 'inverse_video_path': '/data/chx/BalanceCC-rename/Result/Animal/blackswan.mp4',\n",
      " 'latent_channels': 16,\n",
      " 'linear_schedule_end': 25,\n",
      " 'load_key': 'module',\n",
      " 'model': 'HYVideo-T/2-cfgdistill',\n",
      " 'model_base': 'ckpts',\n",
      " 'model_resolution': '540p',\n",
      " 'name_suffix': '',\n",
      " 'neg_prompt': None,\n",
      " 'num_videos': 1,\n",
      " 'precision': 'bf16',\n",
      " 'prompt': 'A black swan swimming in a pond with lush greenery in the '\n",
      "           'background.',\n",
      " 'prompt_template': 'dit-llm-encode',\n",
      " 'prompt_template_video': 'dit-llm-encode-video',\n",
      " 'reproduce': False,\n",
      " 'ring_degree': 1,\n",
      " 'rope_theta': 256,\n",
      " 'save_path': './results/rf_inversion',\n",
      " 'save_path_suffix': '',\n",
      " 'seed': 42,\n",
      " 'seed_type': 'auto',\n",
      " 'start_timestep': 0.0,\n",
      " 'stop_timestep': 0.25,\n",
      " 'target_prompt': 'A majestic flamingo swimming in a pond with lush greenery '\n",
      "                  'in the background.',\n",
      " 'text_encoder': 'llm',\n",
      " 'text_encoder_2': 'clipL',\n",
      " 'text_encoder_precision': 'fp16',\n",
      " 'text_encoder_precision_2': 'fp16',\n",
      " 'text_len': 256,\n",
      " 'text_len_2': 77,\n",
      " 'text_states_dim': 4096,\n",
      " 'text_states_dim_2': 768,\n",
      " 'tokenizer': 'llm',\n",
      " 'tokenizer_2': 'clipL',\n",
      " 'ulysses_degree': 1,\n",
      " 'use_cpu_offload': True,\n",
      " 'use_fp8': True,\n",
      " 'use_linear_quadratic_schedule': False,\n",
      " 'vae': '884-16c-hy',\n",
      " 'vae_precision': 'fp16',\n",
      " 'vae_tiling': True,\n",
      " 'video_length': 53,\n",
      " 'video_size': [512, 512]}\n",
      "cuda\n"
     ]
    },
    {
     "name": "stderr",
     "output_type": "stream",
     "text": [
      "/home/chx/mySrc/HunyuanVideo_rf_inv/hyvideo/modules/fp8_optimization.py:88: FutureWarning: You are using `torch.load` with `weights_only=False` (the current default value), which uses the default pickle module implicitly. It is possible to construct malicious pickle data which will execute arbitrary code during unpickling (See https://github.com/pytorch/pytorch/blob/main/SECURITY.md#untrusted-models for more details). In a future release, the default value for `weights_only` will be flipped to `True`. This limits the functions that could be executed during unpickling. Arbitrary objects will no longer be allowed to be loaded via this mode unless they are explicitly allowlisted by the user via `torch.serialization.add_safe_globals`. We recommend you start setting `weights_only=True` for any use case where you don't have full control of the loaded file. Please open an issue on GitHub for any issues related to this experimental feature.\n",
      "  fp8_map = torch.load(fp8_map_path, map_location=lambda storage, loc: storage)\n",
      "\u001b[32m2025-04-03 09:39:05.385\u001b[0m | \u001b[1mINFO    \u001b[0m | \u001b[36mhyvideo.inference\u001b[0m:\u001b[36mload_state_dict\u001b[0m:\u001b[36m345\u001b[0m - \u001b[1mLoading torch model /home/chx/mySrc/HunyuanVideo/ckpts/hunyuan-video-t2v-720p/transformers/mp_rank_00_model_states_fp8.pt...\u001b[0m\n",
      "/home/chx/mySrc/HunyuanVideo_rf_inv/hyvideo/inference.py:346: FutureWarning: You are using `torch.load` with `weights_only=False` (the current default value), which uses the default pickle module implicitly. It is possible to construct malicious pickle data which will execute arbitrary code during unpickling (See https://github.com/pytorch/pytorch/blob/main/SECURITY.md#untrusted-models for more details). In a future release, the default value for `weights_only` will be flipped to `True`. This limits the functions that could be executed during unpickling. Arbitrary objects will no longer be allowed to be loaded via this mode unless they are explicitly allowlisted by the user via `torch.serialization.add_safe_globals`. We recommend you start setting `weights_only=True` for any use case where you don't have full control of the loaded file. Please open an issue on GitHub for any issues related to this experimental feature.\n",
      "  state_dict = torch.load(model_path, map_location=lambda storage, loc: storage)\n",
      "\u001b[32m2025-04-03 09:39:13.038\u001b[0m | \u001b[1mINFO    \u001b[0m | \u001b[36mhyvideo.vae\u001b[0m:\u001b[36mload_vae\u001b[0m:\u001b[36m29\u001b[0m - \u001b[1mLoading 3D VAE model (884-16c-hy) from: ./ckpts/hunyuan-video-t2v-720p/vae\u001b[0m\n"
     ]
    },
    {
     "name": "stdout",
     "output_type": "stream",
     "text": [
      "loading vae\n"
     ]
    },
    {
     "name": "stderr",
     "output_type": "stream",
     "text": [
      "/home/chx/mySrc/HunyuanVideo_rf_inv/hyvideo/vae/__init__.py:39: FutureWarning: You are using `torch.load` with `weights_only=False` (the current default value), which uses the default pickle module implicitly. It is possible to construct malicious pickle data which will execute arbitrary code during unpickling (See https://github.com/pytorch/pytorch/blob/main/SECURITY.md#untrusted-models for more details). In a future release, the default value for `weights_only` will be flipped to `True`. This limits the functions that could be executed during unpickling. Arbitrary objects will no longer be allowed to be loaded via this mode unless they are explicitly allowlisted by the user via `torch.serialization.add_safe_globals`. We recommend you start setting `weights_only=True` for any use case where you don't have full control of the loaded file. Please open an issue on GitHub for any issues related to this experimental feature.\n",
      "  ckpt = torch.load(vae_ckpt, map_location=vae.device)\n",
      "\u001b[32m2025-04-03 09:39:14.819\u001b[0m | \u001b[1mINFO    \u001b[0m | \u001b[36mhyvideo.vae\u001b[0m:\u001b[36mload_vae\u001b[0m:\u001b[36m55\u001b[0m - \u001b[1mVAE to dtype: torch.float16\u001b[0m\n",
      "\u001b[32m2025-04-03 09:39:14.869\u001b[0m | \u001b[1mINFO    \u001b[0m | \u001b[36mhyvideo.text_encoder\u001b[0m:\u001b[36mload_text_encoder\u001b[0m:\u001b[36m28\u001b[0m - \u001b[1mLoading text encoder model (llm) from: ./ckpts/text_encoder\u001b[0m\n",
      "Loading checkpoint shards: 100%|██████████| 4/4 [00:02<00:00,  1.55it/s]\n",
      "\u001b[32m2025-04-03 09:39:19.800\u001b[0m | \u001b[1mINFO    \u001b[0m | \u001b[36mhyvideo.text_encoder\u001b[0m:\u001b[36mload_text_encoder\u001b[0m:\u001b[36m50\u001b[0m - \u001b[1mText encoder to dtype: torch.float16\u001b[0m\n",
      "\u001b[32m2025-04-03 09:39:19.803\u001b[0m | \u001b[1mINFO    \u001b[0m | \u001b[36mhyvideo.text_encoder\u001b[0m:\u001b[36mload_tokenizer\u001b[0m:\u001b[36m64\u001b[0m - \u001b[1mLoading tokenizer (llm) from: ./ckpts/text_encoder\u001b[0m\n",
      "\u001b[32m2025-04-03 09:39:20.255\u001b[0m | \u001b[1mINFO    \u001b[0m | \u001b[36mhyvideo.text_encoder\u001b[0m:\u001b[36mload_text_encoder\u001b[0m:\u001b[36m28\u001b[0m - \u001b[1mLoading text encoder model (clipL) from: ./ckpts/text_encoder_2\u001b[0m\n",
      "\u001b[32m2025-04-03 09:39:20.352\u001b[0m | \u001b[1mINFO    \u001b[0m | \u001b[36mhyvideo.text_encoder\u001b[0m:\u001b[36mload_text_encoder\u001b[0m:\u001b[36m50\u001b[0m - \u001b[1mText encoder to dtype: torch.float16\u001b[0m\n",
      "\u001b[32m2025-04-03 09:39:20.355\u001b[0m | \u001b[1mINFO    \u001b[0m | \u001b[36mhyvideo.text_encoder\u001b[0m:\u001b[36mload_tokenizer\u001b[0m:\u001b[36m64\u001b[0m - \u001b[1mLoading tokenizer (clipL) from: ./ckpts/text_encoder_2\u001b[0m\n"
     ]
    },
    {
     "name": "stdout",
     "output_type": "stream",
     "text": [
      "Enable sequential CPU offload.\n",
      "Updated args:\n",
      "{'apply_final_norm': False,\n",
      " 'batch_size': 1,\n",
      " 'cfg_scale': 1.0,\n",
      " 'decay_eta': False,\n",
      " 'denoise_type': 'flow',\n",
      " 'disable_autocast': False,\n",
      " 'dit_weight': '/home/chx/mySrc/HunyuanVideo/ckpts/hunyuan-video-t2v-720p/transformers/mp_rank_00_model_states_fp8.pt',\n",
      " 'embedded_cfg_scale': 3.5,\n",
      " 'eta_decay_power': 1.0,\n",
      " 'eta_reverse': 0.9,\n",
      " 'feature_path': 'feature',\n",
      " 'flow_reverse': True,\n",
      " 'flow_shift': 7.0,\n",
      " 'flow_solver': 'euler',\n",
      " 'gamma': 0.5,\n",
      " 'hidden_state_skip_layer': 2,\n",
      " 'infer_steps': 28,\n",
      " 'inject': 0,\n",
      " 'inverse_video_path': '/data/chx/BalanceCC-rename/Result/Animal/blackswan.mp4',\n",
      " 'latent_channels': 16,\n",
      " 'linear_schedule_end': 25,\n",
      " 'load_key': 'module',\n",
      " 'model': 'HYVideo-T/2-cfgdistill',\n",
      " 'model_base': 'ckpts',\n",
      " 'model_resolution': '540p',\n",
      " 'name_suffix': '',\n",
      " 'neg_prompt': None,\n",
      " 'num_videos': 1,\n",
      " 'precision': 'bf16',\n",
      " 'prompt': 'A black swan swimming in a pond with lush greenery in the '\n",
      "           'background.',\n",
      " 'prompt_template': 'dit-llm-encode',\n",
      " 'prompt_template_video': 'dit-llm-encode-video',\n",
      " 'reproduce': False,\n",
      " 'ring_degree': 1,\n",
      " 'rope_theta': 256,\n",
      " 'save_path': './results/rf_inversion',\n",
      " 'save_path_suffix': '',\n",
      " 'seed': 42,\n",
      " 'seed_type': 'auto',\n",
      " 'start_timestep': 0.0,\n",
      " 'stop_timestep': 0.25,\n",
      " 'target_prompt': 'A majestic flamingo swimming in a pond with lush greenery '\n",
      "                  'in the background.',\n",
      " 'text_encoder': 'llm',\n",
      " 'text_encoder_2': 'clipL',\n",
      " 'text_encoder_precision': 'fp16',\n",
      " 'text_encoder_precision_2': 'fp16',\n",
      " 'text_len': 256,\n",
      " 'text_len_2': 77,\n",
      " 'text_states_dim': 4096,\n",
      " 'text_states_dim_2': 768,\n",
      " 'tokenizer': 'llm',\n",
      " 'tokenizer_2': 'clipL',\n",
      " 'ulysses_degree': 1,\n",
      " 'use_cpu_offload': True,\n",
      " 'use_fp8': True,\n",
      " 'use_linear_quadratic_schedule': False,\n",
      " 'vae': '884-16c-hy',\n",
      " 'vae_precision': 'fp16',\n",
      " 'vae_tiling': True,\n",
      " 'video_length': 53,\n",
      " 'video_size': [512, 512]}\n",
      "FPS of the video: 24.0\n"
     ]
    },
    {
     "name": "stderr",
     "output_type": "stream",
     "text": [
      "\u001b[32m2025-04-03 09:39:21.119\u001b[0m | \u001b[1mINFO    \u001b[0m | \u001b[36mhyvideo.inference\u001b[0m:\u001b[36mpredict\u001b[0m:\u001b[36m611\u001b[0m - \u001b[1mInput (height, width, video_length) = (512, 512, 53)\u001b[0m\n",
      "\u001b[32m2025-04-03 09:39:21.130\u001b[0m | \u001b[34m\u001b[1mDEBUG   \u001b[0m | \u001b[36mhyvideo.inference\u001b[0m:\u001b[36mpredict\u001b[0m:\u001b[36m671\u001b[0m - \u001b[34m\u001b[1m\n",
      "                        height: 512\n",
      "                         width: 512\n",
      "                  video_length: 53\n",
      "                        prompt: ['A black swan swimming in a pond with lush greenery in the background.']\n",
      "                    neg_prompt: ['Aerial view, aerial view, overexposed, low quality, deformation, a poor composition, bad hands, bad teeth, bad eyes, bad limbs, distortion']\n",
      "                          seed: 42\n",
      "                   infer_steps: 28\n",
      "         num_videos_per_prompt: 1\n",
      "                guidance_scale: 1.0\n",
      "                      n_tokens: 14336\n",
      "                    flow_shift: 7.0\n",
      "       embedded_guidance_scale: 3.5\u001b[0m\n"
     ]
    },
    {
     "name": "stdout",
     "output_type": "stream",
     "text": [
      "cuda:0\n",
      "cuda:0\n",
      "sigmas_reverse\n",
      "sigmas: tensor([0.0000, 0.2059, 0.3500, 0.4565, 0.5385, 0.6034, 0.6562, 0.7000, 0.7368,\n",
      "        0.7683, 0.7955, 0.8191, 0.8400, 0.8585, 0.8750, 0.8898, 0.9032, 0.9154,\n",
      "        0.9265, 0.9366, 0.9459, 0.9545, 0.9625, 0.9699, 0.9767, 0.9831, 0.9891,\n",
      "        0.9947, 1.0000])\n",
      "Using inversed latents\n",
      "Step 0: t = 0.0\n",
      "Step 1: t = 205.88235473632812\n",
      "Step 2: t = 350.0\n",
      "Step 3: t = 456.5217590332031\n",
      "Step 4: t = 538.4614868164062\n",
      "Step 5: t = 603.4482421875\n",
      "Step 6: t = 656.25\n",
      "Step 7: t = 700.0\n",
      "Step 8: t = 736.8421020507812\n",
      "Step 9: t = 768.2926635742188\n",
      "Step 10: t = 795.45458984375\n",
      "Step 11: t = 819.1490478515625\n",
      "Step 12: t = 840.0000610351562\n",
      "Step 13: t = 858.4905395507812\n",
      "Step 14: t = 875.0\n",
      "Step 15: t = 889.8304443359375\n",
      "Step 16: t = 903.2257690429688\n",
      "Step 17: t = 915.3846435546875\n",
      "Step 18: t = 926.4705810546875\n",
      "Step 19: t = 936.6197509765625\n",
      "Step 20: t = 945.9459838867188\n",
      "Step 21: t = 954.54541015625\n",
      "Step 22: t = 962.5\n",
      "Step 23: t = 969.8795776367188\n",
      "Step 24: t = 976.7442016601562\n",
      "Step 25: t = 983.1460571289062\n",
      "Step 26: t = 989.1304931640625\n",
      "Step 27: t = 994.7368774414062\n"
     ]
    },
    {
     "name": "stderr",
     "output_type": "stream",
     "text": [
      "  0%|          | 0/28 [00:00<?, ?it/s]"
     ]
    },
    {
     "name": "stdout",
     "output_type": "stream",
     "text": [
      "Step 0: t_curr = 0.0, t_prev = 205.88235473632812\n"
     ]
    },
    {
     "name": "stderr",
     "output_type": "stream",
     "text": [
      "  4%|▎         | 1/28 [00:03<01:33,  3.47s/it]"
     ]
    },
    {
     "name": "stdout",
     "output_type": "stream",
     "text": [
      "Step 1: t_curr = 205.88235473632812, t_prev = 350.0\n"
     ]
    },
    {
     "name": "stderr",
     "output_type": "stream",
     "text": [
      "  7%|▋         | 2/28 [00:06<01:28,  3.41s/it]"
     ]
    },
    {
     "name": "stdout",
     "output_type": "stream",
     "text": [
      "Step 2: t_curr = 350.0, t_prev = 456.5217590332031\n"
     ]
    },
    {
     "name": "stderr",
     "output_type": "stream",
     "text": [
      " 11%|█         | 3/28 [00:10<01:24,  3.40s/it]"
     ]
    },
    {
     "name": "stdout",
     "output_type": "stream",
     "text": [
      "Step 3: t_curr = 456.5217590332031, t_prev = 538.4614868164062\n"
     ]
    },
    {
     "name": "stderr",
     "output_type": "stream",
     "text": [
      " 14%|█▍        | 4/28 [00:13<01:21,  3.39s/it]"
     ]
    },
    {
     "name": "stdout",
     "output_type": "stream",
     "text": [
      "Step 4: t_curr = 538.4614868164062, t_prev = 603.4482421875\n"
     ]
    },
    {
     "name": "stderr",
     "output_type": "stream",
     "text": [
      " 18%|█▊        | 5/28 [00:16<01:17,  3.38s/it]"
     ]
    },
    {
     "name": "stdout",
     "output_type": "stream",
     "text": [
      "Step 5: t_curr = 603.4482421875, t_prev = 656.25\n"
     ]
    },
    {
     "name": "stderr",
     "output_type": "stream",
     "text": [
      " 21%|██▏       | 6/28 [00:20<01:14,  3.39s/it]"
     ]
    },
    {
     "name": "stdout",
     "output_type": "stream",
     "text": [
      "Step 6: t_curr = 656.25, t_prev = 700.0\n"
     ]
    },
    {
     "name": "stderr",
     "output_type": "stream",
     "text": [
      " 25%|██▌       | 7/28 [00:23<01:10,  3.38s/it]"
     ]
    },
    {
     "name": "stdout",
     "output_type": "stream",
     "text": [
      "Step 7: t_curr = 700.0, t_prev = 736.8421020507812\n"
     ]
    },
    {
     "name": "stderr",
     "output_type": "stream",
     "text": [
      " 29%|██▊       | 8/28 [00:27<01:07,  3.39s/it]"
     ]
    },
    {
     "name": "stdout",
     "output_type": "stream",
     "text": [
      "Step 8: t_curr = 736.8421020507812, t_prev = 768.2926635742188\n"
     ]
    },
    {
     "name": "stderr",
     "output_type": "stream",
     "text": [
      " 32%|███▏      | 9/28 [00:30<01:04,  3.39s/it]"
     ]
    },
    {
     "name": "stdout",
     "output_type": "stream",
     "text": [
      "Step 9: t_curr = 768.2926635742188, t_prev = 795.45458984375\n"
     ]
    },
    {
     "name": "stderr",
     "output_type": "stream",
     "text": [
      " 36%|███▌      | 10/28 [00:33<01:00,  3.39s/it]"
     ]
    },
    {
     "name": "stdout",
     "output_type": "stream",
     "text": [
      "Step 10: t_curr = 795.45458984375, t_prev = 819.1490478515625\n"
     ]
    },
    {
     "name": "stderr",
     "output_type": "stream",
     "text": [
      " 39%|███▉      | 11/28 [00:37<00:57,  3.39s/it]"
     ]
    },
    {
     "name": "stdout",
     "output_type": "stream",
     "text": [
      "Step 11: t_curr = 819.1490478515625, t_prev = 840.0000610351562\n"
     ]
    },
    {
     "name": "stderr",
     "output_type": "stream",
     "text": [
      " 43%|████▎     | 12/28 [00:40<00:54,  3.38s/it]"
     ]
    },
    {
     "name": "stdout",
     "output_type": "stream",
     "text": [
      "Step 12: t_curr = 840.0000610351562, t_prev = 858.4905395507812\n"
     ]
    },
    {
     "name": "stderr",
     "output_type": "stream",
     "text": [
      " 46%|████▋     | 13/28 [00:44<00:50,  3.38s/it]"
     ]
    },
    {
     "name": "stdout",
     "output_type": "stream",
     "text": [
      "Step 13: t_curr = 858.4905395507812, t_prev = 875.0\n"
     ]
    },
    {
     "name": "stderr",
     "output_type": "stream",
     "text": [
      " 50%|█████     | 14/28 [00:47<00:47,  3.38s/it]"
     ]
    },
    {
     "name": "stdout",
     "output_type": "stream",
     "text": [
      "Step 14: t_curr = 875.0, t_prev = 889.8304443359375\n"
     ]
    },
    {
     "name": "stderr",
     "output_type": "stream",
     "text": [
      " 54%|█████▎    | 15/28 [00:50<00:44,  3.39s/it]"
     ]
    },
    {
     "name": "stdout",
     "output_type": "stream",
     "text": [
      "Step 15: t_curr = 889.8304443359375, t_prev = 903.2257690429688\n"
     ]
    },
    {
     "name": "stderr",
     "output_type": "stream",
     "text": [
      " 57%|█████▋    | 16/28 [00:54<00:40,  3.39s/it]"
     ]
    },
    {
     "name": "stdout",
     "output_type": "stream",
     "text": [
      "Step 16: t_curr = 903.2257690429688, t_prev = 915.3846435546875\n"
     ]
    },
    {
     "name": "stderr",
     "output_type": "stream",
     "text": [
      " 61%|██████    | 17/28 [00:57<00:37,  3.39s/it]"
     ]
    },
    {
     "name": "stdout",
     "output_type": "stream",
     "text": [
      "Step 17: t_curr = 915.3846435546875, t_prev = 926.4705810546875\n"
     ]
    },
    {
     "name": "stderr",
     "output_type": "stream",
     "text": [
      " 64%|██████▍   | 18/28 [01:01<00:33,  3.39s/it]"
     ]
    },
    {
     "name": "stdout",
     "output_type": "stream",
     "text": [
      "Step 18: t_curr = 926.4705810546875, t_prev = 936.6197509765625\n"
     ]
    },
    {
     "name": "stderr",
     "output_type": "stream",
     "text": [
      " 68%|██████▊   | 19/28 [01:04<00:30,  3.40s/it]"
     ]
    },
    {
     "name": "stdout",
     "output_type": "stream",
     "text": [
      "Step 19: t_curr = 936.6197509765625, t_prev = 945.9459838867188\n"
     ]
    },
    {
     "name": "stderr",
     "output_type": "stream",
     "text": [
      " 71%|███████▏  | 20/28 [01:07<00:27,  3.40s/it]"
     ]
    },
    {
     "name": "stdout",
     "output_type": "stream",
     "text": [
      "Step 20: t_curr = 945.9459838867188, t_prev = 954.54541015625\n"
     ]
    },
    {
     "name": "stderr",
     "output_type": "stream",
     "text": [
      " 75%|███████▌  | 21/28 [01:11<00:23,  3.41s/it]"
     ]
    },
    {
     "name": "stdout",
     "output_type": "stream",
     "text": [
      "Step 21: t_curr = 954.54541015625, t_prev = 962.5\n"
     ]
    },
    {
     "name": "stderr",
     "output_type": "stream",
     "text": [
      " 79%|███████▊  | 22/28 [01:14<00:20,  3.41s/it]"
     ]
    },
    {
     "name": "stdout",
     "output_type": "stream",
     "text": [
      "Step 22: t_curr = 962.5, t_prev = 969.8795776367188\n"
     ]
    },
    {
     "name": "stderr",
     "output_type": "stream",
     "text": [
      " 82%|████████▏ | 23/28 [01:18<00:17,  3.41s/it]"
     ]
    },
    {
     "name": "stdout",
     "output_type": "stream",
     "text": [
      "Step 23: t_curr = 969.8795776367188, t_prev = 976.7442016601562\n"
     ]
    },
    {
     "name": "stderr",
     "output_type": "stream",
     "text": [
      " 86%|████████▌ | 24/28 [01:21<00:13,  3.41s/it]"
     ]
    },
    {
     "name": "stdout",
     "output_type": "stream",
     "text": [
      "Step 24: t_curr = 976.7442016601562, t_prev = 983.1460571289062\n"
     ]
    },
    {
     "name": "stderr",
     "output_type": "stream",
     "text": [
      " 89%|████████▉ | 25/28 [01:24<00:10,  3.41s/it]"
     ]
    },
    {
     "name": "stdout",
     "output_type": "stream",
     "text": [
      "Step 25: t_curr = 983.1460571289062, t_prev = 989.1304931640625\n"
     ]
    },
    {
     "name": "stderr",
     "output_type": "stream",
     "text": [
      " 93%|█████████▎| 26/28 [01:28<00:06,  3.41s/it]"
     ]
    },
    {
     "name": "stdout",
     "output_type": "stream",
     "text": [
      "Step 26: t_curr = 989.1304931640625, t_prev = 994.7368774414062\n"
     ]
    },
    {
     "name": "stderr",
     "output_type": "stream",
     "text": [
      " 96%|█████████▋| 27/28 [01:31<00:03,  3.40s/it]\n"
     ]
    },
    {
     "name": "stdout",
     "output_type": "stream",
     "text": [
      "cuda:0\n",
      "cuda:0\n",
      "sigmas: tensor([1.0000, 0.9947, 0.9891, 0.9831, 0.9767, 0.9699, 0.9625, 0.9545, 0.9459,\n",
      "        0.9366, 0.9265, 0.9154, 0.9032, 0.8898, 0.8750, 0.8585, 0.8400, 0.8191,\n",
      "        0.7955, 0.7683, 0.7368, 0.7000, 0.6562, 0.6034, 0.5385, 0.4565, 0.3500,\n",
      "        0.2059, 0.0000])\n",
      "Using inversed latents\n",
      "Step 0: t = 1000.0\n",
      "Step 1: t = 994.7368774414062\n",
      "Step 2: t = 989.1304931640625\n",
      "Step 3: t = 983.1460571289062\n",
      "Step 4: t = 976.7442016601562\n",
      "Step 5: t = 969.8795776367188\n",
      "Step 6: t = 962.5\n",
      "Step 7: t = 954.54541015625\n",
      "Step 8: t = 945.9459838867188\n",
      "Step 9: t = 936.6197509765625\n",
      "Step 10: t = 926.4705810546875\n",
      "Step 11: t = 915.3846435546875\n",
      "Step 12: t = 903.2257690429688\n",
      "Step 13: t = 889.8304443359375\n",
      "Step 14: t = 875.0\n",
      "Step 15: t = 858.4905395507812\n",
      "Step 16: t = 840.0000610351562\n",
      "Step 17: t = 819.1490478515625\n",
      "Step 18: t = 795.45458984375\n",
      "Step 19: t = 768.2926635742188\n",
      "Step 20: t = 736.8421020507812\n",
      "Step 21: t = 700.0\n",
      "Step 22: t = 656.25\n",
      "Step 23: t = 603.4482421875\n",
      "Step 24: t = 538.4614868164062\n",
      "Step 25: t = 456.5217590332031\n",
      "Step 26: t = 350.0\n",
      "Step 27: t = 205.88235473632812\n"
     ]
    },
    {
     "name": "stderr",
     "output_type": "stream",
     "text": [
      "  0%|          | 0/28 [00:00<?, ?it/s]"
     ]
    },
    {
     "name": "stdout",
     "output_type": "stream",
     "text": [
      "Step 0: t_curr = 1000.0, t_prev = 994.7368774414062\n"
     ]
    },
    {
     "name": "stderr",
     "output_type": "stream",
     "text": [
      "  4%|▎         | 1/28 [00:03<01:31,  3.38s/it]"
     ]
    },
    {
     "name": "stdout",
     "output_type": "stream",
     "text": [
      "Step 1: t_curr = 994.7368774414062, t_prev = 989.1304931640625\n"
     ]
    },
    {
     "name": "stderr",
     "output_type": "stream",
     "text": [
      "  7%|▋         | 2/28 [00:06<01:27,  3.37s/it]"
     ]
    },
    {
     "name": "stdout",
     "output_type": "stream",
     "text": [
      "Step 2: t_curr = 989.1304931640625, t_prev = 983.1460571289062\n"
     ]
    },
    {
     "name": "stderr",
     "output_type": "stream",
     "text": [
      " 11%|█         | 3/28 [00:10<01:24,  3.38s/it]"
     ]
    },
    {
     "name": "stdout",
     "output_type": "stream",
     "text": [
      "Step 3: t_curr = 983.1460571289062, t_prev = 976.7442016601562\n"
     ]
    },
    {
     "name": "stderr",
     "output_type": "stream",
     "text": [
      " 14%|█▍        | 4/28 [00:13<01:21,  3.38s/it]"
     ]
    },
    {
     "name": "stdout",
     "output_type": "stream",
     "text": [
      "Step 4: t_curr = 976.7442016601562, t_prev = 969.8795776367188\n"
     ]
    },
    {
     "name": "stderr",
     "output_type": "stream",
     "text": [
      " 18%|█▊        | 5/28 [00:16<01:17,  3.38s/it]"
     ]
    },
    {
     "name": "stdout",
     "output_type": "stream",
     "text": [
      "Step 5: t_curr = 969.8795776367188, t_prev = 962.5\n"
     ]
    },
    {
     "name": "stderr",
     "output_type": "stream",
     "text": [
      " 21%|██▏       | 6/28 [00:20<01:14,  3.39s/it]"
     ]
    },
    {
     "name": "stdout",
     "output_type": "stream",
     "text": [
      "Step 6: t_curr = 962.5, t_prev = 954.54541015625\n"
     ]
    },
    {
     "name": "stderr",
     "output_type": "stream",
     "text": [
      " 25%|██▌       | 7/28 [00:23<01:11,  3.39s/it]"
     ]
    },
    {
     "name": "stdout",
     "output_type": "stream",
     "text": [
      "Step 7: t_curr = 954.54541015625, t_prev = 945.9459838867188\n"
     ]
    },
    {
     "name": "stderr",
     "output_type": "stream",
     "text": [
      " 29%|██▊       | 8/28 [00:27<01:07,  3.39s/it]"
     ]
    },
    {
     "name": "stdout",
     "output_type": "stream",
     "text": [
      "Step 8: t_curr = 945.9459838867188, t_prev = 936.6197509765625\n"
     ]
    },
    {
     "name": "stderr",
     "output_type": "stream",
     "text": [
      " 32%|███▏      | 9/28 [00:30<01:04,  3.39s/it]"
     ]
    },
    {
     "name": "stdout",
     "output_type": "stream",
     "text": [
      "Step 9: t_curr = 936.6197509765625, t_prev = 926.4705810546875\n"
     ]
    },
    {
     "name": "stderr",
     "output_type": "stream",
     "text": [
      " 36%|███▌      | 10/28 [00:33<01:00,  3.39s/it]"
     ]
    },
    {
     "name": "stdout",
     "output_type": "stream",
     "text": [
      "Step 10: t_curr = 926.4705810546875, t_prev = 915.3846435546875\n"
     ]
    },
    {
     "name": "stderr",
     "output_type": "stream",
     "text": [
      " 39%|███▉      | 11/28 [00:37<00:57,  3.39s/it]"
     ]
    },
    {
     "name": "stdout",
     "output_type": "stream",
     "text": [
      "Step 11: t_curr = 915.3846435546875, t_prev = 903.2257690429688\n"
     ]
    },
    {
     "name": "stderr",
     "output_type": "stream",
     "text": [
      " 43%|████▎     | 12/28 [00:40<00:54,  3.39s/it]"
     ]
    },
    {
     "name": "stdout",
     "output_type": "stream",
     "text": [
      "Step 12: t_curr = 903.2257690429688, t_prev = 889.8304443359375\n"
     ]
    },
    {
     "name": "stderr",
     "output_type": "stream",
     "text": [
      " 46%|████▋     | 13/28 [00:44<00:50,  3.39s/it]"
     ]
    },
    {
     "name": "stdout",
     "output_type": "stream",
     "text": [
      "Step 13: t_curr = 889.8304443359375, t_prev = 875.0\n"
     ]
    },
    {
     "name": "stderr",
     "output_type": "stream",
     "text": [
      " 50%|█████     | 14/28 [00:47<00:47,  3.39s/it]"
     ]
    },
    {
     "name": "stdout",
     "output_type": "stream",
     "text": [
      "Step 14: t_curr = 875.0, t_prev = 858.4905395507812\n"
     ]
    },
    {
     "name": "stderr",
     "output_type": "stream",
     "text": [
      " 54%|█████▎    | 15/28 [00:50<00:44,  3.40s/it]"
     ]
    },
    {
     "name": "stdout",
     "output_type": "stream",
     "text": [
      "Step 15: t_curr = 858.4905395507812, t_prev = 840.0000610351562\n"
     ]
    },
    {
     "name": "stderr",
     "output_type": "stream",
     "text": [
      " 57%|█████▋    | 16/28 [00:54<00:40,  3.40s/it]"
     ]
    },
    {
     "name": "stdout",
     "output_type": "stream",
     "text": [
      "Step 16: t_curr = 840.0000610351562, t_prev = 819.1490478515625\n"
     ]
    },
    {
     "name": "stderr",
     "output_type": "stream",
     "text": [
      " 61%|██████    | 17/28 [00:57<00:37,  3.40s/it]"
     ]
    },
    {
     "name": "stdout",
     "output_type": "stream",
     "text": [
      "Step 17: t_curr = 819.1490478515625, t_prev = 795.45458984375\n"
     ]
    },
    {
     "name": "stderr",
     "output_type": "stream",
     "text": [
      " 64%|██████▍   | 18/28 [01:01<00:34,  3.40s/it]"
     ]
    },
    {
     "name": "stdout",
     "output_type": "stream",
     "text": [
      "Step 18: t_curr = 795.45458984375, t_prev = 768.2926635742188\n"
     ]
    },
    {
     "name": "stderr",
     "output_type": "stream",
     "text": [
      " 68%|██████▊   | 19/28 [01:04<00:30,  3.41s/it]"
     ]
    },
    {
     "name": "stdout",
     "output_type": "stream",
     "text": [
      "Step 19: t_curr = 768.2926635742188, t_prev = 736.8421020507812\n"
     ]
    },
    {
     "name": "stderr",
     "output_type": "stream",
     "text": [
      " 71%|███████▏  | 20/28 [01:07<00:27,  3.41s/it]"
     ]
    },
    {
     "name": "stdout",
     "output_type": "stream",
     "text": [
      "Step 20: t_curr = 736.8421020507812, t_prev = 700.0\n"
     ]
    },
    {
     "name": "stderr",
     "output_type": "stream",
     "text": [
      " 75%|███████▌  | 21/28 [01:11<00:23,  3.41s/it]"
     ]
    },
    {
     "name": "stdout",
     "output_type": "stream",
     "text": [
      "Step 21: t_curr = 700.0, t_prev = 656.25\n"
     ]
    },
    {
     "name": "stderr",
     "output_type": "stream",
     "text": [
      " 79%|███████▊  | 22/28 [01:14<00:20,  3.41s/it]"
     ]
    },
    {
     "name": "stdout",
     "output_type": "stream",
     "text": [
      "Step 22: t_curr = 656.25, t_prev = 603.4482421875\n"
     ]
    },
    {
     "name": "stderr",
     "output_type": "stream",
     "text": [
      " 82%|████████▏ | 23/28 [01:18<00:17,  3.40s/it]"
     ]
    },
    {
     "name": "stdout",
     "output_type": "stream",
     "text": [
      "Step 23: t_curr = 603.4482421875, t_prev = 538.4614868164062\n"
     ]
    },
    {
     "name": "stderr",
     "output_type": "stream",
     "text": [
      " 86%|████████▌ | 24/28 [01:21<00:13,  3.41s/it]"
     ]
    },
    {
     "name": "stdout",
     "output_type": "stream",
     "text": [
      "Step 24: t_curr = 538.4614868164062, t_prev = 456.5217590332031\n"
     ]
    },
    {
     "name": "stderr",
     "output_type": "stream",
     "text": [
      " 89%|████████▉ | 25/28 [01:24<00:10,  3.40s/it]"
     ]
    },
    {
     "name": "stdout",
     "output_type": "stream",
     "text": [
      "Step 25: t_curr = 456.5217590332031, t_prev = 350.0\n"
     ]
    },
    {
     "name": "stderr",
     "output_type": "stream",
     "text": [
      " 93%|█████████▎| 26/28 [01:28<00:06,  3.40s/it]"
     ]
    },
    {
     "name": "stdout",
     "output_type": "stream",
     "text": [
      "Step 26: t_curr = 350.0, t_prev = 205.88235473632812\n"
     ]
    },
    {
     "name": "stderr",
     "output_type": "stream",
     "text": [
      " 96%|█████████▋| 27/28 [01:31<00:03,  3.40s/it]\n",
      "\u001b[32m2025-04-03 09:43:08.419\u001b[0m | \u001b[1mINFO    \u001b[0m | \u001b[36mhyvideo.inference\u001b[0m:\u001b[36mpredict\u001b[0m:\u001b[36m721\u001b[0m - \u001b[1mSuccess, time: 227.2875998020172\u001b[0m\n",
      "huggingface/tokenizers: The current process just got forked, after parallelism has already been used. Disabling parallelism to avoid deadlocks...\n",
      "To disable this warning, you can either:\n",
      "\t- Avoid using `tokenizers` before the fork if possible\n",
      "\t- Explicitly set the environment variable TOKENIZERS_PARALLELISM=(true | false)\n",
      "\u001b[32m2025-04-03 09:43:09.859\u001b[0m | \u001b[1mINFO    \u001b[0m | \u001b[36m__main__\u001b[0m:\u001b[36mmain\u001b[0m:\u001b[36m95\u001b[0m - \u001b[1mSample save to: ./results/rf_inversion/2025-04-03-09:43:08_seed42_A black swan swimming in a pond with lush greenery in the background..mp4\u001b[0m\n"
     ]
    }
   ],
   "source": [
    "%run edit_video.py \\\n",
    "    --dit-weight \"/home/chx/mySrc/HunyuanVideo/ckpts/hunyuan-video-t2v-720p/transformers/mp_rank_00_model_states_fp8.pt\" \\\n",
    "    --video-size 512 512 \\\n",
    "    --video-length 53 \\\n",
    "    --infer-steps 28 \\\n",
    "    --prompt \"A black swan swimming in a pond with lush greenery in the background.\" \\\n",
    "    --target-prompt \"A majestic flamingo swimming in a pond with lush greenery in the background.\" \\\n",
    "    --inject 0 \\\n",
    "    --seed 42 \\\n",
    "    --embedded-cfg-scale 3.5 \\\n",
    "    --flow-shift 7.0 \\\n",
    "    --flow-reverse \\\n",
    "    --use-cpu-offload \\\n",
    "    --use-fp8 \\\n",
    "    --save-path ./results/rf_inversion \\\n",
    "    --inverse-video-path \"/data/chx/BalanceCC-rename/Result/Animal/blackswan.mp4\" \\\n",
    "    --gamma 0.5 \\\n",
    "    --start-timestep 0\\\n",
    "    --stop-timestep 0.25 \\\n",
    "    --eta-reverse 0.9"
   ]
  },
  {
   "cell_type": "code",
   "execution_count": 1,
   "metadata": {},
   "outputs": [
    {
     "name": "stderr",
     "output_type": "stream",
     "text": [
      "/data/chx/anaconda3/envs/HunyuanVideo-std/lib/python3.10/site-packages/tqdm/auto.py:21: TqdmWarning: IProgress not found. Please update jupyter and ipywidgets. See https://ipywidgets.readthedocs.io/en/stable/user_install.html\n",
      "  from .autonotebook import tqdm as notebook_tqdm\n",
      "\u001b[32m2025-01-14 20:33:19.204\u001b[0m | \u001b[1mINFO    \u001b[0m | \u001b[36mhyvideo.inference\u001b[0m:\u001b[36mfrom_pretrained\u001b[0m:\u001b[36m154\u001b[0m - \u001b[1mGot text-to-video model root path: ckpts\u001b[0m\n",
      "\u001b[32m2025-01-14 20:33:19.205\u001b[0m | \u001b[1mINFO    \u001b[0m | \u001b[36mhyvideo.inference\u001b[0m:\u001b[36mfrom_pretrained\u001b[0m:\u001b[36m189\u001b[0m - \u001b[1mBuilding model...\u001b[0m\n"
     ]
    },
    {
     "name": "stdout",
     "output_type": "stream",
     "text": [
      "detect you are not use the latest yunchang. Please install yunchang>=0.4.0\n",
      "Namespace(model='HYVideo-T/2-cfgdistill', latent_channels=16, precision='bf16', rope_theta=256, vae='884-16c-hy', vae_precision='fp16', vae_tiling=True, text_encoder='llm', text_encoder_precision='fp16', text_states_dim=4096, text_len=256, tokenizer='llm', prompt_template='dit-llm-encode', prompt_template_video='dit-llm-encode-video', hidden_state_skip_layer=2, apply_final_norm=False, text_encoder_2='clipL', text_encoder_precision_2='fp16', text_states_dim_2=768, tokenizer_2='clipL', text_len_2=77, denoise_type='flow', flow_shift=7.0, flow_reverse=True, flow_solver='euler', use_linear_quadratic_schedule=False, linear_schedule_end=25, model_base='ckpts', dit_weight='/home/chx/mySrc/HunyuanVideo/ckpts/hunyuan-video-t2v-720p/transformers/mp_rank_00_model_states_fp8.pt', model_resolution='540p', load_key='module', use_cpu_offload=True, batch_size=1, infer_steps=30, disable_autocast=False, save_path='./results', save_path_suffix='', name_suffix='', num_videos=1, video_size=[512, 512], video_length=25, prompt='A cat walks on the grass, realistic style.', seed_type='auto', seed=42, neg_prompt=None, cfg_scale=1.0, embedded_cfg_scale=6.0, use_fp8=True, reproduce=False, ulysses_degree=1, ring_degree=1, inverse_video_path='/home/chx/mySrc/HunyuanVideo', target_prompt=None)\n",
      "cuda\n"
     ]
    },
    {
     "name": "stderr",
     "output_type": "stream",
     "text": [
      "/home/chx/mySrc/HunyuanVideo/hyvideo/modules/fp8_optimization.py:88: FutureWarning: You are using `torch.load` with `weights_only=False` (the current default value), which uses the default pickle module implicitly. It is possible to construct malicious pickle data which will execute arbitrary code during unpickling (See https://github.com/pytorch/pytorch/blob/main/SECURITY.md#untrusted-models for more details). In a future release, the default value for `weights_only` will be flipped to `True`. This limits the functions that could be executed during unpickling. Arbitrary objects will no longer be allowed to be loaded via this mode unless they are explicitly allowlisted by the user via `torch.serialization.add_safe_globals`. We recommend you start setting `weights_only=True` for any use case where you don't have full control of the loaded file. Please open an issue on GitHub for any issues related to this experimental feature.\n",
      "  fp8_map = torch.load(fp8_map_path, map_location=lambda storage, loc: storage)\n",
      "\u001b[32m2025-01-14 20:35:44.555\u001b[0m | \u001b[1mINFO    \u001b[0m | \u001b[36mhyvideo.inference\u001b[0m:\u001b[36mload_state_dict\u001b[0m:\u001b[36m344\u001b[0m - \u001b[1mLoading torch model /home/chx/mySrc/HunyuanVideo/ckpts/hunyuan-video-t2v-720p/transformers/mp_rank_00_model_states_fp8.pt...\u001b[0m\n",
      "/home/chx/mySrc/HunyuanVideo/hyvideo/inference.py:345: FutureWarning: You are using `torch.load` with `weights_only=False` (the current default value), which uses the default pickle module implicitly. It is possible to construct malicious pickle data which will execute arbitrary code during unpickling (See https://github.com/pytorch/pytorch/blob/main/SECURITY.md#untrusted-models for more details). In a future release, the default value for `weights_only` will be flipped to `True`. This limits the functions that could be executed during unpickling. Arbitrary objects will no longer be allowed to be loaded via this mode unless they are explicitly allowlisted by the user via `torch.serialization.add_safe_globals`. We recommend you start setting `weights_only=True` for any use case where you don't have full control of the loaded file. Please open an issue on GitHub for any issues related to this experimental feature.\n",
      "  state_dict = torch.load(model_path, map_location=lambda storage, loc: storage)\n",
      "\u001b[32m2025-01-14 20:35:58.311\u001b[0m | \u001b[1mINFO    \u001b[0m | \u001b[36mhyvideo.vae\u001b[0m:\u001b[36mload_vae\u001b[0m:\u001b[36m29\u001b[0m - \u001b[1mLoading 3D VAE model (884-16c-hy) from: ./ckpts/hunyuan-video-t2v-720p/vae\u001b[0m\n"
     ]
    },
    {
     "name": "stdout",
     "output_type": "stream",
     "text": [
      "loading vae\n"
     ]
    },
    {
     "name": "stderr",
     "output_type": "stream",
     "text": [
      "/home/chx/mySrc/HunyuanVideo/hyvideo/vae/__init__.py:39: FutureWarning: You are using `torch.load` with `weights_only=False` (the current default value), which uses the default pickle module implicitly. It is possible to construct malicious pickle data which will execute arbitrary code during unpickling (See https://github.com/pytorch/pytorch/blob/main/SECURITY.md#untrusted-models for more details). In a future release, the default value for `weights_only` will be flipped to `True`. This limits the functions that could be executed during unpickling. Arbitrary objects will no longer be allowed to be loaded via this mode unless they are explicitly allowlisted by the user via `torch.serialization.add_safe_globals`. We recommend you start setting `weights_only=True` for any use case where you don't have full control of the loaded file. Please open an issue on GitHub for any issues related to this experimental feature.\n",
      "  ckpt = torch.load(vae_ckpt, map_location=vae.device)\n",
      "\u001b[32m2025-01-14 20:36:02.525\u001b[0m | \u001b[1mINFO    \u001b[0m | \u001b[36mhyvideo.vae\u001b[0m:\u001b[36mload_vae\u001b[0m:\u001b[36m55\u001b[0m - \u001b[1mVAE to dtype: torch.float16\u001b[0m\n",
      "\u001b[32m2025-01-14 20:36:02.534\u001b[0m | \u001b[1mINFO    \u001b[0m | \u001b[36mhyvideo.text_encoder\u001b[0m:\u001b[36mload_text_encoder\u001b[0m:\u001b[36m28\u001b[0m - \u001b[1mLoading text encoder model (llm) from: ./ckpts/text_encoder\u001b[0m\n",
      "Loading checkpoint shards: 100%|██████████| 4/4 [00:05<00:00,  1.36s/it]\n",
      "\u001b[32m2025-01-14 20:36:13.190\u001b[0m | \u001b[1mINFO    \u001b[0m | \u001b[36mhyvideo.text_encoder\u001b[0m:\u001b[36mload_text_encoder\u001b[0m:\u001b[36m50\u001b[0m - \u001b[1mText encoder to dtype: torch.float16\u001b[0m\n",
      "\u001b[32m2025-01-14 20:36:13.194\u001b[0m | \u001b[1mINFO    \u001b[0m | \u001b[36mhyvideo.text_encoder\u001b[0m:\u001b[36mload_tokenizer\u001b[0m:\u001b[36m64\u001b[0m - \u001b[1mLoading tokenizer (llm) from: ./ckpts/text_encoder\u001b[0m\n",
      "\u001b[32m2025-01-14 20:36:13.772\u001b[0m | \u001b[1mINFO    \u001b[0m | \u001b[36mhyvideo.text_encoder\u001b[0m:\u001b[36mload_text_encoder\u001b[0m:\u001b[36m28\u001b[0m - \u001b[1mLoading text encoder model (clipL) from: ./ckpts/text_encoder_2\u001b[0m\n",
      "\u001b[32m2025-01-14 20:36:14.716\u001b[0m | \u001b[1mINFO    \u001b[0m | \u001b[36mhyvideo.text_encoder\u001b[0m:\u001b[36mload_text_encoder\u001b[0m:\u001b[36m50\u001b[0m - \u001b[1mText encoder to dtype: torch.float16\u001b[0m\n",
      "\u001b[32m2025-01-14 20:36:14.719\u001b[0m | \u001b[1mINFO    \u001b[0m | \u001b[36mhyvideo.text_encoder\u001b[0m:\u001b[36mload_tokenizer\u001b[0m:\u001b[36m64\u001b[0m - \u001b[1mLoading tokenizer (clipL) from: ./ckpts/text_encoder_2\u001b[0m\n",
      "\u001b[32m2025-01-14 20:36:14.917\u001b[0m | \u001b[1mINFO    \u001b[0m | \u001b[36mhyvideo.inference\u001b[0m:\u001b[36mpredict\u001b[0m:\u001b[36m590\u001b[0m - \u001b[1mInput (height, width, video_length) = (512, 512, 25)\u001b[0m\n"
     ]
    },
    {
     "name": "stdout",
     "output_type": "stream",
     "text": [
      "Enable sequential CPU offload.\n"
     ]
    },
    {
     "name": "stderr",
     "output_type": "stream",
     "text": [
      "\u001b[32m2025-01-14 20:36:15.189\u001b[0m | \u001b[34m\u001b[1mDEBUG   \u001b[0m | \u001b[36mhyvideo.inference\u001b[0m:\u001b[36mpredict\u001b[0m:\u001b[36m650\u001b[0m - \u001b[34m\u001b[1m\n",
      "                        height: 512\n",
      "                         width: 512\n",
      "                  video_length: 25\n",
      "                        prompt: ['A cat walks on the grass, realistic style.']\n",
      "                    neg_prompt: ['Aerial view, aerial view, overexposed, low quality, deformation, a poor composition, bad hands, bad teeth, bad eyes, bad limbs, distortion']\n",
      "                          seed: 42\n",
      "                   infer_steps: 30\n",
      "         num_videos_per_prompt: 1\n",
      "                guidance_scale: 1.0\n",
      "                      n_tokens: 7168\n",
      "                    flow_shift: 7.0\n",
      "       embedded_guidance_scale: 6.0\u001b[0m\n"
     ]
    },
    {
     "name": "stdout",
     "output_type": "stream",
     "text": [
      "self._execution_device cuda:0\n",
      "cuda:0\n",
      "cuda:0\n",
      "Step 0: t = 1000.0\n",
      "Step 1: t = 995.0980834960938\n",
      "Step 2: t = 989.8989868164062\n",
      "Step 3: t = 984.375\n",
      "Step 4: t = 978.49462890625\n",
      "Step 5: t = 972.22216796875\n",
      "Step 6: t = 965.5172119140625\n",
      "Step 7: t = 958.3333740234375\n",
      "Step 8: t = 950.6172485351562\n",
      "Step 9: t = 942.3078002929688\n",
      "Step 10: t = 933.333251953125\n",
      "Step 11: t = 923.611083984375\n",
      "Step 12: t = 913.04345703125\n",
      "Step 13: t = 901.51513671875\n",
      "Step 14: t = 888.888916015625\n",
      "Step 15: t = 875.0\n",
      "Step 16: t = 859.6491088867188\n",
      "Step 17: t = 842.5925903320312\n",
      "Step 18: t = 823.5294189453125\n",
      "Step 19: t = 802.0833129882812\n",
      "Step 20: t = 777.77783203125\n",
      "Step 21: t = 750.0\n",
      "Step 22: t = 717.94873046875\n",
      "Step 23: t = 680.5556030273438\n",
      "Step 24: t = 636.3637084960938\n",
      "Step 25: t = 583.3333740234375\n",
      "Step 26: t = 518.5184936523438\n",
      "Step 27: t = 437.5000305175781\n",
      "Step 28: t = 333.3333435058594\n",
      "Step 29: t = 194.44444274902344\n"
     ]
    },
    {
     "name": "stderr",
     "output_type": "stream",
     "text": [
      "100%|██████████| 30/30 [00:49<00:00,  1.64s/it]\n",
      "\u001b[32m2025-01-14 20:37:23.031\u001b[0m | \u001b[1mINFO    \u001b[0m | \u001b[36mhyvideo.inference\u001b[0m:\u001b[36mpredict\u001b[0m:\u001b[36m684\u001b[0m - \u001b[1mSuccess, time: 67.84050464630127\u001b[0m\n",
      "huggingface/tokenizers: The current process just got forked, after parallelism has already been used. Disabling parallelism to avoid deadlocks...\n",
      "To disable this warning, you can either:\n",
      "\t- Avoid using `tokenizers` before the fork if possible\n",
      "\t- Explicitly set the environment variable TOKENIZERS_PARALLELISM=(true | false)\n",
      "\u001b[32m2025-01-14 20:37:24.919\u001b[0m | \u001b[1mINFO    \u001b[0m | \u001b[36m__main__\u001b[0m:\u001b[36mmain\u001b[0m:\u001b[36m57\u001b[0m - \u001b[1mSample save to: ./results/2025-01-14-20:37:23_seed42_A cat walks on the grass, realistic style..mp4\u001b[0m\n"
     ]
    }
   ],
   "source": [
    "%run sample_video.py \\\n",
    "    --dit-weight \"/home/chx/mySrc/HunyuanVideo/ckpts/hunyuan-video-t2v-720p/transformers/mp_rank_00_model_states_fp8.pt\" \\\n",
    "    --video-size 512 512 \\\n",
    "    --video-length 25 \\\n",
    "    --infer-steps 30 \\\n",
    "    --prompt \"A cat walks on the grass, realistic style.\" \\\n",
    "    --seed 42 \\\n",
    "    --embedded-cfg-scale 6.0 \\\n",
    "    --flow-shift 7.0 \\\n",
    "    --flow-reverse \\\n",
    "    --use-cpu-offload \\\n",
    "    --use-fp8 \\\n",
    "    --save-path ./results"
   ]
  },
  {
   "cell_type": "code",
   "execution_count": null,
   "metadata": {},
   "outputs": [],
   "source": []
  }
 ],
 "metadata": {
  "kernelspec": {
   "display_name": "HunyuanVideo_rf_inv",
   "language": "python",
   "name": "python3"
  },
  "language_info": {
   "codemirror_mode": {
    "name": "ipython",
    "version": 3
   },
   "file_extension": ".py",
   "mimetype": "text/x-python",
   "name": "python",
   "nbconvert_exporter": "python",
   "pygments_lexer": "ipython3",
   "version": "3.10.9"
  }
 },
 "nbformat": 4,
 "nbformat_minor": 2
}
