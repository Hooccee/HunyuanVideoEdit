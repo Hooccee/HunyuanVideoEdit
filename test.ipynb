{
 "cells": [
  {
   "cell_type": "code",
   "execution_count": null,
   "metadata": {},
   "outputs": [
    {
     "ename": "KeyboardInterrupt",
     "evalue": "",
     "output_type": "error",
     "traceback": [
      "\u001b[0;31m---------------------------------------------------------------------------\u001b[0m",
      "\u001b[0;31mKeyboardInterrupt\u001b[0m                         Traceback (most recent call last)",
      "File \u001b[0;32m~/mySrc/HunyuanVideo/edit_video.py:9\u001b[0m\n\u001b[1;32m      6\u001b[0m \u001b[38;5;28;01mfrom\u001b[39;00m \u001b[38;5;21;01mloguru\u001b[39;00m \u001b[38;5;28;01mimport\u001b[39;00m logger\n\u001b[1;32m      7\u001b[0m \u001b[38;5;28;01mfrom\u001b[39;00m \u001b[38;5;21;01mdatetime\u001b[39;00m \u001b[38;5;28;01mimport\u001b[39;00m datetime\n\u001b[0;32m----> 9\u001b[0m \u001b[38;5;28;01mfrom\u001b[39;00m \u001b[38;5;21;01mhyvideo\u001b[39;00m\u001b[38;5;21;01m.\u001b[39;00m\u001b[38;5;21;01mutils\u001b[39;00m\u001b[38;5;21;01m.\u001b[39;00m\u001b[38;5;21;01mfile_utils\u001b[39;00m \u001b[38;5;28;01mimport\u001b[39;00m save_videos_grid,video_to_tensor\n\u001b[1;32m     10\u001b[0m \u001b[38;5;28;01mfrom\u001b[39;00m \u001b[38;5;21;01mhyvideo\u001b[39;00m\u001b[38;5;21;01m.\u001b[39;00m\u001b[38;5;21;01mconfig\u001b[39;00m \u001b[38;5;28;01mimport\u001b[39;00m parse_args\n\u001b[1;32m     11\u001b[0m \u001b[38;5;28;01mfrom\u001b[39;00m \u001b[38;5;21;01mhyvideo\u001b[39;00m\u001b[38;5;21;01m.\u001b[39;00m\u001b[38;5;21;01minference\u001b[39;00m \u001b[38;5;28;01mimport\u001b[39;00m HunyuanVideoSampler\n",
      "File \u001b[0;32m~/mySrc/HunyuanVideo/hyvideo/utils/file_utils.py:6\u001b[0m\n\u001b[1;32m      3\u001b[0m \u001b[38;5;28;01mfrom\u001b[39;00m \u001b[38;5;21;01meinops\u001b[39;00m \u001b[38;5;28;01mimport\u001b[39;00m rearrange\n\u001b[1;32m      5\u001b[0m \u001b[38;5;28;01mimport\u001b[39;00m \u001b[38;5;21;01mtorch\u001b[39;00m\n\u001b[0;32m----> 6\u001b[0m \u001b[38;5;28;01mimport\u001b[39;00m \u001b[38;5;21;01mtorchvision\u001b[39;00m\n\u001b[1;32m      7\u001b[0m \u001b[38;5;28;01mimport\u001b[39;00m \u001b[38;5;21;01mnumpy\u001b[39;00m \u001b[38;5;28;01mas\u001b[39;00m \u001b[38;5;21;01mnp\u001b[39;00m\n\u001b[1;32m      8\u001b[0m \u001b[38;5;28;01mimport\u001b[39;00m \u001b[38;5;21;01mimageio\u001b[39;00m\n",
      "File \u001b[0;32m/data/chx/anaconda3/envs/HunyuanVideo-std/lib/python3.10/site-packages/torchvision/__init__.py:10\u001b[0m\n\u001b[1;32m      7\u001b[0m \u001b[38;5;66;03m# Don't re-order these, we need to load the _C extension (done when importing\u001b[39;00m\n\u001b[1;32m      8\u001b[0m \u001b[38;5;66;03m# .extensions) before entering _meta_registrations.\u001b[39;00m\n\u001b[1;32m      9\u001b[0m \u001b[38;5;28;01mfrom\u001b[39;00m \u001b[38;5;21;01m.\u001b[39;00m\u001b[38;5;21;01mextension\u001b[39;00m \u001b[38;5;28;01mimport\u001b[39;00m _HAS_OPS  \u001b[38;5;66;03m# usort:skip\u001b[39;00m\n\u001b[0;32m---> 10\u001b[0m \u001b[38;5;28;01mfrom\u001b[39;00m \u001b[38;5;21;01mtorchvision\u001b[39;00m \u001b[38;5;28;01mimport\u001b[39;00m _meta_registrations, datasets, io, models, ops, transforms, utils  \u001b[38;5;66;03m# usort:skip\u001b[39;00m\n\u001b[1;32m     12\u001b[0m \u001b[38;5;28;01mtry\u001b[39;00m:\n\u001b[1;32m     13\u001b[0m     \u001b[38;5;28;01mfrom\u001b[39;00m \u001b[38;5;21;01m.\u001b[39;00m\u001b[38;5;21;01mversion\u001b[39;00m \u001b[38;5;28;01mimport\u001b[39;00m __version__  \u001b[38;5;66;03m# noqa: F401\u001b[39;00m\n",
      "File \u001b[0;32m/data/chx/anaconda3/envs/HunyuanVideo-std/lib/python3.10/site-packages/torchvision/models/__init__.py:2\u001b[0m\n\u001b[1;32m      1\u001b[0m \u001b[38;5;28;01mfrom\u001b[39;00m \u001b[38;5;21;01m.\u001b[39;00m\u001b[38;5;21;01malexnet\u001b[39;00m \u001b[38;5;28;01mimport\u001b[39;00m \u001b[38;5;241m*\u001b[39m\n\u001b[0;32m----> 2\u001b[0m \u001b[38;5;28;01mfrom\u001b[39;00m \u001b[38;5;21;01m.\u001b[39;00m\u001b[38;5;21;01mconvnext\u001b[39;00m \u001b[38;5;28;01mimport\u001b[39;00m \u001b[38;5;241m*\u001b[39m\n\u001b[1;32m      3\u001b[0m \u001b[38;5;28;01mfrom\u001b[39;00m \u001b[38;5;21;01m.\u001b[39;00m\u001b[38;5;21;01mdensenet\u001b[39;00m \u001b[38;5;28;01mimport\u001b[39;00m \u001b[38;5;241m*\u001b[39m\n\u001b[1;32m      4\u001b[0m \u001b[38;5;28;01mfrom\u001b[39;00m \u001b[38;5;21;01m.\u001b[39;00m\u001b[38;5;21;01mefficientnet\u001b[39;00m \u001b[38;5;28;01mimport\u001b[39;00m \u001b[38;5;241m*\u001b[39m\n",
      "File \u001b[0;32m/data/chx/anaconda3/envs/HunyuanVideo-std/lib/python3.10/site-packages/torchvision/models/convnext.py:8\u001b[0m\n\u001b[1;32m      5\u001b[0m \u001b[38;5;28;01mfrom\u001b[39;00m \u001b[38;5;21;01mtorch\u001b[39;00m \u001b[38;5;28;01mimport\u001b[39;00m nn, Tensor\n\u001b[1;32m      6\u001b[0m \u001b[38;5;28;01mfrom\u001b[39;00m \u001b[38;5;21;01mtorch\u001b[39;00m\u001b[38;5;21;01m.\u001b[39;00m\u001b[38;5;21;01mnn\u001b[39;00m \u001b[38;5;28;01mimport\u001b[39;00m functional \u001b[38;5;28;01mas\u001b[39;00m F\n\u001b[0;32m----> 8\u001b[0m \u001b[38;5;28;01mfrom\u001b[39;00m \u001b[38;5;21;01m.\u001b[39;00m\u001b[38;5;21;01m.\u001b[39;00m\u001b[38;5;21;01mops\u001b[39;00m\u001b[38;5;21;01m.\u001b[39;00m\u001b[38;5;21;01mmisc\u001b[39;00m \u001b[38;5;28;01mimport\u001b[39;00m Conv2dNormActivation, Permute\n\u001b[1;32m      9\u001b[0m \u001b[38;5;28;01mfrom\u001b[39;00m \u001b[38;5;21;01m.\u001b[39;00m\u001b[38;5;21;01m.\u001b[39;00m\u001b[38;5;21;01mops\u001b[39;00m\u001b[38;5;21;01m.\u001b[39;00m\u001b[38;5;21;01mstochastic_depth\u001b[39;00m \u001b[38;5;28;01mimport\u001b[39;00m StochasticDepth\n\u001b[1;32m     10\u001b[0m \u001b[38;5;28;01mfrom\u001b[39;00m \u001b[38;5;21;01m.\u001b[39;00m\u001b[38;5;21;01m.\u001b[39;00m\u001b[38;5;21;01mtransforms\u001b[39;00m\u001b[38;5;21;01m.\u001b[39;00m\u001b[38;5;21;01m_presets\u001b[39;00m \u001b[38;5;28;01mimport\u001b[39;00m ImageClassification\n",
      "File \u001b[0;32m/data/chx/anaconda3/envs/HunyuanVideo-std/lib/python3.10/site-packages/torchvision/ops/__init__.py:23\u001b[0m\n\u001b[1;32m     21\u001b[0m \u001b[38;5;28;01mfrom\u001b[39;00m \u001b[38;5;21;01m.\u001b[39;00m\u001b[38;5;21;01mgiou_loss\u001b[39;00m \u001b[38;5;28;01mimport\u001b[39;00m generalized_box_iou_loss\n\u001b[1;32m     22\u001b[0m \u001b[38;5;28;01mfrom\u001b[39;00m \u001b[38;5;21;01m.\u001b[39;00m\u001b[38;5;21;01mmisc\u001b[39;00m \u001b[38;5;28;01mimport\u001b[39;00m Conv2dNormActivation, Conv3dNormActivation, FrozenBatchNorm2d, MLP, Permute, SqueezeExcitation\n\u001b[0;32m---> 23\u001b[0m \u001b[38;5;28;01mfrom\u001b[39;00m \u001b[38;5;21;01m.\u001b[39;00m\u001b[38;5;21;01mpoolers\u001b[39;00m \u001b[38;5;28;01mimport\u001b[39;00m MultiScaleRoIAlign\n\u001b[1;32m     24\u001b[0m \u001b[38;5;28;01mfrom\u001b[39;00m \u001b[38;5;21;01m.\u001b[39;00m\u001b[38;5;21;01mps_roi_align\u001b[39;00m \u001b[38;5;28;01mimport\u001b[39;00m ps_roi_align, PSRoIAlign\n\u001b[1;32m     25\u001b[0m \u001b[38;5;28;01mfrom\u001b[39;00m \u001b[38;5;21;01m.\u001b[39;00m\u001b[38;5;21;01mps_roi_pool\u001b[39;00m \u001b[38;5;28;01mimport\u001b[39;00m ps_roi_pool, PSRoIPool\n",
      "File \u001b[0;32m/data/chx/anaconda3/envs/HunyuanVideo-std/lib/python3.10/site-packages/torchvision/ops/poolers.py:10\u001b[0m\n\u001b[1;32m      7\u001b[0m \u001b[38;5;28;01mfrom\u001b[39;00m \u001b[38;5;21;01mtorchvision\u001b[39;00m\u001b[38;5;21;01m.\u001b[39;00m\u001b[38;5;21;01mops\u001b[39;00m\u001b[38;5;21;01m.\u001b[39;00m\u001b[38;5;21;01mboxes\u001b[39;00m \u001b[38;5;28;01mimport\u001b[39;00m box_area\n\u001b[1;32m      9\u001b[0m \u001b[38;5;28;01mfrom\u001b[39;00m \u001b[38;5;21;01m.\u001b[39;00m\u001b[38;5;21;01m.\u001b[39;00m\u001b[38;5;21;01mutils\u001b[39;00m \u001b[38;5;28;01mimport\u001b[39;00m _log_api_usage_once\n\u001b[0;32m---> 10\u001b[0m \u001b[38;5;28;01mfrom\u001b[39;00m \u001b[38;5;21;01m.\u001b[39;00m\u001b[38;5;21;01mroi_align\u001b[39;00m \u001b[38;5;28;01mimport\u001b[39;00m roi_align\n\u001b[1;32m     13\u001b[0m \u001b[38;5;66;03m# copying result_idx_in_level to a specific index in result[]\u001b[39;00m\n\u001b[1;32m     14\u001b[0m \u001b[38;5;66;03m# is not supported by ONNX tracing yet.\u001b[39;00m\n\u001b[1;32m     15\u001b[0m \u001b[38;5;66;03m# _onnx_merge_levels() is an implementation supported by ONNX\u001b[39;00m\n\u001b[1;32m     16\u001b[0m \u001b[38;5;66;03m# that merges the levels to the right indices\u001b[39;00m\n\u001b[1;32m     17\u001b[0m \u001b[38;5;129m@torch\u001b[39m\u001b[38;5;241m.\u001b[39mjit\u001b[38;5;241m.\u001b[39munused\n\u001b[1;32m     18\u001b[0m \u001b[38;5;28;01mdef\u001b[39;00m \u001b[38;5;21m_onnx_merge_levels\u001b[39m(levels: Tensor, unmerged_results: List[Tensor]) \u001b[38;5;241m-\u001b[39m\u001b[38;5;241m>\u001b[39m Tensor:\n",
      "File \u001b[0;32m/data/chx/anaconda3/envs/HunyuanVideo-std/lib/python3.10/site-packages/torchvision/ops/roi_align.py:7\u001b[0m\n\u001b[1;32m      5\u001b[0m \u001b[38;5;28;01mimport\u001b[39;00m \u001b[38;5;21;01mtorch\u001b[39;00m\u001b[38;5;21;01m.\u001b[39;00m\u001b[38;5;21;01mfx\u001b[39;00m\n\u001b[1;32m      6\u001b[0m \u001b[38;5;28;01mfrom\u001b[39;00m \u001b[38;5;21;01mtorch\u001b[39;00m \u001b[38;5;28;01mimport\u001b[39;00m nn, Tensor\n\u001b[0;32m----> 7\u001b[0m \u001b[38;5;28;01mfrom\u001b[39;00m \u001b[38;5;21;01mtorch\u001b[39;00m\u001b[38;5;21;01m.\u001b[39;00m\u001b[38;5;21;01m_dynamo\u001b[39;00m\u001b[38;5;21;01m.\u001b[39;00m\u001b[38;5;21;01mutils\u001b[39;00m \u001b[38;5;28;01mimport\u001b[39;00m is_compile_supported\n\u001b[1;32m      8\u001b[0m \u001b[38;5;28;01mfrom\u001b[39;00m \u001b[38;5;21;01mtorch\u001b[39;00m\u001b[38;5;21;01m.\u001b[39;00m\u001b[38;5;21;01mjit\u001b[39;00m\u001b[38;5;21;01m.\u001b[39;00m\u001b[38;5;21;01mannotations\u001b[39;00m \u001b[38;5;28;01mimport\u001b[39;00m BroadcastingList2\n\u001b[1;32m      9\u001b[0m \u001b[38;5;28;01mfrom\u001b[39;00m \u001b[38;5;21;01mtorch\u001b[39;00m\u001b[38;5;21;01m.\u001b[39;00m\u001b[38;5;21;01mnn\u001b[39;00m\u001b[38;5;21;01m.\u001b[39;00m\u001b[38;5;21;01mmodules\u001b[39;00m\u001b[38;5;21;01m.\u001b[39;00m\u001b[38;5;21;01mutils\u001b[39;00m \u001b[38;5;28;01mimport\u001b[39;00m _pair\n",
      "File \u001b[0;32m/data/chx/anaconda3/envs/HunyuanVideo-std/lib/python3.10/site-packages/torch/_dynamo/__init__.py:2\u001b[0m\n\u001b[1;32m      1\u001b[0m \u001b[38;5;28;01mimport\u001b[39;00m \u001b[38;5;21;01mtorch\u001b[39;00m\n\u001b[0;32m----> 2\u001b[0m \u001b[38;5;28;01mfrom\u001b[39;00m \u001b[38;5;21;01m.\u001b[39;00m \u001b[38;5;28;01mimport\u001b[39;00m convert_frame, eval_frame, resume_execution\n\u001b[1;32m      3\u001b[0m \u001b[38;5;28;01mfrom\u001b[39;00m \u001b[38;5;21;01m.\u001b[39;00m\u001b[38;5;21;01mbackends\u001b[39;00m\u001b[38;5;21;01m.\u001b[39;00m\u001b[38;5;21;01mregistry\u001b[39;00m \u001b[38;5;28;01mimport\u001b[39;00m list_backends, lookup_backend, register_backend\n\u001b[1;32m      4\u001b[0m \u001b[38;5;28;01mfrom\u001b[39;00m \u001b[38;5;21;01m.\u001b[39;00m\u001b[38;5;21;01mcallback\u001b[39;00m \u001b[38;5;28;01mimport\u001b[39;00m callback_handler, on_compile_end, on_compile_start\n",
      "File \u001b[0;32m/data/chx/anaconda3/envs/HunyuanVideo-std/lib/python3.10/site-packages/torch/_dynamo/convert_frame.py:48\u001b[0m\n\u001b[1;32m     45\u001b[0m \u001b[38;5;28;01mfrom\u001b[39;00m \u001b[38;5;21;01mtorch\u001b[39;00m\u001b[38;5;21;01m.\u001b[39;00m\u001b[38;5;21;01mutils\u001b[39;00m\u001b[38;5;21;01m.\u001b[39;00m\u001b[38;5;21;01m_python_dispatch\u001b[39;00m \u001b[38;5;28;01mimport\u001b[39;00m _disable_current_modes\n\u001b[1;32m     46\u001b[0m \u001b[38;5;28;01mfrom\u001b[39;00m \u001b[38;5;21;01mtorch\u001b[39;00m\u001b[38;5;21;01m.\u001b[39;00m\u001b[38;5;21;01mutils\u001b[39;00m\u001b[38;5;21;01m.\u001b[39;00m\u001b[38;5;21;01m_traceback\u001b[39;00m \u001b[38;5;28;01mimport\u001b[39;00m format_traceback_short\n\u001b[0;32m---> 48\u001b[0m \u001b[38;5;28;01mfrom\u001b[39;00m \u001b[38;5;21;01m.\u001b[39;00m \u001b[38;5;28;01mimport\u001b[39;00m config, exc, trace_rules\n\u001b[1;32m     49\u001b[0m \u001b[38;5;28;01mfrom\u001b[39;00m \u001b[38;5;21;01m.\u001b[39;00m\u001b[38;5;21;01mbackends\u001b[39;00m\u001b[38;5;21;01m.\u001b[39;00m\u001b[38;5;21;01mregistry\u001b[39;00m \u001b[38;5;28;01mimport\u001b[39;00m CompilerFn\n\u001b[1;32m     50\u001b[0m \u001b[38;5;28;01mfrom\u001b[39;00m \u001b[38;5;21;01m.\u001b[39;00m\u001b[38;5;21;01mbytecode_analysis\u001b[39;00m \u001b[38;5;28;01mimport\u001b[39;00m remove_dead_code, remove_pointless_jumps\n",
      "File \u001b[0;32m/data/chx/anaconda3/envs/HunyuanVideo-std/lib/python3.10/site-packages/torch/_dynamo/trace_rules.py:3467\u001b[0m\n\u001b[1;32m   3465\u001b[0m \u001b[38;5;66;03m# skip common third party libs\u001b[39;00m\n\u001b[1;32m   3466\u001b[0m \u001b[38;5;28;01mfor\u001b[39;00m _name \u001b[38;5;129;01min\u001b[39;00m THIRDPARTY_SKIPLIST:\n\u001b[0;32m-> 3467\u001b[0m     \u001b[43madd\u001b[49m\u001b[43m(\u001b[49m\u001b[43m_name\u001b[49m\u001b[43m)\u001b[49m\n\u001b[1;32m   3469\u001b[0m _recompile_re()\n\u001b[1;32m   3472\u001b[0m \u001b[38;5;28;01mdef\u001b[39;00m \u001b[38;5;21mis_torch_inline_allowed\u001b[39m(filename):\n",
      "File \u001b[0;32m/data/chx/anaconda3/envs/HunyuanVideo-std/lib/python3.10/site-packages/torch/_dynamo/trace_rules.py:3343\u001b[0m, in \u001b[0;36madd\u001b[0;34m(import_name)\u001b[0m\n\u001b[1;32m   3341\u001b[0m     \u001b[38;5;28;01mreturn\u001b[39;00m\n\u001b[1;32m   3342\u001b[0m SKIP_DIRS\u001b[38;5;241m.\u001b[39mappend(_strip_init_py(origin))\n\u001b[0;32m-> 3343\u001b[0m \u001b[43m_recompile_re\u001b[49m\u001b[43m(\u001b[49m\u001b[43m)\u001b[49m\n",
      "File \u001b[0;32m/data/chx/anaconda3/envs/HunyuanVideo-std/lib/python3.10/site-packages/torch/_dynamo/trace_rules.py:3327\u001b[0m, in \u001b[0;36m_recompile_re\u001b[0;34m()\u001b[0m\n\u001b[1;32m   3325\u001b[0m \u001b[38;5;28;01mdef\u001b[39;00m \u001b[38;5;21m_recompile_re\u001b[39m():\n\u001b[1;32m   3326\u001b[0m     \u001b[38;5;28;01mglobal\u001b[39;00m SKIP_DIRS_RE\n\u001b[0;32m-> 3327\u001b[0m     SKIP_DIRS_RE \u001b[38;5;241m=\u001b[39m \u001b[43mre\u001b[49m\u001b[38;5;241;43m.\u001b[39;49m\u001b[43mcompile\u001b[49m\u001b[43m(\u001b[49m\u001b[38;5;124;43mrf\u001b[39;49m\u001b[38;5;124;43m\"\u001b[39;49m\u001b[38;5;124;43m^[^\u001b[39;49m\u001b[38;5;124;43m\\\u001b[39;49m\u001b[38;5;124;43ms<]*(\u001b[39;49m\u001b[38;5;132;43;01m{\u001b[39;49;00m\u001b[38;5;124;43m'\u001b[39;49m\u001b[38;5;124;43m|\u001b[39;49m\u001b[38;5;124;43m'\u001b[39;49m\u001b[38;5;241;43m.\u001b[39;49m\u001b[43mjoin\u001b[49m\u001b[43m(\u001b[49m\u001b[38;5;28;43mmap\u001b[39;49m\u001b[43m(\u001b[49m\u001b[43mre\u001b[49m\u001b[38;5;241;43m.\u001b[39;49m\u001b[43mescape\u001b[49m\u001b[43m,\u001b[49m\u001b[38;5;250;43m \u001b[39;49m\u001b[43mSKIP_DIRS\u001b[49m\u001b[43m)\u001b[49m\u001b[43m)\u001b[49m\u001b[38;5;132;43;01m}\u001b[39;49;00m\u001b[38;5;124;43m)\u001b[39;49m\u001b[38;5;124;43m\"\u001b[39;49m\u001b[43m)\u001b[49m\n",
      "File \u001b[0;32m/data/chx/anaconda3/envs/HunyuanVideo-std/lib/python3.10/re.py:251\u001b[0m, in \u001b[0;36mcompile\u001b[0;34m(pattern, flags)\u001b[0m\n\u001b[1;32m    249\u001b[0m \u001b[38;5;28;01mdef\u001b[39;00m \u001b[38;5;21mcompile\u001b[39m(pattern, flags\u001b[38;5;241m=\u001b[39m\u001b[38;5;241m0\u001b[39m):\n\u001b[1;32m    250\u001b[0m     \u001b[38;5;124m\"\u001b[39m\u001b[38;5;124mCompile a regular expression pattern, returning a Pattern object.\u001b[39m\u001b[38;5;124m\"\u001b[39m\n\u001b[0;32m--> 251\u001b[0m     \u001b[38;5;28;01mreturn\u001b[39;00m \u001b[43m_compile\u001b[49m\u001b[43m(\u001b[49m\u001b[43mpattern\u001b[49m\u001b[43m,\u001b[49m\u001b[43m \u001b[49m\u001b[43mflags\u001b[49m\u001b[43m)\u001b[49m\n",
      "File \u001b[0;32m/data/chx/anaconda3/envs/HunyuanVideo-std/lib/python3.10/re.py:303\u001b[0m, in \u001b[0;36m_compile\u001b[0;34m(pattern, flags)\u001b[0m\n\u001b[1;32m    301\u001b[0m \u001b[38;5;28;01mif\u001b[39;00m \u001b[38;5;129;01mnot\u001b[39;00m sre_compile\u001b[38;5;241m.\u001b[39misstring(pattern):\n\u001b[1;32m    302\u001b[0m     \u001b[38;5;28;01mraise\u001b[39;00m \u001b[38;5;167;01mTypeError\u001b[39;00m(\u001b[38;5;124m\"\u001b[39m\u001b[38;5;124mfirst argument must be string or compiled pattern\u001b[39m\u001b[38;5;124m\"\u001b[39m)\n\u001b[0;32m--> 303\u001b[0m p \u001b[38;5;241m=\u001b[39m \u001b[43msre_compile\u001b[49m\u001b[38;5;241;43m.\u001b[39;49m\u001b[43mcompile\u001b[49m\u001b[43m(\u001b[49m\u001b[43mpattern\u001b[49m\u001b[43m,\u001b[49m\u001b[43m \u001b[49m\u001b[43mflags\u001b[49m\u001b[43m)\u001b[49m\n\u001b[1;32m    304\u001b[0m \u001b[38;5;28;01mif\u001b[39;00m \u001b[38;5;129;01mnot\u001b[39;00m (flags \u001b[38;5;241m&\u001b[39m DEBUG):\n\u001b[1;32m    305\u001b[0m     \u001b[38;5;28;01mif\u001b[39;00m \u001b[38;5;28mlen\u001b[39m(_cache) \u001b[38;5;241m>\u001b[39m\u001b[38;5;241m=\u001b[39m _MAXCACHE:\n\u001b[1;32m    306\u001b[0m         \u001b[38;5;66;03m# Drop the oldest item\u001b[39;00m\n",
      "File \u001b[0;32m/data/chx/anaconda3/envs/HunyuanVideo-std/lib/python3.10/sre_compile.py:788\u001b[0m, in \u001b[0;36mcompile\u001b[0;34m(p, flags)\u001b[0m\n\u001b[1;32m    786\u001b[0m \u001b[38;5;28;01mif\u001b[39;00m isstring(p):\n\u001b[1;32m    787\u001b[0m     pattern \u001b[38;5;241m=\u001b[39m p\n\u001b[0;32m--> 788\u001b[0m     p \u001b[38;5;241m=\u001b[39m \u001b[43msre_parse\u001b[49m\u001b[38;5;241;43m.\u001b[39;49m\u001b[43mparse\u001b[49m\u001b[43m(\u001b[49m\u001b[43mp\u001b[49m\u001b[43m,\u001b[49m\u001b[43m \u001b[49m\u001b[43mflags\u001b[49m\u001b[43m)\u001b[49m\n\u001b[1;32m    789\u001b[0m \u001b[38;5;28;01melse\u001b[39;00m:\n\u001b[1;32m    790\u001b[0m     pattern \u001b[38;5;241m=\u001b[39m \u001b[38;5;28;01mNone\u001b[39;00m\n",
      "File \u001b[0;32m/data/chx/anaconda3/envs/HunyuanVideo-std/lib/python3.10/sre_parse.py:955\u001b[0m, in \u001b[0;36mparse\u001b[0;34m(str, flags, state)\u001b[0m\n\u001b[1;32m    952\u001b[0m state\u001b[38;5;241m.\u001b[39mstr \u001b[38;5;241m=\u001b[39m \u001b[38;5;28mstr\u001b[39m\n\u001b[1;32m    954\u001b[0m \u001b[38;5;28;01mtry\u001b[39;00m:\n\u001b[0;32m--> 955\u001b[0m     p \u001b[38;5;241m=\u001b[39m \u001b[43m_parse_sub\u001b[49m\u001b[43m(\u001b[49m\u001b[43msource\u001b[49m\u001b[43m,\u001b[49m\u001b[43m \u001b[49m\u001b[43mstate\u001b[49m\u001b[43m,\u001b[49m\u001b[43m \u001b[49m\u001b[43mflags\u001b[49m\u001b[43m \u001b[49m\u001b[38;5;241;43m&\u001b[39;49m\u001b[43m \u001b[49m\u001b[43mSRE_FLAG_VERBOSE\u001b[49m\u001b[43m,\u001b[49m\u001b[43m \u001b[49m\u001b[38;5;241;43m0\u001b[39;49m\u001b[43m)\u001b[49m\n\u001b[1;32m    956\u001b[0m \u001b[38;5;28;01mexcept\u001b[39;00m Verbose:\n\u001b[1;32m    957\u001b[0m     \u001b[38;5;66;03m# the VERBOSE flag was switched on inside the pattern.  to be\u001b[39;00m\n\u001b[1;32m    958\u001b[0m     \u001b[38;5;66;03m# on the safe side, we'll parse the whole thing again...\u001b[39;00m\n\u001b[1;32m    959\u001b[0m     state \u001b[38;5;241m=\u001b[39m State()\n",
      "File \u001b[0;32m/data/chx/anaconda3/envs/HunyuanVideo-std/lib/python3.10/sre_parse.py:444\u001b[0m, in \u001b[0;36m_parse_sub\u001b[0;34m(source, state, verbose, nested)\u001b[0m\n\u001b[1;32m    442\u001b[0m start \u001b[38;5;241m=\u001b[39m source\u001b[38;5;241m.\u001b[39mtell()\n\u001b[1;32m    443\u001b[0m \u001b[38;5;28;01mwhile\u001b[39;00m \u001b[38;5;28;01mTrue\u001b[39;00m:\n\u001b[0;32m--> 444\u001b[0m     itemsappend(\u001b[43m_parse\u001b[49m\u001b[43m(\u001b[49m\u001b[43msource\u001b[49m\u001b[43m,\u001b[49m\u001b[43m \u001b[49m\u001b[43mstate\u001b[49m\u001b[43m,\u001b[49m\u001b[43m \u001b[49m\u001b[43mverbose\u001b[49m\u001b[43m,\u001b[49m\u001b[43m \u001b[49m\u001b[43mnested\u001b[49m\u001b[43m \u001b[49m\u001b[38;5;241;43m+\u001b[39;49m\u001b[43m \u001b[49m\u001b[38;5;241;43m1\u001b[39;49m\u001b[43m,\u001b[49m\n\u001b[1;32m    445\u001b[0m \u001b[43m                       \u001b[49m\u001b[38;5;129;43;01mnot\u001b[39;49;00m\u001b[43m \u001b[49m\u001b[43mnested\u001b[49m\u001b[43m \u001b[49m\u001b[38;5;129;43;01mand\u001b[39;49;00m\u001b[43m \u001b[49m\u001b[38;5;129;43;01mnot\u001b[39;49;00m\u001b[43m \u001b[49m\u001b[43mitems\u001b[49m\u001b[43m)\u001b[49m)\n\u001b[1;32m    446\u001b[0m     \u001b[38;5;28;01mif\u001b[39;00m \u001b[38;5;129;01mnot\u001b[39;00m sourcematch(\u001b[38;5;124m\"\u001b[39m\u001b[38;5;124m|\u001b[39m\u001b[38;5;124m\"\u001b[39m):\n\u001b[1;32m    447\u001b[0m         \u001b[38;5;28;01mbreak\u001b[39;00m\n",
      "File \u001b[0;32m/data/chx/anaconda3/envs/HunyuanVideo-std/lib/python3.10/sre_parse.py:846\u001b[0m, in \u001b[0;36m_parse\u001b[0;34m(source, state, verbose, nested, first)\u001b[0m\n\u001b[1;32m    843\u001b[0m         \u001b[38;5;28;01mraise\u001b[39;00m source\u001b[38;5;241m.\u001b[39merror(\u001b[38;5;124m\"\u001b[39m\u001b[38;5;124mmissing ), unterminated subpattern\u001b[39m\u001b[38;5;124m\"\u001b[39m,\n\u001b[1;32m    844\u001b[0m                            source\u001b[38;5;241m.\u001b[39mtell() \u001b[38;5;241m-\u001b[39m start)\n\u001b[1;32m    845\u001b[0m     \u001b[38;5;28;01mif\u001b[39;00m group \u001b[38;5;129;01mis\u001b[39;00m \u001b[38;5;129;01mnot\u001b[39;00m \u001b[38;5;28;01mNone\u001b[39;00m:\n\u001b[0;32m--> 846\u001b[0m         \u001b[43mstate\u001b[49m\u001b[38;5;241;43m.\u001b[39;49m\u001b[43mclosegroup\u001b[49m\u001b[43m(\u001b[49m\u001b[43mgroup\u001b[49m\u001b[43m,\u001b[49m\u001b[43m \u001b[49m\u001b[43mp\u001b[49m\u001b[43m)\u001b[49m\n\u001b[1;32m    847\u001b[0m     subpatternappend((SUBPATTERN, (group, add_flags, del_flags, p)))\n\u001b[1;32m    849\u001b[0m \u001b[38;5;28;01melif\u001b[39;00m this \u001b[38;5;241m==\u001b[39m \u001b[38;5;124m\"\u001b[39m\u001b[38;5;124m^\u001b[39m\u001b[38;5;124m\"\u001b[39m:\n",
      "File \u001b[0;32m/data/chx/anaconda3/envs/HunyuanVideo-std/lib/python3.10/sre_parse.py:98\u001b[0m, in \u001b[0;36mState.closegroup\u001b[0;34m(self, gid, p)\u001b[0m\n\u001b[1;32m     97\u001b[0m \u001b[38;5;28;01mdef\u001b[39;00m \u001b[38;5;21mclosegroup\u001b[39m(\u001b[38;5;28mself\u001b[39m, gid, p):\n\u001b[0;32m---> 98\u001b[0m     \u001b[38;5;28mself\u001b[39m\u001b[38;5;241m.\u001b[39mgroupwidths[gid] \u001b[38;5;241m=\u001b[39m \u001b[43mp\u001b[49m\u001b[38;5;241;43m.\u001b[39;49m\u001b[43mgetwidth\u001b[49m\u001b[43m(\u001b[49m\u001b[43m)\u001b[49m\n",
      "File \u001b[0;32m/data/chx/anaconda3/envs/HunyuanVideo-std/lib/python3.10/sre_parse.py:185\u001b[0m, in \u001b[0;36mSubPattern.getwidth\u001b[0;34m(self)\u001b[0m\n\u001b[1;32m    183\u001b[0m j \u001b[38;5;241m=\u001b[39m \u001b[38;5;241m0\u001b[39m\n\u001b[1;32m    184\u001b[0m \u001b[38;5;28;01mfor\u001b[39;00m av \u001b[38;5;129;01min\u001b[39;00m av[\u001b[38;5;241m1\u001b[39m]:\n\u001b[0;32m--> 185\u001b[0m     l, h \u001b[38;5;241m=\u001b[39m \u001b[43mav\u001b[49m\u001b[38;5;241;43m.\u001b[39;49m\u001b[43mgetwidth\u001b[49m\u001b[43m(\u001b[49m\u001b[43m)\u001b[49m\n\u001b[1;32m    186\u001b[0m     i \u001b[38;5;241m=\u001b[39m \u001b[38;5;28mmin\u001b[39m(i, l)\n\u001b[1;32m    187\u001b[0m     j \u001b[38;5;241m=\u001b[39m \u001b[38;5;28mmax\u001b[39m(j, h)\n",
      "File \u001b[0;32m/data/chx/anaconda3/envs/HunyuanVideo-std/lib/python3.10/sre_parse.py:204\u001b[0m, in \u001b[0;36mSubPattern.getwidth\u001b[0;34m(self)\u001b[0m\n\u001b[1;32m    202\u001b[0m \u001b[38;5;28;01melif\u001b[39;00m op \u001b[38;5;129;01min\u001b[39;00m _UNITCODES:\n\u001b[1;32m    203\u001b[0m     lo \u001b[38;5;241m=\u001b[39m lo \u001b[38;5;241m+\u001b[39m \u001b[38;5;241m1\u001b[39m\n\u001b[0;32m--> 204\u001b[0m     hi \u001b[38;5;241m=\u001b[39m hi \u001b[38;5;241m+\u001b[39m \u001b[38;5;241m1\u001b[39m\n\u001b[1;32m    205\u001b[0m \u001b[38;5;28;01melif\u001b[39;00m op \u001b[38;5;129;01mis\u001b[39;00m GROUPREF:\n\u001b[1;32m    206\u001b[0m     i, j \u001b[38;5;241m=\u001b[39m \u001b[38;5;28mself\u001b[39m\u001b[38;5;241m.\u001b[39mstate\u001b[38;5;241m.\u001b[39mgroupwidths[av]\n",
      "\u001b[0;31mKeyboardInterrupt\u001b[0m: "
     ]
    }
   ],
   "source": [
    "%run edit_video.py \\\n",
    "    --dit-weight \"/home/chx/mySrc/HunyuanVideo/ckpts/hunyuan-video-t2v-720p/transformers/mp_rank_00_model_states_fp8.pt\" \\\n",
    "    --video-size 512 512 \\\n",
    "    --video-length 25 \\\n",
    "    --infer-steps 45 \\\n",
    "    --prompt \"a grey car navigates a curvy road surrounded by green grass trees and mountains.\" \\\n",
    "    --target-prompt \"a red sports-car navigates a curvy road surrounded by green grass trees and mountains.\" \\\n",
    "    --inject 15 \\\n",
    "    --seed 42 \\\n",
    "    --embedded-cfg-scale 3 \\\n",
    "    --flow-shift 7.0 \\\n",
    "    --flow-reverse \\\n",
    "    --use-cpu-offload \\\n",
    "    --use-fp8 \\\n",
    "    --save-path ./results \\\n",
    "    --inverse-video-path \"/data/chx/V2VBench/videos/car-turn.mp4\""
   ]
  },
  {
   "cell_type": "code",
   "execution_count": 8,
   "metadata": {},
   "outputs": [
    {
     "name": "stderr",
     "output_type": "stream",
     "text": [
      "\u001b[32m2025-02-26 18:39:16.968\u001b[0m | \u001b[1mINFO    \u001b[0m | \u001b[36mhyvideo.inference\u001b[0m:\u001b[36mfrom_pretrained\u001b[0m:\u001b[36m155\u001b[0m - \u001b[1mGot text-to-video model root path: ckpts\u001b[0m\n",
      "\u001b[32m2025-02-26 18:39:16.970\u001b[0m | \u001b[1mINFO    \u001b[0m | \u001b[36mhyvideo.inference\u001b[0m:\u001b[36mfrom_pretrained\u001b[0m:\u001b[36m190\u001b[0m - \u001b[1mBuilding model...\u001b[0m\n"
     ]
    },
    {
     "name": "stdout",
     "output_type": "stream",
     "text": [
      "{'apply_final_norm': False,\n",
      " 'batch_size': 1,\n",
      " 'cfg_scale': 1.0,\n",
      " 'denoise_type': 'flow',\n",
      " 'disable_autocast': False,\n",
      " 'dit_weight': '/home/chx/mySrc/HunyuanVideo/ckpts/hunyuan-video-t2v-720p/transformers/mp_rank_00_model_states_fp8.pt',\n",
      " 'embedded_cfg_scale': 2.0,\n",
      " 'feature_path': 'feature',\n",
      " 'flow_reverse': True,\n",
      " 'flow_shift': 7.0,\n",
      " 'flow_solver': 'euler',\n",
      " 'hidden_state_skip_layer': 2,\n",
      " 'infer_steps': 45,\n",
      " 'inject': 8,\n",
      " 'inverse_video_path': '/data/chx/BalanceCC-rename/Result/Animal/blackswan.mp4',\n",
      " 'latent_channels': 16,\n",
      " 'linear_schedule_end': 25,\n",
      " 'load_key': 'module',\n",
      " 'model': 'HYVideo-T/2-cfgdistill',\n",
      " 'model_base': 'ckpts',\n",
      " 'model_resolution': '540p',\n",
      " 'name_suffix': '',\n",
      " 'neg_prompt': None,\n",
      " 'num_videos': 1,\n",
      " 'precision': 'bf16',\n",
      " 'prompt': 'A black swan swimming in a pond with lush greenery in the '\n",
      "           'background.',\n",
      " 'prompt_template': 'dit-llm-encode',\n",
      " 'prompt_template_video': 'dit-llm-encode-video',\n",
      " 'reproduce': False,\n",
      " 'ring_degree': 1,\n",
      " 'rope_theta': 256,\n",
      " 'save_path': './results',\n",
      " 'save_path_suffix': '',\n",
      " 'seed': 42,\n",
      " 'seed_type': 'auto',\n",
      " 'target_prompt': 'A majestic flamingo swimming in a pond with lush greenery '\n",
      "                  'in the background.',\n",
      " 'text_encoder': 'llm',\n",
      " 'text_encoder_2': 'clipL',\n",
      " 'text_encoder_precision': 'fp16',\n",
      " 'text_encoder_precision_2': 'fp16',\n",
      " 'text_len': 256,\n",
      " 'text_len_2': 77,\n",
      " 'text_states_dim': 4096,\n",
      " 'text_states_dim_2': 768,\n",
      " 'tokenizer': 'llm',\n",
      " 'tokenizer_2': 'clipL',\n",
      " 'ulysses_degree': 1,\n",
      " 'use_cpu_offload': True,\n",
      " 'use_fp8': True,\n",
      " 'use_linear_quadratic_schedule': False,\n",
      " 'vae': '884-16c-hy',\n",
      " 'vae_precision': 'fp16',\n",
      " 'vae_tiling': True,\n",
      " 'video_length': 53,\n",
      " 'video_size': [512, 512]}\n",
      "cuda\n"
     ]
    },
    {
     "name": "stderr",
     "output_type": "stream",
     "text": [
      "\u001b[32m2025-02-26 18:41:21.834\u001b[0m | \u001b[1mINFO    \u001b[0m | \u001b[36mhyvideo.inference\u001b[0m:\u001b[36mload_state_dict\u001b[0m:\u001b[36m345\u001b[0m - \u001b[1mLoading torch model /home/chx/mySrc/HunyuanVideo/ckpts/hunyuan-video-t2v-720p/transformers/mp_rank_00_model_states_fp8.pt...\u001b[0m\n",
      "\u001b[32m2025-02-26 18:41:29.382\u001b[0m | \u001b[1mINFO    \u001b[0m | \u001b[36mhyvideo.vae\u001b[0m:\u001b[36mload_vae\u001b[0m:\u001b[36m29\u001b[0m - \u001b[1mLoading 3D VAE model (884-16c-hy) from: ./ckpts/hunyuan-video-t2v-720p/vae\u001b[0m\n"
     ]
    },
    {
     "name": "stdout",
     "output_type": "stream",
     "text": [
      "loading vae\n"
     ]
    },
    {
     "name": "stderr",
     "output_type": "stream",
     "text": [
      "\u001b[32m2025-02-26 18:41:33.106\u001b[0m | \u001b[1mINFO    \u001b[0m | \u001b[36mhyvideo.vae\u001b[0m:\u001b[36mload_vae\u001b[0m:\u001b[36m55\u001b[0m - \u001b[1mVAE to dtype: torch.float16\u001b[0m\n",
      "\u001b[32m2025-02-26 18:41:33.115\u001b[0m | \u001b[1mINFO    \u001b[0m | \u001b[36mhyvideo.text_encoder\u001b[0m:\u001b[36mload_text_encoder\u001b[0m:\u001b[36m28\u001b[0m - \u001b[1mLoading text encoder model (llm) from: ./ckpts/text_encoder\u001b[0m\n",
      "Loading checkpoint shards: 100%|██████████| 4/4 [00:05<00:00,  1.46s/it]\n",
      "\u001b[32m2025-02-26 18:41:42.967\u001b[0m | \u001b[1mINFO    \u001b[0m | \u001b[36mhyvideo.text_encoder\u001b[0m:\u001b[36mload_text_encoder\u001b[0m:\u001b[36m50\u001b[0m - \u001b[1mText encoder to dtype: torch.float16\u001b[0m\n",
      "\u001b[32m2025-02-26 18:41:42.971\u001b[0m | \u001b[1mINFO    \u001b[0m | \u001b[36mhyvideo.text_encoder\u001b[0m:\u001b[36mload_tokenizer\u001b[0m:\u001b[36m64\u001b[0m - \u001b[1mLoading tokenizer (llm) from: ./ckpts/text_encoder\u001b[0m\n",
      "\u001b[32m2025-02-26 18:41:43.625\u001b[0m | \u001b[1mINFO    \u001b[0m | \u001b[36mhyvideo.text_encoder\u001b[0m:\u001b[36mload_text_encoder\u001b[0m:\u001b[36m28\u001b[0m - \u001b[1mLoading text encoder model (clipL) from: ./ckpts/text_encoder_2\u001b[0m\n",
      "\u001b[32m2025-02-26 18:41:44.493\u001b[0m | \u001b[1mINFO    \u001b[0m | \u001b[36mhyvideo.text_encoder\u001b[0m:\u001b[36mload_text_encoder\u001b[0m:\u001b[36m50\u001b[0m - \u001b[1mText encoder to dtype: torch.float16\u001b[0m\n",
      "\u001b[32m2025-02-26 18:41:44.495\u001b[0m | \u001b[1mINFO    \u001b[0m | \u001b[36mhyvideo.text_encoder\u001b[0m:\u001b[36mload_tokenizer\u001b[0m:\u001b[36m64\u001b[0m - \u001b[1mLoading tokenizer (clipL) from: ./ckpts/text_encoder_2\u001b[0m\n"
     ]
    },
    {
     "name": "stdout",
     "output_type": "stream",
     "text": [
      "Enable sequential CPU offload.\n",
      "Updated args:\n",
      "{'apply_final_norm': False,\n",
      " 'batch_size': 1,\n",
      " 'cfg_scale': 1.0,\n",
      " 'denoise_type': 'flow',\n",
      " 'disable_autocast': False,\n",
      " 'dit_weight': '/home/chx/mySrc/HunyuanVideo/ckpts/hunyuan-video-t2v-720p/transformers/mp_rank_00_model_states_fp8.pt',\n",
      " 'embedded_cfg_scale': 2.0,\n",
      " 'feature_path': 'feature',\n",
      " 'flow_reverse': True,\n",
      " 'flow_shift': 7.0,\n",
      " 'flow_solver': 'euler',\n",
      " 'hidden_state_skip_layer': 2,\n",
      " 'infer_steps': 45,\n",
      " 'inject': 8,\n",
      " 'inverse_video_path': '/data/chx/BalanceCC-rename/Result/Animal/blackswan.mp4',\n",
      " 'latent_channels': 16,\n",
      " 'linear_schedule_end': 25,\n",
      " 'load_key': 'module',\n",
      " 'model': 'HYVideo-T/2-cfgdistill',\n",
      " 'model_base': 'ckpts',\n",
      " 'model_resolution': '540p',\n",
      " 'name_suffix': '',\n",
      " 'neg_prompt': None,\n",
      " 'num_videos': 1,\n",
      " 'precision': 'bf16',\n",
      " 'prompt': 'A black swan swimming in a pond with lush greenery in the '\n",
      "           'background.',\n",
      " 'prompt_template': 'dit-llm-encode',\n",
      " 'prompt_template_video': 'dit-llm-encode-video',\n",
      " 'reproduce': False,\n",
      " 'ring_degree': 1,\n",
      " 'rope_theta': 256,\n",
      " 'save_path': './results',\n",
      " 'save_path_suffix': '',\n",
      " 'seed': 42,\n",
      " 'seed_type': 'auto',\n",
      " 'target_prompt': 'A majestic flamingo swimming in a pond with lush greenery '\n",
      "                  'in the background.',\n",
      " 'text_encoder': 'llm',\n",
      " 'text_encoder_2': 'clipL',\n",
      " 'text_encoder_precision': 'fp16',\n",
      " 'text_encoder_precision_2': 'fp16',\n",
      " 'text_len': 256,\n",
      " 'text_len_2': 77,\n",
      " 'text_states_dim': 4096,\n",
      " 'text_states_dim_2': 768,\n",
      " 'tokenizer': 'llm',\n",
      " 'tokenizer_2': 'clipL',\n",
      " 'ulysses_degree': 1,\n",
      " 'use_cpu_offload': True,\n",
      " 'use_fp8': True,\n",
      " 'use_linear_quadratic_schedule': False,\n",
      " 'vae': '884-16c-hy',\n",
      " 'vae_precision': 'fp16',\n",
      " 'vae_tiling': True,\n",
      " 'video_length': 53,\n",
      " 'video_size': [512, 512]}\n",
      "FPS of the video: 24.0\n"
     ]
    },
    {
     "name": "stderr",
     "output_type": "stream",
     "text": [
      "huggingface/tokenizers: The current process just got forked, after parallelism has already been used. Disabling parallelism to avoid deadlocks...\n",
      "To disable this warning, you can either:\n",
      "\t- Avoid using `tokenizers` before the fork if possible\n",
      "\t- Explicitly set the environment variable TOKENIZERS_PARALLELISM=(true | false)\n",
      "\u001b[32m2025-02-26 18:41:45.558\u001b[0m | \u001b[1mINFO    \u001b[0m | \u001b[36mhyvideo.inference\u001b[0m:\u001b[36mpredict\u001b[0m:\u001b[36m605\u001b[0m - \u001b[1mInput (height, width, video_length) = (512, 512, 53)\u001b[0m\n",
      "\u001b[32m2025-02-26 18:41:45.768\u001b[0m | \u001b[34m\u001b[1mDEBUG   \u001b[0m | \u001b[36mhyvideo.inference\u001b[0m:\u001b[36mpredict\u001b[0m:\u001b[36m665\u001b[0m - \u001b[34m\u001b[1m\n",
      "                        height: 512\n",
      "                         width: 512\n",
      "                  video_length: 53\n",
      "                        prompt: ['A black swan swimming in a pond with lush greenery in the background.']\n",
      "                    neg_prompt: ['Aerial view, aerial view, overexposed, low quality, deformation, a poor composition, bad hands, bad teeth, bad eyes, bad limbs, distortion']\n",
      "                          seed: 42\n",
      "                   infer_steps: 45\n",
      "         num_videos_per_prompt: 1\n",
      "                guidance_scale: 1.0\n",
      "                      n_tokens: 14336\n",
      "                    flow_shift: 7.0\n",
      "       embedded_guidance_scale: 2.0\u001b[0m\n"
     ]
    },
    {
     "name": "stdout",
     "output_type": "stream",
     "text": [
      "cuda:0\n",
      "cuda:0\n",
      "sigmas_reverse\n",
      "sigmas: tensor([0.0000, 0.1373, 0.2456, 0.3333, 0.4058, 0.4667, 0.5185, 0.5632, 0.6022,\n",
      "        0.6364, 0.6667, 0.6937, 0.7179, 0.7398, 0.7597, 0.7778, 0.7943, 0.8095,\n",
      "        0.8235, 0.8365, 0.8485, 0.8596, 0.8701, 0.8798, 0.8889, 0.8974, 0.9055,\n",
      "        0.9130, 0.9202, 0.9269, 0.9333, 0.9394, 0.9451, 0.9506, 0.9558, 0.9608,\n",
      "        0.9655, 0.9700, 0.9744, 0.9785, 0.9825, 0.9863, 0.9899, 0.9934, 0.9968,\n",
      "        1.0000])\n",
      "Using inversed latents\n",
      "Step 0: t = 0.0\n",
      "Step 1: t = 137.25491333007812\n",
      "Step 2: t = 245.61404418945312\n",
      "Step 3: t = 333.3333435058594\n",
      "Step 4: t = 405.797119140625\n",
      "Step 5: t = 466.6666259765625\n",
      "Step 6: t = 518.5184936523438\n",
      "Step 7: t = 563.2183837890625\n",
      "Step 8: t = 602.1505737304688\n",
      "Step 9: t = 636.3636474609375\n",
      "Step 10: t = 666.6666259765625\n",
      "Step 11: t = 693.6936645507812\n",
      "Step 12: t = 717.94873046875\n",
      "Step 13: t = 739.83740234375\n",
      "Step 14: t = 759.6898803710938\n",
      "Step 15: t = 777.77783203125\n",
      "Step 16: t = 794.3262329101562\n",
      "Step 17: t = 809.5238037109375\n",
      "Step 18: t = 823.5293579101562\n",
      "Step 19: t = 836.47802734375\n",
      "Step 20: t = 848.48486328125\n",
      "Step 21: t = 859.6491088867188\n",
      "Step 22: t = 870.0564575195312\n",
      "Step 23: t = 879.7814331054688\n",
      "Step 24: t = 888.888916015625\n",
      "Step 25: t = 897.4359130859375\n",
      "Step 26: t = 905.47265625\n",
      "Step 27: t = 913.04345703125\n",
      "Step 28: t = 920.1878051757812\n",
      "Step 29: t = 926.9406127929688\n",
      "Step 30: t = 933.3333740234375\n",
      "Step 31: t = 939.3939208984375\n",
      "Step 32: t = 945.147705078125\n",
      "Step 33: t = 950.6172485351562\n",
      "Step 34: t = 955.8233032226562\n",
      "Step 35: t = 960.7843017578125\n",
      "Step 36: t = 965.5172119140625\n",
      "Step 37: t = 970.0374755859375\n",
      "Step 38: t = 974.3590087890625\n",
      "Step 39: t = 978.49462890625\n",
      "Step 40: t = 982.4561767578125\n",
      "Step 41: t = 986.2543334960938\n",
      "Step 42: t = 989.8989868164062\n",
      "Step 43: t = 993.3992919921875\n",
      "Step 44: t = 996.7637329101562\n"
     ]
    },
    {
     "name": "stderr",
     "output_type": "stream",
     "text": [
      "  0%|          | 0/45 [00:00<?, ?it/s]"
     ]
    },
    {
     "name": "stdout",
     "output_type": "stream",
     "text": [
      "Step 0: t_curr = 0.0, t_prev = 137.25491333007812\n"
     ]
    },
    {
     "name": "stderr",
     "output_type": "stream",
     "text": [
      "  2%|▏         | 1/45 [00:11<08:28, 11.55s/it]"
     ]
    },
    {
     "name": "stdout",
     "output_type": "stream",
     "text": [
      "Step 1: t_curr = 137.25491333007812, t_prev = 245.61404418945312\n"
     ]
    },
    {
     "name": "stderr",
     "output_type": "stream",
     "text": [
      "  4%|▍         | 2/45 [00:23<08:18, 11.59s/it]"
     ]
    },
    {
     "name": "stdout",
     "output_type": "stream",
     "text": [
      "Step 2: t_curr = 245.61404418945312, t_prev = 333.3333435058594\n"
     ]
    },
    {
     "name": "stderr",
     "output_type": "stream",
     "text": [
      "  7%|▋         | 3/45 [00:34<08:08, 11.64s/it]"
     ]
    },
    {
     "name": "stdout",
     "output_type": "stream",
     "text": [
      "Step 3: t_curr = 333.3333435058594, t_prev = 405.797119140625\n"
     ]
    },
    {
     "name": "stderr",
     "output_type": "stream",
     "text": [
      "  9%|▉         | 4/45 [00:46<08:01, 11.74s/it]"
     ]
    },
    {
     "name": "stdout",
     "output_type": "stream",
     "text": [
      "Step 4: t_curr = 405.797119140625, t_prev = 466.6666259765625\n"
     ]
    },
    {
     "name": "stderr",
     "output_type": "stream",
     "text": [
      " 11%|█         | 5/45 [00:58<07:48, 11.72s/it]"
     ]
    },
    {
     "name": "stdout",
     "output_type": "stream",
     "text": [
      "Step 5: t_curr = 466.6666259765625, t_prev = 518.5184936523438\n"
     ]
    },
    {
     "name": "stderr",
     "output_type": "stream",
     "text": [
      " 13%|█▎        | 6/45 [01:10<07:40, 11.82s/it]"
     ]
    },
    {
     "name": "stdout",
     "output_type": "stream",
     "text": [
      "Step 6: t_curr = 518.5184936523438, t_prev = 563.2183837890625\n"
     ]
    },
    {
     "name": "stderr",
     "output_type": "stream",
     "text": [
      " 16%|█▌        | 7/45 [01:22<07:28, 11.79s/it]"
     ]
    },
    {
     "name": "stdout",
     "output_type": "stream",
     "text": [
      "Step 7: t_curr = 563.2183837890625, t_prev = 602.1505737304688\n"
     ]
    },
    {
     "name": "stderr",
     "output_type": "stream",
     "text": [
      " 18%|█▊        | 8/45 [01:34<07:17, 11.81s/it]"
     ]
    },
    {
     "name": "stdout",
     "output_type": "stream",
     "text": [
      "Step 8: t_curr = 602.1505737304688, t_prev = 636.3636474609375\n"
     ]
    },
    {
     "name": "stderr",
     "output_type": "stream",
     "text": [
      " 20%|██        | 9/45 [01:46<07:07, 11.88s/it]"
     ]
    },
    {
     "name": "stdout",
     "output_type": "stream",
     "text": [
      "Step 9: t_curr = 636.3636474609375, t_prev = 666.6666259765625\n"
     ]
    },
    {
     "name": "stderr",
     "output_type": "stream",
     "text": [
      " 22%|██▏       | 10/45 [01:57<06:56, 11.89s/it]"
     ]
    },
    {
     "name": "stdout",
     "output_type": "stream",
     "text": [
      "Step 10: t_curr = 666.6666259765625, t_prev = 693.6936645507812\n"
     ]
    },
    {
     "name": "stderr",
     "output_type": "stream",
     "text": [
      " 24%|██▍       | 11/45 [02:09<06:43, 11.88s/it]"
     ]
    },
    {
     "name": "stdout",
     "output_type": "stream",
     "text": [
      "Step 11: t_curr = 693.6936645507812, t_prev = 717.94873046875\n"
     ]
    },
    {
     "name": "stderr",
     "output_type": "stream",
     "text": [
      " 27%|██▋       | 12/45 [02:21<06:32, 11.90s/it]"
     ]
    },
    {
     "name": "stdout",
     "output_type": "stream",
     "text": [
      "Step 12: t_curr = 717.94873046875, t_prev = 739.83740234375\n"
     ]
    },
    {
     "name": "stderr",
     "output_type": "stream",
     "text": [
      " 29%|██▉       | 13/45 [02:33<06:16, 11.76s/it]"
     ]
    },
    {
     "name": "stdout",
     "output_type": "stream",
     "text": [
      "Step 13: t_curr = 739.83740234375, t_prev = 759.6898803710938\n"
     ]
    },
    {
     "name": "stderr",
     "output_type": "stream",
     "text": [
      " 31%|███       | 14/45 [02:45<06:05, 11.79s/it]"
     ]
    },
    {
     "name": "stdout",
     "output_type": "stream",
     "text": [
      "Step 14: t_curr = 759.6898803710938, t_prev = 777.77783203125\n"
     ]
    },
    {
     "name": "stderr",
     "output_type": "stream",
     "text": [
      " 33%|███▎      | 15/45 [02:57<05:54, 11.83s/it]"
     ]
    },
    {
     "name": "stdout",
     "output_type": "stream",
     "text": [
      "Step 15: t_curr = 777.77783203125, t_prev = 794.3262329101562\n"
     ]
    },
    {
     "name": "stderr",
     "output_type": "stream",
     "text": [
      " 36%|███▌      | 16/45 [03:09<05:45, 11.92s/it]"
     ]
    },
    {
     "name": "stdout",
     "output_type": "stream",
     "text": [
      "Step 16: t_curr = 794.3262329101562, t_prev = 809.5238037109375\n"
     ]
    },
    {
     "name": "stderr",
     "output_type": "stream",
     "text": [
      " 38%|███▊      | 17/45 [03:21<05:34, 11.96s/it]"
     ]
    },
    {
     "name": "stdout",
     "output_type": "stream",
     "text": [
      "Step 17: t_curr = 809.5238037109375, t_prev = 823.5293579101562\n"
     ]
    },
    {
     "name": "stderr",
     "output_type": "stream",
     "text": [
      " 40%|████      | 18/45 [03:33<05:23, 11.96s/it]"
     ]
    },
    {
     "name": "stdout",
     "output_type": "stream",
     "text": [
      "Step 18: t_curr = 823.5293579101562, t_prev = 836.47802734375\n"
     ]
    },
    {
     "name": "stderr",
     "output_type": "stream",
     "text": [
      " 42%|████▏     | 19/45 [03:45<05:10, 11.96s/it]"
     ]
    },
    {
     "name": "stdout",
     "output_type": "stream",
     "text": [
      "Step 19: t_curr = 836.47802734375, t_prev = 848.48486328125\n"
     ]
    },
    {
     "name": "stderr",
     "output_type": "stream",
     "text": [
      " 44%|████▍     | 20/45 [03:57<04:58, 11.95s/it]"
     ]
    },
    {
     "name": "stdout",
     "output_type": "stream",
     "text": [
      "Step 20: t_curr = 848.48486328125, t_prev = 859.6491088867188\n"
     ]
    },
    {
     "name": "stderr",
     "output_type": "stream",
     "text": [
      " 47%|████▋     | 21/45 [04:09<04:47, 11.98s/it]"
     ]
    },
    {
     "name": "stdout",
     "output_type": "stream",
     "text": [
      "Step 21: t_curr = 859.6491088867188, t_prev = 870.0564575195312\n"
     ]
    },
    {
     "name": "stderr",
     "output_type": "stream",
     "text": [
      " 49%|████▉     | 22/45 [04:20<04:34, 11.93s/it]"
     ]
    },
    {
     "name": "stdout",
     "output_type": "stream",
     "text": [
      "Step 22: t_curr = 870.0564575195312, t_prev = 879.7814331054688\n"
     ]
    },
    {
     "name": "stderr",
     "output_type": "stream",
     "text": [
      " 51%|█████     | 23/45 [04:32<04:21, 11.90s/it]"
     ]
    },
    {
     "name": "stdout",
     "output_type": "stream",
     "text": [
      "Step 23: t_curr = 879.7814331054688, t_prev = 888.888916015625\n"
     ]
    },
    {
     "name": "stderr",
     "output_type": "stream",
     "text": [
      " 53%|█████▎    | 24/45 [04:44<04:10, 11.93s/it]"
     ]
    },
    {
     "name": "stdout",
     "output_type": "stream",
     "text": [
      "Step 24: t_curr = 888.888916015625, t_prev = 897.4359130859375\n"
     ]
    },
    {
     "name": "stderr",
     "output_type": "stream",
     "text": [
      " 56%|█████▌    | 25/45 [04:56<03:59, 11.95s/it]"
     ]
    },
    {
     "name": "stdout",
     "output_type": "stream",
     "text": [
      "Step 25: t_curr = 897.4359130859375, t_prev = 905.47265625\n"
     ]
    },
    {
     "name": "stderr",
     "output_type": "stream",
     "text": [
      " 58%|█████▊    | 26/45 [05:08<03:46, 11.94s/it]"
     ]
    },
    {
     "name": "stdout",
     "output_type": "stream",
     "text": [
      "Step 26: t_curr = 905.47265625, t_prev = 913.04345703125\n"
     ]
    },
    {
     "name": "stderr",
     "output_type": "stream",
     "text": [
      " 60%|██████    | 27/45 [05:20<03:35, 11.96s/it]"
     ]
    },
    {
     "name": "stdout",
     "output_type": "stream",
     "text": [
      "Step 27: t_curr = 913.04345703125, t_prev = 920.1878051757812\n"
     ]
    },
    {
     "name": "stderr",
     "output_type": "stream",
     "text": [
      " 62%|██████▏   | 28/45 [05:32<03:23, 11.95s/it]"
     ]
    },
    {
     "name": "stdout",
     "output_type": "stream",
     "text": [
      "Step 28: t_curr = 920.1878051757812, t_prev = 926.9406127929688\n"
     ]
    },
    {
     "name": "stderr",
     "output_type": "stream",
     "text": [
      " 64%|██████▍   | 29/45 [05:44<03:11, 11.97s/it]"
     ]
    },
    {
     "name": "stdout",
     "output_type": "stream",
     "text": [
      "Step 29: t_curr = 926.9406127929688, t_prev = 933.3333740234375\n"
     ]
    },
    {
     "name": "stderr",
     "output_type": "stream",
     "text": [
      " 67%|██████▋   | 30/45 [05:56<02:59, 11.97s/it]"
     ]
    },
    {
     "name": "stdout",
     "output_type": "stream",
     "text": [
      "Step 30: t_curr = 933.3333740234375, t_prev = 939.3939208984375\n"
     ]
    },
    {
     "name": "stderr",
     "output_type": "stream",
     "text": [
      " 69%|██████▉   | 31/45 [06:08<02:47, 11.93s/it]"
     ]
    },
    {
     "name": "stdout",
     "output_type": "stream",
     "text": [
      "Step 31: t_curr = 939.3939208984375, t_prev = 945.147705078125\n"
     ]
    },
    {
     "name": "stderr",
     "output_type": "stream",
     "text": [
      " 71%|███████   | 32/45 [06:20<02:35, 11.95s/it]"
     ]
    },
    {
     "name": "stdout",
     "output_type": "stream",
     "text": [
      "Step 32: t_curr = 945.147705078125, t_prev = 950.6172485351562\n"
     ]
    },
    {
     "name": "stderr",
     "output_type": "stream",
     "text": [
      " 73%|███████▎  | 33/45 [06:32<02:23, 11.96s/it]"
     ]
    },
    {
     "name": "stdout",
     "output_type": "stream",
     "text": [
      "Step 33: t_curr = 950.6172485351562, t_prev = 955.8233032226562\n"
     ]
    },
    {
     "name": "stderr",
     "output_type": "stream",
     "text": [
      " 76%|███████▌  | 34/45 [06:44<02:11, 11.93s/it]"
     ]
    },
    {
     "name": "stdout",
     "output_type": "stream",
     "text": [
      "Step 34: t_curr = 955.8233032226562, t_prev = 960.7843017578125\n"
     ]
    },
    {
     "name": "stderr",
     "output_type": "stream",
     "text": [
      " 78%|███████▊  | 35/45 [06:56<01:59, 11.94s/it]"
     ]
    },
    {
     "name": "stdout",
     "output_type": "stream",
     "text": [
      "Step 35: t_curr = 960.7843017578125, t_prev = 965.5172119140625\n"
     ]
    },
    {
     "name": "stderr",
     "output_type": "stream",
     "text": [
      " 80%|████████  | 36/45 [07:07<01:44, 11.66s/it]"
     ]
    },
    {
     "name": "stdout",
     "output_type": "stream",
     "text": [
      "Step 36: t_curr = 965.5172119140625, t_prev = 970.0374755859375\n"
     ]
    },
    {
     "name": "stderr",
     "output_type": "stream",
     "text": [
      " 82%|████████▏ | 37/45 [07:17<01:29, 11.19s/it]"
     ]
    },
    {
     "name": "stdout",
     "output_type": "stream",
     "text": [
      "Step 37: t_curr = 970.0374755859375, t_prev = 974.3590087890625\n",
      "feature:38_k1_20_single_V,shape:1\n",
      "sin_cross_attention_kwargs id: 140166285041216\n",
      "feature:38_k1_21_single_V,shape:2\n",
      "sin_cross_attention_kwargs id: 140166285041216\n",
      "feature:38_k1_22_single_V,shape:3\n",
      "sin_cross_attention_kwargs id: 140166285041216\n",
      "feature:38_k1_23_single_V,shape:4\n",
      "sin_cross_attention_kwargs id: 140166285041216\n",
      "feature:38_k1_24_single_V,shape:5\n",
      "sin_cross_attention_kwargs id: 140166285041216\n",
      "feature:38_k1_25_single_V,shape:6\n",
      "sin_cross_attention_kwargs id: 140166285041216\n",
      "feature:38_k1_26_single_V,shape:7\n",
      "sin_cross_attention_kwargs id: 140166285041216\n",
      "feature:38_k1_27_single_V,shape:8\n",
      "sin_cross_attention_kwargs id: 140166285041216\n",
      "feature:38_k1_28_single_V,shape:9\n",
      "sin_cross_attention_kwargs id: 140166285041216\n",
      "feature:38_k1_29_single_V,shape:10\n",
      "sin_cross_attention_kwargs id: 140166285041216\n",
      "feature:38_k1_30_single_V,shape:11\n",
      "sin_cross_attention_kwargs id: 140166285041216\n",
      "feature:38_k1_31_single_V,shape:12\n",
      "sin_cross_attention_kwargs id: 140166285041216\n",
      "feature:38_k1_32_single_V,shape:13\n",
      "sin_cross_attention_kwargs id: 140166285041216\n",
      "feature:38_k1_33_single_V,shape:14\n",
      "sin_cross_attention_kwargs id: 140166285041216\n",
      "feature:38_k1_34_single_V,shape:15\n",
      "sin_cross_attention_kwargs id: 140166285041216\n",
      "feature:38_k1_35_single_V,shape:16\n",
      "sin_cross_attention_kwargs id: 140166285041216\n",
      "feature:38_k1_36_single_V,shape:17\n",
      "sin_cross_attention_kwargs id: 140166285041216\n",
      "feature:38_k1_37_single_V,shape:18\n",
      "sin_cross_attention_kwargs id: 140166285041216\n",
      "feature:38_k1_38_single_V,shape:19\n",
      "sin_cross_attention_kwargs id: 140166285041216\n",
      "feature:38_k1_39_single_V,shape:20\n",
      "sin_cross_attention_kwargs id: 140166285041216\n",
      "feature:38_k2_20_single_V,shape:21\n",
      "sin_cross_attention_kwargs id: 140166285041216\n",
      "feature:38_k2_21_single_V,shape:22\n",
      "sin_cross_attention_kwargs id: 140166285041216\n",
      "feature:38_k2_22_single_V,shape:23\n",
      "sin_cross_attention_kwargs id: 140166285041216\n",
      "feature:38_k2_23_single_V,shape:24\n",
      "sin_cross_attention_kwargs id: 140166285041216\n",
      "feature:38_k2_24_single_V,shape:25\n",
      "sin_cross_attention_kwargs id: 140166285041216\n",
      "feature:38_k2_25_single_V,shape:26\n",
      "sin_cross_attention_kwargs id: 140166285041216\n",
      "feature:38_k2_26_single_V,shape:27\n",
      "sin_cross_attention_kwargs id: 140166285041216\n",
      "feature:38_k2_27_single_V,shape:28\n",
      "sin_cross_attention_kwargs id: 140166285041216\n",
      "feature:38_k2_28_single_V,shape:29\n",
      "sin_cross_attention_kwargs id: 140166285041216\n",
      "feature:38_k2_29_single_V,shape:30\n",
      "sin_cross_attention_kwargs id: 140166285041216\n",
      "feature:38_k2_30_single_V,shape:31\n",
      "sin_cross_attention_kwargs id: 140166285041216\n",
      "feature:38_k2_31_single_V,shape:32\n",
      "sin_cross_attention_kwargs id: 140166285041216\n",
      "feature:38_k2_32_single_V,shape:33\n",
      "sin_cross_attention_kwargs id: 140166285041216\n",
      "feature:38_k2_33_single_V,shape:34\n",
      "sin_cross_attention_kwargs id: 140166285041216\n",
      "feature:38_k2_34_single_V,shape:35\n",
      "sin_cross_attention_kwargs id: 140166285041216\n",
      "feature:38_k2_35_single_V,shape:36\n",
      "sin_cross_attention_kwargs id: 140166285041216\n",
      "feature:38_k2_36_single_V,shape:37\n",
      "sin_cross_attention_kwargs id: 140166285041216\n",
      "feature:38_k2_37_single_V,shape:38\n",
      "sin_cross_attention_kwargs id: 140166285041216\n",
      "feature:38_k2_38_single_V,shape:39\n",
      "sin_cross_attention_kwargs id: 140166285041216\n",
      "feature:38_k2_39_single_V,shape:40\n",
      "sin_cross_attention_kwargs id: 140166285041216\n",
      "feature:38_k3_20_single_V,shape:41\n",
      "sin_cross_attention_kwargs id: 140166285041216\n",
      "feature:38_k3_21_single_V,shape:42\n",
      "sin_cross_attention_kwargs id: 140166285041216\n",
      "feature:38_k3_22_single_V,shape:43\n",
      "sin_cross_attention_kwargs id: 140166285041216\n",
      "feature:38_k3_23_single_V,shape:44\n",
      "sin_cross_attention_kwargs id: 140166285041216\n",
      "feature:38_k3_24_single_V,shape:45\n",
      "sin_cross_attention_kwargs id: 140166285041216\n",
      "feature:38_k3_25_single_V,shape:46\n",
      "sin_cross_attention_kwargs id: 140166285041216\n",
      "feature:38_k3_26_single_V,shape:47\n",
      "sin_cross_attention_kwargs id: 140166285041216\n",
      "feature:38_k3_27_single_V,shape:48\n",
      "sin_cross_attention_kwargs id: 140166285041216\n",
      "feature:38_k3_28_single_V,shape:49\n",
      "sin_cross_attention_kwargs id: 140166285041216\n",
      "feature:38_k3_29_single_V,shape:50\n",
      "sin_cross_attention_kwargs id: 140166285041216\n",
      "feature:38_k3_30_single_V,shape:51\n",
      "sin_cross_attention_kwargs id: 140166285041216\n",
      "feature:38_k3_31_single_V,shape:52\n",
      "sin_cross_attention_kwargs id: 140166285041216\n",
      "feature:38_k3_32_single_V,shape:53\n",
      "sin_cross_attention_kwargs id: 140166285041216\n",
      "feature:38_k3_33_single_V,shape:54\n",
      "sin_cross_attention_kwargs id: 140166285041216\n",
      "feature:38_k3_34_single_V,shape:55\n",
      "sin_cross_attention_kwargs id: 140166285041216\n",
      "feature:38_k3_35_single_V,shape:56\n",
      "sin_cross_attention_kwargs id: 140166285041216\n",
      "feature:38_k3_36_single_V,shape:57\n",
      "sin_cross_attention_kwargs id: 140166285041216\n",
      "feature:38_k3_37_single_V,shape:58\n",
      "sin_cross_attention_kwargs id: 140166285041216\n"
     ]
    },
    {
     "name": "stderr",
     "output_type": "stream",
     "text": [
      " 84%|████████▍ | 38/45 [07:30<01:21, 11.64s/it]"
     ]
    },
    {
     "name": "stdout",
     "output_type": "stream",
     "text": [
      "feature:38_k3_38_single_V,shape:59\n",
      "sin_cross_attention_kwargs id: 140166285041216\n",
      "feature:38_k3_39_single_V,shape:60\n",
      "sin_cross_attention_kwargs id: 140166285041216\n",
      "Step 38: t_curr = 974.3590087890625, t_prev = 978.49462890625\n",
      "feature:39_k1_20_single_V,shape:61\n",
      "sin_cross_attention_kwargs id: 140166285041216\n",
      "feature:39_k1_21_single_V,shape:62\n",
      "sin_cross_attention_kwargs id: 140166285041216\n",
      "feature:39_k1_22_single_V,shape:63\n",
      "sin_cross_attention_kwargs id: 140166285041216\n",
      "feature:39_k1_23_single_V,shape:64\n",
      "sin_cross_attention_kwargs id: 140166285041216\n",
      "feature:39_k1_24_single_V,shape:65\n",
      "sin_cross_attention_kwargs id: 140166285041216\n",
      "feature:39_k1_25_single_V,shape:66\n",
      "sin_cross_attention_kwargs id: 140166285041216\n",
      "feature:39_k1_26_single_V,shape:67\n",
      "sin_cross_attention_kwargs id: 140166285041216\n",
      "feature:39_k1_27_single_V,shape:68\n",
      "sin_cross_attention_kwargs id: 140166285041216\n",
      "feature:39_k1_28_single_V,shape:69\n",
      "sin_cross_attention_kwargs id: 140166285041216\n",
      "feature:39_k1_29_single_V,shape:70\n",
      "sin_cross_attention_kwargs id: 140166285041216\n",
      "feature:39_k1_30_single_V,shape:71\n",
      "sin_cross_attention_kwargs id: 140166285041216\n",
      "feature:39_k1_31_single_V,shape:72\n",
      "sin_cross_attention_kwargs id: 140166285041216\n",
      "feature:39_k1_32_single_V,shape:73\n",
      "sin_cross_attention_kwargs id: 140166285041216\n",
      "feature:39_k1_33_single_V,shape:74\n",
      "sin_cross_attention_kwargs id: 140166285041216\n",
      "feature:39_k1_34_single_V,shape:75\n",
      "sin_cross_attention_kwargs id: 140166285041216\n",
      "feature:39_k1_35_single_V,shape:76\n",
      "sin_cross_attention_kwargs id: 140166285041216\n",
      "feature:39_k1_36_single_V,shape:77\n",
      "sin_cross_attention_kwargs id: 140166285041216\n",
      "feature:39_k1_37_single_V,shape:78\n",
      "sin_cross_attention_kwargs id: 140166285041216\n",
      "feature:39_k1_38_single_V,shape:79\n",
      "sin_cross_attention_kwargs id: 140166285041216\n",
      "feature:39_k1_39_single_V,shape:80\n",
      "sin_cross_attention_kwargs id: 140166285041216\n",
      "feature:39_k2_20_single_V,shape:81\n",
      "sin_cross_attention_kwargs id: 140166285041216\n",
      "feature:39_k2_21_single_V,shape:82\n",
      "sin_cross_attention_kwargs id: 140166285041216\n",
      "feature:39_k2_22_single_V,shape:83\n",
      "sin_cross_attention_kwargs id: 140166285041216\n",
      "feature:39_k2_23_single_V,shape:84\n",
      "sin_cross_attention_kwargs id: 140166285041216\n",
      "feature:39_k2_24_single_V,shape:85\n",
      "sin_cross_attention_kwargs id: 140166285041216\n",
      "feature:39_k2_25_single_V,shape:86\n",
      "sin_cross_attention_kwargs id: 140166285041216\n",
      "feature:39_k2_26_single_V,shape:87\n",
      "sin_cross_attention_kwargs id: 140166285041216\n",
      "feature:39_k2_27_single_V,shape:88\n",
      "sin_cross_attention_kwargs id: 140166285041216\n",
      "feature:39_k2_28_single_V,shape:89\n",
      "sin_cross_attention_kwargs id: 140166285041216\n",
      "feature:39_k2_29_single_V,shape:90\n",
      "sin_cross_attention_kwargs id: 140166285041216\n",
      "feature:39_k2_30_single_V,shape:91\n",
      "sin_cross_attention_kwargs id: 140166285041216\n",
      "feature:39_k2_31_single_V,shape:92\n",
      "sin_cross_attention_kwargs id: 140166285041216\n",
      "feature:39_k2_32_single_V,shape:93\n",
      "sin_cross_attention_kwargs id: 140166285041216\n",
      "feature:39_k2_33_single_V,shape:94\n",
      "sin_cross_attention_kwargs id: 140166285041216\n",
      "feature:39_k2_34_single_V,shape:95\n",
      "sin_cross_attention_kwargs id: 140166285041216\n",
      "feature:39_k2_35_single_V,shape:96\n",
      "sin_cross_attention_kwargs id: 140166285041216\n",
      "feature:39_k2_36_single_V,shape:97\n",
      "sin_cross_attention_kwargs id: 140166285041216\n",
      "feature:39_k2_37_single_V,shape:98\n",
      "sin_cross_attention_kwargs id: 140166285041216\n",
      "feature:39_k2_38_single_V,shape:99\n",
      "sin_cross_attention_kwargs id: 140166285041216\n",
      "feature:39_k2_39_single_V,shape:100\n",
      "sin_cross_attention_kwargs id: 140166285041216\n",
      "feature:39_k3_20_single_V,shape:101\n",
      "sin_cross_attention_kwargs id: 140166285041216\n",
      "feature:39_k3_21_single_V,shape:102\n",
      "sin_cross_attention_kwargs id: 140166285041216\n",
      "feature:39_k3_22_single_V,shape:103\n",
      "sin_cross_attention_kwargs id: 140166285041216\n",
      "feature:39_k3_23_single_V,shape:104\n",
      "sin_cross_attention_kwargs id: 140166285041216\n",
      "feature:39_k3_24_single_V,shape:105\n",
      "sin_cross_attention_kwargs id: 140166285041216\n",
      "feature:39_k3_25_single_V,shape:106\n",
      "sin_cross_attention_kwargs id: 140166285041216\n",
      "feature:39_k3_26_single_V,shape:107\n",
      "sin_cross_attention_kwargs id: 140166285041216\n",
      "feature:39_k3_27_single_V,shape:108\n",
      "sin_cross_attention_kwargs id: 140166285041216\n",
      "feature:39_k3_28_single_V,shape:109\n",
      "sin_cross_attention_kwargs id: 140166285041216\n",
      "feature:39_k3_29_single_V,shape:110\n",
      "sin_cross_attention_kwargs id: 140166285041216\n",
      "feature:39_k3_30_single_V,shape:111\n",
      "sin_cross_attention_kwargs id: 140166285041216\n",
      "feature:39_k3_31_single_V,shape:112\n",
      "sin_cross_attention_kwargs id: 140166285041216\n",
      "feature:39_k3_32_single_V,shape:113\n",
      "sin_cross_attention_kwargs id: 140166285041216\n",
      "feature:39_k3_33_single_V,shape:114\n",
      "sin_cross_attention_kwargs id: 140166285041216\n",
      "feature:39_k3_34_single_V,shape:115\n",
      "sin_cross_attention_kwargs id: 140166285041216\n",
      "feature:39_k3_35_single_V,shape:116\n",
      "sin_cross_attention_kwargs id: 140166285041216\n",
      "feature:39_k3_36_single_V,shape:117\n",
      "sin_cross_attention_kwargs id: 140166285041216\n",
      "feature:39_k3_37_single_V,shape:118\n",
      "sin_cross_attention_kwargs id: 140166285041216\n"
     ]
    },
    {
     "name": "stderr",
     "output_type": "stream",
     "text": [
      " 87%|████████▋ | 39/45 [07:42<01:11, 11.95s/it]"
     ]
    },
    {
     "name": "stdout",
     "output_type": "stream",
     "text": [
      "feature:39_k3_38_single_V,shape:119\n",
      "sin_cross_attention_kwargs id: 140166285041216\n",
      "feature:39_k3_39_single_V,shape:120\n",
      "sin_cross_attention_kwargs id: 140166285041216\n",
      "Step 39: t_curr = 978.49462890625, t_prev = 982.4561767578125\n",
      "feature:40_k1_20_single_V,shape:121\n",
      "sin_cross_attention_kwargs id: 140166285041216\n",
      "feature:40_k1_21_single_V,shape:122\n",
      "sin_cross_attention_kwargs id: 140166285041216\n",
      "feature:40_k1_22_single_V,shape:123\n",
      "sin_cross_attention_kwargs id: 140166285041216\n",
      "feature:40_k1_23_single_V,shape:124\n",
      "sin_cross_attention_kwargs id: 140166285041216\n",
      "feature:40_k1_24_single_V,shape:125\n",
      "sin_cross_attention_kwargs id: 140166285041216\n",
      "feature:40_k1_25_single_V,shape:126\n",
      "sin_cross_attention_kwargs id: 140166285041216\n",
      "feature:40_k1_26_single_V,shape:127\n",
      "sin_cross_attention_kwargs id: 140166285041216\n",
      "feature:40_k1_27_single_V,shape:128\n",
      "sin_cross_attention_kwargs id: 140166285041216\n",
      "feature:40_k1_28_single_V,shape:129\n",
      "sin_cross_attention_kwargs id: 140166285041216\n",
      "feature:40_k1_29_single_V,shape:130\n",
      "sin_cross_attention_kwargs id: 140166285041216\n",
      "feature:40_k1_30_single_V,shape:131\n",
      "sin_cross_attention_kwargs id: 140166285041216\n",
      "feature:40_k1_31_single_V,shape:132\n",
      "sin_cross_attention_kwargs id: 140166285041216\n",
      "feature:40_k1_32_single_V,shape:133\n",
      "sin_cross_attention_kwargs id: 140166285041216\n",
      "feature:40_k1_33_single_V,shape:134\n",
      "sin_cross_attention_kwargs id: 140166285041216\n",
      "feature:40_k1_34_single_V,shape:135\n",
      "sin_cross_attention_kwargs id: 140166285041216\n",
      "feature:40_k1_35_single_V,shape:136\n",
      "sin_cross_attention_kwargs id: 140166285041216\n",
      "feature:40_k1_36_single_V,shape:137\n",
      "sin_cross_attention_kwargs id: 140166285041216\n",
      "feature:40_k1_37_single_V,shape:138\n",
      "sin_cross_attention_kwargs id: 140166285041216\n",
      "feature:40_k1_38_single_V,shape:139\n",
      "sin_cross_attention_kwargs id: 140166285041216\n",
      "feature:40_k1_39_single_V,shape:140\n",
      "sin_cross_attention_kwargs id: 140166285041216\n",
      "feature:40_k2_20_single_V,shape:141\n",
      "sin_cross_attention_kwargs id: 140166285041216\n",
      "feature:40_k2_21_single_V,shape:142\n",
      "sin_cross_attention_kwargs id: 140166285041216\n",
      "feature:40_k2_22_single_V,shape:143\n",
      "sin_cross_attention_kwargs id: 140166285041216\n",
      "feature:40_k2_23_single_V,shape:144\n",
      "sin_cross_attention_kwargs id: 140166285041216\n",
      "feature:40_k2_24_single_V,shape:145\n",
      "sin_cross_attention_kwargs id: 140166285041216\n",
      "feature:40_k2_25_single_V,shape:146\n",
      "sin_cross_attention_kwargs id: 140166285041216\n",
      "feature:40_k2_26_single_V,shape:147\n",
      "sin_cross_attention_kwargs id: 140166285041216\n",
      "feature:40_k2_27_single_V,shape:148\n",
      "sin_cross_attention_kwargs id: 140166285041216\n",
      "feature:40_k2_28_single_V,shape:149\n",
      "sin_cross_attention_kwargs id: 140166285041216\n",
      "feature:40_k2_29_single_V,shape:150\n",
      "sin_cross_attention_kwargs id: 140166285041216\n",
      "feature:40_k2_30_single_V,shape:151\n",
      "sin_cross_attention_kwargs id: 140166285041216\n",
      "feature:40_k2_31_single_V,shape:152\n",
      "sin_cross_attention_kwargs id: 140166285041216\n",
      "feature:40_k2_32_single_V,shape:153\n",
      "sin_cross_attention_kwargs id: 140166285041216\n",
      "feature:40_k2_33_single_V,shape:154\n",
      "sin_cross_attention_kwargs id: 140166285041216\n",
      "feature:40_k2_34_single_V,shape:155\n",
      "sin_cross_attention_kwargs id: 140166285041216\n",
      "feature:40_k2_35_single_V,shape:156\n",
      "sin_cross_attention_kwargs id: 140166285041216\n",
      "feature:40_k2_36_single_V,shape:157\n",
      "sin_cross_attention_kwargs id: 140166285041216\n",
      "feature:40_k2_37_single_V,shape:158\n",
      "sin_cross_attention_kwargs id: 140166285041216\n",
      "feature:40_k2_38_single_V,shape:159\n",
      "sin_cross_attention_kwargs id: 140166285041216\n",
      "feature:40_k2_39_single_V,shape:160\n",
      "sin_cross_attention_kwargs id: 140166285041216\n",
      "feature:40_k3_20_single_V,shape:161\n",
      "sin_cross_attention_kwargs id: 140166285041216\n",
      "feature:40_k3_21_single_V,shape:162\n",
      "sin_cross_attention_kwargs id: 140166285041216\n",
      "feature:40_k3_22_single_V,shape:163\n",
      "sin_cross_attention_kwargs id: 140166285041216\n",
      "feature:40_k3_23_single_V,shape:164\n",
      "sin_cross_attention_kwargs id: 140166285041216\n",
      "feature:40_k3_24_single_V,shape:165\n",
      "sin_cross_attention_kwargs id: 140166285041216\n",
      "feature:40_k3_25_single_V,shape:166\n",
      "sin_cross_attention_kwargs id: 140166285041216\n",
      "feature:40_k3_26_single_V,shape:167\n",
      "sin_cross_attention_kwargs id: 140166285041216\n",
      "feature:40_k3_27_single_V,shape:168\n",
      "sin_cross_attention_kwargs id: 140166285041216\n",
      "feature:40_k3_28_single_V,shape:169\n",
      "sin_cross_attention_kwargs id: 140166285041216\n",
      "feature:40_k3_29_single_V,shape:170\n",
      "sin_cross_attention_kwargs id: 140166285041216\n",
      "feature:40_k3_30_single_V,shape:171\n",
      "sin_cross_attention_kwargs id: 140166285041216\n",
      "feature:40_k3_31_single_V,shape:172\n",
      "sin_cross_attention_kwargs id: 140166285041216\n",
      "feature:40_k3_32_single_V,shape:173\n",
      "sin_cross_attention_kwargs id: 140166285041216\n",
      "feature:40_k3_33_single_V,shape:174\n",
      "sin_cross_attention_kwargs id: 140166285041216\n",
      "feature:40_k3_34_single_V,shape:175\n",
      "sin_cross_attention_kwargs id: 140166285041216\n",
      "feature:40_k3_35_single_V,shape:176\n",
      "sin_cross_attention_kwargs id: 140166285041216\n",
      "feature:40_k3_36_single_V,shape:177\n",
      "sin_cross_attention_kwargs id: 140166285041216\n",
      "feature:40_k3_37_single_V,shape:178\n",
      "sin_cross_attention_kwargs id: 140166285041216\n"
     ]
    },
    {
     "name": "stderr",
     "output_type": "stream",
     "text": [
      " 89%|████████▉ | 40/45 [07:55<01:00, 12.16s/it]"
     ]
    },
    {
     "name": "stdout",
     "output_type": "stream",
     "text": [
      "feature:40_k3_38_single_V,shape:179\n",
      "sin_cross_attention_kwargs id: 140166285041216\n",
      "feature:40_k3_39_single_V,shape:180\n",
      "sin_cross_attention_kwargs id: 140166285041216\n",
      "Step 40: t_curr = 982.4561767578125, t_prev = 986.2543334960938\n",
      "feature:41_k1_20_single_V,shape:181\n",
      "sin_cross_attention_kwargs id: 140166285041216\n",
      "feature:41_k1_21_single_V,shape:182\n",
      "sin_cross_attention_kwargs id: 140166285041216\n",
      "feature:41_k1_22_single_V,shape:183\n",
      "sin_cross_attention_kwargs id: 140166285041216\n",
      "feature:41_k1_23_single_V,shape:184\n",
      "sin_cross_attention_kwargs id: 140166285041216\n",
      "feature:41_k1_24_single_V,shape:185\n",
      "sin_cross_attention_kwargs id: 140166285041216\n",
      "feature:41_k1_25_single_V,shape:186\n",
      "sin_cross_attention_kwargs id: 140166285041216\n",
      "feature:41_k1_26_single_V,shape:187\n",
      "sin_cross_attention_kwargs id: 140166285041216\n",
      "feature:41_k1_27_single_V,shape:188\n",
      "sin_cross_attention_kwargs id: 140166285041216\n",
      "feature:41_k1_28_single_V,shape:189\n",
      "sin_cross_attention_kwargs id: 140166285041216\n",
      "feature:41_k1_29_single_V,shape:190\n",
      "sin_cross_attention_kwargs id: 140166285041216\n",
      "feature:41_k1_30_single_V,shape:191\n",
      "sin_cross_attention_kwargs id: 140166285041216\n",
      "feature:41_k1_31_single_V,shape:192\n",
      "sin_cross_attention_kwargs id: 140166285041216\n",
      "feature:41_k1_32_single_V,shape:193\n",
      "sin_cross_attention_kwargs id: 140166285041216\n",
      "feature:41_k1_33_single_V,shape:194\n",
      "sin_cross_attention_kwargs id: 140166285041216\n",
      "feature:41_k1_34_single_V,shape:195\n",
      "sin_cross_attention_kwargs id: 140166285041216\n",
      "feature:41_k1_35_single_V,shape:196\n",
      "sin_cross_attention_kwargs id: 140166285041216\n",
      "feature:41_k1_36_single_V,shape:197\n",
      "sin_cross_attention_kwargs id: 140166285041216\n",
      "feature:41_k1_37_single_V,shape:198\n",
      "sin_cross_attention_kwargs id: 140166285041216\n",
      "feature:41_k1_38_single_V,shape:199\n",
      "sin_cross_attention_kwargs id: 140166285041216\n",
      "feature:41_k1_39_single_V,shape:200\n",
      "sin_cross_attention_kwargs id: 140166285041216\n",
      "feature:41_k2_20_single_V,shape:201\n",
      "sin_cross_attention_kwargs id: 140166285041216\n",
      "feature:41_k2_21_single_V,shape:202\n",
      "sin_cross_attention_kwargs id: 140166285041216\n",
      "feature:41_k2_22_single_V,shape:203\n",
      "sin_cross_attention_kwargs id: 140166285041216\n",
      "feature:41_k2_23_single_V,shape:204\n",
      "sin_cross_attention_kwargs id: 140166285041216\n",
      "feature:41_k2_24_single_V,shape:205\n",
      "sin_cross_attention_kwargs id: 140166285041216\n",
      "feature:41_k2_25_single_V,shape:206\n",
      "sin_cross_attention_kwargs id: 140166285041216\n",
      "feature:41_k2_26_single_V,shape:207\n",
      "sin_cross_attention_kwargs id: 140166285041216\n",
      "feature:41_k2_27_single_V,shape:208\n",
      "sin_cross_attention_kwargs id: 140166285041216\n",
      "feature:41_k2_28_single_V,shape:209\n",
      "sin_cross_attention_kwargs id: 140166285041216\n",
      "feature:41_k2_29_single_V,shape:210\n",
      "sin_cross_attention_kwargs id: 140166285041216\n",
      "feature:41_k2_30_single_V,shape:211\n",
      "sin_cross_attention_kwargs id: 140166285041216\n",
      "feature:41_k2_31_single_V,shape:212\n",
      "sin_cross_attention_kwargs id: 140166285041216\n",
      "feature:41_k2_32_single_V,shape:213\n",
      "sin_cross_attention_kwargs id: 140166285041216\n",
      "feature:41_k2_33_single_V,shape:214\n",
      "sin_cross_attention_kwargs id: 140166285041216\n",
      "feature:41_k2_34_single_V,shape:215\n",
      "sin_cross_attention_kwargs id: 140166285041216\n",
      "feature:41_k2_35_single_V,shape:216\n",
      "sin_cross_attention_kwargs id: 140166285041216\n",
      "feature:41_k2_36_single_V,shape:217\n",
      "sin_cross_attention_kwargs id: 140166285041216\n",
      "feature:41_k2_37_single_V,shape:218\n",
      "sin_cross_attention_kwargs id: 140166285041216\n",
      "feature:41_k2_38_single_V,shape:219\n",
      "sin_cross_attention_kwargs id: 140166285041216\n",
      "feature:41_k2_39_single_V,shape:220\n",
      "sin_cross_attention_kwargs id: 140166285041216\n",
      "feature:41_k3_20_single_V,shape:221\n",
      "sin_cross_attention_kwargs id: 140166285041216\n",
      "feature:41_k3_21_single_V,shape:222\n",
      "sin_cross_attention_kwargs id: 140166285041216\n",
      "feature:41_k3_22_single_V,shape:223\n",
      "sin_cross_attention_kwargs id: 140166285041216\n",
      "feature:41_k3_23_single_V,shape:224\n",
      "sin_cross_attention_kwargs id: 140166285041216\n",
      "feature:41_k3_24_single_V,shape:225\n",
      "sin_cross_attention_kwargs id: 140166285041216\n",
      "feature:41_k3_25_single_V,shape:226\n",
      "sin_cross_attention_kwargs id: 140166285041216\n",
      "feature:41_k3_26_single_V,shape:227\n",
      "sin_cross_attention_kwargs id: 140166285041216\n",
      "feature:41_k3_27_single_V,shape:228\n",
      "sin_cross_attention_kwargs id: 140166285041216\n",
      "feature:41_k3_28_single_V,shape:229\n",
      "sin_cross_attention_kwargs id: 140166285041216\n",
      "feature:41_k3_29_single_V,shape:230\n",
      "sin_cross_attention_kwargs id: 140166285041216\n",
      "feature:41_k3_30_single_V,shape:231\n",
      "sin_cross_attention_kwargs id: 140166285041216\n",
      "feature:41_k3_31_single_V,shape:232\n",
      "sin_cross_attention_kwargs id: 140166285041216\n",
      "feature:41_k3_32_single_V,shape:233\n",
      "sin_cross_attention_kwargs id: 140166285041216\n",
      "feature:41_k3_33_single_V,shape:234\n",
      "sin_cross_attention_kwargs id: 140166285041216\n",
      "feature:41_k3_34_single_V,shape:235\n",
      "sin_cross_attention_kwargs id: 140166285041216\n",
      "feature:41_k3_35_single_V,shape:236\n",
      "sin_cross_attention_kwargs id: 140166285041216\n",
      "feature:41_k3_36_single_V,shape:237\n",
      "sin_cross_attention_kwargs id: 140166285041216\n",
      "feature:41_k3_37_single_V,shape:238\n",
      "sin_cross_attention_kwargs id: 140166285041216\n"
     ]
    },
    {
     "name": "stderr",
     "output_type": "stream",
     "text": [
      " 91%|█████████ | 41/45 [08:07<00:49, 12.29s/it]"
     ]
    },
    {
     "name": "stdout",
     "output_type": "stream",
     "text": [
      "feature:41_k3_38_single_V,shape:239\n",
      "sin_cross_attention_kwargs id: 140166285041216\n",
      "feature:41_k3_39_single_V,shape:240\n",
      "sin_cross_attention_kwargs id: 140166285041216\n",
      "Step 41: t_curr = 986.2543334960938, t_prev = 989.8989868164062\n",
      "feature:42_k1_20_single_V,shape:241\n",
      "sin_cross_attention_kwargs id: 140166285041216\n",
      "feature:42_k1_21_single_V,shape:242\n",
      "sin_cross_attention_kwargs id: 140166285041216\n",
      "feature:42_k1_22_single_V,shape:243\n",
      "sin_cross_attention_kwargs id: 140166285041216\n",
      "feature:42_k1_23_single_V,shape:244\n",
      "sin_cross_attention_kwargs id: 140166285041216\n",
      "feature:42_k1_24_single_V,shape:245\n",
      "sin_cross_attention_kwargs id: 140166285041216\n",
      "feature:42_k1_25_single_V,shape:246\n",
      "sin_cross_attention_kwargs id: 140166285041216\n",
      "feature:42_k1_26_single_V,shape:247\n",
      "sin_cross_attention_kwargs id: 140166285041216\n",
      "feature:42_k1_27_single_V,shape:248\n",
      "sin_cross_attention_kwargs id: 140166285041216\n",
      "feature:42_k1_28_single_V,shape:249\n",
      "sin_cross_attention_kwargs id: 140166285041216\n",
      "feature:42_k1_29_single_V,shape:250\n",
      "sin_cross_attention_kwargs id: 140166285041216\n",
      "feature:42_k1_30_single_V,shape:251\n",
      "sin_cross_attention_kwargs id: 140166285041216\n",
      "feature:42_k1_31_single_V,shape:252\n",
      "sin_cross_attention_kwargs id: 140166285041216\n",
      "feature:42_k1_32_single_V,shape:253\n",
      "sin_cross_attention_kwargs id: 140166285041216\n",
      "feature:42_k1_33_single_V,shape:254\n",
      "sin_cross_attention_kwargs id: 140166285041216\n",
      "feature:42_k1_34_single_V,shape:255\n",
      "sin_cross_attention_kwargs id: 140166285041216\n",
      "feature:42_k1_35_single_V,shape:256\n",
      "sin_cross_attention_kwargs id: 140166285041216\n",
      "feature:42_k1_36_single_V,shape:257\n",
      "sin_cross_attention_kwargs id: 140166285041216\n",
      "feature:42_k1_37_single_V,shape:258\n",
      "sin_cross_attention_kwargs id: 140166285041216\n",
      "feature:42_k1_38_single_V,shape:259\n",
      "sin_cross_attention_kwargs id: 140166285041216\n",
      "feature:42_k1_39_single_V,shape:260\n",
      "sin_cross_attention_kwargs id: 140166285041216\n",
      "feature:42_k2_20_single_V,shape:261\n",
      "sin_cross_attention_kwargs id: 140166285041216\n",
      "feature:42_k2_21_single_V,shape:262\n",
      "sin_cross_attention_kwargs id: 140166285041216\n",
      "feature:42_k2_22_single_V,shape:263\n",
      "sin_cross_attention_kwargs id: 140166285041216\n",
      "feature:42_k2_23_single_V,shape:264\n",
      "sin_cross_attention_kwargs id: 140166285041216\n",
      "feature:42_k2_24_single_V,shape:265\n",
      "sin_cross_attention_kwargs id: 140166285041216\n",
      "feature:42_k2_25_single_V,shape:266\n",
      "sin_cross_attention_kwargs id: 140166285041216\n",
      "feature:42_k2_26_single_V,shape:267\n",
      "sin_cross_attention_kwargs id: 140166285041216\n",
      "feature:42_k2_27_single_V,shape:268\n",
      "sin_cross_attention_kwargs id: 140166285041216\n",
      "feature:42_k2_28_single_V,shape:269\n",
      "sin_cross_attention_kwargs id: 140166285041216\n",
      "feature:42_k2_29_single_V,shape:270\n",
      "sin_cross_attention_kwargs id: 140166285041216\n",
      "feature:42_k2_30_single_V,shape:271\n",
      "sin_cross_attention_kwargs id: 140166285041216\n",
      "feature:42_k2_31_single_V,shape:272\n",
      "sin_cross_attention_kwargs id: 140166285041216\n",
      "feature:42_k2_32_single_V,shape:273\n",
      "sin_cross_attention_kwargs id: 140166285041216\n",
      "feature:42_k2_33_single_V,shape:274\n",
      "sin_cross_attention_kwargs id: 140166285041216\n",
      "feature:42_k2_34_single_V,shape:275\n",
      "sin_cross_attention_kwargs id: 140166285041216\n",
      "feature:42_k2_35_single_V,shape:276\n",
      "sin_cross_attention_kwargs id: 140166285041216\n",
      "feature:42_k2_36_single_V,shape:277\n",
      "sin_cross_attention_kwargs id: 140166285041216\n",
      "feature:42_k2_37_single_V,shape:278\n",
      "sin_cross_attention_kwargs id: 140166285041216\n",
      "feature:42_k2_38_single_V,shape:279\n",
      "sin_cross_attention_kwargs id: 140166285041216\n",
      "feature:42_k2_39_single_V,shape:280\n",
      "sin_cross_attention_kwargs id: 140166285041216\n",
      "feature:42_k3_20_single_V,shape:281\n",
      "sin_cross_attention_kwargs id: 140166285041216\n",
      "feature:42_k3_21_single_V,shape:282\n",
      "sin_cross_attention_kwargs id: 140166285041216\n",
      "feature:42_k3_22_single_V,shape:283\n",
      "sin_cross_attention_kwargs id: 140166285041216\n",
      "feature:42_k3_23_single_V,shape:284\n",
      "sin_cross_attention_kwargs id: 140166285041216\n",
      "feature:42_k3_24_single_V,shape:285\n",
      "sin_cross_attention_kwargs id: 140166285041216\n",
      "feature:42_k3_25_single_V,shape:286\n",
      "sin_cross_attention_kwargs id: 140166285041216\n",
      "feature:42_k3_26_single_V,shape:287\n",
      "sin_cross_attention_kwargs id: 140166285041216\n",
      "feature:42_k3_27_single_V,shape:288\n",
      "sin_cross_attention_kwargs id: 140166285041216\n",
      "feature:42_k3_28_single_V,shape:289\n",
      "sin_cross_attention_kwargs id: 140166285041216\n",
      "feature:42_k3_29_single_V,shape:290\n",
      "sin_cross_attention_kwargs id: 140166285041216\n",
      "feature:42_k3_30_single_V,shape:291\n",
      "sin_cross_attention_kwargs id: 140166285041216\n",
      "feature:42_k3_31_single_V,shape:292\n",
      "sin_cross_attention_kwargs id: 140166285041216\n",
      "feature:42_k3_32_single_V,shape:293\n",
      "sin_cross_attention_kwargs id: 140166285041216\n",
      "feature:42_k3_33_single_V,shape:294\n",
      "sin_cross_attention_kwargs id: 140166285041216\n",
      "feature:42_k3_34_single_V,shape:295\n",
      "sin_cross_attention_kwargs id: 140166285041216\n",
      "feature:42_k3_35_single_V,shape:296\n",
      "sin_cross_attention_kwargs id: 140166285041216\n",
      "feature:42_k3_36_single_V,shape:297\n",
      "sin_cross_attention_kwargs id: 140166285041216\n",
      "feature:42_k3_37_single_V,shape:298\n",
      "sin_cross_attention_kwargs id: 140166285041216\n"
     ]
    },
    {
     "name": "stderr",
     "output_type": "stream",
     "text": [
      " 93%|█████████▎| 42/45 [08:20<00:37, 12.42s/it]"
     ]
    },
    {
     "name": "stdout",
     "output_type": "stream",
     "text": [
      "feature:42_k3_38_single_V,shape:299\n",
      "sin_cross_attention_kwargs id: 140166285041216\n",
      "feature:42_k3_39_single_V,shape:300\n",
      "sin_cross_attention_kwargs id: 140166285041216\n",
      "Step 42: t_curr = 989.8989868164062, t_prev = 993.3992919921875\n",
      "feature:43_k1_20_single_V,shape:301\n",
      "sin_cross_attention_kwargs id: 140166285041216\n",
      "feature:43_k1_21_single_V,shape:302\n",
      "sin_cross_attention_kwargs id: 140166285041216\n",
      "feature:43_k1_22_single_V,shape:303\n",
      "sin_cross_attention_kwargs id: 140166285041216\n",
      "feature:43_k1_23_single_V,shape:304\n",
      "sin_cross_attention_kwargs id: 140166285041216\n",
      "feature:43_k1_24_single_V,shape:305\n",
      "sin_cross_attention_kwargs id: 140166285041216\n",
      "feature:43_k1_25_single_V,shape:306\n",
      "sin_cross_attention_kwargs id: 140166285041216\n",
      "feature:43_k1_26_single_V,shape:307\n",
      "sin_cross_attention_kwargs id: 140166285041216\n",
      "feature:43_k1_27_single_V,shape:308\n",
      "sin_cross_attention_kwargs id: 140166285041216\n",
      "feature:43_k1_28_single_V,shape:309\n",
      "sin_cross_attention_kwargs id: 140166285041216\n",
      "feature:43_k1_29_single_V,shape:310\n",
      "sin_cross_attention_kwargs id: 140166285041216\n",
      "feature:43_k1_30_single_V,shape:311\n",
      "sin_cross_attention_kwargs id: 140166285041216\n",
      "feature:43_k1_31_single_V,shape:312\n",
      "sin_cross_attention_kwargs id: 140166285041216\n",
      "feature:43_k1_32_single_V,shape:313\n",
      "sin_cross_attention_kwargs id: 140166285041216\n",
      "feature:43_k1_33_single_V,shape:314\n",
      "sin_cross_attention_kwargs id: 140166285041216\n",
      "feature:43_k1_34_single_V,shape:315\n",
      "sin_cross_attention_kwargs id: 140166285041216\n",
      "feature:43_k1_35_single_V,shape:316\n",
      "sin_cross_attention_kwargs id: 140166285041216\n",
      "feature:43_k1_36_single_V,shape:317\n",
      "sin_cross_attention_kwargs id: 140166285041216\n",
      "feature:43_k1_37_single_V,shape:318\n",
      "sin_cross_attention_kwargs id: 140166285041216\n",
      "feature:43_k1_38_single_V,shape:319\n",
      "sin_cross_attention_kwargs id: 140166285041216\n",
      "feature:43_k1_39_single_V,shape:320\n",
      "sin_cross_attention_kwargs id: 140166285041216\n",
      "feature:43_k2_20_single_V,shape:321\n",
      "sin_cross_attention_kwargs id: 140166285041216\n",
      "feature:43_k2_21_single_V,shape:322\n",
      "sin_cross_attention_kwargs id: 140166285041216\n",
      "feature:43_k2_22_single_V,shape:323\n",
      "sin_cross_attention_kwargs id: 140166285041216\n",
      "feature:43_k2_23_single_V,shape:324\n",
      "sin_cross_attention_kwargs id: 140166285041216\n",
      "feature:43_k2_24_single_V,shape:325\n",
      "sin_cross_attention_kwargs id: 140166285041216\n",
      "feature:43_k2_25_single_V,shape:326\n",
      "sin_cross_attention_kwargs id: 140166285041216\n",
      "feature:43_k2_26_single_V,shape:327\n",
      "sin_cross_attention_kwargs id: 140166285041216\n",
      "feature:43_k2_27_single_V,shape:328\n",
      "sin_cross_attention_kwargs id: 140166285041216\n",
      "feature:43_k2_28_single_V,shape:329\n",
      "sin_cross_attention_kwargs id: 140166285041216\n",
      "feature:43_k2_29_single_V,shape:330\n",
      "sin_cross_attention_kwargs id: 140166285041216\n",
      "feature:43_k2_30_single_V,shape:331\n",
      "sin_cross_attention_kwargs id: 140166285041216\n",
      "feature:43_k2_31_single_V,shape:332\n",
      "sin_cross_attention_kwargs id: 140166285041216\n",
      "feature:43_k2_32_single_V,shape:333\n",
      "sin_cross_attention_kwargs id: 140166285041216\n",
      "feature:43_k2_33_single_V,shape:334\n",
      "sin_cross_attention_kwargs id: 140166285041216\n",
      "feature:43_k2_34_single_V,shape:335\n",
      "sin_cross_attention_kwargs id: 140166285041216\n",
      "feature:43_k2_35_single_V,shape:336\n",
      "sin_cross_attention_kwargs id: 140166285041216\n",
      "feature:43_k2_36_single_V,shape:337\n",
      "sin_cross_attention_kwargs id: 140166285041216\n",
      "feature:43_k2_37_single_V,shape:338\n",
      "sin_cross_attention_kwargs id: 140166285041216\n",
      "feature:43_k2_38_single_V,shape:339\n",
      "sin_cross_attention_kwargs id: 140166285041216\n",
      "feature:43_k2_39_single_V,shape:340\n",
      "sin_cross_attention_kwargs id: 140166285041216\n",
      "feature:43_k3_20_single_V,shape:341\n",
      "sin_cross_attention_kwargs id: 140166285041216\n",
      "feature:43_k3_21_single_V,shape:342\n",
      "sin_cross_attention_kwargs id: 140166285041216\n",
      "feature:43_k3_22_single_V,shape:343\n",
      "sin_cross_attention_kwargs id: 140166285041216\n",
      "feature:43_k3_23_single_V,shape:344\n",
      "sin_cross_attention_kwargs id: 140166285041216\n",
      "feature:43_k3_24_single_V,shape:345\n",
      "sin_cross_attention_kwargs id: 140166285041216\n",
      "feature:43_k3_25_single_V,shape:346\n",
      "sin_cross_attention_kwargs id: 140166285041216\n",
      "feature:43_k3_26_single_V,shape:347\n",
      "sin_cross_attention_kwargs id: 140166285041216\n",
      "feature:43_k3_27_single_V,shape:348\n",
      "sin_cross_attention_kwargs id: 140166285041216\n",
      "feature:43_k3_28_single_V,shape:349\n",
      "sin_cross_attention_kwargs id: 140166285041216\n",
      "feature:43_k3_29_single_V,shape:350\n",
      "sin_cross_attention_kwargs id: 140166285041216\n",
      "feature:43_k3_30_single_V,shape:351\n",
      "sin_cross_attention_kwargs id: 140166285041216\n",
      "feature:43_k3_31_single_V,shape:352\n",
      "sin_cross_attention_kwargs id: 140166285041216\n",
      "feature:43_k3_32_single_V,shape:353\n",
      "sin_cross_attention_kwargs id: 140166285041216\n",
      "feature:43_k3_33_single_V,shape:354\n",
      "sin_cross_attention_kwargs id: 140166285041216\n",
      "feature:43_k3_34_single_V,shape:355\n",
      "sin_cross_attention_kwargs id: 140166285041216\n",
      "feature:43_k3_35_single_V,shape:356\n",
      "sin_cross_attention_kwargs id: 140166285041216\n",
      "feature:43_k3_36_single_V,shape:357\n",
      "sin_cross_attention_kwargs id: 140166285041216\n",
      "feature:43_k3_37_single_V,shape:358\n",
      "sin_cross_attention_kwargs id: 140166285041216\n"
     ]
    },
    {
     "name": "stderr",
     "output_type": "stream",
     "text": [
      " 96%|█████████▌| 43/45 [08:33<00:24, 12.48s/it]"
     ]
    },
    {
     "name": "stdout",
     "output_type": "stream",
     "text": [
      "feature:43_k3_38_single_V,shape:359\n",
      "sin_cross_attention_kwargs id: 140166285041216\n",
      "feature:43_k3_39_single_V,shape:360\n",
      "sin_cross_attention_kwargs id: 140166285041216\n",
      "Step 43: t_curr = 993.3992919921875, t_prev = 996.7637329101562\n",
      "feature:44_k1_20_single_V,shape:361\n",
      "sin_cross_attention_kwargs id: 140166285041216\n",
      "feature:44_k1_21_single_V,shape:362\n",
      "sin_cross_attention_kwargs id: 140166285041216\n",
      "feature:44_k1_22_single_V,shape:363\n",
      "sin_cross_attention_kwargs id: 140166285041216\n",
      "feature:44_k1_23_single_V,shape:364\n",
      "sin_cross_attention_kwargs id: 140166285041216\n",
      "feature:44_k1_24_single_V,shape:365\n",
      "sin_cross_attention_kwargs id: 140166285041216\n",
      "feature:44_k1_25_single_V,shape:366\n",
      "sin_cross_attention_kwargs id: 140166285041216\n",
      "feature:44_k1_26_single_V,shape:367\n",
      "sin_cross_attention_kwargs id: 140166285041216\n",
      "feature:44_k1_27_single_V,shape:368\n",
      "sin_cross_attention_kwargs id: 140166285041216\n",
      "feature:44_k1_28_single_V,shape:369\n",
      "sin_cross_attention_kwargs id: 140166285041216\n",
      "feature:44_k1_29_single_V,shape:370\n",
      "sin_cross_attention_kwargs id: 140166285041216\n",
      "feature:44_k1_30_single_V,shape:371\n",
      "sin_cross_attention_kwargs id: 140166285041216\n",
      "feature:44_k1_31_single_V,shape:372\n",
      "sin_cross_attention_kwargs id: 140166285041216\n",
      "feature:44_k1_32_single_V,shape:373\n",
      "sin_cross_attention_kwargs id: 140166285041216\n",
      "feature:44_k1_33_single_V,shape:374\n",
      "sin_cross_attention_kwargs id: 140166285041216\n",
      "feature:44_k1_34_single_V,shape:375\n",
      "sin_cross_attention_kwargs id: 140166285041216\n",
      "feature:44_k1_35_single_V,shape:376\n",
      "sin_cross_attention_kwargs id: 140166285041216\n",
      "feature:44_k1_36_single_V,shape:377\n",
      "sin_cross_attention_kwargs id: 140166285041216\n",
      "feature:44_k1_37_single_V,shape:378\n",
      "sin_cross_attention_kwargs id: 140166285041216\n",
      "feature:44_k1_38_single_V,shape:379\n",
      "sin_cross_attention_kwargs id: 140166285041216\n",
      "feature:44_k1_39_single_V,shape:380\n",
      "sin_cross_attention_kwargs id: 140166285041216\n",
      "feature:44_k2_20_single_V,shape:381\n",
      "sin_cross_attention_kwargs id: 140166285041216\n",
      "feature:44_k2_21_single_V,shape:382\n",
      "sin_cross_attention_kwargs id: 140166285041216\n",
      "feature:44_k2_22_single_V,shape:383\n",
      "sin_cross_attention_kwargs id: 140166285041216\n",
      "feature:44_k2_23_single_V,shape:384\n",
      "sin_cross_attention_kwargs id: 140166285041216\n",
      "feature:44_k2_24_single_V,shape:385\n",
      "sin_cross_attention_kwargs id: 140166285041216\n",
      "feature:44_k2_25_single_V,shape:386\n",
      "sin_cross_attention_kwargs id: 140166285041216\n",
      "feature:44_k2_26_single_V,shape:387\n",
      "sin_cross_attention_kwargs id: 140166285041216\n",
      "feature:44_k2_27_single_V,shape:388\n",
      "sin_cross_attention_kwargs id: 140166285041216\n",
      "feature:44_k2_28_single_V,shape:389\n",
      "sin_cross_attention_kwargs id: 140166285041216\n",
      "feature:44_k2_29_single_V,shape:390\n",
      "sin_cross_attention_kwargs id: 140166285041216\n",
      "feature:44_k2_30_single_V,shape:391\n",
      "sin_cross_attention_kwargs id: 140166285041216\n",
      "feature:44_k2_31_single_V,shape:392\n",
      "sin_cross_attention_kwargs id: 140166285041216\n",
      "feature:44_k2_32_single_V,shape:393\n",
      "sin_cross_attention_kwargs id: 140166285041216\n",
      "feature:44_k2_33_single_V,shape:394\n",
      "sin_cross_attention_kwargs id: 140166285041216\n",
      "feature:44_k2_34_single_V,shape:395\n",
      "sin_cross_attention_kwargs id: 140166285041216\n",
      "feature:44_k2_35_single_V,shape:396\n",
      "sin_cross_attention_kwargs id: 140166285041216\n",
      "feature:44_k2_36_single_V,shape:397\n",
      "sin_cross_attention_kwargs id: 140166285041216\n",
      "feature:44_k2_37_single_V,shape:398\n",
      "sin_cross_attention_kwargs id: 140166285041216\n",
      "feature:44_k2_38_single_V,shape:399\n",
      "sin_cross_attention_kwargs id: 140166285041216\n",
      "feature:44_k2_39_single_V,shape:400\n",
      "sin_cross_attention_kwargs id: 140166285041216\n",
      "feature:44_k3_20_single_V,shape:401\n",
      "sin_cross_attention_kwargs id: 140166285041216\n",
      "feature:44_k3_21_single_V,shape:402\n",
      "sin_cross_attention_kwargs id: 140166285041216\n",
      "feature:44_k3_22_single_V,shape:403\n",
      "sin_cross_attention_kwargs id: 140166285041216\n",
      "feature:44_k3_23_single_V,shape:404\n",
      "sin_cross_attention_kwargs id: 140166285041216\n",
      "feature:44_k3_24_single_V,shape:405\n",
      "sin_cross_attention_kwargs id: 140166285041216\n",
      "feature:44_k3_25_single_V,shape:406\n",
      "sin_cross_attention_kwargs id: 140166285041216\n",
      "feature:44_k3_26_single_V,shape:407\n",
      "sin_cross_attention_kwargs id: 140166285041216\n",
      "feature:44_k3_27_single_V,shape:408\n",
      "sin_cross_attention_kwargs id: 140166285041216\n",
      "feature:44_k3_28_single_V,shape:409\n",
      "sin_cross_attention_kwargs id: 140166285041216\n",
      "feature:44_k3_29_single_V,shape:410\n",
      "sin_cross_attention_kwargs id: 140166285041216\n",
      "feature:44_k3_30_single_V,shape:411\n",
      "sin_cross_attention_kwargs id: 140166285041216\n",
      "feature:44_k3_31_single_V,shape:412\n",
      "sin_cross_attention_kwargs id: 140166285041216\n",
      "feature:44_k3_32_single_V,shape:413\n",
      "sin_cross_attention_kwargs id: 140166285041216\n",
      "feature:44_k3_33_single_V,shape:414\n",
      "sin_cross_attention_kwargs id: 140166285041216\n",
      "feature:44_k3_34_single_V,shape:415\n",
      "sin_cross_attention_kwargs id: 140166285041216\n",
      "feature:44_k3_35_single_V,shape:416\n",
      "sin_cross_attention_kwargs id: 140166285041216\n",
      "feature:44_k3_36_single_V,shape:417\n",
      "sin_cross_attention_kwargs id: 140166285041216\n",
      "feature:44_k3_37_single_V,shape:418\n",
      "sin_cross_attention_kwargs id: 140166285041216\n"
     ]
    },
    {
     "name": "stderr",
     "output_type": "stream",
     "text": [
      " 98%|█████████▊| 44/45 [08:45<00:12, 12.51s/it]"
     ]
    },
    {
     "name": "stdout",
     "output_type": "stream",
     "text": [
      "feature:44_k3_38_single_V,shape:419\n",
      "sin_cross_attention_kwargs id: 140166285041216\n",
      "feature:44_k3_39_single_V,shape:420\n",
      "sin_cross_attention_kwargs id: 140166285041216\n",
      "Step 44: t_curr = 996.7637329101562, t_prev = 1000.0\n",
      "feature:45_k1_20_single_V,shape:421\n",
      "sin_cross_attention_kwargs id: 140166285041216\n",
      "feature:45_k1_21_single_V,shape:422\n",
      "sin_cross_attention_kwargs id: 140166285041216\n",
      "feature:45_k1_22_single_V,shape:423\n",
      "sin_cross_attention_kwargs id: 140166285041216\n",
      "feature:45_k1_23_single_V,shape:424\n",
      "sin_cross_attention_kwargs id: 140166285041216\n",
      "feature:45_k1_24_single_V,shape:425\n",
      "sin_cross_attention_kwargs id: 140166285041216\n",
      "feature:45_k1_25_single_V,shape:426\n",
      "sin_cross_attention_kwargs id: 140166285041216\n",
      "feature:45_k1_26_single_V,shape:427\n",
      "sin_cross_attention_kwargs id: 140166285041216\n",
      "feature:45_k1_27_single_V,shape:428\n",
      "sin_cross_attention_kwargs id: 140166285041216\n",
      "feature:45_k1_28_single_V,shape:429\n",
      "sin_cross_attention_kwargs id: 140166285041216\n",
      "feature:45_k1_29_single_V,shape:430\n",
      "sin_cross_attention_kwargs id: 140166285041216\n",
      "feature:45_k1_30_single_V,shape:431\n",
      "sin_cross_attention_kwargs id: 140166285041216\n",
      "feature:45_k1_31_single_V,shape:432\n",
      "sin_cross_attention_kwargs id: 140166285041216\n",
      "feature:45_k1_32_single_V,shape:433\n",
      "sin_cross_attention_kwargs id: 140166285041216\n",
      "feature:45_k1_33_single_V,shape:434\n",
      "sin_cross_attention_kwargs id: 140166285041216\n",
      "feature:45_k1_34_single_V,shape:435\n",
      "sin_cross_attention_kwargs id: 140166285041216\n",
      "feature:45_k1_35_single_V,shape:436\n",
      "sin_cross_attention_kwargs id: 140166285041216\n",
      "feature:45_k1_36_single_V,shape:437\n",
      "sin_cross_attention_kwargs id: 140166285041216\n",
      "feature:45_k1_37_single_V,shape:438\n",
      "sin_cross_attention_kwargs id: 140166285041216\n",
      "feature:45_k1_38_single_V,shape:439\n",
      "sin_cross_attention_kwargs id: 140166285041216\n",
      "feature:45_k1_39_single_V,shape:440\n",
      "sin_cross_attention_kwargs id: 140166285041216\n",
      "feature:45_k2_20_single_V,shape:441\n",
      "sin_cross_attention_kwargs id: 140166285041216\n",
      "feature:45_k2_21_single_V,shape:442\n",
      "sin_cross_attention_kwargs id: 140166285041216\n",
      "feature:45_k2_22_single_V,shape:443\n",
      "sin_cross_attention_kwargs id: 140166285041216\n",
      "feature:45_k2_23_single_V,shape:444\n",
      "sin_cross_attention_kwargs id: 140166285041216\n",
      "feature:45_k2_24_single_V,shape:445\n",
      "sin_cross_attention_kwargs id: 140166285041216\n",
      "feature:45_k2_25_single_V,shape:446\n",
      "sin_cross_attention_kwargs id: 140166285041216\n",
      "feature:45_k2_26_single_V,shape:447\n",
      "sin_cross_attention_kwargs id: 140166285041216\n",
      "feature:45_k2_27_single_V,shape:448\n",
      "sin_cross_attention_kwargs id: 140166285041216\n",
      "feature:45_k2_28_single_V,shape:449\n",
      "sin_cross_attention_kwargs id: 140166285041216\n",
      "feature:45_k2_29_single_V,shape:450\n",
      "sin_cross_attention_kwargs id: 140166285041216\n",
      "feature:45_k2_30_single_V,shape:451\n",
      "sin_cross_attention_kwargs id: 140166285041216\n",
      "feature:45_k2_31_single_V,shape:452\n",
      "sin_cross_attention_kwargs id: 140166285041216\n",
      "feature:45_k2_32_single_V,shape:453\n",
      "sin_cross_attention_kwargs id: 140166285041216\n",
      "feature:45_k2_33_single_V,shape:454\n",
      "sin_cross_attention_kwargs id: 140166285041216\n",
      "feature:45_k2_34_single_V,shape:455\n",
      "sin_cross_attention_kwargs id: 140166285041216\n",
      "feature:45_k2_35_single_V,shape:456\n",
      "sin_cross_attention_kwargs id: 140166285041216\n",
      "feature:45_k2_36_single_V,shape:457\n",
      "sin_cross_attention_kwargs id: 140166285041216\n",
      "feature:45_k2_37_single_V,shape:458\n",
      "sin_cross_attention_kwargs id: 140166285041216\n",
      "feature:45_k2_38_single_V,shape:459\n",
      "sin_cross_attention_kwargs id: 140166285041216\n",
      "feature:45_k2_39_single_V,shape:460\n",
      "sin_cross_attention_kwargs id: 140166285041216\n",
      "feature:45_k3_20_single_V,shape:461\n",
      "sin_cross_attention_kwargs id: 140166285041216\n",
      "feature:45_k3_21_single_V,shape:462\n",
      "sin_cross_attention_kwargs id: 140166285041216\n",
      "feature:45_k3_22_single_V,shape:463\n",
      "sin_cross_attention_kwargs id: 140166285041216\n",
      "feature:45_k3_23_single_V,shape:464\n",
      "sin_cross_attention_kwargs id: 140166285041216\n",
      "feature:45_k3_24_single_V,shape:465\n",
      "sin_cross_attention_kwargs id: 140166285041216\n",
      "feature:45_k3_25_single_V,shape:466\n",
      "sin_cross_attention_kwargs id: 140166285041216\n",
      "feature:45_k3_26_single_V,shape:467\n",
      "sin_cross_attention_kwargs id: 140166285041216\n",
      "feature:45_k3_27_single_V,shape:468\n",
      "sin_cross_attention_kwargs id: 140166285041216\n",
      "feature:45_k3_28_single_V,shape:469\n",
      "sin_cross_attention_kwargs id: 140166285041216\n",
      "feature:45_k3_29_single_V,shape:470\n",
      "sin_cross_attention_kwargs id: 140166285041216\n",
      "feature:45_k3_30_single_V,shape:471\n",
      "sin_cross_attention_kwargs id: 140166285041216\n",
      "feature:45_k3_31_single_V,shape:472\n",
      "sin_cross_attention_kwargs id: 140166285041216\n",
      "feature:45_k3_32_single_V,shape:473\n",
      "sin_cross_attention_kwargs id: 140166285041216\n",
      "feature:45_k3_33_single_V,shape:474\n",
      "sin_cross_attention_kwargs id: 140166285041216\n",
      "feature:45_k3_34_single_V,shape:475\n",
      "sin_cross_attention_kwargs id: 140166285041216\n",
      "feature:45_k3_35_single_V,shape:476\n",
      "sin_cross_attention_kwargs id: 140166285041216\n",
      "feature:45_k3_36_single_V,shape:477\n",
      "sin_cross_attention_kwargs id: 140166285041216\n",
      "feature:45_k3_37_single_V,shape:478\n",
      "sin_cross_attention_kwargs id: 140166285041216\n"
     ]
    },
    {
     "name": "stderr",
     "output_type": "stream",
     "text": [
      "100%|██████████| 45/45 [08:58<00:00, 11.96s/it]"
     ]
    },
    {
     "name": "stdout",
     "output_type": "stream",
     "text": [
      "feature:45_k3_38_single_V,shape:479\n",
      "sin_cross_attention_kwargs id: 140166285041216\n",
      "feature:45_k3_39_single_V,shape:480\n",
      "sin_cross_attention_kwargs id: 140166285041216\n",
      "cuda:0\n"
     ]
    },
    {
     "name": "stderr",
     "output_type": "stream",
     "text": [
      "\n"
     ]
    },
    {
     "name": "stdout",
     "output_type": "stream",
     "text": [
      "cuda:0\n",
      "sigmas: tensor([1.0000, 0.9968, 0.9934, 0.9899, 0.9863, 0.9825, 0.9785, 0.9744, 0.9700,\n",
      "        0.9655, 0.9608, 0.9558, 0.9506, 0.9451, 0.9394, 0.9333, 0.9269, 0.9202,\n",
      "        0.9130, 0.9055, 0.8974, 0.8889, 0.8798, 0.8701, 0.8596, 0.8485, 0.8365,\n",
      "        0.8235, 0.8095, 0.7943, 0.7778, 0.7597, 0.7398, 0.7179, 0.6937, 0.6667,\n",
      "        0.6364, 0.6022, 0.5632, 0.5185, 0.4667, 0.4058, 0.3333, 0.2456, 0.1373,\n",
      "        0.0000])\n",
      "Using inversed latents\n",
      "Step 0: t = 1000.0\n",
      "Step 1: t = 996.7637329101562\n",
      "Step 2: t = 993.3992919921875\n",
      "Step 3: t = 989.8989868164062\n",
      "Step 4: t = 986.2543334960938\n",
      "Step 5: t = 982.4561767578125\n",
      "Step 6: t = 978.49462890625\n",
      "Step 7: t = 974.3590087890625\n",
      "Step 8: t = 970.0374755859375\n",
      "Step 9: t = 965.5172119140625\n",
      "Step 10: t = 960.7843017578125\n",
      "Step 11: t = 955.8233032226562\n",
      "Step 12: t = 950.6172485351562\n",
      "Step 13: t = 945.147705078125\n",
      "Step 14: t = 939.3939208984375\n",
      "Step 15: t = 933.3333740234375\n",
      "Step 16: t = 926.9406127929688\n",
      "Step 17: t = 920.1878051757812\n",
      "Step 18: t = 913.04345703125\n",
      "Step 19: t = 905.47265625\n",
      "Step 20: t = 897.4359130859375\n",
      "Step 21: t = 888.888916015625\n",
      "Step 22: t = 879.7814331054688\n",
      "Step 23: t = 870.0564575195312\n",
      "Step 24: t = 859.6491088867188\n",
      "Step 25: t = 848.48486328125\n",
      "Step 26: t = 836.47802734375\n",
      "Step 27: t = 823.5293579101562\n",
      "Step 28: t = 809.5238037109375\n",
      "Step 29: t = 794.3262329101562\n",
      "Step 30: t = 777.77783203125\n",
      "Step 31: t = 759.6898803710938\n",
      "Step 32: t = 739.83740234375\n",
      "Step 33: t = 717.94873046875\n",
      "Step 34: t = 693.6936645507812\n",
      "Step 35: t = 666.6666259765625\n",
      "Step 36: t = 636.3636474609375\n",
      "Step 37: t = 602.1505737304688\n",
      "Step 38: t = 563.2183837890625\n",
      "Step 39: t = 518.5184936523438\n",
      "Step 40: t = 466.6666259765625\n",
      "Step 41: t = 405.797119140625\n",
      "Step 42: t = 333.3333435058594\n",
      "Step 43: t = 245.61404418945312\n",
      "Step 44: t = 137.25491333007812\n"
     ]
    },
    {
     "name": "stderr",
     "output_type": "stream",
     "text": [
      "  0%|          | 0/45 [00:00<?, ?it/s]"
     ]
    },
    {
     "name": "stdout",
     "output_type": "stream",
     "text": [
      "Step 0: t_curr = 1000.0, t_prev = 996.7637329101562\n",
      "feature:45_k1_20_single_V,shape:480\n",
      "sin_cross_attention_kwargs id: 140166285041216\n",
      "feature:45_k1_21_single_V,shape:480\n",
      "sin_cross_attention_kwargs id: 140166285041216\n",
      "feature:45_k1_22_single_V,shape:480\n",
      "sin_cross_attention_kwargs id: 140166285041216\n",
      "feature:45_k1_23_single_V,shape:480\n",
      "sin_cross_attention_kwargs id: 140166285041216\n",
      "feature:45_k1_24_single_V,shape:480\n",
      "sin_cross_attention_kwargs id: 140166285041216\n",
      "feature:45_k1_25_single_V,shape:480\n",
      "sin_cross_attention_kwargs id: 140166285041216\n",
      "feature:45_k1_26_single_V,shape:480\n",
      "sin_cross_attention_kwargs id: 140166285041216\n",
      "feature:45_k1_27_single_V,shape:480\n",
      "sin_cross_attention_kwargs id: 140166285041216\n",
      "feature:45_k1_28_single_V,shape:480\n",
      "sin_cross_attention_kwargs id: 140166285041216\n",
      "feature:45_k1_29_single_V,shape:480\n",
      "sin_cross_attention_kwargs id: 140166285041216\n",
      "feature:45_k1_30_single_V,shape:480\n",
      "sin_cross_attention_kwargs id: 140166285041216\n",
      "feature:45_k1_31_single_V,shape:480\n",
      "sin_cross_attention_kwargs id: 140166285041216\n",
      "feature:45_k1_32_single_V,shape:480\n",
      "sin_cross_attention_kwargs id: 140166285041216\n",
      "feature:45_k1_33_single_V,shape:480\n",
      "sin_cross_attention_kwargs id: 140166285041216\n",
      "feature:45_k1_34_single_V,shape:480\n",
      "sin_cross_attention_kwargs id: 140166285041216\n",
      "feature:45_k1_35_single_V,shape:480\n",
      "sin_cross_attention_kwargs id: 140166285041216\n",
      "feature:45_k1_36_single_V,shape:480\n",
      "sin_cross_attention_kwargs id: 140166285041216\n",
      "feature:45_k1_37_single_V,shape:480\n",
      "sin_cross_attention_kwargs id: 140166285041216\n",
      "feature:45_k1_38_single_V,shape:480\n",
      "sin_cross_attention_kwargs id: 140166285041216\n",
      "feature:45_k1_39_single_V,shape:480\n",
      "sin_cross_attention_kwargs id: 140166285041216\n",
      "feature:45_k2_20_single_V,shape:480\n",
      "sin_cross_attention_kwargs id: 140166285041216\n",
      "feature:45_k2_21_single_V,shape:480\n",
      "sin_cross_attention_kwargs id: 140166285041216\n",
      "feature:45_k2_22_single_V,shape:480\n",
      "sin_cross_attention_kwargs id: 140166285041216\n",
      "feature:45_k2_23_single_V,shape:480\n",
      "sin_cross_attention_kwargs id: 140166285041216\n",
      "feature:45_k2_24_single_V,shape:480\n",
      "sin_cross_attention_kwargs id: 140166285041216\n",
      "feature:45_k2_25_single_V,shape:480\n",
      "sin_cross_attention_kwargs id: 140166285041216\n",
      "feature:45_k2_26_single_V,shape:480\n",
      "sin_cross_attention_kwargs id: 140166285041216\n",
      "feature:45_k2_27_single_V,shape:480\n",
      "sin_cross_attention_kwargs id: 140166285041216\n",
      "feature:45_k2_28_single_V,shape:480\n",
      "sin_cross_attention_kwargs id: 140166285041216\n",
      "feature:45_k2_29_single_V,shape:480\n",
      "sin_cross_attention_kwargs id: 140166285041216\n",
      "feature:45_k2_30_single_V,shape:480\n",
      "sin_cross_attention_kwargs id: 140166285041216\n",
      "feature:45_k2_31_single_V,shape:480\n",
      "sin_cross_attention_kwargs id: 140166285041216\n",
      "feature:45_k2_32_single_V,shape:480\n",
      "sin_cross_attention_kwargs id: 140166285041216\n",
      "feature:45_k2_33_single_V,shape:480\n",
      "sin_cross_attention_kwargs id: 140166285041216\n",
      "feature:45_k2_34_single_V,shape:480\n",
      "sin_cross_attention_kwargs id: 140166285041216\n",
      "feature:45_k2_35_single_V,shape:480\n",
      "sin_cross_attention_kwargs id: 140166285041216\n",
      "feature:45_k2_36_single_V,shape:480\n",
      "sin_cross_attention_kwargs id: 140166285041216\n",
      "feature:45_k2_37_single_V,shape:480\n",
      "sin_cross_attention_kwargs id: 140166285041216\n",
      "feature:45_k2_38_single_V,shape:480\n",
      "sin_cross_attention_kwargs id: 140166285041216\n",
      "feature:45_k2_39_single_V,shape:480\n",
      "sin_cross_attention_kwargs id: 140166285041216\n",
      "feature:45_k3_20_single_V,shape:480\n",
      "sin_cross_attention_kwargs id: 140166285041216\n",
      "feature:45_k3_21_single_V,shape:480\n",
      "sin_cross_attention_kwargs id: 140166285041216\n",
      "feature:45_k3_22_single_V,shape:480\n",
      "sin_cross_attention_kwargs id: 140166285041216\n",
      "feature:45_k3_23_single_V,shape:480\n",
      "sin_cross_attention_kwargs id: 140166285041216\n",
      "feature:45_k3_24_single_V,shape:480\n",
      "sin_cross_attention_kwargs id: 140166285041216\n",
      "feature:45_k3_25_single_V,shape:480\n",
      "sin_cross_attention_kwargs id: 140166285041216\n",
      "feature:45_k3_26_single_V,shape:480\n",
      "sin_cross_attention_kwargs id: 140166285041216\n",
      "feature:45_k3_27_single_V,shape:480\n",
      "sin_cross_attention_kwargs id: 140166285041216\n",
      "feature:45_k3_28_single_V,shape:480\n",
      "sin_cross_attention_kwargs id: 140166285041216\n",
      "feature:45_k3_29_single_V,shape:480\n",
      "sin_cross_attention_kwargs id: 140166285041216\n",
      "feature:45_k3_30_single_V,shape:480\n",
      "sin_cross_attention_kwargs id: 140166285041216\n",
      "feature:45_k3_31_single_V,shape:480\n",
      "sin_cross_attention_kwargs id: 140166285041216\n",
      "feature:45_k3_32_single_V,shape:480\n",
      "sin_cross_attention_kwargs id: 140166285041216\n",
      "feature:45_k3_33_single_V,shape:480\n",
      "sin_cross_attention_kwargs id: 140166285041216\n",
      "feature:45_k3_34_single_V,shape:480\n",
      "sin_cross_attention_kwargs id: 140166285041216\n",
      "feature:45_k3_35_single_V,shape:480\n",
      "sin_cross_attention_kwargs id: 140166285041216\n",
      "feature:45_k3_36_single_V,shape:480\n",
      "sin_cross_attention_kwargs id: 140166285041216\n",
      "feature:45_k3_37_single_V,shape:480\n",
      "sin_cross_attention_kwargs id: 140166285041216\n",
      "feature:45_k3_38_single_V,shape:480\n",
      "sin_cross_attention_kwargs id: 140166285041216\n",
      "feature:45_k3_39_single_V,shape:480\n",
      "sin_cross_attention_kwargs id: 140166285041216\n"
     ]
    },
    {
     "name": "stderr",
     "output_type": "stream",
     "text": [
      "  2%|▏         | 1/45 [00:10<07:48, 10.64s/it]"
     ]
    },
    {
     "name": "stdout",
     "output_type": "stream",
     "text": [
      "Step 1: t_curr = 996.7637329101562, t_prev = 993.3992919921875\n",
      "feature:44_k1_20_single_V,shape:480\n",
      "sin_cross_attention_kwargs id: 140166285041216\n",
      "feature:44_k1_21_single_V,shape:480\n",
      "sin_cross_attention_kwargs id: 140166285041216\n",
      "feature:44_k1_22_single_V,shape:480\n",
      "sin_cross_attention_kwargs id: 140166285041216\n",
      "feature:44_k1_23_single_V,shape:480\n",
      "sin_cross_attention_kwargs id: 140166285041216\n",
      "feature:44_k1_24_single_V,shape:480\n",
      "sin_cross_attention_kwargs id: 140166285041216\n",
      "feature:44_k1_25_single_V,shape:480\n",
      "sin_cross_attention_kwargs id: 140166285041216\n",
      "feature:44_k1_26_single_V,shape:480\n",
      "sin_cross_attention_kwargs id: 140166285041216\n",
      "feature:44_k1_27_single_V,shape:480\n",
      "sin_cross_attention_kwargs id: 140166285041216\n",
      "feature:44_k1_28_single_V,shape:480\n",
      "sin_cross_attention_kwargs id: 140166285041216\n",
      "feature:44_k1_29_single_V,shape:480\n",
      "sin_cross_attention_kwargs id: 140166285041216\n",
      "feature:44_k1_30_single_V,shape:480\n",
      "sin_cross_attention_kwargs id: 140166285041216\n",
      "feature:44_k1_31_single_V,shape:480\n",
      "sin_cross_attention_kwargs id: 140166285041216\n",
      "feature:44_k1_32_single_V,shape:480\n",
      "sin_cross_attention_kwargs id: 140166285041216\n",
      "feature:44_k1_33_single_V,shape:480\n",
      "sin_cross_attention_kwargs id: 140166285041216\n",
      "feature:44_k1_34_single_V,shape:480\n",
      "sin_cross_attention_kwargs id: 140166285041216\n",
      "feature:44_k1_35_single_V,shape:480\n",
      "sin_cross_attention_kwargs id: 140166285041216\n",
      "feature:44_k1_36_single_V,shape:480\n",
      "sin_cross_attention_kwargs id: 140166285041216\n",
      "feature:44_k1_37_single_V,shape:480\n",
      "sin_cross_attention_kwargs id: 140166285041216\n",
      "feature:44_k1_38_single_V,shape:480\n",
      "sin_cross_attention_kwargs id: 140166285041216\n",
      "feature:44_k1_39_single_V,shape:480\n",
      "sin_cross_attention_kwargs id: 140166285041216\n",
      "feature:44_k2_20_single_V,shape:480\n",
      "sin_cross_attention_kwargs id: 140166285041216\n",
      "feature:44_k2_21_single_V,shape:480\n",
      "sin_cross_attention_kwargs id: 140166285041216\n",
      "feature:44_k2_22_single_V,shape:480\n",
      "sin_cross_attention_kwargs id: 140166285041216\n",
      "feature:44_k2_23_single_V,shape:480\n",
      "sin_cross_attention_kwargs id: 140166285041216\n",
      "feature:44_k2_24_single_V,shape:480\n",
      "sin_cross_attention_kwargs id: 140166285041216\n",
      "feature:44_k2_25_single_V,shape:480\n",
      "sin_cross_attention_kwargs id: 140166285041216\n",
      "feature:44_k2_26_single_V,shape:480\n",
      "sin_cross_attention_kwargs id: 140166285041216\n",
      "feature:44_k2_27_single_V,shape:480\n",
      "sin_cross_attention_kwargs id: 140166285041216\n",
      "feature:44_k2_28_single_V,shape:480\n",
      "sin_cross_attention_kwargs id: 140166285041216\n",
      "feature:44_k2_29_single_V,shape:480\n",
      "sin_cross_attention_kwargs id: 140166285041216\n",
      "feature:44_k2_30_single_V,shape:480\n",
      "sin_cross_attention_kwargs id: 140166285041216\n",
      "feature:44_k2_31_single_V,shape:480\n",
      "sin_cross_attention_kwargs id: 140166285041216\n",
      "feature:44_k2_32_single_V,shape:480\n",
      "sin_cross_attention_kwargs id: 140166285041216\n",
      "feature:44_k2_33_single_V,shape:480\n",
      "sin_cross_attention_kwargs id: 140166285041216\n",
      "feature:44_k2_34_single_V,shape:480\n",
      "sin_cross_attention_kwargs id: 140166285041216\n",
      "feature:44_k2_35_single_V,shape:480\n",
      "sin_cross_attention_kwargs id: 140166285041216\n",
      "feature:44_k2_36_single_V,shape:480\n",
      "sin_cross_attention_kwargs id: 140166285041216\n",
      "feature:44_k2_37_single_V,shape:480\n",
      "sin_cross_attention_kwargs id: 140166285041216\n",
      "feature:44_k2_38_single_V,shape:480\n",
      "sin_cross_attention_kwargs id: 140166285041216\n",
      "feature:44_k2_39_single_V,shape:480\n",
      "sin_cross_attention_kwargs id: 140166285041216\n",
      "feature:44_k3_20_single_V,shape:480\n",
      "sin_cross_attention_kwargs id: 140166285041216\n",
      "feature:44_k3_21_single_V,shape:480\n",
      "sin_cross_attention_kwargs id: 140166285041216\n",
      "feature:44_k3_22_single_V,shape:480\n",
      "sin_cross_attention_kwargs id: 140166285041216\n",
      "feature:44_k3_23_single_V,shape:480\n",
      "sin_cross_attention_kwargs id: 140166285041216\n",
      "feature:44_k3_24_single_V,shape:480\n",
      "sin_cross_attention_kwargs id: 140166285041216\n",
      "feature:44_k3_25_single_V,shape:480\n",
      "sin_cross_attention_kwargs id: 140166285041216\n",
      "feature:44_k3_26_single_V,shape:480\n",
      "sin_cross_attention_kwargs id: 140166285041216\n",
      "feature:44_k3_27_single_V,shape:480\n",
      "sin_cross_attention_kwargs id: 140166285041216\n",
      "feature:44_k3_28_single_V,shape:480\n",
      "sin_cross_attention_kwargs id: 140166285041216\n",
      "feature:44_k3_29_single_V,shape:480\n",
      "sin_cross_attention_kwargs id: 140166285041216\n",
      "feature:44_k3_30_single_V,shape:480\n",
      "sin_cross_attention_kwargs id: 140166285041216\n",
      "feature:44_k3_31_single_V,shape:480\n",
      "sin_cross_attention_kwargs id: 140166285041216\n",
      "feature:44_k3_32_single_V,shape:480\n",
      "sin_cross_attention_kwargs id: 140166285041216\n",
      "feature:44_k3_33_single_V,shape:480\n",
      "sin_cross_attention_kwargs id: 140166285041216\n",
      "feature:44_k3_34_single_V,shape:480\n",
      "sin_cross_attention_kwargs id: 140166285041216\n",
      "feature:44_k3_35_single_V,shape:480\n",
      "sin_cross_attention_kwargs id: 140166285041216\n",
      "feature:44_k3_36_single_V,shape:480\n",
      "sin_cross_attention_kwargs id: 140166285041216\n",
      "feature:44_k3_37_single_V,shape:480\n",
      "sin_cross_attention_kwargs id: 140166285041216\n"
     ]
    },
    {
     "name": "stderr",
     "output_type": "stream",
     "text": [
      "  4%|▍         | 2/45 [00:22<07:59, 11.16s/it]"
     ]
    },
    {
     "name": "stdout",
     "output_type": "stream",
     "text": [
      "feature:44_k3_38_single_V,shape:480\n",
      "sin_cross_attention_kwargs id: 140166285041216\n",
      "feature:44_k3_39_single_V,shape:480\n",
      "sin_cross_attention_kwargs id: 140166285041216\n",
      "Step 2: t_curr = 993.3992919921875, t_prev = 989.8989868164062\n",
      "feature:43_k1_20_single_V,shape:480\n",
      "sin_cross_attention_kwargs id: 140166285041216\n",
      "feature:43_k1_21_single_V,shape:480\n",
      "sin_cross_attention_kwargs id: 140166285041216\n",
      "feature:43_k1_22_single_V,shape:480\n",
      "sin_cross_attention_kwargs id: 140166285041216\n",
      "feature:43_k1_23_single_V,shape:480\n",
      "sin_cross_attention_kwargs id: 140166285041216\n",
      "feature:43_k1_24_single_V,shape:480\n",
      "sin_cross_attention_kwargs id: 140166285041216\n",
      "feature:43_k1_25_single_V,shape:480\n",
      "sin_cross_attention_kwargs id: 140166285041216\n",
      "feature:43_k1_26_single_V,shape:480\n",
      "sin_cross_attention_kwargs id: 140166285041216\n",
      "feature:43_k1_27_single_V,shape:480\n",
      "sin_cross_attention_kwargs id: 140166285041216\n",
      "feature:43_k1_28_single_V,shape:480\n",
      "sin_cross_attention_kwargs id: 140166285041216\n",
      "feature:43_k1_29_single_V,shape:480\n",
      "sin_cross_attention_kwargs id: 140166285041216\n",
      "feature:43_k1_30_single_V,shape:480\n",
      "sin_cross_attention_kwargs id: 140166285041216\n",
      "feature:43_k1_31_single_V,shape:480\n",
      "sin_cross_attention_kwargs id: 140166285041216\n",
      "feature:43_k1_32_single_V,shape:480\n",
      "sin_cross_attention_kwargs id: 140166285041216\n",
      "feature:43_k1_33_single_V,shape:480\n",
      "sin_cross_attention_kwargs id: 140166285041216\n",
      "feature:43_k1_34_single_V,shape:480\n",
      "sin_cross_attention_kwargs id: 140166285041216\n",
      "feature:43_k1_35_single_V,shape:480\n",
      "sin_cross_attention_kwargs id: 140166285041216\n",
      "feature:43_k1_36_single_V,shape:480\n",
      "sin_cross_attention_kwargs id: 140166285041216\n",
      "feature:43_k1_37_single_V,shape:480\n",
      "sin_cross_attention_kwargs id: 140166285041216\n",
      "feature:43_k1_38_single_V,shape:480\n",
      "sin_cross_attention_kwargs id: 140166285041216\n",
      "feature:43_k1_39_single_V,shape:480\n",
      "sin_cross_attention_kwargs id: 140166285041216\n",
      "feature:43_k2_20_single_V,shape:480\n",
      "sin_cross_attention_kwargs id: 140166285041216\n",
      "feature:43_k2_21_single_V,shape:480\n",
      "sin_cross_attention_kwargs id: 140166285041216\n",
      "feature:43_k2_22_single_V,shape:480\n",
      "sin_cross_attention_kwargs id: 140166285041216\n",
      "feature:43_k2_23_single_V,shape:480\n",
      "sin_cross_attention_kwargs id: 140166285041216\n",
      "feature:43_k2_24_single_V,shape:480\n",
      "sin_cross_attention_kwargs id: 140166285041216\n",
      "feature:43_k2_25_single_V,shape:480\n",
      "sin_cross_attention_kwargs id: 140166285041216\n",
      "feature:43_k2_26_single_V,shape:480\n",
      "sin_cross_attention_kwargs id: 140166285041216\n",
      "feature:43_k2_27_single_V,shape:480\n",
      "sin_cross_attention_kwargs id: 140166285041216\n",
      "feature:43_k2_28_single_V,shape:480\n",
      "sin_cross_attention_kwargs id: 140166285041216\n",
      "feature:43_k2_29_single_V,shape:480\n",
      "sin_cross_attention_kwargs id: 140166285041216\n",
      "feature:43_k2_30_single_V,shape:480\n",
      "sin_cross_attention_kwargs id: 140166285041216\n",
      "feature:43_k2_31_single_V,shape:480\n",
      "sin_cross_attention_kwargs id: 140166285041216\n",
      "feature:43_k2_32_single_V,shape:480\n",
      "sin_cross_attention_kwargs id: 140166285041216\n",
      "feature:43_k2_33_single_V,shape:480\n",
      "sin_cross_attention_kwargs id: 140166285041216\n",
      "feature:43_k2_34_single_V,shape:480\n",
      "sin_cross_attention_kwargs id: 140166285041216\n",
      "feature:43_k2_35_single_V,shape:480\n",
      "sin_cross_attention_kwargs id: 140166285041216\n",
      "feature:43_k2_36_single_V,shape:480\n",
      "sin_cross_attention_kwargs id: 140166285041216\n",
      "feature:43_k2_37_single_V,shape:480\n",
      "sin_cross_attention_kwargs id: 140166285041216\n",
      "feature:43_k2_38_single_V,shape:480\n",
      "sin_cross_attention_kwargs id: 140166285041216\n",
      "feature:43_k2_39_single_V,shape:480\n",
      "sin_cross_attention_kwargs id: 140166285041216\n",
      "feature:43_k3_20_single_V,shape:480\n",
      "sin_cross_attention_kwargs id: 140166285041216\n",
      "feature:43_k3_21_single_V,shape:480\n",
      "sin_cross_attention_kwargs id: 140166285041216\n",
      "feature:43_k3_22_single_V,shape:480\n",
      "sin_cross_attention_kwargs id: 140166285041216\n",
      "feature:43_k3_23_single_V,shape:480\n",
      "sin_cross_attention_kwargs id: 140166285041216\n",
      "feature:43_k3_24_single_V,shape:480\n",
      "sin_cross_attention_kwargs id: 140166285041216\n",
      "feature:43_k3_25_single_V,shape:480\n",
      "sin_cross_attention_kwargs id: 140166285041216\n",
      "feature:43_k3_26_single_V,shape:480\n",
      "sin_cross_attention_kwargs id: 140166285041216\n",
      "feature:43_k3_27_single_V,shape:480\n",
      "sin_cross_attention_kwargs id: 140166285041216\n",
      "feature:43_k3_28_single_V,shape:480\n",
      "sin_cross_attention_kwargs id: 140166285041216\n",
      "feature:43_k3_29_single_V,shape:480\n",
      "sin_cross_attention_kwargs id: 140166285041216\n",
      "feature:43_k3_30_single_V,shape:480\n",
      "sin_cross_attention_kwargs id: 140166285041216\n",
      "feature:43_k3_31_single_V,shape:480\n",
      "sin_cross_attention_kwargs id: 140166285041216\n",
      "feature:43_k3_32_single_V,shape:480\n",
      "sin_cross_attention_kwargs id: 140166285041216\n",
      "feature:43_k3_33_single_V,shape:480\n",
      "sin_cross_attention_kwargs id: 140166285041216\n",
      "feature:43_k3_34_single_V,shape:480\n",
      "sin_cross_attention_kwargs id: 140166285041216\n",
      "feature:43_k3_35_single_V,shape:480\n",
      "sin_cross_attention_kwargs id: 140166285041216\n",
      "feature:43_k3_36_single_V,shape:480\n",
      "sin_cross_attention_kwargs id: 140166285041216\n",
      "feature:43_k3_37_single_V,shape:480\n",
      "sin_cross_attention_kwargs id: 140166285041216\n"
     ]
    },
    {
     "name": "stderr",
     "output_type": "stream",
     "text": [
      "  7%|▋         | 3/45 [00:33<07:54, 11.29s/it]"
     ]
    },
    {
     "name": "stdout",
     "output_type": "stream",
     "text": [
      "feature:43_k3_38_single_V,shape:480\n",
      "sin_cross_attention_kwargs id: 140166285041216\n",
      "feature:43_k3_39_single_V,shape:480\n",
      "sin_cross_attention_kwargs id: 140166285041216\n",
      "Step 3: t_curr = 989.8989868164062, t_prev = 986.2543334960938\n",
      "feature:42_k1_20_single_V,shape:480\n",
      "sin_cross_attention_kwargs id: 140166285041216\n",
      "feature:42_k1_21_single_V,shape:480\n",
      "sin_cross_attention_kwargs id: 140166285041216\n",
      "feature:42_k1_22_single_V,shape:480\n",
      "sin_cross_attention_kwargs id: 140166285041216\n",
      "feature:42_k1_23_single_V,shape:480\n",
      "sin_cross_attention_kwargs id: 140166285041216\n",
      "feature:42_k1_24_single_V,shape:480\n",
      "sin_cross_attention_kwargs id: 140166285041216\n",
      "feature:42_k1_25_single_V,shape:480\n",
      "sin_cross_attention_kwargs id: 140166285041216\n",
      "feature:42_k1_26_single_V,shape:480\n",
      "sin_cross_attention_kwargs id: 140166285041216\n",
      "feature:42_k1_27_single_V,shape:480\n",
      "sin_cross_attention_kwargs id: 140166285041216\n",
      "feature:42_k1_28_single_V,shape:480\n",
      "sin_cross_attention_kwargs id: 140166285041216\n",
      "feature:42_k1_29_single_V,shape:480\n",
      "sin_cross_attention_kwargs id: 140166285041216\n",
      "feature:42_k1_30_single_V,shape:480\n",
      "sin_cross_attention_kwargs id: 140166285041216\n",
      "feature:42_k1_31_single_V,shape:480\n",
      "sin_cross_attention_kwargs id: 140166285041216\n",
      "feature:42_k1_32_single_V,shape:480\n",
      "sin_cross_attention_kwargs id: 140166285041216\n",
      "feature:42_k1_33_single_V,shape:480\n",
      "sin_cross_attention_kwargs id: 140166285041216\n",
      "feature:42_k1_34_single_V,shape:480\n",
      "sin_cross_attention_kwargs id: 140166285041216\n",
      "feature:42_k1_35_single_V,shape:480\n",
      "sin_cross_attention_kwargs id: 140166285041216\n",
      "feature:42_k1_36_single_V,shape:480\n",
      "sin_cross_attention_kwargs id: 140166285041216\n",
      "feature:42_k1_37_single_V,shape:480\n",
      "sin_cross_attention_kwargs id: 140166285041216\n",
      "feature:42_k1_38_single_V,shape:480\n",
      "sin_cross_attention_kwargs id: 140166285041216\n",
      "feature:42_k1_39_single_V,shape:480\n",
      "sin_cross_attention_kwargs id: 140166285041216\n",
      "feature:42_k2_20_single_V,shape:480\n",
      "sin_cross_attention_kwargs id: 140166285041216\n",
      "feature:42_k2_21_single_V,shape:480\n",
      "sin_cross_attention_kwargs id: 140166285041216\n",
      "feature:42_k2_22_single_V,shape:480\n",
      "sin_cross_attention_kwargs id: 140166285041216\n",
      "feature:42_k2_23_single_V,shape:480\n",
      "sin_cross_attention_kwargs id: 140166285041216\n",
      "feature:42_k2_24_single_V,shape:480\n",
      "sin_cross_attention_kwargs id: 140166285041216\n",
      "feature:42_k2_25_single_V,shape:480\n",
      "sin_cross_attention_kwargs id: 140166285041216\n",
      "feature:42_k2_26_single_V,shape:480\n",
      "sin_cross_attention_kwargs id: 140166285041216\n",
      "feature:42_k2_27_single_V,shape:480\n",
      "sin_cross_attention_kwargs id: 140166285041216\n",
      "feature:42_k2_28_single_V,shape:480\n",
      "sin_cross_attention_kwargs id: 140166285041216\n",
      "feature:42_k2_29_single_V,shape:480\n",
      "sin_cross_attention_kwargs id: 140166285041216\n",
      "feature:42_k2_30_single_V,shape:480\n",
      "sin_cross_attention_kwargs id: 140166285041216\n",
      "feature:42_k2_31_single_V,shape:480\n",
      "sin_cross_attention_kwargs id: 140166285041216\n",
      "feature:42_k2_32_single_V,shape:480\n",
      "sin_cross_attention_kwargs id: 140166285041216\n",
      "feature:42_k2_33_single_V,shape:480\n",
      "sin_cross_attention_kwargs id: 140166285041216\n",
      "feature:42_k2_34_single_V,shape:480\n",
      "sin_cross_attention_kwargs id: 140166285041216\n",
      "feature:42_k2_35_single_V,shape:480\n",
      "sin_cross_attention_kwargs id: 140166285041216\n",
      "feature:42_k2_36_single_V,shape:480\n",
      "sin_cross_attention_kwargs id: 140166285041216\n",
      "feature:42_k2_37_single_V,shape:480\n",
      "sin_cross_attention_kwargs id: 140166285041216\n",
      "feature:42_k2_38_single_V,shape:480\n",
      "sin_cross_attention_kwargs id: 140166285041216\n",
      "feature:42_k2_39_single_V,shape:480\n",
      "sin_cross_attention_kwargs id: 140166285041216\n",
      "feature:42_k3_20_single_V,shape:480\n",
      "sin_cross_attention_kwargs id: 140166285041216\n",
      "feature:42_k3_21_single_V,shape:480\n",
      "sin_cross_attention_kwargs id: 140166285041216\n",
      "feature:42_k3_22_single_V,shape:480\n",
      "sin_cross_attention_kwargs id: 140166285041216\n",
      "feature:42_k3_23_single_V,shape:480\n",
      "sin_cross_attention_kwargs id: 140166285041216\n",
      "feature:42_k3_24_single_V,shape:480\n",
      "sin_cross_attention_kwargs id: 140166285041216\n",
      "feature:42_k3_25_single_V,shape:480\n",
      "sin_cross_attention_kwargs id: 140166285041216\n",
      "feature:42_k3_26_single_V,shape:480\n",
      "sin_cross_attention_kwargs id: 140166285041216\n",
      "feature:42_k3_27_single_V,shape:480\n",
      "sin_cross_attention_kwargs id: 140166285041216\n",
      "feature:42_k3_28_single_V,shape:480\n",
      "sin_cross_attention_kwargs id: 140166285041216\n",
      "feature:42_k3_29_single_V,shape:480\n",
      "sin_cross_attention_kwargs id: 140166285041216\n",
      "feature:42_k3_30_single_V,shape:480\n",
      "sin_cross_attention_kwargs id: 140166285041216\n",
      "feature:42_k3_31_single_V,shape:480\n",
      "sin_cross_attention_kwargs id: 140166285041216\n",
      "feature:42_k3_32_single_V,shape:480\n",
      "sin_cross_attention_kwargs id: 140166285041216\n",
      "feature:42_k3_33_single_V,shape:480\n",
      "sin_cross_attention_kwargs id: 140166285041216\n",
      "feature:42_k3_34_single_V,shape:480\n",
      "sin_cross_attention_kwargs id: 140166285041216\n",
      "feature:42_k3_35_single_V,shape:480\n",
      "sin_cross_attention_kwargs id: 140166285041216\n",
      "feature:42_k3_36_single_V,shape:480\n",
      "sin_cross_attention_kwargs id: 140166285041216\n",
      "feature:42_k3_37_single_V,shape:480\n",
      "sin_cross_attention_kwargs id: 140166285041216\n"
     ]
    },
    {
     "name": "stderr",
     "output_type": "stream",
     "text": [
      "  9%|▉         | 4/45 [00:45<07:47, 11.41s/it]"
     ]
    },
    {
     "name": "stdout",
     "output_type": "stream",
     "text": [
      "feature:42_k3_38_single_V,shape:480\n",
      "sin_cross_attention_kwargs id: 140166285041216\n",
      "feature:42_k3_39_single_V,shape:480\n",
      "sin_cross_attention_kwargs id: 140166285041216\n",
      "Step 4: t_curr = 986.2543334960938, t_prev = 982.4561767578125\n",
      "feature:41_k1_20_single_V,shape:480\n",
      "sin_cross_attention_kwargs id: 140166285041216\n",
      "feature:41_k1_21_single_V,shape:480\n",
      "sin_cross_attention_kwargs id: 140166285041216\n",
      "feature:41_k1_22_single_V,shape:480\n",
      "sin_cross_attention_kwargs id: 140166285041216\n",
      "feature:41_k1_23_single_V,shape:480\n",
      "sin_cross_attention_kwargs id: 140166285041216\n",
      "feature:41_k1_24_single_V,shape:480\n",
      "sin_cross_attention_kwargs id: 140166285041216\n",
      "feature:41_k1_25_single_V,shape:480\n",
      "sin_cross_attention_kwargs id: 140166285041216\n",
      "feature:41_k1_26_single_V,shape:480\n",
      "sin_cross_attention_kwargs id: 140166285041216\n",
      "feature:41_k1_27_single_V,shape:480\n",
      "sin_cross_attention_kwargs id: 140166285041216\n",
      "feature:41_k1_28_single_V,shape:480\n",
      "sin_cross_attention_kwargs id: 140166285041216\n",
      "feature:41_k1_29_single_V,shape:480\n",
      "sin_cross_attention_kwargs id: 140166285041216\n",
      "feature:41_k1_30_single_V,shape:480\n",
      "sin_cross_attention_kwargs id: 140166285041216\n",
      "feature:41_k1_31_single_V,shape:480\n",
      "sin_cross_attention_kwargs id: 140166285041216\n",
      "feature:41_k1_32_single_V,shape:480\n",
      "sin_cross_attention_kwargs id: 140166285041216\n",
      "feature:41_k1_33_single_V,shape:480\n",
      "sin_cross_attention_kwargs id: 140166285041216\n",
      "feature:41_k1_34_single_V,shape:480\n",
      "sin_cross_attention_kwargs id: 140166285041216\n",
      "feature:41_k1_35_single_V,shape:480\n",
      "sin_cross_attention_kwargs id: 140166285041216\n",
      "feature:41_k1_36_single_V,shape:480\n",
      "sin_cross_attention_kwargs id: 140166285041216\n",
      "feature:41_k1_37_single_V,shape:480\n",
      "sin_cross_attention_kwargs id: 140166285041216\n",
      "feature:41_k1_38_single_V,shape:480\n",
      "sin_cross_attention_kwargs id: 140166285041216\n",
      "feature:41_k1_39_single_V,shape:480\n",
      "sin_cross_attention_kwargs id: 140166285041216\n",
      "feature:41_k2_20_single_V,shape:480\n",
      "sin_cross_attention_kwargs id: 140166285041216\n",
      "feature:41_k2_21_single_V,shape:480\n",
      "sin_cross_attention_kwargs id: 140166285041216\n",
      "feature:41_k2_22_single_V,shape:480\n",
      "sin_cross_attention_kwargs id: 140166285041216\n",
      "feature:41_k2_23_single_V,shape:480\n",
      "sin_cross_attention_kwargs id: 140166285041216\n",
      "feature:41_k2_24_single_V,shape:480\n",
      "sin_cross_attention_kwargs id: 140166285041216\n",
      "feature:41_k2_25_single_V,shape:480\n",
      "sin_cross_attention_kwargs id: 140166285041216\n",
      "feature:41_k2_26_single_V,shape:480\n",
      "sin_cross_attention_kwargs id: 140166285041216\n",
      "feature:41_k2_27_single_V,shape:480\n",
      "sin_cross_attention_kwargs id: 140166285041216\n",
      "feature:41_k2_28_single_V,shape:480\n",
      "sin_cross_attention_kwargs id: 140166285041216\n",
      "feature:41_k2_29_single_V,shape:480\n",
      "sin_cross_attention_kwargs id: 140166285041216\n",
      "feature:41_k2_30_single_V,shape:480\n",
      "sin_cross_attention_kwargs id: 140166285041216\n",
      "feature:41_k2_31_single_V,shape:480\n",
      "sin_cross_attention_kwargs id: 140166285041216\n",
      "feature:41_k2_32_single_V,shape:480\n",
      "sin_cross_attention_kwargs id: 140166285041216\n",
      "feature:41_k2_33_single_V,shape:480\n",
      "sin_cross_attention_kwargs id: 140166285041216\n",
      "feature:41_k2_34_single_V,shape:480\n",
      "sin_cross_attention_kwargs id: 140166285041216\n",
      "feature:41_k2_35_single_V,shape:480\n",
      "sin_cross_attention_kwargs id: 140166285041216\n",
      "feature:41_k2_36_single_V,shape:480\n",
      "sin_cross_attention_kwargs id: 140166285041216\n",
      "feature:41_k2_37_single_V,shape:480\n",
      "sin_cross_attention_kwargs id: 140166285041216\n",
      "feature:41_k2_38_single_V,shape:480\n",
      "sin_cross_attention_kwargs id: 140166285041216\n",
      "feature:41_k2_39_single_V,shape:480\n",
      "sin_cross_attention_kwargs id: 140166285041216\n",
      "feature:41_k3_20_single_V,shape:480\n",
      "sin_cross_attention_kwargs id: 140166285041216\n",
      "feature:41_k3_21_single_V,shape:480\n",
      "sin_cross_attention_kwargs id: 140166285041216\n",
      "feature:41_k3_22_single_V,shape:480\n",
      "sin_cross_attention_kwargs id: 140166285041216\n",
      "feature:41_k3_23_single_V,shape:480\n",
      "sin_cross_attention_kwargs id: 140166285041216\n",
      "feature:41_k3_24_single_V,shape:480\n",
      "sin_cross_attention_kwargs id: 140166285041216\n",
      "feature:41_k3_25_single_V,shape:480\n",
      "sin_cross_attention_kwargs id: 140166285041216\n",
      "feature:41_k3_26_single_V,shape:480\n",
      "sin_cross_attention_kwargs id: 140166285041216\n",
      "feature:41_k3_27_single_V,shape:480\n",
      "sin_cross_attention_kwargs id: 140166285041216\n",
      "feature:41_k3_28_single_V,shape:480\n",
      "sin_cross_attention_kwargs id: 140166285041216\n",
      "feature:41_k3_29_single_V,shape:480\n",
      "sin_cross_attention_kwargs id: 140166285041216\n",
      "feature:41_k3_30_single_V,shape:480\n",
      "sin_cross_attention_kwargs id: 140166285041216\n",
      "feature:41_k3_31_single_V,shape:480\n",
      "sin_cross_attention_kwargs id: 140166285041216\n",
      "feature:41_k3_32_single_V,shape:480\n",
      "sin_cross_attention_kwargs id: 140166285041216\n",
      "feature:41_k3_33_single_V,shape:480\n",
      "sin_cross_attention_kwargs id: 140166285041216\n",
      "feature:41_k3_34_single_V,shape:480\n",
      "sin_cross_attention_kwargs id: 140166285041216\n",
      "feature:41_k3_35_single_V,shape:480\n",
      "sin_cross_attention_kwargs id: 140166285041216\n",
      "feature:41_k3_36_single_V,shape:480\n",
      "sin_cross_attention_kwargs id: 140166285041216\n",
      "feature:41_k3_37_single_V,shape:480\n",
      "sin_cross_attention_kwargs id: 140166285041216\n"
     ]
    },
    {
     "name": "stderr",
     "output_type": "stream",
     "text": [
      " 11%|█         | 5/45 [00:56<07:36, 11.42s/it]"
     ]
    },
    {
     "name": "stdout",
     "output_type": "stream",
     "text": [
      "feature:41_k3_38_single_V,shape:480\n",
      "sin_cross_attention_kwargs id: 140166285041216\n",
      "feature:41_k3_39_single_V,shape:480\n",
      "sin_cross_attention_kwargs id: 140166285041216\n",
      "Step 5: t_curr = 982.4561767578125, t_prev = 978.49462890625\n",
      "feature:40_k1_20_single_V,shape:480\n",
      "sin_cross_attention_kwargs id: 140166285041216\n",
      "feature:40_k1_21_single_V,shape:480\n",
      "sin_cross_attention_kwargs id: 140166285041216\n",
      "feature:40_k1_22_single_V,shape:480\n",
      "sin_cross_attention_kwargs id: 140166285041216\n",
      "feature:40_k1_23_single_V,shape:480\n",
      "sin_cross_attention_kwargs id: 140166285041216\n",
      "feature:40_k1_24_single_V,shape:480\n",
      "sin_cross_attention_kwargs id: 140166285041216\n",
      "feature:40_k1_25_single_V,shape:480\n",
      "sin_cross_attention_kwargs id: 140166285041216\n",
      "feature:40_k1_26_single_V,shape:480\n",
      "sin_cross_attention_kwargs id: 140166285041216\n",
      "feature:40_k1_27_single_V,shape:480\n",
      "sin_cross_attention_kwargs id: 140166285041216\n",
      "feature:40_k1_28_single_V,shape:480\n",
      "sin_cross_attention_kwargs id: 140166285041216\n",
      "feature:40_k1_29_single_V,shape:480\n",
      "sin_cross_attention_kwargs id: 140166285041216\n",
      "feature:40_k1_30_single_V,shape:480\n",
      "sin_cross_attention_kwargs id: 140166285041216\n",
      "feature:40_k1_31_single_V,shape:480\n",
      "sin_cross_attention_kwargs id: 140166285041216\n",
      "feature:40_k1_32_single_V,shape:480\n",
      "sin_cross_attention_kwargs id: 140166285041216\n",
      "feature:40_k1_33_single_V,shape:480\n",
      "sin_cross_attention_kwargs id: 140166285041216\n",
      "feature:40_k1_34_single_V,shape:480\n",
      "sin_cross_attention_kwargs id: 140166285041216\n",
      "feature:40_k1_35_single_V,shape:480\n",
      "sin_cross_attention_kwargs id: 140166285041216\n",
      "feature:40_k1_36_single_V,shape:480\n",
      "sin_cross_attention_kwargs id: 140166285041216\n",
      "feature:40_k1_37_single_V,shape:480\n",
      "sin_cross_attention_kwargs id: 140166285041216\n",
      "feature:40_k1_38_single_V,shape:480\n",
      "sin_cross_attention_kwargs id: 140166285041216\n",
      "feature:40_k1_39_single_V,shape:480\n",
      "sin_cross_attention_kwargs id: 140166285041216\n",
      "feature:40_k2_20_single_V,shape:480\n",
      "sin_cross_attention_kwargs id: 140166285041216\n",
      "feature:40_k2_21_single_V,shape:480\n",
      "sin_cross_attention_kwargs id: 140166285041216\n",
      "feature:40_k2_22_single_V,shape:480\n",
      "sin_cross_attention_kwargs id: 140166285041216\n",
      "feature:40_k2_23_single_V,shape:480\n",
      "sin_cross_attention_kwargs id: 140166285041216\n",
      "feature:40_k2_24_single_V,shape:480\n",
      "sin_cross_attention_kwargs id: 140166285041216\n",
      "feature:40_k2_25_single_V,shape:480\n",
      "sin_cross_attention_kwargs id: 140166285041216\n",
      "feature:40_k2_26_single_V,shape:480\n",
      "sin_cross_attention_kwargs id: 140166285041216\n",
      "feature:40_k2_27_single_V,shape:480\n",
      "sin_cross_attention_kwargs id: 140166285041216\n",
      "feature:40_k2_28_single_V,shape:480\n",
      "sin_cross_attention_kwargs id: 140166285041216\n",
      "feature:40_k2_29_single_V,shape:480\n",
      "sin_cross_attention_kwargs id: 140166285041216\n",
      "feature:40_k2_30_single_V,shape:480\n",
      "sin_cross_attention_kwargs id: 140166285041216\n",
      "feature:40_k2_31_single_V,shape:480\n",
      "sin_cross_attention_kwargs id: 140166285041216\n",
      "feature:40_k2_32_single_V,shape:480\n",
      "sin_cross_attention_kwargs id: 140166285041216\n",
      "feature:40_k2_33_single_V,shape:480\n",
      "sin_cross_attention_kwargs id: 140166285041216\n",
      "feature:40_k2_34_single_V,shape:480\n",
      "sin_cross_attention_kwargs id: 140166285041216\n",
      "feature:40_k2_35_single_V,shape:480\n",
      "sin_cross_attention_kwargs id: 140166285041216\n",
      "feature:40_k2_36_single_V,shape:480\n",
      "sin_cross_attention_kwargs id: 140166285041216\n",
      "feature:40_k2_37_single_V,shape:480\n",
      "sin_cross_attention_kwargs id: 140166285041216\n",
      "feature:40_k2_38_single_V,shape:480\n",
      "sin_cross_attention_kwargs id: 140166285041216\n",
      "feature:40_k2_39_single_V,shape:480\n",
      "sin_cross_attention_kwargs id: 140166285041216\n",
      "feature:40_k3_20_single_V,shape:480\n",
      "sin_cross_attention_kwargs id: 140166285041216\n",
      "feature:40_k3_21_single_V,shape:480\n",
      "sin_cross_attention_kwargs id: 140166285041216\n",
      "feature:40_k3_22_single_V,shape:480\n",
      "sin_cross_attention_kwargs id: 140166285041216\n",
      "feature:40_k3_23_single_V,shape:480\n",
      "sin_cross_attention_kwargs id: 140166285041216\n",
      "feature:40_k3_24_single_V,shape:480\n",
      "sin_cross_attention_kwargs id: 140166285041216\n",
      "feature:40_k3_25_single_V,shape:480\n",
      "sin_cross_attention_kwargs id: 140166285041216\n",
      "feature:40_k3_26_single_V,shape:480\n",
      "sin_cross_attention_kwargs id: 140166285041216\n",
      "feature:40_k3_27_single_V,shape:480\n",
      "sin_cross_attention_kwargs id: 140166285041216\n",
      "feature:40_k3_28_single_V,shape:480\n",
      "sin_cross_attention_kwargs id: 140166285041216\n",
      "feature:40_k3_29_single_V,shape:480\n",
      "sin_cross_attention_kwargs id: 140166285041216\n",
      "feature:40_k3_30_single_V,shape:480\n",
      "sin_cross_attention_kwargs id: 140166285041216\n",
      "feature:40_k3_31_single_V,shape:480\n",
      "sin_cross_attention_kwargs id: 140166285041216\n",
      "feature:40_k3_32_single_V,shape:480\n",
      "sin_cross_attention_kwargs id: 140166285041216\n",
      "feature:40_k3_33_single_V,shape:480\n",
      "sin_cross_attention_kwargs id: 140166285041216\n",
      "feature:40_k3_34_single_V,shape:480\n",
      "sin_cross_attention_kwargs id: 140166285041216\n",
      "feature:40_k3_35_single_V,shape:480\n",
      "sin_cross_attention_kwargs id: 140166285041216\n",
      "feature:40_k3_36_single_V,shape:480\n",
      "sin_cross_attention_kwargs id: 140166285041216\n",
      "feature:40_k3_37_single_V,shape:480\n",
      "sin_cross_attention_kwargs id: 140166285041216\n"
     ]
    },
    {
     "name": "stderr",
     "output_type": "stream",
     "text": [
      " 13%|█▎        | 6/45 [01:08<07:26, 11.45s/it]"
     ]
    },
    {
     "name": "stdout",
     "output_type": "stream",
     "text": [
      "feature:40_k3_38_single_V,shape:480\n",
      "sin_cross_attention_kwargs id: 140166285041216\n",
      "feature:40_k3_39_single_V,shape:480\n",
      "sin_cross_attention_kwargs id: 140166285041216\n",
      "Step 6: t_curr = 978.49462890625, t_prev = 974.3590087890625\n",
      "feature:39_k1_20_single_V,shape:480\n",
      "sin_cross_attention_kwargs id: 140166285041216\n",
      "feature:39_k1_21_single_V,shape:480\n",
      "sin_cross_attention_kwargs id: 140166285041216\n",
      "feature:39_k1_22_single_V,shape:480\n",
      "sin_cross_attention_kwargs id: 140166285041216\n",
      "feature:39_k1_23_single_V,shape:480\n",
      "sin_cross_attention_kwargs id: 140166285041216\n",
      "feature:39_k1_24_single_V,shape:480\n",
      "sin_cross_attention_kwargs id: 140166285041216\n",
      "feature:39_k1_25_single_V,shape:480\n",
      "sin_cross_attention_kwargs id: 140166285041216\n",
      "feature:39_k1_26_single_V,shape:480\n",
      "sin_cross_attention_kwargs id: 140166285041216\n",
      "feature:39_k1_27_single_V,shape:480\n",
      "sin_cross_attention_kwargs id: 140166285041216\n",
      "feature:39_k1_28_single_V,shape:480\n",
      "sin_cross_attention_kwargs id: 140166285041216\n",
      "feature:39_k1_29_single_V,shape:480\n",
      "sin_cross_attention_kwargs id: 140166285041216\n",
      "feature:39_k1_30_single_V,shape:480\n",
      "sin_cross_attention_kwargs id: 140166285041216\n",
      "feature:39_k1_31_single_V,shape:480\n",
      "sin_cross_attention_kwargs id: 140166285041216\n",
      "feature:39_k1_32_single_V,shape:480\n",
      "sin_cross_attention_kwargs id: 140166285041216\n",
      "feature:39_k1_33_single_V,shape:480\n",
      "sin_cross_attention_kwargs id: 140166285041216\n",
      "feature:39_k1_34_single_V,shape:480\n",
      "sin_cross_attention_kwargs id: 140166285041216\n",
      "feature:39_k1_35_single_V,shape:480\n",
      "sin_cross_attention_kwargs id: 140166285041216\n",
      "feature:39_k1_36_single_V,shape:480\n",
      "sin_cross_attention_kwargs id: 140166285041216\n",
      "feature:39_k1_37_single_V,shape:480\n",
      "sin_cross_attention_kwargs id: 140166285041216\n",
      "feature:39_k1_38_single_V,shape:480\n",
      "sin_cross_attention_kwargs id: 140166285041216\n",
      "feature:39_k1_39_single_V,shape:480\n",
      "sin_cross_attention_kwargs id: 140166285041216\n",
      "feature:39_k2_20_single_V,shape:480\n",
      "sin_cross_attention_kwargs id: 140166285041216\n",
      "feature:39_k2_21_single_V,shape:480\n",
      "sin_cross_attention_kwargs id: 140166285041216\n",
      "feature:39_k2_22_single_V,shape:480\n",
      "sin_cross_attention_kwargs id: 140166285041216\n",
      "feature:39_k2_23_single_V,shape:480\n",
      "sin_cross_attention_kwargs id: 140166285041216\n",
      "feature:39_k2_24_single_V,shape:480\n",
      "sin_cross_attention_kwargs id: 140166285041216\n",
      "feature:39_k2_25_single_V,shape:480\n",
      "sin_cross_attention_kwargs id: 140166285041216\n",
      "feature:39_k2_26_single_V,shape:480\n",
      "sin_cross_attention_kwargs id: 140166285041216\n",
      "feature:39_k2_27_single_V,shape:480\n",
      "sin_cross_attention_kwargs id: 140166285041216\n",
      "feature:39_k2_28_single_V,shape:480\n",
      "sin_cross_attention_kwargs id: 140166285041216\n",
      "feature:39_k2_29_single_V,shape:480\n",
      "sin_cross_attention_kwargs id: 140166285041216\n",
      "feature:39_k2_30_single_V,shape:480\n",
      "sin_cross_attention_kwargs id: 140166285041216\n",
      "feature:39_k2_31_single_V,shape:480\n",
      "sin_cross_attention_kwargs id: 140166285041216\n",
      "feature:39_k2_32_single_V,shape:480\n",
      "sin_cross_attention_kwargs id: 140166285041216\n",
      "feature:39_k2_33_single_V,shape:480\n",
      "sin_cross_attention_kwargs id: 140166285041216\n",
      "feature:39_k2_34_single_V,shape:480\n",
      "sin_cross_attention_kwargs id: 140166285041216\n",
      "feature:39_k2_35_single_V,shape:480\n",
      "sin_cross_attention_kwargs id: 140166285041216\n",
      "feature:39_k2_36_single_V,shape:480\n",
      "sin_cross_attention_kwargs id: 140166285041216\n",
      "feature:39_k2_37_single_V,shape:480\n",
      "sin_cross_attention_kwargs id: 140166285041216\n",
      "feature:39_k2_38_single_V,shape:480\n",
      "sin_cross_attention_kwargs id: 140166285041216\n",
      "feature:39_k2_39_single_V,shape:480\n",
      "sin_cross_attention_kwargs id: 140166285041216\n",
      "feature:39_k3_20_single_V,shape:480\n",
      "sin_cross_attention_kwargs id: 140166285041216\n",
      "feature:39_k3_21_single_V,shape:480\n",
      "sin_cross_attention_kwargs id: 140166285041216\n",
      "feature:39_k3_22_single_V,shape:480\n",
      "sin_cross_attention_kwargs id: 140166285041216\n",
      "feature:39_k3_23_single_V,shape:480\n",
      "sin_cross_attention_kwargs id: 140166285041216\n",
      "feature:39_k3_24_single_V,shape:480\n",
      "sin_cross_attention_kwargs id: 140166285041216\n",
      "feature:39_k3_25_single_V,shape:480\n",
      "sin_cross_attention_kwargs id: 140166285041216\n",
      "feature:39_k3_26_single_V,shape:480\n",
      "sin_cross_attention_kwargs id: 140166285041216\n",
      "feature:39_k3_27_single_V,shape:480\n",
      "sin_cross_attention_kwargs id: 140166285041216\n",
      "feature:39_k3_28_single_V,shape:480\n",
      "sin_cross_attention_kwargs id: 140166285041216\n",
      "feature:39_k3_29_single_V,shape:480\n",
      "sin_cross_attention_kwargs id: 140166285041216\n",
      "feature:39_k3_30_single_V,shape:480\n",
      "sin_cross_attention_kwargs id: 140166285041216\n",
      "feature:39_k3_31_single_V,shape:480\n",
      "sin_cross_attention_kwargs id: 140166285041216\n",
      "feature:39_k3_32_single_V,shape:480\n",
      "sin_cross_attention_kwargs id: 140166285041216\n",
      "feature:39_k3_33_single_V,shape:480\n",
      "sin_cross_attention_kwargs id: 140166285041216\n",
      "feature:39_k3_34_single_V,shape:480\n",
      "sin_cross_attention_kwargs id: 140166285041216\n",
      "feature:39_k3_35_single_V,shape:480\n",
      "sin_cross_attention_kwargs id: 140166285041216\n",
      "feature:39_k3_36_single_V,shape:480\n",
      "sin_cross_attention_kwargs id: 140166285041216\n",
      "feature:39_k3_37_single_V,shape:480\n",
      "sin_cross_attention_kwargs id: 140166285041216\n"
     ]
    },
    {
     "name": "stderr",
     "output_type": "stream",
     "text": [
      " 16%|█▌        | 7/45 [01:19<07:16, 11.48s/it]"
     ]
    },
    {
     "name": "stdout",
     "output_type": "stream",
     "text": [
      "feature:39_k3_38_single_V,shape:480\n",
      "sin_cross_attention_kwargs id: 140166285041216\n",
      "feature:39_k3_39_single_V,shape:480\n",
      "sin_cross_attention_kwargs id: 140166285041216\n",
      "Step 7: t_curr = 974.3590087890625, t_prev = 970.0374755859375\n",
      "feature:38_k1_20_single_V,shape:480\n",
      "sin_cross_attention_kwargs id: 140166285041216\n",
      "feature:38_k1_21_single_V,shape:480\n",
      "sin_cross_attention_kwargs id: 140166285041216\n",
      "feature:38_k1_22_single_V,shape:480\n",
      "sin_cross_attention_kwargs id: 140166285041216\n",
      "feature:38_k1_23_single_V,shape:480\n",
      "sin_cross_attention_kwargs id: 140166285041216\n",
      "feature:38_k1_24_single_V,shape:480\n",
      "sin_cross_attention_kwargs id: 140166285041216\n",
      "feature:38_k1_25_single_V,shape:480\n",
      "sin_cross_attention_kwargs id: 140166285041216\n",
      "feature:38_k1_26_single_V,shape:480\n",
      "sin_cross_attention_kwargs id: 140166285041216\n",
      "feature:38_k1_27_single_V,shape:480\n",
      "sin_cross_attention_kwargs id: 140166285041216\n",
      "feature:38_k1_28_single_V,shape:480\n",
      "sin_cross_attention_kwargs id: 140166285041216\n",
      "feature:38_k1_29_single_V,shape:480\n",
      "sin_cross_attention_kwargs id: 140166285041216\n",
      "feature:38_k1_30_single_V,shape:480\n",
      "sin_cross_attention_kwargs id: 140166285041216\n",
      "feature:38_k1_31_single_V,shape:480\n",
      "sin_cross_attention_kwargs id: 140166285041216\n",
      "feature:38_k1_32_single_V,shape:480\n",
      "sin_cross_attention_kwargs id: 140166285041216\n",
      "feature:38_k1_33_single_V,shape:480\n",
      "sin_cross_attention_kwargs id: 140166285041216\n",
      "feature:38_k1_34_single_V,shape:480\n",
      "sin_cross_attention_kwargs id: 140166285041216\n",
      "feature:38_k1_35_single_V,shape:480\n",
      "sin_cross_attention_kwargs id: 140166285041216\n",
      "feature:38_k1_36_single_V,shape:480\n",
      "sin_cross_attention_kwargs id: 140166285041216\n",
      "feature:38_k1_37_single_V,shape:480\n",
      "sin_cross_attention_kwargs id: 140166285041216\n",
      "feature:38_k1_38_single_V,shape:480\n",
      "sin_cross_attention_kwargs id: 140166285041216\n",
      "feature:38_k1_39_single_V,shape:480\n",
      "sin_cross_attention_kwargs id: 140166285041216\n",
      "feature:38_k2_20_single_V,shape:480\n",
      "sin_cross_attention_kwargs id: 140166285041216\n",
      "feature:38_k2_21_single_V,shape:480\n",
      "sin_cross_attention_kwargs id: 140166285041216\n",
      "feature:38_k2_22_single_V,shape:480\n",
      "sin_cross_attention_kwargs id: 140166285041216\n",
      "feature:38_k2_23_single_V,shape:480\n",
      "sin_cross_attention_kwargs id: 140166285041216\n",
      "feature:38_k2_24_single_V,shape:480\n",
      "sin_cross_attention_kwargs id: 140166285041216\n",
      "feature:38_k2_25_single_V,shape:480\n",
      "sin_cross_attention_kwargs id: 140166285041216\n",
      "feature:38_k2_26_single_V,shape:480\n",
      "sin_cross_attention_kwargs id: 140166285041216\n",
      "feature:38_k2_27_single_V,shape:480\n",
      "sin_cross_attention_kwargs id: 140166285041216\n",
      "feature:38_k2_28_single_V,shape:480\n",
      "sin_cross_attention_kwargs id: 140166285041216\n",
      "feature:38_k2_29_single_V,shape:480\n",
      "sin_cross_attention_kwargs id: 140166285041216\n",
      "feature:38_k2_30_single_V,shape:480\n",
      "sin_cross_attention_kwargs id: 140166285041216\n",
      "feature:38_k2_31_single_V,shape:480\n",
      "sin_cross_attention_kwargs id: 140166285041216\n",
      "feature:38_k2_32_single_V,shape:480\n",
      "sin_cross_attention_kwargs id: 140166285041216\n",
      "feature:38_k2_33_single_V,shape:480\n",
      "sin_cross_attention_kwargs id: 140166285041216\n",
      "feature:38_k2_34_single_V,shape:480\n",
      "sin_cross_attention_kwargs id: 140166285041216\n",
      "feature:38_k2_35_single_V,shape:480\n",
      "sin_cross_attention_kwargs id: 140166285041216\n",
      "feature:38_k2_36_single_V,shape:480\n",
      "sin_cross_attention_kwargs id: 140166285041216\n",
      "feature:38_k2_37_single_V,shape:480\n",
      "sin_cross_attention_kwargs id: 140166285041216\n",
      "feature:38_k2_38_single_V,shape:480\n",
      "sin_cross_attention_kwargs id: 140166285041216\n",
      "feature:38_k2_39_single_V,shape:480\n",
      "sin_cross_attention_kwargs id: 140166285041216\n",
      "feature:38_k3_20_single_V,shape:480\n",
      "sin_cross_attention_kwargs id: 140166285041216\n",
      "feature:38_k3_21_single_V,shape:480\n",
      "sin_cross_attention_kwargs id: 140166285041216\n",
      "feature:38_k3_22_single_V,shape:480\n",
      "sin_cross_attention_kwargs id: 140166285041216\n",
      "feature:38_k3_23_single_V,shape:480\n",
      "sin_cross_attention_kwargs id: 140166285041216\n",
      "feature:38_k3_24_single_V,shape:480\n",
      "sin_cross_attention_kwargs id: 140166285041216\n",
      "feature:38_k3_25_single_V,shape:480\n",
      "sin_cross_attention_kwargs id: 140166285041216\n",
      "feature:38_k3_26_single_V,shape:480\n",
      "sin_cross_attention_kwargs id: 140166285041216\n",
      "feature:38_k3_27_single_V,shape:480\n",
      "sin_cross_attention_kwargs id: 140166285041216\n",
      "feature:38_k3_28_single_V,shape:480\n",
      "sin_cross_attention_kwargs id: 140166285041216\n",
      "feature:38_k3_29_single_V,shape:480\n",
      "sin_cross_attention_kwargs id: 140166285041216\n",
      "feature:38_k3_30_single_V,shape:480\n",
      "sin_cross_attention_kwargs id: 140166285041216\n",
      "feature:38_k3_31_single_V,shape:480\n",
      "sin_cross_attention_kwargs id: 140166285041216\n",
      "feature:38_k3_32_single_V,shape:480\n",
      "sin_cross_attention_kwargs id: 140166285041216\n",
      "feature:38_k3_33_single_V,shape:480\n",
      "sin_cross_attention_kwargs id: 140166285041216\n",
      "feature:38_k3_34_single_V,shape:480\n",
      "sin_cross_attention_kwargs id: 140166285041216\n",
      "feature:38_k3_35_single_V,shape:480\n",
      "sin_cross_attention_kwargs id: 140166285041216\n",
      "feature:38_k3_36_single_V,shape:480\n",
      "sin_cross_attention_kwargs id: 140166285041216\n",
      "feature:38_k3_37_single_V,shape:480\n",
      "sin_cross_attention_kwargs id: 140166285041216\n"
     ]
    },
    {
     "name": "stderr",
     "output_type": "stream",
     "text": [
      " 18%|█▊        | 8/45 [01:31<07:05, 11.49s/it]"
     ]
    },
    {
     "name": "stdout",
     "output_type": "stream",
     "text": [
      "feature:38_k3_38_single_V,shape:480\n",
      "sin_cross_attention_kwargs id: 140166285041216\n",
      "feature:38_k3_39_single_V,shape:480\n",
      "sin_cross_attention_kwargs id: 140166285041216\n",
      "Step 8: t_curr = 970.0374755859375, t_prev = 965.5172119140625\n"
     ]
    },
    {
     "name": "stderr",
     "output_type": "stream",
     "text": [
      " 20%|██        | 9/45 [01:41<06:37, 11.05s/it]"
     ]
    },
    {
     "name": "stdout",
     "output_type": "stream",
     "text": [
      "Step 9: t_curr = 965.5172119140625, t_prev = 960.7843017578125\n"
     ]
    },
    {
     "name": "stderr",
     "output_type": "stream",
     "text": [
      " 22%|██▏       | 10/45 [01:51<06:16, 10.75s/it]"
     ]
    },
    {
     "name": "stdout",
     "output_type": "stream",
     "text": [
      "Step 10: t_curr = 960.7843017578125, t_prev = 955.8233032226562\n"
     ]
    },
    {
     "name": "stderr",
     "output_type": "stream",
     "text": [
      " 24%|██▍       | 11/45 [02:01<05:58, 10.55s/it]"
     ]
    },
    {
     "name": "stdout",
     "output_type": "stream",
     "text": [
      "Step 11: t_curr = 955.8233032226562, t_prev = 950.6172485351562\n"
     ]
    },
    {
     "name": "stderr",
     "output_type": "stream",
     "text": [
      " 27%|██▋       | 12/45 [02:11<05:43, 10.41s/it]"
     ]
    },
    {
     "name": "stdout",
     "output_type": "stream",
     "text": [
      "Step 12: t_curr = 950.6172485351562, t_prev = 945.147705078125\n"
     ]
    },
    {
     "name": "stderr",
     "output_type": "stream",
     "text": [
      " 29%|██▉       | 13/45 [02:21<05:30, 10.31s/it]"
     ]
    },
    {
     "name": "stdout",
     "output_type": "stream",
     "text": [
      "Step 13: t_curr = 945.147705078125, t_prev = 939.3939208984375\n"
     ]
    },
    {
     "name": "stderr",
     "output_type": "stream",
     "text": [
      " 31%|███       | 14/45 [02:31<05:17, 10.25s/it]"
     ]
    },
    {
     "name": "stdout",
     "output_type": "stream",
     "text": [
      "Step 14: t_curr = 939.3939208984375, t_prev = 933.3333740234375\n"
     ]
    },
    {
     "name": "stderr",
     "output_type": "stream",
     "text": [
      " 33%|███▎      | 15/45 [02:41<05:06, 10.20s/it]"
     ]
    },
    {
     "name": "stdout",
     "output_type": "stream",
     "text": [
      "Step 15: t_curr = 933.3333740234375, t_prev = 926.9406127929688\n"
     ]
    },
    {
     "name": "stderr",
     "output_type": "stream",
     "text": [
      " 36%|███▌      | 16/45 [02:51<04:55, 10.19s/it]"
     ]
    },
    {
     "name": "stdout",
     "output_type": "stream",
     "text": [
      "Step 16: t_curr = 926.9406127929688, t_prev = 920.1878051757812\n"
     ]
    },
    {
     "name": "stderr",
     "output_type": "stream",
     "text": [
      " 38%|███▊      | 17/45 [03:02<04:44, 10.16s/it]"
     ]
    },
    {
     "name": "stdout",
     "output_type": "stream",
     "text": [
      "Step 17: t_curr = 920.1878051757812, t_prev = 913.04345703125\n"
     ]
    },
    {
     "name": "stderr",
     "output_type": "stream",
     "text": [
      " 40%|████      | 18/45 [03:12<04:33, 10.14s/it]"
     ]
    },
    {
     "name": "stdout",
     "output_type": "stream",
     "text": [
      "Step 18: t_curr = 913.04345703125, t_prev = 905.47265625\n"
     ]
    },
    {
     "name": "stderr",
     "output_type": "stream",
     "text": [
      " 42%|████▏     | 19/45 [03:22<04:23, 10.14s/it]"
     ]
    },
    {
     "name": "stdout",
     "output_type": "stream",
     "text": [
      "Step 19: t_curr = 905.47265625, t_prev = 897.4359130859375\n"
     ]
    },
    {
     "name": "stderr",
     "output_type": "stream",
     "text": [
      " 44%|████▍     | 20/45 [03:32<04:13, 10.13s/it]"
     ]
    },
    {
     "name": "stdout",
     "output_type": "stream",
     "text": [
      "Step 20: t_curr = 897.4359130859375, t_prev = 888.888916015625\n"
     ]
    },
    {
     "name": "stderr",
     "output_type": "stream",
     "text": [
      " 47%|████▋     | 21/45 [03:42<04:02, 10.12s/it]"
     ]
    },
    {
     "name": "stdout",
     "output_type": "stream",
     "text": [
      "Step 21: t_curr = 888.888916015625, t_prev = 879.7814331054688\n"
     ]
    },
    {
     "name": "stderr",
     "output_type": "stream",
     "text": [
      " 49%|████▉     | 22/45 [03:52<03:52, 10.11s/it]"
     ]
    },
    {
     "name": "stdout",
     "output_type": "stream",
     "text": [
      "Step 22: t_curr = 879.7814331054688, t_prev = 870.0564575195312\n"
     ]
    },
    {
     "name": "stderr",
     "output_type": "stream",
     "text": [
      " 51%|█████     | 23/45 [04:02<03:42, 10.11s/it]"
     ]
    },
    {
     "name": "stdout",
     "output_type": "stream",
     "text": [
      "Step 23: t_curr = 870.0564575195312, t_prev = 859.6491088867188\n"
     ]
    },
    {
     "name": "stderr",
     "output_type": "stream",
     "text": [
      " 53%|█████▎    | 24/45 [04:12<03:32, 10.11s/it]"
     ]
    },
    {
     "name": "stdout",
     "output_type": "stream",
     "text": [
      "Step 24: t_curr = 859.6491088867188, t_prev = 848.48486328125\n"
     ]
    },
    {
     "name": "stderr",
     "output_type": "stream",
     "text": [
      " 56%|█████▌    | 25/45 [04:22<03:22, 10.10s/it]"
     ]
    },
    {
     "name": "stdout",
     "output_type": "stream",
     "text": [
      "Step 25: t_curr = 848.48486328125, t_prev = 836.47802734375\n"
     ]
    },
    {
     "name": "stderr",
     "output_type": "stream",
     "text": [
      " 58%|█████▊    | 26/45 [04:32<03:11, 10.09s/it]"
     ]
    },
    {
     "name": "stdout",
     "output_type": "stream",
     "text": [
      "Step 26: t_curr = 836.47802734375, t_prev = 823.5293579101562\n"
     ]
    },
    {
     "name": "stderr",
     "output_type": "stream",
     "text": [
      " 60%|██████    | 27/45 [04:43<03:01, 10.08s/it]"
     ]
    },
    {
     "name": "stdout",
     "output_type": "stream",
     "text": [
      "Step 27: t_curr = 823.5293579101562, t_prev = 809.5238037109375\n"
     ]
    },
    {
     "name": "stderr",
     "output_type": "stream",
     "text": [
      " 62%|██████▏   | 28/45 [04:53<02:51, 10.09s/it]"
     ]
    },
    {
     "name": "stdout",
     "output_type": "stream",
     "text": [
      "Step 28: t_curr = 809.5238037109375, t_prev = 794.3262329101562\n"
     ]
    },
    {
     "name": "stderr",
     "output_type": "stream",
     "text": [
      " 64%|██████▍   | 29/45 [05:03<02:41, 10.10s/it]"
     ]
    },
    {
     "name": "stdout",
     "output_type": "stream",
     "text": [
      "Step 29: t_curr = 794.3262329101562, t_prev = 777.77783203125\n"
     ]
    },
    {
     "name": "stderr",
     "output_type": "stream",
     "text": [
      " 67%|██████▋   | 30/45 [05:13<02:31, 10.10s/it]"
     ]
    },
    {
     "name": "stdout",
     "output_type": "stream",
     "text": [
      "Step 30: t_curr = 777.77783203125, t_prev = 759.6898803710938\n"
     ]
    },
    {
     "name": "stderr",
     "output_type": "stream",
     "text": [
      " 69%|██████▉   | 31/45 [05:23<02:21, 10.09s/it]"
     ]
    },
    {
     "name": "stdout",
     "output_type": "stream",
     "text": [
      "Step 31: t_curr = 759.6898803710938, t_prev = 739.83740234375\n"
     ]
    },
    {
     "name": "stderr",
     "output_type": "stream",
     "text": [
      " 71%|███████   | 32/45 [05:33<02:11, 10.09s/it]"
     ]
    },
    {
     "name": "stdout",
     "output_type": "stream",
     "text": [
      "Step 32: t_curr = 739.83740234375, t_prev = 717.94873046875\n"
     ]
    },
    {
     "name": "stderr",
     "output_type": "stream",
     "text": [
      " 73%|███████▎  | 33/45 [05:43<02:01, 10.08s/it]"
     ]
    },
    {
     "name": "stdout",
     "output_type": "stream",
     "text": [
      "Step 33: t_curr = 717.94873046875, t_prev = 693.6936645507812\n"
     ]
    },
    {
     "name": "stderr",
     "output_type": "stream",
     "text": [
      " 76%|███████▌  | 34/45 [05:53<01:50, 10.09s/it]"
     ]
    },
    {
     "name": "stdout",
     "output_type": "stream",
     "text": [
      "Step 34: t_curr = 693.6936645507812, t_prev = 666.6666259765625\n"
     ]
    },
    {
     "name": "stderr",
     "output_type": "stream",
     "text": [
      " 78%|███████▊  | 35/45 [06:03<01:40, 10.08s/it]"
     ]
    },
    {
     "name": "stdout",
     "output_type": "stream",
     "text": [
      "Step 35: t_curr = 666.6666259765625, t_prev = 636.3636474609375\n"
     ]
    },
    {
     "name": "stderr",
     "output_type": "stream",
     "text": [
      " 80%|████████  | 36/45 [06:13<01:30, 10.09s/it]"
     ]
    },
    {
     "name": "stdout",
     "output_type": "stream",
     "text": [
      "Step 36: t_curr = 636.3636474609375, t_prev = 602.1505737304688\n"
     ]
    },
    {
     "name": "stderr",
     "output_type": "stream",
     "text": [
      " 82%|████████▏ | 37/45 [06:23<01:20, 10.08s/it]"
     ]
    },
    {
     "name": "stdout",
     "output_type": "stream",
     "text": [
      "Step 37: t_curr = 602.1505737304688, t_prev = 563.2183837890625\n"
     ]
    },
    {
     "name": "stderr",
     "output_type": "stream",
     "text": [
      " 84%|████████▍ | 38/45 [06:33<01:10, 10.07s/it]"
     ]
    },
    {
     "name": "stdout",
     "output_type": "stream",
     "text": [
      "Step 38: t_curr = 563.2183837890625, t_prev = 518.5184936523438\n"
     ]
    },
    {
     "name": "stderr",
     "output_type": "stream",
     "text": [
      " 87%|████████▋ | 39/45 [06:44<01:00, 10.07s/it]"
     ]
    },
    {
     "name": "stdout",
     "output_type": "stream",
     "text": [
      "Step 39: t_curr = 518.5184936523438, t_prev = 466.6666259765625\n"
     ]
    },
    {
     "name": "stderr",
     "output_type": "stream",
     "text": [
      " 89%|████████▉ | 40/45 [06:54<00:50, 10.07s/it]"
     ]
    },
    {
     "name": "stdout",
     "output_type": "stream",
     "text": [
      "Step 40: t_curr = 466.6666259765625, t_prev = 405.797119140625\n"
     ]
    },
    {
     "name": "stderr",
     "output_type": "stream",
     "text": [
      " 91%|█████████ | 41/45 [07:04<00:40, 10.08s/it]"
     ]
    },
    {
     "name": "stdout",
     "output_type": "stream",
     "text": [
      "Step 41: t_curr = 405.797119140625, t_prev = 333.3333435058594\n"
     ]
    },
    {
     "name": "stderr",
     "output_type": "stream",
     "text": [
      " 93%|█████████▎| 42/45 [07:14<00:30, 10.09s/it]"
     ]
    },
    {
     "name": "stdout",
     "output_type": "stream",
     "text": [
      "Step 42: t_curr = 333.3333435058594, t_prev = 245.61404418945312\n"
     ]
    },
    {
     "name": "stderr",
     "output_type": "stream",
     "text": [
      " 96%|█████████▌| 43/45 [07:24<00:20, 10.10s/it]"
     ]
    },
    {
     "name": "stdout",
     "output_type": "stream",
     "text": [
      "Step 43: t_curr = 245.61404418945312, t_prev = 137.25491333007812\n"
     ]
    },
    {
     "name": "stderr",
     "output_type": "stream",
     "text": [
      " 98%|█████████▊| 44/45 [07:34<00:10, 10.12s/it]"
     ]
    },
    {
     "name": "stdout",
     "output_type": "stream",
     "text": [
      "Step 44: t_curr = 137.25491333007812, t_prev = 0.0\n"
     ]
    },
    {
     "name": "stderr",
     "output_type": "stream",
     "text": [
      "100%|██████████| 45/45 [07:46<00:00, 10.36s/it]\n",
      "\u001b[32m2025-02-26 18:59:12.747\u001b[0m | \u001b[1mINFO    \u001b[0m | \u001b[36mhyvideo.inference\u001b[0m:\u001b[36mpredict\u001b[0m:\u001b[36m709\u001b[0m - \u001b[1mSuccess, time: 1046.9782738685608\u001b[0m\n",
      "huggingface/tokenizers: The current process just got forked, after parallelism has already been used. Disabling parallelism to avoid deadlocks...\n",
      "To disable this warning, you can either:\n",
      "\t- Avoid using `tokenizers` before the fork if possible\n",
      "\t- Explicitly set the environment variable TOKENIZERS_PARALLELISM=(true | false)\n",
      "\u001b[32m2025-02-26 18:59:16.319\u001b[0m | \u001b[1mINFO    \u001b[0m | \u001b[36m__main__\u001b[0m:\u001b[36mmain\u001b[0m:\u001b[36m89\u001b[0m - \u001b[1mSample save to: ./results/2025-02-26-18:59:12_seed42_A black swan swimming in a pond with lush greenery in the background..mp4\u001b[0m\n"
     ]
    }
   ],
   "source": [
    "%run edit_video.py \\\n",
    "    --dit-weight \"/home/chx/mySrc/HunyuanVideo/ckpts/hunyuan-video-t2v-720p/transformers/mp_rank_00_model_states_fp8.pt\" \\\n",
    "    --video-size 512 512 \\\n",
    "    --video-length 53 \\\n",
    "    --infer-steps 45 \\\n",
    "    --prompt \"A black swan swimming in a pond with lush greenery in the background.\" \\\n",
    "    --target-prompt \"A majestic flamingo swimming in a pond with lush greenery in the background.\" \\\n",
    "    --inject 8 \\\n",
    "    --seed 42 \\\n",
    "    --embedded-cfg-scale 2 \\\n",
    "    --flow-shift 7.0 \\\n",
    "    --flow-reverse \\\n",
    "    --use-cpu-offload \\\n",
    "    --use-fp8 \\\n",
    "    --save-path ./results \\\n",
    "    --inverse-video-path \"/data/chx/BalanceCC-rename/Result/Animal/blackswan.mp4\""
   ]
  },
  {
   "cell_type": "code",
   "execution_count": 1,
   "metadata": {},
   "outputs": [
    {
     "name": "stderr",
     "output_type": "stream",
     "text": [
      "/data/chx/anaconda3/envs/HunyuanVideo-std/lib/python3.10/site-packages/tqdm/auto.py:21: TqdmWarning: IProgress not found. Please update jupyter and ipywidgets. See https://ipywidgets.readthedocs.io/en/stable/user_install.html\n",
      "  from .autonotebook import tqdm as notebook_tqdm\n",
      "\u001b[32m2025-01-14 20:33:19.204\u001b[0m | \u001b[1mINFO    \u001b[0m | \u001b[36mhyvideo.inference\u001b[0m:\u001b[36mfrom_pretrained\u001b[0m:\u001b[36m154\u001b[0m - \u001b[1mGot text-to-video model root path: ckpts\u001b[0m\n",
      "\u001b[32m2025-01-14 20:33:19.205\u001b[0m | \u001b[1mINFO    \u001b[0m | \u001b[36mhyvideo.inference\u001b[0m:\u001b[36mfrom_pretrained\u001b[0m:\u001b[36m189\u001b[0m - \u001b[1mBuilding model...\u001b[0m\n"
     ]
    },
    {
     "name": "stdout",
     "output_type": "stream",
     "text": [
      "detect you are not use the latest yunchang. Please install yunchang>=0.4.0\n",
      "Namespace(model='HYVideo-T/2-cfgdistill', latent_channels=16, precision='bf16', rope_theta=256, vae='884-16c-hy', vae_precision='fp16', vae_tiling=True, text_encoder='llm', text_encoder_precision='fp16', text_states_dim=4096, text_len=256, tokenizer='llm', prompt_template='dit-llm-encode', prompt_template_video='dit-llm-encode-video', hidden_state_skip_layer=2, apply_final_norm=False, text_encoder_2='clipL', text_encoder_precision_2='fp16', text_states_dim_2=768, tokenizer_2='clipL', text_len_2=77, denoise_type='flow', flow_shift=7.0, flow_reverse=True, flow_solver='euler', use_linear_quadratic_schedule=False, linear_schedule_end=25, model_base='ckpts', dit_weight='/home/chx/mySrc/HunyuanVideo/ckpts/hunyuan-video-t2v-720p/transformers/mp_rank_00_model_states_fp8.pt', model_resolution='540p', load_key='module', use_cpu_offload=True, batch_size=1, infer_steps=30, disable_autocast=False, save_path='./results', save_path_suffix='', name_suffix='', num_videos=1, video_size=[512, 512], video_length=25, prompt='A cat walks on the grass, realistic style.', seed_type='auto', seed=42, neg_prompt=None, cfg_scale=1.0, embedded_cfg_scale=6.0, use_fp8=True, reproduce=False, ulysses_degree=1, ring_degree=1, inverse_video_path='/home/chx/mySrc/HunyuanVideo', target_prompt=None)\n",
      "cuda\n"
     ]
    },
    {
     "name": "stderr",
     "output_type": "stream",
     "text": [
      "/home/chx/mySrc/HunyuanVideo/hyvideo/modules/fp8_optimization.py:88: FutureWarning: You are using `torch.load` with `weights_only=False` (the current default value), which uses the default pickle module implicitly. It is possible to construct malicious pickle data which will execute arbitrary code during unpickling (See https://github.com/pytorch/pytorch/blob/main/SECURITY.md#untrusted-models for more details). In a future release, the default value for `weights_only` will be flipped to `True`. This limits the functions that could be executed during unpickling. Arbitrary objects will no longer be allowed to be loaded via this mode unless they are explicitly allowlisted by the user via `torch.serialization.add_safe_globals`. We recommend you start setting `weights_only=True` for any use case where you don't have full control of the loaded file. Please open an issue on GitHub for any issues related to this experimental feature.\n",
      "  fp8_map = torch.load(fp8_map_path, map_location=lambda storage, loc: storage)\n",
      "\u001b[32m2025-01-14 20:35:44.555\u001b[0m | \u001b[1mINFO    \u001b[0m | \u001b[36mhyvideo.inference\u001b[0m:\u001b[36mload_state_dict\u001b[0m:\u001b[36m344\u001b[0m - \u001b[1mLoading torch model /home/chx/mySrc/HunyuanVideo/ckpts/hunyuan-video-t2v-720p/transformers/mp_rank_00_model_states_fp8.pt...\u001b[0m\n",
      "/home/chx/mySrc/HunyuanVideo/hyvideo/inference.py:345: FutureWarning: You are using `torch.load` with `weights_only=False` (the current default value), which uses the default pickle module implicitly. It is possible to construct malicious pickle data which will execute arbitrary code during unpickling (See https://github.com/pytorch/pytorch/blob/main/SECURITY.md#untrusted-models for more details). In a future release, the default value for `weights_only` will be flipped to `True`. This limits the functions that could be executed during unpickling. Arbitrary objects will no longer be allowed to be loaded via this mode unless they are explicitly allowlisted by the user via `torch.serialization.add_safe_globals`. We recommend you start setting `weights_only=True` for any use case where you don't have full control of the loaded file. Please open an issue on GitHub for any issues related to this experimental feature.\n",
      "  state_dict = torch.load(model_path, map_location=lambda storage, loc: storage)\n",
      "\u001b[32m2025-01-14 20:35:58.311\u001b[0m | \u001b[1mINFO    \u001b[0m | \u001b[36mhyvideo.vae\u001b[0m:\u001b[36mload_vae\u001b[0m:\u001b[36m29\u001b[0m - \u001b[1mLoading 3D VAE model (884-16c-hy) from: ./ckpts/hunyuan-video-t2v-720p/vae\u001b[0m\n"
     ]
    },
    {
     "name": "stdout",
     "output_type": "stream",
     "text": [
      "loading vae\n"
     ]
    },
    {
     "name": "stderr",
     "output_type": "stream",
     "text": [
      "/home/chx/mySrc/HunyuanVideo/hyvideo/vae/__init__.py:39: FutureWarning: You are using `torch.load` with `weights_only=False` (the current default value), which uses the default pickle module implicitly. It is possible to construct malicious pickle data which will execute arbitrary code during unpickling (See https://github.com/pytorch/pytorch/blob/main/SECURITY.md#untrusted-models for more details). In a future release, the default value for `weights_only` will be flipped to `True`. This limits the functions that could be executed during unpickling. Arbitrary objects will no longer be allowed to be loaded via this mode unless they are explicitly allowlisted by the user via `torch.serialization.add_safe_globals`. We recommend you start setting `weights_only=True` for any use case where you don't have full control of the loaded file. Please open an issue on GitHub for any issues related to this experimental feature.\n",
      "  ckpt = torch.load(vae_ckpt, map_location=vae.device)\n",
      "\u001b[32m2025-01-14 20:36:02.525\u001b[0m | \u001b[1mINFO    \u001b[0m | \u001b[36mhyvideo.vae\u001b[0m:\u001b[36mload_vae\u001b[0m:\u001b[36m55\u001b[0m - \u001b[1mVAE to dtype: torch.float16\u001b[0m\n",
      "\u001b[32m2025-01-14 20:36:02.534\u001b[0m | \u001b[1mINFO    \u001b[0m | \u001b[36mhyvideo.text_encoder\u001b[0m:\u001b[36mload_text_encoder\u001b[0m:\u001b[36m28\u001b[0m - \u001b[1mLoading text encoder model (llm) from: ./ckpts/text_encoder\u001b[0m\n",
      "Loading checkpoint shards: 100%|██████████| 4/4 [00:05<00:00,  1.36s/it]\n",
      "\u001b[32m2025-01-14 20:36:13.190\u001b[0m | \u001b[1mINFO    \u001b[0m | \u001b[36mhyvideo.text_encoder\u001b[0m:\u001b[36mload_text_encoder\u001b[0m:\u001b[36m50\u001b[0m - \u001b[1mText encoder to dtype: torch.float16\u001b[0m\n",
      "\u001b[32m2025-01-14 20:36:13.194\u001b[0m | \u001b[1mINFO    \u001b[0m | \u001b[36mhyvideo.text_encoder\u001b[0m:\u001b[36mload_tokenizer\u001b[0m:\u001b[36m64\u001b[0m - \u001b[1mLoading tokenizer (llm) from: ./ckpts/text_encoder\u001b[0m\n",
      "\u001b[32m2025-01-14 20:36:13.772\u001b[0m | \u001b[1mINFO    \u001b[0m | \u001b[36mhyvideo.text_encoder\u001b[0m:\u001b[36mload_text_encoder\u001b[0m:\u001b[36m28\u001b[0m - \u001b[1mLoading text encoder model (clipL) from: ./ckpts/text_encoder_2\u001b[0m\n",
      "\u001b[32m2025-01-14 20:36:14.716\u001b[0m | \u001b[1mINFO    \u001b[0m | \u001b[36mhyvideo.text_encoder\u001b[0m:\u001b[36mload_text_encoder\u001b[0m:\u001b[36m50\u001b[0m - \u001b[1mText encoder to dtype: torch.float16\u001b[0m\n",
      "\u001b[32m2025-01-14 20:36:14.719\u001b[0m | \u001b[1mINFO    \u001b[0m | \u001b[36mhyvideo.text_encoder\u001b[0m:\u001b[36mload_tokenizer\u001b[0m:\u001b[36m64\u001b[0m - \u001b[1mLoading tokenizer (clipL) from: ./ckpts/text_encoder_2\u001b[0m\n",
      "\u001b[32m2025-01-14 20:36:14.917\u001b[0m | \u001b[1mINFO    \u001b[0m | \u001b[36mhyvideo.inference\u001b[0m:\u001b[36mpredict\u001b[0m:\u001b[36m590\u001b[0m - \u001b[1mInput (height, width, video_length) = (512, 512, 25)\u001b[0m\n"
     ]
    },
    {
     "name": "stdout",
     "output_type": "stream",
     "text": [
      "Enable sequential CPU offload.\n"
     ]
    },
    {
     "name": "stderr",
     "output_type": "stream",
     "text": [
      "\u001b[32m2025-01-14 20:36:15.189\u001b[0m | \u001b[34m\u001b[1mDEBUG   \u001b[0m | \u001b[36mhyvideo.inference\u001b[0m:\u001b[36mpredict\u001b[0m:\u001b[36m650\u001b[0m - \u001b[34m\u001b[1m\n",
      "                        height: 512\n",
      "                         width: 512\n",
      "                  video_length: 25\n",
      "                        prompt: ['A cat walks on the grass, realistic style.']\n",
      "                    neg_prompt: ['Aerial view, aerial view, overexposed, low quality, deformation, a poor composition, bad hands, bad teeth, bad eyes, bad limbs, distortion']\n",
      "                          seed: 42\n",
      "                   infer_steps: 30\n",
      "         num_videos_per_prompt: 1\n",
      "                guidance_scale: 1.0\n",
      "                      n_tokens: 7168\n",
      "                    flow_shift: 7.0\n",
      "       embedded_guidance_scale: 6.0\u001b[0m\n"
     ]
    },
    {
     "name": "stdout",
     "output_type": "stream",
     "text": [
      "self._execution_device cuda:0\n",
      "cuda:0\n",
      "cuda:0\n",
      "Step 0: t = 1000.0\n",
      "Step 1: t = 995.0980834960938\n",
      "Step 2: t = 989.8989868164062\n",
      "Step 3: t = 984.375\n",
      "Step 4: t = 978.49462890625\n",
      "Step 5: t = 972.22216796875\n",
      "Step 6: t = 965.5172119140625\n",
      "Step 7: t = 958.3333740234375\n",
      "Step 8: t = 950.6172485351562\n",
      "Step 9: t = 942.3078002929688\n",
      "Step 10: t = 933.333251953125\n",
      "Step 11: t = 923.611083984375\n",
      "Step 12: t = 913.04345703125\n",
      "Step 13: t = 901.51513671875\n",
      "Step 14: t = 888.888916015625\n",
      "Step 15: t = 875.0\n",
      "Step 16: t = 859.6491088867188\n",
      "Step 17: t = 842.5925903320312\n",
      "Step 18: t = 823.5294189453125\n",
      "Step 19: t = 802.0833129882812\n",
      "Step 20: t = 777.77783203125\n",
      "Step 21: t = 750.0\n",
      "Step 22: t = 717.94873046875\n",
      "Step 23: t = 680.5556030273438\n",
      "Step 24: t = 636.3637084960938\n",
      "Step 25: t = 583.3333740234375\n",
      "Step 26: t = 518.5184936523438\n",
      "Step 27: t = 437.5000305175781\n",
      "Step 28: t = 333.3333435058594\n",
      "Step 29: t = 194.44444274902344\n"
     ]
    },
    {
     "name": "stderr",
     "output_type": "stream",
     "text": [
      "100%|██████████| 30/30 [00:49<00:00,  1.64s/it]\n",
      "\u001b[32m2025-01-14 20:37:23.031\u001b[0m | \u001b[1mINFO    \u001b[0m | \u001b[36mhyvideo.inference\u001b[0m:\u001b[36mpredict\u001b[0m:\u001b[36m684\u001b[0m - \u001b[1mSuccess, time: 67.84050464630127\u001b[0m\n",
      "huggingface/tokenizers: The current process just got forked, after parallelism has already been used. Disabling parallelism to avoid deadlocks...\n",
      "To disable this warning, you can either:\n",
      "\t- Avoid using `tokenizers` before the fork if possible\n",
      "\t- Explicitly set the environment variable TOKENIZERS_PARALLELISM=(true | false)\n",
      "\u001b[32m2025-01-14 20:37:24.919\u001b[0m | \u001b[1mINFO    \u001b[0m | \u001b[36m__main__\u001b[0m:\u001b[36mmain\u001b[0m:\u001b[36m57\u001b[0m - \u001b[1mSample save to: ./results/2025-01-14-20:37:23_seed42_A cat walks on the grass, realistic style..mp4\u001b[0m\n"
     ]
    }
   ],
   "source": [
    "%run sample_video.py \\\n",
    "    --dit-weight \"/home/chx/mySrc/HunyuanVideo/ckpts/hunyuan-video-t2v-720p/transformers/mp_rank_00_model_states_fp8.pt\" \\\n",
    "    --video-size 512 512 \\\n",
    "    --video-length 25 \\\n",
    "    --infer-steps 30 \\\n",
    "    --prompt \"A cat walks on the grass, realistic style.\" \\\n",
    "    --seed 42 \\\n",
    "    --embedded-cfg-scale 6.0 \\\n",
    "    --flow-shift 7.0 \\\n",
    "    --flow-reverse \\\n",
    "    --use-cpu-offload \\\n",
    "    --use-fp8 \\\n",
    "    --save-path ./results"
   ]
  },
  {
   "cell_type": "code",
   "execution_count": null,
   "metadata": {},
   "outputs": [],
   "source": []
  }
 ],
 "metadata": {
  "kernelspec": {
   "display_name": "HunyuanVideo-std",
   "language": "python",
   "name": "python3"
  },
  "language_info": {
   "codemirror_mode": {
    "name": "ipython",
    "version": 3
   },
   "file_extension": ".py",
   "mimetype": "text/x-python",
   "name": "python",
   "nbconvert_exporter": "python",
   "pygments_lexer": "ipython3",
   "version": "3.10.9"
  }
 },
 "nbformat": 4,
 "nbformat_minor": 2
}
