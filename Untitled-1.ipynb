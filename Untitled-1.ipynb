{
 "cells": [
  {
   "cell_type": "code",
   "execution_count": null,
   "metadata": {},
   "outputs": [],
   "source": [
    "%run sample_video.py \\\n",
    "    --dit-weight \"/home/chx/mySrc/HunyuanVideo/ckpts/hunyuan-video-t2v-720p/transformers/mp_rank_00_model_states_fp8.pt\" \\\n",
    "    --video-size 512 512 \\\n",
    "    --video-length 49 \\\n",
    "    --infer-steps 30 \\\n",
    "    --prompt \"A cat walks on the grass, realistic style.\" \\\n",
    "    --seed 42 \\\n",
    "    --embedded-cfg-scale 6.0 \\\n",
    "    --flow-shift 7.0 \\\n",
    "    --flow-reverse \\\n",
    "    --use-cpu-offload \\\n",
    "    --use-fp8 \\\n",
    "    --save-path ./results"
   ]
  }
 ],
 "metadata": {
  "kernelspec": {
   "display_name": "HunyuanVideo-std",
   "language": "python",
   "name": "python3"
  },
  "language_info": {
   "codemirror_mode": {
    "name": "ipython",
    "version": 3
   },
   "file_extension": ".py",
   "mimetype": "text/x-python",
   "name": "python",
   "nbconvert_exporter": "python",
   "pygments_lexer": "ipython3",
   "version": "3.10.9"
  }
 },
 "nbformat": 4,
 "nbformat_minor": 2
}
