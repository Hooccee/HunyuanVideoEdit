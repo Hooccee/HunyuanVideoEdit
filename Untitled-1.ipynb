{
 "cells": [
  {
   "cell_type": "code",
   "execution_count": 1,
   "metadata": {},
   "outputs": [
    {
     "name": "stderr",
     "output_type": "stream",
     "text": [
      "/data/chx/anaconda3/envs/HunyuanVideo-std/lib/python3.10/site-packages/tqdm/auto.py:21: TqdmWarning: IProgress not found. Please update jupyter and ipywidgets. See https://ipywidgets.readthedocs.io/en/stable/user_install.html\n",
      "  from .autonotebook import tqdm as notebook_tqdm\n",
      "\u001b[32m2025-04-25 00:34:40.828\u001b[0m | \u001b[1mINFO    \u001b[0m | \u001b[36mhyvideo.inference\u001b[0m:\u001b[36mfrom_pretrained\u001b[0m:\u001b[36m155\u001b[0m - \u001b[1mGot text-to-video model root path: ckpts\u001b[0m\n",
      "\u001b[32m2025-04-25 00:34:40.830\u001b[0m | \u001b[1mINFO    \u001b[0m | \u001b[36mhyvideo.inference\u001b[0m:\u001b[36mfrom_pretrained\u001b[0m:\u001b[36m190\u001b[0m - \u001b[1mBuilding model...\u001b[0m\n"
     ]
    },
    {
     "name": "stdout",
     "output_type": "stream",
     "text": [
      "detect you are not use the latest yunchang. Please install yunchang>=0.4.0\n",
      "{'apply_final_norm': False,\n",
      " 'batch_size': 1,\n",
      " 'cfg_scale': 1.0,\n",
      " 'dataset': None,\n",
      " 'denoise_type': 'flow',\n",
      " 'disable_autocast': False,\n",
      " 'dit_weight': '/home/chx/mySrc/HunyuanVideo/ckpts/hunyuan-video-t2v-720p/transformers/mp_rank_00_model_states_fp8.pt',\n",
      " 'embedded_cfg_scale': 5.5,\n",
      " 'feature_path': 'feature',\n",
      " 'flow_reverse': True,\n",
      " 'flow_shift': 7.0,\n",
      " 'flow_solver': 'euler',\n",
      " 'hidden_state_skip_layer': 2,\n",
      " 'infer_steps': 28,\n",
      " 'inject': 0,\n",
      " 'inverse_video_path': '/data/chx/V2VBench/videos/moonwalk.mp4',\n",
      " 'latent_channels': 16,\n",
      " 'linear_schedule_end': 25,\n",
      " 'load_key': 'module',\n",
      " 'model': 'HYVideo-T/2-cfgdistill',\n",
      " 'model_base': 'ckpts',\n",
      " 'model_resolution': '540p',\n",
      " 'name_suffix': '',\n",
      " 'neg_prompt': None,\n",
      " 'num_samples': None,\n",
      " 'num_videos': 1,\n",
      " 'precision': 'bf16',\n",
      " 'prompt': 'a man in a white shirt and black pants wearing gray sneakers '\n",
      "           'performing the moonwalk dance',\n",
      " 'prompt_template': 'dit-llm-encode',\n",
      " 'prompt_template_video': 'dit-llm-encode-video',\n",
      " 'reproduce': False,\n",
      " 'ring_degree': 1,\n",
      " 'rope_theta': 256,\n",
      " 'save_path': './results/FlowEdit',\n",
      " 'save_path_suffix': '',\n",
      " 'seed': 42,\n",
      " 'seed_type': 'auto',\n",
      " 'subset_range': None,\n",
      " 'target_prompt': \"a spyder man in Spider-Man's Suit performing the moonwalk \"\n",
      "                  'dance',\n",
      " 'text_encoder': 'llm',\n",
      " 'text_encoder_2': 'clipL',\n",
      " 'text_encoder_precision': 'fp16',\n",
      " 'text_encoder_precision_2': 'fp16',\n",
      " 'text_len': 256,\n",
      " 'text_len_2': 77,\n",
      " 'text_states_dim': 4096,\n",
      " 'text_states_dim_2': 768,\n",
      " 'tokenizer': 'llm',\n",
      " 'tokenizer_2': 'clipL',\n",
      " 'ulysses_degree': 1,\n",
      " 'use_cpu_offload': True,\n",
      " 'use_fp8': True,\n",
      " 'use_linear_quadratic_schedule': False,\n",
      " 'vae': '884-16c-hy',\n",
      " 'vae_precision': 'fp16',\n",
      " 'vae_tiling': True,\n",
      " 'video_length': 25,\n",
      " 'video_size': [512, 512]}\n",
      "cuda\n"
     ]
    },
    {
     "name": "stderr",
     "output_type": "stream",
     "text": [
      "/home/chx/mySrc/HunyuanVideo/hyvideo/modules/fp8_optimization.py:88: FutureWarning: You are using `torch.load` with `weights_only=False` (the current default value), which uses the default pickle module implicitly. It is possible to construct malicious pickle data which will execute arbitrary code during unpickling (See https://github.com/pytorch/pytorch/blob/main/SECURITY.md#untrusted-models for more details). In a future release, the default value for `weights_only` will be flipped to `True`. This limits the functions that could be executed during unpickling. Arbitrary objects will no longer be allowed to be loaded via this mode unless they are explicitly allowlisted by the user via `torch.serialization.add_safe_globals`. We recommend you start setting `weights_only=True` for any use case where you don't have full control of the loaded file. Please open an issue on GitHub for any issues related to this experimental feature.\n",
      "  fp8_map = torch.load(fp8_map_path, map_location=lambda storage, loc: storage)\n",
      "\u001b[32m2025-04-25 00:37:05.158\u001b[0m | \u001b[1mINFO    \u001b[0m | \u001b[36mhyvideo.inference\u001b[0m:\u001b[36mload_state_dict\u001b[0m:\u001b[36m345\u001b[0m - \u001b[1mLoading torch model /home/chx/mySrc/HunyuanVideo/ckpts/hunyuan-video-t2v-720p/transformers/mp_rank_00_model_states_fp8.pt...\u001b[0m\n",
      "/home/chx/mySrc/HunyuanVideo/hyvideo/inference.py:346: FutureWarning: You are using `torch.load` with `weights_only=False` (the current default value), which uses the default pickle module implicitly. It is possible to construct malicious pickle data which will execute arbitrary code during unpickling (See https://github.com/pytorch/pytorch/blob/main/SECURITY.md#untrusted-models for more details). In a future release, the default value for `weights_only` will be flipped to `True`. This limits the functions that could be executed during unpickling. Arbitrary objects will no longer be allowed to be loaded via this mode unless they are explicitly allowlisted by the user via `torch.serialization.add_safe_globals`. We recommend you start setting `weights_only=True` for any use case where you don't have full control of the loaded file. Please open an issue on GitHub for any issues related to this experimental feature.\n",
      "  state_dict = torch.load(model_path, map_location=lambda storage, loc: storage)\n",
      "\u001b[32m2025-04-25 00:37:14.400\u001b[0m | \u001b[1mINFO    \u001b[0m | \u001b[36mhyvideo.vae\u001b[0m:\u001b[36mload_vae\u001b[0m:\u001b[36m29\u001b[0m - \u001b[1mLoading 3D VAE model (884-16c-hy) from: ./ckpts/hunyuan-video-t2v-720p/vae\u001b[0m\n"
     ]
    },
    {
     "name": "stdout",
     "output_type": "stream",
     "text": [
      "loading vae\n"
     ]
    },
    {
     "name": "stderr",
     "output_type": "stream",
     "text": [
      "/home/chx/mySrc/HunyuanVideo/hyvideo/vae/__init__.py:39: FutureWarning: You are using `torch.load` with `weights_only=False` (the current default value), which uses the default pickle module implicitly. It is possible to construct malicious pickle data which will execute arbitrary code during unpickling (See https://github.com/pytorch/pytorch/blob/main/SECURITY.md#untrusted-models for more details). In a future release, the default value for `weights_only` will be flipped to `True`. This limits the functions that could be executed during unpickling. Arbitrary objects will no longer be allowed to be loaded via this mode unless they are explicitly allowlisted by the user via `torch.serialization.add_safe_globals`. We recommend you start setting `weights_only=True` for any use case where you don't have full control of the loaded file. Please open an issue on GitHub for any issues related to this experimental feature.\n",
      "  ckpt = torch.load(vae_ckpt, map_location=vae.device)\n",
      "\u001b[32m2025-04-25 00:37:17.917\u001b[0m | \u001b[1mINFO    \u001b[0m | \u001b[36mhyvideo.vae\u001b[0m:\u001b[36mload_vae\u001b[0m:\u001b[36m55\u001b[0m - \u001b[1mVAE to dtype: torch.float16\u001b[0m\n",
      "\u001b[32m2025-04-25 00:37:17.922\u001b[0m | \u001b[1mINFO    \u001b[0m | \u001b[36mhyvideo.text_encoder\u001b[0m:\u001b[36mload_text_encoder\u001b[0m:\u001b[36m28\u001b[0m - \u001b[1mLoading text encoder model (llm) from: ./ckpts/text_encoder\u001b[0m\n",
      "Loading checkpoint shards: 100%|██████████| 4/4 [00:04<00:00,  1.17s/it]\n",
      "\u001b[32m2025-04-25 00:37:26.588\u001b[0m | \u001b[1mINFO    \u001b[0m | \u001b[36mhyvideo.text_encoder\u001b[0m:\u001b[36mload_text_encoder\u001b[0m:\u001b[36m50\u001b[0m - \u001b[1mText encoder to dtype: torch.float16\u001b[0m\n",
      "\u001b[32m2025-04-25 00:37:26.592\u001b[0m | \u001b[1mINFO    \u001b[0m | \u001b[36mhyvideo.text_encoder\u001b[0m:\u001b[36mload_tokenizer\u001b[0m:\u001b[36m64\u001b[0m - \u001b[1mLoading tokenizer (llm) from: ./ckpts/text_encoder\u001b[0m\n",
      "\u001b[32m2025-04-25 00:37:27.043\u001b[0m | \u001b[1mINFO    \u001b[0m | \u001b[36mhyvideo.text_encoder\u001b[0m:\u001b[36mload_text_encoder\u001b[0m:\u001b[36m28\u001b[0m - \u001b[1mLoading text encoder model (clipL) from: ./ckpts/text_encoder_2\u001b[0m\n",
      "\u001b[32m2025-04-25 00:37:27.532\u001b[0m | \u001b[1mINFO    \u001b[0m | \u001b[36mhyvideo.text_encoder\u001b[0m:\u001b[36mload_text_encoder\u001b[0m:\u001b[36m50\u001b[0m - \u001b[1mText encoder to dtype: torch.float16\u001b[0m\n",
      "\u001b[32m2025-04-25 00:37:27.534\u001b[0m | \u001b[1mINFO    \u001b[0m | \u001b[36mhyvideo.text_encoder\u001b[0m:\u001b[36mload_tokenizer\u001b[0m:\u001b[36m64\u001b[0m - \u001b[1mLoading tokenizer (clipL) from: ./ckpts/text_encoder_2\u001b[0m\n",
      "\u001b[32m2025-04-25 00:37:27.773\u001b[0m | \u001b[1mINFO    \u001b[0m | \u001b[36m__main__\u001b[0m:\u001b[36mmain\u001b[0m:\u001b[36m74\u001b[0m - \u001b[1mLoaded single video tensor with shape: torch.Size([1, 3, 25, 512, 512])\u001b[0m\n",
      "\u001b[32m2025-04-25 00:37:27.774\u001b[0m | \u001b[1mINFO    \u001b[0m | \u001b[36mhyvideo.inference\u001b[0m:\u001b[36mpredict\u001b[0m:\u001b[36m605\u001b[0m - \u001b[1mInput (height, width, video_length) = (512, 512, 25)\u001b[0m\n"
     ]
    },
    {
     "name": "stdout",
     "output_type": "stream",
     "text": [
      "Enable sequential CPU offload.\n",
      "Updated args:\n",
      "{'apply_final_norm': False,\n",
      " 'batch_size': 1,\n",
      " 'cfg_scale': 1.0,\n",
      " 'dataset': None,\n",
      " 'denoise_type': 'flow',\n",
      " 'disable_autocast': False,\n",
      " 'dit_weight': '/home/chx/mySrc/HunyuanVideo/ckpts/hunyuan-video-t2v-720p/transformers/mp_rank_00_model_states_fp8.pt',\n",
      " 'embedded_cfg_scale': 5.5,\n",
      " 'feature_path': 'feature',\n",
      " 'flow_reverse': True,\n",
      " 'flow_shift': 7.0,\n",
      " 'flow_solver': 'euler',\n",
      " 'hidden_state_skip_layer': 2,\n",
      " 'infer_steps': 28,\n",
      " 'inject': 0,\n",
      " 'inverse_video_path': '/data/chx/V2VBench/videos/moonwalk.mp4',\n",
      " 'latent_channels': 16,\n",
      " 'linear_schedule_end': 25,\n",
      " 'load_key': 'module',\n",
      " 'model': 'HYVideo-T/2-cfgdistill',\n",
      " 'model_base': 'ckpts',\n",
      " 'model_resolution': '540p',\n",
      " 'name_suffix': '',\n",
      " 'neg_prompt': None,\n",
      " 'num_samples': None,\n",
      " 'num_videos': 1,\n",
      " 'precision': 'bf16',\n",
      " 'prompt': 'a man in a white shirt and black pants wearing gray sneakers '\n",
      "           'performing the moonwalk dance',\n",
      " 'prompt_template': 'dit-llm-encode',\n",
      " 'prompt_template_video': 'dit-llm-encode-video',\n",
      " 'reproduce': False,\n",
      " 'ring_degree': 1,\n",
      " 'rope_theta': 256,\n",
      " 'save_path': './results/FlowEdit',\n",
      " 'save_path_suffix': '',\n",
      " 'seed': 42,\n",
      " 'seed_type': 'auto',\n",
      " 'subset_range': None,\n",
      " 'target_prompt': \"a spyder man in Spider-Man's Suit performing the moonwalk \"\n",
      "                  'dance',\n",
      " 'text_encoder': 'llm',\n",
      " 'text_encoder_2': 'clipL',\n",
      " 'text_encoder_precision': 'fp16',\n",
      " 'text_encoder_precision_2': 'fp16',\n",
      " 'text_len': 256,\n",
      " 'text_len_2': 77,\n",
      " 'text_states_dim': 4096,\n",
      " 'text_states_dim_2': 768,\n",
      " 'tokenizer': 'llm',\n",
      " 'tokenizer_2': 'clipL',\n",
      " 'ulysses_degree': 1,\n",
      " 'use_cpu_offload': True,\n",
      " 'use_fp8': True,\n",
      " 'use_linear_quadratic_schedule': False,\n",
      " 'vae': '884-16c-hy',\n",
      " 'vae_precision': 'fp16',\n",
      " 'vae_tiling': True,\n",
      " 'video_length': 25,\n",
      " 'video_size': [512, 512]}\n"
     ]
    },
    {
     "name": "stderr",
     "output_type": "stream",
     "text": [
      "\u001b[32m2025-04-25 00:37:27.974\u001b[0m | \u001b[34m\u001b[1mDEBUG   \u001b[0m | \u001b[36mhyvideo.inference\u001b[0m:\u001b[36mpredict\u001b[0m:\u001b[36m665\u001b[0m - \u001b[34m\u001b[1m\n",
      "                        height: 512\n",
      "                         width: 512\n",
      "                  video_length: 25\n",
      "                        prompt: ['a man in a white shirt and black pants wearing gray sneakers performing the moonwalk dance']\n",
      "                    neg_prompt: ['Aerial view, aerial view, overexposed, low quality, deformation, a poor composition, bad hands, bad teeth, bad eyes, bad limbs, distortion']\n",
      "                          seed: 42\n",
      "                   infer_steps: 28\n",
      "         num_videos_per_prompt: 1\n",
      "                guidance_scale: 1.0\n",
      "                      n_tokens: 7168\n",
      "                    flow_shift: 7.0\n",
      "       embedded_guidance_scale: 5.5\u001b[0m\n"
     ]
    },
    {
     "name": "stdout",
     "output_type": "stream",
     "text": [
      "cuda:0\n",
      "cuda:0\n",
      "cuda:0\n",
      "cuda:0\n",
      "sigmas: tensor([1.0000, 0.9947, 0.9891, 0.9831, 0.9767, 0.9699, 0.9625, 0.9545, 0.9459,\n",
      "        0.9366, 0.9265, 0.9154, 0.9032, 0.8898, 0.8750, 0.8585, 0.8400, 0.8191,\n",
      "        0.7955, 0.7683, 0.7368, 0.7000, 0.6562, 0.6034, 0.5385, 0.4565, 0.3500,\n",
      "        0.2059, 0.0000])\n",
      "Using inversed latents\n",
      "Step 0: t = 1000.0\n",
      "Step 1: t = 994.7368774414062\n",
      "Step 2: t = 989.1304931640625\n",
      "Step 3: t = 983.1460571289062\n",
      "Step 4: t = 976.7442016601562\n",
      "Step 5: t = 969.8795776367188\n",
      "Step 6: t = 962.5\n",
      "Step 7: t = 954.54541015625\n",
      "Step 8: t = 945.9459838867188\n",
      "Step 9: t = 936.6197509765625\n",
      "Step 10: t = 926.4705810546875\n",
      "Step 11: t = 915.3846435546875\n",
      "Step 12: t = 903.2257690429688\n",
      "Step 13: t = 889.8304443359375\n",
      "Step 14: t = 875.0\n",
      "Step 15: t = 858.4905395507812\n",
      "Step 16: t = 840.0000610351562\n",
      "Step 17: t = 819.1490478515625\n",
      "Step 18: t = 795.45458984375\n",
      "Step 19: t = 768.2926635742188\n",
      "Step 20: t = 736.8421020507812\n",
      "Step 21: t = 700.0\n",
      "Step 22: t = 656.25\n",
      "Step 23: t = 603.4482421875\n",
      "Step 24: t = 538.4614868164062\n",
      "Step 25: t = 456.5217590332031\n",
      "Step 26: t = 350.0\n",
      "Step 27: t = 205.88235473632812\n"
     ]
    },
    {
     "name": "stderr",
     "output_type": "stream",
     "text": [
      "  4%|▎         | 1/28 [00:03<01:28,  3.27s/it]"
     ]
    },
    {
     "name": "stdout",
     "output_type": "stream",
     "text": [
      "index: 0.9767441749572754,index+1: 0.9698795676231384\n"
     ]
    },
    {
     "name": "stderr",
     "output_type": "stream",
     "text": [
      "  7%|▋         | 2/28 [00:06<01:23,  3.21s/it]"
     ]
    },
    {
     "name": "stdout",
     "output_type": "stream",
     "text": [
      "index: 0.9698795676231384,index+1: 0.9624999761581421\n"
     ]
    },
    {
     "name": "stderr",
     "output_type": "stream",
     "text": [
      " 11%|█         | 3/28 [00:09<01:19,  3.20s/it]"
     ]
    },
    {
     "name": "stdout",
     "output_type": "stream",
     "text": [
      "index: 0.9624999761581421,index+1: 0.9545454382896423\n"
     ]
    },
    {
     "name": "stderr",
     "output_type": "stream",
     "text": [
      " 14%|█▍        | 4/28 [00:12<01:16,  3.19s/it]"
     ]
    },
    {
     "name": "stdout",
     "output_type": "stream",
     "text": [
      "index: 0.9545454382896423,index+1: 0.9459459781646729\n"
     ]
    },
    {
     "name": "stderr",
     "output_type": "stream",
     "text": [
      " 18%|█▊        | 5/28 [00:15<01:13,  3.18s/it]"
     ]
    },
    {
     "name": "stdout",
     "output_type": "stream",
     "text": [
      "index: 0.9459459781646729,index+1: 0.936619758605957\n"
     ]
    },
    {
     "name": "stderr",
     "output_type": "stream",
     "text": [
      " 21%|██▏       | 6/28 [00:19<01:10,  3.18s/it]"
     ]
    },
    {
     "name": "stdout",
     "output_type": "stream",
     "text": [
      "index: 0.936619758605957,index+1: 0.9264705777168274\n"
     ]
    },
    {
     "name": "stderr",
     "output_type": "stream",
     "text": [
      " 25%|██▌       | 7/28 [00:22<01:06,  3.18s/it]"
     ]
    },
    {
     "name": "stdout",
     "output_type": "stream",
     "text": [
      "index: 0.9264705777168274,index+1: 0.9153846502304077\n"
     ]
    },
    {
     "name": "stderr",
     "output_type": "stream",
     "text": [
      " 29%|██▊       | 8/28 [00:25<01:03,  3.18s/it]"
     ]
    },
    {
     "name": "stdout",
     "output_type": "stream",
     "text": [
      "index: 0.9153846502304077,index+1: 0.9032257795333862\n"
     ]
    },
    {
     "name": "stderr",
     "output_type": "stream",
     "text": [
      " 32%|███▏      | 9/28 [00:28<01:00,  3.18s/it]"
     ]
    },
    {
     "name": "stdout",
     "output_type": "stream",
     "text": [
      "index: 0.9032257795333862,index+1: 0.889830470085144\n"
     ]
    },
    {
     "name": "stderr",
     "output_type": "stream",
     "text": [
      " 36%|███▌      | 10/28 [00:31<00:57,  3.18s/it]"
     ]
    },
    {
     "name": "stdout",
     "output_type": "stream",
     "text": [
      "index: 0.889830470085144,index+1: 0.875\n"
     ]
    },
    {
     "name": "stderr",
     "output_type": "stream",
     "text": [
      " 39%|███▉      | 11/28 [00:35<00:53,  3.18s/it]"
     ]
    },
    {
     "name": "stdout",
     "output_type": "stream",
     "text": [
      "index: 0.875,index+1: 0.858490526676178\n"
     ]
    },
    {
     "name": "stderr",
     "output_type": "stream",
     "text": [
      " 43%|████▎     | 12/28 [00:38<00:50,  3.17s/it]"
     ]
    },
    {
     "name": "stdout",
     "output_type": "stream",
     "text": [
      "index: 0.858490526676178,index+1: 0.8400000333786011\n"
     ]
    },
    {
     "name": "stderr",
     "output_type": "stream",
     "text": [
      " 46%|████▋     | 13/28 [00:41<00:47,  3.18s/it]"
     ]
    },
    {
     "name": "stdout",
     "output_type": "stream",
     "text": [
      "index: 0.8400000333786011,index+1: 0.8191490173339844\n"
     ]
    },
    {
     "name": "stderr",
     "output_type": "stream",
     "text": [
      " 50%|█████     | 14/28 [00:44<00:44,  3.18s/it]"
     ]
    },
    {
     "name": "stdout",
     "output_type": "stream",
     "text": [
      "index: 0.8191490173339844,index+1: 0.7954545617103577\n"
     ]
    },
    {
     "name": "stderr",
     "output_type": "stream",
     "text": [
      " 54%|█████▎    | 15/28 [00:47<00:41,  3.18s/it]"
     ]
    },
    {
     "name": "stdout",
     "output_type": "stream",
     "text": [
      "index: 0.7954545617103577,index+1: 0.7682926654815674\n"
     ]
    },
    {
     "name": "stderr",
     "output_type": "stream",
     "text": [
      " 57%|█████▋    | 16/28 [00:50<00:38,  3.18s/it]"
     ]
    },
    {
     "name": "stdout",
     "output_type": "stream",
     "text": [
      "index: 0.7682926654815674,index+1: 0.7368420958518982\n"
     ]
    },
    {
     "name": "stderr",
     "output_type": "stream",
     "text": [
      " 61%|██████    | 17/28 [00:54<00:35,  3.19s/it]"
     ]
    },
    {
     "name": "stdout",
     "output_type": "stream",
     "text": [
      "index: 0.7368420958518982,index+1: 0.699999988079071\n"
     ]
    },
    {
     "name": "stderr",
     "output_type": "stream",
     "text": [
      " 64%|██████▍   | 18/28 [00:57<00:31,  3.19s/it]"
     ]
    },
    {
     "name": "stdout",
     "output_type": "stream",
     "text": [
      "index: 0.699999988079071,index+1: 0.65625\n"
     ]
    },
    {
     "name": "stderr",
     "output_type": "stream",
     "text": [
      " 68%|██████▊   | 19/28 [01:00<00:28,  3.19s/it]"
     ]
    },
    {
     "name": "stdout",
     "output_type": "stream",
     "text": [
      "index: 0.65625,index+1: 0.6034482717514038\n"
     ]
    },
    {
     "name": "stderr",
     "output_type": "stream",
     "text": [
      " 71%|███████▏  | 20/28 [01:03<00:25,  3.19s/it]"
     ]
    },
    {
     "name": "stdout",
     "output_type": "stream",
     "text": [
      "index: 0.6034482717514038,index+1: 0.5384615063667297\n"
     ]
    },
    {
     "name": "stderr",
     "output_type": "stream",
     "text": [
      " 75%|███████▌  | 21/28 [01:06<00:22,  3.19s/it]"
     ]
    },
    {
     "name": "stdout",
     "output_type": "stream",
     "text": [
      "index: 0.5384615063667297,index+1: 0.45652174949645996\n"
     ]
    },
    {
     "name": "stderr",
     "output_type": "stream",
     "text": [
      " 79%|███████▊  | 22/28 [01:10<00:19,  3.19s/it]"
     ]
    },
    {
     "name": "stdout",
     "output_type": "stream",
     "text": [
      "index: 0.45652174949645996,index+1: 0.3499999940395355\n"
     ]
    },
    {
     "name": "stderr",
     "output_type": "stream",
     "text": [
      " 82%|████████▏ | 23/28 [01:13<00:15,  3.20s/it]"
     ]
    },
    {
     "name": "stdout",
     "output_type": "stream",
     "text": [
      "index: 0.3499999940395355,index+1: 0.20588235557079315\n"
     ]
    },
    {
     "name": "stderr",
     "output_type": "stream",
     "text": [
      " 86%|████████▌ | 24/28 [01:16<00:12,  3.19s/it]"
     ]
    },
    {
     "name": "stdout",
     "output_type": "stream",
     "text": [
      "index: 0.20588235557079315,index+1: 0.0\n"
     ]
    },
    {
     "name": "stderr",
     "output_type": "stream",
     "text": [
      "\n",
      "\u001b[32m2025-04-25 00:39:07.172\u001b[0m | \u001b[1mINFO    \u001b[0m | \u001b[36mhyvideo.inference\u001b[0m:\u001b[36mpredict\u001b[0m:\u001b[36m709\u001b[0m - \u001b[1mSuccess, time: 99.19801163673401\u001b[0m\n",
      "huggingface/tokenizers: The current process just got forked, after parallelism has already been used. Disabling parallelism to avoid deadlocks...\n",
      "To disable this warning, you can either:\n",
      "\t- Avoid using `tokenizers` before the fork if possible\n",
      "\t- Explicitly set the environment variable TOKENIZERS_PARALLELISM=(true | false)\n",
      "\u001b[32m2025-04-25 00:39:08.945\u001b[0m | \u001b[1mINFO    \u001b[0m | \u001b[36m__main__\u001b[0m:\u001b[36mprocess_sample\u001b[0m:\u001b[36m175\u001b[0m - \u001b[1m保存单次结果到: ./results/FlowEdit/moonwalk_single_video_20250425-003907_s42.mp4\u001b[0m\n",
      "\u001b[32m2025-04-25 00:39:08.954\u001b[0m | \u001b[1mINFO    \u001b[0m | \u001b[36m__main__\u001b[0m:\u001b[36mmain\u001b[0m:\u001b[36m200\u001b[0m - \u001b[1m单视频处理完成\u001b[0m\n"
     ]
    }
   ],
   "source": [
    "%run edit_video2.py \\\n",
    "    --dit-weight \"/home/chx/mySrc/HunyuanVideo/ckpts/hunyuan-video-t2v-720p/transformers/mp_rank_00_model_states_fp8.pt\" \\\n",
    "    --video-size 512 512 \\\n",
    "    --video-length 25 \\\n",
    "    --infer-steps 28 \\\n",
    "    --prompt \"a man in a white shirt and black pants wearing gray sneakers performing the moonwalk dance\" \\\n",
    "    --target-prompt \"a spyder man in Spider-Man's Suit performing the moonwalk dance\" \\\n",
    "    --inject 0 \\\n",
    "    --seed 42 \\\n",
    "    --embedded-cfg-scale 5.5 \\\n",
    "    --flow-shift 7.0 \\\n",
    "    --flow-reverse \\\n",
    "    --use-cpu-offload \\\n",
    "    --use-fp8 \\\n",
    "    --save-path ./results/FlowEdit \\\n",
    "    --inverse-video-path \"/data/chx/V2VBench/videos/moonwalk.mp4\""
   ]
  },
  {
   "cell_type": "code",
   "execution_count": null,
   "metadata": {},
   "outputs": [],
   "source": []
  }
 ],
 "metadata": {
  "kernelspec": {
   "display_name": "HunyuanVideo-std",
   "language": "python",
   "name": "python3"
  },
  "language_info": {
   "codemirror_mode": {
    "name": "ipython",
    "version": 3
   },
   "file_extension": ".py",
   "mimetype": "text/x-python",
   "name": "python",
   "nbconvert_exporter": "python",
   "pygments_lexer": "ipython3",
   "version": "3.10.9"
  }
 },
 "nbformat": 4,
 "nbformat_minor": 2
}
